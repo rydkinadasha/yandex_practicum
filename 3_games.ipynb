{
 "cells": [
  {
   "cell_type": "markdown",
   "id": "53838da8",
   "metadata": {},
   "source": [
    "# Сборный проект-1"
   ]
  },
  {
   "cell_type": "markdown",
   "id": "967a3aa1",
   "metadata": {},
   "source": [
    "## Описание проекта"
   ]
  },
  {
   "cell_type": "markdown",
   "id": "c893731a",
   "metadata": {},
   "source": [
    "Вы работаете в интернет-магазине «Стримчик», который продаёт по всему миру компьютерные игры. Из открытых источников доступны исторические данные о продажах игр, оценки пользователей и экспертов, жанры и платформы (например, Xbox или PlayStation). Вам нужно выявить определяющие успешность игры закономерности. Это позволит сделать ставку на потенциально популярный продукт и спланировать рекламные кампании.\n",
    "Перед вами данные до 2016 года. Представим, что сейчас декабрь 2016 г., и вы планируете кампанию на 2017-й. Нужно отработать принцип работы с данными. Неважно, прогнозируете ли вы продажи на 2017 год по данным 2016-го или же 2027-й — по данным 2026 года.\n",
    "В наборе данных попадается аббревиатура ESRB (Entertainment Software Rating Board) — это ассоциация, определяющая возрастной рейтинг компьютерных игр. ESRB оценивает игровой контент и присваивает ему подходящую возрастную категорию, например, «Для взрослых», «Для детей младшего возраста» или «Для подростков»."
   ]
  },
  {
   "cell_type": "markdown",
   "id": "7ce736da",
   "metadata": {},
   "source": [
    "# Обзор данных"
   ]
  },
  {
   "cell_type": "code",
   "execution_count": 1,
   "id": "d54df34d",
   "metadata": {},
   "outputs": [],
   "source": [
    "import pandas as pd\n",
    "import matplotlib.pyplot as plt\n",
    "from matplotlib.pyplot import figure\n",
    "from scipy import stats as st\n",
    "import numpy as np\n",
    "import seaborn as sns"
   ]
  },
  {
   "cell_type": "code",
   "execution_count": 2,
   "id": "17558a53",
   "metadata": {},
   "outputs": [],
   "source": [
    "# df = pd.read_csv('yandex_games_project_data.csv')\n",
    "df = pd.read_csv('/datasets/games.csv')"
   ]
  },
  {
   "cell_type": "code",
   "execution_count": 3,
   "id": "5abdab7f",
   "metadata": {},
   "outputs": [
    {
     "data": {
      "text/html": [
       "<div>\n",
       "<style scoped>\n",
       "    .dataframe tbody tr th:only-of-type {\n",
       "        vertical-align: middle;\n",
       "    }\n",
       "\n",
       "    .dataframe tbody tr th {\n",
       "        vertical-align: top;\n",
       "    }\n",
       "\n",
       "    .dataframe thead th {\n",
       "        text-align: right;\n",
       "    }\n",
       "</style>\n",
       "<table border=\"1\" class=\"dataframe\">\n",
       "  <thead>\n",
       "    <tr style=\"text-align: right;\">\n",
       "      <th></th>\n",
       "      <th>Name</th>\n",
       "      <th>Platform</th>\n",
       "      <th>Year_of_Release</th>\n",
       "      <th>Genre</th>\n",
       "      <th>NA_sales</th>\n",
       "      <th>EU_sales</th>\n",
       "      <th>JP_sales</th>\n",
       "      <th>Other_sales</th>\n",
       "      <th>Critic_Score</th>\n",
       "      <th>User_Score</th>\n",
       "      <th>Rating</th>\n",
       "    </tr>\n",
       "  </thead>\n",
       "  <tbody>\n",
       "    <tr>\n",
       "      <td>0</td>\n",
       "      <td>Wii Sports</td>\n",
       "      <td>Wii</td>\n",
       "      <td>2006.0</td>\n",
       "      <td>Sports</td>\n",
       "      <td>41.36</td>\n",
       "      <td>28.96</td>\n",
       "      <td>3.77</td>\n",
       "      <td>8.45</td>\n",
       "      <td>76.0</td>\n",
       "      <td>8</td>\n",
       "      <td>E</td>\n",
       "    </tr>\n",
       "    <tr>\n",
       "      <td>1</td>\n",
       "      <td>Super Mario Bros.</td>\n",
       "      <td>NES</td>\n",
       "      <td>1985.0</td>\n",
       "      <td>Platform</td>\n",
       "      <td>29.08</td>\n",
       "      <td>3.58</td>\n",
       "      <td>6.81</td>\n",
       "      <td>0.77</td>\n",
       "      <td>NaN</td>\n",
       "      <td>NaN</td>\n",
       "      <td>NaN</td>\n",
       "    </tr>\n",
       "    <tr>\n",
       "      <td>2</td>\n",
       "      <td>Mario Kart Wii</td>\n",
       "      <td>Wii</td>\n",
       "      <td>2008.0</td>\n",
       "      <td>Racing</td>\n",
       "      <td>15.68</td>\n",
       "      <td>12.76</td>\n",
       "      <td>3.79</td>\n",
       "      <td>3.29</td>\n",
       "      <td>82.0</td>\n",
       "      <td>8.3</td>\n",
       "      <td>E</td>\n",
       "    </tr>\n",
       "    <tr>\n",
       "      <td>3</td>\n",
       "      <td>Wii Sports Resort</td>\n",
       "      <td>Wii</td>\n",
       "      <td>2009.0</td>\n",
       "      <td>Sports</td>\n",
       "      <td>15.61</td>\n",
       "      <td>10.93</td>\n",
       "      <td>3.28</td>\n",
       "      <td>2.95</td>\n",
       "      <td>80.0</td>\n",
       "      <td>8</td>\n",
       "      <td>E</td>\n",
       "    </tr>\n",
       "    <tr>\n",
       "      <td>4</td>\n",
       "      <td>Pokemon Red/Pokemon Blue</td>\n",
       "      <td>GB</td>\n",
       "      <td>1996.0</td>\n",
       "      <td>Role-Playing</td>\n",
       "      <td>11.27</td>\n",
       "      <td>8.89</td>\n",
       "      <td>10.22</td>\n",
       "      <td>1.00</td>\n",
       "      <td>NaN</td>\n",
       "      <td>NaN</td>\n",
       "      <td>NaN</td>\n",
       "    </tr>\n",
       "  </tbody>\n",
       "</table>\n",
       "</div>"
      ],
      "text/plain": [
       "                       Name Platform  Year_of_Release         Genre  NA_sales  \\\n",
       "0                Wii Sports      Wii           2006.0        Sports     41.36   \n",
       "1         Super Mario Bros.      NES           1985.0      Platform     29.08   \n",
       "2            Mario Kart Wii      Wii           2008.0        Racing     15.68   \n",
       "3         Wii Sports Resort      Wii           2009.0        Sports     15.61   \n",
       "4  Pokemon Red/Pokemon Blue       GB           1996.0  Role-Playing     11.27   \n",
       "\n",
       "   EU_sales  JP_sales  Other_sales  Critic_Score User_Score Rating  \n",
       "0     28.96      3.77         8.45          76.0          8      E  \n",
       "1      3.58      6.81         0.77           NaN        NaN    NaN  \n",
       "2     12.76      3.79         3.29          82.0        8.3      E  \n",
       "3     10.93      3.28         2.95          80.0          8      E  \n",
       "4      8.89     10.22         1.00           NaN        NaN    NaN  "
      ]
     },
     "execution_count": 3,
     "metadata": {},
     "output_type": "execute_result"
    }
   ],
   "source": [
    "df.head()"
   ]
  },
  {
   "cell_type": "code",
   "execution_count": 4,
   "id": "37ec1524",
   "metadata": {},
   "outputs": [
    {
     "name": "stdout",
     "output_type": "stream",
     "text": [
      "<class 'pandas.core.frame.DataFrame'>\n",
      "RangeIndex: 16715 entries, 0 to 16714\n",
      "Data columns (total 11 columns):\n",
      "Name               16713 non-null object\n",
      "Platform           16715 non-null object\n",
      "Year_of_Release    16446 non-null float64\n",
      "Genre              16713 non-null object\n",
      "NA_sales           16715 non-null float64\n",
      "EU_sales           16715 non-null float64\n",
      "JP_sales           16715 non-null float64\n",
      "Other_sales        16715 non-null float64\n",
      "Critic_Score       8137 non-null float64\n",
      "User_Score         10014 non-null object\n",
      "Rating             9949 non-null object\n",
      "dtypes: float64(6), object(5)\n",
      "memory usage: 1.4+ MB\n"
     ]
    }
   ],
   "source": [
    "df.info()"
   ]
  },
  {
   "cell_type": "markdown",
   "id": "3d94296b",
   "metadata": {},
   "source": [
    "Однозначно нужно переименовать колонки, а именно привести их названия к нижнему регистру. \n",
    "\n",
    "Пропуски имеются большинстве колонок:\n",
    "* `name`\n",
    "* `year_of_release`\n",
    "* `genre`\n",
    "* `critic_score`\n",
    "* `user_score`\n",
    "* `rating`\n",
    "\n",
    "Пропусков в первых трех колонках совсем не много и они имеет важное значение: название, год выпуска и жанр игры нам исключительно важно знать для анализа. Эти пропуски мы удалим и таким образом пожертвуем чуть менее, чем 300 строк. Что же касается пропусков в трех других колонках - мы либо с ними поработаем, либо оставим, как есть. \n",
    "\n",
    "Что же касается типов данных, `year_of_release` нужно привести целочисленному формату, а `user_score` к  формату _float_. Остальные данные останутся прежних типов. "
   ]
  },
  {
   "cell_type": "markdown",
   "id": "6ac8325b",
   "metadata": {},
   "source": [
    "# Предобработка данных"
   ]
  },
  {
   "cell_type": "markdown",
   "id": "84088019",
   "metadata": {},
   "source": [
    "## Приведение колонок к нижнему регистру"
   ]
  },
  {
   "cell_type": "code",
   "execution_count": 5,
   "id": "a176bc12",
   "metadata": {},
   "outputs": [],
   "source": [
    "df.columns=df.columns.str.lower()"
   ]
  },
  {
   "cell_type": "code",
   "execution_count": 6,
   "id": "1e5b8968",
   "metadata": {},
   "outputs": [
    {
     "data": {
      "text/plain": [
       "Index(['name', 'platform', 'year_of_release', 'genre', 'na_sales', 'eu_sales',\n",
       "       'jp_sales', 'other_sales', 'critic_score', 'user_score', 'rating'],\n",
       "      dtype='object')"
      ]
     },
     "execution_count": 6,
     "metadata": {},
     "output_type": "execute_result"
    }
   ],
   "source": [
    "df.columns"
   ]
  },
  {
   "cell_type": "markdown",
   "id": "854b2b66",
   "metadata": {},
   "source": [
    "## Поиск дубликатов"
   ]
  },
  {
   "cell_type": "markdown",
   "id": "91e803ae",
   "metadata": {},
   "source": [
    "До того, как мы удалим дубликаты и пропущенные значения, мы сохраним оригинальное количество строк в переменную _entries_before_. Это понадобится для того, чтобы оценить, каком количество строк нам пришлось пожертвовать на этапе предобработки. "
   ]
  },
  {
   "cell_type": "code",
   "execution_count": 7,
   "id": "00cd539e",
   "metadata": {},
   "outputs": [],
   "source": [
    "entries_before=len(df)"
   ]
  },
  {
   "cell_type": "code",
   "execution_count": 8,
   "id": "c0b49dcc",
   "metadata": {},
   "outputs": [
    {
     "data": {
      "text/plain": [
       "0"
      ]
     },
     "execution_count": 8,
     "metadata": {},
     "output_type": "execute_result"
    }
   ],
   "source": [
    "df.duplicated().sum()"
   ]
  },
  {
   "cell_type": "markdown",
   "id": "b4685366",
   "metadata": {},
   "source": [
    "Полных дубликатов, появившихся как следствие технической ошибки, нет, но стоит изучить колонки типа _object_, а также `year_of_release` на предмет дубликатов из-за человеческого фактора (по-разному записали одно и то же). "
   ]
  },
  {
   "cell_type": "code",
   "execution_count": 9,
   "id": "46e8bcae",
   "metadata": {},
   "outputs": [
    {
     "data": {
      "text/plain": [
       "Need for Speed: Most Wanted                       12\n",
       "Madden NFL 07                                      9\n",
       "LEGO Marvel Super Heroes                           9\n",
       "Ratatouille                                        9\n",
       "FIFA 14                                            9\n",
       "                                                  ..\n",
       "Record of Agarest War: Marriage                    1\n",
       "Marvel Superheroes 3D: Grandmaster's Challenge     1\n",
       "D.Gray-man: Kami no Shitotachi                     1\n",
       "WWF SmackDown!                                     1\n",
       "Yes! PreCure 5                                     1\n",
       "Name: name, Length: 11559, dtype: int64"
      ]
     },
     "execution_count": 9,
     "metadata": {},
     "output_type": "execute_result"
    }
   ],
   "source": [
    "df['name'].value_counts()"
   ]
  },
  {
   "cell_type": "code",
   "execution_count": 10,
   "id": "97c5fd92",
   "metadata": {},
   "outputs": [
    {
     "data": {
      "text/plain": [
       "11560"
      ]
     },
     "execution_count": 10,
     "metadata": {},
     "output_type": "execute_result"
    }
   ],
   "source": [
    "len(df['name'].unique())"
   ]
  },
  {
   "cell_type": "code",
   "execution_count": 11,
   "id": "f6422486",
   "metadata": {},
   "outputs": [
    {
     "data": {
      "text/html": [
       "<div>\n",
       "<style scoped>\n",
       "    .dataframe tbody tr th:only-of-type {\n",
       "        vertical-align: middle;\n",
       "    }\n",
       "\n",
       "    .dataframe tbody tr th {\n",
       "        vertical-align: top;\n",
       "    }\n",
       "\n",
       "    .dataframe thead th {\n",
       "        text-align: right;\n",
       "    }\n",
       "</style>\n",
       "<table border=\"1\" class=\"dataframe\">\n",
       "  <thead>\n",
       "    <tr style=\"text-align: right;\">\n",
       "      <th></th>\n",
       "      <th>name</th>\n",
       "      <th>platform</th>\n",
       "      <th>year_of_release</th>\n",
       "      <th>genre</th>\n",
       "      <th>na_sales</th>\n",
       "      <th>eu_sales</th>\n",
       "      <th>jp_sales</th>\n",
       "      <th>other_sales</th>\n",
       "      <th>critic_score</th>\n",
       "      <th>user_score</th>\n",
       "      <th>rating</th>\n",
       "    </tr>\n",
       "  </thead>\n",
       "  <tbody>\n",
       "    <tr>\n",
       "      <td>253</td>\n",
       "      <td>Need for Speed: Most Wanted</td>\n",
       "      <td>PS2</td>\n",
       "      <td>2005.0</td>\n",
       "      <td>Racing</td>\n",
       "      <td>2.03</td>\n",
       "      <td>1.79</td>\n",
       "      <td>0.08</td>\n",
       "      <td>0.47</td>\n",
       "      <td>82.0</td>\n",
       "      <td>9.1</td>\n",
       "      <td>T</td>\n",
       "    </tr>\n",
       "    <tr>\n",
       "      <td>523</td>\n",
       "      <td>Need for Speed: Most Wanted</td>\n",
       "      <td>PS3</td>\n",
       "      <td>2012.0</td>\n",
       "      <td>Racing</td>\n",
       "      <td>0.71</td>\n",
       "      <td>1.46</td>\n",
       "      <td>0.06</td>\n",
       "      <td>0.58</td>\n",
       "      <td>NaN</td>\n",
       "      <td>NaN</td>\n",
       "      <td>NaN</td>\n",
       "    </tr>\n",
       "    <tr>\n",
       "      <td>1190</td>\n",
       "      <td>Need for Speed: Most Wanted</td>\n",
       "      <td>X360</td>\n",
       "      <td>2012.0</td>\n",
       "      <td>Racing</td>\n",
       "      <td>0.62</td>\n",
       "      <td>0.78</td>\n",
       "      <td>0.01</td>\n",
       "      <td>0.15</td>\n",
       "      <td>83.0</td>\n",
       "      <td>8.5</td>\n",
       "      <td>T</td>\n",
       "    </tr>\n",
       "    <tr>\n",
       "      <td>1591</td>\n",
       "      <td>Need for Speed: Most Wanted</td>\n",
       "      <td>X360</td>\n",
       "      <td>2005.0</td>\n",
       "      <td>Racing</td>\n",
       "      <td>1.00</td>\n",
       "      <td>0.13</td>\n",
       "      <td>0.02</td>\n",
       "      <td>0.10</td>\n",
       "      <td>83.0</td>\n",
       "      <td>8.5</td>\n",
       "      <td>T</td>\n",
       "    </tr>\n",
       "    <tr>\n",
       "      <td>1998</td>\n",
       "      <td>Need for Speed: Most Wanted</td>\n",
       "      <td>XB</td>\n",
       "      <td>2005.0</td>\n",
       "      <td>Racing</td>\n",
       "      <td>0.53</td>\n",
       "      <td>0.46</td>\n",
       "      <td>0.00</td>\n",
       "      <td>0.05</td>\n",
       "      <td>83.0</td>\n",
       "      <td>8.8</td>\n",
       "      <td>T</td>\n",
       "    </tr>\n",
       "    <tr>\n",
       "      <td>2048</td>\n",
       "      <td>Need for Speed: Most Wanted</td>\n",
       "      <td>PSV</td>\n",
       "      <td>2012.0</td>\n",
       "      <td>Racing</td>\n",
       "      <td>0.33</td>\n",
       "      <td>0.45</td>\n",
       "      <td>0.01</td>\n",
       "      <td>0.22</td>\n",
       "      <td>NaN</td>\n",
       "      <td>NaN</td>\n",
       "      <td>NaN</td>\n",
       "    </tr>\n",
       "    <tr>\n",
       "      <td>3581</td>\n",
       "      <td>Need for Speed: Most Wanted</td>\n",
       "      <td>GC</td>\n",
       "      <td>2005.0</td>\n",
       "      <td>Racing</td>\n",
       "      <td>0.43</td>\n",
       "      <td>0.11</td>\n",
       "      <td>0.00</td>\n",
       "      <td>0.02</td>\n",
       "      <td>80.0</td>\n",
       "      <td>9.1</td>\n",
       "      <td>T</td>\n",
       "    </tr>\n",
       "    <tr>\n",
       "      <td>5972</td>\n",
       "      <td>Need for Speed: Most Wanted</td>\n",
       "      <td>PC</td>\n",
       "      <td>2005.0</td>\n",
       "      <td>Racing</td>\n",
       "      <td>0.02</td>\n",
       "      <td>0.23</td>\n",
       "      <td>0.00</td>\n",
       "      <td>0.04</td>\n",
       "      <td>82.0</td>\n",
       "      <td>8.5</td>\n",
       "      <td>T</td>\n",
       "    </tr>\n",
       "    <tr>\n",
       "      <td>6273</td>\n",
       "      <td>Need for Speed: Most Wanted</td>\n",
       "      <td>WiiU</td>\n",
       "      <td>2013.0</td>\n",
       "      <td>Racing</td>\n",
       "      <td>0.13</td>\n",
       "      <td>0.12</td>\n",
       "      <td>0.00</td>\n",
       "      <td>0.02</td>\n",
       "      <td>NaN</td>\n",
       "      <td>NaN</td>\n",
       "      <td>NaN</td>\n",
       "    </tr>\n",
       "    <tr>\n",
       "      <td>6410</td>\n",
       "      <td>Need for Speed: Most Wanted</td>\n",
       "      <td>DS</td>\n",
       "      <td>2005.0</td>\n",
       "      <td>Racing</td>\n",
       "      <td>0.24</td>\n",
       "      <td>0.01</td>\n",
       "      <td>0.00</td>\n",
       "      <td>0.02</td>\n",
       "      <td>45.0</td>\n",
       "      <td>6.1</td>\n",
       "      <td>E</td>\n",
       "    </tr>\n",
       "    <tr>\n",
       "      <td>6473</td>\n",
       "      <td>Need for Speed: Most Wanted</td>\n",
       "      <td>GBA</td>\n",
       "      <td>2005.0</td>\n",
       "      <td>Racing</td>\n",
       "      <td>0.19</td>\n",
       "      <td>0.07</td>\n",
       "      <td>0.00</td>\n",
       "      <td>0.00</td>\n",
       "      <td>NaN</td>\n",
       "      <td>8.3</td>\n",
       "      <td>E</td>\n",
       "    </tr>\n",
       "    <tr>\n",
       "      <td>11715</td>\n",
       "      <td>Need for Speed: Most Wanted</td>\n",
       "      <td>PC</td>\n",
       "      <td>2012.0</td>\n",
       "      <td>Racing</td>\n",
       "      <td>0.00</td>\n",
       "      <td>0.06</td>\n",
       "      <td>0.00</td>\n",
       "      <td>0.02</td>\n",
       "      <td>82.0</td>\n",
       "      <td>8.5</td>\n",
       "      <td>T</td>\n",
       "    </tr>\n",
       "  </tbody>\n",
       "</table>\n",
       "</div>"
      ],
      "text/plain": [
       "                              name platform  year_of_release   genre  \\\n",
       "253    Need for Speed: Most Wanted      PS2           2005.0  Racing   \n",
       "523    Need for Speed: Most Wanted      PS3           2012.0  Racing   \n",
       "1190   Need for Speed: Most Wanted     X360           2012.0  Racing   \n",
       "1591   Need for Speed: Most Wanted     X360           2005.0  Racing   \n",
       "1998   Need for Speed: Most Wanted       XB           2005.0  Racing   \n",
       "2048   Need for Speed: Most Wanted      PSV           2012.0  Racing   \n",
       "3581   Need for Speed: Most Wanted       GC           2005.0  Racing   \n",
       "5972   Need for Speed: Most Wanted       PC           2005.0  Racing   \n",
       "6273   Need for Speed: Most Wanted     WiiU           2013.0  Racing   \n",
       "6410   Need for Speed: Most Wanted       DS           2005.0  Racing   \n",
       "6473   Need for Speed: Most Wanted      GBA           2005.0  Racing   \n",
       "11715  Need for Speed: Most Wanted       PC           2012.0  Racing   \n",
       "\n",
       "       na_sales  eu_sales  jp_sales  other_sales  critic_score user_score  \\\n",
       "253        2.03      1.79      0.08         0.47          82.0        9.1   \n",
       "523        0.71      1.46      0.06         0.58           NaN        NaN   \n",
       "1190       0.62      0.78      0.01         0.15          83.0        8.5   \n",
       "1591       1.00      0.13      0.02         0.10          83.0        8.5   \n",
       "1998       0.53      0.46      0.00         0.05          83.0        8.8   \n",
       "2048       0.33      0.45      0.01         0.22           NaN        NaN   \n",
       "3581       0.43      0.11      0.00         0.02          80.0        9.1   \n",
       "5972       0.02      0.23      0.00         0.04          82.0        8.5   \n",
       "6273       0.13      0.12      0.00         0.02           NaN        NaN   \n",
       "6410       0.24      0.01      0.00         0.02          45.0        6.1   \n",
       "6473       0.19      0.07      0.00         0.00           NaN        8.3   \n",
       "11715      0.00      0.06      0.00         0.02          82.0        8.5   \n",
       "\n",
       "      rating  \n",
       "253        T  \n",
       "523      NaN  \n",
       "1190       T  \n",
       "1591       T  \n",
       "1998       T  \n",
       "2048     NaN  \n",
       "3581       T  \n",
       "5972       T  \n",
       "6273     NaN  \n",
       "6410       E  \n",
       "6473       E  \n",
       "11715      T  "
      ]
     },
     "execution_count": 11,
     "metadata": {},
     "output_type": "execute_result"
    }
   ],
   "source": [
    "df.query('name == \"Need for Speed: Most Wanted\"')"
   ]
  },
  {
   "cell_type": "markdown",
   "id": "d19a1321",
   "metadata": {},
   "source": [
    "В колонке `name`, вероятно, дубликатов мы не найдем: там указаны названия игр  и эти названия встречаются несколько раз, если игра представлена на нескольких платформах. "
   ]
  },
  {
   "cell_type": "code",
   "execution_count": 12,
   "id": "635c95ac",
   "metadata": {},
   "outputs": [
    {
     "data": {
      "text/plain": [
       "PS2     2161\n",
       "DS      2151\n",
       "PS3     1331\n",
       "Wii     1320\n",
       "X360    1262\n",
       "PSP     1209\n",
       "PS      1197\n",
       "PC       974\n",
       "XB       824\n",
       "GBA      822\n",
       "GC       556\n",
       "3DS      520\n",
       "PSV      430\n",
       "PS4      392\n",
       "N64      319\n",
       "XOne     247\n",
       "SNES     239\n",
       "SAT      173\n",
       "WiiU     147\n",
       "2600     133\n",
       "GB        98\n",
       "NES       98\n",
       "DC        52\n",
       "GEN       29\n",
       "NG        12\n",
       "WS         6\n",
       "SCD        6\n",
       "3DO        3\n",
       "TG16       2\n",
       "PCFX       1\n",
       "GG         1\n",
       "Name: platform, dtype: int64"
      ]
     },
     "execution_count": 12,
     "metadata": {},
     "output_type": "execute_result"
    }
   ],
   "source": [
    "df['platform'].value_counts()"
   ]
  },
  {
   "cell_type": "code",
   "execution_count": 13,
   "id": "a3ec48b5",
   "metadata": {},
   "outputs": [
    {
     "data": {
      "text/plain": [
       "[1980.0,\n",
       " 1981.0,\n",
       " 1982.0,\n",
       " 1983.0,\n",
       " 1984.0,\n",
       " 1985.0,\n",
       " 1986.0,\n",
       " 1987.0,\n",
       " 1988.0,\n",
       " 1989.0,\n",
       " 1990.0,\n",
       " 1991.0,\n",
       " 1992.0,\n",
       " 1993.0,\n",
       " 1994.0,\n",
       " 1995.0,\n",
       " 1996.0,\n",
       " 1997.0,\n",
       " 1998.0,\n",
       " 1999.0,\n",
       " 2000.0,\n",
       " 2001.0,\n",
       " 2002.0,\n",
       " 2003.0,\n",
       " 2004.0,\n",
       " 2005.0,\n",
       " 2006.0,\n",
       " 2007.0,\n",
       " 2008.0,\n",
       " 2009.0,\n",
       " 2010.0,\n",
       " 2011.0,\n",
       " 2012.0,\n",
       " 2013.0,\n",
       " 2014.0,\n",
       " 2015.0,\n",
       " 2016.0,\n",
       " nan]"
      ]
     },
     "execution_count": 13,
     "metadata": {},
     "output_type": "execute_result"
    }
   ],
   "source": [
    "sorted(df['year_of_release'].unique())"
   ]
  },
  {
   "cell_type": "code",
   "execution_count": 14,
   "id": "fe2cc5bf",
   "metadata": {},
   "outputs": [
    {
     "data": {
      "text/plain": [
       "Action          3369\n",
       "Sports          2348\n",
       "Misc            1750\n",
       "Role-Playing    1498\n",
       "Shooter         1323\n",
       "Adventure       1303\n",
       "Racing          1249\n",
       "Platform         888\n",
       "Simulation       873\n",
       "Fighting         849\n",
       "Strategy         683\n",
       "Puzzle           580\n",
       "Name: genre, dtype: int64"
      ]
     },
     "execution_count": 14,
     "metadata": {},
     "output_type": "execute_result"
    }
   ],
   "source": [
    "df['genre'].value_counts()"
   ]
  },
  {
   "cell_type": "code",
   "execution_count": 15,
   "id": "a9de7ece",
   "metadata": {},
   "outputs": [
    {
     "data": {
      "text/plain": [
       "[76.0,\n",
       " nan,\n",
       " 13.0,\n",
       " 17.0,\n",
       " 19.0,\n",
       " 20.0,\n",
       " 21.0,\n",
       " 22.0,\n",
       " 23.0,\n",
       " 24.0,\n",
       " 25.0,\n",
       " 26.0,\n",
       " 27.0,\n",
       " 28.0,\n",
       " 29.0,\n",
       " 30.0,\n",
       " 31.0,\n",
       " 32.0,\n",
       " 33.0,\n",
       " 34.0,\n",
       " 35.0,\n",
       " 36.0,\n",
       " 37.0,\n",
       " 38.0,\n",
       " 39.0,\n",
       " 40.0,\n",
       " 41.0,\n",
       " 42.0,\n",
       " 43.0,\n",
       " 44.0,\n",
       " 45.0,\n",
       " 46.0,\n",
       " 47.0,\n",
       " 48.0,\n",
       " 49.0,\n",
       " 50.0,\n",
       " 51.0,\n",
       " 52.0,\n",
       " 53.0,\n",
       " 54.0,\n",
       " 55.0,\n",
       " 56.0,\n",
       " 57.0,\n",
       " 58.0,\n",
       " 59.0,\n",
       " 60.0,\n",
       " 61.0,\n",
       " 62.0,\n",
       " 63.0,\n",
       " 64.0,\n",
       " 65.0,\n",
       " 66.0,\n",
       " 67.0,\n",
       " 68.0,\n",
       " 69.0,\n",
       " 70.0,\n",
       " 71.0,\n",
       " 72.0,\n",
       " 73.0,\n",
       " 74.0,\n",
       " 75.0,\n",
       " 77.0,\n",
       " 78.0,\n",
       " 79.0,\n",
       " 80.0,\n",
       " 81.0,\n",
       " 82.0,\n",
       " 83.0,\n",
       " 84.0,\n",
       " 85.0,\n",
       " 86.0,\n",
       " 87.0,\n",
       " 88.0,\n",
       " 89.0,\n",
       " 90.0,\n",
       " 91.0,\n",
       " 92.0,\n",
       " 93.0,\n",
       " 94.0,\n",
       " 95.0,\n",
       " 96.0,\n",
       " 97.0,\n",
       " 98.0]"
      ]
     },
     "execution_count": 15,
     "metadata": {},
     "output_type": "execute_result"
    }
   ],
   "source": [
    "sorted(df['critic_score'].unique())"
   ]
  },
  {
   "cell_type": "code",
   "execution_count": 16,
   "id": "372eafa2",
   "metadata": {},
   "outputs": [
    {
     "data": {
      "text/plain": [
       "array(['E', nan, 'M', 'T', 'E10+', 'K-A', 'AO', 'EC', 'RP'], dtype=object)"
      ]
     },
     "execution_count": 16,
     "metadata": {},
     "output_type": "execute_result"
    }
   ],
   "source": [
    "df['rating'].unique()"
   ]
  },
  {
   "cell_type": "code",
   "execution_count": 17,
   "id": "fad0864f",
   "metadata": {},
   "outputs": [
    {
     "data": {
      "text/plain": [
       "array(['8', nan, '8.3', '8.5', '6.6', '8.4', '8.6', '7.7', '6.3', '7.4',\n",
       "       '8.2', '9', '7.9', '8.1', '8.7', '7.1', '3.4', '5.3', '4.8', '3.2',\n",
       "       '8.9', '6.4', '7.8', '7.5', '2.6', '7.2', '9.2', '7', '7.3', '4.3',\n",
       "       '7.6', '5.7', '5', '9.1', '6.5', 'tbd', '8.8', '6.9', '9.4', '6.8',\n",
       "       '6.1', '6.7', '5.4', '4', '4.9', '4.5', '9.3', '6.2', '4.2', '6',\n",
       "       '3.7', '4.1', '5.8', '5.6', '5.5', '4.4', '4.6', '5.9', '3.9',\n",
       "       '3.1', '2.9', '5.2', '3.3', '4.7', '5.1', '3.5', '2.5', '1.9', '3',\n",
       "       '2.7', '2.2', '2', '9.5', '2.1', '3.6', '2.8', '1.8', '3.8', '0',\n",
       "       '1.6', '9.6', '2.4', '1.7', '1.1', '0.3', '1.5', '0.7', '1.2',\n",
       "       '2.3', '0.5', '1.3', '0.2', '0.6', '1.4', '0.9', '1', '9.7'],\n",
       "      dtype=object)"
      ]
     },
     "execution_count": 17,
     "metadata": {},
     "output_type": "execute_result"
    }
   ],
   "source": [
    "df['user_score'].unique()"
   ]
  },
  {
   "cell_type": "markdown",
   "id": "57ba0646",
   "metadata": {},
   "source": [
    "Дубликаты не обнаружены!"
   ]
  },
  {
   "cell_type": "markdown",
   "id": "553bffa2",
   "metadata": {},
   "source": [
    "В колонке `user_score` попадается значение 'tbd'. 'Tbd' означает 'to be decided', то есть 'подлежит уточнению'. Эти значения стоит заменить на NaN для того, чтобы эту колонку можно было перевести в тип данных _float_."
   ]
  },
  {
   "cell_type": "code",
   "execution_count": 18,
   "id": "2c6b0723",
   "metadata": {},
   "outputs": [],
   "source": [
    "df['user_score'].replace('tbd', np.NaN, inplace = True)"
   ]
  },
  {
   "cell_type": "markdown",
   "id": "b781a0c9",
   "metadata": {},
   "source": [
    "## Обработка пропусков"
   ]
  },
  {
   "cell_type": "markdown",
   "id": "9fecaa32",
   "metadata": {},
   "source": [
    "### Удаление строк с пропусками в `name`, `year_of_release`, `genre`"
   ]
  },
  {
   "cell_type": "code",
   "execution_count": 19,
   "id": "6dcf7abe",
   "metadata": {},
   "outputs": [],
   "source": [
    "df = df.dropna(subset=['name'])\n",
    "df = df.dropna(subset=['year_of_release'])\n",
    "df = df.dropna(subset=['genre'])"
   ]
  },
  {
   "cell_type": "markdown",
   "id": "902402fe",
   "metadata": {},
   "source": [
    "### Работа с пропусками в `critic_score`, `user_score`, `rating`"
   ]
  },
  {
   "cell_type": "code",
   "execution_count": 20,
   "id": "1e9f22c3",
   "metadata": {},
   "outputs": [
    {
     "name": "stdout",
     "output_type": "stream",
     "text": [
      "Количество пропусков в колонке \"critic_score\": 8461\n",
      "Количество пропусков в колонке \"user_score\": 8981\n",
      "Количество пропусков в колонке \"rating\": 6676\n",
      "Количество строк, в которых значения пропущены одновременно и в \"critic_score\", и в \"user_score\": 7892\n",
      "Количество строк, в которых значения пропущены одновременно в трех колонках - \"critic_score\", \"user_score\", \"rating\": 6580\n",
      "Доля строк с пропусками в трех колонках одновременно составляет 40.0% от всей базы данных.\n"
     ]
    }
   ],
   "source": [
    "print(\n",
    "'Количество пропусков в колонке \"critic_score\":', len(df[df['critic_score'].isna()==True])\n",
    ")\n",
    "\n",
    "print(\n",
    "'Количество пропусков в колонке \"user_score\":', len(df[df['user_score'].isna()==True])\n",
    ")\n",
    "\n",
    "print(\n",
    "'Количество пропусков в колонке \"rating\":', len(df[df['rating'].isna()==True])\n",
    ")\n",
    "\n",
    "print(\n",
    "'Количество строк, в которых значения пропущены одновременно и в \"critic_score\", и в \"user_score\":', \n",
    "    len(df[(df['critic_score'].isna()==True)&(df['user_score'].isna()==True)])\n",
    ")\n",
    "\n",
    "print(\n",
    "'Количество строк, в которых значения пропущены одновременно в трех колонках - \"critic_score\", \"user_score\", \"rating\":', \n",
    "len(df[(df['critic_score'].isna()==True)\n",
    "&(df['user_score'].isna()==True)\n",
    "&(df['rating'].isna()==True)])\n",
    ")\n",
    "\n",
    "print (\n",
    "'Доля строк с пропусками в трех колонках одновременно составляет {:.1%} от всей базы данных.'\n",
    ".format(len(df[(df['critic_score'].isna()==True)\n",
    "&(df['user_score'].isna()==True)\n",
    "&(df['rating'].isna()==True)]) / len(df))\n",
    ")"
   ]
  },
  {
   "cell_type": "code",
   "execution_count": 21,
   "id": "ea5c7084",
   "metadata": {},
   "outputs": [],
   "source": [
    "no_score = df[(df['critic_score'].isna()==True)\n",
    "&(df['user_score'].isna()==True)\n",
    "&(df['rating'].isna()==True)]"
   ]
  },
  {
   "cell_type": "code",
   "execution_count": 22,
   "id": "d31c2a3b",
   "metadata": {},
   "outputs": [
    {
     "data": {
      "image/png": "[encoded data removed]",
      "text/plain": [
       "<Figure size 432x288 with 1 Axes>"
      ]
     },
     "metadata": {
      "needs_background": "light"
     },
     "output_type": "display_data"
    }
   ],
   "source": [
    "no_score['year_of_release'].plot(kind='hist', ec='black', color='pink', bins=20)\n",
    "df['year_of_release'].plot(kind='hist', ec='black', alpha=0.4, color='blue', bins=20)\n",
    "plt.rcParams['figure.figsize'] = [12, 7]\n",
    "plt.title('Распределение по году выхода игры', fontsize=14)\n",
    "plt.legend(['Пропущенные значения','Вся база данных'], fontsize=14)\n",
    "plt.show()"
   ]
  },
  {
   "cell_type": "markdown",
   "id": "3da968c5",
   "metadata": {},
   "source": [
    "Если сравнивать таблицу, в которую входят исключительство те строки, в которых одновременно пропущены значения в трех колонках `critic_score`, `user_score` и `rating`, со всей базой данных, то можно заметить следующее:\n",
    "* до 1995 года пропуски в этих колонках идут по всей базе данных - консолидированной системы рейтинга и отзывов либо не существовало, либо эти данные не попали в нашу базу\n",
    "* начиная с 2000 года большая половина игр уже имеет отзывы и рейтинг\n",
    "* пропущенные значения распределяются пропорционально данным по всей базе начиная с ранних 2000-х"
   ]
  },
  {
   "cell_type": "markdown",
   "id": "fc4471b9",
   "metadata": {},
   "source": [
    "На данном этапе мы оставим эти пропуски, так как в остальных колонках этих строк данные присуствуют. Если мы удалим их все, мы потеряем большую часть данных, что не может не сказаться на результатах. "
   ]
  },
  {
   "cell_type": "code",
   "execution_count": 23,
   "id": "56a88c37",
   "metadata": {},
   "outputs": [],
   "source": [
    "entries_after=len(df)"
   ]
  },
  {
   "cell_type": "markdown",
   "id": "d1c0dc7e",
   "metadata": {},
   "source": [
    "### Изменение типов данных"
   ]
  },
  {
   "cell_type": "code",
   "execution_count": 24,
   "id": "c8f15ff9",
   "metadata": {},
   "outputs": [],
   "source": [
    "df['year_of_release']=pd.to_datetime(df['year_of_release'], format='%Y')\n",
    "df['year_of_release']=df['year_of_release'].dt.year\n",
    "df['user_score']=df['user_score'].astype('float')"
   ]
  },
  {
   "cell_type": "code",
   "execution_count": 25,
   "id": "4f0d9657",
   "metadata": {},
   "outputs": [
    {
     "name": "stdout",
     "output_type": "stream",
     "text": [
      "<class 'pandas.core.frame.DataFrame'>\n",
      "Int64Index: 16444 entries, 0 to 16714\n",
      "Data columns (total 11 columns):\n",
      "name               16444 non-null object\n",
      "platform           16444 non-null object\n",
      "year_of_release    16444 non-null int64\n",
      "genre              16444 non-null object\n",
      "na_sales           16444 non-null float64\n",
      "eu_sales           16444 non-null float64\n",
      "jp_sales           16444 non-null float64\n",
      "other_sales        16444 non-null float64\n",
      "critic_score       7983 non-null float64\n",
      "user_score         7463 non-null float64\n",
      "rating             9768 non-null object\n",
      "dtypes: float64(6), int64(1), object(4)\n",
      "memory usage: 1.5+ MB\n"
     ]
    }
   ],
   "source": [
    "df.info()"
   ]
  },
  {
   "cell_type": "markdown",
   "id": "314962d2",
   "metadata": {},
   "source": [
    "### Добавление столбца с суммарными продажами по всем регионам"
   ]
  },
  {
   "cell_type": "code",
   "execution_count": 26,
   "id": "bab71a4f",
   "metadata": {},
   "outputs": [],
   "source": [
    "df['total_sales'] = df['na_sales'] + df['eu_sales'] + df['jp_sales'] + df['other_sales']"
   ]
  },
  {
   "cell_type": "code",
   "execution_count": 27,
   "id": "4e6f5293",
   "metadata": {},
   "outputs": [
    {
     "data": {
      "text/html": [
       "<div>\n",
       "<style scoped>\n",
       "    .dataframe tbody tr th:only-of-type {\n",
       "        vertical-align: middle;\n",
       "    }\n",
       "\n",
       "    .dataframe tbody tr th {\n",
       "        vertical-align: top;\n",
       "    }\n",
       "\n",
       "    .dataframe thead th {\n",
       "        text-align: right;\n",
       "    }\n",
       "</style>\n",
       "<table border=\"1\" class=\"dataframe\">\n",
       "  <thead>\n",
       "    <tr style=\"text-align: right;\">\n",
       "      <th></th>\n",
       "      <th>name</th>\n",
       "      <th>platform</th>\n",
       "      <th>year_of_release</th>\n",
       "      <th>genre</th>\n",
       "      <th>na_sales</th>\n",
       "      <th>eu_sales</th>\n",
       "      <th>jp_sales</th>\n",
       "      <th>other_sales</th>\n",
       "      <th>critic_score</th>\n",
       "      <th>user_score</th>\n",
       "      <th>rating</th>\n",
       "      <th>total_sales</th>\n",
       "    </tr>\n",
       "  </thead>\n",
       "  <tbody>\n",
       "    <tr>\n",
       "      <td>0</td>\n",
       "      <td>Wii Sports</td>\n",
       "      <td>Wii</td>\n",
       "      <td>2006</td>\n",
       "      <td>Sports</td>\n",
       "      <td>41.36</td>\n",
       "      <td>28.96</td>\n",
       "      <td>3.77</td>\n",
       "      <td>8.45</td>\n",
       "      <td>76.0</td>\n",
       "      <td>8.0</td>\n",
       "      <td>E</td>\n",
       "      <td>82.54</td>\n",
       "    </tr>\n",
       "    <tr>\n",
       "      <td>1</td>\n",
       "      <td>Super Mario Bros.</td>\n",
       "      <td>NES</td>\n",
       "      <td>1985</td>\n",
       "      <td>Platform</td>\n",
       "      <td>29.08</td>\n",
       "      <td>3.58</td>\n",
       "      <td>6.81</td>\n",
       "      <td>0.77</td>\n",
       "      <td>NaN</td>\n",
       "      <td>NaN</td>\n",
       "      <td>NaN</td>\n",
       "      <td>40.24</td>\n",
       "    </tr>\n",
       "    <tr>\n",
       "      <td>2</td>\n",
       "      <td>Mario Kart Wii</td>\n",
       "      <td>Wii</td>\n",
       "      <td>2008</td>\n",
       "      <td>Racing</td>\n",
       "      <td>15.68</td>\n",
       "      <td>12.76</td>\n",
       "      <td>3.79</td>\n",
       "      <td>3.29</td>\n",
       "      <td>82.0</td>\n",
       "      <td>8.3</td>\n",
       "      <td>E</td>\n",
       "      <td>35.52</td>\n",
       "    </tr>\n",
       "    <tr>\n",
       "      <td>3</td>\n",
       "      <td>Wii Sports Resort</td>\n",
       "      <td>Wii</td>\n",
       "      <td>2009</td>\n",
       "      <td>Sports</td>\n",
       "      <td>15.61</td>\n",
       "      <td>10.93</td>\n",
       "      <td>3.28</td>\n",
       "      <td>2.95</td>\n",
       "      <td>80.0</td>\n",
       "      <td>8.0</td>\n",
       "      <td>E</td>\n",
       "      <td>32.77</td>\n",
       "    </tr>\n",
       "    <tr>\n",
       "      <td>4</td>\n",
       "      <td>Pokemon Red/Pokemon Blue</td>\n",
       "      <td>GB</td>\n",
       "      <td>1996</td>\n",
       "      <td>Role-Playing</td>\n",
       "      <td>11.27</td>\n",
       "      <td>8.89</td>\n",
       "      <td>10.22</td>\n",
       "      <td>1.00</td>\n",
       "      <td>NaN</td>\n",
       "      <td>NaN</td>\n",
       "      <td>NaN</td>\n",
       "      <td>31.38</td>\n",
       "    </tr>\n",
       "  </tbody>\n",
       "</table>\n",
       "</div>"
      ],
      "text/plain": [
       "                       name platform  year_of_release         genre  na_sales  \\\n",
       "0                Wii Sports      Wii             2006        Sports     41.36   \n",
       "1         Super Mario Bros.      NES             1985      Platform     29.08   \n",
       "2            Mario Kart Wii      Wii             2008        Racing     15.68   \n",
       "3         Wii Sports Resort      Wii             2009        Sports     15.61   \n",
       "4  Pokemon Red/Pokemon Blue       GB             1996  Role-Playing     11.27   \n",
       "\n",
       "   eu_sales  jp_sales  other_sales  critic_score  user_score rating  \\\n",
       "0     28.96      3.77         8.45          76.0         8.0      E   \n",
       "1      3.58      6.81         0.77           NaN         NaN    NaN   \n",
       "2     12.76      3.79         3.29          82.0         8.3      E   \n",
       "3     10.93      3.28         2.95          80.0         8.0      E   \n",
       "4      8.89     10.22         1.00           NaN         NaN    NaN   \n",
       "\n",
       "   total_sales  \n",
       "0        82.54  \n",
       "1        40.24  \n",
       "2        35.52  \n",
       "3        32.77  \n",
       "4        31.38  "
      ]
     },
     "execution_count": 27,
     "metadata": {},
     "output_type": "execute_result"
    }
   ],
   "source": [
    "df.head()"
   ]
  },
  {
   "cell_type": "markdown",
   "id": "be233aba",
   "metadata": {},
   "source": [
    "### Промежуточный вывод"
   ]
  },
  {
   "cell_type": "markdown",
   "id": "3ec6a66b",
   "metadata": {},
   "source": [
    "На этом этапе мы подготовили базу данных к работе:\n",
    "* названия колонок приведены к нижнему регистру\n",
    "* строки с пропусками в `name`, `year_of_release` и `genre` удалены\n",
    "* значение 'tbd' в `user_score` перезаписано как _NaN_\n",
    "* пропуски в `user_score`, `critics_score` и `rating` мы оставили, как есть так как их удаление значительно повлияет на данные\n",
    "* изменили типы данных: `year_of_release` в целочисленный формат, `user_score` - на _float_\n",
    "\n",
    "Теперь можно переходить к исследовательскому анализу данных. "
   ]
  },
  {
   "cell_type": "markdown",
   "id": "4a2e2f6f",
   "metadata": {},
   "source": [
    "# Исследовательский анализ данных"
   ]
  },
  {
   "cell_type": "markdown",
   "id": "75a68ea0",
   "metadata": {},
   "source": [
    "## Продажи игр по годам"
   ]
  },
  {
   "cell_type": "code",
   "execution_count": 28,
   "id": "8da1bda8",
   "metadata": {},
   "outputs": [
    {
     "data": {
      "image/png": "[encoded data removed]",
      "text/plain": [
       "<Figure size 1080x504 with 1 Axes>"
      ]
     },
     "metadata": {
      "needs_background": "light"
     },
     "output_type": "display_data"
    }
   ],
   "source": [
    "df.groupby('year_of_release')['name'].count().plot(kind='bar', ec='black', figsize=(15,7), grid = True, color='#FFB7B2')\n",
    "plt.xlabel('Год')\n",
    "plt.ylabel('Количество игр')\n",
    "plt.title('Количество игр в течение лет', fontsize=14)\n",
    "plt.show()"
   ]
  },
  {
   "cell_type": "code",
   "execution_count": 29,
   "id": "95a59b91",
   "metadata": {},
   "outputs": [
    {
     "data": {
      "text/plain": [
       "year_of_release\n",
       "1980       9\n",
       "1981      46\n",
       "1982      36\n",
       "1983      17\n",
       "1984      14\n",
       "1985      14\n",
       "1986      21\n",
       "1987      16\n",
       "1988      15\n",
       "1989      17\n",
       "1990      16\n",
       "1991      41\n",
       "1992      43\n",
       "1993      60\n",
       "1994     121\n",
       "1995     219\n",
       "1996     263\n",
       "1997     289\n",
       "1998     379\n",
       "1999     338\n",
       "2000     350\n",
       "2001     482\n",
       "2002     829\n",
       "2003     775\n",
       "2004     762\n",
       "2005     939\n",
       "2006    1006\n",
       "2007    1197\n",
       "2008    1427\n",
       "2009    1426\n",
       "2010    1255\n",
       "2011    1136\n",
       "2012     653\n",
       "2013     544\n",
       "2014     581\n",
       "2015     606\n",
       "2016     502\n",
       "Name: name, dtype: int64"
      ]
     },
     "execution_count": 29,
     "metadata": {},
     "output_type": "execute_result"
    }
   ],
   "source": [
    "df.groupby('year_of_release')['name'].count()"
   ]
  },
  {
   "cell_type": "markdown",
   "id": "3599979d",
   "metadata": {},
   "source": [
    "По графику и таблице вы видим, как развивалась гейминг-индустрия в течение 36 лет: к 100+ играм, выпущенным в течение года, мы добрались к 1994 году, к 2002 это число перевалило за 500, а уже через 4 года - за 1000. Начиная с 2009 года количество, тем не менее, уменьшается."
   ]
  },
  {
   "cell_type": "markdown",
   "id": "15302db0",
   "metadata": {},
   "source": [
    "## Продажи игр по платформам"
   ]
  },
  {
   "cell_type": "markdown",
   "id": "16d67c11",
   "metadata": {},
   "source": [
    "Рассмотрим топ-10 платформ, которые получили наибольшую прибыль за весь период: изучим их прибыль и количество выпущенных игр. "
   ]
  },
  {
   "cell_type": "code",
   "execution_count": 30,
   "id": "5030992b",
   "metadata": {},
   "outputs": [
    {
     "data": {
      "text/html": [
       "<div>\n",
       "<style scoped>\n",
       "    .dataframe tbody tr th:only-of-type {\n",
       "        vertical-align: middle;\n",
       "    }\n",
       "\n",
       "    .dataframe tbody tr th {\n",
       "        vertical-align: top;\n",
       "    }\n",
       "\n",
       "    .dataframe thead th {\n",
       "        text-align: right;\n",
       "    }\n",
       "</style>\n",
       "<table border=\"1\" class=\"dataframe\">\n",
       "  <thead>\n",
       "    <tr style=\"text-align: right;\">\n",
       "      <th></th>\n",
       "      <th>count</th>\n",
       "      <th>sum</th>\n",
       "    </tr>\n",
       "    <tr>\n",
       "      <th>platform</th>\n",
       "      <th></th>\n",
       "      <th></th>\n",
       "    </tr>\n",
       "  </thead>\n",
       "  <tbody>\n",
       "    <tr>\n",
       "      <td>PS2</td>\n",
       "      <td>2127</td>\n",
       "      <td>1233.56</td>\n",
       "    </tr>\n",
       "    <tr>\n",
       "      <td>X360</td>\n",
       "      <td>1232</td>\n",
       "      <td>961.24</td>\n",
       "    </tr>\n",
       "    <tr>\n",
       "      <td>PS3</td>\n",
       "      <td>1306</td>\n",
       "      <td>931.34</td>\n",
       "    </tr>\n",
       "    <tr>\n",
       "      <td>Wii</td>\n",
       "      <td>1286</td>\n",
       "      <td>891.18</td>\n",
       "    </tr>\n",
       "    <tr>\n",
       "      <td>DS</td>\n",
       "      <td>2121</td>\n",
       "      <td>802.78</td>\n",
       "    </tr>\n",
       "    <tr>\n",
       "      <td>PS</td>\n",
       "      <td>1190</td>\n",
       "      <td>727.58</td>\n",
       "    </tr>\n",
       "    <tr>\n",
       "      <td>PS4</td>\n",
       "      <td>392</td>\n",
       "      <td>314.14</td>\n",
       "    </tr>\n",
       "    <tr>\n",
       "      <td>GBA</td>\n",
       "      <td>811</td>\n",
       "      <td>312.88</td>\n",
       "    </tr>\n",
       "    <tr>\n",
       "      <td>PSP</td>\n",
       "      <td>1193</td>\n",
       "      <td>289.53</td>\n",
       "    </tr>\n",
       "    <tr>\n",
       "      <td>3DS</td>\n",
       "      <td>512</td>\n",
       "      <td>257.81</td>\n",
       "    </tr>\n",
       "  </tbody>\n",
       "</table>\n",
       "</div>"
      ],
      "text/plain": [
       "          count      sum\n",
       "platform                \n",
       "PS2        2127  1233.56\n",
       "X360       1232   961.24\n",
       "PS3        1306   931.34\n",
       "Wii        1286   891.18\n",
       "DS         2121   802.78\n",
       "PS         1190   727.58\n",
       "PS4         392   314.14\n",
       "GBA         811   312.88\n",
       "PSP        1193   289.53\n",
       "3DS         512   257.81"
      ]
     },
     "execution_count": 30,
     "metadata": {},
     "output_type": "execute_result"
    }
   ],
   "source": [
    "df.pivot_table(\n",
    "    index='platform', values='total_sales', \n",
    "    aggfunc=('sum', 'count')\n",
    "    ).sort_values(by='sum', ascending=False).head(10)"
   ]
  },
  {
   "cell_type": "code",
   "execution_count": 31,
   "id": "191a03d9",
   "metadata": {},
   "outputs": [
    {
     "data": {
      "text/plain": [
       "PS4     301\n",
       "PSV     195\n",
       "XOne    167\n",
       "3DS     132\n",
       "PS3     111\n",
       "PC      104\n",
       "X360     48\n",
       "WiiU     42\n",
       "Wii       5\n",
       "PSP       3\n",
       "Name: platform, dtype: int64"
      ]
     },
     "execution_count": 31,
     "metadata": {},
     "output_type": "execute_result"
    }
   ],
   "source": [
    "df.query('year_of_release == 2015 or year_of_release == 2016')['platform'].value_counts()"
   ]
  },
  {
   "cell_type": "markdown",
   "id": "2eadcf5b",
   "metadata": {},
   "source": [
    "Несмотря на безусловных лидеров всех времен - PlayStation 2 и 3, а также Xbox 360, в анализ необходимо добавить  лидеров последних лет: PlayStation 4, PlayStation Vitа и Xbox One. \n",
    "\n",
    "Так для дальнейшего анализа пригодятся следующие платформы:\n",
    "* PlayStation 2\n",
    "* Xbox 360\n",
    "* PlayStation 3\n",
    "* Nintendo Wii\n",
    "* Nintendo DS\n",
    "* PlayStation 4\n",
    "* PlayStation Vitа\n",
    "* Xbox One"
   ]
  },
  {
   "cell_type": "code",
   "execution_count": 32,
   "id": "fc5fd73e",
   "metadata": {},
   "outputs": [],
   "source": [
    "platforms_list = ['PS2', 'X360', 'PS3', 'Wii', 'DS', 'PS4', 'PSV', 'XOne']\n",
    "platforms_top5 = df.query('platform == @platforms_list')"
   ]
  },
  {
   "cell_type": "code",
   "execution_count": 33,
   "id": "aad490d5",
   "metadata": {},
   "outputs": [
    {
     "data": {
      "text/html": [
       "<div>\n",
       "<style scoped>\n",
       "    .dataframe tbody tr th:only-of-type {\n",
       "        vertical-align: middle;\n",
       "    }\n",
       "\n",
       "    .dataframe tbody tr th {\n",
       "        vertical-align: top;\n",
       "    }\n",
       "\n",
       "    .dataframe thead th {\n",
       "        text-align: right;\n",
       "    }\n",
       "</style>\n",
       "<table border=\"1\" class=\"dataframe\">\n",
       "  <thead>\n",
       "    <tr style=\"text-align: right;\">\n",
       "      <th>platform</th>\n",
       "      <th>DS</th>\n",
       "      <th>PS2</th>\n",
       "      <th>PS3</th>\n",
       "      <th>PS4</th>\n",
       "      <th>PSV</th>\n",
       "      <th>Wii</th>\n",
       "      <th>X360</th>\n",
       "      <th>XOne</th>\n",
       "    </tr>\n",
       "    <tr>\n",
       "      <th>year_of_release</th>\n",
       "      <th></th>\n",
       "      <th></th>\n",
       "      <th></th>\n",
       "      <th></th>\n",
       "      <th></th>\n",
       "      <th></th>\n",
       "      <th></th>\n",
       "      <th></th>\n",
       "    </tr>\n",
       "  </thead>\n",
       "  <tbody>\n",
       "    <tr>\n",
       "      <td>1985</td>\n",
       "      <td>0.02</td>\n",
       "      <td>NaN</td>\n",
       "      <td>NaN</td>\n",
       "      <td>NaN</td>\n",
       "      <td>NaN</td>\n",
       "      <td>NaN</td>\n",
       "      <td>NaN</td>\n",
       "      <td>NaN</td>\n",
       "    </tr>\n",
       "    <tr>\n",
       "      <td>2000</td>\n",
       "      <td>NaN</td>\n",
       "      <td>39.17</td>\n",
       "      <td>NaN</td>\n",
       "      <td>NaN</td>\n",
       "      <td>NaN</td>\n",
       "      <td>NaN</td>\n",
       "      <td>NaN</td>\n",
       "      <td>NaN</td>\n",
       "    </tr>\n",
       "    <tr>\n",
       "      <td>2001</td>\n",
       "      <td>NaN</td>\n",
       "      <td>166.43</td>\n",
       "      <td>NaN</td>\n",
       "      <td>NaN</td>\n",
       "      <td>NaN</td>\n",
       "      <td>NaN</td>\n",
       "      <td>NaN</td>\n",
       "      <td>NaN</td>\n",
       "    </tr>\n",
       "    <tr>\n",
       "      <td>2002</td>\n",
       "      <td>NaN</td>\n",
       "      <td>205.38</td>\n",
       "      <td>NaN</td>\n",
       "      <td>NaN</td>\n",
       "      <td>NaN</td>\n",
       "      <td>NaN</td>\n",
       "      <td>NaN</td>\n",
       "      <td>NaN</td>\n",
       "    </tr>\n",
       "    <tr>\n",
       "      <td>2003</td>\n",
       "      <td>NaN</td>\n",
       "      <td>184.31</td>\n",
       "      <td>NaN</td>\n",
       "      <td>NaN</td>\n",
       "      <td>NaN</td>\n",
       "      <td>NaN</td>\n",
       "      <td>NaN</td>\n",
       "      <td>NaN</td>\n",
       "    </tr>\n",
       "    <tr>\n",
       "      <td>2004</td>\n",
       "      <td>17.27</td>\n",
       "      <td>211.81</td>\n",
       "      <td>NaN</td>\n",
       "      <td>NaN</td>\n",
       "      <td>NaN</td>\n",
       "      <td>NaN</td>\n",
       "      <td>NaN</td>\n",
       "      <td>NaN</td>\n",
       "    </tr>\n",
       "    <tr>\n",
       "      <td>2005</td>\n",
       "      <td>130.14</td>\n",
       "      <td>160.66</td>\n",
       "      <td>NaN</td>\n",
       "      <td>NaN</td>\n",
       "      <td>NaN</td>\n",
       "      <td>NaN</td>\n",
       "      <td>8.25</td>\n",
       "      <td>NaN</td>\n",
       "    </tr>\n",
       "    <tr>\n",
       "      <td>2006</td>\n",
       "      <td>119.81</td>\n",
       "      <td>103.42</td>\n",
       "      <td>20.96</td>\n",
       "      <td>NaN</td>\n",
       "      <td>NaN</td>\n",
       "      <td>137.15</td>\n",
       "      <td>51.62</td>\n",
       "      <td>NaN</td>\n",
       "    </tr>\n",
       "    <tr>\n",
       "      <td>2007</td>\n",
       "      <td>146.94</td>\n",
       "      <td>75.99</td>\n",
       "      <td>73.19</td>\n",
       "      <td>NaN</td>\n",
       "      <td>NaN</td>\n",
       "      <td>152.77</td>\n",
       "      <td>95.41</td>\n",
       "      <td>NaN</td>\n",
       "    </tr>\n",
       "    <tr>\n",
       "      <td>2008</td>\n",
       "      <td>145.31</td>\n",
       "      <td>53.90</td>\n",
       "      <td>118.52</td>\n",
       "      <td>NaN</td>\n",
       "      <td>NaN</td>\n",
       "      <td>171.32</td>\n",
       "      <td>135.26</td>\n",
       "      <td>NaN</td>\n",
       "    </tr>\n",
       "    <tr>\n",
       "      <td>2009</td>\n",
       "      <td>119.54</td>\n",
       "      <td>26.40</td>\n",
       "      <td>130.93</td>\n",
       "      <td>NaN</td>\n",
       "      <td>NaN</td>\n",
       "      <td>206.97</td>\n",
       "      <td>120.29</td>\n",
       "      <td>NaN</td>\n",
       "    </tr>\n",
       "    <tr>\n",
       "      <td>2010</td>\n",
       "      <td>85.02</td>\n",
       "      <td>5.64</td>\n",
       "      <td>142.17</td>\n",
       "      <td>NaN</td>\n",
       "      <td>NaN</td>\n",
       "      <td>127.95</td>\n",
       "      <td>170.03</td>\n",
       "      <td>NaN</td>\n",
       "    </tr>\n",
       "    <tr>\n",
       "      <td>2011</td>\n",
       "      <td>26.18</td>\n",
       "      <td>0.45</td>\n",
       "      <td>156.78</td>\n",
       "      <td>NaN</td>\n",
       "      <td>4.63</td>\n",
       "      <td>59.65</td>\n",
       "      <td>143.84</td>\n",
       "      <td>NaN</td>\n",
       "    </tr>\n",
       "    <tr>\n",
       "      <td>2012</td>\n",
       "      <td>11.01</td>\n",
       "      <td>NaN</td>\n",
       "      <td>107.36</td>\n",
       "      <td>NaN</td>\n",
       "      <td>16.19</td>\n",
       "      <td>21.71</td>\n",
       "      <td>99.74</td>\n",
       "      <td>NaN</td>\n",
       "    </tr>\n",
       "    <tr>\n",
       "      <td>2013</td>\n",
       "      <td>1.54</td>\n",
       "      <td>NaN</td>\n",
       "      <td>113.25</td>\n",
       "      <td>25.99</td>\n",
       "      <td>10.59</td>\n",
       "      <td>8.59</td>\n",
       "      <td>88.58</td>\n",
       "      <td>18.96</td>\n",
       "    </tr>\n",
       "    <tr>\n",
       "      <td>2014</td>\n",
       "      <td>NaN</td>\n",
       "      <td>NaN</td>\n",
       "      <td>47.76</td>\n",
       "      <td>100.00</td>\n",
       "      <td>11.90</td>\n",
       "      <td>3.75</td>\n",
       "      <td>34.74</td>\n",
       "      <td>54.07</td>\n",
       "    </tr>\n",
       "    <tr>\n",
       "      <td>2015</td>\n",
       "      <td>NaN</td>\n",
       "      <td>NaN</td>\n",
       "      <td>16.82</td>\n",
       "      <td>118.90</td>\n",
       "      <td>6.25</td>\n",
       "      <td>1.14</td>\n",
       "      <td>11.96</td>\n",
       "      <td>60.14</td>\n",
       "    </tr>\n",
       "    <tr>\n",
       "      <td>2016</td>\n",
       "      <td>NaN</td>\n",
       "      <td>NaN</td>\n",
       "      <td>3.60</td>\n",
       "      <td>69.25</td>\n",
       "      <td>4.25</td>\n",
       "      <td>0.18</td>\n",
       "      <td>1.52</td>\n",
       "      <td>26.15</td>\n",
       "    </tr>\n",
       "  </tbody>\n",
       "</table>\n",
       "</div>"
      ],
      "text/plain": [
       "platform             DS     PS2     PS3     PS4    PSV     Wii    X360   XOne\n",
       "year_of_release                                                              \n",
       "1985               0.02     NaN     NaN     NaN    NaN     NaN     NaN    NaN\n",
       "2000                NaN   39.17     NaN     NaN    NaN     NaN     NaN    NaN\n",
       "2001                NaN  166.43     NaN     NaN    NaN     NaN     NaN    NaN\n",
       "2002                NaN  205.38     NaN     NaN    NaN     NaN     NaN    NaN\n",
       "2003                NaN  184.31     NaN     NaN    NaN     NaN     NaN    NaN\n",
       "2004              17.27  211.81     NaN     NaN    NaN     NaN     NaN    NaN\n",
       "2005             130.14  160.66     NaN     NaN    NaN     NaN    8.25    NaN\n",
       "2006             119.81  103.42   20.96     NaN    NaN  137.15   51.62    NaN\n",
       "2007             146.94   75.99   73.19     NaN    NaN  152.77   95.41    NaN\n",
       "2008             145.31   53.90  118.52     NaN    NaN  171.32  135.26    NaN\n",
       "2009             119.54   26.40  130.93     NaN    NaN  206.97  120.29    NaN\n",
       "2010              85.02    5.64  142.17     NaN    NaN  127.95  170.03    NaN\n",
       "2011              26.18    0.45  156.78     NaN   4.63   59.65  143.84    NaN\n",
       "2012              11.01     NaN  107.36     NaN  16.19   21.71   99.74    NaN\n",
       "2013               1.54     NaN  113.25   25.99  10.59    8.59   88.58  18.96\n",
       "2014                NaN     NaN   47.76  100.00  11.90    3.75   34.74  54.07\n",
       "2015                NaN     NaN   16.82  118.90   6.25    1.14   11.96  60.14\n",
       "2016                NaN     NaN    3.60   69.25   4.25    0.18    1.52  26.15"
      ]
     },
     "execution_count": 33,
     "metadata": {},
     "output_type": "execute_result"
    }
   ],
   "source": [
    "platforms_top5.pivot_table(\n",
    "    index='year_of_release', columns='platform', values='total_sales', aggfunc='sum')"
   ]
  },
  {
   "cell_type": "code",
   "execution_count": 34,
   "id": "06c93fec",
   "metadata": {},
   "outputs": [
    {
     "data": {
      "image/png": "[encoded data removed]",
      "text/plain": [
       "<Figure size 1224x504 with 1 Axes>"
      ]
     },
     "metadata": {
      "needs_background": "light"
     },
     "output_type": "display_data"
    }
   ],
   "source": [
    "platforms_top5.pivot_table(\n",
    "    index='year_of_release', columns='platform', values='total_sales', aggfunc='sum').plot(\n",
    "    kind='bar', figsize=(17,7))\n",
    "plt.title('Суммарные продажи по годам')\n",
    "plt.xlabel('Год')\n",
    "plt.ylabel('Количество проданных копий игр, млн.')\n",
    "plt.grid()\n",
    "plt.show()"
   ]
  },
  {
   "cell_type": "markdown",
   "id": "97551117",
   "metadata": {},
   "source": [
    "График демонстрирует динамику \"власти\" игровых платформ в течение лет: с 2000 по 2004 PlayStation 2 была безусловным лидером, однако в 2005 году Nintendo DS и Nintendo Wii ее опередили. С 2006 по 2008 годы мы наблюдаем, что максимальные продажи игр приходятся на эти две платформы Nintendo. В 2009 году Nintendo DS показывает пик продаж - более 200 млн. копий -, но со следующего года резко сдает позиции и уступает первенство  Xbox 360 в 2010 году. В 2011 году появляется новый лидер - PlayStation 3 -, который в 2014 году передает первенство PlayStation 4. Начиная с 2014 года и вплоть до 2016 PlayStation 4 лидирует по продажам видеоигр для этой платформы. "
   ]
  },
  {
   "cell_type": "markdown",
   "id": "25dacb5b",
   "metadata": {},
   "source": [
    "Можно заметить, что \"жизненный цикл\" игровой платформы - около 10 лет. Причем, она достигает пика за 3-5 лет, а затем на рынок выходят новые и более совершенные модели, которые вытесняют прошлых фаворитов. К тому же, новая версия PlayStation и Xbox выходят на рынок примерно каждые 6 лет."
   ]
  },
  {
   "cell_type": "markdown",
   "id": "5345cda2",
   "metadata": {},
   "source": [
    "## Анализ продаж игр за актуальный период"
   ]
  },
  {
   "cell_type": "markdown",
   "id": "0fb93022",
   "metadata": {},
   "source": [
    "Перед нами стоит задача подготовить данные, на основании которых можно будет прогнозировать ситуацию на рынке видеоигр на 2017 год. \n",
    "\n",
    "Так как мы выявили, что игровая платформа существует около 10 лет, достигая при этом пика в течение 3-5 лет после выхода на рынок. **Для того, чтобы составить прогноз на будущее, мы можем вычесть из 2017 года время выхода платформы на пик продаж, т.е. 4 года, и охватить данные начиная с 2013 года - это и будет актуальный период.** Если бы мы брали в рассчет весь период существования игровой платформы (10 лет), данные могли бы ввести нам в заблуждение, так как для платформы, бывшие на пике популярности, к примеру, в 2009 году (Nintendo Wii - 207 млн. копий игры), в 2016 году было продано менее 200 тысяч копий игр."
   ]
  },
  {
   "cell_type": "code",
   "execution_count": 35,
   "id": "a73a44a6",
   "metadata": {},
   "outputs": [],
   "source": [
    "df_rel = df[df['year_of_release']>=2013].reset_index(drop=True)"
   ]
  },
  {
   "cell_type": "code",
   "execution_count": 36,
   "id": "deb80697",
   "metadata": {
    "scrolled": true
   },
   "outputs": [
    {
     "data": {
      "text/html": [
       "<div>\n",
       "<style scoped>\n",
       "    .dataframe tbody tr th:only-of-type {\n",
       "        vertical-align: middle;\n",
       "    }\n",
       "\n",
       "    .dataframe tbody tr th {\n",
       "        vertical-align: top;\n",
       "    }\n",
       "\n",
       "    .dataframe thead th {\n",
       "        text-align: right;\n",
       "    }\n",
       "</style>\n",
       "<table border=\"1\" class=\"dataframe\">\n",
       "  <thead>\n",
       "    <tr style=\"text-align: right;\">\n",
       "      <th>platform</th>\n",
       "      <th>3DS</th>\n",
       "      <th>DS</th>\n",
       "      <th>PC</th>\n",
       "      <th>PS3</th>\n",
       "      <th>PS4</th>\n",
       "      <th>PSP</th>\n",
       "      <th>PSV</th>\n",
       "      <th>Wii</th>\n",
       "      <th>WiiU</th>\n",
       "      <th>X360</th>\n",
       "      <th>XOne</th>\n",
       "    </tr>\n",
       "    <tr>\n",
       "      <th>year_of_release</th>\n",
       "      <th></th>\n",
       "      <th></th>\n",
       "      <th></th>\n",
       "      <th></th>\n",
       "      <th></th>\n",
       "      <th></th>\n",
       "      <th></th>\n",
       "      <th></th>\n",
       "      <th></th>\n",
       "      <th></th>\n",
       "      <th></th>\n",
       "    </tr>\n",
       "  </thead>\n",
       "  <tbody>\n",
       "    <tr>\n",
       "      <td>2013</td>\n",
       "      <td>56.57</td>\n",
       "      <td>1.54</td>\n",
       "      <td>12.38</td>\n",
       "      <td>113.25</td>\n",
       "      <td>25.99</td>\n",
       "      <td>3.14</td>\n",
       "      <td>10.59</td>\n",
       "      <td>8.59</td>\n",
       "      <td>21.65</td>\n",
       "      <td>88.58</td>\n",
       "      <td>18.96</td>\n",
       "    </tr>\n",
       "    <tr>\n",
       "      <td>2014</td>\n",
       "      <td>43.76</td>\n",
       "      <td>NaN</td>\n",
       "      <td>13.28</td>\n",
       "      <td>47.76</td>\n",
       "      <td>100.00</td>\n",
       "      <td>0.24</td>\n",
       "      <td>11.90</td>\n",
       "      <td>3.75</td>\n",
       "      <td>22.03</td>\n",
       "      <td>34.74</td>\n",
       "      <td>54.07</td>\n",
       "    </tr>\n",
       "    <tr>\n",
       "      <td>2015</td>\n",
       "      <td>27.78</td>\n",
       "      <td>NaN</td>\n",
       "      <td>8.52</td>\n",
       "      <td>16.82</td>\n",
       "      <td>118.90</td>\n",
       "      <td>0.12</td>\n",
       "      <td>6.25</td>\n",
       "      <td>1.14</td>\n",
       "      <td>16.35</td>\n",
       "      <td>11.96</td>\n",
       "      <td>60.14</td>\n",
       "    </tr>\n",
       "    <tr>\n",
       "      <td>2016</td>\n",
       "      <td>15.14</td>\n",
       "      <td>NaN</td>\n",
       "      <td>5.25</td>\n",
       "      <td>3.60</td>\n",
       "      <td>69.25</td>\n",
       "      <td>NaN</td>\n",
       "      <td>4.25</td>\n",
       "      <td>0.18</td>\n",
       "      <td>4.60</td>\n",
       "      <td>1.52</td>\n",
       "      <td>26.15</td>\n",
       "    </tr>\n",
       "  </tbody>\n",
       "</table>\n",
       "</div>"
      ],
      "text/plain": [
       "platform           3DS    DS     PC     PS3     PS4   PSP    PSV   Wii   WiiU  \\\n",
       "year_of_release                                                                 \n",
       "2013             56.57  1.54  12.38  113.25   25.99  3.14  10.59  8.59  21.65   \n",
       "2014             43.76   NaN  13.28   47.76  100.00  0.24  11.90  3.75  22.03   \n",
       "2015             27.78   NaN   8.52   16.82  118.90  0.12   6.25  1.14  16.35   \n",
       "2016             15.14   NaN   5.25    3.60   69.25   NaN   4.25  0.18   4.60   \n",
       "\n",
       "platform          X360   XOne  \n",
       "year_of_release                \n",
       "2013             88.58  18.96  \n",
       "2014             34.74  54.07  \n",
       "2015             11.96  60.14  \n",
       "2016              1.52  26.15  "
      ]
     },
     "execution_count": 36,
     "metadata": {},
     "output_type": "execute_result"
    }
   ],
   "source": [
    "df_rel.pivot_table(\n",
    "    index='year_of_release', columns='platform', values='total_sales', aggfunc='sum')"
   ]
  },
  {
   "cell_type": "code",
   "execution_count": 37,
   "id": "45646eb7",
   "metadata": {},
   "outputs": [
    {
     "data": {
      "image/png": "[encoded data removed]",
      "text/plain": [
       "<Figure size 1224x504 with 1 Axes>"
      ]
     },
     "metadata": {
      "needs_background": "light"
     },
     "output_type": "display_data"
    }
   ],
   "source": [
    "df_rel.pivot_table(\n",
    "    index='year_of_release', columns='platform', values='total_sales', aggfunc='sum').plot(\n",
    "    kind='bar', figsize=(17,7))\n",
    "plt.title('Суммарные продажи по годам за актуальный период: 2013-2016 годы')\n",
    "plt.grid()\n",
    "plt.xlabel('Год')\n",
    "plt.ylabel('Количество проданных копий игр, млн.')\n",
    "plt.grid()\n",
    "plt.show()"
   ]
  },
  {
   "cell_type": "markdown",
   "id": "c5330ef2",
   "metadata": {},
   "source": [
    "Безоговорочный лидер по продажам c 2014 года - PlayStation4, за ним следуют Xbox One и PlayStation 3. В 2015 и 2016 годах тройка лидеров выглядит следующим образом:\n",
    "* PlayStation 4\n",
    "* Xbox One\n",
    "* Nintendo 3DS\n",
    "\n",
    "Тем не менее, количественные показатели всех представленных платформ падают с 2015 года: число проданных копий игр на PlayStation 4 упали с 118.9 млн в 2015 году до 69.25 млн в 2016. Xbox One: с 60.14 млн до 26.15 млн. Nintendo 3DS: с 27.78 млн до 15.14 млн. "
   ]
  },
  {
   "cell_type": "code",
   "execution_count": 38,
   "id": "863c260d",
   "metadata": {},
   "outputs": [
    {
     "data": {
      "image/png": "[encoded data removed]",
      "text/plain": [
       "<Figure size 1080x504 with 1 Axes>"
      ]
     },
     "metadata": {
      "needs_background": "light"
     },
     "output_type": "display_data"
    }
   ],
   "source": [
    "plt.figure(figsize=(15,7))\n",
    "plt.title('Продажи по игровым платформам за актуальный период: 2013-2016 годы')\n",
    "plt.grid()\n",
    "plt.ylim(0, 2)\n",
    "sns.boxplot(x=\"platform\", y=\"total_sales\", data=df_rel, palette='pastel')\n",
    "plt.xlabel('Игровая платформа')\n",
    "plt.ylabel('Количество проданных копий игр, млн.')\n",
    "plt.show()"
   ]
  },
  {
   "cell_type": "markdown",
   "id": "9e8c845e",
   "metadata": {},
   "source": [
    "По \"ящику с усами\" можно наблюдать, что по медианным показателям лидирует Xbox 360, за ним следуют Xbox One и WiiU. Наименьший показатель наблюдается у PSP и PlayStation Vita. Если рассматривать лидеров рынка за актуальный период, то наименьшие показатели можно наблюдать у PlayStation 3 и PlayStation 4. \n",
    "\n",
    "У PlayStation 4 также обнаруживается наибольший квартильный размах и, соответственно, наибольший разброс данных. По показателям разброса данных далее следуют Xbox 360 и Nintendo Wii. "
   ]
  },
  {
   "cell_type": "markdown",
   "id": "8885b18b",
   "metadata": {},
   "source": [
    "## Влияние отзывов пользователей и критиков на продажи игр на платформах"
   ]
  },
  {
   "cell_type": "markdown",
   "id": "2dc21a71",
   "metadata": {},
   "source": [
    "На этом этапе изучим диаграмму рассеяния и коэффициенты корреляции между показателями продаж игр и отзывами пользователей и критиков. "
   ]
  },
  {
   "cell_type": "markdown",
   "id": "751fe832",
   "metadata": {},
   "source": [
    "### PlayStation 4"
   ]
  },
  {
   "cell_type": "code",
   "execution_count": 39,
   "id": "f2e666f5",
   "metadata": {},
   "outputs": [],
   "source": [
    "ps4 = df_rel.query('platform == \"PS4\"')[['total_sales', 'critic_score', 'user_score']].reset_index(drop=True)\n",
    "ps4['user_score100']=ps4['user_score']*10"
   ]
  },
  {
   "cell_type": "code",
   "execution_count": 40,
   "id": "99b12d13",
   "metadata": {},
   "outputs": [
    {
     "data": {
      "image/png": "[encoded data removed]",
      "text/plain": [
       "<Figure size 864x504 with 1 Axes>"
      ]
     },
     "metadata": {
      "needs_background": "light"
     },
     "output_type": "display_data"
    },
    {
     "data": {
      "image/png": "[encoded data removed]",
      "text/plain": [
       "<Figure size 864x504 with 1 Axes>"
      ]
     },
     "metadata": {
      "needs_background": "light"
     },
     "output_type": "display_data"
    },
    {
     "data": {
      "image/png": "[encoded data removed]",
      "text/plain": [
       "<Figure size 864x504 with 1 Axes>"
      ]
     },
     "metadata": {
      "needs_background": "light"
     },
     "output_type": "display_data"
    }
   ],
   "source": [
    "ps4.plot(kind='scatter', x = 'critic_score', y = 'total_sales', color='#a45e7e')\n",
    "plt.xlabel('Отзывы критиков')\n",
    "plt.ylabel('Количество проданных копий игр, млн.')\n",
    "plt.title('PlayStation 4, диаграма рассеяния: отзывы критиков')\n",
    "ps4.plot(kind='scatter', x = 'user_score', y = 'total_sales', color='#149691')\n",
    "plt.xlabel('Отзывы пользователей')\n",
    "plt.ylabel('Количество проданных копий игр, млн.')\n",
    "plt.title('PlayStation 4, диаграма рассеяния: отзывы пользователей')\n",
    "plt.show()\n",
    "\n",
    "plt.scatter(x = ps4['critic_score'], y = ps4['total_sales'], color='#a45e7e', alpha=0.4)\n",
    "plt.scatter(x = ps4['user_score100'], y = ps4['total_sales'], color='#149691', alpha=0.4)\n",
    "plt.xlabel('Отзывы критиков и пользователей')\n",
    "plt.ylabel('Количество проданных копий игр, млн.')\n",
    "plt.title('PlayStation 4, диаграма рассеяния: отзывы критиков и пользователей')\n",
    "plt.legend(['Отзывы критиков', 'Отзывы пользователей'])\n",
    "plt.show()"
   ]
  },
  {
   "cell_type": "code",
   "execution_count": 41,
   "id": "b01186bc",
   "metadata": {},
   "outputs": [
    {
     "data": {
      "text/html": [
       "<div>\n",
       "<style scoped>\n",
       "    .dataframe tbody tr th:only-of-type {\n",
       "        vertical-align: middle;\n",
       "    }\n",
       "\n",
       "    .dataframe tbody tr th {\n",
       "        vertical-align: top;\n",
       "    }\n",
       "\n",
       "    .dataframe thead th {\n",
       "        text-align: right;\n",
       "    }\n",
       "</style>\n",
       "<table border=\"1\" class=\"dataframe\">\n",
       "  <thead>\n",
       "    <tr style=\"text-align: right;\">\n",
       "      <th></th>\n",
       "      <th>total_sales</th>\n",
       "      <th>critic_score</th>\n",
       "      <th>user_score</th>\n",
       "      <th>user_score100</th>\n",
       "    </tr>\n",
       "  </thead>\n",
       "  <tbody>\n",
       "    <tr>\n",
       "      <td>total_sales</td>\n",
       "      <td>1.000000</td>\n",
       "      <td>0.406568</td>\n",
       "      <td>-0.031957</td>\n",
       "      <td>-0.031957</td>\n",
       "    </tr>\n",
       "    <tr>\n",
       "      <td>critic_score</td>\n",
       "      <td>0.406568</td>\n",
       "      <td>1.000000</td>\n",
       "      <td>0.557654</td>\n",
       "      <td>0.557654</td>\n",
       "    </tr>\n",
       "    <tr>\n",
       "      <td>user_score</td>\n",
       "      <td>-0.031957</td>\n",
       "      <td>0.557654</td>\n",
       "      <td>1.000000</td>\n",
       "      <td>1.000000</td>\n",
       "    </tr>\n",
       "    <tr>\n",
       "      <td>user_score100</td>\n",
       "      <td>-0.031957</td>\n",
       "      <td>0.557654</td>\n",
       "      <td>1.000000</td>\n",
       "      <td>1.000000</td>\n",
       "    </tr>\n",
       "  </tbody>\n",
       "</table>\n",
       "</div>"
      ],
      "text/plain": [
       "               total_sales  critic_score  user_score  user_score100\n",
       "total_sales       1.000000      0.406568   -0.031957      -0.031957\n",
       "critic_score      0.406568      1.000000    0.557654       0.557654\n",
       "user_score       -0.031957      0.557654    1.000000       1.000000\n",
       "user_score100    -0.031957      0.557654    1.000000       1.000000"
      ]
     },
     "execution_count": 41,
     "metadata": {},
     "output_type": "execute_result"
    }
   ],
   "source": [
    "ps4.corr()"
   ]
  },
  {
   "cell_type": "markdown",
   "id": "4d35e611",
   "metadata": {},
   "source": [
    "Можно наблюдать **слабую положительную корреляцию между отзывами критиков (в числовом обозначении от 1 до 100) и количеством проданных копий**: чем выше значение отзывов, тем больше копий игр продано для платформы PlayStation 4. Коэффициет корреляции равен 0.4.\n",
    "\n",
    "Взаимосвязи между отзывами пользователей и количеством проданных копий игр не обнаружено. "
   ]
  },
  {
   "cell_type": "markdown",
   "id": "7bde451b",
   "metadata": {},
   "source": [
    "### PlayStation 3"
   ]
  },
  {
   "cell_type": "code",
   "execution_count": 42,
   "id": "a5c12ac9",
   "metadata": {},
   "outputs": [],
   "source": [
    "ps3 = df_rel.query('platform == \"PS3\"')[['total_sales', 'critic_score', 'user_score']].reset_index(drop=True)\n",
    "ps3['user_score100']=ps3['user_score']*10"
   ]
  },
  {
   "cell_type": "code",
   "execution_count": 43,
   "id": "6ca635fc",
   "metadata": {},
   "outputs": [
    {
     "data": {
      "image/png": "[encoded data removed]",
      "text/plain": [
       "<Figure size 864x504 with 1 Axes>"
      ]
     },
     "metadata": {
      "needs_background": "light"
     },
     "output_type": "display_data"
    },
    {
     "data": {
      "image/png": "[encoded data removed]",
      "text/plain": [
       "<Figure size 864x504 with 1 Axes>"
      ]
     },
     "metadata": {
      "needs_background": "light"
     },
     "output_type": "display_data"
    },
    {
     "data": {
      "image/png": "[encoded data removed]",
      "text/plain": [
       "<Figure size 864x504 with 1 Axes>"
      ]
     },
     "metadata": {
      "needs_background": "light"
     },
     "output_type": "display_data"
    }
   ],
   "source": [
    "ps3.plot(kind='scatter', x = 'critic_score', y = 'total_sales', color='#a45e7e')\n",
    "plt.xlabel('Отзывы критиков')\n",
    "plt.ylabel('Количество проданных копий игр, млн.')\n",
    "plt.title('PlayStation 3, диаграма рассеяния: отзывы критиков')\n",
    "ps3.plot(kind='scatter', x = 'user_score', y = 'total_sales', color='#149691')\n",
    "plt.xlabel('Отзывы пользователей')\n",
    "plt.ylabel('Количество проданных копий игр, млн.')\n",
    "plt.title('PlayStation 3, диаграма рассеяния: отзывы пользователей')\n",
    "plt.show()\n",
    "\n",
    "plt.scatter(x = ps3['critic_score'], y = ps3['total_sales'], color='#a45e7e', alpha=0.4)\n",
    "plt.scatter(x = ps3['user_score100'], y = ps3['total_sales'], color='#149691', alpha=0.3)\n",
    "plt.xlabel('Отзывы критиков и пользователей')\n",
    "plt.ylabel('Количество проданных копий игр, млн.')\n",
    "plt.title('PlayStation 3, диаграма рассеяния: отзывы критиков и пользователей')\n",
    "plt.legend(['Отзывы критиков', 'Отзывы пользователей'])\n",
    "plt.show()"
   ]
  },
  {
   "cell_type": "code",
   "execution_count": 44,
   "id": "28d13233",
   "metadata": {},
   "outputs": [
    {
     "data": {
      "text/html": [
       "<div>\n",
       "<style scoped>\n",
       "    .dataframe tbody tr th:only-of-type {\n",
       "        vertical-align: middle;\n",
       "    }\n",
       "\n",
       "    .dataframe tbody tr th {\n",
       "        vertical-align: top;\n",
       "    }\n",
       "\n",
       "    .dataframe thead th {\n",
       "        text-align: right;\n",
       "    }\n",
       "</style>\n",
       "<table border=\"1\" class=\"dataframe\">\n",
       "  <thead>\n",
       "    <tr style=\"text-align: right;\">\n",
       "      <th></th>\n",
       "      <th>total_sales</th>\n",
       "      <th>critic_score</th>\n",
       "      <th>user_score</th>\n",
       "      <th>user_score100</th>\n",
       "    </tr>\n",
       "  </thead>\n",
       "  <tbody>\n",
       "    <tr>\n",
       "      <td>total_sales</td>\n",
       "      <td>1.000000</td>\n",
       "      <td>0.334285</td>\n",
       "      <td>0.002394</td>\n",
       "      <td>0.002394</td>\n",
       "    </tr>\n",
       "    <tr>\n",
       "      <td>critic_score</td>\n",
       "      <td>0.334285</td>\n",
       "      <td>1.000000</td>\n",
       "      <td>0.599920</td>\n",
       "      <td>0.599920</td>\n",
       "    </tr>\n",
       "    <tr>\n",
       "      <td>user_score</td>\n",
       "      <td>0.002394</td>\n",
       "      <td>0.599920</td>\n",
       "      <td>1.000000</td>\n",
       "      <td>1.000000</td>\n",
       "    </tr>\n",
       "    <tr>\n",
       "      <td>user_score100</td>\n",
       "      <td>0.002394</td>\n",
       "      <td>0.599920</td>\n",
       "      <td>1.000000</td>\n",
       "      <td>1.000000</td>\n",
       "    </tr>\n",
       "  </tbody>\n",
       "</table>\n",
       "</div>"
      ],
      "text/plain": [
       "               total_sales  critic_score  user_score  user_score100\n",
       "total_sales       1.000000      0.334285    0.002394       0.002394\n",
       "critic_score      0.334285      1.000000    0.599920       0.599920\n",
       "user_score        0.002394      0.599920    1.000000       1.000000\n",
       "user_score100     0.002394      0.599920    1.000000       1.000000"
      ]
     },
     "execution_count": 44,
     "metadata": {},
     "output_type": "execute_result"
    }
   ],
   "source": [
    "ps3.corr()"
   ]
  },
  {
   "cell_type": "markdown",
   "id": "a2b020a1",
   "metadata": {},
   "source": [
    "Аналогичная ситуация наблюдается и для \"старшего брата\": заметна  **более слабая положительная корреляция между отзывами критиков и количеством проданных копий**: чем выше значение отзывов, тем больше копий игр продано для платформы PlayStation 3. Коэффициет корреляции равен 0.33.\n",
    "\n",
    "Взаимосвязи между отзывами пользователей и количеством проданных копий игр также не обнаружено. "
   ]
  },
  {
   "cell_type": "markdown",
   "id": "f791b322",
   "metadata": {},
   "source": [
    "### Xbox One"
   ]
  },
  {
   "cell_type": "code",
   "execution_count": 45,
   "id": "6e41f62b",
   "metadata": {},
   "outputs": [],
   "source": [
    "xone = df_rel.query('platform == \"XOne\"')[['total_sales', 'critic_score', 'user_score']].reset_index(drop=True)\n",
    "xone['user_score100']=xone['user_score']*10"
   ]
  },
  {
   "cell_type": "code",
   "execution_count": 46,
   "id": "8b1c4595",
   "metadata": {},
   "outputs": [
    {
     "data": {
      "image/png": "[encoded data removed]",
      "text/plain": [
       "<Figure size 864x504 with 1 Axes>"
      ]
     },
     "metadata": {
      "needs_background": "light"
     },
     "output_type": "display_data"
    },
    {
     "data": {
      "image/png": "[encoded data removed]",
      "text/plain": [
       "<Figure size 864x504 with 1 Axes>"
      ]
     },
     "metadata": {
      "needs_background": "light"
     },
     "output_type": "display_data"
    },
    {
     "data": {
      "image/png": "[encoded data removed]",
      "text/plain": [
       "<Figure size 864x504 with 1 Axes>"
      ]
     },
     "metadata": {
      "needs_background": "light"
     },
     "output_type": "display_data"
    }
   ],
   "source": [
    "xone.plot(kind='scatter', x = 'critic_score', y = 'total_sales', color='#a45e7e')\n",
    "plt.xlabel('Отзывы критиков')\n",
    "plt.ylabel('Количество проданных копий игр, млн.')\n",
    "plt.title('Xbox One, диаграма рассеяния: отзывы критиков')\n",
    "xone.plot(kind='scatter', x = 'user_score', y = 'total_sales', color='#149691')\n",
    "plt.xlabel('Отзывы пользователей')\n",
    "plt.ylabel('Количество проданных копий игр, млн.')\n",
    "plt.title('Xbox One, диаграма рассеяния: отзывы пользователей')\n",
    "plt.show()\n",
    "\n",
    "plt.scatter(x = xone['critic_score'], y = xone['total_sales'], color='#a45e7e', alpha=0.4)\n",
    "plt.scatter(x = xone['user_score100'], y = xone['total_sales'], color='#149691', alpha=0.4)\n",
    "plt.xlabel('Отзывы критиков и пользователей')\n",
    "plt.ylabel('Количество проданных копий игр, млн.')\n",
    "plt.title('Xbox One, диаграма рассеяния: отзывы критиков и пользователей')\n",
    "plt.legend(['Отзывы критиков', 'Отзывы пользователей'])\n",
    "plt.show()"
   ]
  },
  {
   "cell_type": "code",
   "execution_count": 47,
   "id": "79334eab",
   "metadata": {},
   "outputs": [
    {
     "data": {
      "text/html": [
       "<div>\n",
       "<style scoped>\n",
       "    .dataframe tbody tr th:only-of-type {\n",
       "        vertical-align: middle;\n",
       "    }\n",
       "\n",
       "    .dataframe tbody tr th {\n",
       "        vertical-align: top;\n",
       "    }\n",
       "\n",
       "    .dataframe thead th {\n",
       "        text-align: right;\n",
       "    }\n",
       "</style>\n",
       "<table border=\"1\" class=\"dataframe\">\n",
       "  <thead>\n",
       "    <tr style=\"text-align: right;\">\n",
       "      <th></th>\n",
       "      <th>total_sales</th>\n",
       "      <th>critic_score</th>\n",
       "      <th>user_score</th>\n",
       "      <th>user_score100</th>\n",
       "    </tr>\n",
       "  </thead>\n",
       "  <tbody>\n",
       "    <tr>\n",
       "      <td>total_sales</td>\n",
       "      <td>1.000000</td>\n",
       "      <td>0.416998</td>\n",
       "      <td>-0.068925</td>\n",
       "      <td>-0.068925</td>\n",
       "    </tr>\n",
       "    <tr>\n",
       "      <td>critic_score</td>\n",
       "      <td>0.416998</td>\n",
       "      <td>1.000000</td>\n",
       "      <td>0.472462</td>\n",
       "      <td>0.472462</td>\n",
       "    </tr>\n",
       "    <tr>\n",
       "      <td>user_score</td>\n",
       "      <td>-0.068925</td>\n",
       "      <td>0.472462</td>\n",
       "      <td>1.000000</td>\n",
       "      <td>1.000000</td>\n",
       "    </tr>\n",
       "    <tr>\n",
       "      <td>user_score100</td>\n",
       "      <td>-0.068925</td>\n",
       "      <td>0.472462</td>\n",
       "      <td>1.000000</td>\n",
       "      <td>1.000000</td>\n",
       "    </tr>\n",
       "  </tbody>\n",
       "</table>\n",
       "</div>"
      ],
      "text/plain": [
       "               total_sales  critic_score  user_score  user_score100\n",
       "total_sales       1.000000      0.416998   -0.068925      -0.068925\n",
       "critic_score      0.416998      1.000000    0.472462       0.472462\n",
       "user_score       -0.068925      0.472462    1.000000       1.000000\n",
       "user_score100    -0.068925      0.472462    1.000000       1.000000"
      ]
     },
     "execution_count": 47,
     "metadata": {},
     "output_type": "execute_result"
    }
   ],
   "source": [
    "xone.corr()"
   ]
  },
  {
   "cell_type": "markdown",
   "id": "dd01e00d",
   "metadata": {},
   "source": [
    "История повторяется и для Xbox One: заметна **слабая положительная корреляция между отзывами критиков и количеством проданных копий игр**. Коэффициент корреляции: 0.42.\n",
    "\n",
    "Отзывы пользователей и количество проданных копий так же не взаимосвязаны. "
   ]
  },
  {
   "cell_type": "markdown",
   "id": "c8772223",
   "metadata": {},
   "source": [
    "### Nintendo 3DS"
   ]
  },
  {
   "cell_type": "code",
   "execution_count": 48,
   "id": "1d7d4af9",
   "metadata": {},
   "outputs": [],
   "source": [
    "n3ds = df_rel.query('platform == \"3DS\"')[['total_sales', 'critic_score', 'user_score']].reset_index(drop=True)\n",
    "n3ds['user_score100']=n3ds['user_score']*10"
   ]
  },
  {
   "cell_type": "code",
   "execution_count": 49,
   "id": "cdc6d304",
   "metadata": {},
   "outputs": [
    {
     "data": {
      "image/png": "[encoded data removed]",
      "text/plain": [
       "<Figure size 864x504 with 1 Axes>"
      ]
     },
     "metadata": {
      "needs_background": "light"
     },
     "output_type": "display_data"
    },
    {
     "data": {
      "image/png": "[encoded data removed]",
      "text/plain": [
       "<Figure size 864x504 with 1 Axes>"
      ]
     },
     "metadata": {
      "needs_background": "light"
     },
     "output_type": "display_data"
    },
    {
     "data": {
      "image/png": "[encoded data removed]",
      "text/plain": [
       "<Figure size 864x504 with 1 Axes>"
      ]
     },
     "metadata": {
      "needs_background": "light"
     },
     "output_type": "display_data"
    }
   ],
   "source": [
    "n3ds.plot(kind='scatter', x = 'critic_score', y = 'total_sales', color='#a45e7e')\n",
    "plt.xlabel('Отзывы критиков')\n",
    "plt.ylabel('Количество проданных копий игр, млн.')\n",
    "plt.title('Nintendo 3DS, диаграма рассеяния: отзывы критиков')\n",
    "n3ds.plot(kind='scatter', x = 'user_score', y = 'total_sales', color='#149691')\n",
    "plt.xlabel('Отзывы пользователей')\n",
    "plt.ylabel('Количество проданных копий игр, млн.')\n",
    "plt.title('Nintendo 3DS, диаграма рассеяния: отзывы пользователей')\n",
    "plt.show()\n",
    "\n",
    "plt.scatter(x = n3ds['critic_score'], y = n3ds['total_sales'], color='#a45e7e', alpha=0.4)\n",
    "plt.scatter(x = n3ds['user_score100'], y = n3ds['total_sales'], color='#149691', alpha=0.4)\n",
    "plt.xlabel('Отзывы критиков и пользователей')\n",
    "plt.ylabel('Количество проданных копий игр, млн.')\n",
    "plt.title('Nintendo 3DS, диаграма рассеяния: отзывы критиков и пользователей')\n",
    "plt.legend(['Отзывы критиков', 'Отзывы пользователей'])\n",
    "plt.show()"
   ]
  },
  {
   "cell_type": "code",
   "execution_count": 50,
   "id": "0a92eaf3",
   "metadata": {},
   "outputs": [
    {
     "data": {
      "text/html": [
       "<div>\n",
       "<style scoped>\n",
       "    .dataframe tbody tr th:only-of-type {\n",
       "        vertical-align: middle;\n",
       "    }\n",
       "\n",
       "    .dataframe tbody tr th {\n",
       "        vertical-align: top;\n",
       "    }\n",
       "\n",
       "    .dataframe thead th {\n",
       "        text-align: right;\n",
       "    }\n",
       "</style>\n",
       "<table border=\"1\" class=\"dataframe\">\n",
       "  <thead>\n",
       "    <tr style=\"text-align: right;\">\n",
       "      <th></th>\n",
       "      <th>total_sales</th>\n",
       "      <th>critic_score</th>\n",
       "      <th>user_score</th>\n",
       "      <th>user_score100</th>\n",
       "    </tr>\n",
       "  </thead>\n",
       "  <tbody>\n",
       "    <tr>\n",
       "      <td>total_sales</td>\n",
       "      <td>1.000000</td>\n",
       "      <td>0.357057</td>\n",
       "      <td>0.241504</td>\n",
       "      <td>0.241504</td>\n",
       "    </tr>\n",
       "    <tr>\n",
       "      <td>critic_score</td>\n",
       "      <td>0.357057</td>\n",
       "      <td>1.000000</td>\n",
       "      <td>0.769536</td>\n",
       "      <td>0.769536</td>\n",
       "    </tr>\n",
       "    <tr>\n",
       "      <td>user_score</td>\n",
       "      <td>0.241504</td>\n",
       "      <td>0.769536</td>\n",
       "      <td>1.000000</td>\n",
       "      <td>1.000000</td>\n",
       "    </tr>\n",
       "    <tr>\n",
       "      <td>user_score100</td>\n",
       "      <td>0.241504</td>\n",
       "      <td>0.769536</td>\n",
       "      <td>1.000000</td>\n",
       "      <td>1.000000</td>\n",
       "    </tr>\n",
       "  </tbody>\n",
       "</table>\n",
       "</div>"
      ],
      "text/plain": [
       "               total_sales  critic_score  user_score  user_score100\n",
       "total_sales       1.000000      0.357057    0.241504       0.241504\n",
       "critic_score      0.357057      1.000000    0.769536       0.769536\n",
       "user_score        0.241504      0.769536    1.000000       1.000000\n",
       "user_score100     0.241504      0.769536    1.000000       1.000000"
      ]
     },
     "execution_count": 50,
     "metadata": {},
     "output_type": "execute_result"
    }
   ],
   "source": [
    "n3ds.corr()"
   ]
  },
  {
   "cell_type": "markdown",
   "id": "b36fab03",
   "metadata": {},
   "source": [
    "Можно наблюдать **более положительную корреляцию между отзывами критиков (в числовом обозначении от 1 до 100) и количеством проданных копий**: чем выше значение отзывов, тем больше копий игр продано для платформы Nintendo 3DS. Коэффициет корреляции равен 0.36.\n",
    "\n",
    "**Взаимосвязь между отзывами пользователей и количеством проданных копий игр, возможно, также существует, но она очень слабая**: коэффициент корреляции равен 0.24. "
   ]
  },
  {
   "cell_type": "markdown",
   "id": "6cbeb524",
   "metadata": {},
   "source": [
    "### PC"
   ]
  },
  {
   "cell_type": "code",
   "execution_count": 51,
   "id": "285043f3",
   "metadata": {},
   "outputs": [],
   "source": [
    "pc = df_rel.query('platform == \"PC\"')[['total_sales', 'critic_score', 'user_score']].reset_index(drop=True)\n",
    "pc['user_score100']=pc['user_score']*10"
   ]
  },
  {
   "cell_type": "code",
   "execution_count": 52,
   "id": "03c9db13",
   "metadata": {},
   "outputs": [
    {
     "data": {
      "image/png": "[encoded data removed]",
      "text/plain": [
       "<Figure size 864x504 with 1 Axes>"
      ]
     },
     "metadata": {
      "needs_background": "light"
     },
     "output_type": "display_data"
    },
    {
     "data": {
      "image/png": "[encoded data removed]",
      "text/plain": [
       "<Figure size 864x504 with 1 Axes>"
      ]
     },
     "metadata": {
      "needs_background": "light"
     },
     "output_type": "display_data"
    },
    {
     "data": {
      "image/png": "[encoded data removed]",
      "text/plain": [
       "<Figure size 864x504 with 1 Axes>"
      ]
     },
     "metadata": {
      "needs_background": "light"
     },
     "output_type": "display_data"
    }
   ],
   "source": [
    "pc.plot(kind='scatter', x = 'critic_score', y = 'total_sales', color='#a45e7e')\n",
    "plt.xlabel('Отзывы критиков')\n",
    "plt.ylabel('Количество проданных копий игр, млн.')\n",
    "plt.title('PC, диаграма рассеяния: отзывы критиков')\n",
    "pc.plot(kind='scatter', x = 'user_score', y = 'total_sales', color='#149691')\n",
    "plt.xlabel('Отзывы пользователей')\n",
    "plt.ylabel('Количество проданных копий игр, млн.')\n",
    "plt.title('PC, диаграма рассеяния: отзывы пользователей')\n",
    "plt.show()\n",
    "\n",
    "plt.scatter(x = pc['critic_score'], y = pc['total_sales'], color='#a45e7e', alpha=0.4)\n",
    "plt.scatter(x = pc['user_score100'], y = pc['total_sales'], color='#149691', alpha=0.4)\n",
    "plt.xlabel('Отзывы критиков и пользователей')\n",
    "plt.ylabel('Количество проданных копий игр, млн.')\n",
    "plt.title('PC, диаграма рассеяния: отзывы критиков и пользователей')\n",
    "plt.legend(['Отзывы критиков', 'Отзывы пользователей'])\n",
    "plt.show()"
   ]
  },
  {
   "cell_type": "code",
   "execution_count": 53,
   "id": "551d2e37",
   "metadata": {},
   "outputs": [
    {
     "data": {
      "text/html": [
       "<div>\n",
       "<style scoped>\n",
       "    .dataframe tbody tr th:only-of-type {\n",
       "        vertical-align: middle;\n",
       "    }\n",
       "\n",
       "    .dataframe tbody tr th {\n",
       "        vertical-align: top;\n",
       "    }\n",
       "\n",
       "    .dataframe thead th {\n",
       "        text-align: right;\n",
       "    }\n",
       "</style>\n",
       "<table border=\"1\" class=\"dataframe\">\n",
       "  <thead>\n",
       "    <tr style=\"text-align: right;\">\n",
       "      <th></th>\n",
       "      <th>total_sales</th>\n",
       "      <th>critic_score</th>\n",
       "      <th>user_score</th>\n",
       "      <th>user_score100</th>\n",
       "    </tr>\n",
       "  </thead>\n",
       "  <tbody>\n",
       "    <tr>\n",
       "      <td>total_sales</td>\n",
       "      <td>1.000000</td>\n",
       "      <td>0.196030</td>\n",
       "      <td>-0.093842</td>\n",
       "      <td>-0.093842</td>\n",
       "    </tr>\n",
       "    <tr>\n",
       "      <td>critic_score</td>\n",
       "      <td>0.196030</td>\n",
       "      <td>1.000000</td>\n",
       "      <td>0.429562</td>\n",
       "      <td>0.429562</td>\n",
       "    </tr>\n",
       "    <tr>\n",
       "      <td>user_score</td>\n",
       "      <td>-0.093842</td>\n",
       "      <td>0.429562</td>\n",
       "      <td>1.000000</td>\n",
       "      <td>1.000000</td>\n",
       "    </tr>\n",
       "    <tr>\n",
       "      <td>user_score100</td>\n",
       "      <td>-0.093842</td>\n",
       "      <td>0.429562</td>\n",
       "      <td>1.000000</td>\n",
       "      <td>1.000000</td>\n",
       "    </tr>\n",
       "  </tbody>\n",
       "</table>\n",
       "</div>"
      ],
      "text/plain": [
       "               total_sales  critic_score  user_score  user_score100\n",
       "total_sales       1.000000      0.196030   -0.093842      -0.093842\n",
       "critic_score      0.196030      1.000000    0.429562       0.429562\n",
       "user_score       -0.093842      0.429562    1.000000       1.000000\n",
       "user_score100    -0.093842      0.429562    1.000000       1.000000"
      ]
     },
     "execution_count": 53,
     "metadata": {},
     "output_type": "execute_result"
    }
   ],
   "source": [
    "pc.corr()"
   ]
  },
  {
   "cell_type": "markdown",
   "id": "0b18e584",
   "metadata": {},
   "source": [
    "Говоря о взаимосвязи отзывов критиков и пользователей и количество проданных копий игр для персональных компьютеров, можн оотметить, что **никакой связи не обнаружено**."
   ]
  },
  {
   "cell_type": "markdown",
   "id": "0f8b2c29",
   "metadata": {},
   "source": [
    "## Распределение игр по жанрам"
   ]
  },
  {
   "cell_type": "markdown",
   "id": "6eb20d36",
   "metadata": {},
   "source": [
    "Необходимо изучить жанры видеоигр и определить, игры каких жанров продаются лучше и хуже всего. "
   ]
  },
  {
   "cell_type": "code",
   "execution_count": 54,
   "id": "f47bc4e5",
   "metadata": {},
   "outputs": [
    {
     "data": {
      "text/html": [
       "<div>\n",
       "<style scoped>\n",
       "    .dataframe tbody tr th:only-of-type {\n",
       "        vertical-align: middle;\n",
       "    }\n",
       "\n",
       "    .dataframe tbody tr th {\n",
       "        vertical-align: top;\n",
       "    }\n",
       "\n",
       "    .dataframe thead th {\n",
       "        text-align: right;\n",
       "    }\n",
       "</style>\n",
       "<table border=\"1\" class=\"dataframe\">\n",
       "  <thead>\n",
       "    <tr style=\"text-align: right;\">\n",
       "      <th></th>\n",
       "      <th>name</th>\n",
       "      <th>total_sales</th>\n",
       "    </tr>\n",
       "    <tr>\n",
       "      <th>genre</th>\n",
       "      <th></th>\n",
       "      <th></th>\n",
       "    </tr>\n",
       "  </thead>\n",
       "  <tbody>\n",
       "    <tr>\n",
       "      <td>Action</td>\n",
       "      <td>766</td>\n",
       "      <td>321.87</td>\n",
       "    </tr>\n",
       "    <tr>\n",
       "      <td>Shooter</td>\n",
       "      <td>187</td>\n",
       "      <td>232.98</td>\n",
       "    </tr>\n",
       "    <tr>\n",
       "      <td>Sports</td>\n",
       "      <td>214</td>\n",
       "      <td>150.65</td>\n",
       "    </tr>\n",
       "    <tr>\n",
       "      <td>Role-Playing</td>\n",
       "      <td>292</td>\n",
       "      <td>145.89</td>\n",
       "    </tr>\n",
       "    <tr>\n",
       "      <td>Misc</td>\n",
       "      <td>155</td>\n",
       "      <td>62.82</td>\n",
       "    </tr>\n",
       "    <tr>\n",
       "      <td>Platform</td>\n",
       "      <td>74</td>\n",
       "      <td>42.63</td>\n",
       "    </tr>\n",
       "    <tr>\n",
       "      <td>Racing</td>\n",
       "      <td>85</td>\n",
       "      <td>39.89</td>\n",
       "    </tr>\n",
       "    <tr>\n",
       "      <td>Fighting</td>\n",
       "      <td>80</td>\n",
       "      <td>35.31</td>\n",
       "    </tr>\n",
       "    <tr>\n",
       "      <td>Adventure</td>\n",
       "      <td>245</td>\n",
       "      <td>23.64</td>\n",
       "    </tr>\n",
       "    <tr>\n",
       "      <td>Simulation</td>\n",
       "      <td>62</td>\n",
       "      <td>21.76</td>\n",
       "    </tr>\n",
       "    <tr>\n",
       "      <td>Strategy</td>\n",
       "      <td>56</td>\n",
       "      <td>10.08</td>\n",
       "    </tr>\n",
       "    <tr>\n",
       "      <td>Puzzle</td>\n",
       "      <td>17</td>\n",
       "      <td>3.17</td>\n",
       "    </tr>\n",
       "  </tbody>\n",
       "</table>\n",
       "</div>"
      ],
      "text/plain": [
       "              name  total_sales\n",
       "genre                          \n",
       "Action         766       321.87\n",
       "Shooter        187       232.98\n",
       "Sports         214       150.65\n",
       "Role-Playing   292       145.89\n",
       "Misc           155        62.82\n",
       "Platform        74        42.63\n",
       "Racing          85        39.89\n",
       "Fighting        80        35.31\n",
       "Adventure      245        23.64\n",
       "Simulation      62        21.76\n",
       "Strategy        56        10.08\n",
       "Puzzle          17         3.17"
      ]
     },
     "execution_count": 54,
     "metadata": {},
     "output_type": "execute_result"
    }
   ],
   "source": [
    "genres = df_rel.pivot_table(index='genre', values=['total_sales', 'name'], \n",
    "                            aggfunc={'total_sales': 'sum',\n",
    "                                    'name': 'count'})\n",
    "genres.sort_values('total_sales', ascending=False)"
   ]
  },
  {
   "cell_type": "code",
   "execution_count": 55,
   "id": "c5bb58c9",
   "metadata": {},
   "outputs": [
    {
     "data": {
      "image/png": "[encoded data removed]",
      "text/plain": [
       "<Figure size 1080x576 with 2 Axes>"
      ]
     },
     "metadata": {
      "needs_background": "light"
     },
     "output_type": "display_data"
    }
   ],
   "source": [
    "x = genres.plot(kind='bar', figsize=(15, 8), color=['#ffaaa5', '#d5e6f5'], ec='black')\n",
    "plt.title('Жанры видеоигр: продажи и число игр по жанрам', fontsize=14)\n",
    "plt.ylabel('Количество игр, ед.')\n",
    "plt.xlabel('Жанры')\n",
    "plt.legend(['Количество выпущенных игр, ед.', 'Количество проданных копий, млн.'])\n",
    "\n",
    "genres[['total_sales']].plot(kind='bar', ax = x, alpha = 0.0, legend=False, secondary_y=True)\n",
    "plt.ylabel('Количество проданных копий игр, млн.')\n",
    "plt.grid()"
   ]
  },
  {
   "cell_type": "code",
   "execution_count": 56,
   "id": "9ba9dc3e",
   "metadata": {},
   "outputs": [
    {
     "data": {
      "text/html": [
       "<div>\n",
       "<style scoped>\n",
       "    .dataframe tbody tr th:only-of-type {\n",
       "        vertical-align: middle;\n",
       "    }\n",
       "\n",
       "    .dataframe tbody tr th {\n",
       "        vertical-align: top;\n",
       "    }\n",
       "\n",
       "    .dataframe thead th {\n",
       "        text-align: right;\n",
       "    }\n",
       "</style>\n",
       "<table border=\"1\" class=\"dataframe\">\n",
       "  <thead>\n",
       "    <tr style=\"text-align: right;\">\n",
       "      <th></th>\n",
       "      <th>name</th>\n",
       "      <th>total_sales</th>\n",
       "      <th>sales_per_games</th>\n",
       "    </tr>\n",
       "    <tr>\n",
       "      <th>genre</th>\n",
       "      <th></th>\n",
       "      <th></th>\n",
       "      <th></th>\n",
       "    </tr>\n",
       "  </thead>\n",
       "  <tbody>\n",
       "    <tr>\n",
       "      <td>Action</td>\n",
       "      <td>766</td>\n",
       "      <td>321.87</td>\n",
       "      <td>0.42</td>\n",
       "    </tr>\n",
       "    <tr>\n",
       "      <td>Shooter</td>\n",
       "      <td>187</td>\n",
       "      <td>232.98</td>\n",
       "      <td>1.25</td>\n",
       "    </tr>\n",
       "    <tr>\n",
       "      <td>Sports</td>\n",
       "      <td>214</td>\n",
       "      <td>150.65</td>\n",
       "      <td>0.70</td>\n",
       "    </tr>\n",
       "    <tr>\n",
       "      <td>Role-Playing</td>\n",
       "      <td>292</td>\n",
       "      <td>145.89</td>\n",
       "      <td>0.50</td>\n",
       "    </tr>\n",
       "    <tr>\n",
       "      <td>Misc</td>\n",
       "      <td>155</td>\n",
       "      <td>62.82</td>\n",
       "      <td>0.41</td>\n",
       "    </tr>\n",
       "    <tr>\n",
       "      <td>Platform</td>\n",
       "      <td>74</td>\n",
       "      <td>42.63</td>\n",
       "      <td>0.58</td>\n",
       "    </tr>\n",
       "    <tr>\n",
       "      <td>Racing</td>\n",
       "      <td>85</td>\n",
       "      <td>39.89</td>\n",
       "      <td>0.47</td>\n",
       "    </tr>\n",
       "    <tr>\n",
       "      <td>Fighting</td>\n",
       "      <td>80</td>\n",
       "      <td>35.31</td>\n",
       "      <td>0.44</td>\n",
       "    </tr>\n",
       "    <tr>\n",
       "      <td>Adventure</td>\n",
       "      <td>245</td>\n",
       "      <td>23.64</td>\n",
       "      <td>0.10</td>\n",
       "    </tr>\n",
       "    <tr>\n",
       "      <td>Simulation</td>\n",
       "      <td>62</td>\n",
       "      <td>21.76</td>\n",
       "      <td>0.35</td>\n",
       "    </tr>\n",
       "    <tr>\n",
       "      <td>Strategy</td>\n",
       "      <td>56</td>\n",
       "      <td>10.08</td>\n",
       "      <td>0.18</td>\n",
       "    </tr>\n",
       "    <tr>\n",
       "      <td>Puzzle</td>\n",
       "      <td>17</td>\n",
       "      <td>3.17</td>\n",
       "      <td>0.19</td>\n",
       "    </tr>\n",
       "  </tbody>\n",
       "</table>\n",
       "</div>"
      ],
      "text/plain": [
       "              name  total_sales  sales_per_games\n",
       "genre                                           \n",
       "Action         766       321.87             0.42\n",
       "Shooter        187       232.98             1.25\n",
       "Sports         214       150.65             0.70\n",
       "Role-Playing   292       145.89             0.50\n",
       "Misc           155        62.82             0.41\n",
       "Platform        74        42.63             0.58\n",
       "Racing          85        39.89             0.47\n",
       "Fighting        80        35.31             0.44\n",
       "Adventure      245        23.64             0.10\n",
       "Simulation      62        21.76             0.35\n",
       "Strategy        56        10.08             0.18\n",
       "Puzzle          17         3.17             0.19"
      ]
     },
     "execution_count": 56,
     "metadata": {},
     "output_type": "execute_result"
    }
   ],
   "source": [
    "genres['sales_per_games'] = genres['total_sales']/genres['name']\n",
    "genres.sort_values('total_sales', ascending=False).round(2)"
   ]
  },
  {
   "cell_type": "markdown",
   "id": "a5495b2e",
   "metadata": {},
   "source": [
    "Тройка лидеров по количеству проданных копий:\n",
    "* _Action_: 766 игр, продано 321.87 млн копий\n",
    "* _Shooter_: 187 игр, продано 232.98 млн копий\n",
    "* _Sports_: 214 игр, 150.65 млн копий\n",
    "\n",
    "И наименее популярные жанры:\n",
    "* _Puzzle_: 17 игр, 3.17 млн копий\n",
    "* _Strategy_: 56 игр, 10.09 млн копий\n",
    "* _Simulation_: 62 игры, 21.76 млн копий\n",
    "\n",
    "Тем не менее, стоит отметить, что в случае игры жанра _Action_ лидирующая позиция получена за счет количества выпущенных игры, при том, что среднее количество продаж на одну игру в этом жанре не очень большое - 420 тыс копий. Что же касается жанра _Shooter_, на одну игру приходится с среднем 1.25 млн копий; здесь полулярность достигается именно за счет продаваемости. "
   ]
  },
  {
   "cell_type": "code",
   "execution_count": 57,
   "id": "9aa7fb43",
   "metadata": {},
   "outputs": [
    {
     "data": {
      "text/html": [
       "<div>\n",
       "<style scoped>\n",
       "    .dataframe tbody tr th:only-of-type {\n",
       "        vertical-align: middle;\n",
       "    }\n",
       "\n",
       "    .dataframe tbody tr th {\n",
       "        vertical-align: top;\n",
       "    }\n",
       "\n",
       "    .dataframe thead th {\n",
       "        text-align: right;\n",
       "    }\n",
       "</style>\n",
       "<table border=\"1\" class=\"dataframe\">\n",
       "  <thead>\n",
       "    <tr style=\"text-align: right;\">\n",
       "      <th></th>\n",
       "      <th></th>\n",
       "      <th>total_sales</th>\n",
       "    </tr>\n",
       "    <tr>\n",
       "      <th>name</th>\n",
       "      <th>genre</th>\n",
       "      <th></th>\n",
       "    </tr>\n",
       "  </thead>\n",
       "  <tbody>\n",
       "    <tr>\n",
       "      <td>Grand Theft Auto V</td>\n",
       "      <td>Action</td>\n",
       "      <td>56.58</td>\n",
       "    </tr>\n",
       "    <tr>\n",
       "      <td>Call of Duty: Ghosts</td>\n",
       "      <td>Shooter</td>\n",
       "      <td>27.39</td>\n",
       "    </tr>\n",
       "    <tr>\n",
       "      <td>Call of Duty: Black Ops 3</td>\n",
       "      <td>Shooter</td>\n",
       "      <td>25.67</td>\n",
       "    </tr>\n",
       "    <tr>\n",
       "      <td>Minecraft</td>\n",
       "      <td>Misc</td>\n",
       "      <td>24.16</td>\n",
       "    </tr>\n",
       "    <tr>\n",
       "      <td>Call of Duty: Advanced Warfare</td>\n",
       "      <td>Shooter</td>\n",
       "      <td>21.97</td>\n",
       "    </tr>\n",
       "    <tr>\n",
       "      <td>FIFA 15</td>\n",
       "      <td>Sports</td>\n",
       "      <td>17.37</td>\n",
       "    </tr>\n",
       "    <tr>\n",
       "      <td>FIFA 14</td>\n",
       "      <td>Sports</td>\n",
       "      <td>16.46</td>\n",
       "    </tr>\n",
       "    <tr>\n",
       "      <td>FIFA 16</td>\n",
       "      <td>Sports</td>\n",
       "      <td>16.30</td>\n",
       "    </tr>\n",
       "    <tr>\n",
       "      <td>Pokemon X/Pokemon Y</td>\n",
       "      <td>Role-Playing</td>\n",
       "      <td>14.60</td>\n",
       "    </tr>\n",
       "    <tr>\n",
       "      <td>Battlefield 4</td>\n",
       "      <td>Shooter</td>\n",
       "      <td>13.94</td>\n",
       "    </tr>\n",
       "  </tbody>\n",
       "</table>\n",
       "</div>"
      ],
      "text/plain": [
       "                                             total_sales\n",
       "name                           genre                    \n",
       "Grand Theft Auto V             Action              56.58\n",
       "Call of Duty: Ghosts           Shooter             27.39\n",
       "Call of Duty: Black Ops 3      Shooter             25.67\n",
       "Minecraft                      Misc                24.16\n",
       "Call of Duty: Advanced Warfare Shooter             21.97\n",
       "FIFA 15                        Sports              17.37\n",
       "FIFA 14                        Sports              16.46\n",
       "FIFA 16                        Sports              16.30\n",
       "Pokemon X/Pokemon Y            Role-Playing        14.60\n",
       "Battlefield 4                  Shooter             13.94"
      ]
     },
     "execution_count": 57,
     "metadata": {},
     "output_type": "execute_result"
    }
   ],
   "source": [
    "df_rel.pivot_table(\n",
    "    index=['name', 'genre'], values='total_sales', aggfunc='sum').sort_values(\n",
    "    'total_sales', ascending=False).head(10)"
   ]
  },
  {
   "cell_type": "markdown",
   "id": "a9bfc995",
   "metadata": {},
   "source": [
    "Можно заметить, что третье по популярности место жанра _Sports_ получено за счет игр FIFA: более трети всех проданных копий приходится на эти игры. Среди игр жанра _Shooter_ выделяются Call of Duty (более 70 млн копий за 3 игры серии). В топ-10 самых популярных игр лидирует GTA V - игра жанра _Action_ - с рекордными 56.58 млн проданных копий, что составляет 17.6% всех продаж жанра). "
   ]
  },
  {
   "cell_type": "markdown",
   "id": "b51fc730",
   "metadata": {},
   "source": [
    "### Промежуточные выводы"
   ]
  },
  {
   "cell_type": "markdown",
   "id": "8ab32ee6",
   "metadata": {},
   "source": [
    "На первом этапе исследовательского анализа данных было выявлено, что \"жизненный цикл\" игровой платформы составляет около 10 лет, при этом платформа достигает пика за 3-5 лет, затем вытесняется более совершенными игровыми платформами. Было решено взять для анализа данные начиная с 2013 года (из 2017 года мы вычли 4 года, требующиеся платформе, чтобы достигнуть пика продаж игр). Так был обозначен актуальный период, и все последующие операции с данными производились именно для этого периода. \n",
    "\n",
    "Лидер по продажам c 2014 года - PlayStation4, за ним следуют Xbox One и PlayStation 3. Однако, начиная с 2015 года количество проданных копий игр падает по всем платформам. \n",
    "\n",
    "Согласно графику \"ящик с усами\", что по медианным показателям лидирует Xbox 360, за ним следуют Xbox One и WiiU. \n",
    "\n",
    "Для большинства игровых платформа наблюдается слабая положительная корреляция (0.3-0.4) между отзывами критиков и количеством продажжых копий. Для отзывов пользователей и количества проданных копий такая связь не характерна. \n",
    "\n",
    "Самые популярные жанры видеоигр - _Action_, _Shooter_ и _Sports_: 321.85, 232.98 и 150.65 млн проданных копий соответственно. Внутри этих жанров выделяются GTA V (_Action_), серия Call of Duty (_Shooter_) и серия FIFA (_Sports_)."
   ]
  },
  {
   "cell_type": "markdown",
   "id": "a95569f7",
   "metadata": {},
   "source": [
    "## Портрет пользователей по регионам"
   ]
  },
  {
   "cell_type": "markdown",
   "id": "10fc5ec5",
   "metadata": {},
   "source": [
    "На данном этапе мы рассмотрим, какие платформы и игровые жанры наиболее популярны в Северной Америке, Европе и Японии. Также мы изучим, влияет ли рейтинг ESRB на продажи по регионам. "
   ]
  },
  {
   "cell_type": "markdown",
   "id": "5465b880",
   "metadata": {},
   "source": [
    "_Пояснение по рейтингу ESRB (Entertainment Software Rating Board):_\n",
    "\n",
    "* «E» («Everyone») — «Для всех»: Содержание вполне подходит для возрастной категории от 6 лет. Такие игры могут понравиться и взрослым. Игры с этим рейтингом могут содержать минимальное насилие, в основном «мультяшного» характера.\n",
    "* «E10+» («Everyone 10 and older») — «Для всех от 10 лет и старше»: Проекты с данным рейтингом могут содержать или немного больше мультипликационного или мягкого насилия, или несколько откровенные сцены, или минимальное количество крови. \n",
    "* «T» («Teen») — «Подросткам»: Игра подходит для лиц от 13 лет. Проекты из данной категории могут содержать насилие, непристойные сцены, грубый юмор, в меру откровенное сексуальное содержимое, кровь или нечастое использование ненормативной лексики.\n",
    "* «M» («Mature») — «Для взрослых»: Материалы игры не подходят для подростков младше 17 лет. Проекты с данным рейтингом могут содержать достаточно жестокое насилие, большое количество крови с расчленением, непристойные сексуальные сцены или грубую ненормативную лексику, нежелательную для младшей аудитории."
   ]
  },
  {
   "cell_type": "markdown",
   "id": "2f9fd85c",
   "metadata": {},
   "source": [
    "### Северная Америка"
   ]
  },
  {
   "cell_type": "markdown",
   "id": "7c17fee0",
   "metadata": {},
   "source": [
    "#### Игровые платформы"
   ]
  },
  {
   "cell_type": "code",
   "execution_count": 58,
   "id": "7fc5f29c",
   "metadata": {},
   "outputs": [
    {
     "data": {
      "image/png": "[encoded data removed]",
      "text/plain": [
       "<Figure size 720x360 with 1 Axes>"
      ]
     },
     "metadata": {
      "needs_background": "light"
     },
     "output_type": "display_data"
    },
    {
     "data": {
      "text/html": [
       "<div>\n",
       "<style scoped>\n",
       "    .dataframe tbody tr th:only-of-type {\n",
       "        vertical-align: middle;\n",
       "    }\n",
       "\n",
       "    .dataframe tbody tr th {\n",
       "        vertical-align: top;\n",
       "    }\n",
       "\n",
       "    .dataframe thead th {\n",
       "        text-align: right;\n",
       "    }\n",
       "</style>\n",
       "<table border=\"1\" class=\"dataframe\">\n",
       "  <thead>\n",
       "    <tr style=\"text-align: right;\">\n",
       "      <th></th>\n",
       "      <th>na_sales</th>\n",
       "    </tr>\n",
       "    <tr>\n",
       "      <th>platform</th>\n",
       "      <th></th>\n",
       "    </tr>\n",
       "  </thead>\n",
       "  <tbody>\n",
       "    <tr>\n",
       "      <td>PS4</td>\n",
       "      <td>108.74</td>\n",
       "    </tr>\n",
       "    <tr>\n",
       "      <td>XOne</td>\n",
       "      <td>93.12</td>\n",
       "    </tr>\n",
       "    <tr>\n",
       "      <td>X360</td>\n",
       "      <td>81.66</td>\n",
       "    </tr>\n",
       "    <tr>\n",
       "      <td>PS3</td>\n",
       "      <td>63.50</td>\n",
       "    </tr>\n",
       "    <tr>\n",
       "      <td>3DS</td>\n",
       "      <td>38.20</td>\n",
       "    </tr>\n",
       "  </tbody>\n",
       "</table>\n",
       "</div>"
      ],
      "text/plain": [
       "          na_sales\n",
       "platform          \n",
       "PS4         108.74\n",
       "XOne         93.12\n",
       "X360         81.66\n",
       "PS3          63.50\n",
       "3DS          38.20"
      ]
     },
     "execution_count": 58,
     "metadata": {},
     "output_type": "execute_result"
    }
   ],
   "source": [
    "df_rel.pivot_table(\n",
    "    index='platform', values='na_sales', aggfunc='sum').sort_values(\n",
    "    'na_sales', ascending=False).head(5).plot(kind='bar', figsize=(10, 5), \n",
    "    color='#ddedea', title='Топ-5 игровых платформ в Северной Америке')\n",
    "\n",
    "plt.xlabel('Игровая платформа')\n",
    "plt.ylabel('Количество проданных копий игр, млн.')\n",
    "plt.grid()\n",
    "plt.show()\n",
    "\n",
    "df_rel.pivot_table(\n",
    "    index='platform', values='na_sales', aggfunc='sum').sort_values(\n",
    "    'na_sales', ascending=False).head(5)"
   ]
  },
  {
   "cell_type": "markdown",
   "id": "08385b1a",
   "metadata": {},
   "source": [
    "В Северной Америке наибольшую популярность имеет PlayStation 4 c 108.74 млн проданных копий игр. За ним следуют два поколения Xbox - One и 360 - 93.12 и 81.66 млн копий соответственно. Далее с 63.50 млн проданных копий располагается PlayStation 3, а за ней Nintendo 3DS."
   ]
  },
  {
   "cell_type": "markdown",
   "id": "d8b5c15a",
   "metadata": {},
   "source": [
    "#### Игровые жанры"
   ]
  },
  {
   "cell_type": "code",
   "execution_count": 59,
   "id": "7a679b15",
   "metadata": {},
   "outputs": [
    {
     "data": {
      "image/png": "[encoded data removed]",
      "text/plain": [
       "<Figure size 720x360 with 1 Axes>"
      ]
     },
     "metadata": {
      "needs_background": "light"
     },
     "output_type": "display_data"
    },
    {
     "data": {
      "text/html": [
       "<div>\n",
       "<style scoped>\n",
       "    .dataframe tbody tr th:only-of-type {\n",
       "        vertical-align: middle;\n",
       "    }\n",
       "\n",
       "    .dataframe tbody tr th {\n",
       "        vertical-align: top;\n",
       "    }\n",
       "\n",
       "    .dataframe thead th {\n",
       "        text-align: right;\n",
       "    }\n",
       "</style>\n",
       "<table border=\"1\" class=\"dataframe\">\n",
       "  <thead>\n",
       "    <tr style=\"text-align: right;\">\n",
       "      <th></th>\n",
       "      <th>na_sales</th>\n",
       "    </tr>\n",
       "    <tr>\n",
       "      <th>genre</th>\n",
       "      <th></th>\n",
       "    </tr>\n",
       "  </thead>\n",
       "  <tbody>\n",
       "    <tr>\n",
       "      <td>Action</td>\n",
       "      <td>126.05</td>\n",
       "    </tr>\n",
       "    <tr>\n",
       "      <td>Shooter</td>\n",
       "      <td>109.74</td>\n",
       "    </tr>\n",
       "    <tr>\n",
       "      <td>Sports</td>\n",
       "      <td>65.27</td>\n",
       "    </tr>\n",
       "    <tr>\n",
       "      <td>Role-Playing</td>\n",
       "      <td>46.40</td>\n",
       "    </tr>\n",
       "    <tr>\n",
       "      <td>Misc</td>\n",
       "      <td>27.49</td>\n",
       "    </tr>\n",
       "  </tbody>\n",
       "</table>\n",
       "</div>"
      ],
      "text/plain": [
       "              na_sales\n",
       "genre                 \n",
       "Action          126.05\n",
       "Shooter         109.74\n",
       "Sports           65.27\n",
       "Role-Playing     46.40\n",
       "Misc             27.49"
      ]
     },
     "execution_count": 59,
     "metadata": {},
     "output_type": "execute_result"
    }
   ],
   "source": [
    "df_rel.pivot_table(\n",
    "    index='genre', values='na_sales', aggfunc='sum').sort_values(\n",
    "    'na_sales', ascending=False).head(5).plot(kind='bar', figsize=(10, 5), \n",
    "    color='#daeaf6', title='Топ-5 игровых жанров в Северной Америке')\n",
    "\n",
    "plt.xlabel('Жанр')\n",
    "plt.ylabel('Количество проданных копий игр, млн.')\n",
    "plt.grid()\n",
    "plt.show()\n",
    "\n",
    "df_rel.pivot_table(\n",
    "    index='genre', values='na_sales', aggfunc='sum').sort_values(\n",
    "    'na_sales', ascending=False).head(5)"
   ]
  },
  {
   "cell_type": "markdown",
   "id": "bedb1584",
   "metadata": {},
   "source": [
    "Топ-5 жанров видеоигр в Северной Америке выглядит так же, как и топ-5 по миру: лидируют игры жанра _Action_ и замыкает пятерку лидеров жанр _Misc_. "
   ]
  },
  {
   "cell_type": "markdown",
   "id": "566d813f",
   "metadata": {},
   "source": [
    "#### Рейтинг ESRB"
   ]
  },
  {
   "cell_type": "code",
   "execution_count": 60,
   "id": "68d4f242",
   "metadata": {},
   "outputs": [
    {
     "data": {
      "image/png": "[encoded data removed]",
      "text/plain": [
       "<Figure size 720x360 with 1 Axes>"
      ]
     },
     "metadata": {
      "needs_background": "light"
     },
     "output_type": "display_data"
    },
    {
     "data": {
      "text/html": [
       "<div>\n",
       "<style scoped>\n",
       "    .dataframe tbody tr th:only-of-type {\n",
       "        vertical-align: middle;\n",
       "    }\n",
       "\n",
       "    .dataframe tbody tr th {\n",
       "        vertical-align: top;\n",
       "    }\n",
       "\n",
       "    .dataframe thead th {\n",
       "        text-align: right;\n",
       "    }\n",
       "</style>\n",
       "<table border=\"1\" class=\"dataframe\">\n",
       "  <thead>\n",
       "    <tr style=\"text-align: right;\">\n",
       "      <th></th>\n",
       "      <th>na_sales</th>\n",
       "    </tr>\n",
       "    <tr>\n",
       "      <th>rating</th>\n",
       "      <th></th>\n",
       "    </tr>\n",
       "  </thead>\n",
       "  <tbody>\n",
       "    <tr>\n",
       "      <td>M</td>\n",
       "      <td>165.21</td>\n",
       "    </tr>\n",
       "    <tr>\n",
       "      <td>E</td>\n",
       "      <td>79.05</td>\n",
       "    </tr>\n",
       "    <tr>\n",
       "      <td>E10+</td>\n",
       "      <td>54.24</td>\n",
       "    </tr>\n",
       "    <tr>\n",
       "      <td>T</td>\n",
       "      <td>49.79</td>\n",
       "    </tr>\n",
       "  </tbody>\n",
       "</table>\n",
       "</div>"
      ],
      "text/plain": [
       "        na_sales\n",
       "rating          \n",
       "M         165.21\n",
       "E          79.05\n",
       "E10+       54.24\n",
       "T          49.79"
      ]
     },
     "execution_count": 60,
     "metadata": {},
     "output_type": "execute_result"
    }
   ],
   "source": [
    "df_rel.pivot_table(\n",
    "    index='rating', values='na_sales', aggfunc='sum').sort_values(\n",
    "    'na_sales', ascending=False).plot(kind='bar', figsize=(10, 5), \n",
    "    color='#e8dff5', title='Топ-5 игровых жанров в Северной Америке')\n",
    "\n",
    "plt.xlabel('Рейтинг')\n",
    "plt.ylabel('Количество проданных копий игр, млн.')\n",
    "plt.grid()\n",
    "plt.show()\n",
    "\n",
    "df_rel.pivot_table(\n",
    "    index='rating', values='na_sales', aggfunc='sum').sort_values(\n",
    "    'na_sales', ascending=False)"
   ]
  },
  {
   "cell_type": "markdown",
   "id": "14026c5e",
   "metadata": {},
   "source": [
    "С большим отрывом лидируют игры рейтинга \"M\" - это игры категории 18+. Вероятно, многие игры жанров _Action_ и _Shooting_ относится именно к этому рейтингу. Меньше всего продано копий игры жанра \"T\" - игры для подростков от 13 лет."
   ]
  },
  {
   "cell_type": "markdown",
   "id": "591165b9",
   "metadata": {},
   "source": [
    "### Европа"
   ]
  },
  {
   "cell_type": "markdown",
   "id": "42acc7e1",
   "metadata": {},
   "source": [
    "#### Игровые платформы"
   ]
  },
  {
   "cell_type": "code",
   "execution_count": 61,
   "id": "53f34961",
   "metadata": {},
   "outputs": [
    {
     "data": {
      "image/png": "[encoded data removed]",
      "text/plain": [
       "<Figure size 720x360 with 1 Axes>"
      ]
     },
     "metadata": {
      "needs_background": "light"
     },
     "output_type": "display_data"
    },
    {
     "data": {
      "text/html": [
       "<div>\n",
       "<style scoped>\n",
       "    .dataframe tbody tr th:only-of-type {\n",
       "        vertical-align: middle;\n",
       "    }\n",
       "\n",
       "    .dataframe tbody tr th {\n",
       "        vertical-align: top;\n",
       "    }\n",
       "\n",
       "    .dataframe thead th {\n",
       "        text-align: right;\n",
       "    }\n",
       "</style>\n",
       "<table border=\"1\" class=\"dataframe\">\n",
       "  <thead>\n",
       "    <tr style=\"text-align: right;\">\n",
       "      <th></th>\n",
       "      <th>eu_sales</th>\n",
       "    </tr>\n",
       "    <tr>\n",
       "      <th>platform</th>\n",
       "      <th></th>\n",
       "    </tr>\n",
       "  </thead>\n",
       "  <tbody>\n",
       "    <tr>\n",
       "      <td>PS4</td>\n",
       "      <td>141.09</td>\n",
       "    </tr>\n",
       "    <tr>\n",
       "      <td>PS3</td>\n",
       "      <td>67.81</td>\n",
       "    </tr>\n",
       "    <tr>\n",
       "      <td>XOne</td>\n",
       "      <td>51.59</td>\n",
       "    </tr>\n",
       "    <tr>\n",
       "      <td>X360</td>\n",
       "      <td>42.52</td>\n",
       "    </tr>\n",
       "    <tr>\n",
       "      <td>3DS</td>\n",
       "      <td>30.96</td>\n",
       "    </tr>\n",
       "  </tbody>\n",
       "</table>\n",
       "</div>"
      ],
      "text/plain": [
       "          eu_sales\n",
       "platform          \n",
       "PS4         141.09\n",
       "PS3          67.81\n",
       "XOne         51.59\n",
       "X360         42.52\n",
       "3DS          30.96"
      ]
     },
     "execution_count": 61,
     "metadata": {},
     "output_type": "execute_result"
    }
   ],
   "source": [
    "df_rel.pivot_table(\n",
    "    index='platform', values='eu_sales', aggfunc='sum').sort_values(\n",
    "    'eu_sales', ascending=False).head(5).plot(kind='bar', figsize=(10, 5), \n",
    "    color='#ddedea', title='Топ-5 игровых платформ в Европе')\n",
    "\n",
    "plt.xlabel('Игровая платформа')\n",
    "plt.ylabel('Количество проданных копий игр, млн.')\n",
    "plt.grid()\n",
    "plt.show()\n",
    "\n",
    "df_rel.pivot_table(\n",
    "    index='platform', values='eu_sales', aggfunc='sum').sort_values(\n",
    "    'eu_sales', ascending=False).head(5)"
   ]
  },
  {
   "cell_type": "markdown",
   "id": "8ef73eef",
   "metadata": {},
   "source": [
    "В Европе, так же, как и Северной Америке, на первом месте по количеству проданных копий (141 млн) PlayStation 4, а замыкает топ-5, как и в Северной Америке, Nintendo 3DS (30.96 млн). \n",
    "В остальном ситуация в Европе отлична: на втором месте PlayStation 3 (67.81 млн копий), на третьем - Xbox One (51.59 млн копий), а на четвертом Xbox One (42.52 млн копий)."
   ]
  },
  {
   "cell_type": "markdown",
   "id": "a00345aa",
   "metadata": {},
   "source": [
    "#### Игровые жанры"
   ]
  },
  {
   "cell_type": "code",
   "execution_count": 62,
   "id": "4e1109e9",
   "metadata": {},
   "outputs": [
    {
     "data": {
      "image/png": "[encoded data removed]",
      "text/plain": [
       "<Figure size 720x360 with 1 Axes>"
      ]
     },
     "metadata": {
      "needs_background": "light"
     },
     "output_type": "display_data"
    },
    {
     "data": {
      "text/html": [
       "<div>\n",
       "<style scoped>\n",
       "    .dataframe tbody tr th:only-of-type {\n",
       "        vertical-align: middle;\n",
       "    }\n",
       "\n",
       "    .dataframe tbody tr th {\n",
       "        vertical-align: top;\n",
       "    }\n",
       "\n",
       "    .dataframe thead th {\n",
       "        text-align: right;\n",
       "    }\n",
       "</style>\n",
       "<table border=\"1\" class=\"dataframe\">\n",
       "  <thead>\n",
       "    <tr style=\"text-align: right;\">\n",
       "      <th></th>\n",
       "      <th>eu_sales</th>\n",
       "    </tr>\n",
       "    <tr>\n",
       "      <th>genre</th>\n",
       "      <th></th>\n",
       "    </tr>\n",
       "  </thead>\n",
       "  <tbody>\n",
       "    <tr>\n",
       "      <td>Action</td>\n",
       "      <td>118.13</td>\n",
       "    </tr>\n",
       "    <tr>\n",
       "      <td>Shooter</td>\n",
       "      <td>87.86</td>\n",
       "    </tr>\n",
       "    <tr>\n",
       "      <td>Sports</td>\n",
       "      <td>60.52</td>\n",
       "    </tr>\n",
       "    <tr>\n",
       "      <td>Role-Playing</td>\n",
       "      <td>36.97</td>\n",
       "    </tr>\n",
       "    <tr>\n",
       "      <td>Racing</td>\n",
       "      <td>20.19</td>\n",
       "    </tr>\n",
       "  </tbody>\n",
       "</table>\n",
       "</div>"
      ],
      "text/plain": [
       "              eu_sales\n",
       "genre                 \n",
       "Action          118.13\n",
       "Shooter          87.86\n",
       "Sports           60.52\n",
       "Role-Playing     36.97\n",
       "Racing           20.19"
      ]
     },
     "execution_count": 62,
     "metadata": {},
     "output_type": "execute_result"
    }
   ],
   "source": [
    "df_rel.pivot_table(\n",
    "    index='genre', values='eu_sales', aggfunc='sum').sort_values(\n",
    "    'eu_sales', ascending=False).head(5).plot(kind='bar', figsize=(10, 5), \n",
    "    color='#daeaf6', title='Топ-5 игровых жанров в Европе')\n",
    "\n",
    "plt.xlabel('Жанр')\n",
    "plt.ylabel('Количество проданных копий игр, млн.')\n",
    "plt.grid()\n",
    "plt.show()\n",
    "\n",
    "df_rel.pivot_table(\n",
    "    index='genre', values='eu_sales', aggfunc='sum').sort_values(\n",
    "    'eu_sales', ascending=False).head(5)"
   ]
  },
  {
   "cell_type": "markdown",
   "id": "69ea58fd",
   "metadata": {},
   "source": [
    "Топ-5 игровых жанров в Европе отличается от Северной Америки и мира только тем, что на пятое место вышел жанр _Racing_. В остальном дела обстоят так же: лидируют _action_-игры, _шутеры, спортивные_ и _RPG_."
   ]
  },
  {
   "cell_type": "markdown",
   "id": "43bfc56e",
   "metadata": {},
   "source": [
    "#### Рейтинг ESRB"
   ]
  },
  {
   "cell_type": "code",
   "execution_count": 63,
   "id": "c74e2be0",
   "metadata": {},
   "outputs": [
    {
     "data": {
      "image/png": "[encoded data removed]",
      "text/plain": [
       "<Figure size 720x360 with 1 Axes>"
      ]
     },
     "metadata": {
      "needs_background": "light"
     },
     "output_type": "display_data"
    },
    {
     "data": {
      "text/html": [
       "<div>\n",
       "<style scoped>\n",
       "    .dataframe tbody tr th:only-of-type {\n",
       "        vertical-align: middle;\n",
       "    }\n",
       "\n",
       "    .dataframe tbody tr th {\n",
       "        vertical-align: top;\n",
       "    }\n",
       "\n",
       "    .dataframe thead th {\n",
       "        text-align: right;\n",
       "    }\n",
       "</style>\n",
       "<table border=\"1\" class=\"dataframe\">\n",
       "  <thead>\n",
       "    <tr style=\"text-align: right;\">\n",
       "      <th></th>\n",
       "      <th>eu_sales</th>\n",
       "    </tr>\n",
       "    <tr>\n",
       "      <th>rating</th>\n",
       "      <th></th>\n",
       "    </tr>\n",
       "  </thead>\n",
       "  <tbody>\n",
       "    <tr>\n",
       "      <td>M</td>\n",
       "      <td>145.32</td>\n",
       "    </tr>\n",
       "    <tr>\n",
       "      <td>E</td>\n",
       "      <td>83.36</td>\n",
       "    </tr>\n",
       "    <tr>\n",
       "      <td>E10+</td>\n",
       "      <td>42.69</td>\n",
       "    </tr>\n",
       "    <tr>\n",
       "      <td>T</td>\n",
       "      <td>41.95</td>\n",
       "    </tr>\n",
       "  </tbody>\n",
       "</table>\n",
       "</div>"
      ],
      "text/plain": [
       "        eu_sales\n",
       "rating          \n",
       "M         145.32\n",
       "E          83.36\n",
       "E10+       42.69\n",
       "T          41.95"
      ]
     },
     "execution_count": 63,
     "metadata": {},
     "output_type": "execute_result"
    }
   ],
   "source": [
    "df_rel.pivot_table(\n",
    "    index='rating', values='eu_sales', aggfunc='sum').sort_values(\n",
    "    'eu_sales', ascending=False).plot(kind='bar', figsize=(10, 5), \n",
    "    color='#e8dff5', title='Топ-5 игровых жанров в Европе')\n",
    "\n",
    "plt.xlabel('Рейтинг')\n",
    "plt.ylabel('Количество проданных копий игр, млн.')\n",
    "plt.grid()\n",
    "plt.show()\n",
    "\n",
    "df_rel.pivot_table(\n",
    "    index='rating', values='eu_sales', aggfunc='sum').sort_values(\n",
    "    'eu_sales', ascending=False)"
   ]
  },
  {
   "cell_type": "markdown",
   "id": "11799bd5",
   "metadata": {},
   "source": [
    "Наиболее популярны игры рейтинга \"М\", т.е. игры для аудитории 18+, а наименее популярны игры рейтинга \"T\" (для подростков 13+) - в Европе ситуация такая же, как и в Северной Америке. "
   ]
  },
  {
   "cell_type": "markdown",
   "id": "ebcb0b00",
   "metadata": {},
   "source": [
    "### Япония"
   ]
  },
  {
   "cell_type": "markdown",
   "id": "ba02ae53",
   "metadata": {},
   "source": [
    "#### Игровые платформы"
   ]
  },
  {
   "cell_type": "code",
   "execution_count": 64,
   "id": "5a36f59a",
   "metadata": {},
   "outputs": [
    {
     "data": {
      "image/png": "[encoded data removed]",
      "text/plain": [
       "<Figure size 720x360 with 1 Axes>"
      ]
     },
     "metadata": {
      "needs_background": "light"
     },
     "output_type": "display_data"
    },
    {
     "data": {
      "text/html": [
       "<div>\n",
       "<style scoped>\n",
       "    .dataframe tbody tr th:only-of-type {\n",
       "        vertical-align: middle;\n",
       "    }\n",
       "\n",
       "    .dataframe tbody tr th {\n",
       "        vertical-align: top;\n",
       "    }\n",
       "\n",
       "    .dataframe thead th {\n",
       "        text-align: right;\n",
       "    }\n",
       "</style>\n",
       "<table border=\"1\" class=\"dataframe\">\n",
       "  <thead>\n",
       "    <tr style=\"text-align: right;\">\n",
       "      <th></th>\n",
       "      <th>jp_sales</th>\n",
       "    </tr>\n",
       "    <tr>\n",
       "      <th>platform</th>\n",
       "      <th></th>\n",
       "    </tr>\n",
       "  </thead>\n",
       "  <tbody>\n",
       "    <tr>\n",
       "      <td>3DS</td>\n",
       "      <td>67.81</td>\n",
       "    </tr>\n",
       "    <tr>\n",
       "      <td>PS3</td>\n",
       "      <td>23.35</td>\n",
       "    </tr>\n",
       "    <tr>\n",
       "      <td>PSV</td>\n",
       "      <td>18.59</td>\n",
       "    </tr>\n",
       "    <tr>\n",
       "      <td>PS4</td>\n",
       "      <td>15.96</td>\n",
       "    </tr>\n",
       "    <tr>\n",
       "      <td>WiiU</td>\n",
       "      <td>10.88</td>\n",
       "    </tr>\n",
       "  </tbody>\n",
       "</table>\n",
       "</div>"
      ],
      "text/plain": [
       "          jp_sales\n",
       "platform          \n",
       "3DS          67.81\n",
       "PS3          23.35\n",
       "PSV          18.59\n",
       "PS4          15.96\n",
       "WiiU         10.88"
      ]
     },
     "execution_count": 64,
     "metadata": {},
     "output_type": "execute_result"
    }
   ],
   "source": [
    "df_rel.pivot_table(\n",
    "    index='platform', values='jp_sales', aggfunc='sum').sort_values(\n",
    "    'jp_sales', ascending=False).head(5).plot(kind='bar', figsize=(10, 5), \n",
    "    color='#ddedea', title='Топ-5 игровых платформ в Японии')\n",
    "\n",
    "plt.xlabel('Игровая платформа')\n",
    "plt.ylabel('Количество проданных копий игр, млн.')\n",
    "plt.grid()\n",
    "plt.show()\n",
    "\n",
    "df_rel.pivot_table(\n",
    "    index='platform', values='jp_sales', aggfunc='sum').sort_values(\n",
    "    'jp_sales', ascending=False).head(5)"
   ]
  },
  {
   "cell_type": "markdown",
   "id": "89113af6",
   "metadata": {},
   "source": [
    "Японский рынок меньше рынка Европы и Северной Америке, и он явно отличается от западных.\n",
    "Лидер японского рынка - Nintendo 3DS, для этой платформы, производимой в Японии, продано более 67 млн копий игр. Второе место занимает PlayStation3 с 23.35 млн проданных копий игр - это почти в 3 раза меньше, чем у Nintendo. Далее следуют две другие платформы от PlayStation, и замыкает топ-5 Nintendo WiiU с 10.88 млн копий игр, проданных за актуальный период."
   ]
  },
  {
   "cell_type": "markdown",
   "id": "1bb4933f",
   "metadata": {},
   "source": [
    "#### Игровые жанры"
   ]
  },
  {
   "cell_type": "code",
   "execution_count": 65,
   "id": "6799cf47",
   "metadata": {},
   "outputs": [
    {
     "data": {
      "image/png": "[encoded data removed]",
      "text/plain": [
       "<Figure size 720x360 with 1 Axes>"
      ]
     },
     "metadata": {
      "needs_background": "light"
     },
     "output_type": "display_data"
    },
    {
     "data": {
      "text/html": [
       "<div>\n",
       "<style scoped>\n",
       "    .dataframe tbody tr th:only-of-type {\n",
       "        vertical-align: middle;\n",
       "    }\n",
       "\n",
       "    .dataframe tbody tr th {\n",
       "        vertical-align: top;\n",
       "    }\n",
       "\n",
       "    .dataframe thead th {\n",
       "        text-align: right;\n",
       "    }\n",
       "</style>\n",
       "<table border=\"1\" class=\"dataframe\">\n",
       "  <thead>\n",
       "    <tr style=\"text-align: right;\">\n",
       "      <th></th>\n",
       "      <th>jp_sales</th>\n",
       "    </tr>\n",
       "    <tr>\n",
       "      <th>genre</th>\n",
       "      <th></th>\n",
       "    </tr>\n",
       "  </thead>\n",
       "  <tbody>\n",
       "    <tr>\n",
       "      <td>Role-Playing</td>\n",
       "      <td>51.04</td>\n",
       "    </tr>\n",
       "    <tr>\n",
       "      <td>Action</td>\n",
       "      <td>40.49</td>\n",
       "    </tr>\n",
       "    <tr>\n",
       "      <td>Misc</td>\n",
       "      <td>9.20</td>\n",
       "    </tr>\n",
       "    <tr>\n",
       "      <td>Fighting</td>\n",
       "      <td>7.65</td>\n",
       "    </tr>\n",
       "    <tr>\n",
       "      <td>Shooter</td>\n",
       "      <td>6.61</td>\n",
       "    </tr>\n",
       "  </tbody>\n",
       "</table>\n",
       "</div>"
      ],
      "text/plain": [
       "              jp_sales\n",
       "genre                 \n",
       "Role-Playing     51.04\n",
       "Action           40.49\n",
       "Misc              9.20\n",
       "Fighting          7.65\n",
       "Shooter           6.61"
      ]
     },
     "execution_count": 65,
     "metadata": {},
     "output_type": "execute_result"
    }
   ],
   "source": [
    "df_rel.pivot_table(\n",
    "    index='genre', values='jp_sales', aggfunc='sum').sort_values(\n",
    "    'jp_sales', ascending=False).head(5).plot(kind='bar', figsize=(10, 5), \n",
    "    color='#daeaf6', title='Топ-5 игровых жанров в Японии')\n",
    "\n",
    "plt.xlabel('Жанр')\n",
    "plt.ylabel('Количество проданных копий игр, млн.')\n",
    "plt.grid()\n",
    "plt.show()\n",
    "\n",
    "df_rel.pivot_table(\n",
    "    index='genre', values='jp_sales', aggfunc='sum').sort_values(\n",
    "    'jp_sales', ascending=False).head(5)"
   ]
  },
  {
   "cell_type": "markdown",
   "id": "a2307740",
   "metadata": {},
   "source": [
    "Японские геймеры предпочитают не только другие игровые платформы, но и игры других жанров. На первом месте _RPG_ с 51 млн проданных копий игр этого жанра. Наиболее популярные в Европе и Северной Америке игры жанра _Action_ японской аудитории чуть менее интересны и занимают 2 место с 40.49 млн проданных копий. Третье и последующие места имеют гораздо меньшую аудиторию - было продано менее 10 млн копий игры жанров _Misc_, _Fighting_ и _Shooter_."
   ]
  },
  {
   "cell_type": "markdown",
   "id": "2ba1c625",
   "metadata": {},
   "source": [
    "#### Рейтинг ESRB"
   ]
  },
  {
   "cell_type": "code",
   "execution_count": 66,
   "id": "ac1c3d88",
   "metadata": {},
   "outputs": [
    {
     "data": {
      "image/png": "[encoded data removed]",
      "text/plain": [
       "<Figure size 720x360 with 1 Axes>"
      ]
     },
     "metadata": {
      "needs_background": "light"
     },
     "output_type": "display_data"
    },
    {
     "data": {
      "text/html": [
       "<div>\n",
       "<style scoped>\n",
       "    .dataframe tbody tr th:only-of-type {\n",
       "        vertical-align: middle;\n",
       "    }\n",
       "\n",
       "    .dataframe tbody tr th {\n",
       "        vertical-align: top;\n",
       "    }\n",
       "\n",
       "    .dataframe thead th {\n",
       "        text-align: right;\n",
       "    }\n",
       "</style>\n",
       "<table border=\"1\" class=\"dataframe\">\n",
       "  <thead>\n",
       "    <tr style=\"text-align: right;\">\n",
       "      <th></th>\n",
       "      <th>jp_sales</th>\n",
       "    </tr>\n",
       "    <tr>\n",
       "      <th>rating</th>\n",
       "      <th></th>\n",
       "    </tr>\n",
       "  </thead>\n",
       "  <tbody>\n",
       "    <tr>\n",
       "      <td>T</td>\n",
       "      <td>20.59</td>\n",
       "    </tr>\n",
       "    <tr>\n",
       "      <td>E</td>\n",
       "      <td>15.14</td>\n",
       "    </tr>\n",
       "    <tr>\n",
       "      <td>M</td>\n",
       "      <td>14.11</td>\n",
       "    </tr>\n",
       "    <tr>\n",
       "      <td>E10+</td>\n",
       "      <td>5.89</td>\n",
       "    </tr>\n",
       "  </tbody>\n",
       "</table>\n",
       "</div>"
      ],
      "text/plain": [
       "        jp_sales\n",
       "rating          \n",
       "T          20.59\n",
       "E          15.14\n",
       "M          14.11\n",
       "E10+        5.89"
      ]
     },
     "execution_count": 66,
     "metadata": {},
     "output_type": "execute_result"
    }
   ],
   "source": [
    "df_rel.pivot_table(\n",
    "    index='rating', values='jp_sales', aggfunc='sum').sort_values(\n",
    "    'jp_sales', ascending=False).plot(kind='bar', figsize=(10, 5), \n",
    "    color='#e8dff5', title='Топ-5 игровых жанров в Японии')\n",
    "\n",
    "plt.xlabel('Рейтинг')\n",
    "plt.ylabel('Количество проданных копий игр, млн.')\n",
    "plt.grid()\n",
    "plt.show()\n",
    "\n",
    "df_rel.pivot_table(\n",
    "    index='rating', values='jp_sales', aggfunc='sum').sort_values(\n",
    "    'jp_sales', ascending=False)"
   ]
  },
  {
   "cell_type": "markdown",
   "id": "cc5dd71f",
   "metadata": {},
   "source": [
    "Японские игроки снова отличаются от аудитории Северной Америки и Европы: если на западе наиболее популярны игры рейтинга \"M\" (18+) и наименее популярные игры для подростков (рейтинг \"Т\"), но в Японии ситуация практически противоположная. Японские геймеры предпочитают игры рейтинга \"Т\" (20.59 млн проданных копий), а игры рейтинга \"М\" только на третьем месте с 14.11 млн проданных копий."
   ]
  },
  {
   "cell_type": "markdown",
   "id": "451f603f",
   "metadata": {},
   "source": [
    "### Промежуточные выводы"
   ]
  },
  {
   "cell_type": "markdown",
   "id": "3164fa26",
   "metadata": {},
   "source": [
    "Портрет пользователя в Северной Америке и Европе очень похожи и влияют на статистику по миру: наиболее популярной платформой является PlayStation 4, самые популярные жанры игр - _Action_ и _Shooter_, геймеры предпочитают игры с рейтингом \"М\" (18+).\n",
    "\n",
    "Портрет же японского пользователя отличается во всем: наиболее популярная игровая платформа - Nintendo 3DS, самый популярный жанр игр - _RPG_, лучше всего продаются игры с рейтингом \"Т\" (13+). "
   ]
  },
  {
   "cell_type": "markdown",
   "id": "d8097024",
   "metadata": {},
   "source": [
    "## Проверка гипотез"
   ]
  },
  {
   "cell_type": "markdown",
   "id": "d00a8bbd",
   "metadata": {},
   "source": [
    "### Гипотеза 1: Средние пользовательские рейтинги платформ Xbox One и PC одинаковые"
   ]
  },
  {
   "cell_type": "markdown",
   "id": "50ef25f5",
   "metadata": {},
   "source": [
    "Примем нулевую гипотезу H0 о том, что средние рейтинги пользователей для платформ Xbox One и PC равны. \n",
    "Альтернативная гипотеза H1, в таком случае, состоит в том, что средние рейтинги пользователей для платформ Xbox One и PC не равны."
   ]
  },
  {
   "cell_type": "code",
   "execution_count": 67,
   "id": "b1b64d25",
   "metadata": {},
   "outputs": [
    {
     "data": {
      "text/html": [
       "<div>\n",
       "<style scoped>\n",
       "    .dataframe tbody tr th:only-of-type {\n",
       "        vertical-align: middle;\n",
       "    }\n",
       "\n",
       "    .dataframe tbody tr th {\n",
       "        vertical-align: top;\n",
       "    }\n",
       "\n",
       "    .dataframe thead tr th {\n",
       "        text-align: left;\n",
       "    }\n",
       "\n",
       "    .dataframe thead tr:last-of-type th {\n",
       "        text-align: right;\n",
       "    }\n",
       "</style>\n",
       "<table border=\"1\" class=\"dataframe\">\n",
       "  <thead>\n",
       "    <tr>\n",
       "      <th></th>\n",
       "      <th colspan=\"5\" halign=\"left\">user_score</th>\n",
       "    </tr>\n",
       "    <tr>\n",
       "      <th></th>\n",
       "      <th>count</th>\n",
       "      <th>mean</th>\n",
       "      <th>median</th>\n",
       "      <th>std</th>\n",
       "      <th>var</th>\n",
       "    </tr>\n",
       "    <tr>\n",
       "      <th>platform</th>\n",
       "      <th></th>\n",
       "      <th></th>\n",
       "      <th></th>\n",
       "      <th></th>\n",
       "      <th></th>\n",
       "    </tr>\n",
       "  </thead>\n",
       "  <tbody>\n",
       "    <tr>\n",
       "      <td>PC</td>\n",
       "      <td>155</td>\n",
       "      <td>6.27</td>\n",
       "      <td>6.8</td>\n",
       "      <td>1.74</td>\n",
       "      <td>3.04</td>\n",
       "    </tr>\n",
       "    <tr>\n",
       "      <td>XOne</td>\n",
       "      <td>182</td>\n",
       "      <td>6.52</td>\n",
       "      <td>6.8</td>\n",
       "      <td>1.38</td>\n",
       "      <td>1.91</td>\n",
       "    </tr>\n",
       "  </tbody>\n",
       "</table>\n",
       "</div>"
      ],
      "text/plain": [
       "         user_score                         \n",
       "              count  mean median   std   var\n",
       "platform                                    \n",
       "PC              155  6.27    6.8  1.74  3.04\n",
       "XOne            182  6.52    6.8  1.38  1.91"
      ]
     },
     "execution_count": 67,
     "metadata": {},
     "output_type": "execute_result"
    }
   ],
   "source": [
    "df_rel.query('platform == \"XOne\" or platform == \"PC\"').groupby('platform').agg(\n",
    "    {'user_score': ['count', 'mean', 'median', np.std, np.var]}).round(2)"
   ]
  },
  {
   "cell_type": "markdown",
   "id": "64e2aaa3",
   "metadata": {},
   "source": [
    "Медианное значение пользовательских рейтингов для Xbox One и PC равны 6.8. Среднее значение для PC (6.27) при этом ниже, чем для Xbox One (6.52), а стандартное отклонение выше. "
   ]
  },
  {
   "cell_type": "code",
   "execution_count": 68,
   "id": "743ba493",
   "metadata": {},
   "outputs": [],
   "source": [
    "df_rel_xone = df_rel[df_rel['platform'] == 'XOne']['user_score'].dropna().reset_index(drop=True)\n",
    "df_rel_pc = df_rel[df_rel['platform'] == 'PC']['user_score'].dropna().reset_index(drop=True)"
   ]
  },
  {
   "cell_type": "code",
   "execution_count": 69,
   "id": "25d7bad4",
   "metadata": {},
   "outputs": [
    {
     "data": {
      "image/png": "[encoded data removed]",
      "text/plain": [
       "<Figure size 864x504 with 1 Axes>"
      ]
     },
     "metadata": {
      "needs_background": "light"
     },
     "output_type": "display_data"
    },
    {
     "data": {
      "image/png": "[encoded data removed]",
      "text/plain": [
       "<Figure size 864x504 with 1 Axes>"
      ]
     },
     "metadata": {
      "needs_background": "light"
     },
     "output_type": "display_data"
    }
   ],
   "source": [
    "df_rel_pc.plot(kind='hist', bins=20, \n",
    "                 title='PC: Гистограмма пользовательского рейтинга', color='#dfccf1', ec='black')\n",
    "plt.show()\n",
    "\n",
    "df_rel_xone.plot(kind='hist', bins=20, \n",
    "                 title='Xbox One: Гистограмма пользовательского рейтинга', color='#f7e1d3', ec='black')\n",
    "plt.show()"
   ]
  },
  {
   "cell_type": "markdown",
   "id": "76c388d0",
   "metadata": {},
   "source": [
    "Данные стремятся к \"куполу\", при этом это независимые данные генеральных совокупностей. Для проверки гипотезы мы можем использовать t-тест Стьюдента.\n",
    "\n",
    "Критерий значимости установим как 0.05 (5%). Так при проверке статистических гипотез вероятность ошибки будет равна 5% (в одном случае из 20 может быть совершена ошибка)."
   ]
  },
  {
   "cell_type": "code",
   "execution_count": 70,
   "id": "c8085251",
   "metadata": {},
   "outputs": [
    {
     "name": "stdout",
     "output_type": "stream",
     "text": [
      "p-value: 0.14012658403611647\n",
      "Не получилось отвергнуть нулевую гипотезу\n"
     ]
    }
   ],
   "source": [
    "alpha = 0.05\n",
    "\n",
    "results = st.ttest_ind(df_rel_xone, df_rel_pc)\n",
    "\n",
    "print('p-value:', results.pvalue)\n",
    "\n",
    "if (results.pvalue < alpha):\n",
    "    print(\"Отвергаем нулевую гипотезу\")\n",
    "else:\n",
    "    print(\"Не получилось отвергнуть нулевую гипотезу\")"
   ]
  },
  {
   "cell_type": "markdown",
   "id": "b80409dd",
   "metadata": {},
   "source": [
    "В данном случае нулевую гипотезу отвергнуть не удалось, а значит, мы можем предполагать, что средние рейтинги пользователей для платформ Xbox One и PC равны."
   ]
  },
  {
   "cell_type": "markdown",
   "id": "d9d4f87a",
   "metadata": {},
   "source": [
    "### Гипотеза 2: Средние пользовательские рейтинги жанров _Action_ и _Sports_ разные."
   ]
  },
  {
   "cell_type": "markdown",
   "id": "ed17c846",
   "metadata": {},
   "source": [
    "Примем нулевую гипотезу H0 о том, что средние рейтинги пользователей для жанров _Action_ и _Sports_ равны. \n",
    "Альтернативная гипотеза H1, состоит в том, что средние рейтинги пользователей для жанров _Action_ и _Sports_ не равны."
   ]
  },
  {
   "cell_type": "code",
   "execution_count": 71,
   "id": "72cdecf5",
   "metadata": {},
   "outputs": [
    {
     "data": {
      "text/html": [
       "<div>\n",
       "<style scoped>\n",
       "    .dataframe tbody tr th:only-of-type {\n",
       "        vertical-align: middle;\n",
       "    }\n",
       "\n",
       "    .dataframe tbody tr th {\n",
       "        vertical-align: top;\n",
       "    }\n",
       "\n",
       "    .dataframe thead tr th {\n",
       "        text-align: left;\n",
       "    }\n",
       "\n",
       "    .dataframe thead tr:last-of-type th {\n",
       "        text-align: right;\n",
       "    }\n",
       "</style>\n",
       "<table border=\"1\" class=\"dataframe\">\n",
       "  <thead>\n",
       "    <tr>\n",
       "      <th></th>\n",
       "      <th colspan=\"5\" halign=\"left\">user_score</th>\n",
       "    </tr>\n",
       "    <tr>\n",
       "      <th></th>\n",
       "      <th>count</th>\n",
       "      <th>mean</th>\n",
       "      <th>median</th>\n",
       "      <th>std</th>\n",
       "      <th>var</th>\n",
       "    </tr>\n",
       "    <tr>\n",
       "      <th>genre</th>\n",
       "      <th></th>\n",
       "      <th></th>\n",
       "      <th></th>\n",
       "      <th></th>\n",
       "      <th></th>\n",
       "    </tr>\n",
       "  </thead>\n",
       "  <tbody>\n",
       "    <tr>\n",
       "      <td>Action</td>\n",
       "      <td>389</td>\n",
       "      <td>6.84</td>\n",
       "      <td>7.1</td>\n",
       "      <td>1.33</td>\n",
       "      <td>1.77</td>\n",
       "    </tr>\n",
       "    <tr>\n",
       "      <td>Sports</td>\n",
       "      <td>160</td>\n",
       "      <td>5.24</td>\n",
       "      <td>5.5</td>\n",
       "      <td>1.78</td>\n",
       "      <td>3.18</td>\n",
       "    </tr>\n",
       "  </tbody>\n",
       "</table>\n",
       "</div>"
      ],
      "text/plain": [
       "       user_score                         \n",
       "            count  mean median   std   var\n",
       "genre                                     \n",
       "Action        389  6.84    7.1  1.33  1.77\n",
       "Sports        160  5.24    5.5  1.78  3.18"
      ]
     },
     "execution_count": 71,
     "metadata": {},
     "output_type": "execute_result"
    }
   ],
   "source": [
    "df_rel.query('genre == \"Action\" or genre == \"Sports\"').groupby('genre').agg(\n",
    "    {'user_score': ['count', 'mean', 'median', np.std, np.var]}).round(2)"
   ]
  },
  {
   "cell_type": "markdown",
   "id": "bf78f660",
   "metadata": {},
   "source": [
    "Для пользовательских рейтингов жанра _Action_ среднее (6.84) приближено к медиане (7.1), стандартное отклонение составляет 1.33.\n",
    "\n",
    "Среднее значение пользовательских рейтингов по жанру _Sports_ (5.24) также близко к медианному (5.5), стандартное отклонение составляет 1.78."
   ]
  },
  {
   "cell_type": "code",
   "execution_count": 72,
   "id": "f676d80a",
   "metadata": {},
   "outputs": [],
   "source": [
    "df_rel_action = df_rel[df_rel['genre']=='Action']['user_score'].dropna().reset_index(drop=True)\n",
    "df_rel_sports = df_rel[df_rel['genre']=='Sports']['user_score'].dropna().reset_index(drop=True)"
   ]
  },
  {
   "cell_type": "code",
   "execution_count": 73,
   "id": "80679d8c",
   "metadata": {},
   "outputs": [
    {
     "data": {
      "image/png": "[encoded data removed]",
      "text/plain": [
       "<Figure size 864x504 with 1 Axes>"
      ]
     },
     "metadata": {
      "needs_background": "light"
     },
     "output_type": "display_data"
    },
    {
     "data": {
      "image/png": "[encoded data removed]",
      "text/plain": [
       "<Figure size 864x504 with 1 Axes>"
      ]
     },
     "metadata": {
      "needs_background": "light"
     },
     "output_type": "display_data"
    }
   ],
   "source": [
    "df_rel_action.plot(kind='hist', bins=20, \n",
    "                 title='Игры жанра Action: Гистограмма пользовательского рейтинга', color='#dfccf1', ec='black')\n",
    "plt.show()\n",
    "\n",
    "df_rel_sports.plot(kind='hist', bins=20, \n",
    "                 title='Игры жанра Sports: Гистограмма пользовательского рейтинга', color='#f7e1d3', ec='black')\n",
    "plt.show()"
   ]
  },
  {
   "cell_type": "markdown",
   "id": "f5212849",
   "metadata": {},
   "source": [
    "Проверку гипотезы в данном случае так же можно производить при помощи t-теста с критерием значимости _p-value_ 0.05. "
   ]
  },
  {
   "cell_type": "code",
   "execution_count": 74,
   "id": "93395954",
   "metadata": {},
   "outputs": [
    {
     "name": "stdout",
     "output_type": "stream",
     "text": [
      "p-value: 1.0517832389140023e-27\n",
      "Отвергаем нулевую гипотезу\n"
     ]
    }
   ],
   "source": [
    "alpha = 0.05\n",
    "\n",
    "results = st.ttest_ind(df_rel_action, df_rel_sports)\n",
    "\n",
    "print('p-value:', results.pvalue)\n",
    "\n",
    "if (results.pvalue < alpha):\n",
    "    print(\"Отвергаем нулевую гипотезу\")\n",
    "else:\n",
    "    print(\"Не получилось отвергнуть нулевую гипотезу\")"
   ]
  },
  {
   "cell_type": "markdown",
   "id": "40b11540",
   "metadata": {},
   "source": [
    "Мы можем отвергнуть нулевую гипотезу о том, что средние рейтинги пользователей для жанров Action и Sports равны и предположить, что средние рейтинги разные."
   ]
  },
  {
   "cell_type": "markdown",
   "id": "d900f448",
   "metadata": {},
   "source": [
    "### Промежуточные выводы"
   ]
  },
  {
   "cell_type": "markdown",
   "id": "5c5f1539",
   "metadata": {},
   "source": [
    "* Гипотеза 1: Средние пользовательские рейтинги платформ Xbox One и PC одинаковые - не удалось отвергнуть нулевую гипотезу о том, что средние рейтинги пользователей для жанров Action и Sports равны. \n",
    "* Гипотера 2: Средние пользовательские рейтинги жанров Action и Sports разные - не удалось отвергнуть нулевую гипотезу о том, что средние рейтинги пользователей для жанров Action и Sports равны; можно предположить, что средние рейтинги разные. "
   ]
  },
  {
   "cell_type": "markdown",
   "id": "590de851",
   "metadata": {},
   "source": [
    "# Общие выводы"
   ]
  },
  {
   "cell_type": "code",
   "execution_count": 75,
   "id": "6e5f932e",
   "metadata": {},
   "outputs": [
    {
     "name": "stdout",
     "output_type": "stream",
     "text": [
      "Исходная база данных составляла 16715 строк.\n",
      "После проведения предобработки данных база данных сократилась до 16444 строк.\n",
      "Так база данных, с которой была продолжена работа, составила 98.4% от исходной.\n",
      "Анализ продаж игр проводился для актуального периода, а именно периода с 2013 года.\n",
      "Такая база данных составила 2233 строк.\n",
      "Эта база данных составила 13.6% от базы данных, которая была получена после предобработки.\n"
     ]
    }
   ],
   "source": [
    "print(\n",
    "'Исходная база данных составляла', entries_before, 'строк.'\n",
    ")\n",
    "print(\n",
    "'После проведения предобработки данных база данных сократилась до', entries_after, 'строк.'\n",
    ")\n",
    "print(\n",
    "'Так база данных, с которой была продолжена работа, составила {:.01%} от исходной.'.format(\n",
    "entries_after/entries_before)\n",
    ")\n",
    "print(\n",
    "'Анализ продаж игр проводился для актуального периода, а именно периода с 2013 года.')\n",
    "print('Такая база данных составила', len(df_rel), 'строк.')\n",
    "print(\n",
    "'Эта база данных составила {:.01%} от базы данных, которая была получена после предобработки.'.format(\n",
    "len(df_rel)/entries_after)\n",
    ")"
   ]
  },
  {
   "cell_type": "markdown",
   "id": "b64576ae",
   "metadata": {},
   "source": [
    "Ознакомившись с данными, мы привели названия колонок к нижнему регистру, провели поиск дубликатов, поработали с пропущенными значениями и привели данные к нужным типам. Был добавлен столбец `sales_total` с суммарными продажами по всем регионам.\n",
    "\n",
    "На этпе исследовательского анализа данных было обнаружено, что начиная с 1994 года в год выпускалось 100+ игр, в 2008 было достигнуто пиковое значение - 1427 игр в год. Далее количество выпускаемых игр в год уменьшается.\n",
    "За весь изучаемый период, с 1980 по 2016 годы, лидерами продаж стали платформы PlayStation 2, Xbox 360 и PlayStation 3. Тем не менее, за 2015-2016 годы по количеству проданных копий игр лидируют более современные платформы: PlayStation 4, PlayStation Vita и Xbox One. \n",
    "\"Жизненный цикл\" игровой платформы составляет прибилизительно 10 лет: за это время платформа достигает пика проданных копий игры (обычно за 3-5 лет после входа на рынок), а потом постепенно вытесняются новыми платформами. Именно поэтому за актуальный период, на основании которого разрабатывать прогнозы на будущие продажи, был выбран период с 2013 года. Мы вычли из 2017 года 4 года, то есть период восхождения игровой платформы на пик продаж.\n",
    "\n",
    "За актуальный период лидеров продаж является PlayStation 4, за ним следуют Xbox One и PlayStation 3. Тем не менее, количественные показатели всех представленных платформ падают с 2015 года: число проданных копий игр на PlayStation 4 упали с 118.9 млн в 2015 году до 69.25 млн в 2016. Xbox One: с 60.14 млн до 26.15 млн. Nintendo 3DS: с 27.78 млн до 15.14 млн.\n",
    "Был сделан вывод, что для многих платформ отзывы критиков имеют слабую положительную корреляцию с количеством проданных копий игр. Пользовательские отзывы и на количество проданных копий, согласно проведенному анализу, не влияют. \n",
    "Наиболее популярные жанры, лидирующие по продажам за актуальный период:\n",
    "* _Action_: 766 игр, продано 321.87 млн копий\n",
    "* _Shooter_: 187 игр, продано 232.98 млн копий\n",
    "* _Sports_: 214 игр, 150.65 млн копий\n",
    "\n",
    "При этом, можно заметить игры-гиганты внутри этих жанров, которые оказывают значительное влияние на продажи жанра в целом. Так третье по популярности место жанра _Sports_ получено за счет игр FIFA: более трети всех проданных копий приходится на эти игры. Среди игр жанра _Shooter_ выделяются Call of Duty (более 70 млн копий за 3 игры серии). А самом популярной игрой за актуальный период является GTA V - игра жанра _Аction_ - с рекордными 56.58 млн проданных копий, что составляет 17.6% всех продаж жанра). \n",
    "Наименее популярнями жанрами являются _Puzzle_, _Strategy_ и _Simulation_. \n",
    "\n",
    "Если рассматривать портрет пользователей по регионам, что можно заметить, что пользователи Северной Америки и Европы во многом схожи, и это влияет на картину среднего пользователя по миру: наиболее популярной платформой является PlayStation 4, самые популярные жанры игр - Action и Shooter, геймеры предпочитают игры с рейтингом \"М\" (18+).\n",
    "Портрет же японского пользователя отличается во всем: наиболее популярная игровая платформа - Nintendo 3DS, самый популярный жанр игр - RPG, лучше всего продаются игры для подростков с рейтингом \"Т\" (13+).\n",
    "\n",
    "Были проверены 2 гипотезы при помощи t-теста:\n",
    "* Гипотеза 1: Средние пользовательские рейтинги платформ Xbox One и PC одинаковые - не удалось отвергнуть нулевую гипотезу о том, что средние рейтинги пользователей для жанров Action и Sports равны. \n",
    "* Гипотера 2: Средние пользовательские рейтинги жанров Action и Sports разные - не удалось отвергнуть нулевую гипотезу о том, что средние рейтинги пользователей для жанров Action и Sports равны; можно предположить, что средние рейтинги разные. \n"
   ]
  }
 ],
 "metadata": {
  "ExecuteTimeLog": [
   {
    "duration": 1263,
    "start_time": "2022-03-12T21:19:45.606Z"
   },
   {
    "duration": 41,
    "start_time": "2022-03-12T21:19:46.871Z"
   },
   {
    "duration": 17,
    "start_time": "2022-03-12T21:19:46.914Z"
   },
   {
    "duration": 15,
    "start_time": "2022-03-12T21:19:46.933Z"
   },
   {
    "duration": 4,
    "start_time": "2022-03-12T21:19:46.950Z"
   },
   {
    "duration": 23,
    "start_time": "2022-03-12T21:19:46.955Z"
   },
   {
    "duration": 7,
    "start_time": "2022-03-12T21:19:46.980Z"
   },
   {
    "duration": 28,
    "start_time": "2022-03-12T21:19:46.990Z"
   },
   {
    "duration": 14,
    "start_time": "2022-03-12T21:19:47.021Z"
   },
   {
    "duration": 8,
    "start_time": "2022-03-12T21:19:47.037Z"
   },
   {
    "duration": 42,
    "start_time": "2022-03-12T21:19:47.047Z"
   },
   {
    "duration": 8,
    "start_time": "2022-03-12T21:19:47.091Z"
   },
   {
    "duration": 12,
    "start_time": "2022-03-12T21:19:47.101Z"
   },
   {
    "duration": 21,
    "start_time": "2022-03-12T21:19:47.115Z"
   },
   {
    "duration": 25,
    "start_time": "2022-03-12T21:19:47.139Z"
   },
   {
    "duration": 17,
    "start_time": "2022-03-12T21:19:47.166Z"
   },
   {
    "duration": 24,
    "start_time": "2022-03-12T21:19:47.185Z"
   },
   {
    "duration": 16,
    "start_time": "2022-03-12T21:19:47.211Z"
   },
   {
    "duration": 39,
    "start_time": "2022-03-12T21:19:47.228Z"
   },
   {
    "duration": 29,
    "start_time": "2022-03-12T21:19:47.269Z"
   },
   {
    "duration": 9,
    "start_time": "2022-03-12T21:19:47.300Z"
   },
   {
    "duration": 369,
    "start_time": "2022-03-12T21:19:47.311Z"
   },
   {
    "duration": 2,
    "start_time": "2022-03-12T21:19:47.687Z"
   },
   {
    "duration": 25,
    "start_time": "2022-03-12T21:19:47.693Z"
   },
   {
    "duration": 26,
    "start_time": "2022-03-12T21:19:47.720Z"
   },
   {
    "duration": 9,
    "start_time": "2022-03-12T21:19:47.748Z"
   },
   {
    "duration": 34,
    "start_time": "2022-03-12T21:19:47.759Z"
   },
   {
    "duration": 515,
    "start_time": "2022-03-12T21:19:47.795Z"
   },
   {
    "duration": 7,
    "start_time": "2022-03-12T21:19:48.311Z"
   },
   {
    "duration": 35,
    "start_time": "2022-03-12T21:19:48.320Z"
   },
   {
    "duration": 13,
    "start_time": "2022-03-12T21:19:48.356Z"
   },
   {
    "duration": 13,
    "start_time": "2022-03-12T21:19:48.370Z"
   },
   {
    "duration": 39,
    "start_time": "2022-03-12T21:19:48.385Z"
   },
   {
    "duration": 762,
    "start_time": "2022-03-12T21:19:48.426Z"
   },
   {
    "duration": 5,
    "start_time": "2022-03-12T21:19:49.190Z"
   },
   {
    "duration": 27,
    "start_time": "2022-03-12T21:19:49.197Z"
   },
   {
    "duration": 558,
    "start_time": "2022-03-12T21:19:49.225Z"
   },
   {
    "duration": 467,
    "start_time": "2022-03-12T21:19:49.785Z"
   },
   {
    "duration": 8,
    "start_time": "2022-03-12T21:19:50.255Z"
   },
   {
    "duration": 1246,
    "start_time": "2022-03-12T21:19:50.278Z"
   },
   {
    "duration": 10,
    "start_time": "2022-03-12T21:19:51.526Z"
   },
   {
    "duration": 11,
    "start_time": "2022-03-12T21:19:51.538Z"
   },
   {
    "duration": 1091,
    "start_time": "2022-03-12T21:19:51.550Z"
   },
   {
    "duration": 10,
    "start_time": "2022-03-12T21:19:52.643Z"
   },
   {
    "duration": 24,
    "start_time": "2022-03-12T21:19:52.655Z"
   },
   {
    "duration": 1245,
    "start_time": "2022-03-12T21:19:52.682Z"
   },
   {
    "duration": 10,
    "start_time": "2022-03-12T21:19:53.929Z"
   },
   {
    "duration": 16,
    "start_time": "2022-03-12T21:19:53.940Z"
   },
   {
    "duration": 1203,
    "start_time": "2022-03-12T21:19:53.958Z"
   },
   {
    "duration": 15,
    "start_time": "2022-03-12T21:19:55.163Z"
   },
   {
    "duration": 10,
    "start_time": "2022-03-12T21:19:55.180Z"
   },
   {
    "duration": 1197,
    "start_time": "2022-03-12T21:19:55.191Z"
   },
   {
    "duration": 10,
    "start_time": "2022-03-12T21:19:56.390Z"
   },
   {
    "duration": 33,
    "start_time": "2022-03-12T21:19:56.402Z"
   },
   {
    "duration": 592,
    "start_time": "2022-03-12T21:19:56.437Z"
   },
   {
    "duration": 14,
    "start_time": "2022-03-12T21:19:57.031Z"
   },
   {
    "duration": 38,
    "start_time": "2022-03-12T21:19:57.046Z"
   },
   {
    "duration": 267,
    "start_time": "2022-03-12T21:19:57.085Z"
   },
   {
    "duration": 279,
    "start_time": "2022-03-12T21:19:57.354Z"
   },
   {
    "duration": 270,
    "start_time": "2022-03-12T21:19:57.634Z"
   },
   {
    "duration": 279,
    "start_time": "2022-03-12T21:19:57.905Z"
   },
   {
    "duration": 340,
    "start_time": "2022-03-12T21:19:58.186Z"
   },
   {
    "duration": 264,
    "start_time": "2022-03-12T21:19:58.528Z"
   },
   {
    "duration": 263,
    "start_time": "2022-03-12T21:19:58.794Z"
   },
   {
    "duration": 266,
    "start_time": "2022-03-12T21:19:59.058Z"
   },
   {
    "duration": 262,
    "start_time": "2022-03-12T21:19:59.326Z"
   },
   {
    "duration": 24,
    "start_time": "2022-03-12T21:19:59.590Z"
   },
   {
    "duration": 8,
    "start_time": "2022-03-12T21:19:59.619Z"
   },
   {
    "duration": 644,
    "start_time": "2022-03-12T21:19:59.629Z"
   },
   {
    "duration": 5,
    "start_time": "2022-03-12T21:20:00.277Z"
   },
   {
    "duration": 38,
    "start_time": "2022-03-12T21:20:00.284Z"
   },
   {
    "duration": 9,
    "start_time": "2022-03-12T21:20:00.323Z"
   },
   {
    "duration": 638,
    "start_time": "2022-03-12T21:20:00.334Z"
   },
   {
    "duration": 6,
    "start_time": "2022-03-12T21:20:00.974Z"
   },
   {
    "duration": 39,
    "start_time": "2022-03-12T21:20:00.982Z"
   }
  ],
  "kernelspec": {
   "display_name": "Python 3 (ipykernel)",
   "language": "python",
   "name": "python3"
  },
  "language_info": {
   "codemirror_mode": {
    "name": "ipython",
    "version": 3
   },
   "file_extension": ".py",
   "mimetype": "text/x-python",
   "name": "python",
   "nbconvert_exporter": "python",
   "pygments_lexer": "ipython3",
   "version": "3.9.7"
  },
  "toc": {
   "base_numbering": 1,
   "nav_menu": {},
   "number_sections": true,
   "sideBar": true,
   "skip_h1_title": true,
   "title_cell": "Table of Contents",
   "title_sidebar": "Contents",
   "toc_cell": false,
   "toc_position": {},
   "toc_section_display": true,
   "toc_window_display": true
  }
 },
 "nbformat": 4,
 "nbformat_minor": 5
}
