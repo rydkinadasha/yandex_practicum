{
 "cells": [
  {
   "cell_type": "markdown",
   "metadata": {},
   "source": [
    "# Отток клиентов"
   ]
  },
  {
   "cell_type": "markdown",
   "metadata": {},
   "source": [
    "Из «Бета-Банка» стали уходить клиенты. Каждый месяц. Немного, но заметно. Банковские маркетологи посчитали: сохранять текущих клиентов дешевле, чем привлекать новых.\n",
    "\n",
    "Нужно спрогнозировать, уйдёт клиент из банка в ближайшее время или нет. Вам предоставлены исторические данные о поведении клиентов и расторжении договоров с банком. \n",
    "\n",
    "Постройте модель с предельно большим значением *F1*-меры. Чтобы сдать проект успешно, нужно довести метрику до 0.59. Проверьте *F1*-меру на тестовой выборке самостоятельно.\n",
    "\n",
    "Дополнительно измеряйте *AUC-ROC*, сравнивайте её значение с *F1*-мерой.\n",
    "\n",
    "Источник данных: [https://www.kaggle.com/barelydedicated/bank-customer-churn-modeling](https://www.kaggle.com/barelydedicated/bank-customer-churn-modeling)"
   ]
  },
  {
   "cell_type": "markdown",
   "metadata": {},
   "source": [
    "**Признаки**\n",
    "* RowNumber — индекс строки в данных\n",
    "* CustomerId — уникальный идентификатор клиента\n",
    "* Surname — фамилия\n",
    "* CreditScore — кредитный рейтинг\n",
    "* Geography — страна проживания\n",
    "* Gender — пол\n",
    "* Age — возраст\n",
    "* Tenure — сколько лет человек является клиентом банка\n",
    "* Balance — баланс на счёте\n",
    "* NumOfProducts — количество продуктов банка, используемых клиентом\n",
    "* HasCrCard — наличие кредитной карты\n",
    "* IsActiveMember — активность клиента\n",
    "* EstimatedSalary — предполагаемая зарплата\n",
    "\n",
    "**Целевой признак**\n",
    "* Exited — факт ухода клиента"
   ]
  },
  {
   "cell_type": "markdown",
   "metadata": {},
   "source": [
    "## Подготовка данных"
   ]
  },
  {
   "cell_type": "markdown",
   "metadata": {},
   "source": [
    "**На этом этапе мы рассмотрим данные и проведем их предобработку.**"
   ]
  },
  {
   "cell_type": "code",
   "execution_count": 1,
   "metadata": {},
   "outputs": [],
   "source": [
    "import pandas as pd\n",
    "import numpy as np\n",
    "import matplotlib.pyplot as plt\n",
    "from sklearn.preprocessing import StandardScaler\n",
    "from sklearn.model_selection import train_test_split\n",
    "from sklearn.preprocessing import OrdinalEncoder\n",
    "from sklearn.ensemble import RandomForestClassifier\n",
    "from sklearn.metrics import f1_score\n",
    "from sklearn.tree import DecisionTreeClassifier\n",
    "from sklearn.linear_model import LogisticRegression\n",
    "from sklearn.metrics import confusion_matrix\n",
    "from sklearn.metrics import recall_score\n",
    "from sklearn.metrics import precision_score\n",
    "from sklearn.metrics import roc_auc_score\n",
    "from sklearn.utils import shuffle"
   ]
  },
  {
   "cell_type": "code",
   "execution_count": 2,
   "metadata": {},
   "outputs": [],
   "source": [
    "df = pd.read_csv('/datasets/Churn.csv')"
   ]
  },
  {
   "cell_type": "code",
   "execution_count": 3,
   "metadata": {},
   "outputs": [
    {
     "name": "stdout",
     "output_type": "stream",
     "text": [
      "<class 'pandas.core.frame.DataFrame'>\n",
      "RangeIndex: 10000 entries, 0 to 9999\n",
      "Data columns (total 14 columns):\n",
      " #   Column           Non-Null Count  Dtype  \n",
      "---  ------           --------------  -----  \n",
      " 0   RowNumber        10000 non-null  int64  \n",
      " 1   CustomerId       10000 non-null  int64  \n",
      " 2   Surname          10000 non-null  object \n",
      " 3   CreditScore      10000 non-null  int64  \n",
      " 4   Geography        10000 non-null  object \n",
      " 5   Gender           10000 non-null  object \n",
      " 6   Age              10000 non-null  int64  \n",
      " 7   Tenure           9091 non-null   float64\n",
      " 8   Balance          10000 non-null  float64\n",
      " 9   NumOfProducts    10000 non-null  int64  \n",
      " 10  HasCrCard        10000 non-null  int64  \n",
      " 11  IsActiveMember   10000 non-null  int64  \n",
      " 12  EstimatedSalary  10000 non-null  float64\n",
      " 13  Exited           10000 non-null  int64  \n",
      "dtypes: float64(3), int64(8), object(3)\n",
      "memory usage: 1.1+ MB\n"
     ]
    }
   ],
   "source": [
    "df.info()"
   ]
  },
  {
   "cell_type": "code",
   "execution_count": 4,
   "metadata": {},
   "outputs": [
    {
     "data": {
      "text/html": [
       "<div>\n",
       "<style scoped>\n",
       "    .dataframe tbody tr th:only-of-type {\n",
       "        vertical-align: middle;\n",
       "    }\n",
       "\n",
       "    .dataframe tbody tr th {\n",
       "        vertical-align: top;\n",
       "    }\n",
       "\n",
       "    .dataframe thead th {\n",
       "        text-align: right;\n",
       "    }\n",
       "</style>\n",
       "<table border=\"1\" class=\"dataframe\">\n",
       "  <thead>\n",
       "    <tr style=\"text-align: right;\">\n",
       "      <th></th>\n",
       "      <th>RowNumber</th>\n",
       "      <th>CustomerId</th>\n",
       "      <th>CreditScore</th>\n",
       "      <th>Age</th>\n",
       "      <th>Tenure</th>\n",
       "      <th>Balance</th>\n",
       "      <th>NumOfProducts</th>\n",
       "      <th>HasCrCard</th>\n",
       "      <th>IsActiveMember</th>\n",
       "      <th>EstimatedSalary</th>\n",
       "      <th>Exited</th>\n",
       "    </tr>\n",
       "  </thead>\n",
       "  <tbody>\n",
       "    <tr>\n",
       "      <th>count</th>\n",
       "      <td>10000.00</td>\n",
       "      <td>10000.00</td>\n",
       "      <td>10000.00</td>\n",
       "      <td>10000.00</td>\n",
       "      <td>9091.00</td>\n",
       "      <td>10000.00</td>\n",
       "      <td>10000.00</td>\n",
       "      <td>10000.00</td>\n",
       "      <td>10000.00</td>\n",
       "      <td>10000.00</td>\n",
       "      <td>10000.0</td>\n",
       "    </tr>\n",
       "    <tr>\n",
       "      <th>mean</th>\n",
       "      <td>5000.50</td>\n",
       "      <td>15690940.57</td>\n",
       "      <td>650.53</td>\n",
       "      <td>38.92</td>\n",
       "      <td>5.00</td>\n",
       "      <td>76485.89</td>\n",
       "      <td>1.53</td>\n",
       "      <td>0.71</td>\n",
       "      <td>0.52</td>\n",
       "      <td>100090.24</td>\n",
       "      <td>0.2</td>\n",
       "    </tr>\n",
       "    <tr>\n",
       "      <th>std</th>\n",
       "      <td>2886.90</td>\n",
       "      <td>71936.19</td>\n",
       "      <td>96.65</td>\n",
       "      <td>10.49</td>\n",
       "      <td>2.89</td>\n",
       "      <td>62397.41</td>\n",
       "      <td>0.58</td>\n",
       "      <td>0.46</td>\n",
       "      <td>0.50</td>\n",
       "      <td>57510.49</td>\n",
       "      <td>0.4</td>\n",
       "    </tr>\n",
       "    <tr>\n",
       "      <th>min</th>\n",
       "      <td>1.00</td>\n",
       "      <td>15565701.00</td>\n",
       "      <td>350.00</td>\n",
       "      <td>18.00</td>\n",
       "      <td>0.00</td>\n",
       "      <td>0.00</td>\n",
       "      <td>1.00</td>\n",
       "      <td>0.00</td>\n",
       "      <td>0.00</td>\n",
       "      <td>11.58</td>\n",
       "      <td>0.0</td>\n",
       "    </tr>\n",
       "    <tr>\n",
       "      <th>25%</th>\n",
       "      <td>2500.75</td>\n",
       "      <td>15628528.25</td>\n",
       "      <td>584.00</td>\n",
       "      <td>32.00</td>\n",
       "      <td>2.00</td>\n",
       "      <td>0.00</td>\n",
       "      <td>1.00</td>\n",
       "      <td>0.00</td>\n",
       "      <td>0.00</td>\n",
       "      <td>51002.11</td>\n",
       "      <td>0.0</td>\n",
       "    </tr>\n",
       "    <tr>\n",
       "      <th>50%</th>\n",
       "      <td>5000.50</td>\n",
       "      <td>15690738.00</td>\n",
       "      <td>652.00</td>\n",
       "      <td>37.00</td>\n",
       "      <td>5.00</td>\n",
       "      <td>97198.54</td>\n",
       "      <td>1.00</td>\n",
       "      <td>1.00</td>\n",
       "      <td>1.00</td>\n",
       "      <td>100193.92</td>\n",
       "      <td>0.0</td>\n",
       "    </tr>\n",
       "    <tr>\n",
       "      <th>75%</th>\n",
       "      <td>7500.25</td>\n",
       "      <td>15753233.75</td>\n",
       "      <td>718.00</td>\n",
       "      <td>44.00</td>\n",
       "      <td>7.00</td>\n",
       "      <td>127644.24</td>\n",
       "      <td>2.00</td>\n",
       "      <td>1.00</td>\n",
       "      <td>1.00</td>\n",
       "      <td>149388.25</td>\n",
       "      <td>0.0</td>\n",
       "    </tr>\n",
       "    <tr>\n",
       "      <th>max</th>\n",
       "      <td>10000.00</td>\n",
       "      <td>15815690.00</td>\n",
       "      <td>850.00</td>\n",
       "      <td>92.00</td>\n",
       "      <td>10.00</td>\n",
       "      <td>250898.09</td>\n",
       "      <td>4.00</td>\n",
       "      <td>1.00</td>\n",
       "      <td>1.00</td>\n",
       "      <td>199992.48</td>\n",
       "      <td>1.0</td>\n",
       "    </tr>\n",
       "  </tbody>\n",
       "</table>\n",
       "</div>"
      ],
      "text/plain": [
       "       RowNumber   CustomerId  CreditScore       Age   Tenure    Balance  \\\n",
       "count   10000.00     10000.00     10000.00  10000.00  9091.00   10000.00   \n",
       "mean     5000.50  15690940.57       650.53     38.92     5.00   76485.89   \n",
       "std      2886.90     71936.19        96.65     10.49     2.89   62397.41   \n",
       "min         1.00  15565701.00       350.00     18.00     0.00       0.00   \n",
       "25%      2500.75  15628528.25       584.00     32.00     2.00       0.00   \n",
       "50%      5000.50  15690738.00       652.00     37.00     5.00   97198.54   \n",
       "75%      7500.25  15753233.75       718.00     44.00     7.00  127644.24   \n",
       "max     10000.00  15815690.00       850.00     92.00    10.00  250898.09   \n",
       "\n",
       "       NumOfProducts  HasCrCard  IsActiveMember  EstimatedSalary   Exited  \n",
       "count       10000.00   10000.00        10000.00         10000.00  10000.0  \n",
       "mean            1.53       0.71            0.52        100090.24      0.2  \n",
       "std             0.58       0.46            0.50         57510.49      0.4  \n",
       "min             1.00       0.00            0.00            11.58      0.0  \n",
       "25%             1.00       0.00            0.00         51002.11      0.0  \n",
       "50%             1.00       1.00            1.00        100193.92      0.0  \n",
       "75%             2.00       1.00            1.00        149388.25      0.0  \n",
       "max             4.00       1.00            1.00        199992.48      1.0  "
      ]
     },
     "execution_count": 4,
     "metadata": {},
     "output_type": "execute_result"
    }
   ],
   "source": [
    "df.describe().round(2)"
   ]
  },
  {
   "cell_type": "code",
   "execution_count": 5,
   "metadata": {},
   "outputs": [
    {
     "data": {
      "text/html": [
       "<div>\n",
       "<style scoped>\n",
       "    .dataframe tbody tr th:only-of-type {\n",
       "        vertical-align: middle;\n",
       "    }\n",
       "\n",
       "    .dataframe tbody tr th {\n",
       "        vertical-align: top;\n",
       "    }\n",
       "\n",
       "    .dataframe thead th {\n",
       "        text-align: right;\n",
       "    }\n",
       "</style>\n",
       "<table border=\"1\" class=\"dataframe\">\n",
       "  <thead>\n",
       "    <tr style=\"text-align: right;\">\n",
       "      <th></th>\n",
       "      <th>RowNumber</th>\n",
       "      <th>CustomerId</th>\n",
       "      <th>CreditScore</th>\n",
       "      <th>Age</th>\n",
       "      <th>Tenure</th>\n",
       "      <th>Balance</th>\n",
       "      <th>NumOfProducts</th>\n",
       "      <th>HasCrCard</th>\n",
       "      <th>IsActiveMember</th>\n",
       "      <th>EstimatedSalary</th>\n",
       "      <th>Exited</th>\n",
       "    </tr>\n",
       "  </thead>\n",
       "  <tbody>\n",
       "    <tr>\n",
       "      <th>count</th>\n",
       "      <td>909.00</td>\n",
       "      <td>909.00</td>\n",
       "      <td>909.00</td>\n",
       "      <td>909.00</td>\n",
       "      <td>0.0</td>\n",
       "      <td>909.00</td>\n",
       "      <td>909.00</td>\n",
       "      <td>909.00</td>\n",
       "      <td>909.00</td>\n",
       "      <td>909.00</td>\n",
       "      <td>909.0</td>\n",
       "    </tr>\n",
       "    <tr>\n",
       "      <th>mean</th>\n",
       "      <td>4866.39</td>\n",
       "      <td>15689814.58</td>\n",
       "      <td>648.45</td>\n",
       "      <td>38.65</td>\n",
       "      <td>NaN</td>\n",
       "      <td>76117.34</td>\n",
       "      <td>1.53</td>\n",
       "      <td>0.71</td>\n",
       "      <td>0.51</td>\n",
       "      <td>99180.39</td>\n",
       "      <td>0.2</td>\n",
       "    </tr>\n",
       "    <tr>\n",
       "      <th>std</th>\n",
       "      <td>2909.60</td>\n",
       "      <td>75112.25</td>\n",
       "      <td>99.08</td>\n",
       "      <td>9.79</td>\n",
       "      <td>NaN</td>\n",
       "      <td>63105.69</td>\n",
       "      <td>0.59</td>\n",
       "      <td>0.45</td>\n",
       "      <td>0.50</td>\n",
       "      <td>56378.06</td>\n",
       "      <td>0.4</td>\n",
       "    </tr>\n",
       "    <tr>\n",
       "      <th>min</th>\n",
       "      <td>31.00</td>\n",
       "      <td>15565806.00</td>\n",
       "      <td>359.00</td>\n",
       "      <td>18.00</td>\n",
       "      <td>NaN</td>\n",
       "      <td>0.00</td>\n",
       "      <td>1.00</td>\n",
       "      <td>0.00</td>\n",
       "      <td>0.00</td>\n",
       "      <td>106.67</td>\n",
       "      <td>0.0</td>\n",
       "    </tr>\n",
       "    <tr>\n",
       "      <th>25%</th>\n",
       "      <td>2311.00</td>\n",
       "      <td>15626578.00</td>\n",
       "      <td>580.00</td>\n",
       "      <td>32.00</td>\n",
       "      <td>NaN</td>\n",
       "      <td>0.00</td>\n",
       "      <td>1.00</td>\n",
       "      <td>0.00</td>\n",
       "      <td>0.00</td>\n",
       "      <td>49872.33</td>\n",
       "      <td>0.0</td>\n",
       "    </tr>\n",
       "    <tr>\n",
       "      <th>50%</th>\n",
       "      <td>4887.00</td>\n",
       "      <td>15686870.00</td>\n",
       "      <td>647.00</td>\n",
       "      <td>37.00</td>\n",
       "      <td>NaN</td>\n",
       "      <td>96674.55</td>\n",
       "      <td>1.00</td>\n",
       "      <td>1.00</td>\n",
       "      <td>1.00</td>\n",
       "      <td>99444.02</td>\n",
       "      <td>0.0</td>\n",
       "    </tr>\n",
       "    <tr>\n",
       "      <th>75%</th>\n",
       "      <td>7306.00</td>\n",
       "      <td>15756804.00</td>\n",
       "      <td>718.00</td>\n",
       "      <td>43.00</td>\n",
       "      <td>NaN</td>\n",
       "      <td>128554.98</td>\n",
       "      <td>2.00</td>\n",
       "      <td>1.00</td>\n",
       "      <td>1.00</td>\n",
       "      <td>145759.70</td>\n",
       "      <td>0.0</td>\n",
       "    </tr>\n",
       "    <tr>\n",
       "      <th>max</th>\n",
       "      <td>10000.00</td>\n",
       "      <td>15815690.00</td>\n",
       "      <td>850.00</td>\n",
       "      <td>92.00</td>\n",
       "      <td>NaN</td>\n",
       "      <td>206663.75</td>\n",
       "      <td>4.00</td>\n",
       "      <td>1.00</td>\n",
       "      <td>1.00</td>\n",
       "      <td>199390.45</td>\n",
       "      <td>1.0</td>\n",
       "    </tr>\n",
       "  </tbody>\n",
       "</table>\n",
       "</div>"
      ],
      "text/plain": [
       "       RowNumber   CustomerId  CreditScore     Age  Tenure    Balance  \\\n",
       "count     909.00       909.00       909.00  909.00     0.0     909.00   \n",
       "mean     4866.39  15689814.58       648.45   38.65     NaN   76117.34   \n",
       "std      2909.60     75112.25        99.08    9.79     NaN   63105.69   \n",
       "min        31.00  15565806.00       359.00   18.00     NaN       0.00   \n",
       "25%      2311.00  15626578.00       580.00   32.00     NaN       0.00   \n",
       "50%      4887.00  15686870.00       647.00   37.00     NaN   96674.55   \n",
       "75%      7306.00  15756804.00       718.00   43.00     NaN  128554.98   \n",
       "max     10000.00  15815690.00       850.00   92.00     NaN  206663.75   \n",
       "\n",
       "       NumOfProducts  HasCrCard  IsActiveMember  EstimatedSalary  Exited  \n",
       "count         909.00     909.00          909.00           909.00   909.0  \n",
       "mean            1.53       0.71            0.51         99180.39     0.2  \n",
       "std             0.59       0.45            0.50         56378.06     0.4  \n",
       "min             1.00       0.00            0.00           106.67     0.0  \n",
       "25%             1.00       0.00            0.00         49872.33     0.0  \n",
       "50%             1.00       1.00            1.00         99444.02     0.0  \n",
       "75%             2.00       1.00            1.00        145759.70     0.0  \n",
       "max             4.00       1.00            1.00        199390.45     1.0  "
      ]
     },
     "execution_count": 5,
     "metadata": {},
     "output_type": "execute_result"
    }
   ],
   "source": [
    "df[df['Tenure'].isna()].describe().round(2)"
   ]
  },
  {
   "cell_type": "markdown",
   "metadata": {},
   "source": [
    "В базе данных 14 колонок, только одна из них -  `Tenure` - имеет пропущенные значения: 909 пропусков. В этой переменной заложена информация о том, сколько лет человек является клиентом банка. При этом, остальные данные на этих клиентов не сильно отличаются от базы данных в целом. Тем не менее, информация о длительности пользования услугами банка может иметь важное значение при построении модели, а заполнять пропуски нулями или средним/медианой через .transform() не кажется разумным. \n",
    "В данном случае мы можем себе позволить избавиться от их 909 строк. И потом изменить тип данных с _float_ на _int_."
   ]
  },
  {
   "cell_type": "markdown",
   "metadata": {},
   "source": [
    "Мы также удалим столбец `RowNumber`, так как он обозначает индекс строки, а индексы у нас и так есть. \n",
    "Столбцы `CustomerId` и `Surname` для построения модели нам тоже не нужны, их мы тоже удаляем. "
   ]
  },
  {
   "cell_type": "code",
   "execution_count": 6,
   "metadata": {},
   "outputs": [],
   "source": [
    "df = df.dropna(subset=['Tenure'])\n",
    "df['Tenure'] = df['Tenure'].astype('int64')\n",
    "df = df.drop(columns=['RowNumber', 'CustomerId', 'Surname'])"
   ]
  },
  {
   "cell_type": "markdown",
   "metadata": {},
   "source": [
    "И удалим полные дубликаты, если они закрались в базу. "
   ]
  },
  {
   "cell_type": "code",
   "execution_count": 7,
   "metadata": {},
   "outputs": [],
   "source": [
    "df = df.drop_duplicates()"
   ]
  },
  {
   "cell_type": "code",
   "execution_count": 8,
   "metadata": {},
   "outputs": [
    {
     "name": "stdout",
     "output_type": "stream",
     "text": [
      "<class 'pandas.core.frame.DataFrame'>\n",
      "Int64Index: 9091 entries, 0 to 9998\n",
      "Data columns (total 11 columns):\n",
      " #   Column           Non-Null Count  Dtype  \n",
      "---  ------           --------------  -----  \n",
      " 0   CreditScore      9091 non-null   int64  \n",
      " 1   Geography        9091 non-null   object \n",
      " 2   Gender           9091 non-null   object \n",
      " 3   Age              9091 non-null   int64  \n",
      " 4   Tenure           9091 non-null   int64  \n",
      " 5   Balance          9091 non-null   float64\n",
      " 6   NumOfProducts    9091 non-null   int64  \n",
      " 7   HasCrCard        9091 non-null   int64  \n",
      " 8   IsActiveMember   9091 non-null   int64  \n",
      " 9   EstimatedSalary  9091 non-null   float64\n",
      " 10  Exited           9091 non-null   int64  \n",
      "dtypes: float64(2), int64(7), object(2)\n",
      "memory usage: 852.3+ KB\n"
     ]
    }
   ],
   "source": [
    "df.info()"
   ]
  },
  {
   "cell_type": "markdown",
   "metadata": {},
   "source": [
    "Далее для удобства работы мы переименуем столбцы с CamelCase в snake_case. Готовую функцию взяла с [stackoverflow](https://stackoverflow.com/questions/1175208/elegant-python-function-to-convert-camelcase-to-snake-case)."
   ]
  },
  {
   "cell_type": "code",
   "execution_count": 9,
   "metadata": {},
   "outputs": [],
   "source": [
    "import re\n",
    "\n",
    "def snake_case (camel_input):\n",
    "    words = re.findall(r'[A-Z]?[a-z]+|[A-Z]{2,}(?=[A-Z][a-z]|\\d|\\W|$)|\\d+', camel_input)\n",
    "    return '_'.join(map(str.lower, words))"
   ]
  },
  {
   "cell_type": "code",
   "execution_count": 10,
   "metadata": {},
   "outputs": [],
   "source": [
    "old_names = df.columns.tolist()\n",
    "new_names = []\n",
    "\n",
    "for i in range(len(old_names)):\n",
    "    new_name = snake_case(old_names[i])\n",
    "    new_names.append(new_name)\n",
    "    \n",
    "df.columns = new_names"
   ]
  },
  {
   "cell_type": "code",
   "execution_count": 11,
   "metadata": {},
   "outputs": [
    {
     "data": {
      "text/plain": [
       "credit_score          int64\n",
       "geography            object\n",
       "gender               object\n",
       "age                   int64\n",
       "tenure                int64\n",
       "balance             float64\n",
       "num_of_products       int64\n",
       "has_cr_card           int64\n",
       "is_active_member      int64\n",
       "estimated_salary    float64\n",
       "exited                int64\n",
       "dtype: object"
      ]
     },
     "execution_count": 11,
     "metadata": {},
     "output_type": "execute_result"
    }
   ],
   "source": [
    "df.dtypes"
   ]
  },
  {
   "cell_type": "markdown",
   "metadata": {},
   "source": [
    "### Промежуточные выводы\n",
    "\n",
    "Мы удалили пропуски, убрали ненужные для модели колонки и переименовали признаки в более удобный формат записи.\n",
    "Можно переходить к следующему этапу."
   ]
  },
  {
   "cell_type": "markdown",
   "metadata": {},
   "source": [
    "## Исследование задачи"
   ]
  },
  {
   "cell_type": "markdown",
   "metadata": {},
   "source": [
    "Для начала изучим целевой признак `exited` и посмотрим, насколько равномерно распределены значения этого признака."
   ]
  },
  {
   "cell_type": "code",
   "execution_count": 12,
   "metadata": {},
   "outputs": [
    {
     "data": {
      "text/plain": [
       "0    0.796\n",
       "1    0.204\n",
       "Name: exited, dtype: float64"
      ]
     },
     "execution_count": 12,
     "metadata": {},
     "output_type": "execute_result"
    }
   ],
   "source": [
    "df['exited'].value_counts(normalize=True).round(3)"
   ]
  },
  {
   "cell_type": "code",
   "execution_count": 13,
   "metadata": {},
   "outputs": [
    {
     "data": {
      "image/png": "[encoded data removed]",
      "text/plain": [
       "<Figure size 432x288 with 1 Axes>"
      ]
     },
     "metadata": {
      "needs_background": "light"
     },
     "output_type": "display_data"
    }
   ],
   "source": [
    "df['exited'].value_counts(normalize=True).plot(kind='bar', color='pink', grid=True)\n",
    "plt.title('Распределение данных целевого признака: факт ухода клиента')\n",
    "plt.xlabel('Клиент остался (0) или ушел (1)?')\n",
    "plt.ylabel('Частота')\n",
    "plt.show()"
   ]
  },
  {
   "cell_type": "markdown",
   "metadata": {},
   "source": [
    "Мы видим, что данные распределены неравномерно: 80% клиентов остались, а 20% ушли. Мы примем этот факт во внимание на этапе борьбы с дисбалансом."
   ]
  },
  {
   "cell_type": "markdown",
   "metadata": {},
   "source": [
    "### Функция для ускорения работы"
   ]
  },
  {
   "cell_type": "markdown",
   "metadata": {},
   "source": [
    "**Разделение данных на обучающую, валидационную и тестовую выборки в пропорциях 3:1:1, а также масштабирование количественных данных**"
   ]
  },
  {
   "cell_type": "code",
   "execution_count": 14,
   "metadata": {},
   "outputs": [],
   "source": [
    "pd.options.mode.chained_assignment = None\n",
    "\n",
    "def split_data(data):\n",
    "    \n",
    "    target = data['exited']\n",
    "    features = data.drop('exited', axis=1)\n",
    "   \n",
    "    features_train, features_valid_test, target_train, target_valid_test = train_test_split(\n",
    "        features, target, test_size=0.4, random_state=12345)\n",
    "\n",
    "    features_valid, features_test, target_valid, target_test = train_test_split(\n",
    "        features_valid_test, target_valid_test, test_size=0.5, random_state=12345)\n",
    "    \n",
    "    scaler = StandardScaler()\n",
    "    numeric = ['credit_score', 'age', 'tenure', 'balance', 'num_of_products', 'estimated_salary']\n",
    "    scaler.fit(features_train[numeric])\n",
    "    \n",
    "    features_train[numeric] = scaler.transform(features_train[numeric])\n",
    "    features_valid[numeric] = scaler.transform(features_valid[numeric])\n",
    "    features_test[numeric] = scaler.transform(features_test[numeric])\n",
    "    \n",
    "    return features_train, features_valid, features_test, target_train, target_valid, target_test"
   ]
  },
  {
   "cell_type": "markdown",
   "metadata": {},
   "source": [
    "### Пробная модель: логистическая регрессия"
   ]
  },
  {
   "cell_type": "markdown",
   "metadata": {},
   "source": [
    "\n",
    "Два признака типа _object_ - `geography` и `gender` - мы преобразуем в числовые через OHE при помощи get_dummies() для того, чтобы мы могли обучить модель логистической регрессии. И запишем все в **`df_ohe`**."
   ]
  },
  {
   "cell_type": "code",
   "execution_count": 15,
   "metadata": {},
   "outputs": [],
   "source": [
    "df_ohe = pd.get_dummies(df, drop_first=True)"
   ]
  },
  {
   "cell_type": "code",
   "execution_count": 16,
   "metadata": {},
   "outputs": [
    {
     "data": {
      "text/html": [
       "<div>\n",
       "<style scoped>\n",
       "    .dataframe tbody tr th:only-of-type {\n",
       "        vertical-align: middle;\n",
       "    }\n",
       "\n",
       "    .dataframe tbody tr th {\n",
       "        vertical-align: top;\n",
       "    }\n",
       "\n",
       "    .dataframe thead th {\n",
       "        text-align: right;\n",
       "    }\n",
       "</style>\n",
       "<table border=\"1\" class=\"dataframe\">\n",
       "  <thead>\n",
       "    <tr style=\"text-align: right;\">\n",
       "      <th></th>\n",
       "      <th>credit_score</th>\n",
       "      <th>age</th>\n",
       "      <th>tenure</th>\n",
       "      <th>balance</th>\n",
       "      <th>num_of_products</th>\n",
       "      <th>has_cr_card</th>\n",
       "      <th>is_active_member</th>\n",
       "      <th>estimated_salary</th>\n",
       "      <th>exited</th>\n",
       "      <th>geography_Germany</th>\n",
       "      <th>geography_Spain</th>\n",
       "      <th>gender_Male</th>\n",
       "    </tr>\n",
       "  </thead>\n",
       "  <tbody>\n",
       "    <tr>\n",
       "      <th>0</th>\n",
       "      <td>619</td>\n",
       "      <td>42</td>\n",
       "      <td>2</td>\n",
       "      <td>0.00</td>\n",
       "      <td>1</td>\n",
       "      <td>1</td>\n",
       "      <td>1</td>\n",
       "      <td>101348.88</td>\n",
       "      <td>1</td>\n",
       "      <td>0</td>\n",
       "      <td>0</td>\n",
       "      <td>0</td>\n",
       "    </tr>\n",
       "    <tr>\n",
       "      <th>1</th>\n",
       "      <td>608</td>\n",
       "      <td>41</td>\n",
       "      <td>1</td>\n",
       "      <td>83807.86</td>\n",
       "      <td>1</td>\n",
       "      <td>0</td>\n",
       "      <td>1</td>\n",
       "      <td>112542.58</td>\n",
       "      <td>0</td>\n",
       "      <td>0</td>\n",
       "      <td>1</td>\n",
       "      <td>0</td>\n",
       "    </tr>\n",
       "  </tbody>\n",
       "</table>\n",
       "</div>"
      ],
      "text/plain": [
       "   credit_score  age  tenure   balance  num_of_products  has_cr_card  \\\n",
       "0           619   42       2      0.00                1            1   \n",
       "1           608   41       1  83807.86                1            0   \n",
       "\n",
       "   is_active_member  estimated_salary  exited  geography_Germany  \\\n",
       "0                 1         101348.88       1                  0   \n",
       "1                 1         112542.58       0                  0   \n",
       "\n",
       "   geography_Spain  gender_Male  \n",
       "0                0            0  \n",
       "1                1            0  "
      ]
     },
     "execution_count": 16,
     "metadata": {},
     "output_type": "execute_result"
    }
   ],
   "source": [
    "df_ohe.head(2)"
   ]
  },
  {
   "cell_type": "code",
   "execution_count": 17,
   "metadata": {},
   "outputs": [
    {
     "name": "stdout",
     "output_type": "stream",
     "text": [
      "F1-мера для логистической регрессии несбалансированной выборки: 0.304\n"
     ]
    }
   ],
   "source": [
    "features_train, features_valid, features_test, target_train, target_valid, target_test = split_data(df_ohe)\n",
    "\n",
    "model_lr = LogisticRegression(solver='liblinear', random_state=12345)\n",
    "model_lr.fit(features_train, target_train)\n",
    "predicted_valid_lr = model_lr.predict(features_valid)\n",
    "f1_score_lr = f1_score(target_valid, predicted_valid_lr)\n",
    "recall_lr = recall_score(target_valid, predicted_valid_lr)\n",
    "precision_lr = precision_score(target_valid, predicted_valid_lr)\n",
    "probabilities_valid_lr = model_lr.predict_proba(features_valid)\n",
    "probabilities_one_valid_lr = probabilities_valid_lr[:, 1]\n",
    "auc_roc_lr = roc_auc_score(target_valid, probabilities_one_valid_lr)\n",
    "\n",
    "print('F1-мера для логистической регрессии несбалансированной выборки:', f1_score_lr.round(4))"
   ]
  },
  {
   "cell_type": "markdown",
   "metadata": {},
   "source": [
    "### Пробная модель: дерево решений"
   ]
  },
  {
   "cell_type": "markdown",
   "metadata": {},
   "source": [
    "Для работы с деревом решений и случайным лесом нам необходимо сначала перекодировать данные в порядковые. "
   ]
  },
  {
   "cell_type": "code",
   "execution_count": 18,
   "metadata": {},
   "outputs": [],
   "source": [
    "encoder = OrdinalEncoder()\n",
    "df_ordinal = pd.DataFrame(encoder.fit_transform(df),\n",
    "                            columns=df.columns)"
   ]
  },
  {
   "cell_type": "code",
   "execution_count": 19,
   "metadata": {},
   "outputs": [
    {
     "name": "stdout",
     "output_type": "stream",
     "text": [
      "Глубина: 1\n",
      "F1-мера валидационной выборки: 0.0\n",
      "-------\n",
      "\n",
      "Глубина: 2\n",
      "F1-мера валидационной выборки: 0.5305\n",
      "-------\n",
      "\n",
      "Глубина: 3\n",
      "F1-мера валидационной выборки: 0.3727\n",
      "-------\n",
      "\n",
      "Глубина: 4\n",
      "F1-мера валидационной выборки: 0.5415\n",
      "-------\n",
      "\n",
      "Глубина: 5\n",
      "F1-мера валидационной выборки: 0.5141\n",
      "-------\n",
      "\n",
      "Глубина: 6\n",
      "F1-мера валидационной выборки: 0.5607\n",
      "-------\n",
      "\n",
      "Глубина: 7\n",
      "F1-мера валидационной выборки: 0.5764\n",
      "-------\n",
      "\n",
      "Глубина: 8\n",
      "F1-мера валидационной выборки: 0.5413\n",
      "-------\n",
      "\n",
      "Глубина: 9\n",
      "F1-мера валидационной выборки: 0.5446\n",
      "-------\n",
      "\n",
      "Глубина: 10\n",
      "F1-мера валидационной выборки: 0.5123\n",
      "-------\n",
      "\n",
      "Глубина: 11\n",
      "F1-мера валидационной выборки: 0.5128\n",
      "-------\n",
      "\n",
      "Глубина: 12\n",
      "F1-мера валидационной выборки: 0.4794\n",
      "-------\n",
      "\n",
      "Глубина: 13\n",
      "F1-мера валидационной выборки: 0.4826\n",
      "-------\n",
      "\n",
      "Глубина: 14\n",
      "F1-мера валидационной выборки: 0.4864\n",
      "-------\n",
      "\n",
      "Глубина: 15\n",
      "F1-мера валидационной выборки: 0.4741\n",
      "-------\n",
      "\n",
      "\n",
      "Лучшая модель: DecisionTreeClassifier(max_depth=7, random_state=12345)\n",
      "Глубина этой модели: 7\n",
      "F1-мера валидационной выборки этой модели: 0.5764\n"
     ]
    }
   ],
   "source": [
    "features_train, \n",
    "features_valid, \n",
    "features_test, \n",
    "target_train, \n",
    "target_valid, \n",
    "target_test = split_data(df_ordinal)\n",
    "\n",
    "best_depth_dt = 0\n",
    "best_model_dt = None\n",
    "best_f1_score_dt = 0\n",
    "\n",
    "\n",
    "for depth in range (1, 16, 1):\n",
    "    model_dt = DecisionTreeClassifier(max_depth=depth, random_state=12345)\n",
    "    model_dt.fit(features_train, target_train)\n",
    "    predicted_valid_dt = model_dt.predict(features_valid)\n",
    "    f1_score_dt = f1_score(target_valid, predicted_valid_dt)\n",
    "                    \n",
    "    print('Глубина:', depth)\n",
    "    print('F1-мера валидационной выборки:', f1_score_dt.round(4))\n",
    "    print('-------')\n",
    "    print()\n",
    "    \n",
    "    if f1_score_dt > best_f1_score_dt:\n",
    "        best_model_dt = model_dt\n",
    "        best_depth_dt = depth\n",
    "        best_f1_score_dt = f1_score_dt\n",
    "        recall_dt = recall_score(target_valid, predicted_valid_dt)\n",
    "        precision_dt = precision_score(target_valid, predicted_valid_dt)\n",
    "        probabilities_valid_dt = model_dt.predict_proba(features_valid)\n",
    "        probabilities_one_valid_dt = probabilities_valid_dt[:, 1]\n",
    "        auc_roc_dt = roc_auc_score(target_valid, probabilities_one_valid_dt)\n",
    "\n",
    "print()\n",
    "print('Лучшая модель:', best_model_dt)\n",
    "print('Глубина этой модели:', best_depth_dt)\n",
    "print('F1-мера валидационной выборки этой модели:', best_f1_score_dt.round(4))"
   ]
  },
  {
   "cell_type": "markdown",
   "metadata": {},
   "source": [
    "### Пробная модель: случайный лес"
   ]
  },
  {
   "cell_type": "markdown",
   "metadata": {},
   "source": [
    "Сначала определимся с оптимальной глубиной, а затем подберем количество деревьев. "
   ]
  },
  {
   "cell_type": "code",
   "execution_count": 20,
   "metadata": {},
   "outputs": [
    {
     "name": "stdout",
     "output_type": "stream",
     "text": [
      "Глубина: 1\n",
      "F1-мера валидационной выборки: 0.0\n",
      "-------\n",
      "\n",
      "Глубина: 2\n",
      "F1-мера валидационной выборки: 0.1918\n",
      "-------\n",
      "\n",
      "Глубина: 3\n",
      "F1-мера валидационной выборки: 0.2378\n",
      "-------\n",
      "\n",
      "Глубина: 4\n",
      "F1-мера валидационной выборки: 0.4219\n",
      "-------\n",
      "\n",
      "Глубина: 5\n",
      "F1-мера валидационной выборки: 0.5157\n",
      "-------\n",
      "\n",
      "Глубина: 6\n",
      "F1-мера валидационной выборки: 0.549\n",
      "-------\n",
      "\n",
      "Глубина: 7\n",
      "F1-мера валидационной выборки: 0.5651\n",
      "-------\n",
      "\n",
      "Глубина: 8\n",
      "F1-мера валидационной выборки: 0.5759\n",
      "-------\n",
      "\n",
      "Глубина: 9\n",
      "F1-мера валидационной выборки: 0.5502\n",
      "-------\n",
      "\n",
      "Глубина: 10\n",
      "F1-мера валидационной выборки: 0.5758\n",
      "-------\n",
      "\n",
      "Глубина: 11\n",
      "F1-мера валидационной выборки: 0.5729\n",
      "-------\n",
      "\n",
      "Глубина: 12\n",
      "F1-мера валидационной выборки: 0.5743\n",
      "-------\n",
      "\n",
      "Глубина: 13\n",
      "F1-мера валидационной выборки: 0.5657\n",
      "-------\n",
      "\n",
      "Глубина: 14\n",
      "F1-мера валидационной выборки: 0.5805\n",
      "-------\n",
      "\n",
      "Глубина: 15\n",
      "F1-мера валидационной выборки: 0.5846\n",
      "-------\n",
      "\n",
      "Глубина: 16\n",
      "F1-мера валидационной выборки: 0.5825\n",
      "-------\n",
      "\n",
      "Глубина: 17\n",
      "F1-мера валидационной выборки: 0.5846\n",
      "-------\n",
      "\n",
      "Глубина: 18\n",
      "F1-мера валидационной выборки: 0.5621\n",
      "-------\n",
      "\n",
      "Глубина: 19\n",
      "F1-мера валидационной выборки: 0.585\n",
      "-------\n",
      "\n",
      "Глубина: 20\n",
      "F1-мера валидационной выборки: 0.5743\n",
      "-------\n",
      "\n",
      "Глубина: 21\n",
      "F1-мера валидационной выборки: 0.5607\n",
      "-------\n",
      "\n",
      "Глубина: 22\n",
      "F1-мера валидационной выборки: 0.5681\n",
      "-------\n",
      "\n",
      "Глубина: 23\n",
      "F1-мера валидационной выборки: 0.5705\n",
      "-------\n",
      "\n",
      "Глубина: 24\n",
      "F1-мера валидационной выборки: 0.5696\n",
      "-------\n",
      "\n",
      "Глубина: 25\n",
      "F1-мера валидационной выборки: 0.5696\n",
      "-------\n",
      "\n",
      "Глубина: 26\n",
      "F1-мера валидационной выборки: 0.5696\n",
      "-------\n",
      "\n",
      "Глубина: 27\n",
      "F1-мера валидационной выборки: 0.5696\n",
      "-------\n",
      "\n",
      "Глубина: 28\n",
      "F1-мера валидационной выборки: 0.5696\n",
      "-------\n",
      "\n",
      "Глубина: 29\n",
      "F1-мера валидационной выборки: 0.5696\n",
      "-------\n",
      "\n",
      "\n",
      "Лучшая модель: RandomForestClassifier(max_depth=19, n_estimators=20, random_state=12345)\n",
      "Глубина этой модели: 19\n",
      "F1-мера валидационной выборки этой модели: 0.585\n"
     ]
    }
   ],
   "source": [
    "features_train, \n",
    "features_valid, \n",
    "features_test, \n",
    "target_train, \n",
    "target_valid, \n",
    "target_test = split_data(df_ordinal)\n",
    "\n",
    "best_depth_rf = 0\n",
    "best_model_rf = None\n",
    "best_f1_score_rf = 0\n",
    "\n",
    "for depth in range (1, 30):\n",
    "    model_rf = RandomForestClassifier(random_state=12345, max_depth=depth, n_estimators=20)\n",
    "    model_rf.fit(features_train, target_train)\n",
    "    predicted_valid_rf = model_rf.predict(features_valid)\n",
    "    f1_score_rf = f1_score(target_valid, predicted_valid_rf)\n",
    "                    \n",
    "    print('Глубина:', depth)\n",
    "    print('F1-мера валидационной выборки:', f1_score_rf.round(4))\n",
    "    print('-------')\n",
    "    print()\n",
    "    \n",
    "    if f1_score_rf > best_f1_score_rf:\n",
    "        best_model_rf = model_rf\n",
    "        best_depth_rf = depth\n",
    "        best_f1_score_rf = f1_score_rf\n",
    " \n",
    "print()\n",
    "print('Лучшая модель:', best_model_rf)\n",
    "print('Глубина этой модели:', best_depth_rf)\n",
    "print('F1-мера валидационной выборки этой модели:', best_f1_score_rf.round(4))\n",
    "    "
   ]
  },
  {
   "cell_type": "code",
   "execution_count": 21,
   "metadata": {
    "scrolled": true
   },
   "outputs": [
    {
     "name": "stdout",
     "output_type": "stream",
     "text": [
      "Количество деревьев: 10\n",
      "F1-мера валидационной выборки: 0.5781\n",
      "-------\n",
      "\n",
      "Количество деревьев: 20\n",
      "F1-мера валидационной выборки: 0.585\n",
      "-------\n",
      "\n",
      "Количество деревьев: 30\n",
      "F1-мера валидационной выборки: 0.5919\n",
      "-------\n",
      "\n",
      "Количество деревьев: 40\n",
      "F1-мера валидационной выборки: 0.5784\n",
      "-------\n",
      "\n",
      "Количество деревьев: 50\n",
      "F1-мера валидационной выборки: 0.5822\n",
      "-------\n",
      "\n",
      "Количество деревьев: 60\n",
      "F1-мера валидационной выборки: 0.5822\n",
      "-------\n",
      "\n",
      "Количество деревьев: 70\n",
      "F1-мера валидационной выборки: 0.5752\n",
      "-------\n",
      "\n",
      "Количество деревьев: 80\n",
      "F1-мера валидационной выборки: 0.5822\n",
      "-------\n",
      "\n",
      "Количество деревьев: 90\n",
      "F1-мера валидационной выборки: 0.5804\n",
      "-------\n",
      "\n",
      "\n",
      "Лучшая модель: RandomForestClassifier(max_depth=19, n_estimators=30, random_state=12345)\n",
      "Глубина этой модели: 19\n",
      "Количество деревьев этой модели: 30\n",
      "F1-мера валидационной выборки этой модели: 0.5919\n"
     ]
    }
   ],
   "source": [
    "features_train, \n",
    "features_valid, \n",
    "features_test, \n",
    "target_train, \n",
    "target_valid, \n",
    "target_test = split_data(df_ordinal)\n",
    "\n",
    "best_est_rf = 0\n",
    "best_model_rf = None\n",
    "best_f1_score_rf = 0\n",
    "\n",
    "for est in range (10, 100, 10):\n",
    "    model_rf = RandomForestClassifier(random_state=12345, max_depth=best_depth_rf, n_estimators=est)\n",
    "    model_rf.fit(features_train, target_train)\n",
    "    predicted_valid_rf = model_rf.predict(features_valid)\n",
    "    f1_score_rf = f1_score(target_valid, predicted_valid_rf)\n",
    "                    \n",
    "    print('Количество деревьев:', est)\n",
    "    print('F1-мера валидационной выборки:', f1_score_rf.round(4))\n",
    "    print('-------')\n",
    "    print()\n",
    "    \n",
    "    if f1_score_rf > best_f1_score_rf:\n",
    "        best_model_rf = model_rf\n",
    "        best_est_rf = est\n",
    "        best_f1_score_rf = f1_score_rf\n",
    "        recall_rf = recall_score(target_valid, predicted_valid_rf)\n",
    "        precision_rf = precision_score(target_valid, predicted_valid_rf)\n",
    "        probabilities_valid_rf = model_rf.predict_proba(features_valid)\n",
    "        probabilities_one_valid_rf = probabilities_valid_rf[:, 1]\n",
    "        auc_roc_rf = roc_auc_score(target_valid, probabilities_one_valid_rf)\n",
    "        \n",
    "print()\n",
    "print('Лучшая модель:', best_model_rf)\n",
    "print('Глубина этой модели:', best_depth_rf)\n",
    "print('Количество деревьев этой модели:', best_est_rf)\n",
    "print('F1-мера валидационной выборки этой модели:', best_f1_score_rf.round(4))"
   ]
  },
  {
   "cell_type": "markdown",
   "metadata": {},
   "source": [
    "### Пробная модель: CatBoost"
   ]
  },
  {
   "cell_type": "code",
   "execution_count": 22,
   "metadata": {},
   "outputs": [
    {
     "name": "stdout",
     "output_type": "stream",
     "text": [
      "Learning rate set to 0.5\n",
      "0:\tlearn: 0.5091087\ttotal: 147ms\tremaining: 2.79s\n",
      "1:\tlearn: 0.4172111\ttotal: 211ms\tremaining: 1.9s\n",
      "2:\tlearn: 0.3693358\ttotal: 268ms\tremaining: 1.52s\n",
      "3:\tlearn: 0.3306617\ttotal: 354ms\tremaining: 1.42s\n",
      "4:\tlearn: 0.3100883\ttotal: 415ms\tremaining: 1.25s\n",
      "5:\tlearn: 0.2901415\ttotal: 471ms\tremaining: 1.1s\n",
      "6:\tlearn: 0.2788716\ttotal: 513ms\tremaining: 952ms\n",
      "7:\tlearn: 0.2720428\ttotal: 551ms\tremaining: 827ms\n",
      "8:\tlearn: 0.2592149\ttotal: 625ms\tremaining: 764ms\n",
      "9:\tlearn: 0.2523431\ttotal: 671ms\tremaining: 671ms\n",
      "10:\tlearn: 0.2472322\ttotal: 722ms\tremaining: 591ms\n",
      "11:\tlearn: 0.2423955\ttotal: 766ms\tremaining: 511ms\n",
      "12:\tlearn: 0.2372596\ttotal: 809ms\tremaining: 436ms\n",
      "13:\tlearn: 0.2327536\ttotal: 860ms\tremaining: 369ms\n",
      "14:\tlearn: 0.2225011\ttotal: 918ms\tremaining: 306ms\n",
      "15:\tlearn: 0.2193442\ttotal: 965ms\tremaining: 241ms\n",
      "16:\tlearn: 0.2168606\ttotal: 998ms\tremaining: 176ms\n",
      "17:\tlearn: 0.2152669\ttotal: 1.03s\tremaining: 115ms\n",
      "18:\tlearn: 0.2108873\ttotal: 1.08s\tremaining: 56.8ms\n",
      "19:\tlearn: 0.2025895\ttotal: 1.14s\tremaining: 0us\n",
      "\n",
      "=====================\n",
      "\n",
      "F1-score: 0.5906735751295337\n",
      "Recall: 0.5055432372505543\n",
      "Precision: 0.7102803738317757\n",
      "AUC-ROC: 0.849548874193462\n"
     ]
    }
   ],
   "source": [
    "from catboost import CatBoostClassifier\n",
    "from sklearn.model_selection import GridSearchCV\n",
    "\n",
    "target = df['exited']\n",
    "features = df.drop('exited', axis=1) \n",
    "\n",
    "features_train, features_test, target_train, target_test = train_test_split(\n",
    "    features, target, test_size=0.25, random_state=12345)\n",
    "\n",
    "model_cb = CatBoostClassifier(n_estimators=20, max_depth=13, grow_policy='Depthwise')\n",
    "cat_features = ['geography', 'gender']\n",
    "model_cb.fit(features_train, target_train, cat_features=cat_features)\n",
    "predicted_cb = model_cb.predict(features_test)\n",
    "\n",
    "print()\n",
    "print('=====================')\n",
    "print()\n",
    "print('F1-score:', f1_score(target_test, predicted_cb))\n",
    "print('Recall:', recall_score(target_test, predicted_cb))\n",
    "print('Precision:', precision_score(target_test, predicted_cb))\n",
    "probabilities_cb = model_cb.predict_proba(features_test)\n",
    "probabilities_one_cb = probabilities_cb[:, 1]\n",
    "print('AUC-ROC:', roc_auc_score(target_test, probabilities_one_cb))"
   ]
  },
  {
   "cell_type": "code",
   "execution_count": 23,
   "metadata": {},
   "outputs": [
    {
     "name": "stdout",
     "output_type": "stream",
     "text": [
      "Learning rate set to 0.5\n",
      "0:\tlearn: 0.5444396\ttotal: 1.4ms\tremaining: 12.6ms\n",
      "1:\tlearn: 0.4861288\ttotal: 3.19ms\tremaining: 12.7ms\n",
      "2:\tlearn: 0.4544598\ttotal: 4.61ms\tremaining: 10.8ms\n",
      "3:\tlearn: 0.4358359\ttotal: 6.04ms\tremaining: 9.06ms\n",
      "4:\tlearn: 0.4268397\ttotal: 7.37ms\tremaining: 7.37ms\n",
      "5:\tlearn: 0.4174640\ttotal: 8.75ms\tremaining: 5.83ms\n",
      "6:\tlearn: 0.4076927\ttotal: 10ms\tremaining: 4.29ms\n",
      "7:\tlearn: 0.4008446\ttotal: 11.5ms\tremaining: 2.87ms\n",
      "8:\tlearn: 0.3974187\ttotal: 12.8ms\tremaining: 1.42ms\n",
      "9:\tlearn: 0.3926546\ttotal: 14.1ms\tremaining: 0us\n",
      "Learning rate set to 0.5\n",
      "0:\tlearn: 0.5453626\ttotal: 1.44ms\tremaining: 12.9ms\n",
      "1:\tlearn: 0.4866796\ttotal: 2.89ms\tremaining: 11.6ms\n",
      "2:\tlearn: 0.4550038\ttotal: 4.2ms\tremaining: 9.8ms\n",
      "3:\tlearn: 0.4367189\ttotal: 5.52ms\tremaining: 8.28ms\n",
      "4:\tlearn: 0.4278364\ttotal: 6.96ms\tremaining: 6.96ms\n",
      "5:\tlearn: 0.4190074\ttotal: 8.21ms\tremaining: 5.48ms\n",
      "6:\tlearn: 0.4104087\ttotal: 9.65ms\tremaining: 4.14ms\n",
      "7:\tlearn: 0.4038657\ttotal: 11ms\tremaining: 2.74ms\n",
      "8:\tlearn: 0.4004214\ttotal: 12.2ms\tremaining: 1.36ms\n",
      "9:\tlearn: 0.3954183\ttotal: 13.5ms\tremaining: 0us\n",
      "Learning rate set to 0.5\n",
      "0:\tlearn: 0.5453225\ttotal: 1.55ms\tremaining: 14ms\n",
      "1:\tlearn: 0.4861566\ttotal: 3.28ms\tremaining: 13.1ms\n",
      "2:\tlearn: 0.4537747\ttotal: 4.66ms\tremaining: 10.9ms\n",
      "3:\tlearn: 0.4366277\ttotal: 6.14ms\tremaining: 9.21ms\n",
      "4:\tlearn: 0.4277090\ttotal: 7.45ms\tremaining: 7.45ms\n",
      "5:\tlearn: 0.4182487\ttotal: 8.79ms\tremaining: 5.86ms\n",
      "6:\tlearn: 0.4090811\ttotal: 10.2ms\tremaining: 4.38ms\n",
      "7:\tlearn: 0.4030040\ttotal: 11.6ms\tremaining: 2.91ms\n",
      "8:\tlearn: 0.3997113\ttotal: 13ms\tremaining: 1.44ms\n",
      "9:\tlearn: 0.3945041\ttotal: 14.2ms\tremaining: 0us\n",
      "Learning rate set to 0.5\n",
      "0:\tlearn: 0.5412205\ttotal: 1.5ms\tremaining: 13.5ms\n",
      "1:\tlearn: 0.4693720\ttotal: 3.18ms\tremaining: 12.7ms\n",
      "2:\tlearn: 0.4426730\ttotal: 4.38ms\tremaining: 10.2ms\n",
      "3:\tlearn: 0.4251922\ttotal: 5.87ms\tremaining: 8.8ms\n",
      "4:\tlearn: 0.4150433\ttotal: 7.34ms\tremaining: 7.34ms\n",
      "5:\tlearn: 0.4062838\ttotal: 8.73ms\tremaining: 5.82ms\n",
      "6:\tlearn: 0.3989051\ttotal: 9.96ms\tremaining: 4.27ms\n",
      "7:\tlearn: 0.3925848\ttotal: 11.2ms\tremaining: 2.81ms\n",
      "8:\tlearn: 0.3888096\ttotal: 12.6ms\tremaining: 1.4ms\n",
      "9:\tlearn: 0.3799695\ttotal: 13.8ms\tremaining: 0us\n",
      "Learning rate set to 0.5\n",
      "0:\tlearn: 0.5351112\ttotal: 1.5ms\tremaining: 13.5ms\n",
      "1:\tlearn: 0.4760190\ttotal: 3.1ms\tremaining: 12.4ms\n",
      "2:\tlearn: 0.4484584\ttotal: 4.62ms\tremaining: 10.8ms\n",
      "3:\tlearn: 0.4297914\ttotal: 6.09ms\tremaining: 9.13ms\n",
      "4:\tlearn: 0.4205658\ttotal: 7.5ms\tremaining: 7.5ms\n",
      "5:\tlearn: 0.4133140\ttotal: 8.85ms\tremaining: 5.9ms\n",
      "6:\tlearn: 0.4047950\ttotal: 10.1ms\tremaining: 4.33ms\n",
      "7:\tlearn: 0.3980243\ttotal: 11.5ms\tremaining: 2.87ms\n",
      "8:\tlearn: 0.3944156\ttotal: 12.8ms\tremaining: 1.43ms\n",
      "9:\tlearn: 0.3916643\ttotal: 14.2ms\tremaining: 0us\n",
      "Learning rate set to 0.5\n",
      "0:\tlearn: 0.5444396\ttotal: 1.4ms\tremaining: 26.6ms\n",
      "1:\tlearn: 0.4861288\ttotal: 3ms\tremaining: 27ms\n",
      "2:\tlearn: 0.4544598\ttotal: 4.44ms\tremaining: 25.1ms\n",
      "3:\tlearn: 0.4358359\ttotal: 5.74ms\tremaining: 22.9ms\n",
      "4:\tlearn: 0.4268397\ttotal: 7.06ms\tremaining: 21.2ms\n",
      "5:\tlearn: 0.4174640\ttotal: 8.34ms\tremaining: 19.5ms\n",
      "6:\tlearn: 0.4076927\ttotal: 9.65ms\tremaining: 17.9ms\n",
      "7:\tlearn: 0.4008446\ttotal: 11ms\tremaining: 16.5ms\n",
      "8:\tlearn: 0.3974187\ttotal: 12.3ms\tremaining: 15ms\n",
      "9:\tlearn: 0.3926546\ttotal: 13.6ms\tremaining: 13.6ms\n",
      "10:\tlearn: 0.3899403\ttotal: 15ms\tremaining: 12.3ms\n",
      "11:\tlearn: 0.3825441\ttotal: 16.2ms\tremaining: 10.8ms\n",
      "12:\tlearn: 0.3799901\ttotal: 17.6ms\tremaining: 9.48ms\n",
      "13:\tlearn: 0.3770918\ttotal: 18.9ms\tremaining: 8.09ms\n",
      "14:\tlearn: 0.3744854\ttotal: 20.3ms\tremaining: 6.75ms\n",
      "15:\tlearn: 0.3728878\ttotal: 21.6ms\tremaining: 5.39ms\n",
      "16:\tlearn: 0.3711737\ttotal: 22.7ms\tremaining: 4ms\n",
      "17:\tlearn: 0.3692317\ttotal: 23.9ms\tremaining: 2.66ms\n",
      "18:\tlearn: 0.3676405\ttotal: 25.2ms\tremaining: 1.32ms\n",
      "19:\tlearn: 0.3667158\ttotal: 26.4ms\tremaining: 0us\n",
      "Learning rate set to 0.5\n",
      "0:\tlearn: 0.5453626\ttotal: 1.55ms\tremaining: 29.4ms\n",
      "1:\tlearn: 0.4866796\ttotal: 3.18ms\tremaining: 28.6ms\n",
      "2:\tlearn: 0.4550038\ttotal: 4.61ms\tremaining: 26.1ms\n",
      "3:\tlearn: 0.4367189\ttotal: 5.95ms\tremaining: 23.8ms\n",
      "4:\tlearn: 0.4278364\ttotal: 7.32ms\tremaining: 22ms\n",
      "5:\tlearn: 0.4190074\ttotal: 8.65ms\tremaining: 20.2ms\n",
      "6:\tlearn: 0.4104087\ttotal: 10.2ms\tremaining: 19ms\n",
      "7:\tlearn: 0.4038657\ttotal: 11.7ms\tremaining: 17.5ms\n",
      "8:\tlearn: 0.4004214\ttotal: 12.9ms\tremaining: 15.8ms\n",
      "9:\tlearn: 0.3954183\ttotal: 14.1ms\tremaining: 14.1ms\n",
      "10:\tlearn: 0.3924891\ttotal: 15.4ms\tremaining: 12.6ms\n",
      "11:\tlearn: 0.3846409\ttotal: 16.7ms\tremaining: 11.1ms\n",
      "12:\tlearn: 0.3823960\ttotal: 18.2ms\tremaining: 9.79ms\n",
      "13:\tlearn: 0.3796051\ttotal: 19.6ms\tremaining: 8.38ms\n",
      "14:\tlearn: 0.3785584\ttotal: 20.9ms\tremaining: 6.98ms\n",
      "15:\tlearn: 0.3762242\ttotal: 22.3ms\tremaining: 5.56ms\n",
      "16:\tlearn: 0.3745526\ttotal: 23.5ms\tremaining: 4.14ms\n",
      "17:\tlearn: 0.3723878\ttotal: 24.8ms\tremaining: 2.75ms\n",
      "18:\tlearn: 0.3706488\ttotal: 26.1ms\tremaining: 1.37ms\n",
      "19:\tlearn: 0.3690517\ttotal: 27.5ms\tremaining: 0us\n",
      "Learning rate set to 0.5\n",
      "0:\tlearn: 0.5453225\ttotal: 1.52ms\tremaining: 28.9ms\n",
      "1:\tlearn: 0.4861566\ttotal: 3.02ms\tremaining: 27.2ms\n",
      "2:\tlearn: 0.4537747\ttotal: 4.34ms\tremaining: 24.6ms\n",
      "3:\tlearn: 0.4366277\ttotal: 5.84ms\tremaining: 23.4ms\n",
      "4:\tlearn: 0.4277090\ttotal: 7.11ms\tremaining: 21.3ms\n",
      "5:\tlearn: 0.4182487\ttotal: 8.48ms\tremaining: 19.8ms\n",
      "6:\tlearn: 0.4090811\ttotal: 9.87ms\tremaining: 18.3ms\n",
      "7:\tlearn: 0.4030040\ttotal: 11.1ms\tremaining: 16.7ms\n",
      "8:\tlearn: 0.3997113\ttotal: 12.8ms\tremaining: 15.6ms\n",
      "9:\tlearn: 0.3945041\ttotal: 14.2ms\tremaining: 14.2ms\n",
      "10:\tlearn: 0.3921098\ttotal: 15.5ms\tremaining: 12.6ms\n",
      "11:\tlearn: 0.3887177\ttotal: 16.7ms\tremaining: 11.1ms\n",
      "12:\tlearn: 0.3861745\ttotal: 18.1ms\tremaining: 9.72ms\n",
      "13:\tlearn: 0.3801224\ttotal: 19.7ms\tremaining: 8.46ms\n",
      "14:\tlearn: 0.3790092\ttotal: 21.2ms\tremaining: 7.08ms\n",
      "15:\tlearn: 0.3768146\ttotal: 22.7ms\tremaining: 5.67ms\n",
      "16:\tlearn: 0.3753544\ttotal: 23.9ms\tremaining: 4.21ms\n",
      "17:\tlearn: 0.3738652\ttotal: 25.3ms\tremaining: 2.81ms\n",
      "18:\tlearn: 0.3720214\ttotal: 26.5ms\tremaining: 1.4ms\n",
      "19:\tlearn: 0.3702805\ttotal: 27.9ms\tremaining: 0us\n",
      "Learning rate set to 0.5\n",
      "0:\tlearn: 0.5412205\ttotal: 1.52ms\tremaining: 28.8ms\n",
      "1:\tlearn: 0.4693720\ttotal: 2.88ms\tremaining: 25.9ms\n",
      "2:\tlearn: 0.4426730\ttotal: 4.35ms\tremaining: 24.6ms\n",
      "3:\tlearn: 0.4251922\ttotal: 5.76ms\tremaining: 23.1ms\n",
      "4:\tlearn: 0.4150433\ttotal: 7.18ms\tremaining: 21.6ms\n",
      "5:\tlearn: 0.4062838\ttotal: 8.59ms\tremaining: 20.1ms\n",
      "6:\tlearn: 0.3989051\ttotal: 9.87ms\tremaining: 18.3ms\n",
      "7:\tlearn: 0.3925848\ttotal: 11.1ms\tremaining: 16.6ms\n",
      "8:\tlearn: 0.3888096\ttotal: 12.4ms\tremaining: 15.1ms\n",
      "9:\tlearn: 0.3799695\ttotal: 13.6ms\tremaining: 13.6ms\n",
      "10:\tlearn: 0.3760785\ttotal: 14.8ms\tremaining: 12.1ms\n",
      "11:\tlearn: 0.3726111\ttotal: 16.2ms\tremaining: 10.8ms\n",
      "12:\tlearn: 0.3704982\ttotal: 17.6ms\tremaining: 9.47ms\n",
      "13:\tlearn: 0.3685923\ttotal: 19ms\tremaining: 8.14ms\n",
      "14:\tlearn: 0.3667112\ttotal: 20.2ms\tremaining: 6.74ms\n",
      "15:\tlearn: 0.3643944\ttotal: 21.6ms\tremaining: 5.39ms\n",
      "16:\tlearn: 0.3634308\ttotal: 23ms\tremaining: 4.06ms\n",
      "17:\tlearn: 0.3616190\ttotal: 24.2ms\tremaining: 2.69ms\n",
      "18:\tlearn: 0.3600932\ttotal: 25.6ms\tremaining: 1.34ms\n",
      "19:\tlearn: 0.3590116\ttotal: 26.9ms\tremaining: 0us\n",
      "Learning rate set to 0.5\n",
      "0:\tlearn: 0.5351112\ttotal: 1.66ms\tremaining: 31.6ms\n",
      "1:\tlearn: 0.4760190\ttotal: 3.37ms\tremaining: 30.3ms\n",
      "2:\tlearn: 0.4484584\ttotal: 4.85ms\tremaining: 27.5ms\n",
      "3:\tlearn: 0.4297914\ttotal: 6.32ms\tremaining: 25.3ms\n",
      "4:\tlearn: 0.4205658\ttotal: 7.88ms\tremaining: 23.7ms\n",
      "5:\tlearn: 0.4133140\ttotal: 9.16ms\tremaining: 21.4ms\n",
      "6:\tlearn: 0.4047950\ttotal: 10.5ms\tremaining: 19.5ms\n",
      "7:\tlearn: 0.3980243\ttotal: 11.8ms\tremaining: 17.7ms\n",
      "8:\tlearn: 0.3944156\ttotal: 13.1ms\tremaining: 16ms\n",
      "9:\tlearn: 0.3916643\ttotal: 14.5ms\tremaining: 14.5ms\n",
      "10:\tlearn: 0.3843433\ttotal: 15.8ms\tremaining: 13ms\n",
      "11:\tlearn: 0.3818084\ttotal: 17.2ms\tremaining: 11.5ms\n",
      "12:\tlearn: 0.3796047\ttotal: 18.6ms\tremaining: 10ms\n",
      "13:\tlearn: 0.3766185\ttotal: 20ms\tremaining: 8.56ms\n",
      "14:\tlearn: 0.3751077\ttotal: 21.2ms\tremaining: 7.08ms\n",
      "15:\tlearn: 0.3725326\ttotal: 22.5ms\tremaining: 5.63ms\n",
      "16:\tlearn: 0.3708031\ttotal: 23.8ms\tremaining: 4.2ms\n",
      "17:\tlearn: 0.3677926\ttotal: 25.2ms\tremaining: 2.8ms\n",
      "18:\tlearn: 0.3668527\ttotal: 26.6ms\tremaining: 1.4ms\n",
      "19:\tlearn: 0.3658614\ttotal: 28ms\tremaining: 0us\n",
      "Learning rate set to 0.5\n",
      "0:\tlearn: 0.5444396\ttotal: 1.53ms\tremaining: 44.4ms\n",
      "1:\tlearn: 0.4861288\ttotal: 3.02ms\tremaining: 42.3ms\n",
      "2:\tlearn: 0.4544598\ttotal: 4.45ms\tremaining: 40.1ms\n",
      "3:\tlearn: 0.4358359\ttotal: 5.78ms\tremaining: 37.6ms\n",
      "4:\tlearn: 0.4268397\ttotal: 7.09ms\tremaining: 35.5ms\n",
      "5:\tlearn: 0.4174640\ttotal: 8.28ms\tremaining: 33.1ms\n",
      "6:\tlearn: 0.4076927\ttotal: 9.59ms\tremaining: 31.5ms\n",
      "7:\tlearn: 0.4008446\ttotal: 11ms\tremaining: 30.2ms\n",
      "8:\tlearn: 0.3974187\ttotal: 12.2ms\tremaining: 28.5ms\n",
      "9:\tlearn: 0.3926546\ttotal: 13.6ms\tremaining: 27.3ms\n",
      "10:\tlearn: 0.3899403\ttotal: 14.9ms\tremaining: 25.8ms\n",
      "11:\tlearn: 0.3825441\ttotal: 16.3ms\tremaining: 24.4ms\n",
      "12:\tlearn: 0.3799901\ttotal: 17.6ms\tremaining: 23.1ms\n",
      "13:\tlearn: 0.3770918\ttotal: 19.1ms\tremaining: 21.8ms\n",
      "14:\tlearn: 0.3744854\ttotal: 20.6ms\tremaining: 20.6ms\n",
      "15:\tlearn: 0.3728878\ttotal: 21.9ms\tremaining: 19.2ms\n",
      "16:\tlearn: 0.3711737\ttotal: 23.2ms\tremaining: 17.7ms\n",
      "17:\tlearn: 0.3692317\ttotal: 24.6ms\tremaining: 16.4ms\n",
      "18:\tlearn: 0.3676405\ttotal: 26ms\tremaining: 15ms\n",
      "19:\tlearn: 0.3667158\ttotal: 27.3ms\tremaining: 13.7ms\n",
      "20:\tlearn: 0.3648799\ttotal: 28.6ms\tremaining: 12.3ms\n",
      "21:\tlearn: 0.3639947\ttotal: 29.9ms\tremaining: 10.9ms\n",
      "22:\tlearn: 0.3635564\ttotal: 31.4ms\tremaining: 9.54ms\n",
      "23:\tlearn: 0.3625456\ttotal: 32.9ms\tremaining: 8.21ms\n",
      "24:\tlearn: 0.3616875\ttotal: 34.6ms\tremaining: 6.91ms\n",
      "25:\tlearn: 0.3613606\ttotal: 35.9ms\tremaining: 5.52ms\n",
      "26:\tlearn: 0.3606854\ttotal: 37.3ms\tremaining: 4.14ms\n",
      "27:\tlearn: 0.3600331\ttotal: 38.6ms\tremaining: 2.76ms\n",
      "28:\tlearn: 0.3594989\ttotal: 40.1ms\tremaining: 1.38ms\n",
      "29:\tlearn: 0.3591858\ttotal: 41.3ms\tremaining: 0us\n",
      "Learning rate set to 0.5\n",
      "0:\tlearn: 0.5453626\ttotal: 1.39ms\tremaining: 40.3ms\n",
      "1:\tlearn: 0.4866796\ttotal: 3.04ms\tremaining: 42.5ms\n",
      "2:\tlearn: 0.4550038\ttotal: 4.44ms\tremaining: 40ms\n",
      "3:\tlearn: 0.4367189\ttotal: 5.93ms\tremaining: 38.6ms\n",
      "4:\tlearn: 0.4278364\ttotal: 7.25ms\tremaining: 36.3ms\n",
      "5:\tlearn: 0.4190074\ttotal: 8.65ms\tremaining: 34.6ms\n",
      "6:\tlearn: 0.4104087\ttotal: 10.1ms\tremaining: 33.3ms\n",
      "7:\tlearn: 0.4038657\ttotal: 11.6ms\tremaining: 31.9ms\n",
      "8:\tlearn: 0.4004214\ttotal: 13ms\tremaining: 30.3ms\n",
      "9:\tlearn: 0.3954183\ttotal: 14.3ms\tremaining: 28.7ms\n",
      "10:\tlearn: 0.3924891\ttotal: 15.9ms\tremaining: 27.5ms\n",
      "11:\tlearn: 0.3846409\ttotal: 17.5ms\tremaining: 26.2ms\n",
      "12:\tlearn: 0.3823960\ttotal: 18.8ms\tremaining: 24.6ms\n",
      "13:\tlearn: 0.3796051\ttotal: 20.2ms\tremaining: 23.1ms\n",
      "14:\tlearn: 0.3785584\ttotal: 21.5ms\tremaining: 21.5ms\n",
      "15:\tlearn: 0.3762242\ttotal: 22.9ms\tremaining: 20ms\n",
      "16:\tlearn: 0.3745526\ttotal: 24.2ms\tremaining: 18.5ms\n",
      "17:\tlearn: 0.3723878\ttotal: 25.6ms\tremaining: 17.1ms\n",
      "18:\tlearn: 0.3706488\ttotal: 27.1ms\tremaining: 15.7ms\n",
      "19:\tlearn: 0.3690517\ttotal: 28.4ms\tremaining: 14.2ms\n",
      "20:\tlearn: 0.3673196\ttotal: 29.8ms\tremaining: 12.8ms\n",
      "21:\tlearn: 0.3668308\ttotal: 31.1ms\tremaining: 11.3ms\n",
      "22:\tlearn: 0.3660726\ttotal: 32.5ms\tremaining: 9.89ms\n",
      "23:\tlearn: 0.3654190\ttotal: 33.9ms\tremaining: 8.47ms\n",
      "24:\tlearn: 0.3643437\ttotal: 35.3ms\tremaining: 7.06ms\n",
      "25:\tlearn: 0.3637276\ttotal: 36.6ms\tremaining: 5.63ms\n",
      "26:\tlearn: 0.3635109\ttotal: 37.9ms\tremaining: 4.21ms\n",
      "27:\tlearn: 0.3627378\ttotal: 39.3ms\tremaining: 2.81ms\n",
      "28:\tlearn: 0.3621097\ttotal: 40.7ms\tremaining: 1.4ms\n",
      "29:\tlearn: 0.3616913\ttotal: 42ms\tremaining: 0us\n",
      "Learning rate set to 0.5\n",
      "0:\tlearn: 0.5453225\ttotal: 1.51ms\tremaining: 43.8ms\n",
      "1:\tlearn: 0.4861566\ttotal: 3.14ms\tremaining: 44ms\n",
      "2:\tlearn: 0.4537747\ttotal: 4.51ms\tremaining: 40.6ms\n",
      "3:\tlearn: 0.4366277\ttotal: 5.82ms\tremaining: 37.8ms\n",
      "4:\tlearn: 0.4277090\ttotal: 7.21ms\tremaining: 36.1ms\n",
      "5:\tlearn: 0.4182487\ttotal: 8.56ms\tremaining: 34.2ms\n",
      "6:\tlearn: 0.4090811\ttotal: 9.96ms\tremaining: 32.7ms\n",
      "7:\tlearn: 0.4030040\ttotal: 11.5ms\tremaining: 31.5ms\n",
      "8:\tlearn: 0.3997113\ttotal: 12.8ms\tremaining: 29.9ms\n",
      "9:\tlearn: 0.3945041\ttotal: 14.2ms\tremaining: 28.4ms\n",
      "10:\tlearn: 0.3921098\ttotal: 15.7ms\tremaining: 27.1ms\n",
      "11:\tlearn: 0.3887177\ttotal: 17.2ms\tremaining: 25.7ms\n",
      "12:\tlearn: 0.3861745\ttotal: 18.8ms\tremaining: 24.6ms\n",
      "13:\tlearn: 0.3801224\ttotal: 20.3ms\tremaining: 23.2ms\n",
      "14:\tlearn: 0.3790092\ttotal: 21.7ms\tremaining: 21.7ms\n",
      "15:\tlearn: 0.3768146\ttotal: 23.1ms\tremaining: 20.2ms\n",
      "16:\tlearn: 0.3753544\ttotal: 24.5ms\tremaining: 18.7ms\n",
      "17:\tlearn: 0.3738652\ttotal: 25.9ms\tremaining: 17.2ms\n",
      "18:\tlearn: 0.3720214\ttotal: 27.2ms\tremaining: 15.7ms\n",
      "19:\tlearn: 0.3702805\ttotal: 28.5ms\tremaining: 14.2ms\n",
      "20:\tlearn: 0.3684010\ttotal: 29.7ms\tremaining: 12.7ms\n",
      "21:\tlearn: 0.3676043\ttotal: 31.1ms\tremaining: 11.3ms\n",
      "22:\tlearn: 0.3667497\ttotal: 32.5ms\tremaining: 9.89ms\n",
      "23:\tlearn: 0.3662466\ttotal: 33.8ms\tremaining: 8.45ms\n",
      "24:\tlearn: 0.3659424\ttotal: 35.1ms\tremaining: 7.03ms\n",
      "25:\tlearn: 0.3651576\ttotal: 36.3ms\tremaining: 5.58ms\n",
      "26:\tlearn: 0.3645734\ttotal: 37.6ms\tremaining: 4.17ms\n",
      "27:\tlearn: 0.3638204\ttotal: 38.9ms\tremaining: 2.78ms\n",
      "28:\tlearn: 0.3632024\ttotal: 40.4ms\tremaining: 1.39ms\n",
      "29:\tlearn: 0.3622103\ttotal: 41.9ms\tremaining: 0us\n",
      "Learning rate set to 0.5\n",
      "0:\tlearn: 0.5412205\ttotal: 2.42ms\tremaining: 70.2ms\n",
      "1:\tlearn: 0.4693720\ttotal: 4.64ms\tremaining: 65ms\n",
      "2:\tlearn: 0.4426730\ttotal: 6.6ms\tremaining: 59.4ms\n",
      "3:\tlearn: 0.4251922\ttotal: 8.81ms\tremaining: 57.3ms\n",
      "4:\tlearn: 0.4150433\ttotal: 10.8ms\tremaining: 53.9ms\n",
      "5:\tlearn: 0.4062838\ttotal: 12.6ms\tremaining: 50.3ms\n",
      "6:\tlearn: 0.3989051\ttotal: 14.5ms\tremaining: 47.8ms\n",
      "7:\tlearn: 0.3925848\ttotal: 15.9ms\tremaining: 43.8ms\n",
      "8:\tlearn: 0.3888096\ttotal: 17.1ms\tremaining: 39.9ms\n",
      "9:\tlearn: 0.3799695\ttotal: 18.5ms\tremaining: 37ms\n",
      "10:\tlearn: 0.3760785\ttotal: 19.7ms\tremaining: 34.1ms\n",
      "11:\tlearn: 0.3726111\ttotal: 21.1ms\tremaining: 31.6ms\n",
      "12:\tlearn: 0.3704982\ttotal: 22.4ms\tremaining: 29.3ms\n",
      "13:\tlearn: 0.3685923\ttotal: 23.7ms\tremaining: 27.1ms\n",
      "14:\tlearn: 0.3667112\ttotal: 25ms\tremaining: 25ms\n",
      "15:\tlearn: 0.3643944\ttotal: 26.3ms\tremaining: 23ms\n",
      "16:\tlearn: 0.3634308\ttotal: 27.5ms\tremaining: 21.1ms\n",
      "17:\tlearn: 0.3616190\ttotal: 28.8ms\tremaining: 19.2ms\n",
      "18:\tlearn: 0.3600932\ttotal: 30.1ms\tremaining: 17.4ms\n",
      "19:\tlearn: 0.3590116\ttotal: 31.3ms\tremaining: 15.7ms\n",
      "20:\tlearn: 0.3583752\ttotal: 32.6ms\tremaining: 14ms\n",
      "21:\tlearn: 0.3578687\ttotal: 33.9ms\tremaining: 12.3ms\n",
      "22:\tlearn: 0.3569654\ttotal: 35.3ms\tremaining: 10.7ms\n",
      "23:\tlearn: 0.3560951\ttotal: 36.6ms\tremaining: 9.16ms\n",
      "24:\tlearn: 0.3553477\ttotal: 38.1ms\tremaining: 7.61ms\n",
      "25:\tlearn: 0.3542552\ttotal: 39.5ms\tremaining: 6.07ms\n",
      "26:\tlearn: 0.3533159\ttotal: 40.6ms\tremaining: 4.51ms\n",
      "27:\tlearn: 0.3528780\ttotal: 42ms\tremaining: 3ms\n",
      "28:\tlearn: 0.3525768\ttotal: 43.3ms\tremaining: 1.49ms\n",
      "29:\tlearn: 0.3521365\ttotal: 44.6ms\tremaining: 0us\n",
      "Learning rate set to 0.5\n",
      "0:\tlearn: 0.5351112\ttotal: 1.44ms\tremaining: 41.6ms\n",
      "1:\tlearn: 0.4760190\ttotal: 3.08ms\tremaining: 43.1ms\n",
      "2:\tlearn: 0.4484584\ttotal: 4.64ms\tremaining: 41.8ms\n",
      "3:\tlearn: 0.4297914\ttotal: 6.12ms\tremaining: 39.8ms\n",
      "4:\tlearn: 0.4205658\ttotal: 7.4ms\tremaining: 37ms\n",
      "5:\tlearn: 0.4133140\ttotal: 8.83ms\tremaining: 35.3ms\n",
      "6:\tlearn: 0.4047950\ttotal: 10.3ms\tremaining: 33.8ms\n",
      "7:\tlearn: 0.3980243\ttotal: 11.7ms\tremaining: 32.2ms\n",
      "8:\tlearn: 0.3944156\ttotal: 13.1ms\tremaining: 30.7ms\n",
      "9:\tlearn: 0.3916643\ttotal: 14.6ms\tremaining: 29.1ms\n",
      "10:\tlearn: 0.3843433\ttotal: 16ms\tremaining: 27.7ms\n",
      "11:\tlearn: 0.3818084\ttotal: 17.5ms\tremaining: 26.2ms\n",
      "12:\tlearn: 0.3796047\ttotal: 19ms\tremaining: 24.8ms\n",
      "13:\tlearn: 0.3766185\ttotal: 20.3ms\tremaining: 23.2ms\n",
      "14:\tlearn: 0.3751077\ttotal: 21.7ms\tremaining: 21.7ms\n",
      "15:\tlearn: 0.3725326\ttotal: 23ms\tremaining: 20.1ms\n",
      "16:\tlearn: 0.3708031\ttotal: 24.4ms\tremaining: 18.7ms\n",
      "17:\tlearn: 0.3677926\ttotal: 25.8ms\tremaining: 17.2ms\n",
      "18:\tlearn: 0.3668527\ttotal: 27.2ms\tremaining: 15.7ms\n",
      "19:\tlearn: 0.3658614\ttotal: 28.6ms\tremaining: 14.3ms\n",
      "20:\tlearn: 0.3651782\ttotal: 30.1ms\tremaining: 12.9ms\n",
      "21:\tlearn: 0.3646041\ttotal: 31.5ms\tremaining: 11.5ms\n",
      "22:\tlearn: 0.3638074\ttotal: 32.9ms\tremaining: 10ms\n",
      "23:\tlearn: 0.3631523\ttotal: 34.4ms\tremaining: 8.59ms\n",
      "24:\tlearn: 0.3620580\ttotal: 35.7ms\tremaining: 7.14ms\n",
      "25:\tlearn: 0.3613440\ttotal: 37.2ms\tremaining: 5.73ms\n",
      "26:\tlearn: 0.3605316\ttotal: 38.8ms\tremaining: 4.31ms\n",
      "27:\tlearn: 0.3602260\ttotal: 40.4ms\tremaining: 2.88ms\n",
      "28:\tlearn: 0.3599411\ttotal: 41.8ms\tremaining: 1.44ms\n",
      "29:\tlearn: 0.3594564\ttotal: 43ms\tremaining: 0us\n",
      "Learning rate set to 0.5\n",
      "0:\tlearn: 0.5058807\ttotal: 2.39ms\tremaining: 21.5ms\n",
      "1:\tlearn: 0.4451023\ttotal: 4.66ms\tremaining: 18.6ms\n",
      "2:\tlearn: 0.4129072\ttotal: 7.27ms\tremaining: 17ms\n",
      "3:\tlearn: 0.3933896\ttotal: 9.88ms\tremaining: 14.8ms\n",
      "4:\tlearn: 0.3789098\ttotal: 11.9ms\tremaining: 11.9ms\n",
      "5:\tlearn: 0.3623599\ttotal: 14.3ms\tremaining: 9.51ms\n",
      "6:\tlearn: 0.3568133\ttotal: 16.5ms\tremaining: 7.07ms\n",
      "7:\tlearn: 0.3498141\ttotal: 18.6ms\tremaining: 4.65ms\n",
      "8:\tlearn: 0.3466353\ttotal: 21.3ms\tremaining: 2.36ms\n",
      "9:\tlearn: 0.3447305\ttotal: 23.6ms\tremaining: 0us\n",
      "Learning rate set to 0.5\n",
      "0:\tlearn: 0.5083843\ttotal: 3.61ms\tremaining: 32.5ms\n",
      "1:\tlearn: 0.4483626\ttotal: 7.33ms\tremaining: 29.3ms\n",
      "2:\tlearn: 0.4171882\ttotal: 10.6ms\tremaining: 24.7ms\n",
      "3:\tlearn: 0.3958846\ttotal: 13.5ms\tremaining: 20.3ms\n",
      "4:\tlearn: 0.3822602\ttotal: 15.9ms\tremaining: 15.9ms\n",
      "5:\tlearn: 0.3705990\ttotal: 18.1ms\tremaining: 12.1ms\n",
      "6:\tlearn: 0.3586038\ttotal: 20.4ms\tremaining: 8.76ms\n",
      "7:\tlearn: 0.3531378\ttotal: 22.7ms\tremaining: 5.69ms\n",
      "8:\tlearn: 0.3510235\ttotal: 25.3ms\tremaining: 2.81ms\n",
      "9:\tlearn: 0.3473674\ttotal: 29.1ms\tremaining: 0us\n",
      "Learning rate set to 0.5\n",
      "0:\tlearn: 0.5061458\ttotal: 3.02ms\tremaining: 27.2ms\n",
      "1:\tlearn: 0.4464293\ttotal: 5.69ms\tremaining: 22.8ms\n",
      "2:\tlearn: 0.4148013\ttotal: 8.6ms\tremaining: 20.1ms\n",
      "3:\tlearn: 0.3928384\ttotal: 11.8ms\tremaining: 17.7ms\n",
      "4:\tlearn: 0.3795157\ttotal: 14.3ms\tremaining: 14.3ms\n",
      "5:\tlearn: 0.3636350\ttotal: 16.7ms\tremaining: 11.2ms\n",
      "6:\tlearn: 0.3569326\ttotal: 19.2ms\tremaining: 8.22ms\n",
      "7:\tlearn: 0.3505215\ttotal: 21.8ms\tremaining: 5.45ms\n",
      "8:\tlearn: 0.3487786\ttotal: 24.4ms\tremaining: 2.71ms\n",
      "9:\tlearn: 0.3455478\ttotal: 26.7ms\tremaining: 0us\n",
      "Learning rate set to 0.5\n",
      "0:\tlearn: 0.5020935\ttotal: 2.63ms\tremaining: 23.7ms\n",
      "1:\tlearn: 0.4486804\ttotal: 5.21ms\tremaining: 20.8ms\n",
      "2:\tlearn: 0.4070938\ttotal: 7.52ms\tremaining: 17.6ms\n",
      "3:\tlearn: 0.3895576\ttotal: 9.86ms\tremaining: 14.8ms\n",
      "4:\tlearn: 0.3772885\ttotal: 12.1ms\tremaining: 12.1ms\n",
      "5:\tlearn: 0.3678067\ttotal: 14.5ms\tremaining: 9.66ms\n",
      "6:\tlearn: 0.3577525\ttotal: 16.9ms\tremaining: 7.25ms\n",
      "7:\tlearn: 0.3528308\ttotal: 19ms\tremaining: 4.76ms\n",
      "8:\tlearn: 0.3490809\ttotal: 21.1ms\tremaining: 2.34ms\n",
      "9:\tlearn: 0.3468477\ttotal: 23.4ms\tremaining: 0us\n",
      "Learning rate set to 0.5\n",
      "0:\tlearn: 0.5081254\ttotal: 2.57ms\tremaining: 23.1ms\n",
      "1:\tlearn: 0.4378033\ttotal: 5.14ms\tremaining: 20.6ms\n",
      "2:\tlearn: 0.4089842\ttotal: 7.46ms\tremaining: 17.4ms\n",
      "3:\tlearn: 0.3876577\ttotal: 10ms\tremaining: 15ms\n",
      "4:\tlearn: 0.3756044\ttotal: 12.3ms\tremaining: 12.3ms\n",
      "5:\tlearn: 0.3682125\ttotal: 14.7ms\tremaining: 9.79ms\n",
      "6:\tlearn: 0.3603183\ttotal: 17.4ms\tremaining: 7.45ms\n",
      "7:\tlearn: 0.3571012\ttotal: 19.6ms\tremaining: 4.9ms\n",
      "8:\tlearn: 0.3558156\ttotal: 21.8ms\tremaining: 2.42ms\n",
      "9:\tlearn: 0.3523363\ttotal: 24.2ms\tremaining: 0us\n",
      "Learning rate set to 0.5\n",
      "0:\tlearn: 0.5058807\ttotal: 2.65ms\tremaining: 50.4ms\n",
      "1:\tlearn: 0.4451023\ttotal: 5.32ms\tremaining: 47.9ms\n",
      "2:\tlearn: 0.4129072\ttotal: 7.77ms\tremaining: 44ms\n",
      "3:\tlearn: 0.3933896\ttotal: 10.3ms\tremaining: 41.1ms\n",
      "4:\tlearn: 0.3789098\ttotal: 12.7ms\tremaining: 38ms\n",
      "5:\tlearn: 0.3623599\ttotal: 15.3ms\tremaining: 35.7ms\n",
      "6:\tlearn: 0.3568133\ttotal: 17.8ms\tremaining: 33.1ms\n",
      "7:\tlearn: 0.3498141\ttotal: 20.1ms\tremaining: 30.2ms\n",
      "8:\tlearn: 0.3466353\ttotal: 22.4ms\tremaining: 27.3ms\n",
      "9:\tlearn: 0.3447305\ttotal: 24.7ms\tremaining: 24.7ms\n",
      "10:\tlearn: 0.3438187\ttotal: 26.7ms\tremaining: 21.9ms\n",
      "11:\tlearn: 0.3420624\ttotal: 29ms\tremaining: 19.3ms\n",
      "12:\tlearn: 0.3383184\ttotal: 31.3ms\tremaining: 16.9ms\n",
      "13:\tlearn: 0.3377239\ttotal: 33.7ms\tremaining: 14.4ms\n",
      "14:\tlearn: 0.3358144\ttotal: 35.9ms\tremaining: 12ms\n",
      "15:\tlearn: 0.3344329\ttotal: 38.1ms\tremaining: 9.54ms\n",
      "16:\tlearn: 0.3332435\ttotal: 40.4ms\tremaining: 7.13ms\n",
      "17:\tlearn: 0.3321189\ttotal: 42.6ms\tremaining: 4.73ms\n",
      "18:\tlearn: 0.3317353\ttotal: 44.6ms\tremaining: 2.35ms\n",
      "19:\tlearn: 0.3314634\ttotal: 46.8ms\tremaining: 0us\n",
      "Learning rate set to 0.5\n",
      "0:\tlearn: 0.5083843\ttotal: 2.36ms\tremaining: 44.8ms\n",
      "1:\tlearn: 0.4483626\ttotal: 4.83ms\tremaining: 43.4ms\n",
      "2:\tlearn: 0.4171882\ttotal: 7.13ms\tremaining: 40.4ms\n",
      "3:\tlearn: 0.3958846\ttotal: 9.55ms\tremaining: 38.2ms\n",
      "4:\tlearn: 0.3822602\ttotal: 12ms\tremaining: 36ms\n",
      "5:\tlearn: 0.3705990\ttotal: 14.5ms\tremaining: 33.8ms\n",
      "6:\tlearn: 0.3586038\ttotal: 16.8ms\tremaining: 31.2ms\n",
      "7:\tlearn: 0.3531378\ttotal: 19.2ms\tremaining: 28.8ms\n",
      "8:\tlearn: 0.3510235\ttotal: 21.2ms\tremaining: 25.9ms\n",
      "9:\tlearn: 0.3473674\ttotal: 23.6ms\tremaining: 23.6ms\n",
      "10:\tlearn: 0.3461978\ttotal: 25.7ms\tremaining: 21.1ms\n",
      "11:\tlearn: 0.3442977\ttotal: 27.7ms\tremaining: 18.5ms\n",
      "12:\tlearn: 0.3410290\ttotal: 30.3ms\tremaining: 16.3ms\n",
      "13:\tlearn: 0.3399156\ttotal: 32.6ms\tremaining: 14ms\n",
      "14:\tlearn: 0.3377667\ttotal: 34.6ms\tremaining: 11.5ms\n",
      "15:\tlearn: 0.3371604\ttotal: 37ms\tremaining: 9.25ms\n",
      "16:\tlearn: 0.3363734\ttotal: 39.2ms\tremaining: 6.92ms\n",
      "17:\tlearn: 0.3343234\ttotal: 41.2ms\tremaining: 4.58ms\n",
      "18:\tlearn: 0.3333142\ttotal: 43.2ms\tremaining: 2.27ms\n",
      "19:\tlearn: 0.3319591\ttotal: 45.4ms\tremaining: 0us\n",
      "Learning rate set to 0.5\n",
      "0:\tlearn: 0.5061458\ttotal: 2.59ms\tremaining: 49.3ms\n",
      "1:\tlearn: 0.4464293\ttotal: 5.19ms\tremaining: 46.7ms\n",
      "2:\tlearn: 0.4148013\ttotal: 7.86ms\tremaining: 44.5ms\n",
      "3:\tlearn: 0.3928384\ttotal: 10.5ms\tremaining: 42.2ms\n",
      "4:\tlearn: 0.3795157\ttotal: 13ms\tremaining: 38.9ms\n",
      "5:\tlearn: 0.3636350\ttotal: 15.8ms\tremaining: 36.8ms\n",
      "6:\tlearn: 0.3569326\ttotal: 18.2ms\tremaining: 33.7ms\n",
      "7:\tlearn: 0.3505215\ttotal: 20.5ms\tremaining: 30.7ms\n",
      "8:\tlearn: 0.3487786\ttotal: 22.6ms\tremaining: 27.7ms\n",
      "9:\tlearn: 0.3455478\ttotal: 25.1ms\tremaining: 25.1ms\n",
      "10:\tlearn: 0.3442923\ttotal: 27.2ms\tremaining: 22.2ms\n",
      "11:\tlearn: 0.3427476\ttotal: 29.7ms\tremaining: 19.8ms\n",
      "12:\tlearn: 0.3385859\ttotal: 32.2ms\tremaining: 17.3ms\n",
      "13:\tlearn: 0.3374974\ttotal: 34.4ms\tremaining: 14.7ms\n",
      "14:\tlearn: 0.3372155\ttotal: 36.3ms\tremaining: 12.1ms\n",
      "15:\tlearn: 0.3354540\ttotal: 38.4ms\tremaining: 9.61ms\n",
      "16:\tlearn: 0.3347619\ttotal: 40.6ms\tremaining: 7.17ms\n",
      "17:\tlearn: 0.3341834\ttotal: 42.9ms\tremaining: 4.76ms\n",
      "18:\tlearn: 0.3341832\ttotal: 44.6ms\tremaining: 2.35ms\n",
      "19:\tlearn: 0.3331643\ttotal: 46.8ms\tremaining: 0us\n",
      "Learning rate set to 0.5\n",
      "0:\tlearn: 0.5020935\ttotal: 2.26ms\tremaining: 43ms\n",
      "1:\tlearn: 0.4486804\ttotal: 4.68ms\tremaining: 42.1ms\n",
      "2:\tlearn: 0.4070938\ttotal: 7.09ms\tremaining: 40.2ms\n",
      "3:\tlearn: 0.3895576\ttotal: 9.59ms\tremaining: 38.4ms\n",
      "4:\tlearn: 0.3772885\ttotal: 11.7ms\tremaining: 35.1ms\n",
      "5:\tlearn: 0.3678067\ttotal: 13.9ms\tremaining: 32.5ms\n",
      "6:\tlearn: 0.3577525\ttotal: 16.3ms\tremaining: 30.3ms\n",
      "7:\tlearn: 0.3528308\ttotal: 18.3ms\tremaining: 27.5ms\n",
      "8:\tlearn: 0.3490809\ttotal: 20.5ms\tremaining: 25.1ms\n",
      "9:\tlearn: 0.3468477\ttotal: 23ms\tremaining: 23ms\n",
      "10:\tlearn: 0.3446684\ttotal: 25.1ms\tremaining: 20.6ms\n",
      "11:\tlearn: 0.3429554\ttotal: 27.4ms\tremaining: 18.2ms\n",
      "12:\tlearn: 0.3394007\ttotal: 29.7ms\tremaining: 16ms\n",
      "13:\tlearn: 0.3388981\ttotal: 31.8ms\tremaining: 13.6ms\n",
      "14:\tlearn: 0.3368146\ttotal: 34.2ms\tremaining: 11.4ms\n",
      "15:\tlearn: 0.3265940\ttotal: 36.5ms\tremaining: 9.13ms\n",
      "16:\tlearn: 0.3241592\ttotal: 38.6ms\tremaining: 6.81ms\n",
      "17:\tlearn: 0.3228037\ttotal: 40.8ms\tremaining: 4.53ms\n",
      "18:\tlearn: 0.3218689\ttotal: 42.8ms\tremaining: 2.25ms\n",
      "19:\tlearn: 0.3206537\ttotal: 45.1ms\tremaining: 0us\n",
      "Learning rate set to 0.5\n",
      "0:\tlearn: 0.5081254\ttotal: 2.53ms\tremaining: 48.1ms\n",
      "1:\tlearn: 0.4378033\ttotal: 4.91ms\tremaining: 44.2ms\n",
      "2:\tlearn: 0.4089842\ttotal: 7.23ms\tremaining: 41ms\n",
      "3:\tlearn: 0.3876577\ttotal: 9.57ms\tremaining: 38.3ms\n",
      "4:\tlearn: 0.3756044\ttotal: 12.1ms\tremaining: 36.3ms\n",
      "5:\tlearn: 0.3682125\ttotal: 14.4ms\tremaining: 33.7ms\n",
      "6:\tlearn: 0.3603183\ttotal: 17.1ms\tremaining: 31.7ms\n",
      "7:\tlearn: 0.3571012\ttotal: 19.1ms\tremaining: 28.6ms\n",
      "8:\tlearn: 0.3558156\ttotal: 21.4ms\tremaining: 26.2ms\n",
      "9:\tlearn: 0.3523363\ttotal: 23.8ms\tremaining: 23.8ms\n",
      "10:\tlearn: 0.3506376\ttotal: 25.8ms\tremaining: 21.1ms\n",
      "11:\tlearn: 0.3485802\ttotal: 27.9ms\tremaining: 18.6ms\n",
      "12:\tlearn: 0.3461414\ttotal: 30ms\tremaining: 16.2ms\n",
      "13:\tlearn: 0.3451449\ttotal: 32.3ms\tremaining: 13.8ms\n",
      "14:\tlearn: 0.3434387\ttotal: 34.7ms\tremaining: 11.6ms\n",
      "15:\tlearn: 0.3346954\ttotal: 36.8ms\tremaining: 9.21ms\n",
      "16:\tlearn: 0.3339739\ttotal: 39.1ms\tremaining: 6.9ms\n",
      "17:\tlearn: 0.3322923\ttotal: 41.3ms\tremaining: 4.58ms\n",
      "18:\tlearn: 0.3313753\ttotal: 43.4ms\tremaining: 2.29ms\n",
      "19:\tlearn: 0.3311273\ttotal: 45.5ms\tremaining: 0us\n",
      "Learning rate set to 0.5\n",
      "0:\tlearn: 0.5058807\ttotal: 2.7ms\tremaining: 78.2ms\n",
      "1:\tlearn: 0.4451023\ttotal: 5.31ms\tremaining: 74.3ms\n",
      "2:\tlearn: 0.4129072\ttotal: 7.96ms\tremaining: 71.6ms\n",
      "3:\tlearn: 0.3933896\ttotal: 10.6ms\tremaining: 69.1ms\n",
      "4:\tlearn: 0.3789098\ttotal: 12.9ms\tremaining: 64.3ms\n",
      "5:\tlearn: 0.3623599\ttotal: 15.3ms\tremaining: 61.4ms\n",
      "6:\tlearn: 0.3568133\ttotal: 17.7ms\tremaining: 58ms\n",
      "7:\tlearn: 0.3498141\ttotal: 20ms\tremaining: 55ms\n",
      "8:\tlearn: 0.3466353\ttotal: 22ms\tremaining: 51.4ms\n",
      "9:\tlearn: 0.3447305\ttotal: 24.3ms\tremaining: 48.6ms\n",
      "10:\tlearn: 0.3438187\ttotal: 26.4ms\tremaining: 45.5ms\n",
      "11:\tlearn: 0.3420624\ttotal: 28.4ms\tremaining: 42.6ms\n",
      "12:\tlearn: 0.3383184\ttotal: 31ms\tremaining: 40.5ms\n",
      "13:\tlearn: 0.3377239\ttotal: 33.2ms\tremaining: 37.9ms\n",
      "14:\tlearn: 0.3358144\ttotal: 35.2ms\tremaining: 35.2ms\n",
      "15:\tlearn: 0.3344329\ttotal: 37.7ms\tremaining: 33ms\n",
      "16:\tlearn: 0.3332435\ttotal: 40.2ms\tremaining: 30.7ms\n",
      "17:\tlearn: 0.3321189\ttotal: 42.3ms\tremaining: 28.2ms\n",
      "18:\tlearn: 0.3317353\ttotal: 44.3ms\tremaining: 25.6ms\n",
      "19:\tlearn: 0.3314634\ttotal: 46.4ms\tremaining: 23.2ms\n",
      "20:\tlearn: 0.3305782\ttotal: 48.5ms\tremaining: 20.8ms\n",
      "21:\tlearn: 0.3303531\ttotal: 50.6ms\tremaining: 18.4ms\n",
      "22:\tlearn: 0.3299009\ttotal: 52.8ms\tremaining: 16.1ms\n",
      "23:\tlearn: 0.3288303\ttotal: 54.7ms\tremaining: 13.7ms\n",
      "24:\tlearn: 0.3269575\ttotal: 57.1ms\tremaining: 11.4ms\n",
      "25:\tlearn: 0.3269165\ttotal: 59.1ms\tremaining: 9.1ms\n",
      "26:\tlearn: 0.3264029\ttotal: 61.5ms\tremaining: 6.83ms\n",
      "27:\tlearn: 0.3261796\ttotal: 63.6ms\tremaining: 4.54ms\n",
      "28:\tlearn: 0.3239009\ttotal: 65.7ms\tremaining: 2.26ms\n",
      "29:\tlearn: 0.3237805\ttotal: 67.7ms\tremaining: 0us\n",
      "Learning rate set to 0.5\n",
      "0:\tlearn: 0.5083843\ttotal: 2.63ms\tremaining: 76.3ms\n",
      "1:\tlearn: 0.4483626\ttotal: 5.08ms\tremaining: 71.2ms\n",
      "2:\tlearn: 0.4171882\ttotal: 7.36ms\tremaining: 66.2ms\n",
      "3:\tlearn: 0.3958846\ttotal: 9.63ms\tremaining: 62.6ms\n",
      "4:\tlearn: 0.3822602\ttotal: 12.2ms\tremaining: 60.8ms\n",
      "5:\tlearn: 0.3705990\ttotal: 14.7ms\tremaining: 58.8ms\n",
      "6:\tlearn: 0.3586038\ttotal: 16.9ms\tremaining: 55.4ms\n",
      "7:\tlearn: 0.3531378\ttotal: 19.2ms\tremaining: 52.8ms\n",
      "8:\tlearn: 0.3510235\ttotal: 21.3ms\tremaining: 49.7ms\n",
      "9:\tlearn: 0.3473674\ttotal: 23.8ms\tremaining: 47.5ms\n",
      "10:\tlearn: 0.3461978\ttotal: 26ms\tremaining: 44.9ms\n",
      "11:\tlearn: 0.3442977\ttotal: 28.2ms\tremaining: 42.3ms\n",
      "12:\tlearn: 0.3410290\ttotal: 30.5ms\tremaining: 39.8ms\n",
      "13:\tlearn: 0.3399156\ttotal: 32.6ms\tremaining: 37.2ms\n",
      "14:\tlearn: 0.3377667\ttotal: 34.8ms\tremaining: 34.8ms\n",
      "15:\tlearn: 0.3371604\ttotal: 37.2ms\tremaining: 32.5ms\n",
      "16:\tlearn: 0.3363734\ttotal: 39.2ms\tremaining: 30ms\n",
      "17:\tlearn: 0.3343234\ttotal: 41.5ms\tremaining: 27.6ms\n",
      "18:\tlearn: 0.3333142\ttotal: 43.4ms\tremaining: 25.1ms\n",
      "19:\tlearn: 0.3319591\ttotal: 45.6ms\tremaining: 22.8ms\n",
      "20:\tlearn: 0.3314401\ttotal: 47.8ms\tremaining: 20.5ms\n",
      "21:\tlearn: 0.3313570\ttotal: 50.1ms\tremaining: 18.2ms\n",
      "22:\tlearn: 0.3304009\ttotal: 52.4ms\tremaining: 15.9ms\n",
      "23:\tlearn: 0.3291835\ttotal: 54.6ms\tremaining: 13.7ms\n",
      "24:\tlearn: 0.3277425\ttotal: 56.7ms\tremaining: 11.3ms\n",
      "25:\tlearn: 0.3267852\ttotal: 59ms\tremaining: 9.08ms\n",
      "26:\tlearn: 0.3263676\ttotal: 61.3ms\tremaining: 6.81ms\n",
      "27:\tlearn: 0.3262939\ttotal: 63.2ms\tremaining: 4.52ms\n",
      "28:\tlearn: 0.3260251\ttotal: 65.3ms\tremaining: 2.25ms\n",
      "29:\tlearn: 0.3250631\ttotal: 67.4ms\tremaining: 0us\n",
      "Learning rate set to 0.5\n",
      "0:\tlearn: 0.5061458\ttotal: 2.57ms\tremaining: 74.5ms\n",
      "1:\tlearn: 0.4464293\ttotal: 5.08ms\tremaining: 71.1ms\n",
      "2:\tlearn: 0.4148013\ttotal: 7.4ms\tremaining: 66.6ms\n",
      "3:\tlearn: 0.3928384\ttotal: 10.1ms\tremaining: 65.3ms\n",
      "4:\tlearn: 0.3795157\ttotal: 12.2ms\tremaining: 61.2ms\n",
      "5:\tlearn: 0.3636350\ttotal: 14.4ms\tremaining: 57.8ms\n",
      "6:\tlearn: 0.3569326\ttotal: 16.7ms\tremaining: 55ms\n",
      "7:\tlearn: 0.3505215\ttotal: 18.7ms\tremaining: 51.5ms\n",
      "8:\tlearn: 0.3487786\ttotal: 20.8ms\tremaining: 48.6ms\n",
      "9:\tlearn: 0.3455478\ttotal: 23.1ms\tremaining: 46.3ms\n",
      "10:\tlearn: 0.3442923\ttotal: 25.2ms\tremaining: 43.5ms\n",
      "11:\tlearn: 0.3427476\ttotal: 27.6ms\tremaining: 41.4ms\n",
      "12:\tlearn: 0.3385859\ttotal: 30.1ms\tremaining: 39.3ms\n",
      "13:\tlearn: 0.3374974\ttotal: 32.5ms\tremaining: 37.2ms\n",
      "14:\tlearn: 0.3372155\ttotal: 34.5ms\tremaining: 34.5ms\n",
      "15:\tlearn: 0.3354540\ttotal: 36.9ms\tremaining: 32.3ms\n",
      "16:\tlearn: 0.3347619\ttotal: 39ms\tremaining: 29.8ms\n",
      "17:\tlearn: 0.3341834\ttotal: 41.3ms\tremaining: 27.6ms\n",
      "18:\tlearn: 0.3341832\ttotal: 43.3ms\tremaining: 25.1ms\n",
      "19:\tlearn: 0.3331643\ttotal: 45.6ms\tremaining: 22.8ms\n",
      "20:\tlearn: 0.3328358\ttotal: 47.7ms\tremaining: 20.5ms\n",
      "21:\tlearn: 0.3328338\ttotal: 49.7ms\tremaining: 18.1ms\n",
      "22:\tlearn: 0.3323167\ttotal: 51.8ms\tremaining: 15.8ms\n",
      "23:\tlearn: 0.3299278\ttotal: 54ms\tremaining: 13.5ms\n",
      "24:\tlearn: 0.3287204\ttotal: 56.1ms\tremaining: 11.2ms\n",
      "25:\tlearn: 0.3283706\ttotal: 58.3ms\tremaining: 8.97ms\n",
      "26:\tlearn: 0.3280037\ttotal: 60.4ms\tremaining: 6.71ms\n",
      "27:\tlearn: 0.3279879\ttotal: 62.3ms\tremaining: 4.45ms\n",
      "28:\tlearn: 0.3277722\ttotal: 64.3ms\tremaining: 2.22ms\n",
      "29:\tlearn: 0.3271708\ttotal: 66.9ms\tremaining: 0us\n",
      "Learning rate set to 0.5\n",
      "0:\tlearn: 0.5020935\ttotal: 2.39ms\tremaining: 69.4ms\n",
      "1:\tlearn: 0.4486804\ttotal: 4.97ms\tremaining: 69.6ms\n",
      "2:\tlearn: 0.4070938\ttotal: 7.45ms\tremaining: 67.1ms\n",
      "3:\tlearn: 0.3895576\ttotal: 9.97ms\tremaining: 64.8ms\n",
      "4:\tlearn: 0.3772885\ttotal: 12.2ms\tremaining: 61.2ms\n",
      "5:\tlearn: 0.3678067\ttotal: 14.9ms\tremaining: 59.7ms\n",
      "6:\tlearn: 0.3577525\ttotal: 17.7ms\tremaining: 58.1ms\n",
      "7:\tlearn: 0.3528308\ttotal: 19.8ms\tremaining: 54.5ms\n",
      "8:\tlearn: 0.3490809\ttotal: 22.3ms\tremaining: 52ms\n",
      "9:\tlearn: 0.3468477\ttotal: 25ms\tremaining: 50ms\n",
      "10:\tlearn: 0.3446684\ttotal: 27.3ms\tremaining: 47.1ms\n",
      "11:\tlearn: 0.3429554\ttotal: 29.5ms\tremaining: 44.2ms\n",
      "12:\tlearn: 0.3394007\ttotal: 31.7ms\tremaining: 41.4ms\n",
      "13:\tlearn: 0.3388981\ttotal: 33.8ms\tremaining: 38.6ms\n",
      "14:\tlearn: 0.3368146\ttotal: 36ms\tremaining: 36ms\n",
      "15:\tlearn: 0.3265940\ttotal: 38.3ms\tremaining: 33.5ms\n",
      "16:\tlearn: 0.3241592\ttotal: 40.5ms\tremaining: 31ms\n",
      "17:\tlearn: 0.3228037\ttotal: 42.7ms\tremaining: 28.5ms\n",
      "18:\tlearn: 0.3218689\ttotal: 44.8ms\tremaining: 26ms\n",
      "19:\tlearn: 0.3206537\ttotal: 47.6ms\tremaining: 23.8ms\n",
      "20:\tlearn: 0.3196917\ttotal: 49.7ms\tremaining: 21.3ms\n",
      "21:\tlearn: 0.3189683\ttotal: 52.5ms\tremaining: 19.1ms\n",
      "22:\tlearn: 0.3186408\ttotal: 54.6ms\tremaining: 16.6ms\n",
      "23:\tlearn: 0.3182879\ttotal: 56.8ms\tremaining: 14.2ms\n",
      "24:\tlearn: 0.3180450\ttotal: 58.9ms\tremaining: 11.8ms\n",
      "25:\tlearn: 0.3176512\ttotal: 61.2ms\tremaining: 9.42ms\n",
      "26:\tlearn: 0.3171096\ttotal: 63.5ms\tremaining: 7.05ms\n",
      "27:\tlearn: 0.3163831\ttotal: 65.7ms\tremaining: 4.69ms\n",
      "28:\tlearn: 0.3147646\ttotal: 68.1ms\tremaining: 2.35ms\n",
      "29:\tlearn: 0.3145746\ttotal: 70.4ms\tremaining: 0us\n",
      "Learning rate set to 0.5\n",
      "0:\tlearn: 0.5081254\ttotal: 2.73ms\tremaining: 79.1ms\n",
      "1:\tlearn: 0.4378033\ttotal: 5.39ms\tremaining: 75.4ms\n",
      "2:\tlearn: 0.4089842\ttotal: 7.68ms\tremaining: 69.1ms\n",
      "3:\tlearn: 0.3876577\ttotal: 10.3ms\tremaining: 66.7ms\n",
      "4:\tlearn: 0.3756044\ttotal: 12.7ms\tremaining: 63.4ms\n",
      "5:\tlearn: 0.3682125\ttotal: 14.9ms\tremaining: 59.6ms\n",
      "6:\tlearn: 0.3603183\ttotal: 17.3ms\tremaining: 56.7ms\n",
      "7:\tlearn: 0.3571012\ttotal: 19.7ms\tremaining: 54ms\n",
      "8:\tlearn: 0.3558156\ttotal: 21.9ms\tremaining: 51.1ms\n",
      "9:\tlearn: 0.3523363\ttotal: 24.2ms\tremaining: 48.4ms\n",
      "10:\tlearn: 0.3506376\ttotal: 26.4ms\tremaining: 45.6ms\n",
      "11:\tlearn: 0.3485802\ttotal: 28.7ms\tremaining: 43ms\n",
      "12:\tlearn: 0.3461414\ttotal: 31.2ms\tremaining: 40.8ms\n",
      "13:\tlearn: 0.3451449\ttotal: 33.4ms\tremaining: 38.1ms\n",
      "14:\tlearn: 0.3434387\ttotal: 35.7ms\tremaining: 35.7ms\n",
      "15:\tlearn: 0.3346954\ttotal: 37.9ms\tremaining: 33.2ms\n",
      "16:\tlearn: 0.3339739\ttotal: 40.2ms\tremaining: 30.8ms\n",
      "17:\tlearn: 0.3322923\ttotal: 42.5ms\tremaining: 28.3ms\n",
      "18:\tlearn: 0.3313753\ttotal: 44.5ms\tremaining: 25.8ms\n",
      "19:\tlearn: 0.3311273\ttotal: 46.6ms\tremaining: 23.3ms\n",
      "20:\tlearn: 0.3306166\ttotal: 48.7ms\tremaining: 20.9ms\n",
      "21:\tlearn: 0.3290392\ttotal: 50.9ms\tremaining: 18.5ms\n",
      "22:\tlearn: 0.3279688\ttotal: 53.5ms\tremaining: 16.3ms\n",
      "23:\tlearn: 0.3276839\ttotal: 55.5ms\tremaining: 13.9ms\n",
      "24:\tlearn: 0.3273289\ttotal: 57.7ms\tremaining: 11.5ms\n",
      "25:\tlearn: 0.3254527\ttotal: 60.1ms\tremaining: 9.24ms\n",
      "26:\tlearn: 0.3231366\ttotal: 62.1ms\tremaining: 6.9ms\n",
      "27:\tlearn: 0.3212975\ttotal: 64.4ms\tremaining: 4.6ms\n",
      "28:\tlearn: 0.3211241\ttotal: 66.4ms\tremaining: 2.29ms\n",
      "29:\tlearn: 0.3202969\ttotal: 68.6ms\tremaining: 0us\n",
      "Learning rate set to 0.5\n",
      "0:\tlearn: 0.4989114\ttotal: 5.26ms\tremaining: 47.4ms\n",
      "1:\tlearn: 0.4315410\ttotal: 9.83ms\tremaining: 39.3ms\n",
      "2:\tlearn: 0.3901297\ttotal: 14.4ms\tremaining: 33.6ms\n",
      "3:\tlearn: 0.3705081\ttotal: 21.8ms\tremaining: 32.7ms\n",
      "4:\tlearn: 0.3541880\ttotal: 28.9ms\tremaining: 28.9ms\n",
      "5:\tlearn: 0.3479389\ttotal: 33.4ms\tremaining: 22.2ms\n",
      "6:\tlearn: 0.3418843\ttotal: 37.7ms\tremaining: 16.1ms\n",
      "7:\tlearn: 0.3368430\ttotal: 41.9ms\tremaining: 10.5ms\n",
      "8:\tlearn: 0.3342324\ttotal: 45.7ms\tremaining: 5.08ms\n",
      "9:\tlearn: 0.3293857\ttotal: 50ms\tremaining: 0us\n",
      "Learning rate set to 0.5\n",
      "0:\tlearn: 0.5010889\ttotal: 5.67ms\tremaining: 51ms\n",
      "1:\tlearn: 0.4318142\ttotal: 12ms\tremaining: 48.1ms\n",
      "2:\tlearn: 0.3971143\ttotal: 16.7ms\tremaining: 39ms\n",
      "3:\tlearn: 0.3740849\ttotal: 20.4ms\tremaining: 30.6ms\n",
      "4:\tlearn: 0.3626572\ttotal: 24.3ms\tremaining: 24.3ms\n",
      "5:\tlearn: 0.3544588\ttotal: 29.2ms\tremaining: 19.5ms\n",
      "6:\tlearn: 0.3461841\ttotal: 34.1ms\tremaining: 14.6ms\n",
      "7:\tlearn: 0.3414874\ttotal: 38.5ms\tremaining: 9.63ms\n",
      "8:\tlearn: 0.3393144\ttotal: 42.9ms\tremaining: 4.77ms\n",
      "9:\tlearn: 0.3323397\ttotal: 47.5ms\tremaining: 0us\n",
      "Learning rate set to 0.5\n",
      "0:\tlearn: 0.4993795\ttotal: 5.07ms\tremaining: 45.7ms\n",
      "1:\tlearn: 0.4289554\ttotal: 9.06ms\tremaining: 36.3ms\n",
      "2:\tlearn: 0.3892117\ttotal: 13.7ms\tremaining: 31.9ms\n",
      "3:\tlearn: 0.3682730\ttotal: 17.8ms\tremaining: 26.7ms\n",
      "4:\tlearn: 0.3558010\ttotal: 22.2ms\tremaining: 22.2ms\n",
      "5:\tlearn: 0.3506624\ttotal: 26.4ms\tremaining: 17.6ms\n",
      "6:\tlearn: 0.3443120\ttotal: 31ms\tremaining: 13.3ms\n",
      "7:\tlearn: 0.3398168\ttotal: 35.9ms\tremaining: 8.99ms\n",
      "8:\tlearn: 0.3382941\ttotal: 39.8ms\tremaining: 4.43ms\n",
      "9:\tlearn: 0.3327704\ttotal: 44.5ms\tremaining: 0us\n",
      "Learning rate set to 0.5\n",
      "0:\tlearn: 0.4905382\ttotal: 4.53ms\tremaining: 40.8ms\n",
      "1:\tlearn: 0.4184526\ttotal: 9.68ms\tremaining: 38.7ms\n",
      "2:\tlearn: 0.3874643\ttotal: 14.5ms\tremaining: 33.8ms\n",
      "3:\tlearn: 0.3656616\ttotal: 19.4ms\tremaining: 29.1ms\n",
      "4:\tlearn: 0.3536667\ttotal: 24.3ms\tremaining: 24.3ms\n",
      "5:\tlearn: 0.3389408\ttotal: 29ms\tremaining: 19.3ms\n",
      "6:\tlearn: 0.3324747\ttotal: 33.9ms\tremaining: 14.5ms\n",
      "7:\tlearn: 0.3298239\ttotal: 38.2ms\tremaining: 9.54ms\n",
      "8:\tlearn: 0.3277667\ttotal: 42.6ms\tremaining: 4.73ms\n",
      "9:\tlearn: 0.3237007\ttotal: 46.8ms\tremaining: 0us\n",
      "Learning rate set to 0.5\n",
      "0:\tlearn: 0.5029387\ttotal: 5.07ms\tremaining: 45.7ms\n",
      "1:\tlearn: 0.4250311\ttotal: 9.3ms\tremaining: 37.2ms\n",
      "2:\tlearn: 0.3913233\ttotal: 13ms\tremaining: 30.3ms\n",
      "3:\tlearn: 0.3653099\ttotal: 17ms\tremaining: 25.6ms\n",
      "4:\tlearn: 0.3504387\ttotal: 21ms\tremaining: 21ms\n",
      "5:\tlearn: 0.3455536\ttotal: 24.2ms\tremaining: 16.1ms\n",
      "6:\tlearn: 0.3401711\ttotal: 28.3ms\tremaining: 12.1ms\n",
      "7:\tlearn: 0.3342733\ttotal: 31.7ms\tremaining: 7.92ms\n",
      "8:\tlearn: 0.3288962\ttotal: 35.6ms\tremaining: 3.96ms\n",
      "9:\tlearn: 0.3238694\ttotal: 40ms\tremaining: 0us\n",
      "Learning rate set to 0.5\n",
      "0:\tlearn: 0.4989114\ttotal: 5.42ms\tremaining: 103ms\n",
      "1:\tlearn: 0.4315410\ttotal: 10ms\tremaining: 90.2ms\n",
      "2:\tlearn: 0.3901297\ttotal: 14.5ms\tremaining: 81.9ms\n",
      "3:\tlearn: 0.3705081\ttotal: 19.4ms\tremaining: 77.5ms\n",
      "4:\tlearn: 0.3541880\ttotal: 24.2ms\tremaining: 72.6ms\n",
      "5:\tlearn: 0.3479389\ttotal: 28.7ms\tremaining: 66.9ms\n",
      "6:\tlearn: 0.3418843\ttotal: 33ms\tremaining: 61.3ms\n",
      "7:\tlearn: 0.3368430\ttotal: 37.5ms\tremaining: 56.3ms\n",
      "8:\tlearn: 0.3342324\ttotal: 41.8ms\tremaining: 51.1ms\n",
      "9:\tlearn: 0.3293857\ttotal: 46.8ms\tremaining: 46.8ms\n",
      "10:\tlearn: 0.3273779\ttotal: 50.5ms\tremaining: 41.4ms\n",
      "11:\tlearn: 0.3264786\ttotal: 54.3ms\tremaining: 36.2ms\n",
      "12:\tlearn: 0.3219048\ttotal: 58.6ms\tremaining: 31.5ms\n",
      "13:\tlearn: 0.3191632\ttotal: 63ms\tremaining: 27ms\n",
      "14:\tlearn: 0.3183310\ttotal: 67.4ms\tremaining: 22.5ms\n",
      "15:\tlearn: 0.3178114\ttotal: 71.2ms\tremaining: 17.8ms\n",
      "16:\tlearn: 0.3153817\ttotal: 74.9ms\tremaining: 13.2ms\n",
      "17:\tlearn: 0.3143763\ttotal: 78.3ms\tremaining: 8.7ms\n",
      "18:\tlearn: 0.3137205\ttotal: 82.6ms\tremaining: 4.34ms\n",
      "19:\tlearn: 0.3128767\ttotal: 86.5ms\tremaining: 0us\n",
      "Learning rate set to 0.5\n",
      "0:\tlearn: 0.5010889\ttotal: 8.09ms\tremaining: 154ms\n",
      "1:\tlearn: 0.4318142\ttotal: 15.6ms\tremaining: 140ms\n",
      "2:\tlearn: 0.3971143\ttotal: 23.5ms\tremaining: 133ms\n",
      "3:\tlearn: 0.3740849\ttotal: 27.4ms\tremaining: 109ms\n",
      "4:\tlearn: 0.3626572\ttotal: 31.6ms\tremaining: 94.8ms\n",
      "5:\tlearn: 0.3544588\ttotal: 36.1ms\tremaining: 84.3ms\n",
      "6:\tlearn: 0.3461841\ttotal: 41.3ms\tremaining: 76.8ms\n",
      "7:\tlearn: 0.3414874\ttotal: 45.7ms\tremaining: 68.5ms\n",
      "8:\tlearn: 0.3393144\ttotal: 50.5ms\tremaining: 61.8ms\n",
      "9:\tlearn: 0.3323397\ttotal: 55ms\tremaining: 55ms\n",
      "10:\tlearn: 0.3300363\ttotal: 59.4ms\tremaining: 48.6ms\n",
      "11:\tlearn: 0.3280426\ttotal: 63.1ms\tremaining: 42.1ms\n",
      "12:\tlearn: 0.3264221\ttotal: 67.1ms\tremaining: 36.1ms\n",
      "13:\tlearn: 0.3250858\ttotal: 70.7ms\tremaining: 30.3ms\n",
      "14:\tlearn: 0.3215333\ttotal: 74.6ms\tremaining: 24.9ms\n",
      "15:\tlearn: 0.3202655\ttotal: 77.9ms\tremaining: 19.5ms\n",
      "16:\tlearn: 0.3183129\ttotal: 81.9ms\tremaining: 14.4ms\n",
      "17:\tlearn: 0.3178668\ttotal: 85.1ms\tremaining: 9.46ms\n",
      "18:\tlearn: 0.3143460\ttotal: 89.1ms\tremaining: 4.69ms\n",
      "19:\tlearn: 0.3124481\ttotal: 92.9ms\tremaining: 0us\n",
      "Learning rate set to 0.5\n",
      "0:\tlearn: 0.4993795\ttotal: 5.02ms\tremaining: 95.4ms\n",
      "1:\tlearn: 0.4289554\ttotal: 9.56ms\tremaining: 86ms\n",
      "2:\tlearn: 0.3892117\ttotal: 14.3ms\tremaining: 81.2ms\n",
      "3:\tlearn: 0.3682730\ttotal: 19.1ms\tremaining: 76.5ms\n",
      "4:\tlearn: 0.3558010\ttotal: 23.5ms\tremaining: 70.5ms\n",
      "5:\tlearn: 0.3506624\ttotal: 27.4ms\tremaining: 63.9ms\n",
      "6:\tlearn: 0.3443120\ttotal: 31.8ms\tremaining: 59.1ms\n",
      "7:\tlearn: 0.3398168\ttotal: 36.6ms\tremaining: 54.9ms\n",
      "8:\tlearn: 0.3382941\ttotal: 40.5ms\tremaining: 49.5ms\n",
      "9:\tlearn: 0.3327704\ttotal: 46.7ms\tremaining: 46.7ms\n",
      "10:\tlearn: 0.3310964\ttotal: 50.4ms\tremaining: 41.2ms\n",
      "11:\tlearn: 0.3285790\ttotal: 54.4ms\tremaining: 36.2ms\n",
      "12:\tlearn: 0.3264189\ttotal: 58.2ms\tremaining: 31.3ms\n",
      "13:\tlearn: 0.3246252\ttotal: 62.2ms\tremaining: 26.6ms\n",
      "14:\tlearn: 0.3241728\ttotal: 65.8ms\tremaining: 21.9ms\n",
      "15:\tlearn: 0.3230557\ttotal: 69.3ms\tremaining: 17.3ms\n",
      "16:\tlearn: 0.3211594\ttotal: 72.9ms\tremaining: 12.9ms\n",
      "17:\tlearn: 0.3194826\ttotal: 76.8ms\tremaining: 8.53ms\n",
      "18:\tlearn: 0.3171275\ttotal: 80.7ms\tremaining: 4.25ms\n",
      "19:\tlearn: 0.3147468\ttotal: 85ms\tremaining: 0us\n",
      "Learning rate set to 0.5\n",
      "0:\tlearn: 0.4905382\ttotal: 4.8ms\tremaining: 91.1ms\n",
      "1:\tlearn: 0.4184526\ttotal: 9.63ms\tremaining: 86.6ms\n",
      "2:\tlearn: 0.3874643\ttotal: 15.6ms\tremaining: 88.3ms\n",
      "3:\tlearn: 0.3656616\ttotal: 22.6ms\tremaining: 90.6ms\n",
      "4:\tlearn: 0.3536667\ttotal: 27.3ms\tremaining: 81.8ms\n",
      "5:\tlearn: 0.3389408\ttotal: 32.1ms\tremaining: 74.9ms\n",
      "6:\tlearn: 0.3324747\ttotal: 37.9ms\tremaining: 70.3ms\n",
      "7:\tlearn: 0.3298239\ttotal: 42.2ms\tremaining: 63.3ms\n",
      "8:\tlearn: 0.3277667\ttotal: 46.9ms\tremaining: 57.4ms\n",
      "9:\tlearn: 0.3237007\ttotal: 51.1ms\tremaining: 51.1ms\n",
      "10:\tlearn: 0.3198422\ttotal: 55.6ms\tremaining: 45.5ms\n",
      "11:\tlearn: 0.3151476\ttotal: 59.6ms\tremaining: 39.7ms\n",
      "12:\tlearn: 0.3144078\ttotal: 63.6ms\tremaining: 34.3ms\n",
      "13:\tlearn: 0.3118023\ttotal: 68.1ms\tremaining: 29.2ms\n",
      "14:\tlearn: 0.3102822\ttotal: 72.4ms\tremaining: 24.1ms\n",
      "15:\tlearn: 0.3095246\ttotal: 76.3ms\tremaining: 19.1ms\n",
      "16:\tlearn: 0.3088106\ttotal: 79.8ms\tremaining: 14.1ms\n",
      "17:\tlearn: 0.3073923\ttotal: 83.5ms\tremaining: 9.28ms\n",
      "18:\tlearn: 0.3067545\ttotal: 87.6ms\tremaining: 4.61ms\n",
      "19:\tlearn: 0.3034355\ttotal: 91.5ms\tremaining: 0us\n",
      "Learning rate set to 0.5\n",
      "0:\tlearn: 0.5029387\ttotal: 5.09ms\tremaining: 96.6ms\n",
      "1:\tlearn: 0.4250311\ttotal: 9.67ms\tremaining: 87ms\n",
      "2:\tlearn: 0.3913233\ttotal: 13.8ms\tremaining: 78.1ms\n",
      "3:\tlearn: 0.3653099\ttotal: 18.6ms\tremaining: 74.5ms\n",
      "4:\tlearn: 0.3504387\ttotal: 23.5ms\tremaining: 70.5ms\n",
      "5:\tlearn: 0.3455536\ttotal: 27.8ms\tremaining: 64.8ms\n",
      "6:\tlearn: 0.3401711\ttotal: 32.8ms\tremaining: 61ms\n",
      "7:\tlearn: 0.3342733\ttotal: 37.3ms\tremaining: 56ms\n",
      "8:\tlearn: 0.3288962\ttotal: 42.3ms\tremaining: 51.7ms\n",
      "9:\tlearn: 0.3238694\ttotal: 48ms\tremaining: 48ms\n",
      "10:\tlearn: 0.3199311\ttotal: 52.7ms\tremaining: 43.1ms\n",
      "11:\tlearn: 0.3184947\ttotal: 57ms\tremaining: 38ms\n",
      "12:\tlearn: 0.3160155\ttotal: 60.9ms\tremaining: 32.8ms\n",
      "13:\tlearn: 0.3141856\ttotal: 65.9ms\tremaining: 28.2ms\n",
      "14:\tlearn: 0.3124611\ttotal: 70.6ms\tremaining: 23.5ms\n",
      "15:\tlearn: 0.3114172\ttotal: 74.8ms\tremaining: 18.7ms\n",
      "16:\tlearn: 0.3085167\ttotal: 79.4ms\tremaining: 14ms\n",
      "17:\tlearn: 0.3041276\ttotal: 84.5ms\tremaining: 9.38ms\n",
      "18:\tlearn: 0.3018576\ttotal: 88.8ms\tremaining: 4.67ms\n",
      "19:\tlearn: 0.3012311\ttotal: 93.2ms\tremaining: 0us\n",
      "Learning rate set to 0.5\n",
      "0:\tlearn: 0.4989114\ttotal: 5.45ms\tremaining: 158ms\n",
      "1:\tlearn: 0.4315410\ttotal: 9.98ms\tremaining: 140ms\n",
      "2:\tlearn: 0.3901297\ttotal: 15.3ms\tremaining: 138ms\n",
      "3:\tlearn: 0.3705081\ttotal: 19.8ms\tremaining: 129ms\n",
      "4:\tlearn: 0.3541880\ttotal: 24ms\tremaining: 120ms\n",
      "5:\tlearn: 0.3479389\ttotal: 28.6ms\tremaining: 114ms\n",
      "6:\tlearn: 0.3418843\ttotal: 33.3ms\tremaining: 110ms\n",
      "7:\tlearn: 0.3368430\ttotal: 37.9ms\tremaining: 104ms\n",
      "8:\tlearn: 0.3342324\ttotal: 42.2ms\tremaining: 98.5ms\n",
      "9:\tlearn: 0.3293857\ttotal: 47.5ms\tremaining: 95ms\n",
      "10:\tlearn: 0.3273779\ttotal: 51.7ms\tremaining: 89.4ms\n",
      "11:\tlearn: 0.3264786\ttotal: 55.3ms\tremaining: 83ms\n",
      "12:\tlearn: 0.3219048\ttotal: 59.4ms\tremaining: 77.7ms\n",
      "13:\tlearn: 0.3191632\ttotal: 63.7ms\tremaining: 72.8ms\n",
      "14:\tlearn: 0.3183310\ttotal: 67.7ms\tremaining: 67.7ms\n",
      "15:\tlearn: 0.3178114\ttotal: 71.5ms\tremaining: 62.5ms\n",
      "16:\tlearn: 0.3153817\ttotal: 75ms\tremaining: 57.3ms\n",
      "17:\tlearn: 0.3143763\ttotal: 78.7ms\tremaining: 52.5ms\n",
      "18:\tlearn: 0.3137205\ttotal: 82.9ms\tremaining: 48ms\n",
      "19:\tlearn: 0.3128767\ttotal: 86.8ms\tremaining: 43.4ms\n",
      "20:\tlearn: 0.3115657\ttotal: 90.6ms\tremaining: 38.8ms\n",
      "21:\tlearn: 0.3098791\ttotal: 94.9ms\tremaining: 34.5ms\n",
      "22:\tlearn: 0.3094179\ttotal: 98.6ms\tremaining: 30ms\n",
      "23:\tlearn: 0.3086006\ttotal: 102ms\tremaining: 25.6ms\n",
      "24:\tlearn: 0.3074936\ttotal: 107ms\tremaining: 21.4ms\n",
      "25:\tlearn: 0.3062072\ttotal: 111ms\tremaining: 17ms\n",
      "26:\tlearn: 0.3020425\ttotal: 115ms\tremaining: 12.8ms\n",
      "27:\tlearn: 0.3016678\ttotal: 119ms\tremaining: 8.49ms\n",
      "28:\tlearn: 0.3004359\ttotal: 123ms\tremaining: 4.23ms\n",
      "29:\tlearn: 0.2997389\ttotal: 127ms\tremaining: 0us\n",
      "Learning rate set to 0.5\n",
      "0:\tlearn: 0.5010889\ttotal: 4.91ms\tremaining: 142ms\n",
      "1:\tlearn: 0.4318142\ttotal: 9.78ms\tremaining: 137ms\n",
      "2:\tlearn: 0.3971143\ttotal: 14.5ms\tremaining: 131ms\n",
      "3:\tlearn: 0.3740849\ttotal: 18.4ms\tremaining: 119ms\n",
      "4:\tlearn: 0.3626572\ttotal: 22.2ms\tremaining: 111ms\n",
      "5:\tlearn: 0.3544588\ttotal: 26.4ms\tremaining: 106ms\n",
      "6:\tlearn: 0.3461841\ttotal: 30.8ms\tremaining: 101ms\n",
      "7:\tlearn: 0.3414874\ttotal: 35ms\tremaining: 96.2ms\n",
      "8:\tlearn: 0.3393144\ttotal: 39.2ms\tremaining: 91.5ms\n",
      "9:\tlearn: 0.3323397\ttotal: 43.4ms\tremaining: 86.9ms\n",
      "10:\tlearn: 0.3300363\ttotal: 47.5ms\tremaining: 82ms\n",
      "11:\tlearn: 0.3280426\ttotal: 51.3ms\tremaining: 77ms\n",
      "12:\tlearn: 0.3264221\ttotal: 55.5ms\tremaining: 72.6ms\n",
      "13:\tlearn: 0.3250858\ttotal: 58.9ms\tremaining: 67.4ms\n",
      "14:\tlearn: 0.3215333\ttotal: 62.8ms\tremaining: 62.8ms\n",
      "15:\tlearn: 0.3202655\ttotal: 66.2ms\tremaining: 57.9ms\n",
      "16:\tlearn: 0.3183129\ttotal: 70ms\tremaining: 53.6ms\n",
      "17:\tlearn: 0.3178668\ttotal: 73.3ms\tremaining: 48.9ms\n",
      "18:\tlearn: 0.3143460\ttotal: 77.3ms\tremaining: 44.8ms\n",
      "19:\tlearn: 0.3124481\ttotal: 81.1ms\tremaining: 40.6ms\n",
      "20:\tlearn: 0.3121845\ttotal: 84.8ms\tremaining: 36.3ms\n",
      "21:\tlearn: 0.3111967\ttotal: 87.8ms\tremaining: 31.9ms\n",
      "22:\tlearn: 0.3111069\ttotal: 90.7ms\tremaining: 27.6ms\n",
      "23:\tlearn: 0.3079788\ttotal: 94.8ms\tremaining: 23.7ms\n",
      "24:\tlearn: 0.3071442\ttotal: 98.7ms\tremaining: 19.7ms\n",
      "25:\tlearn: 0.3057989\ttotal: 102ms\tremaining: 15.7ms\n",
      "26:\tlearn: 0.3043148\ttotal: 106ms\tremaining: 11.8ms\n",
      "27:\tlearn: 0.3026680\ttotal: 110ms\tremaining: 7.84ms\n",
      "28:\tlearn: 0.3013777\ttotal: 114ms\tremaining: 3.92ms\n",
      "29:\tlearn: 0.3003387\ttotal: 118ms\tremaining: 0us\n",
      "Learning rate set to 0.5\n",
      "0:\tlearn: 0.4993795\ttotal: 5.18ms\tremaining: 150ms\n",
      "1:\tlearn: 0.4289554\ttotal: 9.3ms\tremaining: 130ms\n",
      "2:\tlearn: 0.3892117\ttotal: 14.1ms\tremaining: 127ms\n",
      "3:\tlearn: 0.3682730\ttotal: 18.7ms\tremaining: 121ms\n",
      "4:\tlearn: 0.3558010\ttotal: 23.6ms\tremaining: 118ms\n",
      "5:\tlearn: 0.3506624\ttotal: 27.1ms\tremaining: 108ms\n",
      "6:\tlearn: 0.3443120\ttotal: 31.4ms\tremaining: 103ms\n",
      "7:\tlearn: 0.3398168\ttotal: 36.2ms\tremaining: 99.5ms\n",
      "8:\tlearn: 0.3382941\ttotal: 40.1ms\tremaining: 93.6ms\n",
      "9:\tlearn: 0.3327704\ttotal: 44.9ms\tremaining: 89.9ms\n",
      "10:\tlearn: 0.3310964\ttotal: 48.5ms\tremaining: 83.7ms\n",
      "11:\tlearn: 0.3285790\ttotal: 52.3ms\tremaining: 78.5ms\n",
      "12:\tlearn: 0.3264189\ttotal: 56.2ms\tremaining: 73.6ms\n",
      "13:\tlearn: 0.3246252\ttotal: 60.4ms\tremaining: 69ms\n",
      "14:\tlearn: 0.3241728\ttotal: 63.9ms\tremaining: 63.9ms\n",
      "15:\tlearn: 0.3230557\ttotal: 67.7ms\tremaining: 59.2ms\n",
      "16:\tlearn: 0.3211594\ttotal: 71.9ms\tremaining: 55ms\n",
      "17:\tlearn: 0.3194826\ttotal: 76.4ms\tremaining: 50.9ms\n",
      "18:\tlearn: 0.3171275\ttotal: 80.6ms\tremaining: 46.7ms\n",
      "19:\tlearn: 0.3147468\ttotal: 84.9ms\tremaining: 42.4ms\n",
      "20:\tlearn: 0.3068267\ttotal: 89.5ms\tremaining: 38.3ms\n",
      "21:\tlearn: 0.3048998\ttotal: 93.8ms\tremaining: 34.1ms\n",
      "22:\tlearn: 0.3033040\ttotal: 97.9ms\tremaining: 29.8ms\n",
      "23:\tlearn: 0.3029606\ttotal: 102ms\tremaining: 25.5ms\n",
      "24:\tlearn: 0.3022761\ttotal: 106ms\tremaining: 21.2ms\n",
      "25:\tlearn: 0.2986971\ttotal: 110ms\tremaining: 16.9ms\n",
      "26:\tlearn: 0.2983176\ttotal: 114ms\tremaining: 12.7ms\n",
      "27:\tlearn: 0.2956838\ttotal: 118ms\tremaining: 8.45ms\n",
      "28:\tlearn: 0.2938396\ttotal: 122ms\tremaining: 4.21ms\n",
      "29:\tlearn: 0.2935356\ttotal: 126ms\tremaining: 0us\n",
      "Learning rate set to 0.5\n",
      "0:\tlearn: 0.4905382\ttotal: 4.8ms\tremaining: 139ms\n",
      "1:\tlearn: 0.4184526\ttotal: 9.63ms\tremaining: 135ms\n",
      "2:\tlearn: 0.3874643\ttotal: 14ms\tremaining: 126ms\n",
      "3:\tlearn: 0.3656616\ttotal: 18.3ms\tremaining: 119ms\n",
      "4:\tlearn: 0.3536667\ttotal: 22.7ms\tremaining: 113ms\n",
      "5:\tlearn: 0.3389408\ttotal: 27.1ms\tremaining: 108ms\n",
      "6:\tlearn: 0.3324747\ttotal: 31.5ms\tremaining: 104ms\n",
      "7:\tlearn: 0.3298239\ttotal: 35ms\tremaining: 96.4ms\n",
      "8:\tlearn: 0.3277667\ttotal: 39.3ms\tremaining: 91.6ms\n",
      "9:\tlearn: 0.3237007\ttotal: 43.4ms\tremaining: 86.8ms\n",
      "10:\tlearn: 0.3198422\ttotal: 48ms\tremaining: 82.9ms\n",
      "11:\tlearn: 0.3151476\ttotal: 52.2ms\tremaining: 78.2ms\n",
      "12:\tlearn: 0.3144078\ttotal: 56.3ms\tremaining: 73.6ms\n",
      "13:\tlearn: 0.3118023\ttotal: 60.5ms\tremaining: 69.2ms\n",
      "14:\tlearn: 0.3102822\ttotal: 64.4ms\tremaining: 64.4ms\n",
      "15:\tlearn: 0.3095246\ttotal: 68.2ms\tremaining: 59.7ms\n",
      "16:\tlearn: 0.3088106\ttotal: 71.5ms\tremaining: 54.7ms\n",
      "17:\tlearn: 0.3073923\ttotal: 75.3ms\tremaining: 50.2ms\n",
      "18:\tlearn: 0.3067545\ttotal: 79.3ms\tremaining: 45.9ms\n",
      "19:\tlearn: 0.3034355\ttotal: 83.6ms\tremaining: 41.8ms\n",
      "20:\tlearn: 0.3024687\ttotal: 87.5ms\tremaining: 37.5ms\n",
      "21:\tlearn: 0.3013780\ttotal: 91.3ms\tremaining: 33.2ms\n",
      "22:\tlearn: 0.2977684\ttotal: 95.1ms\tremaining: 28.9ms\n",
      "23:\tlearn: 0.2944301\ttotal: 99.6ms\tremaining: 24.9ms\n",
      "24:\tlearn: 0.2914627\ttotal: 103ms\tremaining: 20.7ms\n",
      "25:\tlearn: 0.2887027\ttotal: 108ms\tremaining: 16.6ms\n",
      "26:\tlearn: 0.2865919\ttotal: 112ms\tremaining: 12.4ms\n",
      "27:\tlearn: 0.2846933\ttotal: 116ms\tremaining: 8.27ms\n",
      "28:\tlearn: 0.2843060\ttotal: 120ms\tremaining: 4.12ms\n",
      "29:\tlearn: 0.2833371\ttotal: 123ms\tremaining: 0us\n",
      "Learning rate set to 0.5\n",
      "0:\tlearn: 0.5029387\ttotal: 5.09ms\tremaining: 148ms\n",
      "1:\tlearn: 0.4250311\ttotal: 9.56ms\tremaining: 134ms\n",
      "2:\tlearn: 0.3913233\ttotal: 13.4ms\tremaining: 120ms\n",
      "3:\tlearn: 0.3653099\ttotal: 17.6ms\tremaining: 114ms\n",
      "4:\tlearn: 0.3504387\ttotal: 21.9ms\tremaining: 109ms\n",
      "5:\tlearn: 0.3455536\ttotal: 25.7ms\tremaining: 103ms\n",
      "6:\tlearn: 0.3401711\ttotal: 30.4ms\tremaining: 100ms\n",
      "7:\tlearn: 0.3342733\ttotal: 34.4ms\tremaining: 94.7ms\n",
      "8:\tlearn: 0.3288962\ttotal: 38.7ms\tremaining: 90.4ms\n",
      "9:\tlearn: 0.3238694\ttotal: 43.4ms\tremaining: 86.7ms\n",
      "10:\tlearn: 0.3199311\ttotal: 47.6ms\tremaining: 82.2ms\n",
      "11:\tlearn: 0.3184947\ttotal: 51.8ms\tremaining: 77.8ms\n",
      "12:\tlearn: 0.3160155\ttotal: 56ms\tremaining: 73.2ms\n",
      "13:\tlearn: 0.3141856\ttotal: 60ms\tremaining: 68.5ms\n",
      "14:\tlearn: 0.3124611\ttotal: 64.3ms\tremaining: 64.3ms\n",
      "15:\tlearn: 0.3114172\ttotal: 68.8ms\tremaining: 60.2ms\n",
      "16:\tlearn: 0.3085167\ttotal: 73.1ms\tremaining: 55.9ms\n",
      "17:\tlearn: 0.3041276\ttotal: 77.9ms\tremaining: 52ms\n",
      "18:\tlearn: 0.3018576\ttotal: 82.4ms\tremaining: 47.7ms\n",
      "19:\tlearn: 0.3012311\ttotal: 86.3ms\tremaining: 43.1ms\n",
      "20:\tlearn: 0.2988834\ttotal: 90.3ms\tremaining: 38.7ms\n",
      "21:\tlearn: 0.2980551\ttotal: 94.6ms\tremaining: 34.4ms\n",
      "22:\tlearn: 0.2969826\ttotal: 98.8ms\tremaining: 30.1ms\n",
      "23:\tlearn: 0.2962672\ttotal: 103ms\tremaining: 25.7ms\n",
      "24:\tlearn: 0.2951848\ttotal: 107ms\tremaining: 21.5ms\n",
      "25:\tlearn: 0.2950502\ttotal: 111ms\tremaining: 17.1ms\n",
      "26:\tlearn: 0.2948991\ttotal: 115ms\tremaining: 12.8ms\n",
      "27:\tlearn: 0.2937916\ttotal: 119ms\tremaining: 8.49ms\n",
      "28:\tlearn: 0.2933935\ttotal: 123ms\tremaining: 4.25ms\n",
      "29:\tlearn: 0.2922359\ttotal: 127ms\tremaining: 0us\n",
      "Learning rate set to 0.5\n",
      "0:\tlearn: 0.4946500\ttotal: 10.6ms\tremaining: 95.2ms\n",
      "1:\tlearn: 0.4170874\ttotal: 19.5ms\tremaining: 77.8ms\n",
      "2:\tlearn: 0.3769082\ttotal: 27.9ms\tremaining: 65.2ms\n",
      "3:\tlearn: 0.3571070\ttotal: 35.9ms\tremaining: 53.9ms\n",
      "4:\tlearn: 0.3450489\ttotal: 44.9ms\tremaining: 44.9ms\n",
      "5:\tlearn: 0.3338671\ttotal: 53.7ms\tremaining: 35.8ms\n",
      "6:\tlearn: 0.3270096\ttotal: 62.4ms\tremaining: 26.7ms\n",
      "7:\tlearn: 0.3219419\ttotal: 71.2ms\tremaining: 17.8ms\n",
      "8:\tlearn: 0.3186594\ttotal: 78.9ms\tremaining: 8.77ms\n",
      "9:\tlearn: 0.3164896\ttotal: 86ms\tremaining: 0us\n",
      "Learning rate set to 0.5\n",
      "0:\tlearn: 0.4960898\ttotal: 10.3ms\tremaining: 92.9ms\n",
      "1:\tlearn: 0.4185438\ttotal: 19.3ms\tremaining: 77.1ms\n",
      "2:\tlearn: 0.3787928\ttotal: 27.5ms\tremaining: 64.1ms\n",
      "3:\tlearn: 0.3610253\ttotal: 36.5ms\tremaining: 54.7ms\n",
      "4:\tlearn: 0.3485444\ttotal: 44.3ms\tremaining: 44.3ms\n",
      "5:\tlearn: 0.3407808\ttotal: 53.5ms\tremaining: 35.7ms\n",
      "6:\tlearn: 0.3341779\ttotal: 60.5ms\tremaining: 25.9ms\n",
      "7:\tlearn: 0.3246891\ttotal: 68.6ms\tremaining: 17.1ms\n",
      "8:\tlearn: 0.3216056\ttotal: 75.1ms\tremaining: 8.35ms\n",
      "9:\tlearn: 0.3150440\ttotal: 83.4ms\tremaining: 0us\n",
      "Learning rate set to 0.5\n",
      "0:\tlearn: 0.4973684\ttotal: 10.1ms\tremaining: 90.9ms\n",
      "1:\tlearn: 0.4164847\ttotal: 19.5ms\tremaining: 77.9ms\n",
      "2:\tlearn: 0.3827878\ttotal: 28.4ms\tremaining: 66.2ms\n",
      "3:\tlearn: 0.3640067\ttotal: 36.8ms\tremaining: 55.2ms\n",
      "4:\tlearn: 0.3470106\ttotal: 43.8ms\tremaining: 43.8ms\n",
      "5:\tlearn: 0.3394117\ttotal: 51.1ms\tremaining: 34.1ms\n",
      "6:\tlearn: 0.3349980\ttotal: 58.5ms\tremaining: 25.1ms\n",
      "7:\tlearn: 0.3267591\ttotal: 66ms\tremaining: 16.5ms\n",
      "8:\tlearn: 0.3216446\ttotal: 75.9ms\tremaining: 8.44ms\n",
      "9:\tlearn: 0.3179753\ttotal: 83.4ms\tremaining: 0us\n",
      "Learning rate set to 0.5\n",
      "0:\tlearn: 0.4909229\ttotal: 8.71ms\tremaining: 78.4ms\n",
      "1:\tlearn: 0.4129971\ttotal: 17.1ms\tremaining: 68.3ms\n",
      "2:\tlearn: 0.3746859\ttotal: 25.6ms\tremaining: 59.7ms\n",
      "3:\tlearn: 0.3562368\ttotal: 34.3ms\tremaining: 51.4ms\n",
      "4:\tlearn: 0.3374771\ttotal: 43.4ms\tremaining: 43.4ms\n",
      "5:\tlearn: 0.3271155\ttotal: 51.8ms\tremaining: 34.5ms\n",
      "6:\tlearn: 0.3195518\ttotal: 61.7ms\tremaining: 26.4ms\n",
      "7:\tlearn: 0.3121602\ttotal: 70.6ms\tremaining: 17.7ms\n",
      "8:\tlearn: 0.3100641\ttotal: 77.2ms\tremaining: 8.58ms\n",
      "9:\tlearn: 0.3059152\ttotal: 85ms\tremaining: 0us\n",
      "Learning rate set to 0.5\n",
      "0:\tlearn: 0.5028095\ttotal: 10.5ms\tremaining: 94.2ms\n",
      "1:\tlearn: 0.4234278\ttotal: 20.9ms\tremaining: 83.5ms\n",
      "2:\tlearn: 0.3833332\ttotal: 28.6ms\tremaining: 66.7ms\n",
      "3:\tlearn: 0.3585179\ttotal: 36.8ms\tremaining: 55.2ms\n",
      "4:\tlearn: 0.3435891\ttotal: 45.5ms\tremaining: 45.5ms\n",
      "5:\tlearn: 0.3347046\ttotal: 54.8ms\tremaining: 36.5ms\n",
      "6:\tlearn: 0.3281628\ttotal: 64.3ms\tremaining: 27.6ms\n",
      "7:\tlearn: 0.3244465\ttotal: 72ms\tremaining: 18ms\n",
      "8:\tlearn: 0.3189256\ttotal: 82.1ms\tremaining: 9.12ms\n",
      "9:\tlearn: 0.3144171\ttotal: 92.3ms\tremaining: 0us\n",
      "Learning rate set to 0.5\n",
      "0:\tlearn: 0.4946500\ttotal: 10.3ms\tremaining: 195ms\n",
      "1:\tlearn: 0.4170874\ttotal: 19ms\tremaining: 171ms\n",
      "2:\tlearn: 0.3769082\ttotal: 27ms\tremaining: 153ms\n",
      "3:\tlearn: 0.3571070\ttotal: 35.1ms\tremaining: 140ms\n",
      "4:\tlearn: 0.3450489\ttotal: 43.8ms\tremaining: 131ms\n",
      "5:\tlearn: 0.3338671\ttotal: 52ms\tremaining: 121ms\n",
      "6:\tlearn: 0.3270096\ttotal: 60.1ms\tremaining: 112ms\n",
      "7:\tlearn: 0.3219419\ttotal: 67.6ms\tremaining: 101ms\n",
      "8:\tlearn: 0.3186594\ttotal: 74.7ms\tremaining: 91.2ms\n",
      "9:\tlearn: 0.3164896\ttotal: 81.3ms\tremaining: 81.3ms\n",
      "10:\tlearn: 0.3145922\ttotal: 89.2ms\tremaining: 73ms\n",
      "11:\tlearn: 0.3115126\ttotal: 98ms\tremaining: 65.4ms\n",
      "12:\tlearn: 0.3094102\ttotal: 105ms\tremaining: 56.6ms\n",
      "13:\tlearn: 0.3070834\ttotal: 111ms\tremaining: 47.6ms\n",
      "14:\tlearn: 0.3026098\ttotal: 118ms\tremaining: 39.4ms\n",
      "15:\tlearn: 0.3013504\ttotal: 126ms\tremaining: 31.4ms\n",
      "16:\tlearn: 0.3003443\ttotal: 132ms\tremaining: 23.2ms\n",
      "17:\tlearn: 0.2948464\ttotal: 140ms\tremaining: 15.6ms\n",
      "18:\tlearn: 0.2914300\ttotal: 147ms\tremaining: 7.72ms\n",
      "19:\tlearn: 0.2907381\ttotal: 152ms\tremaining: 0us\n",
      "Learning rate set to 0.5\n",
      "0:\tlearn: 0.4960898\ttotal: 10.2ms\tremaining: 194ms\n",
      "1:\tlearn: 0.4185438\ttotal: 19.2ms\tremaining: 173ms\n",
      "2:\tlearn: 0.3787928\ttotal: 27.1ms\tremaining: 153ms\n",
      "3:\tlearn: 0.3610253\ttotal: 35.9ms\tremaining: 144ms\n",
      "4:\tlearn: 0.3485444\ttotal: 43.7ms\tremaining: 131ms\n",
      "5:\tlearn: 0.3407808\ttotal: 53.5ms\tremaining: 125ms\n",
      "6:\tlearn: 0.3341779\ttotal: 60.8ms\tremaining: 113ms\n",
      "7:\tlearn: 0.3246891\ttotal: 69.7ms\tremaining: 105ms\n",
      "8:\tlearn: 0.3216056\ttotal: 76.1ms\tremaining: 93.1ms\n",
      "9:\tlearn: 0.3150440\ttotal: 85.1ms\tremaining: 85.1ms\n",
      "10:\tlearn: 0.3129591\ttotal: 91.9ms\tremaining: 75.2ms\n",
      "11:\tlearn: 0.3107559\ttotal: 99.9ms\tremaining: 66.6ms\n",
      "12:\tlearn: 0.3090577\ttotal: 106ms\tremaining: 57ms\n",
      "13:\tlearn: 0.3077257\ttotal: 112ms\tremaining: 48.1ms\n",
      "14:\tlearn: 0.3034121\ttotal: 121ms\tremaining: 40.4ms\n",
      "15:\tlearn: 0.3008286\ttotal: 130ms\tremaining: 32.5ms\n",
      "16:\tlearn: 0.2990863\ttotal: 138ms\tremaining: 24.3ms\n",
      "17:\tlearn: 0.2977722\ttotal: 144ms\tremaining: 16ms\n",
      "18:\tlearn: 0.2963679\ttotal: 150ms\tremaining: 7.92ms\n",
      "19:\tlearn: 0.2945996\ttotal: 158ms\tremaining: 0us\n",
      "Learning rate set to 0.5\n",
      "0:\tlearn: 0.4973684\ttotal: 10.1ms\tremaining: 192ms\n",
      "1:\tlearn: 0.4164847\ttotal: 18.4ms\tremaining: 166ms\n",
      "2:\tlearn: 0.3827878\ttotal: 27.3ms\tremaining: 155ms\n",
      "3:\tlearn: 0.3640067\ttotal: 40.9ms\tremaining: 164ms\n",
      "4:\tlearn: 0.3470106\ttotal: 52.6ms\tremaining: 158ms\n",
      "5:\tlearn: 0.3394117\ttotal: 62ms\tremaining: 145ms\n",
      "6:\tlearn: 0.3349980\ttotal: 69.4ms\tremaining: 129ms\n",
      "7:\tlearn: 0.3267591\ttotal: 76.8ms\tremaining: 115ms\n",
      "8:\tlearn: 0.3216446\ttotal: 86.8ms\tremaining: 106ms\n",
      "9:\tlearn: 0.3179753\ttotal: 94.7ms\tremaining: 94.7ms\n",
      "10:\tlearn: 0.3111812\ttotal: 104ms\tremaining: 85ms\n",
      "11:\tlearn: 0.3088746\ttotal: 111ms\tremaining: 74.3ms\n",
      "12:\tlearn: 0.3062831\ttotal: 119ms\tremaining: 64.2ms\n",
      "13:\tlearn: 0.3038861\ttotal: 128ms\tremaining: 54.7ms\n",
      "14:\tlearn: 0.3011865\ttotal: 135ms\tremaining: 45.1ms\n",
      "15:\tlearn: 0.2998841\ttotal: 144ms\tremaining: 35.9ms\n",
      "16:\tlearn: 0.2975417\ttotal: 152ms\tremaining: 26.9ms\n",
      "17:\tlearn: 0.2955084\ttotal: 160ms\tremaining: 17.8ms\n",
      "18:\tlearn: 0.2940442\ttotal: 168ms\tremaining: 8.86ms\n",
      "19:\tlearn: 0.2916949\ttotal: 176ms\tremaining: 0us\n",
      "Learning rate set to 0.5\n",
      "0:\tlearn: 0.4909229\ttotal: 13ms\tremaining: 247ms\n",
      "1:\tlearn: 0.4129971\ttotal: 25.4ms\tremaining: 228ms\n",
      "2:\tlearn: 0.3746859\ttotal: 35.4ms\tremaining: 201ms\n",
      "3:\tlearn: 0.3562368\ttotal: 44.4ms\tremaining: 178ms\n",
      "4:\tlearn: 0.3374771\ttotal: 53.8ms\tremaining: 161ms\n",
      "5:\tlearn: 0.3271155\ttotal: 62.9ms\tremaining: 147ms\n",
      "6:\tlearn: 0.3195518\ttotal: 72.9ms\tremaining: 135ms\n",
      "7:\tlearn: 0.3121602\ttotal: 82.1ms\tremaining: 123ms\n",
      "8:\tlearn: 0.3100641\ttotal: 89.5ms\tremaining: 109ms\n",
      "9:\tlearn: 0.3059152\ttotal: 98ms\tremaining: 98ms\n",
      "10:\tlearn: 0.3005763\ttotal: 108ms\tremaining: 88.5ms\n",
      "11:\tlearn: 0.2994662\ttotal: 114ms\tremaining: 76.1ms\n",
      "12:\tlearn: 0.2968148\ttotal: 122ms\tremaining: 65.8ms\n",
      "13:\tlearn: 0.2953673\ttotal: 130ms\tremaining: 55.6ms\n",
      "14:\tlearn: 0.2928375\ttotal: 139ms\tremaining: 46.3ms\n",
      "15:\tlearn: 0.2914887\ttotal: 145ms\tremaining: 36.3ms\n",
      "16:\tlearn: 0.2871899\ttotal: 154ms\tremaining: 27.1ms\n",
      "17:\tlearn: 0.2843692\ttotal: 161ms\tremaining: 17.9ms\n",
      "18:\tlearn: 0.2813194\ttotal: 171ms\tremaining: 8.98ms\n",
      "19:\tlearn: 0.2804557\ttotal: 178ms\tremaining: 0us\n",
      "Learning rate set to 0.5\n",
      "0:\tlearn: 0.5028095\ttotal: 9.87ms\tremaining: 187ms\n",
      "1:\tlearn: 0.4234278\ttotal: 20ms\tremaining: 180ms\n",
      "2:\tlearn: 0.3833332\ttotal: 27.4ms\tremaining: 155ms\n",
      "3:\tlearn: 0.3585179\ttotal: 35.6ms\tremaining: 142ms\n",
      "4:\tlearn: 0.3435891\ttotal: 43.9ms\tremaining: 132ms\n",
      "5:\tlearn: 0.3347046\ttotal: 51.8ms\tremaining: 121ms\n",
      "6:\tlearn: 0.3281628\ttotal: 59.6ms\tremaining: 111ms\n",
      "7:\tlearn: 0.3244465\ttotal: 66.3ms\tremaining: 99.5ms\n",
      "8:\tlearn: 0.3189256\ttotal: 75.7ms\tremaining: 92.5ms\n",
      "9:\tlearn: 0.3144171\ttotal: 84.8ms\tremaining: 84.8ms\n",
      "10:\tlearn: 0.3089320\ttotal: 92.1ms\tremaining: 75.4ms\n",
      "11:\tlearn: 0.3045985\ttotal: 99.4ms\tremaining: 66.3ms\n",
      "12:\tlearn: 0.3023214\ttotal: 107ms\tremaining: 57.5ms\n",
      "13:\tlearn: 0.3016817\ttotal: 114ms\tremaining: 48.8ms\n",
      "14:\tlearn: 0.3010940\ttotal: 121ms\tremaining: 40.3ms\n",
      "15:\tlearn: 0.2978284\ttotal: 129ms\tremaining: 32.2ms\n",
      "16:\tlearn: 0.2927091\ttotal: 139ms\tremaining: 24.6ms\n",
      "17:\tlearn: 0.2899125\ttotal: 148ms\tremaining: 16.4ms\n",
      "18:\tlearn: 0.2870356\ttotal: 156ms\tremaining: 8.22ms\n",
      "19:\tlearn: 0.2843562\ttotal: 165ms\tremaining: 0us\n",
      "Learning rate set to 0.5\n",
      "0:\tlearn: 0.4946500\ttotal: 9.8ms\tremaining: 284ms\n",
      "1:\tlearn: 0.4170874\ttotal: 18.8ms\tremaining: 263ms\n",
      "2:\tlearn: 0.3769082\ttotal: 27.2ms\tremaining: 245ms\n",
      "3:\tlearn: 0.3571070\ttotal: 35.9ms\tremaining: 233ms\n",
      "4:\tlearn: 0.3450489\ttotal: 45.7ms\tremaining: 228ms\n",
      "5:\tlearn: 0.3338671\ttotal: 54.3ms\tremaining: 217ms\n",
      "6:\tlearn: 0.3270096\ttotal: 62.5ms\tremaining: 205ms\n",
      "7:\tlearn: 0.3219419\ttotal: 70.2ms\tremaining: 193ms\n",
      "8:\tlearn: 0.3186594\ttotal: 78.5ms\tremaining: 183ms\n",
      "9:\tlearn: 0.3164896\ttotal: 86.1ms\tremaining: 172ms\n",
      "10:\tlearn: 0.3145922\ttotal: 95.2ms\tremaining: 164ms\n",
      "11:\tlearn: 0.3115126\ttotal: 106ms\tremaining: 159ms\n",
      "12:\tlearn: 0.3094102\ttotal: 113ms\tremaining: 148ms\n",
      "13:\tlearn: 0.3070834\ttotal: 119ms\tremaining: 136ms\n",
      "14:\tlearn: 0.3026098\ttotal: 126ms\tremaining: 126ms\n",
      "15:\tlearn: 0.3013504\ttotal: 134ms\tremaining: 118ms\n",
      "16:\tlearn: 0.3003443\ttotal: 141ms\tremaining: 108ms\n",
      "17:\tlearn: 0.2948464\ttotal: 149ms\tremaining: 99.5ms\n",
      "18:\tlearn: 0.2914300\ttotal: 156ms\tremaining: 90.5ms\n",
      "19:\tlearn: 0.2907381\ttotal: 162ms\tremaining: 80.9ms\n",
      "20:\tlearn: 0.2886167\ttotal: 169ms\tremaining: 72.4ms\n",
      "21:\tlearn: 0.2870484\ttotal: 176ms\tremaining: 64ms\n",
      "22:\tlearn: 0.2854281\ttotal: 182ms\tremaining: 55.4ms\n",
      "23:\tlearn: 0.2831330\ttotal: 192ms\tremaining: 47.9ms\n",
      "24:\tlearn: 0.2813722\ttotal: 201ms\tremaining: 40.1ms\n",
      "25:\tlearn: 0.2783259\ttotal: 209ms\tremaining: 32.2ms\n",
      "26:\tlearn: 0.2744675\ttotal: 218ms\tremaining: 24.2ms\n",
      "27:\tlearn: 0.2683428\ttotal: 228ms\tremaining: 16.3ms\n",
      "28:\tlearn: 0.2645209\ttotal: 236ms\tremaining: 8.15ms\n",
      "29:\tlearn: 0.2639351\ttotal: 243ms\tremaining: 0us\n",
      "Learning rate set to 0.5\n",
      "0:\tlearn: 0.4960898\ttotal: 16.2ms\tremaining: 471ms\n",
      "1:\tlearn: 0.4185438\ttotal: 30.6ms\tremaining: 428ms\n",
      "2:\tlearn: 0.3787928\ttotal: 43.4ms\tremaining: 391ms\n",
      "3:\tlearn: 0.3610253\ttotal: 57.9ms\tremaining: 376ms\n",
      "4:\tlearn: 0.3485444\ttotal: 67.1ms\tremaining: 335ms\n",
      "5:\tlearn: 0.3407808\ttotal: 77ms\tremaining: 308ms\n",
      "6:\tlearn: 0.3341779\ttotal: 84.7ms\tremaining: 278ms\n",
      "7:\tlearn: 0.3246891\ttotal: 93.6ms\tremaining: 257ms\n",
      "8:\tlearn: 0.3216056\ttotal: 101ms\tremaining: 235ms\n",
      "9:\tlearn: 0.3150440\ttotal: 110ms\tremaining: 221ms\n",
      "10:\tlearn: 0.3129591\ttotal: 118ms\tremaining: 203ms\n",
      "11:\tlearn: 0.3107559\ttotal: 126ms\tremaining: 190ms\n",
      "12:\tlearn: 0.3090577\ttotal: 133ms\tremaining: 174ms\n",
      "13:\tlearn: 0.3077257\ttotal: 139ms\tremaining: 158ms\n",
      "14:\tlearn: 0.3034121\ttotal: 148ms\tremaining: 148ms\n",
      "15:\tlearn: 0.3008286\ttotal: 155ms\tremaining: 136ms\n",
      "16:\tlearn: 0.2990863\ttotal: 164ms\tremaining: 125ms\n",
      "17:\tlearn: 0.2977722\ttotal: 170ms\tremaining: 113ms\n",
      "18:\tlearn: 0.2963679\ttotal: 177ms\tremaining: 102ms\n",
      "19:\tlearn: 0.2945996\ttotal: 184ms\tremaining: 92ms\n",
      "20:\tlearn: 0.2925834\ttotal: 192ms\tremaining: 82.2ms\n",
      "21:\tlearn: 0.2908176\ttotal: 198ms\tremaining: 72.1ms\n",
      "22:\tlearn: 0.2854760\ttotal: 206ms\tremaining: 62.7ms\n",
      "23:\tlearn: 0.2841199\ttotal: 214ms\tremaining: 53.5ms\n",
      "24:\tlearn: 0.2816172\ttotal: 222ms\tremaining: 44.5ms\n",
      "25:\tlearn: 0.2804326\ttotal: 229ms\tremaining: 35.3ms\n",
      "26:\tlearn: 0.2786589\ttotal: 237ms\tremaining: 26.3ms\n",
      "27:\tlearn: 0.2759972\ttotal: 244ms\tremaining: 17.4ms\n",
      "28:\tlearn: 0.2753462\ttotal: 251ms\tremaining: 8.64ms\n",
      "29:\tlearn: 0.2739416\ttotal: 259ms\tremaining: 0us\n",
      "Learning rate set to 0.5\n",
      "0:\tlearn: 0.4973684\ttotal: 9.61ms\tremaining: 279ms\n",
      "1:\tlearn: 0.4164847\ttotal: 17.8ms\tremaining: 249ms\n",
      "2:\tlearn: 0.3827878\ttotal: 26.2ms\tremaining: 236ms\n",
      "3:\tlearn: 0.3640067\ttotal: 34.2ms\tremaining: 222ms\n",
      "4:\tlearn: 0.3470106\ttotal: 41.7ms\tremaining: 209ms\n",
      "5:\tlearn: 0.3394117\ttotal: 49.7ms\tremaining: 199ms\n",
      "6:\tlearn: 0.3349980\ttotal: 57ms\tremaining: 187ms\n",
      "7:\tlearn: 0.3267591\ttotal: 64.2ms\tremaining: 176ms\n",
      "8:\tlearn: 0.3216446\ttotal: 73.6ms\tremaining: 172ms\n",
      "9:\tlearn: 0.3179753\ttotal: 80.6ms\tremaining: 161ms\n",
      "10:\tlearn: 0.3111812\ttotal: 89ms\tremaining: 154ms\n",
      "11:\tlearn: 0.3088746\ttotal: 96.1ms\tremaining: 144ms\n",
      "12:\tlearn: 0.3062831\ttotal: 103ms\tremaining: 135ms\n",
      "13:\tlearn: 0.3038861\ttotal: 111ms\tremaining: 127ms\n",
      "14:\tlearn: 0.3011865\ttotal: 119ms\tremaining: 119ms\n",
      "15:\tlearn: 0.2998841\ttotal: 127ms\tremaining: 111ms\n",
      "16:\tlearn: 0.2975417\ttotal: 135ms\tremaining: 103ms\n",
      "17:\tlearn: 0.2955084\ttotal: 143ms\tremaining: 95.2ms\n",
      "18:\tlearn: 0.2940442\ttotal: 150ms\tremaining: 86.9ms\n",
      "19:\tlearn: 0.2916949\ttotal: 158ms\tremaining: 78.9ms\n",
      "20:\tlearn: 0.2839950\ttotal: 168ms\tremaining: 72.1ms\n",
      "21:\tlearn: 0.2803808\ttotal: 175ms\tremaining: 63.7ms\n",
      "22:\tlearn: 0.2796619\ttotal: 180ms\tremaining: 54.8ms\n",
      "23:\tlearn: 0.2793469\ttotal: 186ms\tremaining: 46.4ms\n",
      "24:\tlearn: 0.2742082\ttotal: 193ms\tremaining: 38.6ms\n",
      "25:\tlearn: 0.2723624\ttotal: 201ms\tremaining: 30.9ms\n",
      "26:\tlearn: 0.2693894\ttotal: 209ms\tremaining: 23.3ms\n",
      "27:\tlearn: 0.2691544\ttotal: 214ms\tremaining: 15.3ms\n",
      "28:\tlearn: 0.2689995\ttotal: 220ms\tremaining: 7.58ms\n",
      "29:\tlearn: 0.2671782\ttotal: 228ms\tremaining: 0us\n",
      "Learning rate set to 0.5\n",
      "0:\tlearn: 0.4909229\ttotal: 8.39ms\tremaining: 243ms\n",
      "1:\tlearn: 0.4129971\ttotal: 17ms\tremaining: 239ms\n",
      "2:\tlearn: 0.3746859\ttotal: 26.1ms\tremaining: 235ms\n",
      "3:\tlearn: 0.3562368\ttotal: 34.5ms\tremaining: 224ms\n",
      "4:\tlearn: 0.3374771\ttotal: 43.5ms\tremaining: 218ms\n",
      "5:\tlearn: 0.3271155\ttotal: 52.3ms\tremaining: 209ms\n",
      "6:\tlearn: 0.3195518\ttotal: 62.1ms\tremaining: 204ms\n",
      "7:\tlearn: 0.3121602\ttotal: 71.1ms\tremaining: 195ms\n",
      "8:\tlearn: 0.3100641\ttotal: 78ms\tremaining: 182ms\n",
      "9:\tlearn: 0.3059152\ttotal: 86.1ms\tremaining: 172ms\n",
      "10:\tlearn: 0.3005763\ttotal: 95.5ms\tremaining: 165ms\n",
      "11:\tlearn: 0.2994662\ttotal: 101ms\tremaining: 151ms\n",
      "12:\tlearn: 0.2968148\ttotal: 108ms\tremaining: 141ms\n",
      "13:\tlearn: 0.2953673\ttotal: 115ms\tremaining: 131ms\n",
      "14:\tlearn: 0.2928375\ttotal: 123ms\tremaining: 123ms\n",
      "15:\tlearn: 0.2914887\ttotal: 129ms\tremaining: 113ms\n",
      "16:\tlearn: 0.2871899\ttotal: 137ms\tremaining: 105ms\n",
      "17:\tlearn: 0.2843692\ttotal: 144ms\tremaining: 96.2ms\n",
      "18:\tlearn: 0.2813194\ttotal: 154ms\tremaining: 89.4ms\n",
      "19:\tlearn: 0.2804557\ttotal: 161ms\tremaining: 80.5ms\n",
      "20:\tlearn: 0.2781611\ttotal: 169ms\tremaining: 72.5ms\n",
      "21:\tlearn: 0.2771123\ttotal: 177ms\tremaining: 64.3ms\n",
      "22:\tlearn: 0.2719825\ttotal: 185ms\tremaining: 56.3ms\n",
      "23:\tlearn: 0.2694884\ttotal: 192ms\tremaining: 48.1ms\n",
      "24:\tlearn: 0.2679761\ttotal: 200ms\tremaining: 40.1ms\n",
      "25:\tlearn: 0.2638248\ttotal: 210ms\tremaining: 32.4ms\n",
      "26:\tlearn: 0.2614203\ttotal: 220ms\tremaining: 24.4ms\n",
      "27:\tlearn: 0.2595818\ttotal: 228ms\tremaining: 16.3ms\n",
      "28:\tlearn: 0.2572462\ttotal: 236ms\tremaining: 8.15ms\n",
      "29:\tlearn: 0.2534424\ttotal: 243ms\tremaining: 0us\n",
      "Learning rate set to 0.5\n",
      "0:\tlearn: 0.5028095\ttotal: 10.3ms\tremaining: 298ms\n",
      "1:\tlearn: 0.4234278\ttotal: 20.1ms\tremaining: 281ms\n",
      "2:\tlearn: 0.3833332\ttotal: 27ms\tremaining: 243ms\n",
      "3:\tlearn: 0.3585179\ttotal: 34.7ms\tremaining: 226ms\n",
      "4:\tlearn: 0.3435891\ttotal: 43.4ms\tremaining: 217ms\n",
      "5:\tlearn: 0.3347046\ttotal: 51.8ms\tremaining: 207ms\n",
      "6:\tlearn: 0.3281628\ttotal: 60.2ms\tremaining: 198ms\n",
      "7:\tlearn: 0.3244465\ttotal: 67.6ms\tremaining: 186ms\n",
      "8:\tlearn: 0.3189256\ttotal: 77.6ms\tremaining: 181ms\n",
      "9:\tlearn: 0.3144171\ttotal: 87.3ms\tremaining: 175ms\n",
      "10:\tlearn: 0.3089320\ttotal: 94.6ms\tremaining: 163ms\n",
      "11:\tlearn: 0.3045985\ttotal: 101ms\tremaining: 152ms\n",
      "12:\tlearn: 0.3023214\ttotal: 109ms\tremaining: 142ms\n",
      "13:\tlearn: 0.3016817\ttotal: 116ms\tremaining: 132ms\n",
      "14:\tlearn: 0.3010940\ttotal: 123ms\tremaining: 123ms\n",
      "15:\tlearn: 0.2978284\ttotal: 130ms\tremaining: 114ms\n",
      "16:\tlearn: 0.2927091\ttotal: 140ms\tremaining: 107ms\n",
      "17:\tlearn: 0.2899125\ttotal: 147ms\tremaining: 98.3ms\n",
      "18:\tlearn: 0.2870356\ttotal: 155ms\tremaining: 89.9ms\n",
      "19:\tlearn: 0.2843562\ttotal: 163ms\tremaining: 81.7ms\n",
      "20:\tlearn: 0.2823984\ttotal: 171ms\tremaining: 73.1ms\n",
      "21:\tlearn: 0.2787982\ttotal: 179ms\tremaining: 64.9ms\n",
      "22:\tlearn: 0.2734299\ttotal: 189ms\tremaining: 57.4ms\n",
      "23:\tlearn: 0.2682287\ttotal: 197ms\tremaining: 49.3ms\n",
      "24:\tlearn: 0.2675956\ttotal: 204ms\tremaining: 40.9ms\n",
      "25:\tlearn: 0.2656431\ttotal: 212ms\tremaining: 32.6ms\n",
      "26:\tlearn: 0.2649405\ttotal: 220ms\tremaining: 24.5ms\n",
      "27:\tlearn: 0.2624414\ttotal: 229ms\tremaining: 16.4ms\n",
      "28:\tlearn: 0.2620990\ttotal: 238ms\tremaining: 8.19ms\n",
      "29:\tlearn: 0.2593944\ttotal: 247ms\tremaining: 0us\n",
      "Learning rate set to 0.5\n",
      "0:\tlearn: 0.4961333\ttotal: 22ms\tremaining: 198ms\n",
      "1:\tlearn: 0.4154257\ttotal: 40.2ms\tremaining: 161ms\n",
      "2:\tlearn: 0.3750214\ttotal: 56.5ms\tremaining: 132ms\n",
      "3:\tlearn: 0.3532423\ttotal: 72.4ms\tremaining: 109ms\n",
      "4:\tlearn: 0.3359302\ttotal: 86.9ms\tremaining: 86.9ms\n",
      "5:\tlearn: 0.3248022\ttotal: 105ms\tremaining: 70.2ms\n",
      "6:\tlearn: 0.3151936\ttotal: 123ms\tremaining: 52.6ms\n",
      "7:\tlearn: 0.3085916\ttotal: 138ms\tremaining: 34.5ms\n",
      "8:\tlearn: 0.2991168\ttotal: 157ms\tremaining: 17.4ms\n",
      "9:\tlearn: 0.2924963\ttotal: 177ms\tremaining: 0us\n",
      "Learning rate set to 0.5\n",
      "0:\tlearn: 0.4963174\ttotal: 19.8ms\tremaining: 178ms\n",
      "1:\tlearn: 0.4139136\ttotal: 34.9ms\tremaining: 140ms\n",
      "2:\tlearn: 0.3720940\ttotal: 49.1ms\tremaining: 115ms\n",
      "3:\tlearn: 0.3487421\ttotal: 66.6ms\tremaining: 99.9ms\n",
      "4:\tlearn: 0.3351681\ttotal: 81.6ms\tremaining: 81.6ms\n",
      "5:\tlearn: 0.3219528\ttotal: 96.9ms\tremaining: 64.6ms\n",
      "6:\tlearn: 0.3140010\ttotal: 111ms\tremaining: 47.6ms\n",
      "7:\tlearn: 0.3083516\ttotal: 127ms\tremaining: 31.7ms\n",
      "8:\tlearn: 0.3027939\ttotal: 142ms\tremaining: 15.7ms\n",
      "9:\tlearn: 0.3004605\ttotal: 153ms\tremaining: 0us\n",
      "Learning rate set to 0.5\n",
      "0:\tlearn: 0.4981516\ttotal: 30.9ms\tremaining: 278ms\n",
      "1:\tlearn: 0.4184823\ttotal: 47.1ms\tremaining: 188ms\n",
      "2:\tlearn: 0.3756054\ttotal: 65.1ms\tremaining: 152ms\n",
      "3:\tlearn: 0.3489703\ttotal: 82.1ms\tremaining: 123ms\n",
      "4:\tlearn: 0.3333118\ttotal: 98.2ms\tremaining: 98.2ms\n",
      "5:\tlearn: 0.3235815\ttotal: 116ms\tremaining: 77.3ms\n",
      "6:\tlearn: 0.3151706\ttotal: 127ms\tremaining: 54.3ms\n",
      "7:\tlearn: 0.3078887\ttotal: 145ms\tremaining: 36.3ms\n",
      "8:\tlearn: 0.3043320\ttotal: 159ms\tremaining: 17.6ms\n",
      "9:\tlearn: 0.2974146\ttotal: 172ms\tremaining: 0us\n",
      "Learning rate set to 0.5\n",
      "0:\tlearn: 0.4913850\ttotal: 14.8ms\tremaining: 133ms\n",
      "1:\tlearn: 0.4094368\ttotal: 30.8ms\tremaining: 123ms\n",
      "2:\tlearn: 0.3645690\ttotal: 47.9ms\tremaining: 112ms\n",
      "3:\tlearn: 0.3416517\ttotal: 63.4ms\tremaining: 95.1ms\n",
      "4:\tlearn: 0.3266543\ttotal: 79.7ms\tremaining: 79.7ms\n",
      "5:\tlearn: 0.3198164\ttotal: 91.6ms\tremaining: 61ms\n",
      "6:\tlearn: 0.3091587\ttotal: 110ms\tremaining: 47.1ms\n",
      "7:\tlearn: 0.3018482\ttotal: 125ms\tremaining: 31.3ms\n",
      "8:\tlearn: 0.2979443\ttotal: 137ms\tremaining: 15.3ms\n",
      "9:\tlearn: 0.2903956\ttotal: 154ms\tremaining: 0us\n",
      "Learning rate set to 0.5\n",
      "0:\tlearn: 0.5029489\ttotal: 18.9ms\tremaining: 170ms\n",
      "1:\tlearn: 0.4156601\ttotal: 31.6ms\tremaining: 126ms\n",
      "2:\tlearn: 0.3708276\ttotal: 51.4ms\tremaining: 120ms\n",
      "3:\tlearn: 0.3448338\ttotal: 69.3ms\tremaining: 104ms\n",
      "4:\tlearn: 0.3286893\ttotal: 89.1ms\tremaining: 89.1ms\n",
      "5:\tlearn: 0.3164979\ttotal: 106ms\tremaining: 70.9ms\n",
      "6:\tlearn: 0.3102130\ttotal: 122ms\tremaining: 52.5ms\n",
      "7:\tlearn: 0.3028873\ttotal: 139ms\tremaining: 34.7ms\n",
      "8:\tlearn: 0.2940317\ttotal: 153ms\tremaining: 17ms\n",
      "9:\tlearn: 0.2887186\ttotal: 168ms\tremaining: 0us\n",
      "Learning rate set to 0.5\n",
      "0:\tlearn: 0.4961333\ttotal: 20.5ms\tremaining: 389ms\n",
      "1:\tlearn: 0.4154257\ttotal: 38ms\tremaining: 342ms\n",
      "2:\tlearn: 0.3750214\ttotal: 53.7ms\tremaining: 304ms\n",
      "3:\tlearn: 0.3532423\ttotal: 70ms\tremaining: 280ms\n",
      "4:\tlearn: 0.3359302\ttotal: 84.1ms\tremaining: 252ms\n",
      "5:\tlearn: 0.3248022\ttotal: 102ms\tremaining: 237ms\n",
      "6:\tlearn: 0.3151936\ttotal: 119ms\tremaining: 221ms\n",
      "7:\tlearn: 0.3085916\ttotal: 134ms\tremaining: 200ms\n",
      "8:\tlearn: 0.2991168\ttotal: 151ms\tremaining: 185ms\n",
      "9:\tlearn: 0.2924963\ttotal: 171ms\tremaining: 171ms\n",
      "10:\tlearn: 0.2880134\ttotal: 182ms\tremaining: 149ms\n",
      "11:\tlearn: 0.2841528\ttotal: 194ms\tremaining: 129ms\n",
      "12:\tlearn: 0.2801072\ttotal: 209ms\tremaining: 113ms\n",
      "13:\tlearn: 0.2781809\ttotal: 221ms\tremaining: 94.5ms\n",
      "14:\tlearn: 0.2753025\ttotal: 238ms\tremaining: 79.4ms\n",
      "15:\tlearn: 0.2731342\ttotal: 251ms\tremaining: 62.7ms\n",
      "16:\tlearn: 0.2677177\ttotal: 265ms\tremaining: 46.7ms\n",
      "17:\tlearn: 0.2639814\ttotal: 276ms\tremaining: 30.6ms\n",
      "18:\tlearn: 0.2620643\ttotal: 287ms\tremaining: 15.1ms\n",
      "19:\tlearn: 0.2613134\ttotal: 300ms\tremaining: 0us\n",
      "Learning rate set to 0.5\n",
      "0:\tlearn: 0.4963174\ttotal: 19.6ms\tremaining: 372ms\n",
      "1:\tlearn: 0.4139136\ttotal: 34.7ms\tremaining: 312ms\n",
      "2:\tlearn: 0.3720940\ttotal: 48.6ms\tremaining: 275ms\n",
      "3:\tlearn: 0.3487421\ttotal: 65.7ms\tremaining: 263ms\n",
      "4:\tlearn: 0.3351681\ttotal: 80.3ms\tremaining: 241ms\n",
      "5:\tlearn: 0.3219528\ttotal: 95.3ms\tremaining: 222ms\n",
      "6:\tlearn: 0.3140010\ttotal: 109ms\tremaining: 202ms\n",
      "7:\tlearn: 0.3083516\ttotal: 125ms\tremaining: 188ms\n",
      "8:\tlearn: 0.3027939\ttotal: 140ms\tremaining: 171ms\n",
      "9:\tlearn: 0.3004605\ttotal: 151ms\tremaining: 151ms\n",
      "10:\tlearn: 0.2968512\ttotal: 165ms\tremaining: 135ms\n",
      "11:\tlearn: 0.2955163\ttotal: 175ms\tremaining: 117ms\n",
      "12:\tlearn: 0.2918454\ttotal: 192ms\tremaining: 103ms\n",
      "13:\tlearn: 0.2851338\ttotal: 207ms\tremaining: 88.6ms\n",
      "14:\tlearn: 0.2800753\ttotal: 223ms\tremaining: 74.2ms\n",
      "15:\tlearn: 0.2765500\ttotal: 235ms\tremaining: 58.8ms\n",
      "16:\tlearn: 0.2730567\ttotal: 251ms\tremaining: 44.3ms\n",
      "17:\tlearn: 0.2700916\ttotal: 262ms\tremaining: 29.1ms\n",
      "18:\tlearn: 0.2696382\ttotal: 273ms\tremaining: 14.4ms\n",
      "19:\tlearn: 0.2615243\ttotal: 292ms\tremaining: 0us\n",
      "Learning rate set to 0.5\n",
      "0:\tlearn: 0.4981516\ttotal: 18.4ms\tremaining: 349ms\n",
      "1:\tlearn: 0.4184823\ttotal: 34.1ms\tremaining: 307ms\n",
      "2:\tlearn: 0.3756054\ttotal: 51.1ms\tremaining: 290ms\n",
      "3:\tlearn: 0.3489703\ttotal: 68.1ms\tremaining: 272ms\n",
      "4:\tlearn: 0.3333118\ttotal: 83.6ms\tremaining: 251ms\n",
      "5:\tlearn: 0.3235815\ttotal: 101ms\tremaining: 236ms\n",
      "6:\tlearn: 0.3151706\ttotal: 113ms\tremaining: 209ms\n",
      "7:\tlearn: 0.3078887\ttotal: 131ms\tremaining: 197ms\n",
      "8:\tlearn: 0.3043320\ttotal: 145ms\tremaining: 177ms\n",
      "9:\tlearn: 0.2974146\ttotal: 158ms\tremaining: 158ms\n",
      "10:\tlearn: 0.2948111\ttotal: 170ms\tremaining: 139ms\n",
      "11:\tlearn: 0.2907821\ttotal: 185ms\tremaining: 124ms\n",
      "12:\tlearn: 0.2874242\ttotal: 197ms\tremaining: 106ms\n",
      "13:\tlearn: 0.2867846\ttotal: 206ms\tremaining: 88.3ms\n",
      "14:\tlearn: 0.2855178\ttotal: 216ms\tremaining: 71.9ms\n",
      "15:\tlearn: 0.2804076\ttotal: 230ms\tremaining: 57.6ms\n",
      "16:\tlearn: 0.2725544\ttotal: 248ms\tremaining: 43.7ms\n",
      "17:\tlearn: 0.2702847\ttotal: 258ms\tremaining: 28.6ms\n",
      "18:\tlearn: 0.2694085\ttotal: 270ms\tremaining: 14.2ms\n",
      "19:\tlearn: 0.2678014\ttotal: 285ms\tremaining: 0us\n",
      "Learning rate set to 0.5\n",
      "0:\tlearn: 0.4913850\ttotal: 15.4ms\tremaining: 293ms\n",
      "1:\tlearn: 0.4094368\ttotal: 32.4ms\tremaining: 292ms\n",
      "2:\tlearn: 0.3645690\ttotal: 50.5ms\tremaining: 286ms\n",
      "3:\tlearn: 0.3416517\ttotal: 67.4ms\tremaining: 269ms\n",
      "4:\tlearn: 0.3266543\ttotal: 83.9ms\tremaining: 252ms\n",
      "5:\tlearn: 0.3198164\ttotal: 95.3ms\tremaining: 222ms\n",
      "6:\tlearn: 0.3091587\ttotal: 114ms\tremaining: 211ms\n",
      "7:\tlearn: 0.3018482\ttotal: 129ms\tremaining: 194ms\n",
      "8:\tlearn: 0.2979443\ttotal: 141ms\tremaining: 173ms\n",
      "9:\tlearn: 0.2903956\ttotal: 159ms\tremaining: 159ms\n",
      "10:\tlearn: 0.2817624\ttotal: 177ms\tremaining: 145ms\n",
      "11:\tlearn: 0.2788329\ttotal: 189ms\tremaining: 126ms\n",
      "12:\tlearn: 0.2756180\ttotal: 206ms\tremaining: 111ms\n",
      "13:\tlearn: 0.2732345\ttotal: 221ms\tremaining: 94.7ms\n",
      "14:\tlearn: 0.2695261\ttotal: 239ms\tremaining: 79.7ms\n",
      "15:\tlearn: 0.2666108\ttotal: 254ms\tremaining: 63.4ms\n",
      "16:\tlearn: 0.2656542\ttotal: 268ms\tremaining: 47.3ms\n",
      "17:\tlearn: 0.2569482\ttotal: 290ms\tremaining: 32.2ms\n",
      "18:\tlearn: 0.2481328\ttotal: 311ms\tremaining: 16.4ms\n",
      "19:\tlearn: 0.2447467\ttotal: 324ms\tremaining: 0us\n",
      "Learning rate set to 0.5\n",
      "0:\tlearn: 0.5029489\ttotal: 19.9ms\tremaining: 378ms\n",
      "1:\tlearn: 0.4156601\ttotal: 33ms\tremaining: 297ms\n",
      "2:\tlearn: 0.3708276\ttotal: 52.9ms\tremaining: 300ms\n",
      "3:\tlearn: 0.3448338\ttotal: 71.1ms\tremaining: 284ms\n",
      "4:\tlearn: 0.3286893\ttotal: 89.8ms\tremaining: 269ms\n",
      "5:\tlearn: 0.3164979\ttotal: 107ms\tremaining: 249ms\n",
      "6:\tlearn: 0.3102130\ttotal: 122ms\tremaining: 227ms\n",
      "7:\tlearn: 0.3028873\ttotal: 138ms\tremaining: 207ms\n",
      "8:\tlearn: 0.2940317\ttotal: 154ms\tremaining: 188ms\n",
      "9:\tlearn: 0.2887186\ttotal: 169ms\tremaining: 169ms\n",
      "10:\tlearn: 0.2851270\ttotal: 181ms\tremaining: 148ms\n",
      "11:\tlearn: 0.2807817\ttotal: 199ms\tremaining: 133ms\n",
      "12:\tlearn: 0.2766162\ttotal: 214ms\tremaining: 115ms\n",
      "13:\tlearn: 0.2752432\ttotal: 226ms\tremaining: 96.9ms\n",
      "14:\tlearn: 0.2696387\ttotal: 239ms\tremaining: 79.7ms\n",
      "15:\tlearn: 0.2678254\ttotal: 252ms\tremaining: 62.9ms\n",
      "16:\tlearn: 0.2653806\ttotal: 266ms\tremaining: 46.9ms\n",
      "17:\tlearn: 0.2607845\ttotal: 280ms\tremaining: 31.1ms\n",
      "18:\tlearn: 0.2591695\ttotal: 293ms\tremaining: 15.4ms\n",
      "19:\tlearn: 0.2573899\ttotal: 306ms\tremaining: 0us\n",
      "Learning rate set to 0.5\n",
      "0:\tlearn: 0.4961333\ttotal: 20.7ms\tremaining: 600ms\n",
      "1:\tlearn: 0.4154257\ttotal: 38.1ms\tremaining: 533ms\n",
      "2:\tlearn: 0.3750214\ttotal: 53.4ms\tremaining: 481ms\n",
      "3:\tlearn: 0.3532423\ttotal: 69.1ms\tremaining: 449ms\n",
      "4:\tlearn: 0.3359302\ttotal: 84ms\tremaining: 420ms\n",
      "5:\tlearn: 0.3248022\ttotal: 102ms\tremaining: 409ms\n",
      "6:\tlearn: 0.3151936\ttotal: 124ms\tremaining: 407ms\n",
      "7:\tlearn: 0.3085916\ttotal: 138ms\tremaining: 380ms\n",
      "8:\tlearn: 0.2991168\ttotal: 155ms\tremaining: 362ms\n",
      "9:\tlearn: 0.2924963\ttotal: 174ms\tremaining: 348ms\n",
      "10:\tlearn: 0.2880134\ttotal: 186ms\tremaining: 322ms\n",
      "11:\tlearn: 0.2841528\ttotal: 199ms\tremaining: 299ms\n",
      "12:\tlearn: 0.2801072\ttotal: 216ms\tremaining: 282ms\n",
      "13:\tlearn: 0.2781809\ttotal: 228ms\tremaining: 260ms\n",
      "14:\tlearn: 0.2753025\ttotal: 256ms\tremaining: 256ms\n",
      "15:\tlearn: 0.2731342\ttotal: 275ms\tremaining: 241ms\n",
      "16:\tlearn: 0.2677177\ttotal: 289ms\tremaining: 221ms\n",
      "17:\tlearn: 0.2639814\ttotal: 301ms\tremaining: 200ms\n",
      "18:\tlearn: 0.2620643\ttotal: 313ms\tremaining: 181ms\n",
      "19:\tlearn: 0.2613134\ttotal: 327ms\tremaining: 164ms\n",
      "20:\tlearn: 0.2602778\ttotal: 342ms\tremaining: 147ms\n",
      "21:\tlearn: 0.2572789\ttotal: 355ms\tremaining: 129ms\n",
      "22:\tlearn: 0.2535892\ttotal: 372ms\tremaining: 113ms\n",
      "23:\tlearn: 0.2480150\ttotal: 392ms\tremaining: 97.9ms\n",
      "24:\tlearn: 0.2425635\ttotal: 412ms\tremaining: 82.3ms\n",
      "25:\tlearn: 0.2397901\ttotal: 434ms\tremaining: 66.7ms\n",
      "26:\tlearn: 0.2381348\ttotal: 445ms\tremaining: 49.4ms\n",
      "27:\tlearn: 0.2292673\ttotal: 466ms\tremaining: 33.3ms\n",
      "28:\tlearn: 0.2278485\ttotal: 478ms\tremaining: 16.5ms\n",
      "29:\tlearn: 0.2218272\ttotal: 499ms\tremaining: 0us\n",
      "Learning rate set to 0.5\n",
      "0:\tlearn: 0.4963174\ttotal: 19.3ms\tremaining: 560ms\n",
      "1:\tlearn: 0.4139136\ttotal: 35.1ms\tremaining: 491ms\n",
      "2:\tlearn: 0.3720940\ttotal: 50ms\tremaining: 450ms\n",
      "3:\tlearn: 0.3487421\ttotal: 67.3ms\tremaining: 437ms\n",
      "4:\tlearn: 0.3351681\ttotal: 81.7ms\tremaining: 408ms\n",
      "5:\tlearn: 0.3219528\ttotal: 96.8ms\tremaining: 387ms\n",
      "6:\tlearn: 0.3140010\ttotal: 111ms\tremaining: 365ms\n",
      "7:\tlearn: 0.3083516\ttotal: 128ms\tremaining: 351ms\n",
      "8:\tlearn: 0.3027939\ttotal: 143ms\tremaining: 333ms\n",
      "9:\tlearn: 0.3004605\ttotal: 154ms\tremaining: 308ms\n",
      "10:\tlearn: 0.2968512\ttotal: 167ms\tremaining: 289ms\n",
      "11:\tlearn: 0.2955163\ttotal: 177ms\tremaining: 266ms\n",
      "12:\tlearn: 0.2918454\ttotal: 193ms\tremaining: 253ms\n",
      "13:\tlearn: 0.2851338\ttotal: 208ms\tremaining: 238ms\n",
      "14:\tlearn: 0.2800753\ttotal: 225ms\tremaining: 225ms\n",
      "15:\tlearn: 0.2765500\ttotal: 239ms\tremaining: 210ms\n",
      "16:\tlearn: 0.2730567\ttotal: 257ms\tremaining: 196ms\n",
      "17:\tlearn: 0.2700916\ttotal: 270ms\tremaining: 180ms\n",
      "18:\tlearn: 0.2696382\ttotal: 280ms\tremaining: 162ms\n",
      "19:\tlearn: 0.2615243\ttotal: 300ms\tremaining: 150ms\n",
      "20:\tlearn: 0.2607678\ttotal: 313ms\tremaining: 134ms\n",
      "21:\tlearn: 0.2588267\ttotal: 325ms\tremaining: 118ms\n",
      "22:\tlearn: 0.2568833\ttotal: 339ms\tremaining: 103ms\n",
      "23:\tlearn: 0.2555262\ttotal: 352ms\tremaining: 88ms\n",
      "24:\tlearn: 0.2540166\ttotal: 366ms\tremaining: 73.1ms\n",
      "25:\tlearn: 0.2523932\ttotal: 381ms\tremaining: 58.6ms\n",
      "26:\tlearn: 0.2490115\ttotal: 400ms\tremaining: 44.4ms\n",
      "27:\tlearn: 0.2462836\ttotal: 419ms\tremaining: 29.9ms\n",
      "28:\tlearn: 0.2449674\ttotal: 441ms\tremaining: 15.2ms\n",
      "29:\tlearn: 0.2414515\ttotal: 462ms\tremaining: 0us\n",
      "Learning rate set to 0.5\n",
      "0:\tlearn: 0.4981516\ttotal: 19.7ms\tremaining: 570ms\n",
      "1:\tlearn: 0.4184823\ttotal: 35.5ms\tremaining: 497ms\n",
      "2:\tlearn: 0.3756054\ttotal: 53.7ms\tremaining: 483ms\n",
      "3:\tlearn: 0.3489703\ttotal: 71.1ms\tremaining: 462ms\n",
      "4:\tlearn: 0.3333118\ttotal: 87.3ms\tremaining: 436ms\n",
      "5:\tlearn: 0.3235815\ttotal: 105ms\tremaining: 419ms\n",
      "6:\tlearn: 0.3151706\ttotal: 117ms\tremaining: 383ms\n",
      "7:\tlearn: 0.3078887\ttotal: 135ms\tremaining: 370ms\n",
      "8:\tlearn: 0.3043320\ttotal: 149ms\tremaining: 347ms\n",
      "9:\tlearn: 0.2974146\ttotal: 162ms\tremaining: 324ms\n",
      "10:\tlearn: 0.2948111\ttotal: 174ms\tremaining: 301ms\n",
      "11:\tlearn: 0.2907821\ttotal: 190ms\tremaining: 285ms\n",
      "12:\tlearn: 0.2874242\ttotal: 202ms\tremaining: 264ms\n",
      "13:\tlearn: 0.2867846\ttotal: 212ms\tremaining: 242ms\n",
      "14:\tlearn: 0.2855178\ttotal: 222ms\tremaining: 222ms\n",
      "15:\tlearn: 0.2804076\ttotal: 237ms\tremaining: 207ms\n",
      "16:\tlearn: 0.2725544\ttotal: 254ms\tremaining: 194ms\n",
      "17:\tlearn: 0.2702847\ttotal: 264ms\tremaining: 176ms\n",
      "18:\tlearn: 0.2694085\ttotal: 276ms\tremaining: 160ms\n",
      "19:\tlearn: 0.2678014\ttotal: 291ms\tremaining: 145ms\n",
      "20:\tlearn: 0.2640010\ttotal: 304ms\tremaining: 130ms\n",
      "21:\tlearn: 0.2623105\ttotal: 314ms\tremaining: 114ms\n",
      "22:\tlearn: 0.2594240\ttotal: 328ms\tremaining: 99.8ms\n",
      "23:\tlearn: 0.2588484\ttotal: 338ms\tremaining: 84.4ms\n",
      "24:\tlearn: 0.2555829\ttotal: 353ms\tremaining: 70.6ms\n",
      "25:\tlearn: 0.2530936\ttotal: 366ms\tremaining: 56.3ms\n",
      "26:\tlearn: 0.2512738\ttotal: 378ms\tremaining: 42ms\n",
      "27:\tlearn: 0.2454977\ttotal: 397ms\tremaining: 28.3ms\n",
      "28:\tlearn: 0.2451645\ttotal: 407ms\tremaining: 14ms\n",
      "29:\tlearn: 0.2428285\ttotal: 422ms\tremaining: 0us\n",
      "Learning rate set to 0.5\n",
      "0:\tlearn: 0.4913850\ttotal: 14.1ms\tremaining: 410ms\n",
      "1:\tlearn: 0.4094368\ttotal: 29.5ms\tremaining: 413ms\n",
      "2:\tlearn: 0.3645690\ttotal: 45.3ms\tremaining: 407ms\n",
      "3:\tlearn: 0.3416517\ttotal: 60.4ms\tremaining: 392ms\n",
      "4:\tlearn: 0.3266543\ttotal: 76ms\tremaining: 380ms\n",
      "5:\tlearn: 0.3198164\ttotal: 87ms\tremaining: 348ms\n",
      "6:\tlearn: 0.3091587\ttotal: 105ms\tremaining: 346ms\n",
      "7:\tlearn: 0.3018482\ttotal: 131ms\tremaining: 361ms\n",
      "8:\tlearn: 0.2979443\ttotal: 144ms\tremaining: 336ms\n",
      "9:\tlearn: 0.2903956\ttotal: 162ms\tremaining: 323ms\n",
      "10:\tlearn: 0.2817624\ttotal: 180ms\tremaining: 310ms\n",
      "11:\tlearn: 0.2788329\ttotal: 192ms\tremaining: 287ms\n",
      "12:\tlearn: 0.2756180\ttotal: 207ms\tremaining: 270ms\n",
      "13:\tlearn: 0.2732345\ttotal: 222ms\tremaining: 254ms\n",
      "14:\tlearn: 0.2695261\ttotal: 239ms\tremaining: 239ms\n",
      "15:\tlearn: 0.2666108\ttotal: 253ms\tremaining: 222ms\n",
      "16:\tlearn: 0.2656542\ttotal: 266ms\tremaining: 204ms\n",
      "17:\tlearn: 0.2569482\ttotal: 287ms\tremaining: 191ms\n",
      "18:\tlearn: 0.2481328\ttotal: 307ms\tremaining: 177ms\n",
      "19:\tlearn: 0.2447467\ttotal: 319ms\tremaining: 159ms\n",
      "20:\tlearn: 0.2426906\ttotal: 333ms\tremaining: 143ms\n",
      "21:\tlearn: 0.2404958\ttotal: 345ms\tremaining: 125ms\n",
      "22:\tlearn: 0.2402119\ttotal: 356ms\tremaining: 108ms\n",
      "23:\tlearn: 0.2350564\ttotal: 370ms\tremaining: 92.4ms\n",
      "24:\tlearn: 0.2341034\ttotal: 384ms\tremaining: 76.8ms\n",
      "25:\tlearn: 0.2329873\ttotal: 397ms\tremaining: 61.1ms\n",
      "26:\tlearn: 0.2307109\ttotal: 410ms\tremaining: 45.6ms\n",
      "27:\tlearn: 0.2300403\ttotal: 423ms\tremaining: 30.2ms\n",
      "28:\tlearn: 0.2269851\ttotal: 439ms\tremaining: 15.1ms\n",
      "29:\tlearn: 0.2229234\ttotal: 453ms\tremaining: 0us\n",
      "Learning rate set to 0.5\n",
      "0:\tlearn: 0.5029489\ttotal: 19.2ms\tremaining: 558ms\n",
      "1:\tlearn: 0.4156601\ttotal: 31.8ms\tremaining: 445ms\n",
      "2:\tlearn: 0.3708276\ttotal: 50.7ms\tremaining: 456ms\n",
      "3:\tlearn: 0.3448338\ttotal: 67.6ms\tremaining: 439ms\n",
      "4:\tlearn: 0.3286893\ttotal: 84.6ms\tremaining: 423ms\n",
      "5:\tlearn: 0.3164979\ttotal: 101ms\tremaining: 404ms\n",
      "6:\tlearn: 0.3102130\ttotal: 117ms\tremaining: 384ms\n",
      "7:\tlearn: 0.3028873\ttotal: 132ms\tremaining: 364ms\n",
      "8:\tlearn: 0.2940317\ttotal: 148ms\tremaining: 346ms\n",
      "9:\tlearn: 0.2887186\ttotal: 163ms\tremaining: 327ms\n",
      "10:\tlearn: 0.2851270\ttotal: 176ms\tremaining: 304ms\n",
      "11:\tlearn: 0.2807817\ttotal: 193ms\tremaining: 290ms\n",
      "12:\tlearn: 0.2766162\ttotal: 208ms\tremaining: 272ms\n",
      "13:\tlearn: 0.2752432\ttotal: 218ms\tremaining: 250ms\n",
      "14:\tlearn: 0.2696387\ttotal: 232ms\tremaining: 232ms\n",
      "15:\tlearn: 0.2678254\ttotal: 244ms\tremaining: 214ms\n",
      "16:\tlearn: 0.2653806\ttotal: 258ms\tremaining: 197ms\n",
      "17:\tlearn: 0.2607845\ttotal: 272ms\tremaining: 181ms\n",
      "18:\tlearn: 0.2591695\ttotal: 284ms\tremaining: 165ms\n",
      "19:\tlearn: 0.2573899\ttotal: 296ms\tremaining: 148ms\n",
      "20:\tlearn: 0.2543428\ttotal: 310ms\tremaining: 133ms\n",
      "21:\tlearn: 0.2535939\ttotal: 323ms\tremaining: 118ms\n",
      "22:\tlearn: 0.2515737\ttotal: 339ms\tremaining: 103ms\n",
      "23:\tlearn: 0.2498826\ttotal: 353ms\tremaining: 88.3ms\n",
      "24:\tlearn: 0.2490050\ttotal: 367ms\tremaining: 73.4ms\n",
      "25:\tlearn: 0.2459367\ttotal: 383ms\tremaining: 58.9ms\n",
      "26:\tlearn: 0.2443900\ttotal: 398ms\tremaining: 44.3ms\n",
      "27:\tlearn: 0.2407321\ttotal: 416ms\tremaining: 29.7ms\n",
      "28:\tlearn: 0.2387910\ttotal: 429ms\tremaining: 14.8ms\n",
      "29:\tlearn: 0.2377421\ttotal: 443ms\tremaining: 0us\n",
      "Learning rate set to 0.5\n",
      "0:\tlearn: 0.4995520\ttotal: 39.9ms\tremaining: 359ms\n",
      "1:\tlearn: 0.4116431\ttotal: 72.9ms\tremaining: 291ms\n",
      "2:\tlearn: 0.3675761\ttotal: 105ms\tremaining: 245ms\n",
      "3:\tlearn: 0.3387704\ttotal: 138ms\tremaining: 207ms\n",
      "4:\tlearn: 0.3160565\ttotal: 167ms\tremaining: 167ms\n",
      "5:\tlearn: 0.3010285\ttotal: 197ms\tremaining: 131ms\n",
      "6:\tlearn: 0.2910334\ttotal: 224ms\tremaining: 96.2ms\n",
      "7:\tlearn: 0.2811919\ttotal: 261ms\tremaining: 65.3ms\n",
      "8:\tlearn: 0.2717605\ttotal: 304ms\tremaining: 33.8ms\n",
      "9:\tlearn: 0.2631964\ttotal: 336ms\tremaining: 0us\n",
      "Learning rate set to 0.5\n",
      "0:\tlearn: 0.4990589\ttotal: 48.8ms\tremaining: 439ms\n",
      "1:\tlearn: 0.4149676\ttotal: 81.8ms\tremaining: 327ms\n",
      "2:\tlearn: 0.3687932\ttotal: 117ms\tremaining: 272ms\n",
      "3:\tlearn: 0.3395802\ttotal: 144ms\tremaining: 216ms\n",
      "4:\tlearn: 0.3220754\ttotal: 170ms\tremaining: 170ms\n",
      "5:\tlearn: 0.3060085\ttotal: 199ms\tremaining: 132ms\n",
      "6:\tlearn: 0.2990795\ttotal: 218ms\tremaining: 93.6ms\n",
      "7:\tlearn: 0.2907560\ttotal: 241ms\tremaining: 60.3ms\n",
      "8:\tlearn: 0.2771726\ttotal: 273ms\tremaining: 30.4ms\n",
      "9:\tlearn: 0.2710086\ttotal: 301ms\tremaining: 0us\n",
      "Learning rate set to 0.5\n",
      "0:\tlearn: 0.5023243\ttotal: 56.5ms\tremaining: 509ms\n",
      "1:\tlearn: 0.4163650\ttotal: 81.2ms\tremaining: 325ms\n",
      "2:\tlearn: 0.3680603\ttotal: 110ms\tremaining: 257ms\n",
      "3:\tlearn: 0.3407184\ttotal: 144ms\tremaining: 216ms\n",
      "4:\tlearn: 0.3234903\ttotal: 174ms\tremaining: 174ms\n",
      "5:\tlearn: 0.3105434\ttotal: 204ms\tremaining: 136ms\n",
      "6:\tlearn: 0.3013551\ttotal: 226ms\tremaining: 96.7ms\n",
      "7:\tlearn: 0.2935741\ttotal: 253ms\tremaining: 63.2ms\n",
      "8:\tlearn: 0.2818214\ttotal: 285ms\tremaining: 31.6ms\n",
      "9:\tlearn: 0.2768531\ttotal: 309ms\tremaining: 0us\n",
      "Learning rate set to 0.5\n",
      "0:\tlearn: 0.4919122\ttotal: 27.4ms\tremaining: 246ms\n",
      "1:\tlearn: 0.4085746\ttotal: 55.4ms\tremaining: 222ms\n",
      "2:\tlearn: 0.3662610\ttotal: 86.3ms\tremaining: 201ms\n",
      "3:\tlearn: 0.3343480\ttotal: 121ms\tremaining: 181ms\n",
      "4:\tlearn: 0.3144238\ttotal: 153ms\tremaining: 153ms\n",
      "5:\tlearn: 0.3037368\ttotal: 185ms\tremaining: 123ms\n",
      "6:\tlearn: 0.2881020\ttotal: 227ms\tremaining: 97.3ms\n",
      "7:\tlearn: 0.2766091\ttotal: 257ms\tremaining: 64.3ms\n",
      "8:\tlearn: 0.2690506\ttotal: 292ms\tremaining: 32.5ms\n",
      "9:\tlearn: 0.2582572\ttotal: 335ms\tremaining: 0us\n",
      "Learning rate set to 0.5\n",
      "0:\tlearn: 0.5041961\ttotal: 40.1ms\tremaining: 361ms\n",
      "1:\tlearn: 0.4234509\ttotal: 80.7ms\tremaining: 323ms\n",
      "2:\tlearn: 0.3731646\ttotal: 124ms\tremaining: 289ms\n",
      "3:\tlearn: 0.3443794\ttotal: 159ms\tremaining: 238ms\n",
      "4:\tlearn: 0.3241175\ttotal: 197ms\tremaining: 197ms\n",
      "5:\tlearn: 0.3075894\ttotal: 221ms\tremaining: 147ms\n",
      "6:\tlearn: 0.2987525\ttotal: 245ms\tremaining: 105ms\n",
      "7:\tlearn: 0.2939361\ttotal: 268ms\tremaining: 67ms\n",
      "8:\tlearn: 0.2844986\ttotal: 295ms\tremaining: 32.8ms\n",
      "9:\tlearn: 0.2785650\ttotal: 323ms\tremaining: 0us\n",
      "Learning rate set to 0.5\n",
      "0:\tlearn: 0.4995520\ttotal: 44.4ms\tremaining: 844ms\n",
      "1:\tlearn: 0.4116431\ttotal: 78.9ms\tremaining: 710ms\n",
      "2:\tlearn: 0.3675761\ttotal: 112ms\tremaining: 636ms\n",
      "3:\tlearn: 0.3387704\ttotal: 147ms\tremaining: 587ms\n",
      "4:\tlearn: 0.3160565\ttotal: 176ms\tremaining: 527ms\n",
      "5:\tlearn: 0.3010285\ttotal: 206ms\tremaining: 481ms\n",
      "6:\tlearn: 0.2910334\ttotal: 234ms\tremaining: 435ms\n",
      "7:\tlearn: 0.2811919\ttotal: 272ms\tremaining: 409ms\n",
      "8:\tlearn: 0.2717605\ttotal: 315ms\tremaining: 385ms\n",
      "9:\tlearn: 0.2631964\ttotal: 348ms\tremaining: 348ms\n",
      "10:\tlearn: 0.2585925\ttotal: 371ms\tremaining: 303ms\n",
      "11:\tlearn: 0.2558247\ttotal: 393ms\tremaining: 262ms\n",
      "12:\tlearn: 0.2486237\ttotal: 421ms\tremaining: 226ms\n",
      "13:\tlearn: 0.2455272\ttotal: 444ms\tremaining: 190ms\n",
      "14:\tlearn: 0.2403329\ttotal: 468ms\tremaining: 156ms\n",
      "15:\tlearn: 0.2366978\ttotal: 494ms\tremaining: 124ms\n",
      "16:\tlearn: 0.2284650\ttotal: 527ms\tremaining: 92.9ms\n",
      "17:\tlearn: 0.2225828\ttotal: 563ms\tremaining: 62.5ms\n",
      "18:\tlearn: 0.2210440\ttotal: 580ms\tremaining: 30.5ms\n",
      "19:\tlearn: 0.2176967\ttotal: 606ms\tremaining: 0us\n",
      "Learning rate set to 0.5\n",
      "0:\tlearn: 0.4990589\ttotal: 38.5ms\tremaining: 731ms\n",
      "1:\tlearn: 0.4149676\ttotal: 72.3ms\tremaining: 650ms\n",
      "2:\tlearn: 0.3687932\ttotal: 107ms\tremaining: 604ms\n",
      "3:\tlearn: 0.3395802\ttotal: 134ms\tremaining: 536ms\n",
      "4:\tlearn: 0.3220754\ttotal: 158ms\tremaining: 474ms\n",
      "5:\tlearn: 0.3060085\ttotal: 187ms\tremaining: 437ms\n",
      "6:\tlearn: 0.2990795\ttotal: 208ms\tremaining: 387ms\n",
      "7:\tlearn: 0.2907560\ttotal: 231ms\tremaining: 347ms\n",
      "8:\tlearn: 0.2771726\ttotal: 263ms\tremaining: 322ms\n",
      "9:\tlearn: 0.2710086\ttotal: 288ms\tremaining: 288ms\n",
      "10:\tlearn: 0.2671097\ttotal: 311ms\tremaining: 255ms\n",
      "11:\tlearn: 0.2616941\ttotal: 331ms\tremaining: 220ms\n",
      "12:\tlearn: 0.2565856\ttotal: 355ms\tremaining: 191ms\n",
      "13:\tlearn: 0.2505443\ttotal: 389ms\tremaining: 167ms\n",
      "14:\tlearn: 0.2449817\ttotal: 414ms\tremaining: 138ms\n",
      "15:\tlearn: 0.2414890\ttotal: 431ms\tremaining: 108ms\n",
      "16:\tlearn: 0.2380573\ttotal: 454ms\tremaining: 80.1ms\n",
      "17:\tlearn: 0.2325545\ttotal: 477ms\tremaining: 53ms\n",
      "18:\tlearn: 0.2291476\ttotal: 497ms\tremaining: 26.1ms\n",
      "19:\tlearn: 0.2273326\ttotal: 516ms\tremaining: 0us\n",
      "Learning rate set to 0.5\n",
      "0:\tlearn: 0.5023243\ttotal: 47.3ms\tremaining: 899ms\n",
      "1:\tlearn: 0.4163650\ttotal: 75.1ms\tremaining: 676ms\n",
      "2:\tlearn: 0.3680603\ttotal: 105ms\tremaining: 594ms\n",
      "3:\tlearn: 0.3407184\ttotal: 139ms\tremaining: 554ms\n",
      "4:\tlearn: 0.3234903\ttotal: 170ms\tremaining: 509ms\n",
      "5:\tlearn: 0.3105434\ttotal: 201ms\tremaining: 469ms\n",
      "6:\tlearn: 0.3013551\ttotal: 223ms\tremaining: 415ms\n",
      "7:\tlearn: 0.2935741\ttotal: 252ms\tremaining: 378ms\n",
      "8:\tlearn: 0.2818214\ttotal: 283ms\tremaining: 346ms\n",
      "9:\tlearn: 0.2768531\ttotal: 307ms\tremaining: 307ms\n",
      "10:\tlearn: 0.2728947\ttotal: 329ms\tremaining: 269ms\n",
      "11:\tlearn: 0.2670269\ttotal: 355ms\tremaining: 236ms\n",
      "12:\tlearn: 0.2634922\ttotal: 377ms\tremaining: 203ms\n",
      "13:\tlearn: 0.2590498\ttotal: 398ms\tremaining: 171ms\n",
      "14:\tlearn: 0.2549335\ttotal: 423ms\tremaining: 141ms\n",
      "15:\tlearn: 0.2471697\ttotal: 457ms\tremaining: 114ms\n",
      "16:\tlearn: 0.2423280\ttotal: 485ms\tremaining: 85.6ms\n",
      "17:\tlearn: 0.2401893\ttotal: 509ms\tremaining: 56.5ms\n",
      "18:\tlearn: 0.2377585\ttotal: 534ms\tremaining: 28.1ms\n",
      "19:\tlearn: 0.2338914\ttotal: 562ms\tremaining: 0us\n",
      "Learning rate set to 0.5\n",
      "0:\tlearn: 0.4919122\ttotal: 27.3ms\tremaining: 519ms\n",
      "1:\tlearn: 0.4085746\ttotal: 55.7ms\tremaining: 501ms\n",
      "2:\tlearn: 0.3662610\ttotal: 89.4ms\tremaining: 507ms\n",
      "3:\tlearn: 0.3343480\ttotal: 124ms\tremaining: 496ms\n",
      "4:\tlearn: 0.3144238\ttotal: 159ms\tremaining: 477ms\n",
      "5:\tlearn: 0.3037368\ttotal: 193ms\tremaining: 451ms\n",
      "6:\tlearn: 0.2881020\ttotal: 238ms\tremaining: 441ms\n",
      "7:\tlearn: 0.2766091\ttotal: 266ms\tremaining: 400ms\n",
      "8:\tlearn: 0.2690506\ttotal: 302ms\tremaining: 369ms\n",
      "9:\tlearn: 0.2582572\ttotal: 344ms\tremaining: 344ms\n",
      "10:\tlearn: 0.2517843\ttotal: 369ms\tremaining: 302ms\n",
      "11:\tlearn: 0.2479864\ttotal: 394ms\tremaining: 263ms\n",
      "12:\tlearn: 0.2408145\ttotal: 426ms\tremaining: 229ms\n",
      "13:\tlearn: 0.2356960\ttotal: 456ms\tremaining: 196ms\n",
      "14:\tlearn: 0.2322208\ttotal: 481ms\tremaining: 160ms\n",
      "15:\tlearn: 0.2268811\ttotal: 510ms\tremaining: 127ms\n",
      "16:\tlearn: 0.2229792\ttotal: 529ms\tremaining: 93.3ms\n",
      "17:\tlearn: 0.2203052\ttotal: 551ms\tremaining: 61.3ms\n",
      "18:\tlearn: 0.2185946\ttotal: 575ms\tremaining: 30.3ms\n",
      "19:\tlearn: 0.2146817\ttotal: 599ms\tremaining: 0us\n",
      "Learning rate set to 0.5\n",
      "0:\tlearn: 0.5041961\ttotal: 38ms\tremaining: 723ms\n",
      "1:\tlearn: 0.4234509\ttotal: 78.3ms\tremaining: 705ms\n",
      "2:\tlearn: 0.3731646\ttotal: 117ms\tremaining: 662ms\n",
      "3:\tlearn: 0.3443794\ttotal: 148ms\tremaining: 593ms\n",
      "4:\tlearn: 0.3241175\ttotal: 185ms\tremaining: 556ms\n",
      "5:\tlearn: 0.3075894\ttotal: 209ms\tremaining: 488ms\n",
      "6:\tlearn: 0.2987525\ttotal: 234ms\tremaining: 435ms\n",
      "7:\tlearn: 0.2939361\ttotal: 256ms\tremaining: 383ms\n",
      "8:\tlearn: 0.2844986\ttotal: 283ms\tremaining: 345ms\n",
      "9:\tlearn: 0.2785650\ttotal: 312ms\tremaining: 312ms\n",
      "10:\tlearn: 0.2710568\ttotal: 342ms\tremaining: 280ms\n",
      "11:\tlearn: 0.2676701\ttotal: 361ms\tremaining: 241ms\n",
      "12:\tlearn: 0.2615317\ttotal: 388ms\tremaining: 209ms\n",
      "13:\tlearn: 0.2526636\ttotal: 419ms\tremaining: 180ms\n",
      "14:\tlearn: 0.2485709\ttotal: 444ms\tremaining: 148ms\n",
      "15:\tlearn: 0.2444158\ttotal: 472ms\tremaining: 118ms\n",
      "16:\tlearn: 0.2380044\ttotal: 500ms\tremaining: 88.2ms\n",
      "17:\tlearn: 0.2322481\ttotal: 529ms\tremaining: 58.7ms\n",
      "18:\tlearn: 0.2289725\ttotal: 552ms\tremaining: 29.1ms\n",
      "19:\tlearn: 0.2277130\ttotal: 574ms\tremaining: 0us\n",
      "Learning rate set to 0.5\n",
      "0:\tlearn: 0.4995520\ttotal: 38.8ms\tremaining: 1.13s\n",
      "1:\tlearn: 0.4116431\ttotal: 72.7ms\tremaining: 1.02s\n",
      "2:\tlearn: 0.3675761\ttotal: 105ms\tremaining: 943ms\n",
      "3:\tlearn: 0.3387704\ttotal: 136ms\tremaining: 887ms\n",
      "4:\tlearn: 0.3160565\ttotal: 164ms\tremaining: 822ms\n",
      "5:\tlearn: 0.3010285\ttotal: 195ms\tremaining: 781ms\n",
      "6:\tlearn: 0.2910334\ttotal: 223ms\tremaining: 732ms\n",
      "7:\tlearn: 0.2811919\ttotal: 259ms\tremaining: 712ms\n",
      "8:\tlearn: 0.2717605\ttotal: 299ms\tremaining: 698ms\n",
      "9:\tlearn: 0.2631964\ttotal: 329ms\tremaining: 659ms\n",
      "10:\tlearn: 0.2585925\ttotal: 352ms\tremaining: 609ms\n",
      "11:\tlearn: 0.2558247\ttotal: 376ms\tremaining: 563ms\n",
      "12:\tlearn: 0.2486237\ttotal: 408ms\tremaining: 533ms\n",
      "13:\tlearn: 0.2455272\ttotal: 430ms\tremaining: 492ms\n",
      "14:\tlearn: 0.2403329\ttotal: 454ms\tremaining: 454ms\n",
      "15:\tlearn: 0.2366978\ttotal: 480ms\tremaining: 420ms\n",
      "16:\tlearn: 0.2284650\ttotal: 511ms\tremaining: 391ms\n",
      "17:\tlearn: 0.2225828\ttotal: 545ms\tremaining: 363ms\n",
      "18:\tlearn: 0.2210440\ttotal: 562ms\tremaining: 325ms\n",
      "19:\tlearn: 0.2176967\ttotal: 585ms\tremaining: 293ms\n",
      "20:\tlearn: 0.2167850\ttotal: 602ms\tremaining: 258ms\n",
      "21:\tlearn: 0.2118588\ttotal: 627ms\tremaining: 228ms\n",
      "22:\tlearn: 0.2092926\ttotal: 649ms\tremaining: 198ms\n",
      "23:\tlearn: 0.2063941\ttotal: 691ms\tremaining: 173ms\n",
      "24:\tlearn: 0.2026241\ttotal: 719ms\tremaining: 144ms\n",
      "25:\tlearn: 0.2012292\ttotal: 745ms\tremaining: 115ms\n",
      "26:\tlearn: 0.1999127\ttotal: 774ms\tremaining: 85.9ms\n",
      "27:\tlearn: 0.1972765\ttotal: 797ms\tremaining: 56.9ms\n",
      "28:\tlearn: 0.1945238\ttotal: 830ms\tremaining: 28.6ms\n",
      "29:\tlearn: 0.1934971\ttotal: 856ms\tremaining: 0us\n",
      "Learning rate set to 0.5\n",
      "0:\tlearn: 0.4990589\ttotal: 41.4ms\tremaining: 1.2s\n",
      "1:\tlearn: 0.4149676\ttotal: 78.7ms\tremaining: 1.1s\n",
      "2:\tlearn: 0.3687932\ttotal: 115ms\tremaining: 1.04s\n",
      "3:\tlearn: 0.3395802\ttotal: 143ms\tremaining: 930ms\n",
      "4:\tlearn: 0.3220754\ttotal: 169ms\tremaining: 845ms\n",
      "5:\tlearn: 0.3060085\ttotal: 200ms\tremaining: 798ms\n",
      "6:\tlearn: 0.2990795\ttotal: 221ms\tremaining: 727ms\n",
      "7:\tlearn: 0.2907560\ttotal: 247ms\tremaining: 679ms\n",
      "8:\tlearn: 0.2771726\ttotal: 280ms\tremaining: 653ms\n",
      "9:\tlearn: 0.2710086\ttotal: 307ms\tremaining: 614ms\n",
      "10:\tlearn: 0.2671097\ttotal: 330ms\tremaining: 570ms\n",
      "11:\tlearn: 0.2616941\ttotal: 350ms\tremaining: 524ms\n",
      "12:\tlearn: 0.2565856\ttotal: 375ms\tremaining: 490ms\n",
      "13:\tlearn: 0.2505443\ttotal: 410ms\tremaining: 468ms\n",
      "14:\tlearn: 0.2449817\ttotal: 436ms\tremaining: 436ms\n",
      "15:\tlearn: 0.2414890\ttotal: 456ms\tremaining: 399ms\n",
      "16:\tlearn: 0.2380573\ttotal: 480ms\tremaining: 367ms\n",
      "17:\tlearn: 0.2325545\ttotal: 504ms\tremaining: 336ms\n",
      "18:\tlearn: 0.2291476\ttotal: 524ms\tremaining: 304ms\n",
      "19:\tlearn: 0.2273326\ttotal: 546ms\tremaining: 273ms\n",
      "20:\tlearn: 0.2251055\ttotal: 566ms\tremaining: 243ms\n",
      "21:\tlearn: 0.2221963\ttotal: 585ms\tremaining: 213ms\n",
      "22:\tlearn: 0.2199377\ttotal: 606ms\tremaining: 185ms\n",
      "23:\tlearn: 0.2185215\ttotal: 629ms\tremaining: 157ms\n",
      "24:\tlearn: 0.2157712\ttotal: 655ms\tremaining: 131ms\n",
      "25:\tlearn: 0.2131457\ttotal: 679ms\tremaining: 104ms\n",
      "26:\tlearn: 0.2100827\ttotal: 720ms\tremaining: 80.1ms\n",
      "27:\tlearn: 0.2072907\ttotal: 755ms\tremaining: 53.9ms\n",
      "28:\tlearn: 0.2045370\ttotal: 785ms\tremaining: 27.1ms\n",
      "29:\tlearn: 0.2025895\ttotal: 815ms\tremaining: 0us\n",
      "Learning rate set to 0.5\n",
      "0:\tlearn: 0.5023243\ttotal: 36.5ms\tremaining: 1.06s\n",
      "1:\tlearn: 0.4163650\ttotal: 62ms\tremaining: 868ms\n",
      "2:\tlearn: 0.3680603\ttotal: 92.1ms\tremaining: 829ms\n",
      "3:\tlearn: 0.3407184\ttotal: 126ms\tremaining: 818ms\n",
      "4:\tlearn: 0.3234903\ttotal: 157ms\tremaining: 787ms\n",
      "5:\tlearn: 0.3105434\ttotal: 188ms\tremaining: 752ms\n",
      "6:\tlearn: 0.3013551\ttotal: 210ms\tremaining: 691ms\n",
      "7:\tlearn: 0.2935741\ttotal: 238ms\tremaining: 656ms\n",
      "8:\tlearn: 0.2818214\ttotal: 270ms\tremaining: 629ms\n",
      "9:\tlearn: 0.2768531\ttotal: 294ms\tremaining: 588ms\n",
      "10:\tlearn: 0.2728947\ttotal: 317ms\tremaining: 547ms\n",
      "11:\tlearn: 0.2670269\ttotal: 344ms\tremaining: 516ms\n",
      "12:\tlearn: 0.2634922\ttotal: 366ms\tremaining: 479ms\n",
      "13:\tlearn: 0.2590498\ttotal: 388ms\tremaining: 443ms\n",
      "14:\tlearn: 0.2549335\ttotal: 412ms\tremaining: 412ms\n",
      "15:\tlearn: 0.2471697\ttotal: 445ms\tremaining: 389ms\n",
      "16:\tlearn: 0.2423280\ttotal: 471ms\tremaining: 360ms\n",
      "17:\tlearn: 0.2401893\ttotal: 494ms\tremaining: 329ms\n",
      "18:\tlearn: 0.2377585\ttotal: 518ms\tremaining: 300ms\n",
      "19:\tlearn: 0.2338914\ttotal: 546ms\tremaining: 273ms\n",
      "20:\tlearn: 0.2313468\ttotal: 571ms\tremaining: 245ms\n",
      "21:\tlearn: 0.2277851\ttotal: 602ms\tremaining: 219ms\n",
      "22:\tlearn: 0.2237739\ttotal: 637ms\tremaining: 194ms\n",
      "23:\tlearn: 0.2185430\ttotal: 665ms\tremaining: 166ms\n",
      "24:\tlearn: 0.2173993\ttotal: 687ms\tremaining: 137ms\n",
      "25:\tlearn: 0.2146676\ttotal: 722ms\tremaining: 111ms\n",
      "26:\tlearn: 0.2134191\ttotal: 748ms\tremaining: 83.1ms\n",
      "27:\tlearn: 0.2127269\ttotal: 780ms\tremaining: 55.7ms\n",
      "28:\tlearn: 0.2108769\ttotal: 812ms\tremaining: 28ms\n",
      "29:\tlearn: 0.2086607\ttotal: 847ms\tremaining: 0us\n",
      "Learning rate set to 0.5\n",
      "0:\tlearn: 0.4919122\ttotal: 26.7ms\tremaining: 775ms\n",
      "1:\tlearn: 0.4085746\ttotal: 55.2ms\tremaining: 773ms\n",
      "2:\tlearn: 0.3662610\ttotal: 86.1ms\tremaining: 775ms\n",
      "3:\tlearn: 0.3343480\ttotal: 120ms\tremaining: 783ms\n",
      "4:\tlearn: 0.3144238\ttotal: 154ms\tremaining: 769ms\n",
      "5:\tlearn: 0.3037368\ttotal: 187ms\tremaining: 748ms\n",
      "6:\tlearn: 0.2881020\ttotal: 231ms\tremaining: 758ms\n",
      "7:\tlearn: 0.2766091\ttotal: 259ms\tremaining: 712ms\n",
      "8:\tlearn: 0.2690506\ttotal: 294ms\tremaining: 685ms\n",
      "9:\tlearn: 0.2582572\ttotal: 334ms\tremaining: 669ms\n",
      "10:\tlearn: 0.2517843\ttotal: 360ms\tremaining: 622ms\n",
      "11:\tlearn: 0.2479864\ttotal: 385ms\tremaining: 578ms\n",
      "12:\tlearn: 0.2408145\ttotal: 418ms\tremaining: 547ms\n",
      "13:\tlearn: 0.2356960\ttotal: 451ms\tremaining: 515ms\n",
      "14:\tlearn: 0.2322208\ttotal: 474ms\tremaining: 474ms\n",
      "15:\tlearn: 0.2268811\ttotal: 505ms\tremaining: 442ms\n",
      "16:\tlearn: 0.2229792\ttotal: 525ms\tremaining: 402ms\n",
      "17:\tlearn: 0.2203052\ttotal: 547ms\tremaining: 365ms\n",
      "18:\tlearn: 0.2185946\ttotal: 572ms\tremaining: 331ms\n",
      "19:\tlearn: 0.2146817\ttotal: 596ms\tremaining: 298ms\n",
      "20:\tlearn: 0.2115826\ttotal: 618ms\tremaining: 265ms\n",
      "21:\tlearn: 0.2083829\ttotal: 641ms\tremaining: 233ms\n",
      "22:\tlearn: 0.2073692\ttotal: 666ms\tremaining: 203ms\n",
      "23:\tlearn: 0.2064427\ttotal: 692ms\tremaining: 173ms\n",
      "24:\tlearn: 0.2039760\ttotal: 714ms\tremaining: 143ms\n",
      "25:\tlearn: 0.2017882\ttotal: 741ms\tremaining: 114ms\n",
      "26:\tlearn: 0.1985326\ttotal: 767ms\tremaining: 85.2ms\n",
      "27:\tlearn: 0.1935501\ttotal: 792ms\tremaining: 56.6ms\n",
      "28:\tlearn: 0.1920985\ttotal: 824ms\tremaining: 28.4ms\n",
      "29:\tlearn: 0.1902580\ttotal: 851ms\tremaining: 0us\n",
      "Learning rate set to 0.5\n",
      "0:\tlearn: 0.5041961\ttotal: 39.7ms\tremaining: 1.15s\n",
      "1:\tlearn: 0.4234509\ttotal: 80.2ms\tremaining: 1.12s\n",
      "2:\tlearn: 0.3731646\ttotal: 122ms\tremaining: 1.09s\n",
      "3:\tlearn: 0.3443794\ttotal: 152ms\tremaining: 989ms\n",
      "4:\tlearn: 0.3241175\ttotal: 188ms\tremaining: 942ms\n",
      "5:\tlearn: 0.3075894\ttotal: 211ms\tremaining: 845ms\n",
      "6:\tlearn: 0.2987525\ttotal: 236ms\tremaining: 775ms\n",
      "7:\tlearn: 0.2939361\ttotal: 257ms\tremaining: 706ms\n",
      "8:\tlearn: 0.2844986\ttotal: 284ms\tremaining: 663ms\n",
      "9:\tlearn: 0.2785650\ttotal: 312ms\tremaining: 624ms\n",
      "10:\tlearn: 0.2710568\ttotal: 342ms\tremaining: 591ms\n",
      "11:\tlearn: 0.2676701\ttotal: 361ms\tremaining: 542ms\n",
      "12:\tlearn: 0.2615317\ttotal: 389ms\tremaining: 508ms\n",
      "13:\tlearn: 0.2526636\ttotal: 422ms\tremaining: 483ms\n",
      "14:\tlearn: 0.2485709\ttotal: 447ms\tremaining: 447ms\n",
      "15:\tlearn: 0.2444158\ttotal: 475ms\tremaining: 416ms\n",
      "16:\tlearn: 0.2380044\ttotal: 503ms\tremaining: 384ms\n",
      "17:\tlearn: 0.2322481\ttotal: 532ms\tremaining: 354ms\n",
      "18:\tlearn: 0.2289725\ttotal: 557ms\tremaining: 322ms\n",
      "19:\tlearn: 0.2277130\ttotal: 581ms\tremaining: 290ms\n",
      "20:\tlearn: 0.2263378\ttotal: 605ms\tremaining: 259ms\n",
      "21:\tlearn: 0.2179021\ttotal: 638ms\tremaining: 232ms\n",
      "22:\tlearn: 0.2147274\ttotal: 671ms\tremaining: 204ms\n",
      "23:\tlearn: 0.2137144\ttotal: 700ms\tremaining: 175ms\n",
      "24:\tlearn: 0.2128867\ttotal: 726ms\tremaining: 145ms\n",
      "25:\tlearn: 0.2106024\ttotal: 752ms\tremaining: 116ms\n",
      "26:\tlearn: 0.2098408\ttotal: 773ms\tremaining: 85.9ms\n",
      "27:\tlearn: 0.2094352\ttotal: 795ms\tremaining: 56.8ms\n",
      "28:\tlearn: 0.2067205\ttotal: 818ms\tremaining: 28.2ms\n",
      "29:\tlearn: 0.2055679\ttotal: 841ms\tremaining: 0us\n",
      "Learning rate set to 0.5\n",
      "0:\tlearn: 0.5057694\ttotal: 75.3ms\tremaining: 678ms\n",
      "1:\tlearn: 0.4195134\ttotal: 128ms\tremaining: 511ms\n",
      "2:\tlearn: 0.3650723\ttotal: 176ms\tremaining: 411ms\n",
      "3:\tlearn: 0.3341651\ttotal: 246ms\tremaining: 369ms\n",
      "4:\tlearn: 0.3105962\ttotal: 314ms\tremaining: 314ms\n",
      "5:\tlearn: 0.2937926\ttotal: 369ms\tremaining: 246ms\n",
      "6:\tlearn: 0.2753501\ttotal: 439ms\tremaining: 188ms\n",
      "7:\tlearn: 0.2672382\ttotal: 487ms\tremaining: 122ms\n",
      "8:\tlearn: 0.2580243\ttotal: 543ms\tremaining: 60.3ms\n",
      "9:\tlearn: 0.2490954\ttotal: 593ms\tremaining: 0us\n",
      "Learning rate set to 0.5\n",
      "0:\tlearn: 0.5033934\ttotal: 68.3ms\tremaining: 615ms\n",
      "1:\tlearn: 0.4206243\ttotal: 125ms\tremaining: 498ms\n",
      "2:\tlearn: 0.3700834\ttotal: 178ms\tremaining: 415ms\n",
      "3:\tlearn: 0.3385556\ttotal: 230ms\tremaining: 345ms\n",
      "4:\tlearn: 0.3142883\ttotal: 308ms\tremaining: 308ms\n",
      "5:\tlearn: 0.2941653\ttotal: 375ms\tremaining: 250ms\n",
      "6:\tlearn: 0.2783565\ttotal: 458ms\tremaining: 196ms\n",
      "7:\tlearn: 0.2693468\ttotal: 508ms\tremaining: 127ms\n",
      "8:\tlearn: 0.2573258\ttotal: 572ms\tremaining: 63.6ms\n",
      "9:\tlearn: 0.2487303\ttotal: 639ms\tremaining: 0us\n",
      "Learning rate set to 0.5\n",
      "0:\tlearn: 0.5097697\ttotal: 82.2ms\tremaining: 739ms\n",
      "1:\tlearn: 0.4200524\ttotal: 138ms\tremaining: 552ms\n",
      "2:\tlearn: 0.3712815\ttotal: 218ms\tremaining: 508ms\n",
      "3:\tlearn: 0.3391353\ttotal: 280ms\tremaining: 419ms\n",
      "4:\tlearn: 0.3150040\ttotal: 336ms\tremaining: 336ms\n",
      "5:\tlearn: 0.2998645\ttotal: 390ms\tremaining: 260ms\n",
      "6:\tlearn: 0.2845603\ttotal: 446ms\tremaining: 191ms\n",
      "7:\tlearn: 0.2740007\ttotal: 494ms\tremaining: 124ms\n",
      "8:\tlearn: 0.2630687\ttotal: 550ms\tremaining: 61.1ms\n",
      "9:\tlearn: 0.2553691\ttotal: 597ms\tremaining: 0us\n",
      "Learning rate set to 0.5\n",
      "0:\tlearn: 0.4957122\ttotal: 78.1ms\tremaining: 703ms\n",
      "1:\tlearn: 0.4108275\ttotal: 151ms\tremaining: 602ms\n",
      "2:\tlearn: 0.3567618\ttotal: 197ms\tremaining: 459ms\n",
      "3:\tlearn: 0.3248606\ttotal: 255ms\tremaining: 383ms\n",
      "4:\tlearn: 0.3057168\ttotal: 331ms\tremaining: 331ms\n",
      "5:\tlearn: 0.2847136\ttotal: 402ms\tremaining: 268ms\n",
      "6:\tlearn: 0.2681555\ttotal: 505ms\tremaining: 217ms\n",
      "7:\tlearn: 0.2576154\ttotal: 554ms\tremaining: 138ms\n",
      "8:\tlearn: 0.2505103\ttotal: 600ms\tremaining: 66.7ms\n",
      "9:\tlearn: 0.2433601\ttotal: 648ms\tremaining: 0us\n",
      "Learning rate set to 0.5\n",
      "0:\tlearn: 0.5080756\ttotal: 77.4ms\tremaining: 697ms\n",
      "1:\tlearn: 0.4218803\ttotal: 154ms\tremaining: 617ms\n",
      "2:\tlearn: 0.3677640\ttotal: 220ms\tremaining: 513ms\n",
      "3:\tlearn: 0.3372487\ttotal: 285ms\tremaining: 428ms\n",
      "4:\tlearn: 0.3081400\ttotal: 355ms\tremaining: 355ms\n",
      "5:\tlearn: 0.2892230\ttotal: 424ms\tremaining: 283ms\n",
      "6:\tlearn: 0.2746730\ttotal: 482ms\tremaining: 206ms\n",
      "7:\tlearn: 0.2649413\ttotal: 534ms\tremaining: 133ms\n",
      "8:\tlearn: 0.2568037\ttotal: 581ms\tremaining: 64.5ms\n",
      "9:\tlearn: 0.2456750\ttotal: 654ms\tremaining: 0us\n",
      "Learning rate set to 0.5\n",
      "0:\tlearn: 0.5057694\ttotal: 91.3ms\tremaining: 1.73s\n",
      "1:\tlearn: 0.4195134\ttotal: 146ms\tremaining: 1.31s\n",
      "2:\tlearn: 0.3650723\ttotal: 192ms\tremaining: 1.09s\n",
      "3:\tlearn: 0.3341651\ttotal: 262ms\tremaining: 1.05s\n",
      "4:\tlearn: 0.3105962\ttotal: 329ms\tremaining: 987ms\n",
      "5:\tlearn: 0.2937926\ttotal: 383ms\tremaining: 893ms\n",
      "6:\tlearn: 0.2753501\ttotal: 453ms\tremaining: 841ms\n",
      "7:\tlearn: 0.2672382\ttotal: 502ms\tremaining: 753ms\n",
      "8:\tlearn: 0.2580243\ttotal: 559ms\tremaining: 683ms\n",
      "9:\tlearn: 0.2490954\ttotal: 608ms\tremaining: 608ms\n",
      "10:\tlearn: 0.2406465\ttotal: 656ms\tremaining: 537ms\n",
      "11:\tlearn: 0.2351939\ttotal: 711ms\tremaining: 474ms\n",
      "12:\tlearn: 0.2285318\ttotal: 767ms\tremaining: 413ms\n",
      "13:\tlearn: 0.2251429\ttotal: 808ms\tremaining: 346ms\n",
      "14:\tlearn: 0.2202057\ttotal: 858ms\tremaining: 286ms\n",
      "15:\tlearn: 0.2179707\ttotal: 886ms\tremaining: 221ms\n",
      "16:\tlearn: 0.2137601\ttotal: 939ms\tremaining: 166ms\n",
      "17:\tlearn: 0.2087112\ttotal: 979ms\tremaining: 109ms\n",
      "18:\tlearn: 0.2050564\ttotal: 1.03s\tremaining: 54.1ms\n",
      "19:\tlearn: 0.2005072\ttotal: 1.06s\tremaining: 0us\n",
      "Learning rate set to 0.5\n",
      "0:\tlearn: 0.5033934\ttotal: 88.3ms\tremaining: 1.68s\n",
      "1:\tlearn: 0.4206243\ttotal: 166ms\tremaining: 1.49s\n",
      "2:\tlearn: 0.3700834\ttotal: 227ms\tremaining: 1.28s\n",
      "3:\tlearn: 0.3385556\ttotal: 284ms\tremaining: 1.14s\n",
      "4:\tlearn: 0.3142883\ttotal: 362ms\tremaining: 1.09s\n",
      "5:\tlearn: 0.2941653\ttotal: 428ms\tremaining: 1000ms\n",
      "6:\tlearn: 0.2783565\ttotal: 509ms\tremaining: 945ms\n",
      "7:\tlearn: 0.2693468\ttotal: 570ms\tremaining: 856ms\n",
      "8:\tlearn: 0.2573258\ttotal: 637ms\tremaining: 778ms\n",
      "9:\tlearn: 0.2487303\ttotal: 700ms\tremaining: 700ms\n",
      "10:\tlearn: 0.2415742\ttotal: 750ms\tremaining: 614ms\n",
      "11:\tlearn: 0.2348463\ttotal: 786ms\tremaining: 524ms\n",
      "12:\tlearn: 0.2243966\ttotal: 863ms\tremaining: 464ms\n",
      "13:\tlearn: 0.2179611\ttotal: 918ms\tremaining: 394ms\n",
      "14:\tlearn: 0.2142038\ttotal: 965ms\tremaining: 322ms\n",
      "15:\tlearn: 0.2103983\ttotal: 1.01s\tremaining: 253ms\n",
      "16:\tlearn: 0.2042948\ttotal: 1.07s\tremaining: 188ms\n",
      "17:\tlearn: 0.1996740\ttotal: 1.13s\tremaining: 125ms\n",
      "18:\tlearn: 0.1947429\ttotal: 1.17s\tremaining: 61.4ms\n",
      "19:\tlearn: 0.1919773\ttotal: 1.22s\tremaining: 0us\n",
      "Learning rate set to 0.5\n",
      "0:\tlearn: 0.5097697\ttotal: 68.5ms\tremaining: 1.3s\n",
      "1:\tlearn: 0.4200524\ttotal: 125ms\tremaining: 1.13s\n",
      "2:\tlearn: 0.3712815\ttotal: 205ms\tremaining: 1.16s\n",
      "3:\tlearn: 0.3391353\ttotal: 263ms\tremaining: 1.05s\n",
      "4:\tlearn: 0.3150040\ttotal: 320ms\tremaining: 959ms\n",
      "5:\tlearn: 0.2998645\ttotal: 375ms\tremaining: 875ms\n",
      "6:\tlearn: 0.2845603\ttotal: 431ms\tremaining: 801ms\n",
      "7:\tlearn: 0.2740007\ttotal: 478ms\tremaining: 717ms\n",
      "8:\tlearn: 0.2630687\ttotal: 532ms\tremaining: 650ms\n",
      "9:\tlearn: 0.2553691\ttotal: 586ms\tremaining: 586ms\n",
      "10:\tlearn: 0.2492679\ttotal: 633ms\tremaining: 518ms\n",
      "11:\tlearn: 0.2394640\ttotal: 718ms\tremaining: 478ms\n",
      "12:\tlearn: 0.2352905\ttotal: 755ms\tremaining: 407ms\n",
      "13:\tlearn: 0.2291680\ttotal: 811ms\tremaining: 348ms\n",
      "14:\tlearn: 0.2230001\ttotal: 861ms\tremaining: 287ms\n",
      "15:\tlearn: 0.2204624\ttotal: 896ms\tremaining: 224ms\n",
      "16:\tlearn: 0.2175449\ttotal: 932ms\tremaining: 164ms\n",
      "17:\tlearn: 0.2113225\ttotal: 987ms\tremaining: 110ms\n",
      "18:\tlearn: 0.2078950\ttotal: 1.02s\tremaining: 53.7ms\n",
      "19:\tlearn: 0.2026845\ttotal: 1.07s\tremaining: 0us\n",
      "Learning rate set to 0.5\n",
      "0:\tlearn: 0.4957122\ttotal: 49ms\tremaining: 932ms\n",
      "1:\tlearn: 0.4108275\ttotal: 115ms\tremaining: 1.03s\n",
      "2:\tlearn: 0.3567618\ttotal: 159ms\tremaining: 903ms\n",
      "3:\tlearn: 0.3248606\ttotal: 208ms\tremaining: 831ms\n",
      "4:\tlearn: 0.3057168\ttotal: 275ms\tremaining: 826ms\n",
      "5:\tlearn: 0.2847136\ttotal: 336ms\tremaining: 784ms\n",
      "6:\tlearn: 0.2681555\ttotal: 426ms\tremaining: 791ms\n",
      "7:\tlearn: 0.2576154\ttotal: 466ms\tremaining: 699ms\n",
      "8:\tlearn: 0.2505103\ttotal: 513ms\tremaining: 627ms\n",
      "9:\tlearn: 0.2433601\ttotal: 553ms\tremaining: 553ms\n",
      "10:\tlearn: 0.2357767\ttotal: 600ms\tremaining: 491ms\n",
      "11:\tlearn: 0.2294303\ttotal: 646ms\tremaining: 431ms\n",
      "12:\tlearn: 0.2256133\ttotal: 677ms\tremaining: 365ms\n",
      "13:\tlearn: 0.2207947\ttotal: 725ms\tremaining: 311ms\n",
      "14:\tlearn: 0.2159889\ttotal: 765ms\tremaining: 255ms\n",
      "15:\tlearn: 0.2111029\ttotal: 822ms\tremaining: 205ms\n",
      "16:\tlearn: 0.2054785\ttotal: 874ms\tremaining: 154ms\n",
      "17:\tlearn: 0.2035997\ttotal: 911ms\tremaining: 101ms\n",
      "18:\tlearn: 0.2001197\ttotal: 944ms\tremaining: 49.7ms\n",
      "19:\tlearn: 0.1973412\ttotal: 976ms\tremaining: 0us\n",
      "Learning rate set to 0.5\n",
      "0:\tlearn: 0.5080756\ttotal: 70.1ms\tremaining: 1.33s\n",
      "1:\tlearn: 0.4218803\ttotal: 144ms\tremaining: 1.29s\n",
      "2:\tlearn: 0.3677640\ttotal: 193ms\tremaining: 1.09s\n",
      "3:\tlearn: 0.3372487\ttotal: 256ms\tremaining: 1.02s\n",
      "4:\tlearn: 0.3081400\ttotal: 331ms\tremaining: 992ms\n",
      "5:\tlearn: 0.2892230\ttotal: 405ms\tremaining: 944ms\n",
      "6:\tlearn: 0.2746730\ttotal: 458ms\tremaining: 851ms\n",
      "7:\tlearn: 0.2649413\ttotal: 507ms\tremaining: 761ms\n",
      "8:\tlearn: 0.2568037\ttotal: 555ms\tremaining: 678ms\n",
      "9:\tlearn: 0.2456750\ttotal: 631ms\tremaining: 631ms\n",
      "10:\tlearn: 0.2375807\ttotal: 677ms\tremaining: 554ms\n",
      "11:\tlearn: 0.2272780\ttotal: 744ms\tremaining: 496ms\n",
      "12:\tlearn: 0.2211392\ttotal: 796ms\tremaining: 429ms\n",
      "13:\tlearn: 0.2171679\ttotal: 843ms\tremaining: 361ms\n",
      "14:\tlearn: 0.2128081\ttotal: 894ms\tremaining: 298ms\n",
      "15:\tlearn: 0.2079928\ttotal: 936ms\tremaining: 234ms\n",
      "16:\tlearn: 0.2054095\ttotal: 984ms\tremaining: 174ms\n",
      "17:\tlearn: 0.2004367\ttotal: 1.02s\tremaining: 114ms\n",
      "18:\tlearn: 0.1971463\ttotal: 1.06s\tremaining: 55.8ms\n",
      "19:\tlearn: 0.1947091\ttotal: 1.1s\tremaining: 0us\n",
      "Learning rate set to 0.5\n",
      "0:\tlearn: 0.5057694\ttotal: 73.4ms\tremaining: 2.13s\n",
      "1:\tlearn: 0.4195134\ttotal: 123ms\tremaining: 1.72s\n",
      "2:\tlearn: 0.3650723\ttotal: 169ms\tremaining: 1.52s\n",
      "3:\tlearn: 0.3341651\ttotal: 238ms\tremaining: 1.54s\n",
      "4:\tlearn: 0.3105962\ttotal: 303ms\tremaining: 1.51s\n",
      "5:\tlearn: 0.2937926\ttotal: 355ms\tremaining: 1.42s\n",
      "6:\tlearn: 0.2753501\ttotal: 423ms\tremaining: 1.39s\n",
      "7:\tlearn: 0.2672382\ttotal: 475ms\tremaining: 1.31s\n",
      "8:\tlearn: 0.2580243\ttotal: 536ms\tremaining: 1.25s\n",
      "9:\tlearn: 0.2490954\ttotal: 588ms\tremaining: 1.18s\n",
      "10:\tlearn: 0.2406465\ttotal: 634ms\tremaining: 1.09s\n",
      "11:\tlearn: 0.2351939\ttotal: 684ms\tremaining: 1.02s\n",
      "12:\tlearn: 0.2285318\ttotal: 739ms\tremaining: 967ms\n",
      "13:\tlearn: 0.2251429\ttotal: 784ms\tremaining: 896ms\n",
      "14:\tlearn: 0.2202057\ttotal: 834ms\tremaining: 834ms\n",
      "15:\tlearn: 0.2179707\ttotal: 864ms\tremaining: 756ms\n",
      "16:\tlearn: 0.2137601\ttotal: 917ms\tremaining: 701ms\n",
      "17:\tlearn: 0.2087112\ttotal: 962ms\tremaining: 641ms\n",
      "18:\tlearn: 0.2050564\ttotal: 1.01s\tremaining: 584ms\n",
      "19:\tlearn: 0.2005072\ttotal: 1.05s\tremaining: 528ms\n",
      "20:\tlearn: 0.1949206\ttotal: 1.11s\tremaining: 475ms\n",
      "21:\tlearn: 0.1923325\ttotal: 1.14s\tremaining: 415ms\n",
      "22:\tlearn: 0.1900042\ttotal: 1.17s\tremaining: 357ms\n",
      "23:\tlearn: 0.1848203\ttotal: 1.22s\tremaining: 304ms\n",
      "24:\tlearn: 0.1819871\ttotal: 1.26s\tremaining: 252ms\n",
      "25:\tlearn: 0.1793419\ttotal: 1.3s\tremaining: 200ms\n",
      "26:\tlearn: 0.1782291\ttotal: 1.34s\tremaining: 149ms\n",
      "27:\tlearn: 0.1760316\ttotal: 1.39s\tremaining: 99.4ms\n",
      "28:\tlearn: 0.1740120\ttotal: 1.45s\tremaining: 49.9ms\n",
      "29:\tlearn: 0.1719938\ttotal: 1.5s\tremaining: 0us\n",
      "Learning rate set to 0.5\n",
      "0:\tlearn: 0.5033934\ttotal: 71.5ms\tremaining: 2.07s\n",
      "1:\tlearn: 0.4206243\ttotal: 128ms\tremaining: 1.8s\n",
      "2:\tlearn: 0.3700834\ttotal: 181ms\tremaining: 1.63s\n",
      "3:\tlearn: 0.3385556\ttotal: 231ms\tremaining: 1.5s\n",
      "4:\tlearn: 0.3142883\ttotal: 305ms\tremaining: 1.53s\n",
      "5:\tlearn: 0.2941653\ttotal: 370ms\tremaining: 1.48s\n",
      "6:\tlearn: 0.2783565\ttotal: 449ms\tremaining: 1.48s\n",
      "7:\tlearn: 0.2693468\ttotal: 500ms\tremaining: 1.37s\n",
      "8:\tlearn: 0.2573258\ttotal: 564ms\tremaining: 1.32s\n",
      "9:\tlearn: 0.2487303\ttotal: 625ms\tremaining: 1.25s\n",
      "10:\tlearn: 0.2415742\ttotal: 674ms\tremaining: 1.16s\n",
      "11:\tlearn: 0.2348463\ttotal: 707ms\tremaining: 1.06s\n",
      "12:\tlearn: 0.2243966\ttotal: 778ms\tremaining: 1.02s\n",
      "13:\tlearn: 0.2179611\ttotal: 830ms\tremaining: 949ms\n",
      "14:\tlearn: 0.2142038\ttotal: 873ms\tremaining: 873ms\n",
      "15:\tlearn: 0.2103983\ttotal: 918ms\tremaining: 803ms\n",
      "16:\tlearn: 0.2042948\ttotal: 971ms\tremaining: 742ms\n",
      "17:\tlearn: 0.1996740\ttotal: 1.03s\tremaining: 688ms\n",
      "18:\tlearn: 0.1947429\ttotal: 1.07s\tremaining: 621ms\n",
      "19:\tlearn: 0.1919773\ttotal: 1.13s\tremaining: 563ms\n",
      "20:\tlearn: 0.1889601\ttotal: 1.18s\tremaining: 507ms\n",
      "21:\tlearn: 0.1874478\ttotal: 1.23s\tremaining: 446ms\n",
      "22:\tlearn: 0.1824561\ttotal: 1.27s\tremaining: 388ms\n",
      "23:\tlearn: 0.1810850\ttotal: 1.32s\tremaining: 331ms\n",
      "24:\tlearn: 0.1788317\ttotal: 1.37s\tremaining: 274ms\n",
      "25:\tlearn: 0.1777965\ttotal: 1.42s\tremaining: 218ms\n",
      "26:\tlearn: 0.1735680\ttotal: 1.47s\tremaining: 163ms\n",
      "27:\tlearn: 0.1726032\ttotal: 1.52s\tremaining: 108ms\n",
      "28:\tlearn: 0.1704855\ttotal: 1.57s\tremaining: 54.2ms\n",
      "29:\tlearn: 0.1692675\ttotal: 1.62s\tremaining: 0us\n",
      "Learning rate set to 0.5\n",
      "0:\tlearn: 0.5097697\ttotal: 65ms\tremaining: 1.88s\n",
      "1:\tlearn: 0.4200524\ttotal: 118ms\tremaining: 1.65s\n",
      "2:\tlearn: 0.3712815\ttotal: 186ms\tremaining: 1.67s\n",
      "3:\tlearn: 0.3391353\ttotal: 240ms\tremaining: 1.56s\n",
      "4:\tlearn: 0.3150040\ttotal: 294ms\tremaining: 1.47s\n",
      "5:\tlearn: 0.2998645\ttotal: 351ms\tremaining: 1.4s\n",
      "6:\tlearn: 0.2845603\ttotal: 408ms\tremaining: 1.34s\n",
      "7:\tlearn: 0.2740007\ttotal: 456ms\tremaining: 1.25s\n",
      "8:\tlearn: 0.2630687\ttotal: 511ms\tremaining: 1.19s\n",
      "9:\tlearn: 0.2553691\ttotal: 558ms\tremaining: 1.11s\n",
      "10:\tlearn: 0.2492679\ttotal: 593ms\tremaining: 1.02s\n",
      "11:\tlearn: 0.2394640\ttotal: 661ms\tremaining: 991ms\n",
      "12:\tlearn: 0.2352905\ttotal: 700ms\tremaining: 916ms\n",
      "13:\tlearn: 0.2291680\ttotal: 742ms\tremaining: 848ms\n",
      "14:\tlearn: 0.2230001\ttotal: 793ms\tremaining: 793ms\n",
      "15:\tlearn: 0.2204624\ttotal: 827ms\tremaining: 724ms\n",
      "16:\tlearn: 0.2175449\ttotal: 862ms\tremaining: 659ms\n",
      "17:\tlearn: 0.2113225\ttotal: 915ms\tremaining: 610ms\n",
      "18:\tlearn: 0.2078950\ttotal: 950ms\tremaining: 550ms\n",
      "19:\tlearn: 0.2026845\ttotal: 994ms\tremaining: 497ms\n",
      "20:\tlearn: 0.1996372\ttotal: 1.04s\tremaining: 446ms\n",
      "21:\tlearn: 0.1953781\ttotal: 1.09s\tremaining: 396ms\n",
      "22:\tlearn: 0.1933520\ttotal: 1.13s\tremaining: 343ms\n",
      "23:\tlearn: 0.1912544\ttotal: 1.16s\tremaining: 290ms\n",
      "24:\tlearn: 0.1876827\ttotal: 1.2s\tremaining: 241ms\n",
      "25:\tlearn: 0.1835718\ttotal: 1.25s\tremaining: 193ms\n",
      "26:\tlearn: 0.1813047\ttotal: 1.3s\tremaining: 145ms\n",
      "27:\tlearn: 0.1800311\ttotal: 1.34s\tremaining: 96ms\n",
      "28:\tlearn: 0.1787869\ttotal: 1.39s\tremaining: 47.8ms\n",
      "29:\tlearn: 0.1759942\ttotal: 1.44s\tremaining: 0us\n",
      "Learning rate set to 0.5\n",
      "0:\tlearn: 0.4957122\ttotal: 49.8ms\tremaining: 1.44s\n",
      "1:\tlearn: 0.4108275\ttotal: 114ms\tremaining: 1.6s\n",
      "2:\tlearn: 0.3567618\ttotal: 158ms\tremaining: 1.42s\n",
      "3:\tlearn: 0.3248606\ttotal: 207ms\tremaining: 1.34s\n",
      "4:\tlearn: 0.3057168\ttotal: 273ms\tremaining: 1.36s\n",
      "5:\tlearn: 0.2847136\ttotal: 331ms\tremaining: 1.32s\n",
      "6:\tlearn: 0.2681555\ttotal: 428ms\tremaining: 1.41s\n",
      "7:\tlearn: 0.2576154\ttotal: 469ms\tremaining: 1.29s\n",
      "8:\tlearn: 0.2505103\ttotal: 513ms\tremaining: 1.2s\n",
      "9:\tlearn: 0.2433601\ttotal: 554ms\tremaining: 1.11s\n",
      "10:\tlearn: 0.2357767\ttotal: 603ms\tremaining: 1.04s\n",
      "11:\tlearn: 0.2294303\ttotal: 651ms\tremaining: 977ms\n",
      "12:\tlearn: 0.2256133\ttotal: 682ms\tremaining: 892ms\n",
      "13:\tlearn: 0.2207947\ttotal: 730ms\tremaining: 834ms\n",
      "14:\tlearn: 0.2159889\ttotal: 769ms\tremaining: 769ms\n",
      "15:\tlearn: 0.2111029\ttotal: 822ms\tremaining: 719ms\n",
      "16:\tlearn: 0.2054785\ttotal: 875ms\tremaining: 669ms\n",
      "17:\tlearn: 0.2035997\ttotal: 911ms\tremaining: 607ms\n",
      "18:\tlearn: 0.2001197\ttotal: 948ms\tremaining: 549ms\n",
      "19:\tlearn: 0.1973412\ttotal: 986ms\tremaining: 493ms\n",
      "20:\tlearn: 0.1909253\ttotal: 1.03s\tremaining: 440ms\n",
      "21:\tlearn: 0.1860658\ttotal: 1.07s\tremaining: 391ms\n",
      "22:\tlearn: 0.1836836\ttotal: 1.12s\tremaining: 342ms\n",
      "23:\tlearn: 0.1815041\ttotal: 1.17s\tremaining: 292ms\n",
      "24:\tlearn: 0.1789313\ttotal: 1.22s\tremaining: 243ms\n",
      "25:\tlearn: 0.1762343\ttotal: 1.26s\tremaining: 195ms\n",
      "26:\tlearn: 0.1732743\ttotal: 1.31s\tremaining: 146ms\n",
      "27:\tlearn: 0.1718275\ttotal: 1.36s\tremaining: 97.3ms\n",
      "28:\tlearn: 0.1697886\ttotal: 1.42s\tremaining: 48.8ms\n",
      "29:\tlearn: 0.1648682\ttotal: 1.47s\tremaining: 0us\n",
      "Learning rate set to 0.5\n",
      "0:\tlearn: 0.5080756\ttotal: 69ms\tremaining: 2s\n",
      "1:\tlearn: 0.4218803\ttotal: 141ms\tremaining: 1.97s\n",
      "2:\tlearn: 0.3677640\ttotal: 190ms\tremaining: 1.71s\n",
      "3:\tlearn: 0.3372487\ttotal: 254ms\tremaining: 1.65s\n",
      "4:\tlearn: 0.3081400\ttotal: 323ms\tremaining: 1.62s\n",
      "5:\tlearn: 0.2892230\ttotal: 392ms\tremaining: 1.57s\n",
      "6:\tlearn: 0.2746730\ttotal: 446ms\tremaining: 1.46s\n",
      "7:\tlearn: 0.2649413\ttotal: 495ms\tremaining: 1.36s\n",
      "8:\tlearn: 0.2568037\ttotal: 543ms\tremaining: 1.27s\n",
      "9:\tlearn: 0.2456750\ttotal: 613ms\tremaining: 1.23s\n",
      "10:\tlearn: 0.2375807\ttotal: 661ms\tremaining: 1.14s\n",
      "11:\tlearn: 0.2272780\ttotal: 730ms\tremaining: 1.09s\n",
      "12:\tlearn: 0.2211392\ttotal: 789ms\tremaining: 1.03s\n",
      "13:\tlearn: 0.2171679\ttotal: 832ms\tremaining: 950ms\n",
      "14:\tlearn: 0.2128081\ttotal: 885ms\tremaining: 885ms\n",
      "15:\tlearn: 0.2079928\ttotal: 927ms\tremaining: 811ms\n",
      "16:\tlearn: 0.2054095\ttotal: 977ms\tremaining: 747ms\n",
      "17:\tlearn: 0.2004367\ttotal: 1.02s\tremaining: 678ms\n",
      "18:\tlearn: 0.1971463\ttotal: 1.05s\tremaining: 611ms\n",
      "19:\tlearn: 0.1947091\ttotal: 1.09s\tremaining: 546ms\n",
      "20:\tlearn: 0.1884325\ttotal: 1.15s\tremaining: 494ms\n",
      "21:\tlearn: 0.1857803\ttotal: 1.21s\tremaining: 438ms\n",
      "22:\tlearn: 0.1838486\ttotal: 1.24s\tremaining: 377ms\n",
      "23:\tlearn: 0.1831571\ttotal: 1.28s\tremaining: 321ms\n",
      "24:\tlearn: 0.1818150\ttotal: 1.34s\tremaining: 267ms\n",
      "25:\tlearn: 0.1776530\ttotal: 1.38s\tremaining: 212ms\n",
      "26:\tlearn: 0.1758361\ttotal: 1.42s\tremaining: 158ms\n",
      "27:\tlearn: 0.1715780\ttotal: 1.47s\tremaining: 105ms\n",
      "28:\tlearn: 0.1690725\ttotal: 1.52s\tremaining: 52.4ms\n",
      "29:\tlearn: 0.1667386\ttotal: 1.56s\tremaining: 0us\n",
      "Learning rate set to 0.5\n",
      "0:\tlearn: 0.5005643\ttotal: 2.91ms\tremaining: 84.3ms\n",
      "1:\tlearn: 0.4354621\ttotal: 5.88ms\tremaining: 82.3ms\n",
      "2:\tlearn: 0.3951247\ttotal: 8.61ms\tremaining: 77.5ms\n",
      "3:\tlearn: 0.3801682\ttotal: 11.6ms\tremaining: 75.4ms\n",
      "4:\tlearn: 0.3616428\ttotal: 14.3ms\tremaining: 71.7ms\n",
      "5:\tlearn: 0.3558757\ttotal: 17.2ms\tremaining: 68.9ms\n",
      "6:\tlearn: 0.3538929\ttotal: 20ms\tremaining: 65.7ms\n",
      "7:\tlearn: 0.3509570\ttotal: 22.9ms\tremaining: 63.1ms\n",
      "8:\tlearn: 0.3483770\ttotal: 25.5ms\tremaining: 59.5ms\n",
      "9:\tlearn: 0.3430472\ttotal: 28.2ms\tremaining: 56.4ms\n",
      "10:\tlearn: 0.3407389\ttotal: 30.8ms\tremaining: 53.2ms\n",
      "11:\tlearn: 0.3386037\ttotal: 33.8ms\tremaining: 50.7ms\n",
      "12:\tlearn: 0.3376335\ttotal: 36.2ms\tremaining: 47.3ms\n",
      "13:\tlearn: 0.3367613\ttotal: 38.6ms\tremaining: 44.1ms\n",
      "14:\tlearn: 0.3335663\ttotal: 41.6ms\tremaining: 41.6ms\n",
      "15:\tlearn: 0.3329865\ttotal: 44.2ms\tremaining: 38.7ms\n",
      "16:\tlearn: 0.3301809\ttotal: 46.8ms\tremaining: 35.8ms\n",
      "17:\tlearn: 0.3296651\ttotal: 49.5ms\tremaining: 33ms\n",
      "18:\tlearn: 0.3281876\ttotal: 52.3ms\tremaining: 30.3ms\n",
      "19:\tlearn: 0.3277547\ttotal: 56.1ms\tremaining: 28ms\n",
      "20:\tlearn: 0.3270692\ttotal: 60.1ms\tremaining: 25.8ms\n",
      "21:\tlearn: 0.3267498\ttotal: 63.9ms\tremaining: 23.2ms\n",
      "22:\tlearn: 0.3244524\ttotal: 68ms\tremaining: 20.7ms\n",
      "23:\tlearn: 0.3239341\ttotal: 71.8ms\tremaining: 18ms\n",
      "24:\tlearn: 0.3236805\ttotal: 75.2ms\tremaining: 15ms\n",
      "25:\tlearn: 0.3232877\ttotal: 78.5ms\tremaining: 12.1ms\n",
      "26:\tlearn: 0.3231369\ttotal: 81.1ms\tremaining: 9.01ms\n",
      "27:\tlearn: 0.3225697\ttotal: 83.8ms\tremaining: 5.99ms\n",
      "28:\tlearn: 0.3224773\ttotal: 86.2ms\tremaining: 2.97ms\n",
      "29:\tlearn: 0.3207755\ttotal: 88.8ms\tremaining: 0us\n"
     ]
    },
    {
     "data": {
      "text/plain": [
       "{'max_depth': 3, 'n_estimators': 30}"
      ]
     },
     "execution_count": 23,
     "metadata": {},
     "output_type": "execute_result"
    }
   ],
   "source": [
    "parameters = {'n_estimators': range (10, 40, 10),\n",
    "              'max_depth': range (1, 14, 2)}\n",
    "\n",
    "grid = GridSearchCV(model_cb, parameters, cv=5)\n",
    "grid.fit(features_train, target_train, cat_features=cat_features)\n",
    "grid.best_params_"
   ]
  },
  {
   "cell_type": "code",
   "execution_count": 24,
   "metadata": {},
   "outputs": [
    {
     "name": "stdout",
     "output_type": "stream",
     "text": [
      "Learning rate set to 0.5\n",
      "0:\tlearn: 0.5218533\ttotal: 48.4ms\tremaining: 1.4s\n",
      "1:\tlearn: 0.4630170\ttotal: 143ms\tremaining: 2s\n",
      "2:\tlearn: 0.4079605\ttotal: 240ms\tremaining: 2.16s\n",
      "3:\tlearn: 0.3780626\ttotal: 328ms\tremaining: 2.13s\n",
      "4:\tlearn: 0.3566638\ttotal: 418ms\tremaining: 2.09s\n",
      "5:\tlearn: 0.3403406\ttotal: 507ms\tremaining: 2.03s\n",
      "6:\tlearn: 0.3289313\ttotal: 510ms\tremaining: 1.68s\n",
      "7:\tlearn: 0.3181561\ttotal: 598ms\tremaining: 1.64s\n",
      "8:\tlearn: 0.3094984\ttotal: 602ms\tremaining: 1.4s\n",
      "9:\tlearn: 0.3023574\ttotal: 605ms\tremaining: 1.21s\n",
      "10:\tlearn: 0.2939845\ttotal: 694ms\tremaining: 1.2s\n",
      "11:\tlearn: 0.2863421\ttotal: 783ms\tremaining: 1.17s\n",
      "12:\tlearn: 0.2774922\ttotal: 873ms\tremaining: 1.14s\n",
      "13:\tlearn: 0.2717352\ttotal: 962ms\tremaining: 1.1s\n",
      "14:\tlearn: 0.2701218\ttotal: 966ms\tremaining: 966ms\n",
      "15:\tlearn: 0.2616497\ttotal: 1.05s\tremaining: 922ms\n",
      "16:\tlearn: 0.2556535\ttotal: 1.14s\tremaining: 875ms\n",
      "17:\tlearn: 0.2492032\ttotal: 1.23s\tremaining: 823ms\n",
      "18:\tlearn: 0.2430284\ttotal: 1.32s\tremaining: 765ms\n",
      "19:\tlearn: 0.2375126\ttotal: 1.42s\tremaining: 708ms\n",
      "20:\tlearn: 0.2317828\ttotal: 1.51s\tremaining: 646ms\n",
      "21:\tlearn: 0.2280927\ttotal: 1.6s\tremaining: 582ms\n",
      "22:\tlearn: 0.2244516\ttotal: 1.69s\tremaining: 516ms\n",
      "23:\tlearn: 0.2214658\ttotal: 1.78s\tremaining: 445ms\n",
      "24:\tlearn: 0.2158976\ttotal: 1.87s\tremaining: 373ms\n",
      "25:\tlearn: 0.2133106\ttotal: 1.95s\tremaining: 301ms\n",
      "26:\tlearn: 0.2091222\ttotal: 2.04s\tremaining: 227ms\n",
      "27:\tlearn: 0.2055786\ttotal: 2.13s\tremaining: 152ms\n",
      "28:\tlearn: 0.2030575\ttotal: 2.21s\tremaining: 76.3ms\n",
      "29:\tlearn: 0.2010795\ttotal: 2.3s\tremaining: 0us\n",
      "\n",
      "=====================\n",
      "\n",
      "F1-score: 0.5699067909454061\n",
      "Recall: 0.4745011086474501\n",
      "Precision: 0.7133333333333334\n",
      "AUC-ROC: 0.8523162334706871\n"
     ]
    }
   ],
   "source": [
    "model_cb = CatBoostClassifier(n_estimators=30, max_depth=13)\n",
    "cat_features = ['geography', 'gender']\n",
    "model_cb.fit(features_train, target_train, cat_features=cat_features)\n",
    "predicted_cb = model_cb.predict(features_test)\n",
    "\n",
    "print()\n",
    "print('=====================')\n",
    "print()\n",
    "print('F1-score:', f1_score(target_test, predicted_cb))\n",
    "print('Recall:', recall_score(target_test, predicted_cb))\n",
    "print('Precision:', precision_score(target_test, predicted_cb))\n",
    "probabilities_cb = model_cb.predict_proba(features_test)\n",
    "probabilities_one_cb = probabilities_cb[:, 1]\n",
    "print('AUC-ROC:', roc_auc_score(target_test, probabilities_one_cb))"
   ]
  },
  {
   "cell_type": "markdown",
   "metadata": {},
   "source": [
    "### Метрики моделей"
   ]
  },
  {
   "cell_type": "markdown",
   "metadata": {},
   "source": [
    "Собрем метрики трех пробных моделей в таблицу. "
   ]
  },
  {
   "cell_type": "code",
   "execution_count": 25,
   "metadata": {},
   "outputs": [],
   "source": [
    "unbalanced_metrics_dict = {\n",
    "    'linear_regression': [f1_score_lr, precision_lr, recall_lr, auc_roc_lr],\n",
    "    'decision_tree': [best_f1_score_dt, precision_dt, recall_dt, auc_roc_dt],\n",
    "    'random_forest': [best_f1_score_rf, precision_rf, recall_rf, auc_roc_rf]\n",
    "}\n",
    "unbalanced_metrics_columns=['f1', 'precision', 'recall', 'auc_roc']\n",
    "unbalanced_metrics = pd.DataFrame(unbalanced_metrics_dict).transpose().round(4)\n",
    "unbalanced_metrics.columns = unbalanced_metrics_columns"
   ]
  },
  {
   "cell_type": "code",
   "execution_count": 26,
   "metadata": {},
   "outputs": [
    {
     "data": {
      "text/html": [
       "<div>\n",
       "<style scoped>\n",
       "    .dataframe tbody tr th:only-of-type {\n",
       "        vertical-align: middle;\n",
       "    }\n",
       "\n",
       "    .dataframe tbody tr th {\n",
       "        vertical-align: top;\n",
       "    }\n",
       "\n",
       "    .dataframe thead th {\n",
       "        text-align: right;\n",
       "    }\n",
       "</style>\n",
       "<table border=\"1\" class=\"dataframe\">\n",
       "  <thead>\n",
       "    <tr style=\"text-align: right;\">\n",
       "      <th></th>\n",
       "      <th>f1</th>\n",
       "      <th>precision</th>\n",
       "      <th>recall</th>\n",
       "      <th>auc_roc</th>\n",
       "    </tr>\n",
       "  </thead>\n",
       "  <tbody>\n",
       "    <tr>\n",
       "      <th>linear_regression</th>\n",
       "      <td>0.3040</td>\n",
       "      <td>0.6179</td>\n",
       "      <td>0.2016</td>\n",
       "      <td>0.7736</td>\n",
       "    </tr>\n",
       "    <tr>\n",
       "      <th>decision_tree</th>\n",
       "      <td>0.5764</td>\n",
       "      <td>0.7211</td>\n",
       "      <td>0.4801</td>\n",
       "      <td>0.8346</td>\n",
       "    </tr>\n",
       "    <tr>\n",
       "      <th>random_forest</th>\n",
       "      <td>0.5919</td>\n",
       "      <td>0.7647</td>\n",
       "      <td>0.4828</td>\n",
       "      <td>0.8558</td>\n",
       "    </tr>\n",
       "  </tbody>\n",
       "</table>\n",
       "</div>"
      ],
      "text/plain": [
       "                       f1  precision  recall  auc_roc\n",
       "linear_regression  0.3040     0.6179  0.2016   0.7736\n",
       "decision_tree      0.5764     0.7211  0.4801   0.8346\n",
       "random_forest      0.5919     0.7647  0.4828   0.8558"
      ]
     },
     "execution_count": 26,
     "metadata": {},
     "output_type": "execute_result"
    }
   ],
   "source": [
    "unbalanced_metrics"
   ]
  },
  {
   "cell_type": "markdown",
   "metadata": {},
   "source": [
    "Мы видим, что у всех моделей проблемы с выделением положительных ответов - метрика _**recall**_ не дотягивает и до 0.5. Это значит, что модели \"не попадают\" и в половину всех значений 1 целевого признака. При этом, метрика _**precision**_ у модели **случайного леса** приятно выделяется со значением 0.7647: модель не так часто предсказывает 1, когда в действительности значение равно 0. \n",
    "\n",
    "Можно предположить, что наиболее удачная модель - **случайный лес** - лидирует по значению метрики _**F1-score**_ именно потому, что она редко предсказывает положительные ответы, и порой эти ответы совпадают с действительностью. Эта модель не разбрасывается положительными ответами, поэтому, вероятно, количество ложноположительных ответов у нее невысоко. То есть модель предсказывает не очень, но в целом лучше случайной: это можно подтвердить значением метрики _**AUC_ROC**_ в 0.85."
   ]
  },
  {
   "cell_type": "markdown",
   "metadata": {},
   "source": [
    "### Промежуточные выводы\n",
    "\n",
    "**Мы обнаружили, что наши данные несбалансированы**: целевой признак распределен в соотношении 4:1, то есть на 4 клиента, оставющегося в банке, приходится 1, который банк покидает. \n",
    "На этой выборке мы рассмотрели модели логистической регрессии, дерева решений и случайного леса. \n",
    "\n",
    "**Наилучшие показатели F1-меры у модели случайного леса при глубине 19 и количестве деревьев 30.**\n",
    "\n",
    "На следующем этапе мы постараемся улучшить все модели путем перевзвешивания классов и работой с объемом выборки. "
   ]
  },
  {
   "cell_type": "markdown",
   "metadata": {},
   "source": [
    "## Борьба с дисбалансом"
   ]
  },
  {
   "cell_type": "markdown",
   "metadata": {},
   "source": [
    "### Функция для работы с моделями"
   ]
  },
  {
   "cell_type": "markdown",
   "metadata": {},
   "source": [
    "Для начала напишем функцию, которая будет принимать на вход наши модели и возвращать таблицу с метриками. Это полезно, так как мы уже выделили оптимальные гиперпараметры для дерева решений и случайного леса, и теперь нам будет интересно работать с выборкой. "
   ]
  },
  {
   "cell_type": "code",
   "execution_count": 27,
   "metadata": {},
   "outputs": [],
   "source": [
    "def model_metrics (models, features_train, features_valid, target_train, target_valid):\n",
    "    f1 = []\n",
    "    recall = []\n",
    "    precision = []\n",
    "    auc_roc = []\n",
    "    \n",
    "    for model in models:\n",
    "        model.fit(features_train, target_train)\n",
    "        predicted_valid = model.predict(features_valid)\n",
    "        f1.append(f1_score(target_valid, predicted_valid))\n",
    "        recall.append(recall_score(target_valid, predicted_valid))\n",
    "        precision.append (precision_score(target_valid, predicted_valid))\n",
    "        probabilities_valid = model.predict_proba(features_valid)\n",
    "        probabilities_one_valid = probabilities_valid[:, 1]\n",
    "        auc_roc.append(roc_auc_score(target_valid, probabilities_one_valid))\n",
    "\n",
    "    index = ['f1', 'precision', 'recall', 'auc_roc']\n",
    "    columns = list(models.values())\n",
    "    metrics = pd.DataFrame(data=[f1, recall, precision, auc_roc], index=index, columns=columns)\n",
    "\n",
    "    return metrics"
   ]
  },
  {
   "cell_type": "markdown",
   "metadata": {},
   "source": [
    "### Перевзвешивание классов"
   ]
  },
  {
   "cell_type": "markdown",
   "metadata": {},
   "source": [
    "Перевзвесим выборку так, чтобы она была сбалансирована: добавим к нашим моделям гиперпараметр _'balanced'_.  \n",
    "Затем соберем сбалансированные модели в словарь и отдадим его функции _model_metrics_."
   ]
  },
  {
   "cell_type": "code",
   "execution_count": 28,
   "metadata": {},
   "outputs": [],
   "source": [
    "lr_balanced = LogisticRegression(solver='liblinear', random_state=12345, class_weight='balanced')\n",
    "dt_balanced = DecisionTreeClassifier(max_depth=7, random_state=12345, class_weight='balanced')\n",
    "rf_balanced = RandomForestClassifier(max_depth=19, n_estimators=30, random_state=12345, class_weight='balanced')\n",
    "\n",
    "models_balanced = [dt_balanced, rf_balanced]\n",
    "models_balanced_name = ['decision_tree', 'random_forest']\n",
    "models_balanced_dict = dict(zip(models_balanced, models_balanced_name))\n",
    "\n",
    "lr_balanced_dict = {lr_balanced:'linear_regression'}"
   ]
  },
  {
   "cell_type": "code",
   "execution_count": 29,
   "metadata": {},
   "outputs": [],
   "source": [
    "features_train, features_valid, features_test, target_train, target_valid, target_test = split_data(df_ohe)\n",
    "balanced_metrics_lr = model_metrics(lr_balanced_dict, features_train, features_valid, target_train, target_valid\n",
    ")\n",
    "\n",
    "features_train, features_valid, features_test, target_train, target_valid, target_test = split_data(df_ordinal)\n",
    "\n",
    "balanced_metrics = model_metrics(\n",
    "    models_balanced_dict, features_train, features_valid, target_train, target_valid\n",
    ")\n",
    "\n",
    "balanced_metrics = balanced_metrics.join(balanced_metrics_lr)\n",
    "balanced_metrics = balanced_metrics.transpose().round(4)"
   ]
  },
  {
   "cell_type": "code",
   "execution_count": 30,
   "metadata": {},
   "outputs": [
    {
     "data": {
      "text/html": [
       "<div>\n",
       "<style scoped>\n",
       "    .dataframe tbody tr th:only-of-type {\n",
       "        vertical-align: middle;\n",
       "    }\n",
       "\n",
       "    .dataframe tbody tr th {\n",
       "        vertical-align: top;\n",
       "    }\n",
       "\n",
       "    .dataframe thead th {\n",
       "        text-align: right;\n",
       "    }\n",
       "</style>\n",
       "<table border=\"1\" class=\"dataframe\">\n",
       "  <thead>\n",
       "    <tr style=\"text-align: right;\">\n",
       "      <th></th>\n",
       "      <th>f1</th>\n",
       "      <th>precision</th>\n",
       "      <th>recall</th>\n",
       "      <th>auc_roc</th>\n",
       "    </tr>\n",
       "  </thead>\n",
       "  <tbody>\n",
       "    <tr>\n",
       "      <th>decision_tree</th>\n",
       "      <td>0.5119</td>\n",
       "      <td>0.6870</td>\n",
       "      <td>0.4079</td>\n",
       "      <td>0.7963</td>\n",
       "    </tr>\n",
       "    <tr>\n",
       "      <th>random_forest</th>\n",
       "      <td>0.5563</td>\n",
       "      <td>0.4324</td>\n",
       "      <td>0.7799</td>\n",
       "      <td>0.8460</td>\n",
       "    </tr>\n",
       "    <tr>\n",
       "      <th>linear_regression</th>\n",
       "      <td>0.5097</td>\n",
       "      <td>0.7294</td>\n",
       "      <td>0.3917</td>\n",
       "      <td>0.7778</td>\n",
       "    </tr>\n",
       "  </tbody>\n",
       "</table>\n",
       "</div>"
      ],
      "text/plain": [
       "                       f1  precision  recall  auc_roc\n",
       "decision_tree      0.5119     0.6870  0.4079   0.7963\n",
       "random_forest      0.5563     0.4324  0.7799   0.8460\n",
       "linear_regression  0.5097     0.7294  0.3917   0.7778"
      ]
     },
     "execution_count": 30,
     "metadata": {},
     "output_type": "execute_result"
    }
   ],
   "source": [
    "balanced_metrics"
   ]
  },
  {
   "cell_type": "markdown",
   "metadata": {},
   "source": [
    "Видим, что перевзвешивание повысило **_F1-score_** только для **логистической регрессии**, для остальных моделей значение метрики понизилось. "
   ]
  },
  {
   "cell_type": "markdown",
   "metadata": {},
   "source": [
    "### Upsampling"
   ]
  },
  {
   "cell_type": "markdown",
   "metadata": {},
   "source": [
    "Попробуем увеличить выборку через увеличение положительных целевых признаков. Мы можем увеличить их в 4 раза, чтобы добиться примерно равных долей 0 и 1. \n",
    "\n",
    "Сначала введем функцию **upsample**. "
   ]
  },
  {
   "cell_type": "code",
   "execution_count": 31,
   "metadata": {},
   "outputs": [],
   "source": [
    "def upsample(features, target, repeat):\n",
    "    features_zeros = features[target == 0]\n",
    "    features_ones = features[target == 1]\n",
    "    target_zeros = target[target == 0]\n",
    "    target_ones = target[target == 1]\n",
    "\n",
    "    features_upsampled = pd.concat([features_zeros] + [features_ones] * repeat)\n",
    "    target_upsampled = pd.concat([target_zeros] + [target_ones] * repeat)\n",
    "    \n",
    "    features_upsampled, target_upsampled = shuffle(\n",
    "        features_upsampled, target_upsampled, random_state=12345)\n",
    "    \n",
    "    return features_upsampled, target_upsampled"
   ]
  },
  {
   "cell_type": "markdown",
   "metadata": {},
   "source": [
    "Запустим функцию и посмотрим, как изменятся метрики для разных моделей. "
   ]
  },
  {
   "cell_type": "code",
   "execution_count": 32,
   "metadata": {},
   "outputs": [],
   "source": [
    "lr_balanced = LogisticRegression(solver='liblinear', random_state=12345, class_weight='balanced')\n",
    "dt_balanced = DecisionTreeClassifier(max_depth=7, random_state=12345, class_weight='balanced')\n",
    "rf_balanced = RandomForestClassifier(max_depth=19, n_estimators=30, random_state=12345, class_weight='balanced')\n",
    "\n",
    "models_upsampled = [dt_balanced, rf_balanced]\n",
    "models_upsampled_name = ['decision_tree', 'random_forest']\n",
    "models_upsampled_dict = dict(zip(models_balanced, models_balanced_name))\n",
    "\n",
    "lr_upsampled_dict = {lr_balanced:'linear_regression'}"
   ]
  },
  {
   "cell_type": "code",
   "execution_count": 33,
   "metadata": {},
   "outputs": [],
   "source": [
    "features_train, features_valid, features_test, target_train, target_valid, target_test = split_data(df_ohe)\n",
    "features_upsampled, target_upsampled = upsample(features_train, target_train, 4)\n",
    "upsampled_metrics_lr = model_metrics(\n",
    "    lr_upsampled_dict, features_upsampled, features_valid, target_upsampled, target_valid\n",
    ")\n",
    "\n",
    "features_train, features_valid, features_test, target_train, target_valid, target_test = split_data(df_ordinal)\n",
    "features_upsampled, target_upsampled = upsample(features_train, target_train, 4)\n",
    "upsampled_metrics = model_metrics(\n",
    "    models_upsampled_dict, features_upsampled, features_valid, target_upsampled, target_valid\n",
    ")\n",
    "\n",
    "upsampled_metrics = upsampled_metrics.join(upsampled_metrics_lr)\n",
    "upsampled_metrics = upsampled_metrics.transpose().round(4)"
   ]
  },
  {
   "cell_type": "code",
   "execution_count": 34,
   "metadata": {},
   "outputs": [
    {
     "data": {
      "text/html": [
       "<div>\n",
       "<style scoped>\n",
       "    .dataframe tbody tr th:only-of-type {\n",
       "        vertical-align: middle;\n",
       "    }\n",
       "\n",
       "    .dataframe tbody tr th {\n",
       "        vertical-align: top;\n",
       "    }\n",
       "\n",
       "    .dataframe thead th {\n",
       "        text-align: right;\n",
       "    }\n",
       "</style>\n",
       "<table border=\"1\" class=\"dataframe\">\n",
       "  <thead>\n",
       "    <tr style=\"text-align: right;\">\n",
       "      <th></th>\n",
       "      <th>f1</th>\n",
       "      <th>precision</th>\n",
       "      <th>recall</th>\n",
       "      <th>auc_roc</th>\n",
       "    </tr>\n",
       "  </thead>\n",
       "  <tbody>\n",
       "    <tr>\n",
       "      <th>decision_tree</th>\n",
       "      <td>0.5119</td>\n",
       "      <td>0.6870</td>\n",
       "      <td>0.4079</td>\n",
       "      <td>0.7963</td>\n",
       "    </tr>\n",
       "    <tr>\n",
       "      <th>random_forest</th>\n",
       "      <td>0.6023</td>\n",
       "      <td>0.5464</td>\n",
       "      <td>0.6710</td>\n",
       "      <td>0.8533</td>\n",
       "    </tr>\n",
       "    <tr>\n",
       "      <th>linear_regression</th>\n",
       "      <td>0.5097</td>\n",
       "      <td>0.7294</td>\n",
       "      <td>0.3917</td>\n",
       "      <td>0.7778</td>\n",
       "    </tr>\n",
       "  </tbody>\n",
       "</table>\n",
       "</div>"
      ],
      "text/plain": [
       "                       f1  precision  recall  auc_roc\n",
       "decision_tree      0.5119     0.6870  0.4079   0.7963\n",
       "random_forest      0.6023     0.5464  0.6710   0.8533\n",
       "linear_regression  0.5097     0.7294  0.3917   0.7778"
      ]
     },
     "execution_count": 34,
     "metadata": {},
     "output_type": "execute_result"
    }
   ],
   "source": [
    "upsampled_metrics"
   ]
  },
  {
   "cell_type": "markdown",
   "metadata": {},
   "source": [
    "Upsampling помог увеличить показатели для модели **случайный лес**. Теперь **_F1-score_** превысил 0.6!"
   ]
  },
  {
   "cell_type": "markdown",
   "metadata": {},
   "source": [
    "### Downsampling"
   ]
  },
  {
   "cell_type": "markdown",
   "metadata": {},
   "source": [
    "Теперь попробуем сделать наоборот: вместо того, чтобы увеличивать количество положительных целевых признаков мы уменьшим количество отрицательных. Все так же в 4 раза. "
   ]
  },
  {
   "cell_type": "code",
   "execution_count": 35,
   "metadata": {},
   "outputs": [],
   "source": [
    "def downsample(features, target, fraction):\n",
    "    features_zeros = features[target == 0]\n",
    "    features_ones = features[target == 1]\n",
    "    target_zeros = target[target == 0]\n",
    "    target_ones = target[target == 1]\n",
    "\n",
    "    features_downsampled = pd.concat(\n",
    "        [features_zeros.sample(frac=fraction, random_state=12345)] + [features_ones])\n",
    "    target_downsampled = pd.concat(\n",
    "        [target_zeros.sample(frac=fraction, random_state=12345)] + [target_ones])\n",
    "    \n",
    "    features_downsampled, target_downsampled = shuffle(\n",
    "        features_downsampled, target_downsampled, random_state=12345)\n",
    "    \n",
    "    return features_downsampled, target_downsampled"
   ]
  },
  {
   "cell_type": "code",
   "execution_count": 36,
   "metadata": {},
   "outputs": [],
   "source": [
    "features_train, features_valid, features_test, target_train, target_valid, target_test = split_data(df_ohe)\n",
    "features_downsampled, target_downsampled = downsample(features_train, target_train, 0.25)\n",
    "downsampled_metrics_lr = model_metrics(\n",
    "    lr_upsampled_dict, features_downsampled, features_valid, target_downsampled, target_valid\n",
    ")\n",
    "\n",
    "features_train, features_valid, features_test, target_train, target_valid, target_test = split_data(df_ordinal)\n",
    "features_downsampled, target_downsampled = downsample(features_train, target_train, 0.25)\n",
    "downsampled_metrics = model_metrics(\n",
    "    models_upsampled_dict, features_downsampled, features_valid, target_downsampled, target_valid\n",
    ")\n",
    "\n",
    "downsampled_metrics = downsampled_metrics.join(downsampled_metrics_lr)\n",
    "downsampled_metrics = downsampled_metrics.transpose().round(4)"
   ]
  },
  {
   "cell_type": "code",
   "execution_count": 37,
   "metadata": {},
   "outputs": [
    {
     "data": {
      "text/html": [
       "<div>\n",
       "<style scoped>\n",
       "    .dataframe tbody tr th:only-of-type {\n",
       "        vertical-align: middle;\n",
       "    }\n",
       "\n",
       "    .dataframe tbody tr th {\n",
       "        vertical-align: top;\n",
       "    }\n",
       "\n",
       "    .dataframe thead th {\n",
       "        text-align: right;\n",
       "    }\n",
       "</style>\n",
       "<table border=\"1\" class=\"dataframe\">\n",
       "  <thead>\n",
       "    <tr style=\"text-align: right;\">\n",
       "      <th></th>\n",
       "      <th>f1</th>\n",
       "      <th>precision</th>\n",
       "      <th>recall</th>\n",
       "      <th>auc_roc</th>\n",
       "    </tr>\n",
       "  </thead>\n",
       "  <tbody>\n",
       "    <tr>\n",
       "      <th>decision_tree</th>\n",
       "      <td>0.5460</td>\n",
       "      <td>0.7719</td>\n",
       "      <td>0.4224</td>\n",
       "      <td>0.8139</td>\n",
       "    </tr>\n",
       "    <tr>\n",
       "      <th>random_forest</th>\n",
       "      <td>0.5739</td>\n",
       "      <td>0.7878</td>\n",
       "      <td>0.4514</td>\n",
       "      <td>0.8521</td>\n",
       "    </tr>\n",
       "    <tr>\n",
       "      <th>linear_regression</th>\n",
       "      <td>0.5059</td>\n",
       "      <td>0.7347</td>\n",
       "      <td>0.3858</td>\n",
       "      <td>0.7769</td>\n",
       "    </tr>\n",
       "  </tbody>\n",
       "</table>\n",
       "</div>"
      ],
      "text/plain": [
       "                       f1  precision  recall  auc_roc\n",
       "decision_tree      0.5460     0.7719  0.4224   0.8139\n",
       "random_forest      0.5739     0.7878  0.4514   0.8521\n",
       "linear_regression  0.5059     0.7347  0.3858   0.7769"
      ]
     },
     "execution_count": 37,
     "metadata": {},
     "output_type": "execute_result"
    }
   ],
   "source": [
    "downsampled_metrics"
   ]
  },
  {
   "cell_type": "markdown",
   "metadata": {},
   "source": [
    "Downsampling показал себя не таким эффективным, как upsampling. \n",
    "\n",
    "Попробуем вернуться к upsampling'у для самой успешной модели - **случайного леса** - и поработаем еще раз с гиперпараметрами этой модели. Может, удастся добиться более интересных результатов. "
   ]
  },
  {
   "cell_type": "markdown",
   "metadata": {},
   "source": [
    "### Изменение гиперпараметров для upsampled-модели случайного леса"
   ]
  },
  {
   "cell_type": "code",
   "execution_count": 38,
   "metadata": {},
   "outputs": [
    {
     "name": "stdout",
     "output_type": "stream",
     "text": [
      "Глубина: 1\n",
      "F1-мера валидационной выборки: 0.5186\n",
      "-------\n",
      "\n",
      "Глубина: 2\n",
      "F1-мера валидационной выборки: 0.5671\n",
      "-------\n",
      "\n",
      "Глубина: 3\n",
      "F1-мера валидационной выборки: 0.5599\n",
      "-------\n",
      "\n",
      "Глубина: 4\n",
      "F1-мера валидационной выборки: 0.5691\n",
      "-------\n",
      "\n",
      "Глубина: 5\n",
      "F1-мера валидационной выборки: 0.5998\n",
      "-------\n",
      "\n",
      "Глубина: 6\n",
      "F1-мера валидационной выборки: 0.5857\n",
      "-------\n",
      "\n",
      "Глубина: 7\n",
      "F1-мера валидационной выборки: 0.595\n",
      "-------\n",
      "\n",
      "Глубина: 8\n",
      "F1-мера валидационной выборки: 0.5936\n",
      "-------\n",
      "\n",
      "Глубина: 9\n",
      "F1-мера валидационной выборки: 0.5993\n",
      "-------\n",
      "\n",
      "Глубина: 10\n",
      "F1-мера валидационной выборки: 0.612\n",
      "-------\n",
      "\n",
      "Глубина: 11\n",
      "F1-мера валидационной выборки: 0.6047\n",
      "-------\n",
      "\n",
      "Глубина: 12\n",
      "F1-мера валидационной выборки: 0.6202\n",
      "-------\n",
      "\n",
      "Глубина: 13\n",
      "F1-мера валидационной выборки: 0.5995\n",
      "-------\n",
      "\n",
      "Глубина: 14\n",
      "F1-мера валидационной выборки: 0.5981\n",
      "-------\n",
      "\n",
      "Глубина: 15\n",
      "F1-мера валидационной выборки: 0.5869\n",
      "-------\n",
      "\n",
      "Глубина: 16\n",
      "F1-мера валидационной выборки: 0.5815\n",
      "-------\n",
      "\n",
      "Глубина: 17\n",
      "F1-мера валидационной выборки: 0.5991\n",
      "-------\n",
      "\n",
      "Глубина: 18\n",
      "F1-мера валидационной выборки: 0.6012\n",
      "-------\n",
      "\n",
      "Глубина: 19\n",
      "F1-мера валидационной выборки: 0.5816\n",
      "-------\n",
      "\n",
      "Глубина: 20\n",
      "F1-мера валидационной выборки: 0.5689\n",
      "-------\n",
      "\n",
      "Глубина: 21\n",
      "F1-мера валидационной выборки: 0.5877\n",
      "-------\n",
      "\n",
      "Глубина: 22\n",
      "F1-мера валидационной выборки: 0.5872\n",
      "-------\n",
      "\n",
      "Глубина: 23\n",
      "F1-мера валидационной выборки: 0.5843\n",
      "-------\n",
      "\n",
      "Глубина: 24\n",
      "F1-мера валидационной выборки: 0.5838\n",
      "-------\n",
      "\n",
      "Глубина: 25\n",
      "F1-мера валидационной выборки: 0.5865\n",
      "-------\n",
      "\n",
      "Глубина: 26\n",
      "F1-мера валидационной выборки: 0.5805\n",
      "-------\n",
      "\n",
      "Глубина: 27\n",
      "F1-мера валидационной выборки: 0.5757\n",
      "-------\n",
      "\n",
      "Глубина: 28\n",
      "F1-мера валидационной выборки: 0.5822\n",
      "-------\n",
      "\n",
      "Глубина: 29\n",
      "F1-мера валидационной выборки: 0.5822\n",
      "-------\n",
      "\n",
      "Лучшая модель: RandomForestClassifier(max_depth=12, n_estimators=20, random_state=12345)\n",
      "Глубина этой модели: 12\n",
      "F1-мера валидационной выборки этой модели: 0.6202\n"
     ]
    }
   ],
   "source": [
    "features_train, features_valid, features_test, target_train, target_valid, target_test = split_data(df_ordinal)\n",
    "\n",
    "features_train, target_train = upsample(features_train, target_train, 4)\n",
    "\n",
    "best_depth_rf = 0\n",
    "best_model_rf = None\n",
    "best_f1_score_rf = 0\n",
    "\n",
    "for depth in range (1, 30):\n",
    "    model_rf = RandomForestClassifier(random_state=12345, max_depth=depth, n_estimators=20)\n",
    "    model_rf.fit(features_train, target_train)\n",
    "    predicted_valid_rf = model_rf.predict(features_valid)\n",
    "    f1_score_rf = f1_score(target_valid, predicted_valid_rf)\n",
    "                    \n",
    "    print('Глубина:', depth)\n",
    "    print('F1-мера валидационной выборки:', f1_score_rf.round(4))\n",
    "    print('-------')\n",
    "    print()\n",
    "    \n",
    "    if f1_score_rf > best_f1_score_rf:\n",
    "        best_model_rf = model_rf\n",
    "        best_depth_rf = depth\n",
    "        best_f1_score_rf = f1_score_rf\n",
    " \n",
    "print('Лучшая модель:', best_model_rf)\n",
    "print('Глубина этой модели:', best_depth_rf)\n",
    "print('F1-мера валидационной выборки этой модели:', best_f1_score_rf.round(4))\n",
    "    "
   ]
  },
  {
   "cell_type": "markdown",
   "metadata": {},
   "source": [
    "Сразу находим модель получше: **_F1-score_** на глубине 12 равен 0.62. Далее поэкспериментируем с количеством деревьев!"
   ]
  },
  {
   "cell_type": "code",
   "execution_count": 39,
   "metadata": {},
   "outputs": [
    {
     "name": "stdout",
     "output_type": "stream",
     "text": [
      "Количество деревьев: 10\n",
      "F1-мера валидационной выборки: 0.6198\n",
      "-------\n",
      "\n",
      "Количество деревьев: 15\n",
      "F1-мера валидационной выборки: 0.6261\n",
      "-------\n",
      "\n",
      "Количество деревьев: 20\n",
      "F1-мера валидационной выборки: 0.6202\n",
      "-------\n",
      "\n",
      "Количество деревьев: 25\n",
      "F1-мера валидационной выборки: 0.6248\n",
      "-------\n",
      "\n",
      "Количество деревьев: 30\n",
      "F1-мера валидационной выборки: 0.6304\n",
      "-------\n",
      "\n",
      "Количество деревьев: 35\n",
      "F1-мера валидационной выборки: 0.6323\n",
      "-------\n",
      "\n",
      "Количество деревьев: 40\n",
      "F1-мера валидационной выборки: 0.6261\n",
      "-------\n",
      "\n",
      "Количество деревьев: 45\n",
      "F1-мера валидационной выборки: 0.6386\n",
      "-------\n",
      "\n",
      "Количество деревьев: 50\n",
      "F1-мера валидационной выборки: 0.6354\n",
      "-------\n",
      "\n",
      "Количество деревьев: 55\n",
      "F1-мера валидационной выборки: 0.6381\n",
      "-------\n",
      "\n",
      "Количество деревьев: 60\n",
      "F1-мера валидационной выборки: 0.6347\n",
      "-------\n",
      "\n",
      "Количество деревьев: 65\n",
      "F1-мера валидационной выборки: 0.6295\n",
      "-------\n",
      "\n",
      "Количество деревьев: 70\n",
      "F1-мера валидационной выборки: 0.6348\n",
      "-------\n",
      "\n",
      "Количество деревьев: 75\n",
      "F1-мера валидационной выборки: 0.6314\n",
      "-------\n",
      "\n",
      "Количество деревьев: 80\n",
      "F1-мера валидационной выборки: 0.6261\n",
      "-------\n",
      "\n",
      "Количество деревьев: 85\n",
      "F1-мера валидационной выборки: 0.6237\n",
      "-------\n",
      "\n",
      "Количество деревьев: 90\n",
      "F1-мера валидационной выборки: 0.6331\n",
      "-------\n",
      "\n",
      "Количество деревьев: 95\n",
      "F1-мера валидационной выборки: 0.6348\n",
      "-------\n",
      "\n",
      "\n",
      "Лучшая модель: RandomForestClassifier(max_depth=12, n_estimators=45, random_state=12345)\n",
      "Глубина этой модели: 12\n",
      "Количество деревьев этой модели: 45\n",
      "F1-мера валидационной выборки этой модели: 0.6386\n"
     ]
    }
   ],
   "source": [
    "best_est_rf = 0\n",
    "best_model_rf = None\n",
    "best_f1_score_rf = 0\n",
    "\n",
    "for est in range (10, 100, 5):\n",
    "    model_rf = RandomForestClassifier(random_state=12345, max_depth=best_depth_rf, n_estimators=est)\n",
    "    model_rf.fit(features_train, target_train)\n",
    "    predicted_valid_rf = model_rf.predict(features_valid)\n",
    "    f1_score_rf = f1_score(target_valid, predicted_valid_rf)\n",
    "                    \n",
    "    print('Количество деревьев:', est)\n",
    "    print('F1-мера валидационной выборки:', f1_score_rf.round(4))\n",
    "    print('-------')\n",
    "    print()\n",
    "    \n",
    "    if f1_score_rf > best_f1_score_rf:\n",
    "        best_model_rf = model_rf\n",
    "        best_est_rf = est\n",
    "        best_f1_score_rf = f1_score_rf\n",
    "        recall_rf = recall_score(target_valid, predicted_valid_rf)\n",
    "        precision_rf = precision_score(target_valid, predicted_valid_rf)\n",
    "        probabilities_valid_rf = model_rf.predict_proba(features_valid)\n",
    "        probabilities_one_valid_rf = probabilities_valid_rf[:, 1]\n",
    "        auc_roc_rf = roc_auc_score(target_valid, probabilities_one_valid_rf)\n",
    "        \n",
    "print()\n",
    "print('Лучшая модель:', best_model_rf)\n",
    "print('Глубина этой модели:', best_depth_rf)\n",
    "print('Количество деревьев этой модели:', best_est_rf)\n",
    "print('F1-мера валидационной выборки этой модели:', best_f1_score_rf.round(4))"
   ]
  },
  {
   "cell_type": "markdown",
   "metadata": {},
   "source": [
    "Нам удалось довести **_F1-score_** до значения 0.6386! Посмотрим на остальные метрики этой модели. "
   ]
  },
  {
   "cell_type": "code",
   "execution_count": 40,
   "metadata": {},
   "outputs": [],
   "source": [
    "best_model_dict = {\n",
    "    'random_forest': [best_f1_score_rf, precision_rf, recall_rf, auc_roc_rf]\n",
    "}\n",
    "best_model_columns=['f1', 'precision', 'recall', 'auc_roc']\n",
    "best_model_metrics = pd.DataFrame(best_model_dict).transpose().round(4)\n",
    "best_model_metrics.columns = best_model_columns"
   ]
  },
  {
   "cell_type": "code",
   "execution_count": 41,
   "metadata": {},
   "outputs": [
    {
     "data": {
      "text/html": [
       "<div>\n",
       "<style scoped>\n",
       "    .dataframe tbody tr th:only-of-type {\n",
       "        vertical-align: middle;\n",
       "    }\n",
       "\n",
       "    .dataframe tbody tr th {\n",
       "        vertical-align: top;\n",
       "    }\n",
       "\n",
       "    .dataframe thead th {\n",
       "        text-align: right;\n",
       "    }\n",
       "</style>\n",
       "<table border=\"1\" class=\"dataframe\">\n",
       "  <thead>\n",
       "    <tr style=\"text-align: right;\">\n",
       "      <th></th>\n",
       "      <th>f1</th>\n",
       "      <th>precision</th>\n",
       "      <th>recall</th>\n",
       "      <th>auc_roc</th>\n",
       "    </tr>\n",
       "  </thead>\n",
       "  <tbody>\n",
       "    <tr>\n",
       "      <th>random_forest</th>\n",
       "      <td>0.6386</td>\n",
       "      <td>0.6328</td>\n",
       "      <td>0.6446</td>\n",
       "      <td>0.8611</td>\n",
       "    </tr>\n",
       "  </tbody>\n",
       "</table>\n",
       "</div>"
      ],
      "text/plain": [
       "                   f1  precision  recall  auc_roc\n",
       "random_forest  0.6386     0.6328  0.6446   0.8611"
      ]
     },
     "execution_count": 41,
     "metadata": {},
     "output_type": "execute_result"
    }
   ],
   "source": [
    "best_model_metrics"
   ]
  },
  {
   "cell_type": "markdown",
   "metadata": {},
   "source": [
    "Сравним результаты с тем, что у нас получилось до изменения гиперпараметров:"
   ]
  },
  {
   "cell_type": "code",
   "execution_count": 42,
   "metadata": {},
   "outputs": [
    {
     "data": {
      "text/html": [
       "<div>\n",
       "<style scoped>\n",
       "    .dataframe tbody tr th:only-of-type {\n",
       "        vertical-align: middle;\n",
       "    }\n",
       "\n",
       "    .dataframe tbody tr th {\n",
       "        vertical-align: top;\n",
       "    }\n",
       "\n",
       "    .dataframe thead th {\n",
       "        text-align: right;\n",
       "    }\n",
       "</style>\n",
       "<table border=\"1\" class=\"dataframe\">\n",
       "  <thead>\n",
       "    <tr style=\"text-align: right;\">\n",
       "      <th></th>\n",
       "      <th>f1</th>\n",
       "      <th>precision</th>\n",
       "      <th>recall</th>\n",
       "      <th>auc_roc</th>\n",
       "    </tr>\n",
       "  </thead>\n",
       "  <tbody>\n",
       "    <tr>\n",
       "      <th>random_forest</th>\n",
       "      <td>0.6023</td>\n",
       "      <td>0.5464</td>\n",
       "      <td>0.671</td>\n",
       "      <td>0.8533</td>\n",
       "    </tr>\n",
       "  </tbody>\n",
       "</table>\n",
       "</div>"
      ],
      "text/plain": [
       "                   f1  precision  recall  auc_roc\n",
       "random_forest  0.6023     0.5464   0.671   0.8533"
      ]
     },
     "execution_count": 42,
     "metadata": {},
     "output_type": "execute_result"
    }
   ],
   "source": [
    "upsampled_metrics[1:2]"
   ]
  },
  {
   "cell_type": "markdown",
   "metadata": {},
   "source": [
    "Мы видим, что значение всех метрик, кроме **_recall_**, выросло. Предположу, что уменьшение значения полноты может быть объяснено тем, что модель стала чаще предсказывать 0. "
   ]
  },
  {
   "cell_type": "markdown",
   "metadata": {},
   "source": [
    "#### Изменение гиперпараметров при помощи GridSearchCV"
   ]
  },
  {
   "cell_type": "code",
   "execution_count": 48,
   "metadata": {},
   "outputs": [
    {
     "name": "stdout",
     "output_type": "stream",
     "text": [
      "CPU times: user 5min 53s, sys: 1.43 s, total: 5min 54s\n",
      "Wall time: 5min 54s\n"
     ]
    },
    {
     "data": {
      "text/plain": [
       "{'max_depth': 12, 'n_estimators': 38}"
      ]
     },
     "execution_count": 48,
     "metadata": {},
     "output_type": "execute_result"
    }
   ],
   "source": [
    "%%time\n",
    "\n",
    "target = df_ordinal['exited']\n",
    "features = df_ordinal.drop('exited', axis=1) \n",
    "features_train, features_test, target_train, target_test = train_test_split(\n",
    "    features, target, test_size=0.25, random_state=12345)\n",
    "\n",
    "model_rf_cv = RandomForestClassifier()\n",
    "parameters_rf_cv = {'n_estimators': range (10, 50),\n",
    "              'max_depth': range (1, 15)}\n",
    "\n",
    "grid = GridSearchCV(model_rf_cv, parameters_rf_cv, cv=5)\n",
    "grid.fit(features_train, target_train)\n",
    "grid.best_params_"
   ]
  },
  {
   "cell_type": "code",
   "execution_count": 49,
   "metadata": {},
   "outputs": [
    {
     "data": {
      "text/html": [
       "<div>\n",
       "<style scoped>\n",
       "    .dataframe tbody tr th:only-of-type {\n",
       "        vertical-align: middle;\n",
       "    }\n",
       "\n",
       "    .dataframe tbody tr th {\n",
       "        vertical-align: top;\n",
       "    }\n",
       "\n",
       "    .dataframe thead th {\n",
       "        text-align: right;\n",
       "    }\n",
       "</style>\n",
       "<table border=\"1\" class=\"dataframe\">\n",
       "  <thead>\n",
       "    <tr style=\"text-align: right;\">\n",
       "      <th></th>\n",
       "      <th>f1</th>\n",
       "      <th>precision</th>\n",
       "      <th>recall</th>\n",
       "      <th>auc_roc</th>\n",
       "    </tr>\n",
       "  </thead>\n",
       "  <tbody>\n",
       "    <tr>\n",
       "      <th>random_forest</th>\n",
       "      <td>0.6002</td>\n",
       "      <td>0.5594</td>\n",
       "      <td>0.6475</td>\n",
       "      <td>0.8476</td>\n",
       "    </tr>\n",
       "  </tbody>\n",
       "</table>\n",
       "</div>"
      ],
      "text/plain": [
       "                   f1  precision  recall  auc_roc\n",
       "random_forest  0.6002     0.5594  0.6475   0.8476"
      ]
     },
     "execution_count": 49,
     "metadata": {},
     "output_type": "execute_result"
    }
   ],
   "source": [
    "features_train, target_train = upsample(features_train, target_train, 4)\n",
    "\n",
    "best_model_rf_cv = RandomForestClassifier(max_depth=12, n_estimators=38, random_state=12345)\n",
    "best_model_rf_cv.fit(features_train, target_train)\n",
    "predicitions_rf_cv = best_model_rf_cv.predict(features_test)\n",
    "\n",
    "f1_rf_cv = f1_score(target_test, predicitions_rf_cv)\n",
    "recall_rf_cv = recall_score(target_test, predicitions_rf_cv)\n",
    "precision_rf_cv = precision_score(target_test, predicitions_rf_cv)\n",
    "probabilities_rf_cv = best_model_rf_cv.predict_proba(features_test)\n",
    "probabilities_one_rf_cv = probabilities_rf_cv[:, 1]\n",
    "auc_roc_rf_cv = roc_auc_score(target_test, probabilities_one_rf_cv)\n",
    "\n",
    "model_rf_cv_dict = {\n",
    "    'random_forest': [f1_rf_cv, precision_rf_cv, recall_rf_cv, auc_roc_rf_cv]\n",
    "}\n",
    "model_rf_cv_columns=['f1', 'precision', 'recall', 'auc_roc']\n",
    "model_rf_cv_metrics = pd.DataFrame(model_rf_cv_dict).transpose().round(4)\n",
    "model_rf_cv_metrics.columns = model_rf_cv_columns\n",
    "\n",
    "model_rf_cv_metrics"
   ]
  },
  {
   "cell_type": "markdown",
   "metadata": {},
   "source": [
    "### Промежуточные выводы"
   ]
  },
  {
   "cell_type": "markdown",
   "metadata": {},
   "source": [
    "**На этом этапе мы предприняли 3 способа борьбы с дисбалансом:**\n",
    "* перевзвешивание классов\n",
    "* upsampling\n",
    "* downsampling\n",
    "\n",
    "Наиболее эффективным оказался **upsampling** модели **случайный лес** с последующим изменением гиперпараметров. \n",
    "**Так наша итоговая модель имеет глубину 12 и количество деревьев 45. F1-score этой модели равен 0.6386.**\t"
   ]
  },
  {
   "cell_type": "markdown",
   "metadata": {},
   "source": [
    "## Тестирование модели"
   ]
  },
  {
   "cell_type": "markdown",
   "metadata": {},
   "source": [
    "Здесь мы не будет работать ни с какими другими моделями, кроме той, которую мы отображи на предыдущем шаге. Проверим нашу модель на тестовой выборке. \n",
    "Для того, чтобы получше обучить нашу модель, обучим ее на чуть большей выборке, а именно разделим выборку не на три (тренировочная, валидационная, тестовая), а на две - тренировочная и тестовая. При этом используем upsampling для тренировочной выборки и будем применять все те же гиперпараметры."
   ]
  },
  {
   "cell_type": "code",
   "execution_count": 45,
   "metadata": {},
   "outputs": [
    {
     "data": {
      "text/plain": [
       "RandomForestClassifier(max_depth=12, n_estimators=45, random_state=12345)"
      ]
     },
     "execution_count": 45,
     "metadata": {},
     "output_type": "execute_result"
    }
   ],
   "source": [
    "best_model_rf"
   ]
  },
  {
   "cell_type": "code",
   "execution_count": 46,
   "metadata": {},
   "outputs": [
    {
     "data": {
      "text/html": [
       "<div>\n",
       "<style scoped>\n",
       "    .dataframe tbody tr th:only-of-type {\n",
       "        vertical-align: middle;\n",
       "    }\n",
       "\n",
       "    .dataframe tbody tr th {\n",
       "        vertical-align: top;\n",
       "    }\n",
       "\n",
       "    .dataframe thead th {\n",
       "        text-align: right;\n",
       "    }\n",
       "</style>\n",
       "<table border=\"1\" class=\"dataframe\">\n",
       "  <thead>\n",
       "    <tr style=\"text-align: right;\">\n",
       "      <th></th>\n",
       "      <th>f1</th>\n",
       "      <th>precision</th>\n",
       "      <th>recall</th>\n",
       "      <th>auc_roc</th>\n",
       "    </tr>\n",
       "  </thead>\n",
       "  <tbody>\n",
       "    <tr>\n",
       "      <th>random_forest_test</th>\n",
       "      <td>0.5998</td>\n",
       "      <td>0.562</td>\n",
       "      <td>0.643</td>\n",
       "      <td>0.6611</td>\n",
       "    </tr>\n",
       "  </tbody>\n",
       "</table>\n",
       "</div>"
      ],
      "text/plain": [
       "                        f1  precision  recall  auc_roc\n",
       "random_forest_test  0.5998      0.562   0.643   0.6611"
      ]
     },
     "execution_count": 46,
     "metadata": {},
     "output_type": "execute_result"
    }
   ],
   "source": [
    "target = df_ordinal['exited']\n",
    "features = df_ordinal.drop('exited', axis=1) \n",
    "\n",
    "features_train, features_test, target_train, target_test = train_test_split(\n",
    "    features, target, test_size=0.25, random_state=12345)\n",
    "\n",
    "features_train, target_train = upsample(features_train, target_train, 4)\n",
    "\n",
    "model_test = RandomForestClassifier(max_depth=12, n_estimators=45, random_state=12345)\n",
    "model_test.fit(features_train, target_train)\n",
    "predicted_test = model_test.predict(features_test)\n",
    "f1_score_test = f1_score(target_test, predicted_test)\n",
    "recall_test = recall_score(target_test, predicted_test)\n",
    "precision_test = precision_score(target_test, predicted_test)\n",
    "probabilities_test = model_rf.predict_proba(features_test)\n",
    "probabilities_one_test = probabilities_test[:, 1]\n",
    "auc_roc_test = roc_auc_score(target_test, probabilities_one_test)\n",
    "\n",
    "test_model_dict = {\n",
    "    'random_forest_test': [f1_score_test, precision_test, recall_test, auc_roc_test]\n",
    "}\n",
    "test_model_columns=['f1', 'precision', 'recall', 'auc_roc']\n",
    "test_model_metrics = pd.DataFrame(test_model_dict).transpose().round(4)\n",
    "test_model_metrics.columns = test_model_columns\n",
    "\n",
    "test_model_metrics"
   ]
  },
  {
   "cell_type": "markdown",
   "metadata": {},
   "source": [
    "На тестовой выборке результаты метрики _**F1-score**_ пониже (но все же высоту в 0.59 взяли)! При этом, значение метрики **_AUC-ROC_** значительно снизилось: вероятно, за счет снижения _**precision**_."
   ]
  },
  {
   "cell_type": "markdown",
   "metadata": {},
   "source": [
    "### Промежуточные выводы\n",
    "\n",
    "Мы протестировали модель и получили результат **_F1-score_** равный 0.5998 (ниже валидационной выборки) и значение метрики **_AUC-ROC_** 0.6611 (сильно ниже валидационной выборки).\n",
    "\n",
    "Можно предположить, что модель рабочая, но, возможно, немного переученная. "
   ]
  },
  {
   "cell_type": "markdown",
   "metadata": {},
   "source": [
    "## Вывод"
   ]
  },
  {
   "cell_type": "markdown",
   "metadata": {},
   "source": [
    "**Проект заключался в том, чтобы построить модель, способную спрогнозировать, уйдет ли клиент банка в ближайшее время или все-таки останется.**\n",
    "\n",
    "На первом этапе мы провели **подготовку и предобработку данных**: удалили пропуски (909 строк из базы объемом в 10000 наблюдений), исключили ненужные колонки и переименовали признаки для удобства работы. \n",
    "\n",
    "Далее мы **построили 3 пробные модели на несбалансированных данных:**\n",
    "* логистическая регрессия\n",
    "* дерево решений\n",
    "* случайный лес\n",
    "\n",
    "Перебрав гиперпараметры, мы **добились модели случайного дела с метрикой F1-score в 0.5919.**\n",
    "\n",
    "После этого, мы стали **работать над балансом данных:**\n",
    "* перевзвесили классы\n",
    "* сделали upsampling\n",
    "* произвели downsampling\n",
    "\n",
    "**Налучшие результаты показала модель случайного леса при upsampling'e: мы получили F1-score 0.6023 и AUC-ROC 0.8533.**\n",
    "\n",
    "Вдохновившись этим результатом, мы решили поэкспериментировать с гиперпараметрами этой модели при upsampling'e тренировочной выборке. Как результат, **мы получили F1-score 0.6386 и AUC-ROC 0.8611.**\n",
    "\n",
    "Далее мы проверили эту модель на тестовой выборке, предварительно обучив ее на чуть большем объеме данных (исключили валидационную выборку, она больше не нужна). \n",
    "\n",
    "**Финальный результат тестовой выборки оказался ниже: F1-score равный 0.5998 (ниже валидационной выборки) и значение метрики AUC-ROC 0.6611.**"
   ]
  }
 ],
 "metadata": {
  "ExecuteTimeLog": [
   {
    "duration": 594,
    "start_time": "2022-03-16T12:54:18.039Z"
   },
   {
    "duration": 79,
    "start_time": "2022-03-16T12:54:19.724Z"
   },
   {
    "duration": 24,
    "start_time": "2022-03-16T12:54:24.477Z"
   },
   {
    "duration": 26,
    "start_time": "2022-03-16T12:54:29.366Z"
   },
   {
    "duration": 8,
    "start_time": "2022-03-16T12:54:37.746Z"
   },
   {
    "duration": 14,
    "start_time": "2022-03-16T12:54:59.466Z"
   },
   {
    "duration": 14,
    "start_time": "2022-03-16T12:57:05.149Z"
   },
   {
    "duration": 13,
    "start_time": "2022-03-16T12:57:08.400Z"
   },
   {
    "duration": 13,
    "start_time": "2022-03-16T12:57:24.954Z"
   },
   {
    "duration": 244,
    "start_time": "2022-03-16T12:58:41.724Z"
   },
   {
    "duration": 19,
    "start_time": "2022-03-16T12:58:50.432Z"
   },
   {
    "duration": 35,
    "start_time": "2022-03-16T13:06:04.115Z"
   },
   {
    "duration": 36,
    "start_time": "2022-03-16T13:06:12.605Z"
   },
   {
    "duration": 45,
    "start_time": "2022-03-16T13:08:23.325Z"
   },
   {
    "duration": 634,
    "start_time": "2022-03-16T13:12:38.825Z"
   },
   {
    "duration": 180,
    "start_time": "2022-03-16T13:12:52.846Z"
   },
   {
    "duration": 183,
    "start_time": "2022-03-16T13:14:27.956Z"
   },
   {
    "duration": 5,
    "start_time": "2022-03-16T13:15:10.662Z"
   },
   {
    "duration": 9,
    "start_time": "2022-03-16T13:16:22.153Z"
   },
   {
    "duration": 5,
    "start_time": "2022-03-16T13:16:29.384Z"
   },
   {
    "duration": 8,
    "start_time": "2022-03-16T13:16:29.866Z"
   },
   {
    "duration": 178,
    "start_time": "2022-03-16T13:16:45.943Z"
   },
   {
    "duration": 4,
    "start_time": "2022-03-16T13:16:50.917Z"
   },
   {
    "duration": 9,
    "start_time": "2022-03-16T13:16:51.641Z"
   },
   {
    "duration": 7,
    "start_time": "2022-03-16T13:17:38.694Z"
   },
   {
    "duration": 6,
    "start_time": "2022-03-16T13:17:39.519Z"
   },
   {
    "duration": 6,
    "start_time": "2022-03-16T13:21:11.332Z"
   },
   {
    "duration": 548,
    "start_time": "2022-03-16T13:21:16.291Z"
   },
   {
    "duration": 24,
    "start_time": "2022-03-16T13:21:16.841Z"
   },
   {
    "duration": 8,
    "start_time": "2022-03-16T13:21:16.867Z"
   },
   {
    "duration": 63,
    "start_time": "2022-03-16T13:21:16.877Z"
   },
   {
    "duration": 39,
    "start_time": "2022-03-16T13:21:16.941Z"
   },
   {
    "duration": 8,
    "start_time": "2022-03-16T13:21:16.982Z"
   },
   {
    "duration": 15,
    "start_time": "2022-03-16T13:21:16.992Z"
   },
   {
    "duration": 7,
    "start_time": "2022-03-16T13:22:04.024Z"
   },
   {
    "duration": 8,
    "start_time": "2022-03-16T13:22:04.730Z"
   },
   {
    "duration": 4,
    "start_time": "2022-03-16T13:24:33.489Z"
   },
   {
    "duration": 4,
    "start_time": "2022-03-16T13:24:46.832Z"
   },
   {
    "duration": 465,
    "start_time": "2022-03-16T13:25:03.179Z"
   },
   {
    "duration": 3,
    "start_time": "2022-03-16T13:25:20.344Z"
   },
   {
    "duration": 3,
    "start_time": "2022-03-16T13:25:23.362Z"
   },
   {
    "duration": 370,
    "start_time": "2022-03-16T13:25:24.442Z"
   },
   {
    "duration": 4,
    "start_time": "2022-03-16T13:25:40.920Z"
   },
   {
    "duration": 3,
    "start_time": "2022-03-16T13:26:01.819Z"
   },
   {
    "duration": 380,
    "start_time": "2022-03-16T13:29:26.012Z"
   },
   {
    "duration": 411,
    "start_time": "2022-03-16T13:29:57.979Z"
   },
   {
    "duration": 5,
    "start_time": "2022-03-16T13:30:21.068Z"
   },
   {
    "duration": 5,
    "start_time": "2022-03-16T13:30:26.368Z"
   },
   {
    "duration": 405,
    "start_time": "2022-03-16T13:32:10.208Z"
   },
   {
    "duration": 3,
    "start_time": "2022-03-16T13:33:32.550Z"
   },
   {
    "duration": 381,
    "start_time": "2022-03-16T13:33:33.269Z"
   },
   {
    "duration": 351,
    "start_time": "2022-03-16T13:33:43.939Z"
   },
   {
    "duration": 357,
    "start_time": "2022-03-16T13:34:27.221Z"
   },
   {
    "duration": 3,
    "start_time": "2022-03-16T13:34:35.580Z"
   },
   {
    "duration": 500,
    "start_time": "2022-03-16T13:35:02.041Z"
   },
   {
    "duration": 3,
    "start_time": "2022-03-16T13:35:34.197Z"
   },
   {
    "duration": 367,
    "start_time": "2022-03-16T13:35:34.863Z"
   },
   {
    "duration": 3,
    "start_time": "2022-03-16T13:37:51.476Z"
   },
   {
    "duration": 4,
    "start_time": "2022-03-16T13:37:56.050Z"
   },
   {
    "duration": 4,
    "start_time": "2022-03-16T13:37:59.961Z"
   },
   {
    "duration": 4,
    "start_time": "2022-03-16T13:38:00.820Z"
   },
   {
    "duration": 341,
    "start_time": "2022-03-16T13:38:07.149Z"
   },
   {
    "duration": 190,
    "start_time": "2022-03-16T13:38:28.907Z"
   },
   {
    "duration": 190,
    "start_time": "2022-03-16T13:39:06.363Z"
   },
   {
    "duration": 171,
    "start_time": "2022-03-16T13:39:18.108Z"
   },
   {
    "duration": 4,
    "start_time": "2022-03-16T13:39:21.652Z"
   },
   {
    "duration": 212,
    "start_time": "2022-03-16T13:40:19.669Z"
   },
   {
    "duration": 4,
    "start_time": "2022-03-16T13:41:14.947Z"
   },
   {
    "duration": 7,
    "start_time": "2022-03-16T13:41:22.750Z"
   },
   {
    "duration": 17,
    "start_time": "2022-03-16T13:42:54.859Z"
   },
   {
    "duration": 8,
    "start_time": "2022-03-16T13:42:57.993Z"
   },
   {
    "duration": 476,
    "start_time": "2022-03-16T13:43:10.285Z"
   },
   {
    "duration": 4,
    "start_time": "2022-03-16T13:44:32.001Z"
   },
   {
    "duration": 3,
    "start_time": "2022-03-16T13:45:08.424Z"
   },
   {
    "duration": 4,
    "start_time": "2022-03-16T13:45:14.710Z"
   },
   {
    "duration": 3,
    "start_time": "2022-03-16T13:45:21.136Z"
   },
   {
    "duration": 4,
    "start_time": "2022-03-16T13:45:21.550Z"
   },
   {
    "duration": 231,
    "start_time": "2022-03-16T13:46:17.635Z"
   },
   {
    "duration": 85,
    "start_time": "2022-03-16T13:46:45.398Z"
   },
   {
    "duration": 104472,
    "start_time": "2022-03-16T13:46:48.865Z"
   },
   {
    "duration": 297,
    "start_time": "2022-03-16T13:50:13.910Z"
   },
   {
    "duration": 186,
    "start_time": "2022-03-16T13:50:49.880Z"
   },
   {
    "duration": 277,
    "start_time": "2022-03-16T13:50:53.805Z"
   },
   {
    "duration": 233,
    "start_time": "2022-03-16T13:51:37.746Z"
   },
   {
    "duration": 4,
    "start_time": "2022-03-16T13:51:47.606Z"
   },
   {
    "duration": 3,
    "start_time": "2022-03-16T13:52:01.718Z"
   },
   {
    "duration": 185,
    "start_time": "2022-03-16T13:52:28.430Z"
   },
   {
    "duration": 3,
    "start_time": "2022-03-16T13:53:06.095Z"
   },
   {
    "duration": 3,
    "start_time": "2022-03-16T13:53:32.566Z"
   },
   {
    "duration": 3,
    "start_time": "2022-03-16T13:53:38.817Z"
   },
   {
    "duration": 2,
    "start_time": "2022-03-16T13:53:46.657Z"
   },
   {
    "duration": 3,
    "start_time": "2022-03-16T13:53:47.776Z"
   },
   {
    "duration": 3,
    "start_time": "2022-03-16T13:54:02.586Z"
   },
   {
    "duration": 177,
    "start_time": "2022-03-16T13:55:12.543Z"
   },
   {
    "duration": 3,
    "start_time": "2022-03-16T13:56:57.468Z"
   },
   {
    "duration": 4,
    "start_time": "2022-03-16T13:57:01.975Z"
   },
   {
    "duration": 3,
    "start_time": "2022-03-16T13:58:37.457Z"
   },
   {
    "duration": 12,
    "start_time": "2022-03-16T13:58:47.891Z"
   },
   {
    "duration": 12,
    "start_time": "2022-03-16T14:00:20.477Z"
   },
   {
    "duration": 4,
    "start_time": "2022-03-16T14:02:12.726Z"
   },
   {
    "duration": 193,
    "start_time": "2022-03-16T14:19:10.368Z"
   },
   {
    "duration": 6,
    "start_time": "2022-03-16T14:19:19.935Z"
   },
   {
    "duration": 587,
    "start_time": "2022-03-16T14:23:04.919Z"
   },
   {
    "duration": 35,
    "start_time": "2022-03-16T14:23:05.508Z"
   },
   {
    "duration": 11,
    "start_time": "2022-03-16T14:23:05.545Z"
   },
   {
    "duration": 81,
    "start_time": "2022-03-16T14:23:05.558Z"
   },
   {
    "duration": 36,
    "start_time": "2022-03-16T14:23:05.641Z"
   },
   {
    "duration": 7,
    "start_time": "2022-03-16T14:23:05.679Z"
   },
   {
    "duration": 13,
    "start_time": "2022-03-16T14:23:05.687Z"
   },
   {
    "duration": 4,
    "start_time": "2022-03-16T14:23:05.702Z"
   },
   {
    "duration": 27,
    "start_time": "2022-03-16T14:23:05.708Z"
   },
   {
    "duration": 13,
    "start_time": "2022-03-16T14:23:05.736Z"
   },
   {
    "duration": 5,
    "start_time": "2022-03-16T14:24:45.601Z"
   },
   {
    "duration": 5,
    "start_time": "2022-03-16T14:24:51.899Z"
   },
   {
    "duration": 5,
    "start_time": "2022-03-16T14:25:00.795Z"
   },
   {
    "duration": 4,
    "start_time": "2022-03-16T14:25:15.464Z"
   },
   {
    "duration": 5,
    "start_time": "2022-03-16T14:25:23.123Z"
   },
   {
    "duration": 5,
    "start_time": "2022-03-16T14:25:28.935Z"
   },
   {
    "duration": 5,
    "start_time": "2022-03-16T14:25:36.097Z"
   },
   {
    "duration": 4,
    "start_time": "2022-03-16T14:25:42.416Z"
   },
   {
    "duration": 22,
    "start_time": "2022-03-16T14:30:46.650Z"
   },
   {
    "duration": 8,
    "start_time": "2022-03-16T14:31:39.021Z"
   },
   {
    "duration": 8,
    "start_time": "2022-03-16T14:31:47.296Z"
   },
   {
    "duration": 8,
    "start_time": "2022-03-16T14:32:34.703Z"
   },
   {
    "duration": 8,
    "start_time": "2022-03-16T14:32:35.187Z"
   },
   {
    "duration": 546,
    "start_time": "2022-03-16T14:32:42.603Z"
   },
   {
    "duration": 25,
    "start_time": "2022-03-16T14:32:43.151Z"
   },
   {
    "duration": 8,
    "start_time": "2022-03-16T14:32:43.180Z"
   },
   {
    "duration": 60,
    "start_time": "2022-03-16T14:32:43.190Z"
   },
   {
    "duration": 36,
    "start_time": "2022-03-16T14:32:43.252Z"
   },
   {
    "duration": 6,
    "start_time": "2022-03-16T14:32:43.290Z"
   },
   {
    "duration": 10,
    "start_time": "2022-03-16T14:32:43.299Z"
   },
   {
    "duration": 23,
    "start_time": "2022-03-16T14:32:43.311Z"
   },
   {
    "duration": 12,
    "start_time": "2022-03-16T14:32:43.335Z"
   },
   {
    "duration": 9,
    "start_time": "2022-03-16T14:32:43.349Z"
   },
   {
    "duration": 7,
    "start_time": "2022-03-16T14:32:43.359Z"
   },
   {
    "duration": 617,
    "start_time": "2022-03-16T14:34:30.635Z"
   },
   {
    "duration": 25,
    "start_time": "2022-03-16T14:34:31.254Z"
   },
   {
    "duration": 8,
    "start_time": "2022-03-16T14:34:31.281Z"
   },
   {
    "duration": 63,
    "start_time": "2022-03-16T14:34:31.291Z"
   },
   {
    "duration": 37,
    "start_time": "2022-03-16T14:34:31.356Z"
   },
   {
    "duration": 23,
    "start_time": "2022-03-16T14:34:31.394Z"
   },
   {
    "duration": 30,
    "start_time": "2022-03-16T14:34:31.419Z"
   },
   {
    "duration": 12,
    "start_time": "2022-03-16T14:34:31.450Z"
   },
   {
    "duration": 8,
    "start_time": "2022-03-16T14:34:31.464Z"
   },
   {
    "duration": 27,
    "start_time": "2022-03-16T14:34:31.474Z"
   },
   {
    "duration": 13,
    "start_time": "2022-03-16T14:34:31.503Z"
   },
   {
    "duration": 435,
    "start_time": "2022-03-16T15:16:52.825Z"
   },
   {
    "duration": 89727,
    "start_time": "2022-03-16T15:17:02.695Z"
   },
   {
    "duration": 10,
    "start_time": "2022-03-16T15:18:32.424Z"
   },
   {
    "duration": 6,
    "start_time": "2022-03-16T15:18:47.981Z"
   },
   {
    "duration": 8,
    "start_time": "2022-03-16T15:18:56.361Z"
   },
   {
    "duration": 138,
    "start_time": "2022-03-16T15:19:10.757Z"
   },
   {
    "duration": 130,
    "start_time": "2022-03-16T15:19:16.850Z"
   },
   {
    "duration": 131,
    "start_time": "2022-03-16T15:19:31.740Z"
   },
   {
    "duration": 144,
    "start_time": "2022-03-16T15:19:40.130Z"
   },
   {
    "duration": 147,
    "start_time": "2022-03-16T15:19:58.466Z"
   },
   {
    "duration": 145,
    "start_time": "2022-03-16T15:20:13.137Z"
   },
   {
    "duration": 145,
    "start_time": "2022-03-16T15:20:48.269Z"
   },
   {
    "duration": 161,
    "start_time": "2022-03-16T15:21:00.678Z"
   },
   {
    "duration": 165,
    "start_time": "2022-03-16T15:21:50.106Z"
   },
   {
    "duration": 168,
    "start_time": "2022-03-16T15:21:58.122Z"
   },
   {
    "duration": 9,
    "start_time": "2022-03-16T15:22:07.645Z"
   },
   {
    "duration": 7,
    "start_time": "2022-03-16T15:22:10.783Z"
   },
   {
    "duration": 12,
    "start_time": "2022-03-16T15:33:33.263Z"
   },
   {
    "duration": 10,
    "start_time": "2022-03-16T15:33:42.476Z"
   },
   {
    "duration": 10,
    "start_time": "2022-03-16T15:38:23.971Z"
   },
   {
    "duration": 552,
    "start_time": "2022-03-16T15:40:03.805Z"
   },
   {
    "duration": 1121,
    "start_time": "2022-03-16T15:47:05.952Z"
   },
   {
    "duration": 24,
    "start_time": "2022-03-16T15:47:07.075Z"
   },
   {
    "duration": 9,
    "start_time": "2022-03-16T15:47:07.101Z"
   },
   {
    "duration": 59,
    "start_time": "2022-03-16T15:47:07.113Z"
   },
   {
    "duration": 36,
    "start_time": "2022-03-16T15:47:07.174Z"
   },
   {
    "duration": 30,
    "start_time": "2022-03-16T15:47:07.212Z"
   },
   {
    "duration": 17,
    "start_time": "2022-03-16T15:47:07.244Z"
   },
   {
    "duration": 8,
    "start_time": "2022-03-16T15:47:07.263Z"
   },
   {
    "duration": 3,
    "start_time": "2022-03-16T15:47:07.273Z"
   },
   {
    "duration": 10,
    "start_time": "2022-03-16T15:47:07.278Z"
   },
   {
    "duration": 11,
    "start_time": "2022-03-16T15:47:07.290Z"
   },
   {
    "duration": 14,
    "start_time": "2022-03-16T15:47:07.302Z"
   },
   {
    "duration": 178,
    "start_time": "2022-03-16T15:47:07.318Z"
   },
   {
    "duration": 15,
    "start_time": "2022-03-16T15:47:07.498Z"
   },
   {
    "duration": 23,
    "start_time": "2022-03-16T15:47:07.515Z"
   },
   {
    "duration": 6,
    "start_time": "2022-03-16T15:58:33.701Z"
   },
   {
    "duration": 5,
    "start_time": "2022-03-16T15:59:07.853Z"
   },
   {
    "duration": 4,
    "start_time": "2022-03-16T15:59:54.477Z"
   },
   {
    "duration": 58,
    "start_time": "2022-03-16T16:00:11.293Z"
   },
   {
    "duration": 4,
    "start_time": "2022-03-16T16:01:02.271Z"
   },
   {
    "duration": 45,
    "start_time": "2022-03-16T16:01:03.145Z"
   },
   {
    "duration": 310,
    "start_time": "2022-03-16T16:01:55.383Z"
   },
   {
    "duration": 179,
    "start_time": "2022-03-16T16:02:01.569Z"
   },
   {
    "duration": 173,
    "start_time": "2022-03-16T16:03:49.111Z"
   },
   {
    "duration": 178,
    "start_time": "2022-03-16T16:04:03.729Z"
   },
   {
    "duration": 4,
    "start_time": "2022-03-16T16:04:06.188Z"
   },
   {
    "duration": 5,
    "start_time": "2022-03-16T16:05:10.897Z"
   },
   {
    "duration": 239,
    "start_time": "2022-03-16T16:05:11.695Z"
   },
   {
    "duration": 44,
    "start_time": "2022-03-16T16:05:22.434Z"
   },
   {
    "duration": 156,
    "start_time": "2022-03-16T16:06:28.843Z"
   },
   {
    "duration": 26,
    "start_time": "2022-03-16T16:06:42.781Z"
   },
   {
    "duration": 16,
    "start_time": "2022-03-16T16:06:50.128Z"
   },
   {
    "duration": 52,
    "start_time": "2022-03-16T16:06:57.747Z"
   },
   {
    "duration": 27,
    "start_time": "2022-03-16T16:07:11.522Z"
   },
   {
    "duration": 6,
    "start_time": "2022-03-16T16:07:17.880Z"
   },
   {
    "duration": 17,
    "start_time": "2022-03-16T16:07:26.116Z"
   },
   {
    "duration": 5,
    "start_time": "2022-03-16T16:20:58.481Z"
   },
   {
    "duration": 172,
    "start_time": "2022-03-16T16:21:04.986Z"
   },
   {
    "duration": 28,
    "start_time": "2022-03-16T16:21:14.945Z"
   },
   {
    "duration": 267,
    "start_time": "2022-03-16T16:27:01.706Z"
   },
   {
    "duration": 1051,
    "start_time": "2022-03-16T16:27:35.795Z"
   },
   {
    "duration": 23,
    "start_time": "2022-03-16T16:27:36.848Z"
   },
   {
    "duration": 8,
    "start_time": "2022-03-16T16:27:36.873Z"
   },
   {
    "duration": 51,
    "start_time": "2022-03-16T16:27:36.882Z"
   },
   {
    "duration": 37,
    "start_time": "2022-03-16T16:27:36.935Z"
   },
   {
    "duration": 10,
    "start_time": "2022-03-16T16:27:36.974Z"
   },
   {
    "duration": 10,
    "start_time": "2022-03-16T16:27:36.985Z"
   },
   {
    "duration": 40,
    "start_time": "2022-03-16T16:27:36.997Z"
   },
   {
    "duration": 3,
    "start_time": "2022-03-16T16:27:37.041Z"
   },
   {
    "duration": 5,
    "start_time": "2022-03-16T16:27:37.046Z"
   },
   {
    "duration": 8,
    "start_time": "2022-03-16T16:27:37.053Z"
   },
   {
    "duration": 10,
    "start_time": "2022-03-16T16:27:37.063Z"
   },
   {
    "duration": 169,
    "start_time": "2022-03-16T16:27:37.074Z"
   },
   {
    "duration": 4,
    "start_time": "2022-03-16T16:27:37.245Z"
   },
   {
    "duration": 24,
    "start_time": "2022-03-16T16:27:37.250Z"
   },
   {
    "duration": 11,
    "start_time": "2022-03-16T16:27:37.275Z"
   },
   {
    "duration": 277,
    "start_time": "2022-03-16T16:27:37.287Z"
   },
   {
    "duration": 69,
    "start_time": "2022-03-16T16:27:57.564Z"
   },
   {
    "duration": 41,
    "start_time": "2022-03-16T16:28:05.271Z"
   },
   {
    "duration": 43,
    "start_time": "2022-03-16T16:28:30.425Z"
   },
   {
    "duration": 43,
    "start_time": "2022-03-16T16:29:28.008Z"
   },
   {
    "duration": 110,
    "start_time": "2022-03-16T16:29:47.426Z"
   },
   {
    "duration": 40,
    "start_time": "2022-03-16T16:29:51.153Z"
   },
   {
    "duration": 41,
    "start_time": "2022-03-16T16:30:07.852Z"
   },
   {
    "duration": 192,
    "start_time": "2022-03-16T16:50:10.663Z"
   },
   {
    "duration": 172,
    "start_time": "2022-03-16T16:50:28.417Z"
   },
   {
    "duration": 4,
    "start_time": "2022-03-16T16:50:48.295Z"
   },
   {
    "duration": 184,
    "start_time": "2022-03-16T16:50:52.797Z"
   },
   {
    "duration": 23,
    "start_time": "2022-03-16T16:51:04.228Z"
   },
   {
    "duration": 16,
    "start_time": "2022-03-16T16:51:59.902Z"
   },
   {
    "duration": 202,
    "start_time": "2022-03-16T17:08:38.249Z"
   },
   {
    "duration": 200,
    "start_time": "2022-03-16T17:09:03.526Z"
   },
   {
    "duration": 207,
    "start_time": "2022-03-16T17:09:20.855Z"
   },
   {
    "duration": 365,
    "start_time": "2022-03-16T17:09:36.610Z"
   },
   {
    "duration": 292,
    "start_time": "2022-03-16T17:10:46.504Z"
   },
   {
    "duration": 297,
    "start_time": "2022-03-16T17:11:05.867Z"
   },
   {
    "duration": 314,
    "start_time": "2022-03-16T17:11:15.000Z"
   },
   {
    "duration": 288,
    "start_time": "2022-03-16T17:11:52.434Z"
   },
   {
    "duration": 208,
    "start_time": "2022-03-16T17:16:05.428Z"
   },
   {
    "duration": 4,
    "start_time": "2022-03-16T17:16:17.857Z"
   },
   {
    "duration": 206,
    "start_time": "2022-03-16T17:18:35.981Z"
   },
   {
    "duration": 540,
    "start_time": "2022-03-16T17:19:22.920Z"
   },
   {
    "duration": 512,
    "start_time": "2022-03-16T17:19:36.650Z"
   },
   {
    "duration": 522,
    "start_time": "2022-03-16T17:19:51.678Z"
   },
   {
    "duration": 338,
    "start_time": "2022-03-16T17:20:46.161Z"
   },
   {
    "duration": 375,
    "start_time": "2022-03-16T17:21:34.626Z"
   },
   {
    "duration": 352,
    "start_time": "2022-03-16T17:21:47.508Z"
   },
   {
    "duration": 341,
    "start_time": "2022-03-16T17:22:52.788Z"
   },
   {
    "duration": 1440,
    "start_time": "2022-03-18T10:10:49.965Z"
   },
   {
    "duration": 31,
    "start_time": "2022-03-18T10:10:51.407Z"
   },
   {
    "duration": 14,
    "start_time": "2022-03-18T10:10:51.439Z"
   },
   {
    "duration": 59,
    "start_time": "2022-03-18T10:10:51.456Z"
   },
   {
    "duration": 41,
    "start_time": "2022-03-18T10:10:51.518Z"
   },
   {
    "duration": 9,
    "start_time": "2022-03-18T10:10:51.561Z"
   },
   {
    "duration": 7,
    "start_time": "2022-03-18T10:10:51.572Z"
   },
   {
    "duration": 28,
    "start_time": "2022-03-18T10:10:51.581Z"
   },
   {
    "duration": 4,
    "start_time": "2022-03-18T10:10:51.610Z"
   },
   {
    "duration": 7,
    "start_time": "2022-03-18T10:10:51.615Z"
   },
   {
    "duration": 16,
    "start_time": "2022-03-18T10:10:51.623Z"
   },
   {
    "duration": 7,
    "start_time": "2022-03-18T10:10:51.641Z"
   },
   {
    "duration": 168,
    "start_time": "2022-03-18T10:10:51.650Z"
   },
   {
    "duration": 5,
    "start_time": "2022-03-18T10:10:51.821Z"
   },
   {
    "duration": 14,
    "start_time": "2022-03-18T10:10:51.828Z"
   },
   {
    "duration": 10,
    "start_time": "2022-03-18T10:10:51.844Z"
   },
   {
    "duration": 121,
    "start_time": "2022-03-18T10:10:51.855Z"
   },
   {
    "duration": 0,
    "start_time": "2022-03-18T10:10:51.977Z"
   },
   {
    "duration": 0,
    "start_time": "2022-03-18T10:10:51.978Z"
   },
   {
    "duration": 15,
    "start_time": "2022-03-18T10:13:33.346Z"
   },
   {
    "duration": 10,
    "start_time": "2022-03-18T10:13:53.478Z"
   },
   {
    "duration": 5,
    "start_time": "2022-03-18T10:14:07.783Z"
   },
   {
    "duration": 11,
    "start_time": "2022-03-18T10:14:10.479Z"
   },
   {
    "duration": 10,
    "start_time": "2022-03-18T10:14:10.617Z"
   },
   {
    "duration": 10,
    "start_time": "2022-03-18T10:14:11.710Z"
   },
   {
    "duration": 144,
    "start_time": "2022-03-18T10:14:33.869Z"
   },
   {
    "duration": 4,
    "start_time": "2022-03-18T10:15:04.923Z"
   },
   {
    "duration": 47,
    "start_time": "2022-03-18T10:15:09.688Z"
   },
   {
    "duration": 61,
    "start_time": "2022-03-18T10:15:48.452Z"
   },
   {
    "duration": 46,
    "start_time": "2022-03-18T10:16:32.524Z"
   },
   {
    "duration": 11,
    "start_time": "2022-03-18T10:16:40.362Z"
   },
   {
    "duration": 20,
    "start_time": "2022-03-18T10:16:44.877Z"
   },
   {
    "duration": 48,
    "start_time": "2022-03-18T10:16:45.330Z"
   },
   {
    "duration": 325,
    "start_time": "2022-03-18T10:17:00.637Z"
   },
   {
    "duration": 30,
    "start_time": "2022-03-18T10:23:25.844Z"
   },
   {
    "duration": 1086,
    "start_time": "2022-03-18T10:23:37.638Z"
   },
   {
    "duration": 1103,
    "start_time": "2022-03-18T10:24:18.677Z"
   },
   {
    "duration": 64,
    "start_time": "2022-03-18T10:26:21.691Z"
   },
   {
    "duration": 77,
    "start_time": "2022-03-18T10:26:39.626Z"
   },
   {
    "duration": 1093,
    "start_time": "2022-03-18T10:26:50.786Z"
   },
   {
    "duration": 62,
    "start_time": "2022-03-18T10:26:59.411Z"
   },
   {
    "duration": 4301,
    "start_time": "2022-03-18T10:27:20.964Z"
   },
   {
    "duration": 8618,
    "start_time": "2022-03-18T10:27:35.680Z"
   },
   {
    "duration": 5775,
    "start_time": "2022-03-18T10:29:10.854Z"
   },
   {
    "duration": 6100,
    "start_time": "2022-03-18T10:29:24.359Z"
   },
   {
    "duration": 3357,
    "start_time": "2022-03-18T10:42:47.052Z"
   },
   {
    "duration": 8301,
    "start_time": "2022-03-18T10:43:13.369Z"
   },
   {
    "duration": 81,
    "start_time": "2022-03-18T10:44:48.431Z"
   },
   {
    "duration": 46,
    "start_time": "2022-03-18T10:49:59.378Z"
   },
   {
    "duration": 52,
    "start_time": "2022-03-18T10:50:08.662Z"
   },
   {
    "duration": 67,
    "start_time": "2022-03-18T10:50:16.545Z"
   },
   {
    "duration": 2886,
    "start_time": "2022-03-18T10:51:07.895Z"
   },
   {
    "duration": 106,
    "start_time": "2022-03-18T11:01:45.605Z"
   },
   {
    "duration": 106,
    "start_time": "2022-03-18T11:01:59.525Z"
   },
   {
    "duration": 119,
    "start_time": "2022-03-18T11:02:06.297Z"
   },
   {
    "duration": 113,
    "start_time": "2022-03-18T11:02:13.203Z"
   },
   {
    "duration": 361,
    "start_time": "2022-03-18T11:03:16.324Z"
   },
   {
    "duration": 3358,
    "start_time": "2022-03-18T11:04:02.616Z"
   },
   {
    "duration": 3413,
    "start_time": "2022-03-18T11:04:18.039Z"
   },
   {
    "duration": 2952,
    "start_time": "2022-03-18T11:05:14.547Z"
   },
   {
    "duration": 9,
    "start_time": "2022-03-18T11:10:37.679Z"
   },
   {
    "duration": 2946,
    "start_time": "2022-03-18T11:10:59.585Z"
   },
   {
    "duration": 2893,
    "start_time": "2022-03-18T11:11:32.047Z"
   },
   {
    "duration": 3,
    "start_time": "2022-03-18T11:11:38.553Z"
   },
   {
    "duration": 4,
    "start_time": "2022-03-18T11:11:44.436Z"
   },
   {
    "duration": 6,
    "start_time": "2022-03-18T11:13:17.732Z"
   },
   {
    "duration": 7,
    "start_time": "2022-03-18T11:13:23.122Z"
   },
   {
    "duration": 6,
    "start_time": "2022-03-18T11:14:12.005Z"
   },
   {
    "duration": 7,
    "start_time": "2022-03-18T11:14:13.630Z"
   },
   {
    "duration": 16,
    "start_time": "2022-03-18T11:14:22.517Z"
   },
   {
    "duration": 64,
    "start_time": "2022-03-18T11:14:55.271Z"
   },
   {
    "duration": 77,
    "start_time": "2022-03-18T11:14:59.006Z"
   },
   {
    "duration": 67,
    "start_time": "2022-03-18T11:15:09.828Z"
   },
   {
    "duration": 6,
    "start_time": "2022-03-18T11:15:12.359Z"
   },
   {
    "duration": 5,
    "start_time": "2022-03-18T11:15:58.605Z"
   },
   {
    "duration": 7,
    "start_time": "2022-03-18T11:15:59.581Z"
   },
   {
    "duration": 5,
    "start_time": "2022-03-18T11:16:35.629Z"
   },
   {
    "duration": 8,
    "start_time": "2022-03-18T11:16:35.981Z"
   },
   {
    "duration": 4,
    "start_time": "2022-03-18T11:16:57.674Z"
   },
   {
    "duration": 8,
    "start_time": "2022-03-18T11:16:58.098Z"
   },
   {
    "duration": 7,
    "start_time": "2022-03-18T11:17:04.325Z"
   },
   {
    "duration": 8,
    "start_time": "2022-03-18T11:17:04.725Z"
   },
   {
    "duration": 7,
    "start_time": "2022-03-18T11:17:16.389Z"
   },
   {
    "duration": 73,
    "start_time": "2022-03-18T12:58:42.416Z"
   },
   {
    "duration": 100,
    "start_time": "2022-03-18T12:59:08.393Z"
   },
   {
    "duration": 77,
    "start_time": "2022-03-18T12:59:19.246Z"
   },
   {
    "duration": 125,
    "start_time": "2022-03-18T12:59:49.641Z"
   },
   {
    "duration": 7,
    "start_time": "2022-03-18T13:01:48.799Z"
   },
   {
    "duration": 5,
    "start_time": "2022-03-18T13:02:25.331Z"
   },
   {
    "duration": 3,
    "start_time": "2022-03-18T13:12:51.294Z"
   },
   {
    "duration": 6,
    "start_time": "2022-03-18T13:12:59.367Z"
   },
   {
    "duration": 480,
    "start_time": "2022-03-18T13:14:19.272Z"
   },
   {
    "duration": 480,
    "start_time": "2022-03-18T13:14:33.171Z"
   },
   {
    "duration": 497,
    "start_time": "2022-03-18T13:14:38.762Z"
   },
   {
    "duration": 520,
    "start_time": "2022-03-18T13:14:46.825Z"
   },
   {
    "duration": 559,
    "start_time": "2022-03-18T13:15:17.505Z"
   },
   {
    "duration": 479,
    "start_time": "2022-03-18T13:15:26.973Z"
   },
   {
    "duration": 4,
    "start_time": "2022-03-18T13:18:32.952Z"
   },
   {
    "duration": 5,
    "start_time": "2022-03-18T13:18:37.737Z"
   },
   {
    "duration": 40,
    "start_time": "2022-03-18T13:20:12.991Z"
   },
   {
    "duration": 38,
    "start_time": "2022-03-18T13:20:52.996Z"
   },
   {
    "duration": 39,
    "start_time": "2022-03-18T13:21:10.989Z"
   },
   {
    "duration": 37,
    "start_time": "2022-03-18T13:22:12.207Z"
   },
   {
    "duration": 5,
    "start_time": "2022-03-18T13:22:28.845Z"
   },
   {
    "duration": 100,
    "start_time": "2022-03-18T13:23:17.212Z"
   },
   {
    "duration": 267,
    "start_time": "2022-03-18T13:23:27.116Z"
   },
   {
    "duration": 275,
    "start_time": "2022-03-18T13:23:33.725Z"
   },
   {
    "duration": 5,
    "start_time": "2022-03-18T13:24:01.541Z"
   },
   {
    "duration": 65,
    "start_time": "2022-03-18T13:24:21.401Z"
   },
   {
    "duration": 3,
    "start_time": "2022-03-18T13:24:25.764Z"
   },
   {
    "duration": 124,
    "start_time": "2022-03-18T13:24:26.790Z"
   },
   {
    "duration": 8,
    "start_time": "2022-03-18T13:24:38.269Z"
   },
   {
    "duration": 207,
    "start_time": "2022-03-18T13:25:03.202Z"
   },
   {
    "duration": 555,
    "start_time": "2022-03-18T13:26:41.209Z"
   },
   {
    "duration": 507,
    "start_time": "2022-03-18T13:27:29.060Z"
   },
   {
    "duration": 8,
    "start_time": "2022-03-18T13:27:32.233Z"
   },
   {
    "duration": 513,
    "start_time": "2022-03-18T13:27:53.096Z"
   },
   {
    "duration": 9,
    "start_time": "2022-03-18T13:27:57.250Z"
   },
   {
    "duration": 4,
    "start_time": "2022-03-18T13:54:09.830Z"
   },
   {
    "duration": 5,
    "start_time": "2022-03-18T13:56:42.884Z"
   },
   {
    "duration": 4,
    "start_time": "2022-03-18T13:56:45.473Z"
   },
   {
    "duration": 39,
    "start_time": "2022-03-18T13:56:46.802Z"
   },
   {
    "duration": 516,
    "start_time": "2022-03-18T13:57:13.153Z"
   },
   {
    "duration": 10,
    "start_time": "2022-03-18T13:57:14.443Z"
   },
   {
    "duration": 4,
    "start_time": "2022-03-18T14:04:55.183Z"
   },
   {
    "duration": 620,
    "start_time": "2022-03-18T14:04:56.054Z"
   },
   {
    "duration": 8,
    "start_time": "2022-03-18T14:04:58.456Z"
   },
   {
    "duration": 45,
    "start_time": "2022-03-18T14:16:32.114Z"
   },
   {
    "duration": 4,
    "start_time": "2022-03-18T14:17:20.968Z"
   },
   {
    "duration": 45,
    "start_time": "2022-03-18T14:17:30.392Z"
   },
   {
    "duration": 438,
    "start_time": "2022-03-18T14:17:52.601Z"
   },
   {
    "duration": 9,
    "start_time": "2022-03-18T14:17:58.152Z"
   },
   {
    "duration": 142,
    "start_time": "2022-03-18T14:19:41.863Z"
   },
   {
    "duration": 4627,
    "start_time": "2022-03-18T14:27:36.924Z"
   },
   {
    "duration": 117,
    "start_time": "2022-03-18T14:30:38.444Z"
   },
   {
    "duration": 106,
    "start_time": "2022-03-18T14:30:59.095Z"
   },
   {
    "duration": 132,
    "start_time": "2022-03-18T14:31:38.557Z"
   },
   {
    "duration": 4772,
    "start_time": "2022-03-18T14:32:05.430Z"
   },
   {
    "duration": 3928,
    "start_time": "2022-03-18T14:32:14.848Z"
   },
   {
    "duration": 2247,
    "start_time": "2022-03-18T14:32:28.085Z"
   },
   {
    "duration": 26,
    "start_time": "2022-03-18T14:32:30.334Z"
   },
   {
    "duration": 14,
    "start_time": "2022-03-18T14:32:30.362Z"
   },
   {
    "duration": 53,
    "start_time": "2022-03-18T14:32:30.378Z"
   },
   {
    "duration": 40,
    "start_time": "2022-03-18T14:32:30.433Z"
   },
   {
    "duration": 11,
    "start_time": "2022-03-18T14:32:30.475Z"
   },
   {
    "duration": 27,
    "start_time": "2022-03-18T14:32:30.488Z"
   },
   {
    "duration": 12,
    "start_time": "2022-03-18T14:32:30.517Z"
   },
   {
    "duration": 11,
    "start_time": "2022-03-18T14:32:30.531Z"
   },
   {
    "duration": 21,
    "start_time": "2022-03-18T14:32:30.545Z"
   },
   {
    "duration": 16,
    "start_time": "2022-03-18T14:32:30.568Z"
   },
   {
    "duration": 11,
    "start_time": "2022-03-18T14:32:30.585Z"
   },
   {
    "duration": 152,
    "start_time": "2022-03-18T14:32:30.598Z"
   },
   {
    "duration": 6,
    "start_time": "2022-03-18T14:32:30.751Z"
   },
   {
    "duration": 34,
    "start_time": "2022-03-18T14:32:30.759Z"
   },
   {
    "duration": 10,
    "start_time": "2022-03-18T14:32:30.794Z"
   },
   {
    "duration": 109,
    "start_time": "2022-03-18T14:32:30.806Z"
   },
   {
    "duration": 196,
    "start_time": "2022-03-18T14:32:30.917Z"
   },
   {
    "duration": 365,
    "start_time": "2022-03-18T14:32:31.114Z"
   },
   {
    "duration": 3394,
    "start_time": "2022-03-18T14:32:31.480Z"
   },
   {
    "duration": 2917,
    "start_time": "2022-03-18T14:32:34.876Z"
   },
   {
    "duration": 15,
    "start_time": "2022-03-18T14:32:37.794Z"
   },
   {
    "duration": 10,
    "start_time": "2022-03-18T14:32:37.810Z"
   },
   {
    "duration": 10,
    "start_time": "2022-03-18T14:32:37.822Z"
   },
   {
    "duration": 12,
    "start_time": "2022-03-18T14:32:37.833Z"
   },
   {
    "duration": 515,
    "start_time": "2022-03-18T14:32:37.846Z"
   },
   {
    "duration": 8,
    "start_time": "2022-03-18T14:32:38.363Z"
   },
   {
    "duration": 14,
    "start_time": "2022-03-18T14:32:38.374Z"
   },
   {
    "duration": 20,
    "start_time": "2022-03-18T14:32:38.390Z"
   },
   {
    "duration": 659,
    "start_time": "2022-03-18T14:32:38.412Z"
   },
   {
    "duration": 8,
    "start_time": "2022-03-18T14:32:39.072Z"
   },
   {
    "duration": 6,
    "start_time": "2022-03-18T14:32:39.081Z"
   },
   {
    "duration": 463,
    "start_time": "2022-03-18T14:32:39.088Z"
   },
   {
    "duration": 8,
    "start_time": "2022-03-18T14:32:39.552Z"
   },
   {
    "duration": 4668,
    "start_time": "2022-03-18T14:32:39.562Z"
   },
   {
    "duration": 4774,
    "start_time": "2022-03-18T14:32:44.232Z"
   },
   {
    "duration": 9176,
    "start_time": "2022-03-18T14:35:21.914Z"
   },
   {
    "duration": 8291,
    "start_time": "2022-03-18T14:39:28.307Z"
   },
   {
    "duration": 16650,
    "start_time": "2022-03-18T14:39:44.049Z"
   },
   {
    "duration": 1519,
    "start_time": "2022-03-18T14:40:04.042Z"
   },
   {
    "duration": 1434,
    "start_time": "2022-03-18T14:41:24.610Z"
   },
   {
    "duration": 7,
    "start_time": "2022-03-18T14:43:08.744Z"
   },
   {
    "duration": 8,
    "start_time": "2022-03-18T14:43:14.877Z"
   },
   {
    "duration": 22750,
    "start_time": "2022-03-18T14:44:22.711Z"
   },
   {
    "duration": 53205,
    "start_time": "2022-03-18T14:45:24.996Z"
   },
   {
    "duration": 1418,
    "start_time": "2022-03-18T14:46:29.205Z"
   },
   {
    "duration": 33,
    "start_time": "2022-03-18T14:46:30.625Z"
   },
   {
    "duration": 16,
    "start_time": "2022-03-18T14:46:30.660Z"
   },
   {
    "duration": 64,
    "start_time": "2022-03-18T14:46:30.679Z"
   },
   {
    "duration": 42,
    "start_time": "2022-03-18T14:46:30.745Z"
   },
   {
    "duration": 29,
    "start_time": "2022-03-18T14:46:30.789Z"
   },
   {
    "duration": 13,
    "start_time": "2022-03-18T14:46:30.820Z"
   },
   {
    "duration": 13,
    "start_time": "2022-03-18T14:46:30.835Z"
   },
   {
    "duration": 9,
    "start_time": "2022-03-18T14:46:30.850Z"
   },
   {
    "duration": 21,
    "start_time": "2022-03-18T14:46:30.863Z"
   },
   {
    "duration": 27,
    "start_time": "2022-03-18T14:46:30.886Z"
   },
   {
    "duration": 26,
    "start_time": "2022-03-18T14:46:30.915Z"
   },
   {
    "duration": 159,
    "start_time": "2022-03-18T14:46:30.943Z"
   },
   {
    "duration": 6,
    "start_time": "2022-03-18T14:46:31.104Z"
   },
   {
    "duration": 37,
    "start_time": "2022-03-18T14:46:31.113Z"
   },
   {
    "duration": 15,
    "start_time": "2022-03-18T14:46:31.152Z"
   },
   {
    "duration": 140,
    "start_time": "2022-03-18T14:46:31.170Z"
   },
   {
    "duration": 112,
    "start_time": "2022-03-18T14:46:31.312Z"
   },
   {
    "duration": 383,
    "start_time": "2022-03-18T14:46:31.426Z"
   },
   {
    "duration": 3404,
    "start_time": "2022-03-18T14:46:31.811Z"
   },
   {
    "duration": 2921,
    "start_time": "2022-03-18T14:46:35.216Z"
   },
   {
    "duration": 8,
    "start_time": "2022-03-18T14:46:38.139Z"
   },
   {
    "duration": 12,
    "start_time": "2022-03-18T14:46:38.149Z"
   },
   {
    "duration": 14,
    "start_time": "2022-03-18T14:46:38.163Z"
   },
   {
    "duration": 30,
    "start_time": "2022-03-18T14:46:38.179Z"
   },
   {
    "duration": 578,
    "start_time": "2022-03-18T14:46:38.211Z"
   },
   {
    "duration": 9,
    "start_time": "2022-03-18T14:46:38.791Z"
   },
   {
    "duration": 5,
    "start_time": "2022-03-18T14:46:38.809Z"
   },
   {
    "duration": 5,
    "start_time": "2022-03-18T14:46:38.817Z"
   },
   {
    "duration": 623,
    "start_time": "2022-03-18T14:46:38.824Z"
   },
   {
    "duration": 8,
    "start_time": "2022-03-18T14:46:39.449Z"
   },
   {
    "duration": 4,
    "start_time": "2022-03-18T14:46:39.459Z"
   },
   {
    "duration": 399,
    "start_time": "2022-03-18T14:46:39.464Z"
   },
   {
    "duration": 7,
    "start_time": "2022-03-18T14:46:39.865Z"
   },
   {
    "duration": 4672,
    "start_time": "2022-03-18T14:46:39.874Z"
   },
   {
    "duration": 10406,
    "start_time": "2022-03-18T14:46:44.549Z"
   },
   {
    "duration": 7,
    "start_time": "2022-03-18T14:46:54.957Z"
   },
   {
    "duration": 11,
    "start_time": "2022-03-18T14:46:54.966Z"
   },
   {
    "duration": 9,
    "start_time": "2022-03-18T14:47:41.357Z"
   },
   {
    "duration": 8,
    "start_time": "2022-03-18T14:47:49.014Z"
   },
   {
    "duration": 10,
    "start_time": "2022-03-18T14:47:54.105Z"
   },
   {
    "duration": 7,
    "start_time": "2022-03-18T14:47:58.112Z"
   },
   {
    "duration": 8,
    "start_time": "2022-03-18T14:48:00.941Z"
   },
   {
    "duration": 8,
    "start_time": "2022-03-18T14:48:21.454Z"
   },
   {
    "duration": 11,
    "start_time": "2022-03-18T14:48:33.456Z"
   },
   {
    "duration": 11,
    "start_time": "2022-03-18T14:49:13.773Z"
   },
   {
    "duration": 10,
    "start_time": "2022-03-18T14:49:20.178Z"
   },
   {
    "duration": 7,
    "start_time": "2022-03-18T14:49:26.510Z"
   },
   {
    "duration": 8,
    "start_time": "2022-03-18T14:49:29.510Z"
   },
   {
    "duration": 11,
    "start_time": "2022-03-18T14:49:37.544Z"
   },
   {
    "duration": 103,
    "start_time": "2022-03-18T15:26:00.319Z"
   },
   {
    "duration": 381,
    "start_time": "2022-03-18T15:29:09.146Z"
   },
   {
    "duration": 4,
    "start_time": "2022-03-18T15:29:42.217Z"
   },
   {
    "duration": 385,
    "start_time": "2022-03-18T15:30:04.284Z"
   },
   {
    "duration": 666,
    "start_time": "2022-03-18T15:32:02.866Z"
   },
   {
    "duration": 15327,
    "start_time": "2022-03-18T15:32:51.307Z"
   },
   {
    "duration": 1423,
    "start_time": "2022-03-18T15:33:33.305Z"
   },
   {
    "duration": 26,
    "start_time": "2022-03-18T15:33:34.730Z"
   },
   {
    "duration": 13,
    "start_time": "2022-03-18T15:33:34.758Z"
   },
   {
    "duration": 56,
    "start_time": "2022-03-18T15:33:34.773Z"
   },
   {
    "duration": 42,
    "start_time": "2022-03-18T15:33:34.831Z"
   },
   {
    "duration": 9,
    "start_time": "2022-03-18T15:33:34.875Z"
   },
   {
    "duration": 29,
    "start_time": "2022-03-18T15:33:34.886Z"
   },
   {
    "duration": 12,
    "start_time": "2022-03-18T15:33:34.916Z"
   },
   {
    "duration": 5,
    "start_time": "2022-03-18T15:33:34.930Z"
   },
   {
    "duration": 5,
    "start_time": "2022-03-18T15:33:34.936Z"
   },
   {
    "duration": 9,
    "start_time": "2022-03-18T15:33:34.942Z"
   },
   {
    "duration": 7,
    "start_time": "2022-03-18T15:33:34.952Z"
   },
   {
    "duration": 168,
    "start_time": "2022-03-18T15:33:34.960Z"
   },
   {
    "duration": 5,
    "start_time": "2022-03-18T15:33:35.131Z"
   },
   {
    "duration": 19,
    "start_time": "2022-03-18T15:33:35.138Z"
   },
   {
    "duration": 10,
    "start_time": "2022-03-18T15:33:35.159Z"
   },
   {
    "duration": 144,
    "start_time": "2022-03-18T15:33:35.170Z"
   },
   {
    "duration": 108,
    "start_time": "2022-03-18T15:33:35.316Z"
   },
   {
    "duration": 396,
    "start_time": "2022-03-18T15:33:35.426Z"
   },
   {
    "duration": 3377,
    "start_time": "2022-03-18T15:33:35.824Z"
   },
   {
    "duration": 3205,
    "start_time": "2022-03-18T15:33:39.203Z"
   },
   {
    "duration": 13,
    "start_time": "2022-03-18T15:33:42.411Z"
   },
   {
    "duration": 14,
    "start_time": "2022-03-18T15:33:42.426Z"
   },
   {
    "duration": 6,
    "start_time": "2022-03-18T15:33:42.441Z"
   },
   {
    "duration": 12,
    "start_time": "2022-03-18T15:33:42.448Z"
   },
   {
    "duration": 625,
    "start_time": "2022-03-18T15:33:42.462Z"
   },
   {
    "duration": 8,
    "start_time": "2022-03-18T15:33:43.089Z"
   },
   {
    "duration": 19,
    "start_time": "2022-03-18T15:33:43.098Z"
   },
   {
    "duration": 10,
    "start_time": "2022-03-18T15:33:43.120Z"
   },
   {
    "duration": 637,
    "start_time": "2022-03-18T15:33:43.132Z"
   },
   {
    "duration": 9,
    "start_time": "2022-03-18T15:33:43.770Z"
   },
   {
    "duration": 5,
    "start_time": "2022-03-18T15:33:43.780Z"
   },
   {
    "duration": 483,
    "start_time": "2022-03-18T15:33:43.786Z"
   },
   {
    "duration": 8,
    "start_time": "2022-03-18T15:33:44.270Z"
   },
   {
    "duration": 4761,
    "start_time": "2022-03-18T15:33:44.280Z"
   },
   {
    "duration": 8947,
    "start_time": "2022-03-18T15:33:49.042Z"
   },
   {
    "duration": 0,
    "start_time": "2022-03-18T15:33:57.991Z"
   },
   {
    "duration": 0,
    "start_time": "2022-03-18T15:33:57.992Z"
   },
   {
    "duration": 0,
    "start_time": "2022-03-18T15:33:57.993Z"
   },
   {
    "duration": 0,
    "start_time": "2022-03-18T15:33:57.994Z"
   },
   {
    "duration": 0,
    "start_time": "2022-03-18T15:33:57.995Z"
   },
   {
    "duration": 9090,
    "start_time": "2022-03-18T15:34:22.590Z"
   },
   {
    "duration": 7,
    "start_time": "2022-03-18T15:34:39.685Z"
   },
   {
    "duration": 10,
    "start_time": "2022-03-18T15:34:39.695Z"
   },
   {
    "duration": 9,
    "start_time": "2022-03-18T15:34:39.707Z"
   },
   {
    "duration": 4,
    "start_time": "2022-03-18T15:34:45.223Z"
   },
   {
    "duration": 696,
    "start_time": "2022-03-18T15:38:03.700Z"
   },
   {
    "duration": 10,
    "start_time": "2022-03-18T15:40:22.028Z"
   },
   {
    "duration": 21,
    "start_time": "2022-03-18T15:40:30.661Z"
   },
   {
    "duration": 1327,
    "start_time": "2022-03-18T15:41:55.274Z"
   },
   {
    "duration": 26,
    "start_time": "2022-03-18T15:41:56.603Z"
   },
   {
    "duration": 14,
    "start_time": "2022-03-18T15:41:56.631Z"
   },
   {
    "duration": 48,
    "start_time": "2022-03-18T15:41:56.647Z"
   },
   {
    "duration": 40,
    "start_time": "2022-03-18T15:41:56.709Z"
   },
   {
    "duration": 10,
    "start_time": "2022-03-18T15:41:56.750Z"
   },
   {
    "duration": 8,
    "start_time": "2022-03-18T15:41:56.762Z"
   },
   {
    "duration": 10,
    "start_time": "2022-03-18T15:41:56.772Z"
   },
   {
    "duration": 6,
    "start_time": "2022-03-18T15:41:56.808Z"
   },
   {
    "duration": 6,
    "start_time": "2022-03-18T15:41:56.817Z"
   },
   {
    "duration": 7,
    "start_time": "2022-03-18T15:41:56.825Z"
   },
   {
    "duration": 7,
    "start_time": "2022-03-18T15:41:56.834Z"
   },
   {
    "duration": 170,
    "start_time": "2022-03-18T15:41:56.843Z"
   },
   {
    "duration": 5,
    "start_time": "2022-03-18T15:41:57.015Z"
   },
   {
    "duration": 16,
    "start_time": "2022-03-18T15:41:57.022Z"
   },
   {
    "duration": 9,
    "start_time": "2022-03-18T15:41:57.040Z"
   },
   {
    "duration": 159,
    "start_time": "2022-03-18T15:41:57.051Z"
   },
   {
    "duration": 110,
    "start_time": "2022-03-18T15:41:57.212Z"
   },
   {
    "duration": 363,
    "start_time": "2022-03-18T15:41:57.323Z"
   },
   {
    "duration": 3367,
    "start_time": "2022-03-18T15:41:57.688Z"
   },
   {
    "duration": 3012,
    "start_time": "2022-03-18T15:42:01.056Z"
   },
   {
    "duration": 8,
    "start_time": "2022-03-18T15:42:04.070Z"
   },
   {
    "duration": 16,
    "start_time": "2022-03-18T15:42:04.079Z"
   },
   {
    "duration": 5,
    "start_time": "2022-03-18T15:42:04.109Z"
   },
   {
    "duration": 18,
    "start_time": "2022-03-18T15:42:04.115Z"
   },
   {
    "duration": 520,
    "start_time": "2022-03-18T15:42:04.135Z"
   },
   {
    "duration": 8,
    "start_time": "2022-03-18T15:42:04.657Z"
   },
   {
    "duration": 4,
    "start_time": "2022-03-18T15:42:04.669Z"
   },
   {
    "duration": 5,
    "start_time": "2022-03-18T15:42:04.675Z"
   },
   {
    "duration": 671,
    "start_time": "2022-03-18T15:42:04.682Z"
   },
   {
    "duration": 8,
    "start_time": "2022-03-18T15:42:05.354Z"
   },
   {
    "duration": 5,
    "start_time": "2022-03-18T15:42:05.364Z"
   },
   {
    "duration": 396,
    "start_time": "2022-03-18T15:42:05.371Z"
   },
   {
    "duration": 8,
    "start_time": "2022-03-18T15:42:05.769Z"
   },
   {
    "duration": 4671,
    "start_time": "2022-03-18T15:42:05.780Z"
   },
   {
    "duration": 9317,
    "start_time": "2022-03-18T15:42:10.452Z"
   },
   {
    "duration": 7,
    "start_time": "2022-03-18T15:42:19.771Z"
   },
   {
    "duration": 13,
    "start_time": "2022-03-18T15:42:19.780Z"
   },
   {
    "duration": 22,
    "start_time": "2022-03-18T15:42:19.795Z"
   },
   {
    "duration": 5,
    "start_time": "2022-03-18T15:42:19.819Z"
   },
   {
    "duration": 131,
    "start_time": "2022-03-18T15:42:19.826Z"
   },
   {
    "duration": 0,
    "start_time": "2022-03-18T15:42:19.960Z"
   },
   {
    "duration": 676,
    "start_time": "2022-03-18T15:44:01.861Z"
   },
   {
    "duration": 1873,
    "start_time": "2022-03-18T15:47:20.944Z"
   },
   {
    "duration": 4,
    "start_time": "2022-03-18T15:48:24.579Z"
   },
   {
    "duration": 4,
    "start_time": "2022-03-18T15:48:32.261Z"
   },
   {
    "duration": 8,
    "start_time": "2022-03-18T15:48:36.488Z"
   },
   {
    "duration": 4,
    "start_time": "2022-03-18T15:48:50.375Z"
   },
   {
    "duration": 397,
    "start_time": "2022-03-18T15:49:10.794Z"
   },
   {
    "duration": 4,
    "start_time": "2022-03-18T15:49:13.105Z"
   },
   {
    "duration": 1430,
    "start_time": "2022-03-18T15:49:44.890Z"
   },
   {
    "duration": 27,
    "start_time": "2022-03-18T15:49:46.322Z"
   },
   {
    "duration": 14,
    "start_time": "2022-03-18T15:49:46.350Z"
   },
   {
    "duration": 56,
    "start_time": "2022-03-18T15:49:46.365Z"
   },
   {
    "duration": 41,
    "start_time": "2022-03-18T15:49:46.423Z"
   },
   {
    "duration": 10,
    "start_time": "2022-03-18T15:49:46.466Z"
   },
   {
    "duration": 31,
    "start_time": "2022-03-18T15:49:46.478Z"
   },
   {
    "duration": 12,
    "start_time": "2022-03-18T15:49:46.510Z"
   },
   {
    "duration": 3,
    "start_time": "2022-03-18T15:49:46.524Z"
   },
   {
    "duration": 6,
    "start_time": "2022-03-18T15:49:46.529Z"
   },
   {
    "duration": 8,
    "start_time": "2022-03-18T15:49:46.536Z"
   },
   {
    "duration": 7,
    "start_time": "2022-03-18T15:49:46.546Z"
   },
   {
    "duration": 175,
    "start_time": "2022-03-18T15:49:46.555Z"
   },
   {
    "duration": 6,
    "start_time": "2022-03-18T15:49:46.733Z"
   },
   {
    "duration": 15,
    "start_time": "2022-03-18T15:49:46.740Z"
   },
   {
    "duration": 10,
    "start_time": "2022-03-18T15:49:46.757Z"
   },
   {
    "duration": 145,
    "start_time": "2022-03-18T15:49:46.769Z"
   },
   {
    "duration": 111,
    "start_time": "2022-03-18T15:49:46.916Z"
   },
   {
    "duration": 428,
    "start_time": "2022-03-18T15:49:47.029Z"
   },
   {
    "duration": 3269,
    "start_time": "2022-03-18T15:49:47.458Z"
   },
   {
    "duration": 2929,
    "start_time": "2022-03-18T15:49:50.729Z"
   },
   {
    "duration": 7,
    "start_time": "2022-03-18T15:49:53.659Z"
   },
   {
    "duration": 13,
    "start_time": "2022-03-18T15:49:53.667Z"
   },
   {
    "duration": 5,
    "start_time": "2022-03-18T15:49:53.681Z"
   },
   {
    "duration": 22,
    "start_time": "2022-03-18T15:49:53.688Z"
   },
   {
    "duration": 553,
    "start_time": "2022-03-18T15:49:53.712Z"
   },
   {
    "duration": 8,
    "start_time": "2022-03-18T15:49:54.266Z"
   },
   {
    "duration": 8,
    "start_time": "2022-03-18T15:49:54.275Z"
   },
   {
    "duration": 5,
    "start_time": "2022-03-18T15:49:54.284Z"
   },
   {
    "duration": 657,
    "start_time": "2022-03-18T15:49:54.290Z"
   },
   {
    "duration": 8,
    "start_time": "2022-03-18T15:49:54.949Z"
   },
   {
    "duration": 5,
    "start_time": "2022-03-18T15:49:54.958Z"
   },
   {
    "duration": 398,
    "start_time": "2022-03-18T15:49:54.964Z"
   },
   {
    "duration": 8,
    "start_time": "2022-03-18T15:49:55.364Z"
   },
   {
    "duration": 4601,
    "start_time": "2022-03-18T15:49:55.374Z"
   },
   {
    "duration": 9106,
    "start_time": "2022-03-18T15:49:59.977Z"
   },
   {
    "duration": 5,
    "start_time": "2022-03-18T15:50:09.085Z"
   },
   {
    "duration": 19,
    "start_time": "2022-03-18T15:50:09.092Z"
   },
   {
    "duration": 11,
    "start_time": "2022-03-18T15:50:09.113Z"
   },
   {
    "duration": 6,
    "start_time": "2022-03-18T15:50:09.126Z"
   },
   {
    "duration": 411,
    "start_time": "2022-03-18T15:50:09.136Z"
   },
   {
    "duration": 447,
    "start_time": "2022-03-18T15:54:46.771Z"
   },
   {
    "duration": 445,
    "start_time": "2022-03-18T15:54:51.078Z"
   },
   {
    "duration": 446,
    "start_time": "2022-03-18T15:56:12.523Z"
   },
   {
    "duration": 1491,
    "start_time": "2022-03-18T15:59:10.751Z"
   },
   {
    "duration": 31,
    "start_time": "2022-03-18T15:59:12.244Z"
   },
   {
    "duration": 13,
    "start_time": "2022-03-18T15:59:12.276Z"
   },
   {
    "duration": 51,
    "start_time": "2022-03-18T15:59:12.291Z"
   },
   {
    "duration": 40,
    "start_time": "2022-03-18T15:59:12.344Z"
   },
   {
    "duration": 26,
    "start_time": "2022-03-18T15:59:12.386Z"
   },
   {
    "duration": 8,
    "start_time": "2022-03-18T15:59:12.414Z"
   },
   {
    "duration": 10,
    "start_time": "2022-03-18T15:59:12.424Z"
   },
   {
    "duration": 11,
    "start_time": "2022-03-18T15:59:12.436Z"
   },
   {
    "duration": 13,
    "start_time": "2022-03-18T15:59:12.449Z"
   },
   {
    "duration": 7,
    "start_time": "2022-03-18T15:59:12.464Z"
   },
   {
    "duration": 8,
    "start_time": "2022-03-18T15:59:12.473Z"
   },
   {
    "duration": 168,
    "start_time": "2022-03-18T15:59:12.483Z"
   },
   {
    "duration": 5,
    "start_time": "2022-03-18T15:59:12.654Z"
   },
   {
    "duration": 12,
    "start_time": "2022-03-18T15:59:12.661Z"
   },
   {
    "duration": 10,
    "start_time": "2022-03-18T15:59:12.674Z"
   },
   {
    "duration": 129,
    "start_time": "2022-03-18T15:59:12.686Z"
   },
   {
    "duration": 196,
    "start_time": "2022-03-18T15:59:12.817Z"
   },
   {
    "duration": 364,
    "start_time": "2022-03-18T15:59:13.014Z"
   },
   {
    "duration": 3412,
    "start_time": "2022-03-18T15:59:13.380Z"
   },
   {
    "duration": 3054,
    "start_time": "2022-03-18T15:59:16.795Z"
   },
   {
    "duration": 6,
    "start_time": "2022-03-18T15:59:19.851Z"
   },
   {
    "duration": 10,
    "start_time": "2022-03-18T15:59:19.859Z"
   },
   {
    "duration": 6,
    "start_time": "2022-03-18T15:59:19.871Z"
   },
   {
    "duration": 8,
    "start_time": "2022-03-18T15:59:19.878Z"
   },
   {
    "duration": 589,
    "start_time": "2022-03-18T15:59:19.888Z"
   },
   {
    "duration": 7,
    "start_time": "2022-03-18T15:59:20.479Z"
   },
   {
    "duration": 9,
    "start_time": "2022-03-18T15:59:20.488Z"
   },
   {
    "duration": 13,
    "start_time": "2022-03-18T15:59:20.499Z"
   },
   {
    "duration": 660,
    "start_time": "2022-03-18T15:59:20.513Z"
   },
   {
    "duration": 8,
    "start_time": "2022-03-18T15:59:21.175Z"
   },
   {
    "duration": 15,
    "start_time": "2022-03-18T15:59:21.185Z"
   },
   {
    "duration": 476,
    "start_time": "2022-03-18T15:59:21.202Z"
   },
   {
    "duration": 8,
    "start_time": "2022-03-18T15:59:21.680Z"
   },
   {
    "duration": 4853,
    "start_time": "2022-03-18T15:59:21.690Z"
   },
   {
    "duration": 9194,
    "start_time": "2022-03-18T15:59:26.545Z"
   },
   {
    "duration": 6,
    "start_time": "2022-03-18T15:59:35.741Z"
   },
   {
    "duration": 10,
    "start_time": "2022-03-18T15:59:35.748Z"
   },
   {
    "duration": 8,
    "start_time": "2022-03-18T15:59:35.760Z"
   },
   {
    "duration": 5,
    "start_time": "2022-03-18T15:59:35.769Z"
   },
   {
    "duration": 470,
    "start_time": "2022-03-18T15:59:35.777Z"
   },
   {
    "duration": 1373,
    "start_time": "2022-03-18T16:00:22.525Z"
   },
   {
    "duration": 26,
    "start_time": "2022-03-18T16:00:23.900Z"
   },
   {
    "duration": 14,
    "start_time": "2022-03-18T16:00:23.927Z"
   },
   {
    "duration": 47,
    "start_time": "2022-03-18T16:00:23.943Z"
   },
   {
    "duration": 57,
    "start_time": "2022-03-18T16:00:23.992Z"
   },
   {
    "duration": 11,
    "start_time": "2022-03-18T16:00:24.050Z"
   },
   {
    "duration": 8,
    "start_time": "2022-03-18T16:00:24.062Z"
   },
   {
    "duration": 37,
    "start_time": "2022-03-18T16:00:24.072Z"
   },
   {
    "duration": 3,
    "start_time": "2022-03-18T16:00:24.111Z"
   },
   {
    "duration": 6,
    "start_time": "2022-03-18T16:00:24.117Z"
   },
   {
    "duration": 7,
    "start_time": "2022-03-18T16:00:24.124Z"
   },
   {
    "duration": 10,
    "start_time": "2022-03-18T16:00:24.133Z"
   },
   {
    "duration": 161,
    "start_time": "2022-03-18T16:00:24.145Z"
   },
   {
    "duration": 6,
    "start_time": "2022-03-18T16:00:24.308Z"
   },
   {
    "duration": 12,
    "start_time": "2022-03-18T16:00:24.315Z"
   },
   {
    "duration": 13,
    "start_time": "2022-03-18T16:00:24.328Z"
   },
   {
    "duration": 74,
    "start_time": "2022-03-18T16:00:24.343Z"
   },
   {
    "duration": 115,
    "start_time": "2022-03-18T16:00:24.508Z"
   },
   {
    "duration": 369,
    "start_time": "2022-03-18T16:00:24.625Z"
   },
   {
    "duration": 3418,
    "start_time": "2022-03-18T16:00:24.996Z"
   },
   {
    "duration": 3015,
    "start_time": "2022-03-18T16:00:28.416Z"
   },
   {
    "duration": 8,
    "start_time": "2022-03-18T16:00:31.434Z"
   },
   {
    "duration": 21,
    "start_time": "2022-03-18T16:00:31.444Z"
   },
   {
    "duration": 12,
    "start_time": "2022-03-18T16:00:31.467Z"
   },
   {
    "duration": 18,
    "start_time": "2022-03-18T16:00:31.480Z"
   },
   {
    "duration": 555,
    "start_time": "2022-03-18T16:00:31.499Z"
   },
   {
    "duration": 8,
    "start_time": "2022-03-18T16:00:32.055Z"
   },
   {
    "duration": 12,
    "start_time": "2022-03-18T16:00:32.066Z"
   },
   {
    "duration": 5,
    "start_time": "2022-03-18T16:00:32.080Z"
   },
   {
    "duration": 672,
    "start_time": "2022-03-18T16:00:32.086Z"
   },
   {
    "duration": 7,
    "start_time": "2022-03-18T16:00:32.760Z"
   },
   {
    "duration": 5,
    "start_time": "2022-03-18T16:00:32.769Z"
   },
   {
    "duration": 496,
    "start_time": "2022-03-18T16:00:32.776Z"
   },
   {
    "duration": 8,
    "start_time": "2022-03-18T16:00:33.274Z"
   },
   {
    "duration": 4745,
    "start_time": "2022-03-18T16:00:33.283Z"
   },
   {
    "duration": 3342,
    "start_time": "2022-03-18T16:00:38.029Z"
   },
   {
    "duration": 7,
    "start_time": "2022-03-18T16:00:41.373Z"
   },
   {
    "duration": 10,
    "start_time": "2022-03-18T16:00:41.381Z"
   },
   {
    "duration": 22,
    "start_time": "2022-03-18T16:00:41.393Z"
   },
   {
    "duration": 6,
    "start_time": "2022-03-18T16:00:41.417Z"
   },
   {
    "duration": 434,
    "start_time": "2022-03-18T16:00:41.424Z"
   },
   {
    "duration": 1433,
    "start_time": "2022-03-18T16:01:20.078Z"
   },
   {
    "duration": 26,
    "start_time": "2022-03-18T16:01:21.513Z"
   },
   {
    "duration": 14,
    "start_time": "2022-03-18T16:01:21.541Z"
   },
   {
    "duration": 52,
    "start_time": "2022-03-18T16:01:21.557Z"
   },
   {
    "duration": 41,
    "start_time": "2022-03-18T16:01:21.611Z"
   },
   {
    "duration": 10,
    "start_time": "2022-03-18T16:01:21.654Z"
   },
   {
    "duration": 8,
    "start_time": "2022-03-18T16:01:21.665Z"
   },
   {
    "duration": 36,
    "start_time": "2022-03-18T16:01:21.675Z"
   },
   {
    "duration": 3,
    "start_time": "2022-03-18T16:01:21.712Z"
   },
   {
    "duration": 7,
    "start_time": "2022-03-18T16:01:21.718Z"
   },
   {
    "duration": 7,
    "start_time": "2022-03-18T16:01:21.727Z"
   },
   {
    "duration": 6,
    "start_time": "2022-03-18T16:01:21.736Z"
   },
   {
    "duration": 171,
    "start_time": "2022-03-18T16:01:21.744Z"
   },
   {
    "duration": 6,
    "start_time": "2022-03-18T16:01:21.917Z"
   },
   {
    "duration": 12,
    "start_time": "2022-03-18T16:01:21.925Z"
   },
   {
    "duration": 10,
    "start_time": "2022-03-18T16:01:21.939Z"
   },
   {
    "duration": 159,
    "start_time": "2022-03-18T16:01:21.951Z"
   },
   {
    "duration": 110,
    "start_time": "2022-03-18T16:01:22.112Z"
   },
   {
    "duration": 370,
    "start_time": "2022-03-18T16:01:22.224Z"
   },
   {
    "duration": 3420,
    "start_time": "2022-03-18T16:01:22.596Z"
   },
   {
    "duration": 3051,
    "start_time": "2022-03-18T16:01:26.017Z"
   },
   {
    "duration": 7,
    "start_time": "2022-03-18T16:01:29.069Z"
   },
   {
    "duration": 14,
    "start_time": "2022-03-18T16:01:29.108Z"
   },
   {
    "duration": 7,
    "start_time": "2022-03-18T16:01:29.124Z"
   },
   {
    "duration": 14,
    "start_time": "2022-03-18T16:01:29.133Z"
   },
   {
    "duration": 522,
    "start_time": "2022-03-18T16:01:29.149Z"
   },
   {
    "duration": 9,
    "start_time": "2022-03-18T16:01:29.672Z"
   },
   {
    "duration": 9,
    "start_time": "2022-03-18T16:01:29.684Z"
   },
   {
    "duration": 15,
    "start_time": "2022-03-18T16:01:29.694Z"
   },
   {
    "duration": 662,
    "start_time": "2022-03-18T16:01:29.710Z"
   },
   {
    "duration": 9,
    "start_time": "2022-03-18T16:01:30.373Z"
   },
   {
    "duration": 5,
    "start_time": "2022-03-18T16:01:30.384Z"
   },
   {
    "duration": 486,
    "start_time": "2022-03-18T16:01:30.390Z"
   },
   {
    "duration": 8,
    "start_time": "2022-03-18T16:01:30.878Z"
   },
   {
    "duration": 4691,
    "start_time": "2022-03-18T16:01:30.888Z"
   },
   {
    "duration": 7980,
    "start_time": "2022-03-18T16:01:35.581Z"
   },
   {
    "duration": 6,
    "start_time": "2022-03-18T16:01:43.564Z"
   },
   {
    "duration": 9,
    "start_time": "2022-03-18T16:01:43.572Z"
   },
   {
    "duration": 26,
    "start_time": "2022-03-18T16:01:43.583Z"
   },
   {
    "duration": 3,
    "start_time": "2022-03-18T16:01:43.610Z"
   },
   {
    "duration": 428,
    "start_time": "2022-03-18T16:01:43.615Z"
   },
   {
    "duration": 1365,
    "start_time": "2022-03-18T16:14:06.854Z"
   },
   {
    "duration": 31,
    "start_time": "2022-03-18T16:14:08.221Z"
   },
   {
    "duration": 13,
    "start_time": "2022-03-18T16:14:08.254Z"
   },
   {
    "duration": 51,
    "start_time": "2022-03-18T16:14:08.268Z"
   },
   {
    "duration": 40,
    "start_time": "2022-03-18T16:14:08.321Z"
   },
   {
    "duration": 10,
    "start_time": "2022-03-18T16:14:08.362Z"
   },
   {
    "duration": 8,
    "start_time": "2022-03-18T16:14:08.374Z"
   },
   {
    "duration": 12,
    "start_time": "2022-03-18T16:14:08.408Z"
   },
   {
    "duration": 4,
    "start_time": "2022-03-18T16:14:08.422Z"
   },
   {
    "duration": 7,
    "start_time": "2022-03-18T16:14:08.427Z"
   },
   {
    "duration": 8,
    "start_time": "2022-03-18T16:14:08.435Z"
   },
   {
    "duration": 7,
    "start_time": "2022-03-18T16:14:08.444Z"
   },
   {
    "duration": 183,
    "start_time": "2022-03-18T16:14:08.453Z"
   },
   {
    "duration": 5,
    "start_time": "2022-03-18T16:14:08.639Z"
   },
   {
    "duration": 14,
    "start_time": "2022-03-18T16:14:08.645Z"
   },
   {
    "duration": 11,
    "start_time": "2022-03-18T16:14:08.660Z"
   },
   {
    "duration": 141,
    "start_time": "2022-03-18T16:14:08.673Z"
   },
   {
    "duration": 200,
    "start_time": "2022-03-18T16:14:08.816Z"
   },
   {
    "duration": 358,
    "start_time": "2022-03-18T16:14:09.018Z"
   },
   {
    "duration": 3365,
    "start_time": "2022-03-18T16:14:09.378Z"
   },
   {
    "duration": 2983,
    "start_time": "2022-03-18T16:14:12.745Z"
   },
   {
    "duration": 7,
    "start_time": "2022-03-18T16:14:15.730Z"
   },
   {
    "duration": 11,
    "start_time": "2022-03-18T16:14:15.739Z"
   },
   {
    "duration": 6,
    "start_time": "2022-03-18T16:14:15.752Z"
   },
   {
    "duration": 8,
    "start_time": "2022-03-18T16:14:15.759Z"
   },
   {
    "duration": 583,
    "start_time": "2022-03-18T16:14:15.768Z"
   },
   {
    "duration": 9,
    "start_time": "2022-03-18T16:14:16.353Z"
   },
   {
    "duration": 7,
    "start_time": "2022-03-18T16:14:16.364Z"
   },
   {
    "duration": 7,
    "start_time": "2022-03-18T16:14:16.372Z"
   },
   {
    "duration": 689,
    "start_time": "2022-03-18T16:14:16.380Z"
   },
   {
    "duration": 8,
    "start_time": "2022-03-18T16:14:17.071Z"
   },
   {
    "duration": 4,
    "start_time": "2022-03-18T16:14:17.081Z"
   },
   {
    "duration": 461,
    "start_time": "2022-03-18T16:14:17.087Z"
   },
   {
    "duration": 8,
    "start_time": "2022-03-18T16:14:17.549Z"
   },
   {
    "duration": 4737,
    "start_time": "2022-03-18T16:14:17.559Z"
   },
   {
    "duration": 8258,
    "start_time": "2022-03-18T16:14:22.298Z"
   },
   {
    "duration": 6,
    "start_time": "2022-03-18T16:14:30.558Z"
   },
   {
    "duration": 26,
    "start_time": "2022-03-18T16:14:30.566Z"
   },
   {
    "duration": 16,
    "start_time": "2022-03-18T16:14:30.593Z"
   },
   {
    "duration": 15,
    "start_time": "2022-03-18T16:14:30.611Z"
   },
   {
    "duration": 532,
    "start_time": "2022-03-18T16:14:30.630Z"
   },
   {
    "duration": 542,
    "start_time": "2022-03-19T12:01:59.538Z"
   },
   {
    "duration": 3,
    "start_time": "2022-03-19T12:32:02.843Z"
   },
   {
    "duration": 71,
    "start_time": "2022-03-19T12:37:40.011Z"
   },
   {
    "duration": 1561,
    "start_time": "2022-03-19T12:37:52.548Z"
   },
   {
    "duration": 56,
    "start_time": "2022-03-19T12:37:54.111Z"
   },
   {
    "duration": 15,
    "start_time": "2022-03-19T12:37:54.168Z"
   },
   {
    "duration": 51,
    "start_time": "2022-03-19T12:37:54.186Z"
   },
   {
    "duration": 40,
    "start_time": "2022-03-19T12:37:54.239Z"
   },
   {
    "duration": 9,
    "start_time": "2022-03-19T12:37:54.281Z"
   },
   {
    "duration": 11,
    "start_time": "2022-03-19T12:37:54.292Z"
   },
   {
    "duration": 33,
    "start_time": "2022-03-19T12:37:54.304Z"
   },
   {
    "duration": 3,
    "start_time": "2022-03-19T12:37:54.339Z"
   },
   {
    "duration": 6,
    "start_time": "2022-03-19T12:37:54.345Z"
   },
   {
    "duration": 8,
    "start_time": "2022-03-19T12:37:54.352Z"
   },
   {
    "duration": 9,
    "start_time": "2022-03-19T12:37:54.362Z"
   },
   {
    "duration": 147,
    "start_time": "2022-03-19T12:37:54.373Z"
   },
   {
    "duration": 5,
    "start_time": "2022-03-19T12:37:54.522Z"
   },
   {
    "duration": 11,
    "start_time": "2022-03-19T12:37:54.536Z"
   },
   {
    "duration": 9,
    "start_time": "2022-03-19T12:37:54.549Z"
   },
   {
    "duration": 84,
    "start_time": "2022-03-19T12:37:54.560Z"
   },
   {
    "duration": 200,
    "start_time": "2022-03-19T12:37:54.646Z"
   },
   {
    "duration": 339,
    "start_time": "2022-03-19T12:37:54.848Z"
   },
   {
    "duration": 3194,
    "start_time": "2022-03-19T12:37:55.189Z"
   },
   {
    "duration": 2816,
    "start_time": "2022-03-19T12:37:58.385Z"
   },
   {
    "duration": 67,
    "start_time": "2022-03-19T12:38:01.202Z"
   },
   {
    "duration": 7,
    "start_time": "2022-03-19T12:38:01.271Z"
   },
   {
    "duration": 20,
    "start_time": "2022-03-19T12:38:01.281Z"
   },
   {
    "duration": 16,
    "start_time": "2022-03-19T12:38:01.303Z"
   },
   {
    "duration": 18,
    "start_time": "2022-03-19T12:38:01.321Z"
   },
   {
    "duration": 553,
    "start_time": "2022-03-19T12:38:01.341Z"
   },
   {
    "duration": 8,
    "start_time": "2022-03-19T12:38:01.898Z"
   },
   {
    "duration": 19,
    "start_time": "2022-03-19T12:38:01.908Z"
   },
   {
    "duration": 10,
    "start_time": "2022-03-19T12:38:01.929Z"
   },
   {
    "duration": 652,
    "start_time": "2022-03-19T12:38:01.940Z"
   },
   {
    "duration": 8,
    "start_time": "2022-03-19T12:38:02.594Z"
   },
   {
    "duration": 10,
    "start_time": "2022-03-19T12:38:02.603Z"
   },
   {
    "duration": 457,
    "start_time": "2022-03-19T12:38:02.614Z"
   },
   {
    "duration": 8,
    "start_time": "2022-03-19T12:38:03.073Z"
   },
   {
    "duration": 4498,
    "start_time": "2022-03-19T12:38:03.083Z"
   },
   {
    "duration": 7659,
    "start_time": "2022-03-19T12:38:07.583Z"
   },
   {
    "duration": 7,
    "start_time": "2022-03-19T12:38:15.243Z"
   },
   {
    "duration": 11,
    "start_time": "2022-03-19T12:38:15.252Z"
   },
   {
    "duration": 20,
    "start_time": "2022-03-19T12:38:15.265Z"
   },
   {
    "duration": 6,
    "start_time": "2022-03-19T12:38:15.287Z"
   },
   {
    "duration": 517,
    "start_time": "2022-03-19T12:38:15.295Z"
   },
   {
    "duration": 9,
    "start_time": "2022-03-19T12:40:23.534Z"
   },
   {
    "duration": 0,
    "start_time": "2022-03-19T12:50:28.881Z"
   },
   {
    "duration": 56,
    "start_time": "2022-03-19T12:51:44.664Z"
   },
   {
    "duration": 106,
    "start_time": "2022-03-19T12:51:55.126Z"
   },
   {
    "duration": 4449,
    "start_time": "2022-03-19T12:52:24.572Z"
   },
   {
    "duration": 12,
    "start_time": "2022-03-19T12:54:19.261Z"
   },
   {
    "duration": 17,
    "start_time": "2022-03-19T12:55:49.849Z"
   },
   {
    "duration": 9164,
    "start_time": "2022-03-19T12:55:59.719Z"
   },
   {
    "duration": 8123,
    "start_time": "2022-03-19T12:56:22.065Z"
   },
   {
    "duration": 7937,
    "start_time": "2022-03-19T12:56:48.287Z"
   },
   {
    "duration": 7728,
    "start_time": "2022-03-19T12:57:51.191Z"
   },
   {
    "duration": 1492,
    "start_time": "2022-03-19T12:58:09.376Z"
   },
   {
    "duration": 28,
    "start_time": "2022-03-19T12:58:10.870Z"
   },
   {
    "duration": 15,
    "start_time": "2022-03-19T12:58:10.900Z"
   },
   {
    "duration": 58,
    "start_time": "2022-03-19T12:58:10.917Z"
   },
   {
    "duration": 41,
    "start_time": "2022-03-19T12:58:10.976Z"
   },
   {
    "duration": 28,
    "start_time": "2022-03-19T12:58:11.019Z"
   },
   {
    "duration": 14,
    "start_time": "2022-03-19T12:58:11.049Z"
   },
   {
    "duration": 11,
    "start_time": "2022-03-19T12:58:11.065Z"
   },
   {
    "duration": 3,
    "start_time": "2022-03-19T12:58:11.078Z"
   },
   {
    "duration": 7,
    "start_time": "2022-03-19T12:58:11.084Z"
   },
   {
    "duration": 49,
    "start_time": "2022-03-19T12:58:11.092Z"
   },
   {
    "duration": 10,
    "start_time": "2022-03-19T12:58:11.143Z"
   },
   {
    "duration": 165,
    "start_time": "2022-03-19T12:58:11.155Z"
   },
   {
    "duration": 15,
    "start_time": "2022-03-19T12:58:11.323Z"
   },
   {
    "duration": 28,
    "start_time": "2022-03-19T12:58:11.340Z"
   },
   {
    "duration": 20,
    "start_time": "2022-03-19T12:58:11.371Z"
   },
   {
    "duration": 147,
    "start_time": "2022-03-19T12:58:11.393Z"
   },
   {
    "duration": 108,
    "start_time": "2022-03-19T12:58:11.542Z"
   },
   {
    "duration": 386,
    "start_time": "2022-03-19T12:58:11.652Z"
   },
   {
    "duration": 3529,
    "start_time": "2022-03-19T12:58:12.040Z"
   },
   {
    "duration": 2949,
    "start_time": "2022-03-19T12:58:15.571Z"
   },
   {
    "duration": 7425,
    "start_time": "2022-03-19T12:58:18.522Z"
   },
   {
    "duration": 7,
    "start_time": "2022-03-19T12:58:25.948Z"
   },
   {
    "duration": 12,
    "start_time": "2022-03-19T12:58:25.957Z"
   },
   {
    "duration": 6,
    "start_time": "2022-03-19T12:58:25.971Z"
   },
   {
    "duration": 10,
    "start_time": "2022-03-19T12:58:25.978Z"
   },
   {
    "duration": 494,
    "start_time": "2022-03-19T12:58:25.990Z"
   },
   {
    "duration": 8,
    "start_time": "2022-03-19T12:58:26.487Z"
   },
   {
    "duration": 10,
    "start_time": "2022-03-19T12:58:26.496Z"
   },
   {
    "duration": 14,
    "start_time": "2022-03-19T12:58:26.508Z"
   },
   {
    "duration": 637,
    "start_time": "2022-03-19T12:58:26.524Z"
   },
   {
    "duration": 8,
    "start_time": "2022-03-19T12:58:27.163Z"
   },
   {
    "duration": 7,
    "start_time": "2022-03-19T12:58:27.173Z"
   },
   {
    "duration": 410,
    "start_time": "2022-03-19T12:58:27.181Z"
   },
   {
    "duration": 8,
    "start_time": "2022-03-19T12:58:27.593Z"
   },
   {
    "duration": 4635,
    "start_time": "2022-03-19T12:58:27.603Z"
   },
   {
    "duration": 7925,
    "start_time": "2022-03-19T12:58:32.240Z"
   },
   {
    "duration": 6,
    "start_time": "2022-03-19T12:58:40.167Z"
   },
   {
    "duration": 11,
    "start_time": "2022-03-19T12:58:40.175Z"
   },
   {
    "duration": 11,
    "start_time": "2022-03-19T12:58:40.188Z"
   },
   {
    "duration": 6,
    "start_time": "2022-03-19T12:58:40.200Z"
   },
   {
    "duration": 526,
    "start_time": "2022-03-19T12:58:40.207Z"
   },
   {
    "duration": 1469,
    "start_time": "2022-03-19T12:59:44.708Z"
   },
   {
    "duration": 24,
    "start_time": "2022-03-19T12:59:46.179Z"
   },
   {
    "duration": 13,
    "start_time": "2022-03-19T12:59:46.205Z"
   },
   {
    "duration": 52,
    "start_time": "2022-03-19T12:59:46.221Z"
   },
   {
    "duration": 41,
    "start_time": "2022-03-19T12:59:46.275Z"
   },
   {
    "duration": 28,
    "start_time": "2022-03-19T12:59:46.317Z"
   },
   {
    "duration": 9,
    "start_time": "2022-03-19T12:59:46.346Z"
   },
   {
    "duration": 12,
    "start_time": "2022-03-19T12:59:46.356Z"
   },
   {
    "duration": 2,
    "start_time": "2022-03-19T12:59:46.370Z"
   },
   {
    "duration": 8,
    "start_time": "2022-03-19T12:59:46.375Z"
   },
   {
    "duration": 11,
    "start_time": "2022-03-19T12:59:46.384Z"
   },
   {
    "duration": 9,
    "start_time": "2022-03-19T12:59:46.397Z"
   },
   {
    "duration": 167,
    "start_time": "2022-03-19T12:59:46.408Z"
   },
   {
    "duration": 5,
    "start_time": "2022-03-19T12:59:46.577Z"
   },
   {
    "duration": 16,
    "start_time": "2022-03-19T12:59:46.583Z"
   },
   {
    "duration": 10,
    "start_time": "2022-03-19T12:59:46.601Z"
   },
   {
    "duration": 133,
    "start_time": "2022-03-19T12:59:46.612Z"
   },
   {
    "duration": 202,
    "start_time": "2022-03-19T12:59:46.746Z"
   },
   {
    "duration": 379,
    "start_time": "2022-03-19T12:59:46.949Z"
   },
   {
    "duration": 3292,
    "start_time": "2022-03-19T12:59:47.330Z"
   },
   {
    "duration": 2914,
    "start_time": "2022-03-19T12:59:50.624Z"
   },
   {
    "duration": 7861,
    "start_time": "2022-03-19T12:59:53.540Z"
   },
   {
    "duration": 61728,
    "start_time": "2022-03-19T13:00:01.403Z"
   },
   {
    "duration": 0,
    "start_time": "2022-03-19T13:01:03.133Z"
   },
   {
    "duration": 0,
    "start_time": "2022-03-19T13:01:03.135Z"
   },
   {
    "duration": 0,
    "start_time": "2022-03-19T13:01:03.136Z"
   },
   {
    "duration": 0,
    "start_time": "2022-03-19T13:01:03.136Z"
   },
   {
    "duration": 0,
    "start_time": "2022-03-19T13:01:03.138Z"
   },
   {
    "duration": 0,
    "start_time": "2022-03-19T13:01:03.138Z"
   },
   {
    "duration": 0,
    "start_time": "2022-03-19T13:01:03.139Z"
   },
   {
    "duration": 0,
    "start_time": "2022-03-19T13:01:03.140Z"
   },
   {
    "duration": 0,
    "start_time": "2022-03-19T13:01:03.141Z"
   },
   {
    "duration": 0,
    "start_time": "2022-03-19T13:01:03.142Z"
   },
   {
    "duration": 0,
    "start_time": "2022-03-19T13:01:03.143Z"
   },
   {
    "duration": 0,
    "start_time": "2022-03-19T13:01:03.144Z"
   },
   {
    "duration": 0,
    "start_time": "2022-03-19T13:01:03.145Z"
   },
   {
    "duration": 0,
    "start_time": "2022-03-19T13:01:03.145Z"
   },
   {
    "duration": 0,
    "start_time": "2022-03-19T13:01:03.147Z"
   },
   {
    "duration": 0,
    "start_time": "2022-03-19T13:01:03.147Z"
   },
   {
    "duration": 0,
    "start_time": "2022-03-19T13:01:03.148Z"
   },
   {
    "duration": 0,
    "start_time": "2022-03-19T13:01:03.149Z"
   },
   {
    "duration": 0,
    "start_time": "2022-03-19T13:01:03.150Z"
   },
   {
    "duration": 0,
    "start_time": "2022-03-19T13:01:03.151Z"
   },
   {
    "duration": 7350,
    "start_time": "2022-03-19T13:04:24.157Z"
   },
   {
    "duration": 7,
    "start_time": "2022-03-19T13:04:33.470Z"
   },
   {
    "duration": 9,
    "start_time": "2022-03-19T13:04:34.768Z"
   },
   {
    "duration": 775,
    "start_time": "2022-03-19T13:05:36.190Z"
   },
   {
    "duration": 859,
    "start_time": "2022-03-19T13:05:44.543Z"
   },
   {
    "duration": 2586,
    "start_time": "2022-03-19T13:05:52.017Z"
   },
   {
    "duration": 2211,
    "start_time": "2022-03-19T13:06:07.653Z"
   },
   {
    "duration": 1933,
    "start_time": "2022-03-19T13:07:01.080Z"
   },
   {
    "duration": 4541,
    "start_time": "2022-03-19T13:07:39.922Z"
   },
   {
    "duration": 1953,
    "start_time": "2022-03-19T13:08:06.173Z"
   },
   {
    "duration": 1909,
    "start_time": "2022-03-19T13:08:29.273Z"
   },
   {
    "duration": 2216,
    "start_time": "2022-03-19T13:10:11.834Z"
   },
   {
    "duration": 1817,
    "start_time": "2022-03-19T13:10:22.663Z"
   },
   {
    "duration": 1859,
    "start_time": "2022-03-19T13:10:33.852Z"
   },
   {
    "duration": 2102,
    "start_time": "2022-03-19T13:10:57.419Z"
   },
   {
    "duration": 1836,
    "start_time": "2022-03-19T13:11:07.212Z"
   },
   {
    "duration": 114762,
    "start_time": "2022-03-19T13:11:55.354Z"
   },
   {
    "duration": 3373,
    "start_time": "2022-03-19T13:14:54.784Z"
   },
   {
    "duration": 5,
    "start_time": "2022-03-19T13:22:28.036Z"
   },
   {
    "duration": 6,
    "start_time": "2022-03-19T13:22:28.043Z"
   },
   {
    "duration": 516,
    "start_time": "2022-03-19T13:22:28.058Z"
   },
   {
    "duration": 8,
    "start_time": "2022-03-19T13:22:28.576Z"
   },
   {
    "duration": 6,
    "start_time": "2022-03-19T13:22:28.585Z"
   },
   {
    "duration": 9,
    "start_time": "2022-03-19T13:22:28.592Z"
   },
   {
    "duration": 588,
    "start_time": "2022-03-19T13:22:28.603Z"
   },
   {
    "duration": 8,
    "start_time": "2022-03-19T13:22:29.192Z"
   },
   {
    "duration": 12,
    "start_time": "2022-03-19T13:22:29.202Z"
   },
   {
    "duration": 468,
    "start_time": "2022-03-19T13:22:29.215Z"
   },
   {
    "duration": 7,
    "start_time": "2022-03-19T13:22:29.685Z"
   },
   {
    "duration": 4386,
    "start_time": "2022-03-19T13:22:29.694Z"
   },
   {
    "duration": 7492,
    "start_time": "2022-03-19T13:22:34.081Z"
   },
   {
    "duration": 6,
    "start_time": "2022-03-19T13:22:41.575Z"
   },
   {
    "duration": 22,
    "start_time": "2022-03-19T13:22:41.582Z"
   },
   {
    "duration": 10,
    "start_time": "2022-03-19T13:22:41.606Z"
   },
   {
    "duration": 5,
    "start_time": "2022-03-19T13:22:41.618Z"
   },
   {
    "duration": 504,
    "start_time": "2022-03-19T13:22:41.625Z"
   },
   {
    "duration": 4618,
    "start_time": "2022-03-19T13:31:25.638Z"
   },
   {
    "duration": 7,
    "start_time": "2022-03-19T13:31:36.470Z"
   },
   {
    "duration": 9,
    "start_time": "2022-03-19T13:31:37.139Z"
   },
   {
    "duration": 24238,
    "start_time": "2022-03-19T13:33:14.470Z"
   },
   {
    "duration": 360629,
    "start_time": "2022-03-19T13:34:04.617Z"
   },
   {
    "duration": 26099,
    "start_time": "2022-03-19T13:40:08.933Z"
   },
   {
    "duration": 75784,
    "start_time": "2022-03-19T13:40:48.748Z"
   },
   {
    "duration": 272,
    "start_time": "2022-03-19T13:42:27.613Z"
   },
   {
    "duration": 294,
    "start_time": "2022-03-19T13:42:34.774Z"
   },
   {
    "duration": 405614,
    "start_time": "2022-03-19T13:42:51.514Z"
   },
   {
    "duration": 401,
    "start_time": "2022-03-19T13:49:57.659Z"
   },
   {
    "duration": 397,
    "start_time": "2022-03-19T13:50:21.003Z"
   },
   {
    "duration": 670,
    "start_time": "2022-03-19T13:51:49.372Z"
   },
   {
    "duration": 667,
    "start_time": "2022-03-19T13:52:00.787Z"
   },
   {
    "duration": 483,
    "start_time": "2022-03-19T13:53:34.713Z"
   },
   {
    "duration": 1412,
    "start_time": "2022-03-19T14:00:20.851Z"
   },
   {
    "duration": 30,
    "start_time": "2022-03-19T14:00:22.265Z"
   },
   {
    "duration": 14,
    "start_time": "2022-03-19T14:00:22.296Z"
   },
   {
    "duration": 48,
    "start_time": "2022-03-19T14:00:22.312Z"
   },
   {
    "duration": 37,
    "start_time": "2022-03-19T14:00:22.362Z"
   },
   {
    "duration": 10,
    "start_time": "2022-03-19T14:00:22.400Z"
   },
   {
    "duration": 8,
    "start_time": "2022-03-19T14:00:22.411Z"
   },
   {
    "duration": 10,
    "start_time": "2022-03-19T14:00:22.438Z"
   },
   {
    "duration": 3,
    "start_time": "2022-03-19T14:00:22.450Z"
   },
   {
    "duration": 16,
    "start_time": "2022-03-19T14:00:22.455Z"
   },
   {
    "duration": 11,
    "start_time": "2022-03-19T14:00:22.472Z"
   },
   {
    "duration": 11,
    "start_time": "2022-03-19T14:00:22.484Z"
   },
   {
    "duration": 152,
    "start_time": "2022-03-19T14:00:22.497Z"
   },
   {
    "duration": 5,
    "start_time": "2022-03-19T14:00:22.650Z"
   },
   {
    "duration": 14,
    "start_time": "2022-03-19T14:00:22.657Z"
   },
   {
    "duration": 12,
    "start_time": "2022-03-19T14:00:22.673Z"
   },
   {
    "duration": 152,
    "start_time": "2022-03-19T14:00:22.687Z"
   },
   {
    "duration": 107,
    "start_time": "2022-03-19T14:00:22.841Z"
   },
   {
    "duration": 348,
    "start_time": "2022-03-19T14:00:22.950Z"
   },
   {
    "duration": 3122,
    "start_time": "2022-03-19T14:00:23.299Z"
   },
   {
    "duration": 2757,
    "start_time": "2022-03-19T14:00:26.423Z"
   },
   {
    "duration": 1964,
    "start_time": "2022-03-19T14:00:29.182Z"
   },
   {
    "duration": 114326,
    "start_time": "2022-03-19T14:00:31.148Z"
   },
   {
    "duration": 2960,
    "start_time": "2022-03-19T14:02:25.476Z"
   },
   {
    "duration": 7,
    "start_time": "2022-03-19T14:02:28.437Z"
   },
   {
    "duration": 30,
    "start_time": "2022-03-19T14:02:28.446Z"
   },
   {
    "duration": 25,
    "start_time": "2022-03-19T14:02:28.478Z"
   },
   {
    "duration": 11,
    "start_time": "2022-03-19T14:02:28.506Z"
   },
   {
    "duration": 473,
    "start_time": "2022-03-19T14:02:28.518Z"
   },
   {
    "duration": 8,
    "start_time": "2022-03-19T14:02:28.993Z"
   },
   {
    "duration": 28,
    "start_time": "2022-03-19T14:02:29.003Z"
   },
   {
    "duration": 40,
    "start_time": "2022-03-19T14:02:29.034Z"
   },
   {
    "duration": 697,
    "start_time": "2022-03-19T14:02:29.077Z"
   },
   {
    "duration": 14,
    "start_time": "2022-03-19T14:02:29.776Z"
   },
   {
    "duration": 27,
    "start_time": "2022-03-19T14:02:29.793Z"
   },
   {
    "duration": 458,
    "start_time": "2022-03-19T14:02:29.821Z"
   },
   {
    "duration": 9,
    "start_time": "2022-03-19T14:02:30.281Z"
   },
   {
    "duration": 4639,
    "start_time": "2022-03-19T14:02:30.291Z"
   },
   {
    "duration": 7852,
    "start_time": "2022-03-19T14:02:34.932Z"
   },
   {
    "duration": 6,
    "start_time": "2022-03-19T14:02:42.786Z"
   },
   {
    "duration": 18,
    "start_time": "2022-03-19T14:02:42.794Z"
   },
   {
    "duration": 29,
    "start_time": "2022-03-19T14:02:42.813Z"
   },
   {
    "duration": 32601,
    "start_time": "2022-03-19T14:02:42.844Z"
   },
   {
    "duration": 533,
    "start_time": "2022-03-19T14:03:15.447Z"
   },
   {
    "duration": 5,
    "start_time": "2022-03-19T14:03:15.982Z"
   },
   {
    "duration": 512,
    "start_time": "2022-03-19T14:03:15.990Z"
   },
   {
    "duration": 725,
    "start_time": "2022-03-19T14:03:30.197Z"
   },
   {
    "duration": 354952,
    "start_time": "2022-03-19T14:03:41.732Z"
   },
   {
    "duration": 394,
    "start_time": "2022-03-19T14:10:33.723Z"
   }
  ],
  "kernelspec": {
   "display_name": "Python 3 (ipykernel)",
   "language": "python",
   "name": "python3"
  },
  "language_info": {
   "codemirror_mode": {
    "name": "ipython",
    "version": 3
   },
   "file_extension": ".py",
   "mimetype": "text/x-python",
   "name": "python",
   "nbconvert_exporter": "python",
   "pygments_lexer": "ipython3",
   "version": "3.9.7"
  },
  "toc": {
   "base_numbering": 1,
   "nav_menu": {},
   "number_sections": true,
   "sideBar": true,
   "skip_h1_title": true,
   "title_cell": "Содержание",
   "title_sidebar": "Contents",
   "toc_cell": true,
   "toc_position": {
    "height": "calc(100% - 180px)",
    "left": "10px",
    "top": "150px",
    "width": "270.391px"
   },
   "toc_section_display": true,
   "toc_window_display": true
  }
 },
 "nbformat": 4,
 "nbformat_minor": 2
}
