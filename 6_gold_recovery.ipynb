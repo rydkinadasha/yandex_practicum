{
 "cells": [
  {
   "cell_type": "markdown",
   "metadata": {},
   "source": [
    "# Восстановление золота из руды"
   ]
  },
  {
   "cell_type": "markdown",
   "metadata": {},
   "source": [
    "В этом проекте нам нужно подготовить прототип модели машинного обучения для «Цифры». Компания разрабатывает решения для эффективной работы промышленных предприятий.\n",
    "\n",
    "Модель должна предсказать коэффициент восстановления золота из золотосодержащей руды. Мы будем использоваться данными с параметрами добычи и очистки. \n",
    "\n",
    "Модель поможет оптимизировать производство, чтобы не запускать предприятие с убыточными характеристиками.\n",
    "\n",
    "Подзадачи:\n",
    "\n",
    "1. Подготовить данные;\n",
    "2. Провести исследовательский анализ данных;\n",
    "3. Построить и обучить модель.\n"
   ]
  },
  {
   "cell_type": "markdown",
   "metadata": {},
   "source": [
    "## Подготовка данных"
   ]
  },
  {
   "cell_type": "markdown",
   "metadata": {},
   "source": [
    "### Импорт данных"
   ]
  },
  {
   "cell_type": "code",
   "execution_count": 1,
   "metadata": {},
   "outputs": [],
   "source": [
    "# ! pip install catboost"
   ]
  },
  {
   "cell_type": "code",
   "execution_count": 2,
   "metadata": {},
   "outputs": [],
   "source": [
    "import pandas as pd\n",
    "import numpy as np\n",
    "import warnings\n",
    "warnings.filterwarnings(\"ignore\")\n",
    "import matplotlib.pyplot as plt\n",
    "import seaborn as sns\n",
    "from sklearn.metrics import mean_absolute_error, accuracy_score\n",
    "from sklearn.preprocessing import StandardScaler\n",
    "from sklearn.model_selection import train_test_split, cross_val_score\n",
    "from sklearn.metrics import make_scorer\n",
    "from sklearn.model_selection import GridSearchCV\n",
    "from sklearn.linear_model import LinearRegression\n",
    "from sklearn.ensemble import RandomForestRegressor\n",
    "from sklearn.tree import DecisionTreeRegressor\n",
    "from catboost import CatBoostRegressor\n",
    "from sklearn.dummy import DummyRegressor\n",
    "from sklearn.linear_model import MultiTaskLassoCV\n",
    "from sklearn.linear_model import RidgeCV"
   ]
  },
  {
   "cell_type": "code",
   "execution_count": 3,
   "metadata": {},
   "outputs": [],
   "source": [
    "try:\n",
    "    df_full = pd.read_csv('/datasets/gold_recovery_full.csv')\n",
    "    df_test = pd.read_csv('/datasets/gold_recovery_test.csv')\n",
    "    df_train = pd.read_csv('/datasets/gold_recovery_train.csv')\n",
    "    \n",
    "except:\n",
    "    df_full = pd.read_csv('gold_recovery_full_new.csv')\n",
    "    df_train = pd.read_csv('gold_recovery_train_new.csv')\n",
    "    df_test = pd.read_csv('gold_recovery_test_new.csv')"
   ]
  },
  {
   "cell_type": "markdown",
   "metadata": {},
   "source": [
    "### Обзор данных"
   ]
  },
  {
   "cell_type": "markdown",
   "metadata": {},
   "source": [
    "#### Полный датасет `df_full`"
   ]
  },
  {
   "cell_type": "code",
   "execution_count": 4,
   "metadata": {},
   "outputs": [
    {
     "name": "stdout",
     "output_type": "stream",
     "text": [
      "<class 'pandas.core.frame.DataFrame'>\n",
      "RangeIndex: 19439 entries, 0 to 19438\n",
      "Data columns (total 87 columns):\n",
      " #   Column                                              Non-Null Count  Dtype  \n",
      "---  ------                                              --------------  -----  \n",
      " 0   date                                                19439 non-null  object \n",
      " 1   final.output.concentrate_ag                         19438 non-null  float64\n",
      " 2   final.output.concentrate_pb                         19438 non-null  float64\n",
      " 3   final.output.concentrate_sol                        19228 non-null  float64\n",
      " 4   final.output.concentrate_au                         19439 non-null  float64\n",
      " 5   final.output.recovery                               19439 non-null  float64\n",
      " 6   final.output.tail_ag                                19438 non-null  float64\n",
      " 7   final.output.tail_pb                                19338 non-null  float64\n",
      " 8   final.output.tail_sol                               19433 non-null  float64\n",
      " 9   final.output.tail_au                                19439 non-null  float64\n",
      " 10  primary_cleaner.input.sulfate                       19415 non-null  float64\n",
      " 11  primary_cleaner.input.depressant                    19402 non-null  float64\n",
      " 12  primary_cleaner.input.feed_size                     19439 non-null  float64\n",
      " 13  primary_cleaner.input.xanthate                      19335 non-null  float64\n",
      " 14  primary_cleaner.output.concentrate_ag               19439 non-null  float64\n",
      " 15  primary_cleaner.output.concentrate_pb               19323 non-null  float64\n",
      " 16  primary_cleaner.output.concentrate_sol              19069 non-null  float64\n",
      " 17  primary_cleaner.output.concentrate_au               19439 non-null  float64\n",
      " 18  primary_cleaner.output.tail_ag                      19435 non-null  float64\n",
      " 19  primary_cleaner.output.tail_pb                      19418 non-null  float64\n",
      " 20  primary_cleaner.output.tail_sol                     19377 non-null  float64\n",
      " 21  primary_cleaner.output.tail_au                      19439 non-null  float64\n",
      " 22  primary_cleaner.state.floatbank8_a_air              19435 non-null  float64\n",
      " 23  primary_cleaner.state.floatbank8_a_level            19438 non-null  float64\n",
      " 24  primary_cleaner.state.floatbank8_b_air              19435 non-null  float64\n",
      " 25  primary_cleaner.state.floatbank8_b_level            19438 non-null  float64\n",
      " 26  primary_cleaner.state.floatbank8_c_air              19437 non-null  float64\n",
      " 27  primary_cleaner.state.floatbank8_c_level            19438 non-null  float64\n",
      " 28  primary_cleaner.state.floatbank8_d_air              19436 non-null  float64\n",
      " 29  primary_cleaner.state.floatbank8_d_level            19438 non-null  float64\n",
      " 30  rougher.calculation.sulfate_to_au_concentrate       19437 non-null  float64\n",
      " 31  rougher.calculation.floatbank10_sulfate_to_au_feed  19437 non-null  float64\n",
      " 32  rougher.calculation.floatbank11_sulfate_to_au_feed  19437 non-null  float64\n",
      " 33  rougher.calculation.au_pb_ratio                     19439 non-null  float64\n",
      " 34  rougher.input.feed_ag                               19439 non-null  float64\n",
      " 35  rougher.input.feed_pb                               19339 non-null  float64\n",
      " 36  rougher.input.feed_rate                             19428 non-null  float64\n",
      " 37  rougher.input.feed_size                             19294 non-null  float64\n",
      " 38  rougher.input.feed_sol                              19340 non-null  float64\n",
      " 39  rougher.input.feed_au                               19439 non-null  float64\n",
      " 40  rougher.input.floatbank10_sulfate                   19405 non-null  float64\n",
      " 41  rougher.input.floatbank10_xanthate                  19431 non-null  float64\n",
      " 42  rougher.input.floatbank11_sulfate                   19395 non-null  float64\n",
      " 43  rougher.input.floatbank11_xanthate                  18986 non-null  float64\n",
      " 44  rougher.output.concentrate_ag                       19439 non-null  float64\n",
      " 45  rougher.output.concentrate_pb                       19439 non-null  float64\n",
      " 46  rougher.output.concentrate_sol                      19416 non-null  float64\n",
      " 47  rougher.output.concentrate_au                       19439 non-null  float64\n",
      " 48  rougher.output.recovery                             19439 non-null  float64\n",
      " 49  rougher.output.tail_ag                              19438 non-null  float64\n",
      " 50  rougher.output.tail_pb                              19439 non-null  float64\n",
      " 51  rougher.output.tail_sol                             19439 non-null  float64\n",
      " 52  rougher.output.tail_au                              19439 non-null  float64\n",
      " 53  rougher.state.floatbank10_a_air                     19438 non-null  float64\n",
      " 54  rougher.state.floatbank10_a_level                   19438 non-null  float64\n",
      " 55  rougher.state.floatbank10_b_air                     19438 non-null  float64\n",
      " 56  rougher.state.floatbank10_b_level                   19438 non-null  float64\n",
      " 57  rougher.state.floatbank10_c_air                     19438 non-null  float64\n",
      " 58  rougher.state.floatbank10_c_level                   19438 non-null  float64\n",
      " 59  rougher.state.floatbank10_d_air                     19439 non-null  float64\n",
      " 60  rougher.state.floatbank10_d_level                   19439 non-null  float64\n",
      " 61  rougher.state.floatbank10_e_air                     19003 non-null  float64\n",
      " 62  rougher.state.floatbank10_e_level                   19439 non-null  float64\n",
      " 63  rougher.state.floatbank10_f_air                     19439 non-null  float64\n",
      " 64  rougher.state.floatbank10_f_level                   19439 non-null  float64\n",
      " 65  secondary_cleaner.output.tail_ag                    19437 non-null  float64\n",
      " 66  secondary_cleaner.output.tail_pb                    19427 non-null  float64\n",
      " 67  secondary_cleaner.output.tail_sol                   17691 non-null  float64\n",
      " 68  secondary_cleaner.output.tail_au                    19439 non-null  float64\n",
      " 69  secondary_cleaner.state.floatbank2_a_air            19219 non-null  float64\n",
      " 70  secondary_cleaner.state.floatbank2_a_level          19438 non-null  float64\n",
      " 71  secondary_cleaner.state.floatbank2_b_air            19416 non-null  float64\n",
      " 72  secondary_cleaner.state.floatbank2_b_level          19438 non-null  float64\n",
      " 73  secondary_cleaner.state.floatbank3_a_air            19426 non-null  float64\n",
      " 74  secondary_cleaner.state.floatbank3_a_level          19438 non-null  float64\n",
      " 75  secondary_cleaner.state.floatbank3_b_air            19438 non-null  float64\n",
      " 76  secondary_cleaner.state.floatbank3_b_level          19438 non-null  float64\n",
      " 77  secondary_cleaner.state.floatbank4_a_air            19433 non-null  float64\n",
      " 78  secondary_cleaner.state.floatbank4_a_level          19438 non-null  float64\n",
      " 79  secondary_cleaner.state.floatbank4_b_air            19438 non-null  float64\n",
      " 80  secondary_cleaner.state.floatbank4_b_level          19438 non-null  float64\n",
      " 81  secondary_cleaner.state.floatbank5_a_air            19438 non-null  float64\n",
      " 82  secondary_cleaner.state.floatbank5_a_level          19438 non-null  float64\n",
      " 83  secondary_cleaner.state.floatbank5_b_air            19438 non-null  float64\n",
      " 84  secondary_cleaner.state.floatbank5_b_level          19438 non-null  float64\n",
      " 85  secondary_cleaner.state.floatbank6_a_air            19437 non-null  float64\n",
      " 86  secondary_cleaner.state.floatbank6_a_level          19438 non-null  float64\n",
      "dtypes: float64(86), object(1)\n",
      "memory usage: 12.9+ MB\n"
     ]
    }
   ],
   "source": [
    "df_full.info()"
   ]
  },
  {
   "cell_type": "code",
   "execution_count": 5,
   "metadata": {},
   "outputs": [
    {
     "data": {
      "text/html": [
       "<div>\n",
       "<style scoped>\n",
       "    .dataframe tbody tr th:only-of-type {\n",
       "        vertical-align: middle;\n",
       "    }\n",
       "\n",
       "    .dataframe tbody tr th {\n",
       "        vertical-align: top;\n",
       "    }\n",
       "\n",
       "    .dataframe thead th {\n",
       "        text-align: right;\n",
       "    }\n",
       "</style>\n",
       "<table border=\"1\" class=\"dataframe\">\n",
       "  <thead>\n",
       "    <tr style=\"text-align: right;\">\n",
       "      <th></th>\n",
       "      <th>date</th>\n",
       "      <th>final.output.concentrate_ag</th>\n",
       "      <th>final.output.concentrate_pb</th>\n",
       "      <th>final.output.concentrate_sol</th>\n",
       "      <th>final.output.concentrate_au</th>\n",
       "      <th>final.output.recovery</th>\n",
       "      <th>final.output.tail_ag</th>\n",
       "      <th>final.output.tail_pb</th>\n",
       "      <th>final.output.tail_sol</th>\n",
       "      <th>final.output.tail_au</th>\n",
       "      <th>...</th>\n",
       "      <th>secondary_cleaner.state.floatbank4_a_air</th>\n",
       "      <th>secondary_cleaner.state.floatbank4_a_level</th>\n",
       "      <th>secondary_cleaner.state.floatbank4_b_air</th>\n",
       "      <th>secondary_cleaner.state.floatbank4_b_level</th>\n",
       "      <th>secondary_cleaner.state.floatbank5_a_air</th>\n",
       "      <th>secondary_cleaner.state.floatbank5_a_level</th>\n",
       "      <th>secondary_cleaner.state.floatbank5_b_air</th>\n",
       "      <th>secondary_cleaner.state.floatbank5_b_level</th>\n",
       "      <th>secondary_cleaner.state.floatbank6_a_air</th>\n",
       "      <th>secondary_cleaner.state.floatbank6_a_level</th>\n",
       "    </tr>\n",
       "  </thead>\n",
       "  <tbody>\n",
       "    <tr>\n",
       "      <th>0</th>\n",
       "      <td>2016-01-15 00:00:00</td>\n",
       "      <td>6.055403</td>\n",
       "      <td>9.889648</td>\n",
       "      <td>5.507324</td>\n",
       "      <td>42.192020</td>\n",
       "      <td>70.541216</td>\n",
       "      <td>10.411962</td>\n",
       "      <td>0.895447</td>\n",
       "      <td>16.904297</td>\n",
       "      <td>2.143149</td>\n",
       "      <td>...</td>\n",
       "      <td>14.016835</td>\n",
       "      <td>-502.488007</td>\n",
       "      <td>12.099931</td>\n",
       "      <td>-504.715942</td>\n",
       "      <td>9.925633</td>\n",
       "      <td>-498.310211</td>\n",
       "      <td>8.079666</td>\n",
       "      <td>-500.470978</td>\n",
       "      <td>14.151341</td>\n",
       "      <td>-605.841980</td>\n",
       "    </tr>\n",
       "    <tr>\n",
       "      <th>1</th>\n",
       "      <td>2016-01-15 01:00:00</td>\n",
       "      <td>6.029369</td>\n",
       "      <td>9.968944</td>\n",
       "      <td>5.257781</td>\n",
       "      <td>42.701629</td>\n",
       "      <td>69.266198</td>\n",
       "      <td>10.462676</td>\n",
       "      <td>0.927452</td>\n",
       "      <td>16.634514</td>\n",
       "      <td>2.224930</td>\n",
       "      <td>...</td>\n",
       "      <td>13.992281</td>\n",
       "      <td>-505.503262</td>\n",
       "      <td>11.950531</td>\n",
       "      <td>-501.331529</td>\n",
       "      <td>10.039245</td>\n",
       "      <td>-500.169983</td>\n",
       "      <td>7.984757</td>\n",
       "      <td>-500.582168</td>\n",
       "      <td>13.998353</td>\n",
       "      <td>-599.787184</td>\n",
       "    </tr>\n",
       "    <tr>\n",
       "      <th>2</th>\n",
       "      <td>2016-01-15 02:00:00</td>\n",
       "      <td>6.055926</td>\n",
       "      <td>10.213995</td>\n",
       "      <td>5.383759</td>\n",
       "      <td>42.657501</td>\n",
       "      <td>68.116445</td>\n",
       "      <td>10.507046</td>\n",
       "      <td>0.953716</td>\n",
       "      <td>16.208849</td>\n",
       "      <td>2.257889</td>\n",
       "      <td>...</td>\n",
       "      <td>14.015015</td>\n",
       "      <td>-502.520901</td>\n",
       "      <td>11.912783</td>\n",
       "      <td>-501.133383</td>\n",
       "      <td>10.070913</td>\n",
       "      <td>-500.129135</td>\n",
       "      <td>8.013877</td>\n",
       "      <td>-500.517572</td>\n",
       "      <td>14.028663</td>\n",
       "      <td>-601.427363</td>\n",
       "    </tr>\n",
       "    <tr>\n",
       "      <th>3</th>\n",
       "      <td>2016-01-15 03:00:00</td>\n",
       "      <td>6.047977</td>\n",
       "      <td>9.977019</td>\n",
       "      <td>4.858634</td>\n",
       "      <td>42.689819</td>\n",
       "      <td>68.347543</td>\n",
       "      <td>10.422762</td>\n",
       "      <td>0.883763</td>\n",
       "      <td>16.532835</td>\n",
       "      <td>2.146849</td>\n",
       "      <td>...</td>\n",
       "      <td>14.036510</td>\n",
       "      <td>-500.857308</td>\n",
       "      <td>11.999550</td>\n",
       "      <td>-501.193686</td>\n",
       "      <td>9.970366</td>\n",
       "      <td>-499.201640</td>\n",
       "      <td>7.977324</td>\n",
       "      <td>-500.255908</td>\n",
       "      <td>14.005551</td>\n",
       "      <td>-599.996129</td>\n",
       "    </tr>\n",
       "    <tr>\n",
       "      <th>4</th>\n",
       "      <td>2016-01-15 04:00:00</td>\n",
       "      <td>6.148599</td>\n",
       "      <td>10.142511</td>\n",
       "      <td>4.939416</td>\n",
       "      <td>42.774141</td>\n",
       "      <td>66.927016</td>\n",
       "      <td>10.360302</td>\n",
       "      <td>0.792826</td>\n",
       "      <td>16.525686</td>\n",
       "      <td>2.055292</td>\n",
       "      <td>...</td>\n",
       "      <td>14.027298</td>\n",
       "      <td>-499.838632</td>\n",
       "      <td>11.953070</td>\n",
       "      <td>-501.053894</td>\n",
       "      <td>9.925709</td>\n",
       "      <td>-501.686727</td>\n",
       "      <td>7.894242</td>\n",
       "      <td>-500.356035</td>\n",
       "      <td>13.996647</td>\n",
       "      <td>-601.496691</td>\n",
       "    </tr>\n",
       "  </tbody>\n",
       "</table>\n",
       "<p>5 rows × 87 columns</p>\n",
       "</div>"
      ],
      "text/plain": [
       "                  date  final.output.concentrate_ag  \\\n",
       "0  2016-01-15 00:00:00                     6.055403   \n",
       "1  2016-01-15 01:00:00                     6.029369   \n",
       "2  2016-01-15 02:00:00                     6.055926   \n",
       "3  2016-01-15 03:00:00                     6.047977   \n",
       "4  2016-01-15 04:00:00                     6.148599   \n",
       "\n",
       "   final.output.concentrate_pb  final.output.concentrate_sol  \\\n",
       "0                     9.889648                      5.507324   \n",
       "1                     9.968944                      5.257781   \n",
       "2                    10.213995                      5.383759   \n",
       "3                     9.977019                      4.858634   \n",
       "4                    10.142511                      4.939416   \n",
       "\n",
       "   final.output.concentrate_au  final.output.recovery  final.output.tail_ag  \\\n",
       "0                    42.192020              70.541216             10.411962   \n",
       "1                    42.701629              69.266198             10.462676   \n",
       "2                    42.657501              68.116445             10.507046   \n",
       "3                    42.689819              68.347543             10.422762   \n",
       "4                    42.774141              66.927016             10.360302   \n",
       "\n",
       "   final.output.tail_pb  final.output.tail_sol  final.output.tail_au  ...  \\\n",
       "0              0.895447              16.904297              2.143149  ...   \n",
       "1              0.927452              16.634514              2.224930  ...   \n",
       "2              0.953716              16.208849              2.257889  ...   \n",
       "3              0.883763              16.532835              2.146849  ...   \n",
       "4              0.792826              16.525686              2.055292  ...   \n",
       "\n",
       "   secondary_cleaner.state.floatbank4_a_air  \\\n",
       "0                                 14.016835   \n",
       "1                                 13.992281   \n",
       "2                                 14.015015   \n",
       "3                                 14.036510   \n",
       "4                                 14.027298   \n",
       "\n",
       "   secondary_cleaner.state.floatbank4_a_level  \\\n",
       "0                                 -502.488007   \n",
       "1                                 -505.503262   \n",
       "2                                 -502.520901   \n",
       "3                                 -500.857308   \n",
       "4                                 -499.838632   \n",
       "\n",
       "   secondary_cleaner.state.floatbank4_b_air  \\\n",
       "0                                 12.099931   \n",
       "1                                 11.950531   \n",
       "2                                 11.912783   \n",
       "3                                 11.999550   \n",
       "4                                 11.953070   \n",
       "\n",
       "   secondary_cleaner.state.floatbank4_b_level  \\\n",
       "0                                 -504.715942   \n",
       "1                                 -501.331529   \n",
       "2                                 -501.133383   \n",
       "3                                 -501.193686   \n",
       "4                                 -501.053894   \n",
       "\n",
       "   secondary_cleaner.state.floatbank5_a_air  \\\n",
       "0                                  9.925633   \n",
       "1                                 10.039245   \n",
       "2                                 10.070913   \n",
       "3                                  9.970366   \n",
       "4                                  9.925709   \n",
       "\n",
       "   secondary_cleaner.state.floatbank5_a_level  \\\n",
       "0                                 -498.310211   \n",
       "1                                 -500.169983   \n",
       "2                                 -500.129135   \n",
       "3                                 -499.201640   \n",
       "4                                 -501.686727   \n",
       "\n",
       "   secondary_cleaner.state.floatbank5_b_air  \\\n",
       "0                                  8.079666   \n",
       "1                                  7.984757   \n",
       "2                                  8.013877   \n",
       "3                                  7.977324   \n",
       "4                                  7.894242   \n",
       "\n",
       "   secondary_cleaner.state.floatbank5_b_level  \\\n",
       "0                                 -500.470978   \n",
       "1                                 -500.582168   \n",
       "2                                 -500.517572   \n",
       "3                                 -500.255908   \n",
       "4                                 -500.356035   \n",
       "\n",
       "   secondary_cleaner.state.floatbank6_a_air  \\\n",
       "0                                 14.151341   \n",
       "1                                 13.998353   \n",
       "2                                 14.028663   \n",
       "3                                 14.005551   \n",
       "4                                 13.996647   \n",
       "\n",
       "   secondary_cleaner.state.floatbank6_a_level  \n",
       "0                                 -605.841980  \n",
       "1                                 -599.787184  \n",
       "2                                 -601.427363  \n",
       "3                                 -599.996129  \n",
       "4                                 -601.496691  \n",
       "\n",
       "[5 rows x 87 columns]"
      ]
     },
     "execution_count": 5,
     "metadata": {},
     "output_type": "execute_result"
    }
   ],
   "source": [
    "df_full.head()"
   ]
  },
  {
   "cell_type": "code",
   "execution_count": 6,
   "metadata": {},
   "outputs": [
    {
     "data": {
      "text/plain": [
       "secondary_cleaner.output.tail_sol           0.089922\n",
       "rougher.input.floatbank11_xanthate          0.023304\n",
       "rougher.state.floatbank10_e_air             0.022429\n",
       "primary_cleaner.output.concentrate_sol      0.019034\n",
       "secondary_cleaner.state.floatbank2_a_air    0.011317\n",
       "final.output.concentrate_sol                0.010854\n",
       "rougher.input.feed_size                     0.007459\n",
       "primary_cleaner.output.concentrate_pb       0.005967\n",
       "primary_cleaner.input.xanthate              0.005350\n",
       "final.output.tail_pb                        0.005196\n",
       "rougher.input.feed_pb                       0.005144\n",
       "rougher.input.feed_sol                      0.005093\n",
       "primary_cleaner.output.tail_sol             0.003189\n",
       "rougher.input.floatbank11_sulfate           0.002263\n",
       "primary_cleaner.input.depressant            0.001903\n",
       "dtype: float64"
      ]
     },
     "execution_count": 6,
     "metadata": {},
     "output_type": "execute_result"
    }
   ],
   "source": [
    "df_full.isna().mean().sort_values(ascending=False).head(15)"
   ]
  },
  {
   "cell_type": "markdown",
   "metadata": {},
   "source": [
    "**В полной базе данных 87 признаков и 19439 наблюдений.**\n",
    "\n",
    "Больше всего пропусков у признака `secondary_cleaner.output.tail_sol` - почти 9%. У всех остальных признаков пропущено менее 3% значений. \n",
    "\n",
    "Так как это полная база данных, которая нам будет нужна для проверки модели, мы не будем вносить в нее никаких изменений."
   ]
  },
  {
   "cell_type": "markdown",
   "metadata": {},
   "source": [
    "#### Обучающий датасет `df_train`"
   ]
  },
  {
   "cell_type": "code",
   "execution_count": 7,
   "metadata": {},
   "outputs": [
    {
     "name": "stdout",
     "output_type": "stream",
     "text": [
      "<class 'pandas.core.frame.DataFrame'>\n",
      "RangeIndex: 14149 entries, 0 to 14148\n",
      "Data columns (total 87 columns):\n",
      " #   Column                                              Non-Null Count  Dtype  \n",
      "---  ------                                              --------------  -----  \n",
      " 0   date                                                14149 non-null  object \n",
      " 1   final.output.concentrate_ag                         14148 non-null  float64\n",
      " 2   final.output.concentrate_pb                         14148 non-null  float64\n",
      " 3   final.output.concentrate_sol                        13938 non-null  float64\n",
      " 4   final.output.concentrate_au                         14149 non-null  float64\n",
      " 5   final.output.recovery                               14149 non-null  float64\n",
      " 6   final.output.tail_ag                                14149 non-null  float64\n",
      " 7   final.output.tail_pb                                14049 non-null  float64\n",
      " 8   final.output.tail_sol                               14144 non-null  float64\n",
      " 9   final.output.tail_au                                14149 non-null  float64\n",
      " 10  primary_cleaner.input.sulfate                       14129 non-null  float64\n",
      " 11  primary_cleaner.input.depressant                    14117 non-null  float64\n",
      " 12  primary_cleaner.input.feed_size                     14149 non-null  float64\n",
      " 13  primary_cleaner.input.xanthate                      14049 non-null  float64\n",
      " 14  primary_cleaner.output.concentrate_ag               14149 non-null  float64\n",
      " 15  primary_cleaner.output.concentrate_pb               14063 non-null  float64\n",
      " 16  primary_cleaner.output.concentrate_sol              13863 non-null  float64\n",
      " 17  primary_cleaner.output.concentrate_au               14149 non-null  float64\n",
      " 18  primary_cleaner.output.tail_ag                      14148 non-null  float64\n",
      " 19  primary_cleaner.output.tail_pb                      14134 non-null  float64\n",
      " 20  primary_cleaner.output.tail_sol                     14103 non-null  float64\n",
      " 21  primary_cleaner.output.tail_au                      14149 non-null  float64\n",
      " 22  primary_cleaner.state.floatbank8_a_air              14145 non-null  float64\n",
      " 23  primary_cleaner.state.floatbank8_a_level            14148 non-null  float64\n",
      " 24  primary_cleaner.state.floatbank8_b_air              14145 non-null  float64\n",
      " 25  primary_cleaner.state.floatbank8_b_level            14148 non-null  float64\n",
      " 26  primary_cleaner.state.floatbank8_c_air              14147 non-null  float64\n",
      " 27  primary_cleaner.state.floatbank8_c_level            14148 non-null  float64\n",
      " 28  primary_cleaner.state.floatbank8_d_air              14146 non-null  float64\n",
      " 29  primary_cleaner.state.floatbank8_d_level            14148 non-null  float64\n",
      " 30  rougher.calculation.sulfate_to_au_concentrate       14148 non-null  float64\n",
      " 31  rougher.calculation.floatbank10_sulfate_to_au_feed  14148 non-null  float64\n",
      " 32  rougher.calculation.floatbank11_sulfate_to_au_feed  14148 non-null  float64\n",
      " 33  rougher.calculation.au_pb_ratio                     14149 non-null  float64\n",
      " 34  rougher.input.feed_ag                               14149 non-null  float64\n",
      " 35  rougher.input.feed_pb                               14049 non-null  float64\n",
      " 36  rougher.input.feed_rate                             14141 non-null  float64\n",
      " 37  rougher.input.feed_size                             14005 non-null  float64\n",
      " 38  rougher.input.feed_sol                              14071 non-null  float64\n",
      " 39  rougher.input.feed_au                               14149 non-null  float64\n",
      " 40  rougher.input.floatbank10_sulfate                   14120 non-null  float64\n",
      " 41  rougher.input.floatbank10_xanthate                  14141 non-null  float64\n",
      " 42  rougher.input.floatbank11_sulfate                   14113 non-null  float64\n",
      " 43  rougher.input.floatbank11_xanthate                  13721 non-null  float64\n",
      " 44  rougher.output.concentrate_ag                       14149 non-null  float64\n",
      " 45  rougher.output.concentrate_pb                       14149 non-null  float64\n",
      " 46  rougher.output.concentrate_sol                      14127 non-null  float64\n",
      " 47  rougher.output.concentrate_au                       14149 non-null  float64\n",
      " 48  rougher.output.recovery                             14149 non-null  float64\n",
      " 49  rougher.output.tail_ag                              14148 non-null  float64\n",
      " 50  rougher.output.tail_pb                              14149 non-null  float64\n",
      " 51  rougher.output.tail_sol                             14149 non-null  float64\n",
      " 52  rougher.output.tail_au                              14149 non-null  float64\n",
      " 53  rougher.state.floatbank10_a_air                     14148 non-null  float64\n",
      " 54  rougher.state.floatbank10_a_level                   14148 non-null  float64\n",
      " 55  rougher.state.floatbank10_b_air                     14148 non-null  float64\n",
      " 56  rougher.state.floatbank10_b_level                   14148 non-null  float64\n",
      " 57  rougher.state.floatbank10_c_air                     14148 non-null  float64\n",
      " 58  rougher.state.floatbank10_c_level                   14148 non-null  float64\n",
      " 59  rougher.state.floatbank10_d_air                     14149 non-null  float64\n",
      " 60  rougher.state.floatbank10_d_level                   14149 non-null  float64\n",
      " 61  rougher.state.floatbank10_e_air                     13713 non-null  float64\n",
      " 62  rougher.state.floatbank10_e_level                   14149 non-null  float64\n",
      " 63  rougher.state.floatbank10_f_air                     14149 non-null  float64\n",
      " 64  rougher.state.floatbank10_f_level                   14149 non-null  float64\n",
      " 65  secondary_cleaner.output.tail_ag                    14147 non-null  float64\n",
      " 66  secondary_cleaner.output.tail_pb                    14139 non-null  float64\n",
      " 67  secondary_cleaner.output.tail_sol                   12544 non-null  float64\n",
      " 68  secondary_cleaner.output.tail_au                    14149 non-null  float64\n",
      " 69  secondary_cleaner.state.floatbank2_a_air            13932 non-null  float64\n",
      " 70  secondary_cleaner.state.floatbank2_a_level          14148 non-null  float64\n",
      " 71  secondary_cleaner.state.floatbank2_b_air            14128 non-null  float64\n",
      " 72  secondary_cleaner.state.floatbank2_b_level          14148 non-null  float64\n",
      " 73  secondary_cleaner.state.floatbank3_a_air            14145 non-null  float64\n",
      " 74  secondary_cleaner.state.floatbank3_a_level          14148 non-null  float64\n",
      " 75  secondary_cleaner.state.floatbank3_b_air            14148 non-null  float64\n",
      " 76  secondary_cleaner.state.floatbank3_b_level          14148 non-null  float64\n",
      " 77  secondary_cleaner.state.floatbank4_a_air            14143 non-null  float64\n",
      " 78  secondary_cleaner.state.floatbank4_a_level          14148 non-null  float64\n",
      " 79  secondary_cleaner.state.floatbank4_b_air            14148 non-null  float64\n",
      " 80  secondary_cleaner.state.floatbank4_b_level          14148 non-null  float64\n",
      " 81  secondary_cleaner.state.floatbank5_a_air            14148 non-null  float64\n",
      " 82  secondary_cleaner.state.floatbank5_a_level          14148 non-null  float64\n",
      " 83  secondary_cleaner.state.floatbank5_b_air            14148 non-null  float64\n",
      " 84  secondary_cleaner.state.floatbank5_b_level          14148 non-null  float64\n",
      " 85  secondary_cleaner.state.floatbank6_a_air            14147 non-null  float64\n",
      " 86  secondary_cleaner.state.floatbank6_a_level          14148 non-null  float64\n",
      "dtypes: float64(86), object(1)\n",
      "memory usage: 9.4+ MB\n"
     ]
    }
   ],
   "source": [
    "df_train.info()"
   ]
  },
  {
   "cell_type": "code",
   "execution_count": 8,
   "metadata": {},
   "outputs": [
    {
     "data": {
      "text/html": [
       "<div>\n",
       "<style scoped>\n",
       "    .dataframe tbody tr th:only-of-type {\n",
       "        vertical-align: middle;\n",
       "    }\n",
       "\n",
       "    .dataframe tbody tr th {\n",
       "        vertical-align: top;\n",
       "    }\n",
       "\n",
       "    .dataframe thead th {\n",
       "        text-align: right;\n",
       "    }\n",
       "</style>\n",
       "<table border=\"1\" class=\"dataframe\">\n",
       "  <thead>\n",
       "    <tr style=\"text-align: right;\">\n",
       "      <th></th>\n",
       "      <th>date</th>\n",
       "      <th>final.output.concentrate_ag</th>\n",
       "      <th>final.output.concentrate_pb</th>\n",
       "      <th>final.output.concentrate_sol</th>\n",
       "      <th>final.output.concentrate_au</th>\n",
       "      <th>final.output.recovery</th>\n",
       "      <th>final.output.tail_ag</th>\n",
       "      <th>final.output.tail_pb</th>\n",
       "      <th>final.output.tail_sol</th>\n",
       "      <th>final.output.tail_au</th>\n",
       "      <th>...</th>\n",
       "      <th>secondary_cleaner.state.floatbank4_a_air</th>\n",
       "      <th>secondary_cleaner.state.floatbank4_a_level</th>\n",
       "      <th>secondary_cleaner.state.floatbank4_b_air</th>\n",
       "      <th>secondary_cleaner.state.floatbank4_b_level</th>\n",
       "      <th>secondary_cleaner.state.floatbank5_a_air</th>\n",
       "      <th>secondary_cleaner.state.floatbank5_a_level</th>\n",
       "      <th>secondary_cleaner.state.floatbank5_b_air</th>\n",
       "      <th>secondary_cleaner.state.floatbank5_b_level</th>\n",
       "      <th>secondary_cleaner.state.floatbank6_a_air</th>\n",
       "      <th>secondary_cleaner.state.floatbank6_a_level</th>\n",
       "    </tr>\n",
       "  </thead>\n",
       "  <tbody>\n",
       "    <tr>\n",
       "      <th>0</th>\n",
       "      <td>2016-01-15 00:00:00</td>\n",
       "      <td>6.055403</td>\n",
       "      <td>9.889648</td>\n",
       "      <td>5.507324</td>\n",
       "      <td>42.192020</td>\n",
       "      <td>70.541216</td>\n",
       "      <td>10.411962</td>\n",
       "      <td>0.895447</td>\n",
       "      <td>16.904297</td>\n",
       "      <td>2.143149</td>\n",
       "      <td>...</td>\n",
       "      <td>14.016835</td>\n",
       "      <td>-502.488007</td>\n",
       "      <td>12.099931</td>\n",
       "      <td>-504.715942</td>\n",
       "      <td>9.925633</td>\n",
       "      <td>-498.310211</td>\n",
       "      <td>8.079666</td>\n",
       "      <td>-500.470978</td>\n",
       "      <td>14.151341</td>\n",
       "      <td>-605.841980</td>\n",
       "    </tr>\n",
       "    <tr>\n",
       "      <th>1</th>\n",
       "      <td>2016-01-15 01:00:00</td>\n",
       "      <td>6.029369</td>\n",
       "      <td>9.968944</td>\n",
       "      <td>5.257781</td>\n",
       "      <td>42.701629</td>\n",
       "      <td>69.266198</td>\n",
       "      <td>10.462676</td>\n",
       "      <td>0.927452</td>\n",
       "      <td>16.634514</td>\n",
       "      <td>2.224930</td>\n",
       "      <td>...</td>\n",
       "      <td>13.992281</td>\n",
       "      <td>-505.503262</td>\n",
       "      <td>11.950531</td>\n",
       "      <td>-501.331529</td>\n",
       "      <td>10.039245</td>\n",
       "      <td>-500.169983</td>\n",
       "      <td>7.984757</td>\n",
       "      <td>-500.582168</td>\n",
       "      <td>13.998353</td>\n",
       "      <td>-599.787184</td>\n",
       "    </tr>\n",
       "    <tr>\n",
       "      <th>2</th>\n",
       "      <td>2016-01-15 02:00:00</td>\n",
       "      <td>6.055926</td>\n",
       "      <td>10.213995</td>\n",
       "      <td>5.383759</td>\n",
       "      <td>42.657501</td>\n",
       "      <td>68.116445</td>\n",
       "      <td>10.507046</td>\n",
       "      <td>0.953716</td>\n",
       "      <td>16.208849</td>\n",
       "      <td>2.257889</td>\n",
       "      <td>...</td>\n",
       "      <td>14.015015</td>\n",
       "      <td>-502.520901</td>\n",
       "      <td>11.912783</td>\n",
       "      <td>-501.133383</td>\n",
       "      <td>10.070913</td>\n",
       "      <td>-500.129135</td>\n",
       "      <td>8.013877</td>\n",
       "      <td>-500.517572</td>\n",
       "      <td>14.028663</td>\n",
       "      <td>-601.427363</td>\n",
       "    </tr>\n",
       "    <tr>\n",
       "      <th>3</th>\n",
       "      <td>2016-01-15 03:00:00</td>\n",
       "      <td>6.047977</td>\n",
       "      <td>9.977019</td>\n",
       "      <td>4.858634</td>\n",
       "      <td>42.689819</td>\n",
       "      <td>68.347543</td>\n",
       "      <td>10.422762</td>\n",
       "      <td>0.883763</td>\n",
       "      <td>16.532835</td>\n",
       "      <td>2.146849</td>\n",
       "      <td>...</td>\n",
       "      <td>14.036510</td>\n",
       "      <td>-500.857308</td>\n",
       "      <td>11.999550</td>\n",
       "      <td>-501.193686</td>\n",
       "      <td>9.970366</td>\n",
       "      <td>-499.201640</td>\n",
       "      <td>7.977324</td>\n",
       "      <td>-500.255908</td>\n",
       "      <td>14.005551</td>\n",
       "      <td>-599.996129</td>\n",
       "    </tr>\n",
       "    <tr>\n",
       "      <th>4</th>\n",
       "      <td>2016-01-15 04:00:00</td>\n",
       "      <td>6.148599</td>\n",
       "      <td>10.142511</td>\n",
       "      <td>4.939416</td>\n",
       "      <td>42.774141</td>\n",
       "      <td>66.927016</td>\n",
       "      <td>10.360302</td>\n",
       "      <td>0.792826</td>\n",
       "      <td>16.525686</td>\n",
       "      <td>2.055292</td>\n",
       "      <td>...</td>\n",
       "      <td>14.027298</td>\n",
       "      <td>-499.838632</td>\n",
       "      <td>11.953070</td>\n",
       "      <td>-501.053894</td>\n",
       "      <td>9.925709</td>\n",
       "      <td>-501.686727</td>\n",
       "      <td>7.894242</td>\n",
       "      <td>-500.356035</td>\n",
       "      <td>13.996647</td>\n",
       "      <td>-601.496691</td>\n",
       "    </tr>\n",
       "  </tbody>\n",
       "</table>\n",
       "<p>5 rows × 87 columns</p>\n",
       "</div>"
      ],
      "text/plain": [
       "                  date  final.output.concentrate_ag  \\\n",
       "0  2016-01-15 00:00:00                     6.055403   \n",
       "1  2016-01-15 01:00:00                     6.029369   \n",
       "2  2016-01-15 02:00:00                     6.055926   \n",
       "3  2016-01-15 03:00:00                     6.047977   \n",
       "4  2016-01-15 04:00:00                     6.148599   \n",
       "\n",
       "   final.output.concentrate_pb  final.output.concentrate_sol  \\\n",
       "0                     9.889648                      5.507324   \n",
       "1                     9.968944                      5.257781   \n",
       "2                    10.213995                      5.383759   \n",
       "3                     9.977019                      4.858634   \n",
       "4                    10.142511                      4.939416   \n",
       "\n",
       "   final.output.concentrate_au  final.output.recovery  final.output.tail_ag  \\\n",
       "0                    42.192020              70.541216             10.411962   \n",
       "1                    42.701629              69.266198             10.462676   \n",
       "2                    42.657501              68.116445             10.507046   \n",
       "3                    42.689819              68.347543             10.422762   \n",
       "4                    42.774141              66.927016             10.360302   \n",
       "\n",
       "   final.output.tail_pb  final.output.tail_sol  final.output.tail_au  ...  \\\n",
       "0              0.895447              16.904297              2.143149  ...   \n",
       "1              0.927452              16.634514              2.224930  ...   \n",
       "2              0.953716              16.208849              2.257889  ...   \n",
       "3              0.883763              16.532835              2.146849  ...   \n",
       "4              0.792826              16.525686              2.055292  ...   \n",
       "\n",
       "   secondary_cleaner.state.floatbank4_a_air  \\\n",
       "0                                 14.016835   \n",
       "1                                 13.992281   \n",
       "2                                 14.015015   \n",
       "3                                 14.036510   \n",
       "4                                 14.027298   \n",
       "\n",
       "   secondary_cleaner.state.floatbank4_a_level  \\\n",
       "0                                 -502.488007   \n",
       "1                                 -505.503262   \n",
       "2                                 -502.520901   \n",
       "3                                 -500.857308   \n",
       "4                                 -499.838632   \n",
       "\n",
       "   secondary_cleaner.state.floatbank4_b_air  \\\n",
       "0                                 12.099931   \n",
       "1                                 11.950531   \n",
       "2                                 11.912783   \n",
       "3                                 11.999550   \n",
       "4                                 11.953070   \n",
       "\n",
       "   secondary_cleaner.state.floatbank4_b_level  \\\n",
       "0                                 -504.715942   \n",
       "1                                 -501.331529   \n",
       "2                                 -501.133383   \n",
       "3                                 -501.193686   \n",
       "4                                 -501.053894   \n",
       "\n",
       "   secondary_cleaner.state.floatbank5_a_air  \\\n",
       "0                                  9.925633   \n",
       "1                                 10.039245   \n",
       "2                                 10.070913   \n",
       "3                                  9.970366   \n",
       "4                                  9.925709   \n",
       "\n",
       "   secondary_cleaner.state.floatbank5_a_level  \\\n",
       "0                                 -498.310211   \n",
       "1                                 -500.169983   \n",
       "2                                 -500.129135   \n",
       "3                                 -499.201640   \n",
       "4                                 -501.686727   \n",
       "\n",
       "   secondary_cleaner.state.floatbank5_b_air  \\\n",
       "0                                  8.079666   \n",
       "1                                  7.984757   \n",
       "2                                  8.013877   \n",
       "3                                  7.977324   \n",
       "4                                  7.894242   \n",
       "\n",
       "   secondary_cleaner.state.floatbank5_b_level  \\\n",
       "0                                 -500.470978   \n",
       "1                                 -500.582168   \n",
       "2                                 -500.517572   \n",
       "3                                 -500.255908   \n",
       "4                                 -500.356035   \n",
       "\n",
       "   secondary_cleaner.state.floatbank6_a_air  \\\n",
       "0                                 14.151341   \n",
       "1                                 13.998353   \n",
       "2                                 14.028663   \n",
       "3                                 14.005551   \n",
       "4                                 13.996647   \n",
       "\n",
       "   secondary_cleaner.state.floatbank6_a_level  \n",
       "0                                 -605.841980  \n",
       "1                                 -599.787184  \n",
       "2                                 -601.427363  \n",
       "3                                 -599.996129  \n",
       "4                                 -601.496691  \n",
       "\n",
       "[5 rows x 87 columns]"
      ]
     },
     "execution_count": 8,
     "metadata": {},
     "output_type": "execute_result"
    }
   ],
   "source": [
    "df_train.head()"
   ]
  },
  {
   "cell_type": "code",
   "execution_count": 9,
   "metadata": {},
   "outputs": [
    {
     "data": {
      "text/plain": [
       "secondary_cleaner.output.tail_sol           0.113436\n",
       "rougher.state.floatbank10_e_air             0.030815\n",
       "rougher.input.floatbank11_xanthate          0.030249\n",
       "primary_cleaner.output.concentrate_sol      0.020213\n",
       "secondary_cleaner.state.floatbank2_a_air    0.015337\n",
       "final.output.concentrate_sol                0.014913\n",
       "rougher.input.feed_size                     0.010177\n",
       "primary_cleaner.input.xanthate              0.007068\n",
       "rougher.input.feed_pb                       0.007068\n",
       "final.output.tail_pb                        0.007068\n",
       "primary_cleaner.output.concentrate_pb       0.006078\n",
       "rougher.input.feed_sol                      0.005513\n",
       "primary_cleaner.output.tail_sol             0.003251\n",
       "rougher.input.floatbank11_sulfate           0.002544\n",
       "primary_cleaner.input.depressant            0.002262\n",
       "dtype: float64"
      ]
     },
     "execution_count": 9,
     "metadata": {},
     "output_type": "execute_result"
    }
   ],
   "source": [
    "df_train.isna().mean().sort_values(ascending=False).head(15)"
   ]
  },
  {
   "cell_type": "code",
   "execution_count": 10,
   "metadata": {},
   "outputs": [],
   "source": [
    "na_to_fill = list(df_train.isna().mean().sort_values(ascending=False).head(7).index)"
   ]
  },
  {
   "cell_type": "markdown",
   "metadata": {},
   "source": [
    "**Мы видим, что в обучающей базе, как и в полной, 87 признаков. Наблюдений меньше: 14149.** \n",
    "\n",
    "Больше всего пропусков - более 11% - у признака `secondary_cleaner.output.tail_sol`. В признаках `rougher.state.floatbank10_e_air` и `rougher.input.floatbank11_xanthate` около 3% пропущенных значений. \n",
    "В `primary_cleaner.output.concentrate_sol`, `secondary_cleaner.state.floatbank2_a_air`, `final.output.concentrate_sol` и `rougher.input.feed_size` от 1 до 2% пропусков. \n",
    "\n",
    "С этими признаками мы поработаем: удаление пропусков здесь принесет к значительным потерям данных, поэтому на дальнейших этапах заполним пропуски через **ffill**, так как нам известно, что данные индексируются датой и временем получения информации и соседние по времени параметры похожи. \n",
    "\n",
    "Пропуски в остальных признаках мы удалим. "
   ]
  },
  {
   "cell_type": "markdown",
   "metadata": {},
   "source": [
    "#### Тестовый датасет `df_test`"
   ]
  },
  {
   "cell_type": "code",
   "execution_count": 11,
   "metadata": {},
   "outputs": [
    {
     "name": "stdout",
     "output_type": "stream",
     "text": [
      "<class 'pandas.core.frame.DataFrame'>\n",
      "RangeIndex: 5290 entries, 0 to 5289\n",
      "Data columns (total 53 columns):\n",
      " #   Column                                      Non-Null Count  Dtype  \n",
      "---  ------                                      --------------  -----  \n",
      " 0   date                                        5290 non-null   object \n",
      " 1   primary_cleaner.input.sulfate               5286 non-null   float64\n",
      " 2   primary_cleaner.input.depressant            5285 non-null   float64\n",
      " 3   primary_cleaner.input.feed_size             5290 non-null   float64\n",
      " 4   primary_cleaner.input.xanthate              5286 non-null   float64\n",
      " 5   primary_cleaner.state.floatbank8_a_air      5290 non-null   float64\n",
      " 6   primary_cleaner.state.floatbank8_a_level    5290 non-null   float64\n",
      " 7   primary_cleaner.state.floatbank8_b_air      5290 non-null   float64\n",
      " 8   primary_cleaner.state.floatbank8_b_level    5290 non-null   float64\n",
      " 9   primary_cleaner.state.floatbank8_c_air      5290 non-null   float64\n",
      " 10  primary_cleaner.state.floatbank8_c_level    5290 non-null   float64\n",
      " 11  primary_cleaner.state.floatbank8_d_air      5290 non-null   float64\n",
      " 12  primary_cleaner.state.floatbank8_d_level    5290 non-null   float64\n",
      " 13  rougher.input.feed_ag                       5290 non-null   float64\n",
      " 14  rougher.input.feed_pb                       5290 non-null   float64\n",
      " 15  rougher.input.feed_rate                     5287 non-null   float64\n",
      " 16  rougher.input.feed_size                     5289 non-null   float64\n",
      " 17  rougher.input.feed_sol                      5269 non-null   float64\n",
      " 18  rougher.input.feed_au                       5290 non-null   float64\n",
      " 19  rougher.input.floatbank10_sulfate           5285 non-null   float64\n",
      " 20  rougher.input.floatbank10_xanthate          5290 non-null   float64\n",
      " 21  rougher.input.floatbank11_sulfate           5282 non-null   float64\n",
      " 22  rougher.input.floatbank11_xanthate          5265 non-null   float64\n",
      " 23  rougher.state.floatbank10_a_air             5290 non-null   float64\n",
      " 24  rougher.state.floatbank10_a_level           5290 non-null   float64\n",
      " 25  rougher.state.floatbank10_b_air             5290 non-null   float64\n",
      " 26  rougher.state.floatbank10_b_level           5290 non-null   float64\n",
      " 27  rougher.state.floatbank10_c_air             5290 non-null   float64\n",
      " 28  rougher.state.floatbank10_c_level           5290 non-null   float64\n",
      " 29  rougher.state.floatbank10_d_air             5290 non-null   float64\n",
      " 30  rougher.state.floatbank10_d_level           5290 non-null   float64\n",
      " 31  rougher.state.floatbank10_e_air             5290 non-null   float64\n",
      " 32  rougher.state.floatbank10_e_level           5290 non-null   float64\n",
      " 33  rougher.state.floatbank10_f_air             5290 non-null   float64\n",
      " 34  rougher.state.floatbank10_f_level           5290 non-null   float64\n",
      " 35  secondary_cleaner.state.floatbank2_a_air    5287 non-null   float64\n",
      " 36  secondary_cleaner.state.floatbank2_a_level  5290 non-null   float64\n",
      " 37  secondary_cleaner.state.floatbank2_b_air    5288 non-null   float64\n",
      " 38  secondary_cleaner.state.floatbank2_b_level  5290 non-null   float64\n",
      " 39  secondary_cleaner.state.floatbank3_a_air    5281 non-null   float64\n",
      " 40  secondary_cleaner.state.floatbank3_a_level  5290 non-null   float64\n",
      " 41  secondary_cleaner.state.floatbank3_b_air    5290 non-null   float64\n",
      " 42  secondary_cleaner.state.floatbank3_b_level  5290 non-null   float64\n",
      " 43  secondary_cleaner.state.floatbank4_a_air    5290 non-null   float64\n",
      " 44  secondary_cleaner.state.floatbank4_a_level  5290 non-null   float64\n",
      " 45  secondary_cleaner.state.floatbank4_b_air    5290 non-null   float64\n",
      " 46  secondary_cleaner.state.floatbank4_b_level  5290 non-null   float64\n",
      " 47  secondary_cleaner.state.floatbank5_a_air    5290 non-null   float64\n",
      " 48  secondary_cleaner.state.floatbank5_a_level  5290 non-null   float64\n",
      " 49  secondary_cleaner.state.floatbank5_b_air    5290 non-null   float64\n",
      " 50  secondary_cleaner.state.floatbank5_b_level  5290 non-null   float64\n",
      " 51  secondary_cleaner.state.floatbank6_a_air    5290 non-null   float64\n",
      " 52  secondary_cleaner.state.floatbank6_a_level  5290 non-null   float64\n",
      "dtypes: float64(52), object(1)\n",
      "memory usage: 2.1+ MB\n"
     ]
    }
   ],
   "source": [
    "df_test.info()"
   ]
  },
  {
   "cell_type": "code",
   "execution_count": 12,
   "metadata": {
    "scrolled": true
   },
   "outputs": [
    {
     "data": {
      "text/html": [
       "<div>\n",
       "<style scoped>\n",
       "    .dataframe tbody tr th:only-of-type {\n",
       "        vertical-align: middle;\n",
       "    }\n",
       "\n",
       "    .dataframe tbody tr th {\n",
       "        vertical-align: top;\n",
       "    }\n",
       "\n",
       "    .dataframe thead th {\n",
       "        text-align: right;\n",
       "    }\n",
       "</style>\n",
       "<table border=\"1\" class=\"dataframe\">\n",
       "  <thead>\n",
       "    <tr style=\"text-align: right;\">\n",
       "      <th></th>\n",
       "      <th>date</th>\n",
       "      <th>primary_cleaner.input.sulfate</th>\n",
       "      <th>primary_cleaner.input.depressant</th>\n",
       "      <th>primary_cleaner.input.feed_size</th>\n",
       "      <th>primary_cleaner.input.xanthate</th>\n",
       "      <th>primary_cleaner.state.floatbank8_a_air</th>\n",
       "      <th>primary_cleaner.state.floatbank8_a_level</th>\n",
       "      <th>primary_cleaner.state.floatbank8_b_air</th>\n",
       "      <th>primary_cleaner.state.floatbank8_b_level</th>\n",
       "      <th>primary_cleaner.state.floatbank8_c_air</th>\n",
       "      <th>...</th>\n",
       "      <th>secondary_cleaner.state.floatbank4_a_air</th>\n",
       "      <th>secondary_cleaner.state.floatbank4_a_level</th>\n",
       "      <th>secondary_cleaner.state.floatbank4_b_air</th>\n",
       "      <th>secondary_cleaner.state.floatbank4_b_level</th>\n",
       "      <th>secondary_cleaner.state.floatbank5_a_air</th>\n",
       "      <th>secondary_cleaner.state.floatbank5_a_level</th>\n",
       "      <th>secondary_cleaner.state.floatbank5_b_air</th>\n",
       "      <th>secondary_cleaner.state.floatbank5_b_level</th>\n",
       "      <th>secondary_cleaner.state.floatbank6_a_air</th>\n",
       "      <th>secondary_cleaner.state.floatbank6_a_level</th>\n",
       "    </tr>\n",
       "  </thead>\n",
       "  <tbody>\n",
       "    <tr>\n",
       "      <th>0</th>\n",
       "      <td>2016-09-01 00:59:59</td>\n",
       "      <td>210.800909</td>\n",
       "      <td>14.993118</td>\n",
       "      <td>8.080000</td>\n",
       "      <td>1.005021</td>\n",
       "      <td>1398.981301</td>\n",
       "      <td>-500.225577</td>\n",
       "      <td>1399.144926</td>\n",
       "      <td>-499.919735</td>\n",
       "      <td>1400.102998</td>\n",
       "      <td>...</td>\n",
       "      <td>12.023554</td>\n",
       "      <td>-497.795834</td>\n",
       "      <td>8.016656</td>\n",
       "      <td>-501.289139</td>\n",
       "      <td>7.946562</td>\n",
       "      <td>-432.317850</td>\n",
       "      <td>4.872511</td>\n",
       "      <td>-500.037437</td>\n",
       "      <td>26.705889</td>\n",
       "      <td>-499.709414</td>\n",
       "    </tr>\n",
       "    <tr>\n",
       "      <th>1</th>\n",
       "      <td>2016-09-01 01:59:59</td>\n",
       "      <td>215.392455</td>\n",
       "      <td>14.987471</td>\n",
       "      <td>8.080000</td>\n",
       "      <td>0.990469</td>\n",
       "      <td>1398.777912</td>\n",
       "      <td>-500.057435</td>\n",
       "      <td>1398.055362</td>\n",
       "      <td>-499.778182</td>\n",
       "      <td>1396.151033</td>\n",
       "      <td>...</td>\n",
       "      <td>12.058140</td>\n",
       "      <td>-498.695773</td>\n",
       "      <td>8.130979</td>\n",
       "      <td>-499.634209</td>\n",
       "      <td>7.958270</td>\n",
       "      <td>-525.839648</td>\n",
       "      <td>4.878850</td>\n",
       "      <td>-500.162375</td>\n",
       "      <td>25.019940</td>\n",
       "      <td>-499.819438</td>\n",
       "    </tr>\n",
       "    <tr>\n",
       "      <th>2</th>\n",
       "      <td>2016-09-01 02:59:59</td>\n",
       "      <td>215.259946</td>\n",
       "      <td>12.884934</td>\n",
       "      <td>7.786667</td>\n",
       "      <td>0.996043</td>\n",
       "      <td>1398.493666</td>\n",
       "      <td>-500.868360</td>\n",
       "      <td>1398.860436</td>\n",
       "      <td>-499.764529</td>\n",
       "      <td>1398.075709</td>\n",
       "      <td>...</td>\n",
       "      <td>11.962366</td>\n",
       "      <td>-498.767484</td>\n",
       "      <td>8.096893</td>\n",
       "      <td>-500.827423</td>\n",
       "      <td>8.071056</td>\n",
       "      <td>-500.801673</td>\n",
       "      <td>4.905125</td>\n",
       "      <td>-499.828510</td>\n",
       "      <td>24.994862</td>\n",
       "      <td>-500.622559</td>\n",
       "    </tr>\n",
       "    <tr>\n",
       "      <th>3</th>\n",
       "      <td>2016-09-01 03:59:59</td>\n",
       "      <td>215.336236</td>\n",
       "      <td>12.006805</td>\n",
       "      <td>7.640000</td>\n",
       "      <td>0.863514</td>\n",
       "      <td>1399.618111</td>\n",
       "      <td>-498.863574</td>\n",
       "      <td>1397.440120</td>\n",
       "      <td>-499.211024</td>\n",
       "      <td>1400.129303</td>\n",
       "      <td>...</td>\n",
       "      <td>12.033091</td>\n",
       "      <td>-498.350935</td>\n",
       "      <td>8.074946</td>\n",
       "      <td>-499.474407</td>\n",
       "      <td>7.897085</td>\n",
       "      <td>-500.868509</td>\n",
       "      <td>4.931400</td>\n",
       "      <td>-499.963623</td>\n",
       "      <td>24.948919</td>\n",
       "      <td>-498.709987</td>\n",
       "    </tr>\n",
       "    <tr>\n",
       "      <th>4</th>\n",
       "      <td>2016-09-01 04:59:59</td>\n",
       "      <td>199.099327</td>\n",
       "      <td>10.682530</td>\n",
       "      <td>7.530000</td>\n",
       "      <td>0.805575</td>\n",
       "      <td>1401.268123</td>\n",
       "      <td>-500.808305</td>\n",
       "      <td>1398.128818</td>\n",
       "      <td>-499.504543</td>\n",
       "      <td>1402.172226</td>\n",
       "      <td>...</td>\n",
       "      <td>12.025367</td>\n",
       "      <td>-500.786497</td>\n",
       "      <td>8.054678</td>\n",
       "      <td>-500.397500</td>\n",
       "      <td>8.107890</td>\n",
       "      <td>-509.526725</td>\n",
       "      <td>4.957674</td>\n",
       "      <td>-500.360026</td>\n",
       "      <td>25.003331</td>\n",
       "      <td>-500.856333</td>\n",
       "    </tr>\n",
       "  </tbody>\n",
       "</table>\n",
       "<p>5 rows × 53 columns</p>\n",
       "</div>"
      ],
      "text/plain": [
       "                  date  primary_cleaner.input.sulfate  \\\n",
       "0  2016-09-01 00:59:59                     210.800909   \n",
       "1  2016-09-01 01:59:59                     215.392455   \n",
       "2  2016-09-01 02:59:59                     215.259946   \n",
       "3  2016-09-01 03:59:59                     215.336236   \n",
       "4  2016-09-01 04:59:59                     199.099327   \n",
       "\n",
       "   primary_cleaner.input.depressant  primary_cleaner.input.feed_size  \\\n",
       "0                         14.993118                         8.080000   \n",
       "1                         14.987471                         8.080000   \n",
       "2                         12.884934                         7.786667   \n",
       "3                         12.006805                         7.640000   \n",
       "4                         10.682530                         7.530000   \n",
       "\n",
       "   primary_cleaner.input.xanthate  primary_cleaner.state.floatbank8_a_air  \\\n",
       "0                        1.005021                             1398.981301   \n",
       "1                        0.990469                             1398.777912   \n",
       "2                        0.996043                             1398.493666   \n",
       "3                        0.863514                             1399.618111   \n",
       "4                        0.805575                             1401.268123   \n",
       "\n",
       "   primary_cleaner.state.floatbank8_a_level  \\\n",
       "0                               -500.225577   \n",
       "1                               -500.057435   \n",
       "2                               -500.868360   \n",
       "3                               -498.863574   \n",
       "4                               -500.808305   \n",
       "\n",
       "   primary_cleaner.state.floatbank8_b_air  \\\n",
       "0                             1399.144926   \n",
       "1                             1398.055362   \n",
       "2                             1398.860436   \n",
       "3                             1397.440120   \n",
       "4                             1398.128818   \n",
       "\n",
       "   primary_cleaner.state.floatbank8_b_level  \\\n",
       "0                               -499.919735   \n",
       "1                               -499.778182   \n",
       "2                               -499.764529   \n",
       "3                               -499.211024   \n",
       "4                               -499.504543   \n",
       "\n",
       "   primary_cleaner.state.floatbank8_c_air  ...  \\\n",
       "0                             1400.102998  ...   \n",
       "1                             1396.151033  ...   \n",
       "2                             1398.075709  ...   \n",
       "3                             1400.129303  ...   \n",
       "4                             1402.172226  ...   \n",
       "\n",
       "   secondary_cleaner.state.floatbank4_a_air  \\\n",
       "0                                 12.023554   \n",
       "1                                 12.058140   \n",
       "2                                 11.962366   \n",
       "3                                 12.033091   \n",
       "4                                 12.025367   \n",
       "\n",
       "   secondary_cleaner.state.floatbank4_a_level  \\\n",
       "0                                 -497.795834   \n",
       "1                                 -498.695773   \n",
       "2                                 -498.767484   \n",
       "3                                 -498.350935   \n",
       "4                                 -500.786497   \n",
       "\n",
       "   secondary_cleaner.state.floatbank4_b_air  \\\n",
       "0                                  8.016656   \n",
       "1                                  8.130979   \n",
       "2                                  8.096893   \n",
       "3                                  8.074946   \n",
       "4                                  8.054678   \n",
       "\n",
       "   secondary_cleaner.state.floatbank4_b_level  \\\n",
       "0                                 -501.289139   \n",
       "1                                 -499.634209   \n",
       "2                                 -500.827423   \n",
       "3                                 -499.474407   \n",
       "4                                 -500.397500   \n",
       "\n",
       "   secondary_cleaner.state.floatbank5_a_air  \\\n",
       "0                                  7.946562   \n",
       "1                                  7.958270   \n",
       "2                                  8.071056   \n",
       "3                                  7.897085   \n",
       "4                                  8.107890   \n",
       "\n",
       "   secondary_cleaner.state.floatbank5_a_level  \\\n",
       "0                                 -432.317850   \n",
       "1                                 -525.839648   \n",
       "2                                 -500.801673   \n",
       "3                                 -500.868509   \n",
       "4                                 -509.526725   \n",
       "\n",
       "   secondary_cleaner.state.floatbank5_b_air  \\\n",
       "0                                  4.872511   \n",
       "1                                  4.878850   \n",
       "2                                  4.905125   \n",
       "3                                  4.931400   \n",
       "4                                  4.957674   \n",
       "\n",
       "   secondary_cleaner.state.floatbank5_b_level  \\\n",
       "0                                 -500.037437   \n",
       "1                                 -500.162375   \n",
       "2                                 -499.828510   \n",
       "3                                 -499.963623   \n",
       "4                                 -500.360026   \n",
       "\n",
       "   secondary_cleaner.state.floatbank6_a_air  \\\n",
       "0                                 26.705889   \n",
       "1                                 25.019940   \n",
       "2                                 24.994862   \n",
       "3                                 24.948919   \n",
       "4                                 25.003331   \n",
       "\n",
       "   secondary_cleaner.state.floatbank6_a_level  \n",
       "0                                 -499.709414  \n",
       "1                                 -499.819438  \n",
       "2                                 -500.622559  \n",
       "3                                 -498.709987  \n",
       "4                                 -500.856333  \n",
       "\n",
       "[5 rows x 53 columns]"
      ]
     },
     "execution_count": 12,
     "metadata": {},
     "output_type": "execute_result"
    }
   ],
   "source": [
    "df_test.head()"
   ]
  },
  {
   "cell_type": "code",
   "execution_count": 13,
   "metadata": {},
   "outputs": [
    {
     "data": {
      "text/plain": [
       "rougher.input.floatbank11_xanthate            0.004726\n",
       "rougher.input.feed_sol                        0.003970\n",
       "secondary_cleaner.state.floatbank3_a_air      0.001701\n",
       "rougher.input.floatbank11_sulfate             0.001512\n",
       "primary_cleaner.input.depressant              0.000945\n",
       "rougher.input.floatbank10_sulfate             0.000945\n",
       "primary_cleaner.input.xanthate                0.000756\n",
       "primary_cleaner.input.sulfate                 0.000756\n",
       "rougher.input.feed_rate                       0.000567\n",
       "secondary_cleaner.state.floatbank2_a_air      0.000567\n",
       "secondary_cleaner.state.floatbank2_b_air      0.000378\n",
       "rougher.input.feed_size                       0.000189\n",
       "secondary_cleaner.state.floatbank2_b_level    0.000000\n",
       "rougher.state.floatbank10_f_level             0.000000\n",
       "rougher.state.floatbank10_f_air               0.000000\n",
       "dtype: float64"
      ]
     },
     "execution_count": 13,
     "metadata": {},
     "output_type": "execute_result"
    }
   ],
   "source": [
    "df_test.isna().mean().sort_values(ascending=False).head(15)"
   ]
  },
  {
   "cell_type": "code",
   "execution_count": 14,
   "metadata": {},
   "outputs": [
    {
     "data": {
      "text/plain": [
       "90"
      ]
     },
     "execution_count": 14,
     "metadata": {},
     "output_type": "execute_result"
    }
   ],
   "source": [
    "df_test.isna().sum().sum()"
   ]
  },
  {
   "cell_type": "markdown",
   "metadata": {},
   "source": [
    "**В тестовой выборке 52 признака и 5290 наблюдений.**\n",
    "\n",
    "В данных минимальное количество пропусков: всего 90 на весь датасет! Потерять эти данные совсем не страшно - эти строки можно будет удалить.  "
   ]
  },
  {
   "cell_type": "markdown",
   "metadata": {},
   "source": [
    "### Проверка эффективности обогащения"
   ]
  },
  {
   "cell_type": "markdown",
   "metadata": {},
   "source": [
    "Прежде чем приступать к предобработке данных, проверим, что эффективность обогащения рассчитана правильно. \n",
    "\n",
    "Проведем вычисления по формуле **Recovery** на обучающей выборке для признака `rougher.output.recovery`. Найдем **MAE** между нашими расчётами и значением признака. \n",
    "\n",
    "$$\n",
    "Recovery =  \\frac{C*(F-T)}{F*(C-T)}\\  * 100%\n",
    "$$\n",
    "\n",
    "где:\n",
    "\n",
    "* C — доля золота в концентрате после флотации/очистки;\n",
    "* F — доля золота в сырье/концентрате до флотации/очистки;\n",
    "* T — доля золота в отвальных хвостах после флотации/очистки.\n"
   ]
  },
  {
   "cell_type": "code",
   "execution_count": 15,
   "metadata": {},
   "outputs": [],
   "source": [
    "def recovery(c, f, t):\n",
    "    numerator = c * (f - t)\n",
    "    denominator = f * (c - t)\n",
    "    recovery = numerator / denominator * 100\n",
    "    \n",
    "    return recovery"
   ]
  },
  {
   "cell_type": "code",
   "execution_count": 16,
   "metadata": {},
   "outputs": [],
   "source": [
    "rec = recovery(df_train['rougher.output.concentrate_au'], \n",
    "               df_train['rougher.input.feed_au'], \n",
    "               df_train['rougher.output.tail_au'])"
   ]
  },
  {
   "cell_type": "code",
   "execution_count": 17,
   "metadata": {},
   "outputs": [
    {
     "data": {
      "text/plain": [
       "9.73512347450521e-15"
      ]
     },
     "execution_count": 17,
     "metadata": {},
     "output_type": "execute_result"
    }
   ],
   "source": [
    "mae = mean_absolute_error(df_train[['rougher.output.recovery']], rec)\n",
    "mae"
   ]
  },
  {
   "cell_type": "markdown",
   "metadata": {},
   "source": [
    "Средняя абсолютная ошибка очень мала, а значит **мы можем считать, что формула Recovery для рассчета эффективности обогащения корректна.**"
   ]
  },
  {
   "cell_type": "markdown",
   "metadata": {},
   "source": [
    "### Признаки, недоступные в тестовой выборке"
   ]
  },
  {
   "cell_type": "markdown",
   "metadata": {},
   "source": [
    "Изучим, какие из признаков, содержащихся в полной и обучающей выборках, не попали в тестовую. "
   ]
  },
  {
   "cell_type": "code",
   "execution_count": 18,
   "metadata": {},
   "outputs": [
    {
     "data": {
      "text/plain": [
       "{'final.output.concentrate_ag',\n",
       " 'final.output.concentrate_au',\n",
       " 'final.output.concentrate_pb',\n",
       " 'final.output.concentrate_sol',\n",
       " 'final.output.recovery',\n",
       " 'final.output.tail_ag',\n",
       " 'final.output.tail_au',\n",
       " 'final.output.tail_pb',\n",
       " 'final.output.tail_sol',\n",
       " 'primary_cleaner.output.concentrate_ag',\n",
       " 'primary_cleaner.output.concentrate_au',\n",
       " 'primary_cleaner.output.concentrate_pb',\n",
       " 'primary_cleaner.output.concentrate_sol',\n",
       " 'primary_cleaner.output.tail_ag',\n",
       " 'primary_cleaner.output.tail_au',\n",
       " 'primary_cleaner.output.tail_pb',\n",
       " 'primary_cleaner.output.tail_sol',\n",
       " 'rougher.calculation.au_pb_ratio',\n",
       " 'rougher.calculation.floatbank10_sulfate_to_au_feed',\n",
       " 'rougher.calculation.floatbank11_sulfate_to_au_feed',\n",
       " 'rougher.calculation.sulfate_to_au_concentrate',\n",
       " 'rougher.output.concentrate_ag',\n",
       " 'rougher.output.concentrate_au',\n",
       " 'rougher.output.concentrate_pb',\n",
       " 'rougher.output.concentrate_sol',\n",
       " 'rougher.output.recovery',\n",
       " 'rougher.output.tail_ag',\n",
       " 'rougher.output.tail_au',\n",
       " 'rougher.output.tail_pb',\n",
       " 'rougher.output.tail_sol',\n",
       " 'secondary_cleaner.output.tail_ag',\n",
       " 'secondary_cleaner.output.tail_au',\n",
       " 'secondary_cleaner.output.tail_pb',\n",
       " 'secondary_cleaner.output.tail_sol'}"
      ]
     },
     "execution_count": 18,
     "metadata": {},
     "output_type": "execute_result"
    }
   ],
   "source": [
    "missing_columns = set(df_full.columns) - set(df_test.columns) \n",
    "missing_columns"
   ]
  },
  {
   "cell_type": "markdown",
   "metadata": {},
   "source": [
    "Логично: в тестовом датасете отсутствуют признаки категории **\"output\"**, то есть те, которые отвечают за параметры продукта, получаемого на том или ином этапе нашего процесса. Помимо этого, в тестовой выборке не включены признаки рассчета флотации **\"rougher.calculation\"**. "
   ]
  },
  {
   "cell_type": "markdown",
   "metadata": {},
   "source": [
    "Обозначим списком признаки и целевые признаки для дальнейшего удобства."
   ]
  },
  {
   "cell_type": "code",
   "execution_count": 19,
   "metadata": {},
   "outputs": [],
   "source": [
    "X_columns = df_test.columns[1:]\n",
    "y_columns = ['rougher.output.recovery', 'final.output.recovery']"
   ]
  },
  {
   "cell_type": "markdown",
   "metadata": {},
   "source": [
    "А теперь добавим в **`df_test`** целевые признаки. "
   ]
  },
  {
   "cell_type": "code",
   "execution_count": 20,
   "metadata": {},
   "outputs": [
    {
     "data": {
      "text/plain": [
       "(5290, 53)"
      ]
     },
     "execution_count": 20,
     "metadata": {},
     "output_type": "execute_result"
    }
   ],
   "source": [
    "df_test.shape"
   ]
  },
  {
   "cell_type": "code",
   "execution_count": 21,
   "metadata": {},
   "outputs": [],
   "source": [
    "df_full_y_columns = df_full[['date', 'rougher.output.recovery', 'final.output.recovery']]\n",
    "df_test = df_test.merge(df_full_y_columns, on='date', how='left')"
   ]
  },
  {
   "cell_type": "code",
   "execution_count": 22,
   "metadata": {},
   "outputs": [
    {
     "data": {
      "text/plain": [
       "(5290, 55)"
      ]
     },
     "execution_count": 22,
     "metadata": {},
     "output_type": "execute_result"
    }
   ],
   "source": [
    "df_test.shape"
   ]
  },
  {
   "cell_type": "markdown",
   "metadata": {},
   "source": [
    "### Предобработка данных"
   ]
  },
  {
   "cell_type": "markdown",
   "metadata": {},
   "source": [
    "Сразу обозначим переменные с названиями признаков и целевых признаков. "
   ]
  },
  {
   "cell_type": "code",
   "execution_count": 23,
   "metadata": {},
   "outputs": [],
   "source": [
    "features_columns = df_test.columns\n",
    "target_columns = ['rougher.output.recovery', 'final.output.recovery']"
   ]
  },
  {
   "cell_type": "markdown",
   "metadata": {},
   "source": [
    "Удалим дубликаты, если они имеются. "
   ]
  },
  {
   "cell_type": "code",
   "execution_count": 24,
   "metadata": {},
   "outputs": [
    {
     "data": {
      "text/plain": [
       "(0, 0, 0)"
      ]
     },
     "execution_count": 24,
     "metadata": {},
     "output_type": "execute_result"
    }
   ],
   "source": [
    "df_full.duplicated().sum(), df_train.duplicated().sum(), df_test.duplicated().sum()"
   ]
  },
  {
   "cell_type": "markdown",
   "metadata": {},
   "source": [
    "Заполним пропуски в 7 признаках с наибольшим количеством пропусков таблицы **`df_train`** при помощи метода **ffill**: суть этого метода в том, что пропуски заполняются предыдущим ненулевым значением признака. Это подходит в условиях нашей задачи, так как данные в датафреймах индексируются по дате и времени получения информации и соседние значения похожи. \n",
    "\n",
    "7 признаков, с которыми мы будем работать, мы предварительно положили в список **na_to_fill**."
   ]
  },
  {
   "cell_type": "code",
   "execution_count": 25,
   "metadata": {},
   "outputs": [
    {
     "data": {
      "text/plain": [
       "secondary_cleaner.output.tail_sol           0\n",
       "rougher.state.floatbank10_e_air             0\n",
       "rougher.input.floatbank11_xanthate          0\n",
       "primary_cleaner.output.concentrate_sol      0\n",
       "secondary_cleaner.state.floatbank2_a_air    0\n",
       "final.output.concentrate_sol                0\n",
       "rougher.input.feed_size                     0\n",
       "dtype: int64"
      ]
     },
     "execution_count": 25,
     "metadata": {},
     "output_type": "execute_result"
    }
   ],
   "source": [
    "df_train[na_to_fill] = df_train[na_to_fill].fillna(method='ffill')\n",
    "df_train[na_to_fill].isna().sum()"
   ]
  },
  {
   "cell_type": "markdown",
   "metadata": {},
   "source": [
    "Далее мы можем удалить оставшиеся пропуски в **`df_train`** и **`df_test`**."
   ]
  },
  {
   "cell_type": "code",
   "execution_count": 26,
   "metadata": {},
   "outputs": [
    {
     "data": {
      "text/plain": [
       "((14149, 87), (5290, 55))"
      ]
     },
     "execution_count": 26,
     "metadata": {},
     "output_type": "execute_result"
    }
   ],
   "source": [
    "df_train.shape, df_test.shape"
   ]
  },
  {
   "cell_type": "code",
   "execution_count": 27,
   "metadata": {},
   "outputs": [
    {
     "data": {
      "text/plain": [
       "(773, 90)"
      ]
     },
     "execution_count": 27,
     "metadata": {},
     "output_type": "execute_result"
    }
   ],
   "source": [
    "df_train.isna().sum().sum(), df_test.isna().sum().sum()"
   ]
  },
  {
   "cell_type": "code",
   "execution_count": 28,
   "metadata": {},
   "outputs": [],
   "source": [
    "df_train = df_train.dropna().reset_index(drop=True)\n",
    "df_test = df_test.dropna().reset_index(drop=True)"
   ]
  },
  {
   "cell_type": "code",
   "execution_count": 29,
   "metadata": {},
   "outputs": [
    {
     "data": {
      "text/plain": [
       "((13636, 87), (5229, 55))"
      ]
     },
     "execution_count": 29,
     "metadata": {},
     "output_type": "execute_result"
    }
   ],
   "source": [
    "df_train.shape, df_test.shape"
   ]
  },
  {
   "cell_type": "markdown",
   "metadata": {},
   "source": [
    "### Промежуточные выводы"
   ]
  },
  {
   "cell_type": "markdown",
   "metadata": {},
   "source": [
    "Мы рассмотрели 3 базы данных: **`df_full`**, **`df_train`** и **`df_test`**.\n",
    "\n",
    "На этапе обзора данных мы обнаружили пропуски во всех трех базах данных. Посколько полная база данных **`df_full`** нам необходима скорее для изучения данных и общей картины, с этой базой мы решили никах изменений не предпринимать. Что же касается **`df_train`** и **`df_test`**, в обучающей базе было обнаружено много пропусков, большую часть которых мы заполнили по методу _ffill_, а остальные удалили на этапе предобработки. В тестовой выборке пропущенных значений было крайне мало, их мы попросту удалили во время предобработки. \n",
    "\n",
    "Для того, чтобы быть уверенными, что эффективность обогащения рассчитана правильно, мы рассчитали ее по формуле **Recovery** на обучающей выборке для признака `rougher.output.recovery` и нашли MAE между нашими расчётами и значением признака: значение MAE оказалось очень близко к нулю, а значит формула корректна. \n",
    "\n",
    "Было также обнаружено, что в **`df_full`** и **`df_train`** 87 признаков, а в **`df_test`** только 53. Мы изучили, какие признаки отсутствуют в **`df_test`**. Это признаки категории **\"output\"**, и признаки рассчета флотации **\"rougher.calculation\"**. \n",
    "\n",
    "Мы добавили в **`df_test`** два целевых признака: `rougher.output.recovery` и `final.output.recovery`."
   ]
  },
  {
   "cell_type": "markdown",
   "metadata": {},
   "source": [
    "## Анализ данных"
   ]
  },
  {
   "cell_type": "markdown",
   "metadata": {},
   "source": [
    "На этом этапе мы рассмотрим, как меняется концентрация металлов по этапам очистки и как распределяются размеры гранул сырья в обучающей и тестовой выборках. Также изучим, как меняется суммарная концентрация всех веществ на различных этапах очистки. "
   ]
  },
  {
   "cell_type": "markdown",
   "metadata": {},
   "source": [
    "### Изменение концентрации металлов (Au, Ag, Pb) на различных этапах очистки"
   ]
  },
  {
   "cell_type": "markdown",
   "metadata": {},
   "source": [
    "Мы пронаблюдаем, как меняется концентрация золота, серебра и свинца на следующих этапах:\n",
    "* исходное сырье\n",
    "* флотация\n",
    "* первый этап очистки\n",
    "* второй этап очистки\n",
    "\n",
    "Для этого мы посмотрим на распределения металлов на каждом этапе отдельно, а затем посмотрим отдельно на металлы в ключе этих этапов. "
   ]
  },
  {
   "cell_type": "markdown",
   "metadata": {},
   "source": [
    "#### С точки зрения этапов"
   ]
  },
  {
   "cell_type": "code",
   "execution_count": 30,
   "metadata": {},
   "outputs": [
    {
     "data": {
      "image/png": "[encoded data removed]",
      "text/plain": [
       "<Figure size 1440x1080 with 4 Axes>"
      ]
     },
     "metadata": {
      "needs_background": "light"
     },
     "output_type": "display_data"
    }
   ],
   "source": [
    "fig=plt.figure()\n",
    "\n",
    "ax_1=fig.add_subplot(2, 2, 1)\n",
    "plt.hist(df_full['rougher.input.feed_au'], bins=30, alpha=0.5, edgecolor='black', color='#ccac00')\n",
    "plt.hist(df_full['rougher.input.feed_ag'], bins=30, alpha=0.5, edgecolor='black', color='#c0c0c0')\n",
    "plt.hist(df_full['rougher.input.feed_pb'], bins=30, alpha=0.5, edgecolor='black', color='#565655')\n",
    "plt.grid()\n",
    "plt.xlabel('Количество наблюдений')\n",
    "plt.legend(['Золото', 'Серебро', 'Свинец'])\n",
    "plt.title('1. Исходное сырье')\n",
    "\n",
    "ax_2=fig.add_subplot(2, 2, 2)\n",
    "plt.hist(df_full['rougher.output.concentrate_au'], bins=30, alpha=0.5, edgecolor='black', color='#ccac00')\n",
    "plt.hist(df_full['rougher.output.concentrate_ag'], bins=30, alpha=0.5, edgecolor='black', color='#c0c0c0')\n",
    "plt.hist(df_full['rougher.output.concentrate_pb'], bins=30, alpha=0.5, edgecolor='black', color='#565655')\n",
    "plt.grid()\n",
    "plt.xlabel('Количество наблюдений')\n",
    "plt.legend(['Золото', 'Серебро', 'Свинец'])\n",
    "plt.title('2. Флотация')\n",
    "\n",
    "ax_3=fig.add_subplot(2, 2, 3)\n",
    "plt.hist(df_full['primary_cleaner.output.concentrate_au'], bins=30, alpha=0.5, edgecolor='black', color='#ccac00')\n",
    "plt.hist(df_full['primary_cleaner.output.concentrate_ag'], bins=30, alpha=0.5, edgecolor='black', color='#c0c0c0')\n",
    "plt.hist(df_full['primary_cleaner.output.concentrate_pb'], bins=30, alpha=0.5, edgecolor='black', color='#565655')\n",
    "plt.grid()\n",
    "plt.xlabel('Количество наблюдений')\n",
    "plt.legend(['Золото', 'Серебро', 'Свинец'])\n",
    "plt.title('3. Первый этап очистки')\n",
    "\n",
    "ax_4=fig.add_subplot(2, 2, 4)\n",
    "plt.hist(df_full['final.output.concentrate_au'], bins=30, alpha=0.5, edgecolor='black', color='#ccac00')\n",
    "plt.hist(df_full['final.output.concentrate_ag'], bins=30, alpha=0.5, edgecolor='black', color='#c0c0c0')\n",
    "plt.hist(df_full['final.output.concentrate_pb'], bins=30, alpha=0.5, edgecolor='black', color='#565655')\n",
    "plt.grid()\n",
    "plt.xlabel('Количество наблюдений')\n",
    "plt.legend(['Золото', 'Серебро', 'Свинец'])\n",
    "plt.title('4. Второй этап очистки')\n",
    "\n",
    "plt.gcf().set_size_inches(20, 15)\n",
    "plt.show()"
   ]
  },
  {
   "cell_type": "markdown",
   "metadata": {},
   "source": [
    "Можно заметить, что в исходном сырье преобладают серебро и золото, причем первого немного больше, чем второго. В ходе этапов очистки, золото уверенно сдвигается вправо, а доля дргуих металлов снижается - что логично, на это процесс и рассчитан. "
   ]
  },
  {
   "cell_type": "markdown",
   "metadata": {},
   "source": [
    "#### С точки зрения металлов"
   ]
  },
  {
   "cell_type": "code",
   "execution_count": 31,
   "metadata": {},
   "outputs": [
    {
     "data": {
      "image/png": "[encoded data removed]",
      "text/plain": [
       "<Figure size 1440x1080 with 3 Axes>"
      ]
     },
     "metadata": {
      "needs_background": "light"
     },
     "output_type": "display_data"
    }
   ],
   "source": [
    "fig=plt.figure()\n",
    "\n",
    "ax_1=fig.add_subplot(2, 2, 1)\n",
    "plt.hist(df_full['rougher.input.feed_au'], bins=30, alpha=0.5, edgecolor='black', color='#29609C')\n",
    "plt.hist(df_full['rougher.output.concentrate_au'], bins=30, alpha=0.5, edgecolor='black', color='#9C131E')\n",
    "plt.hist(df_full['primary_cleaner.output.concentrate_au'], bins=30, alpha=0.5, edgecolor='black', color='#3AA5C3')\n",
    "plt.hist(df_full['final.output.concentrate_au'], bins=30, alpha=0.5, edgecolor='black', color='#ccac00')\n",
    "plt.grid()\n",
    "plt.xlabel('Количество наблюдений')\n",
    "plt.legend(['Исходное сырье', 'Флотация', 'Первый этап очистки', 'Второй этап очистки'])\n",
    "plt.title('Золото')\n",
    "\n",
    "ax_2=fig.add_subplot(2, 2, 2)\n",
    "plt.hist(df_full['rougher.input.feed_ag'], bins=30, alpha=0.5, edgecolor='black', color='#29609C')\n",
    "plt.hist(df_full['rougher.output.concentrate_ag'], bins=30, alpha=0.5, edgecolor='black', color='#9C131E')\n",
    "plt.hist(df_full['primary_cleaner.output.concentrate_ag'], bins=30, alpha=0.5, edgecolor='black', color='#3AA5C3')\n",
    "plt.hist(df_full['final.output.concentrate_ag'], bins=30, alpha=0.5, edgecolor='black', color='#c0c0c0')\n",
    "plt.grid()\n",
    "plt.xlabel('Количество наблюдений')\n",
    "plt.legend(['Исходное сырье', 'Флотация', 'Первый этап очистки', 'Второй этап очистки'])\n",
    "plt.title('Серебро')\n",
    "\n",
    "ax_3=fig.add_subplot(2, 2, 3)\n",
    "plt.hist(df_full['rougher.input.feed_pb'], bins=30, alpha=0.5, edgecolor='black', color='#29609C')\n",
    "plt.hist(df_full['rougher.output.concentrate_pb'], bins=30, alpha=0.5, edgecolor='black', color='#9C131E')\n",
    "plt.hist(df_full['primary_cleaner.output.concentrate_pb'], bins=30, alpha=0.5, edgecolor='black', color='#3AA5C3')\n",
    "plt.hist(df_full['final.output.concentrate_pb'], bins=30, alpha=0.5, edgecolor='black', color='#565655')\n",
    "plt.grid()\n",
    "plt.xlabel('Количество наблюдений')\n",
    "plt.legend(['Исходное сырье', 'Флотация', 'Первый этап очистки', 'Второй этап очистки'])\n",
    "plt.title('Свинец')\n",
    "\n",
    "plt.gcf().set_size_inches(20, 15)\n",
    "plt.show()"
   ]
  },
  {
   "cell_type": "markdown",
   "metadata": {},
   "source": [
    "С золотом все понятно: исходного сырье поэтапно очищается от всего, кроме него. \n",
    "\n",
    "Что же касается серебра и свинца, можно наблюдать, что на этапе флотации и первичной очистки из концентрация почему-то выше по сравнению с исходными данными. При этом на втором этапе очистки серебро ведет себя хорошо, а именно сильно уменьшается относительно других этапов. \n",
    "\n",
    "А вот свинец, наоборот растет в своей концентрации на этапах флотации и первого этапа очистки и лишь немного снижается на втором этапе. То есть свинец растет относительно свинца, но, возвращаясь к предыдущим гистограммам, мы знаем, что относительно золота концентрация свинца падает значительно по ходу очистки. "
   ]
  },
  {
   "cell_type": "markdown",
   "metadata": {},
   "source": [
    "### Распределение размеров гранул сырья на обучающей и тестовой выборках"
   ]
  },
  {
   "cell_type": "markdown",
   "metadata": {},
   "source": [
    "Сравним размеры гранул (признаки `.input.feed_size`) для обучающей и тестовой выборок. Это нужно для того, чтобы определить, насколько различаются распределения: если различия значительные, то оценка модели может быть некорректной. \n",
    "\n",
    "Посмотрим на эти признаки на двух этапах:\n",
    "* `rougher.input.feed_size`\n",
    "* `primary_cleaner.input.feed_size`"
   ]
  },
  {
   "cell_type": "code",
   "execution_count": 32,
   "metadata": {},
   "outputs": [
    {
     "data": {
      "image/png": "[encoded data removed]",
      "text/plain": [
       "<Figure size 1440x1080 with 2 Axes>"
      ]
     },
     "metadata": {
      "needs_background": "light"
     },
     "output_type": "display_data"
    }
   ],
   "source": [
    "fig=plt.figure()\n",
    "\n",
    "ax_1=fig.add_subplot(2, 2, 1)\n",
    "sns.distplot(df_train['rougher.input.feed_size'], color='#29609C')\n",
    "sns.distplot(df_test['rougher.input.feed_size'], color='#ffef00')\n",
    "plt.grid()\n",
    "plt.xlabel('Значения')\n",
    "plt.ylabel('Плотность распределения')\n",
    "plt.legend(['Обучающая выборка', 'Тестовая выборка'])\n",
    "plt.title('Флотация')\n",
    "\n",
    "ax_2=fig.add_subplot(2, 2, 2)\n",
    "sns.distplot(df_train['primary_cleaner.input.feed_size'], color='#29609C')\n",
    "sns.distplot(df_test['primary_cleaner.input.feed_size'], color='#ffef00')\n",
    "plt.grid()\n",
    "plt.xlabel('Значения')\n",
    "plt.ylabel('Плотность распределения')\n",
    "plt.legend(['Обучающая выборка', 'Тестовая выборка'])\n",
    "plt.title('Первичная очистка')\n",
    "\n",
    "plt.gcf().set_size_inches(20, 15)\n",
    "plt.show()"
   ]
  },
  {
   "cell_type": "markdown",
   "metadata": {},
   "source": [
    "Размер зерна распределяется подобным образом на обучающей и тестовой выборках как на этапе флотации, так и на этапе первичной обработки."
   ]
  },
  {
   "cell_type": "markdown",
   "metadata": {},
   "source": [
    "### Суммарная концентрация всех веществ на разных этапах очистки"
   ]
  },
  {
   "cell_type": "markdown",
   "metadata": {},
   "source": [
    "Посчитаем суммарную концентрацию всех веществ на следующих этапах:\n",
    "* исходное сырье\n",
    "* флотация\n",
    "* первый этап очистки\n",
    "* второй этап очистки\n",
    "\n",
    "Помимо золота, серебра и свинца, в базе имеются данные по веществу с названием _sol_. Нам неизвестно, что это вещество из себя представляет, однако его необходимо включить в анализ. "
   ]
  },
  {
   "cell_type": "code",
   "execution_count": 33,
   "metadata": {},
   "outputs": [],
   "source": [
    "def total_substance_dist(data):\n",
    "    \n",
    "    data['rougher.input.feed_total'] = (data['rougher.input.feed_ag'] +\n",
    "                                        data['rougher.input.feed_pb'] +\n",
    "                                        data['rougher.input.feed_sol'] +\n",
    "                                        data['rougher.input.feed_au'])\n",
    "\n",
    "    data['rougher.output.concentrate_total'] = (data['rougher.output.concentrate_ag'] +\n",
    "                                                data['rougher.output.concentrate_pb'] +\n",
    "                                                data['rougher.output.concentrate_sol'] +\n",
    "                                                data['rougher.output.concentrate_au'])\n",
    "\n",
    "    data['primary_cleaner.output.concentrate_total'] = (data['primary_cleaner.output.concentrate_ag'] +\n",
    "                                                data['primary_cleaner.output.concentrate_pb'] +\n",
    "                                                data['primary_cleaner.output.concentrate_sol'] +\n",
    "                                                data['primary_cleaner.output.concentrate_au'])\n",
    "\n",
    "    data['final.output.concentrate_total'] = (data['final.output.concentrate_ag'] +\n",
    "                                              data['final.output.concentrate_pb'] +\n",
    "                                              data['final.output.concentrate_sol'] +\n",
    "                                              data['final.output.concentrate_au'])\n",
    "\n",
    "    sns.distplot(data['rougher.input.feed_total'], color='#e16963')\n",
    "    sns.distplot(data['rougher.output.concentrate_total'], color='#e163bb')\n",
    "    sns.distplot(data['primary_cleaner.output.concentrate_total'], color='#fae351')\n",
    "    sns.distplot(data['final.output.concentrate_total'], color='#41b0ed')\n",
    "    plt.grid()\n",
    "    plt.xlabel('Значения')\n",
    "    plt.ylabel('Плотность распределения')\n",
    "    plt.legend(['Исходное сырье', 'Флотация', 'Первый этап очистки', 'Второй этап очистки'])\n",
    "    plt.gcf().set_size_inches(15, 7)\n",
    "    plt.show()"
   ]
  },
  {
   "cell_type": "markdown",
   "metadata": {},
   "source": [
    "Полная выборка:"
   ]
  },
  {
   "cell_type": "code",
   "execution_count": 34,
   "metadata": {},
   "outputs": [
    {
     "data": {
      "image/png": "[encoded data removed]",
      "text/plain": [
       "<Figure size 1080x504 with 1 Axes>"
      ]
     },
     "metadata": {
      "needs_background": "light"
     },
     "output_type": "display_data"
    }
   ],
   "source": [
    "total_substance_dist(df_full)"
   ]
  },
  {
   "cell_type": "markdown",
   "metadata": {},
   "source": [
    "В полной выборке можно заметить некоторое количество значений, близких к нулю - это выбросы. Проверим, аналогична ли ситуация для обучающей выборки. Помним, что в тестовой параметры типа `.output` у нас отсутствуют. "
   ]
  },
  {
   "cell_type": "markdown",
   "metadata": {},
   "source": [
    "Обучающая выборка:"
   ]
  },
  {
   "cell_type": "code",
   "execution_count": 35,
   "metadata": {},
   "outputs": [
    {
     "data": {
      "image/png": "[encoded data removed]",
      "text/plain": [
       "<Figure size 1080x504 with 1 Axes>"
      ]
     },
     "metadata": {
      "needs_background": "light"
     },
     "output_type": "display_data"
    }
   ],
   "source": [
    "total_substance_dist(df_train)"
   ]
  },
  {
   "cell_type": "markdown",
   "metadata": {},
   "source": [
    "В обучающей выборке выбросы тоже имеются. Отсюда их стоит удалить, чтобы это не повлияло на модель. "
   ]
  },
  {
   "cell_type": "code",
   "execution_count": 36,
   "metadata": {},
   "outputs": [
    {
     "data": {
      "text/plain": [
       "(13636, 91)"
      ]
     },
     "execution_count": 36,
     "metadata": {},
     "output_type": "execute_result"
    }
   ],
   "source": [
    "df_train.shape"
   ]
  },
  {
   "cell_type": "code",
   "execution_count": 37,
   "metadata": {},
   "outputs": [],
   "source": [
    "df_train = df_train.drop(df_train[df_train['rougher.input.feed_total'] < 1].index)\n",
    "df_train = df_train.drop(df_train[df_train['rougher.output.concentrate_total'] < 1].index)\n",
    "df_train = df_train.drop(df_train[df_train['primary_cleaner.output.concentrate_total'] < 1].index)\n",
    "df_train = df_train.drop(df_train[df_train['final.output.concentrate_total'] < 1].index)"
   ]
  },
  {
   "cell_type": "code",
   "execution_count": 38,
   "metadata": {},
   "outputs": [
    {
     "data": {
      "text/plain": [
       "(13167, 91)"
      ]
     },
     "execution_count": 38,
     "metadata": {},
     "output_type": "execute_result"
    }
   ],
   "source": [
    "df_train.shape"
   ]
  },
  {
   "cell_type": "code",
   "execution_count": 39,
   "metadata": {},
   "outputs": [
    {
     "data": {
      "image/png": "[encoded data removed]",
      "text/plain": [
       "<Figure size 1080x504 with 1 Axes>"
      ]
     },
     "metadata": {
      "needs_background": "light"
     },
     "output_type": "display_data"
    }
   ],
   "source": [
    "total_substance_dist(df_train)"
   ]
  },
  {
   "cell_type": "markdown",
   "metadata": {},
   "source": [
    "От выбросов избавились! \n",
    "\n",
    "Можно заметить, что на втором этапе очистки суммарная концентрация веществ повышается и сжимается к медиане. Возможно, это связано с тем, что на втором этапе очистки мы избавляемся от большого количества веществ, повышая концентрацию золота. И распределение суммарной концентрации выглядит похоже на распределение золота: вероятно от того, что значительную долю в этой сумме именно оно и занимает. "
   ]
  },
  {
   "cell_type": "markdown",
   "metadata": {},
   "source": [
    "### Промежуточные выводы"
   ]
  },
  {
   "cell_type": "markdown",
   "metadata": {},
   "source": [
    "* по ходу очистки растет концентрация золота и снижается концентрация практически всех остальных металлов\n",
    "* при этом стоит отметить, что концентрация свинца несколько повышается относительно исходной\n",
    "* распределения размеров гранул сырья на обучающей и тестовой выборках похожи, значит, не стоит беспокоиться, что оценка модели будет некорректной (по этой причине)\n",
    "* суммарная концентрация всех веществ на различных этапах очиски изменяется и на втором этапе по своему распределению походит на распределение золота\n",
    "* были обнаружены выбросы - околонулевые значения; эти выбросы мы удалили из обучающей выборки для улучшения точности модели"
   ]
  },
  {
   "cell_type": "markdown",
   "metadata": {},
   "source": [
    "## Модель"
   ]
  },
  {
   "cell_type": "markdown",
   "metadata": {},
   "source": [
    "На этом этапе мы посмотрим модель, которая сможет предсказывать наши целевые признаки:\n",
    "* `rougher.output.recovery`\n",
    "* `final.output.recovery`\n",
    "\n",
    "Качество работы модели мы будем оценивать по **sMAPE**, _Symmetric Mean Absolute Percentage Error_.\n",
    "\n",
    "Сначала напишем функцию для рассчета **sMAPE**."
   ]
  },
  {
   "cell_type": "markdown",
   "metadata": {},
   "source": [
    "### Функция sMAPE"
   ]
  },
  {
   "cell_type": "code",
   "execution_count": 40,
   "metadata": {},
   "outputs": [],
   "source": [
    "def sMAPE(y_true, predict):\n",
    "    rougher, final = ((abs(y_true - predict) / ((abs(y_true) + abs(predict)) / 2)).mean() * 100)    \n",
    "    result = (0.25 * rougher + 0.75 * final)\n",
    "    return result"
   ]
  },
  {
   "cell_type": "markdown",
   "metadata": {},
   "source": [
    "И сделаем эту функцию метрикой качества модели. "
   ]
  },
  {
   "cell_type": "code",
   "execution_count": 41,
   "metadata": {},
   "outputs": [],
   "source": [
    "smape = make_scorer(sMAPE, greater_is_better=False)"
   ]
  },
  {
   "cell_type": "markdown",
   "metadata": {},
   "source": [
    "Также объявим функции для определения **sMAPE** для одного целевого признака и для подсчета финального **sMAPE**. Это необходимо сделать для того, чтобы посчитать качество модели **CatBoost**, которая ругается на два целевых признака. "
   ]
  },
  {
   "cell_type": "code",
   "execution_count": 42,
   "metadata": {},
   "outputs": [],
   "source": [
    "def smape_ind(y_true, predict):\n",
    "    result = ((abs(y_true - predict) / ((abs(y_true) + abs(predict)) / 2)).mean() * 100)\n",
    "    return result"
   ]
  },
  {
   "cell_type": "code",
   "execution_count": 43,
   "metadata": {},
   "outputs": [],
   "source": [
    "def smape_total(rougher, final):\n",
    "    result = smape_1 * 0.25 + smape_2 * 0.75\n",
    "    return result"
   ]
  },
  {
   "cell_type": "markdown",
   "metadata": {},
   "source": [
    "### Признаки X и целевые признаки y"
   ]
  },
  {
   "cell_type": "markdown",
   "metadata": {},
   "source": [
    "Обозначим признаки и целевые признаки для обучающей и тестовой выборок. В признаки могут войти только те признаки из **`df_train`**, которые есть и в **`df_test`**."
   ]
  },
  {
   "cell_type": "code",
   "execution_count": 44,
   "metadata": {},
   "outputs": [],
   "source": [
    "X_train = df_train[X_columns]\n",
    "y_train = df_train[y_columns]\n",
    "\n",
    "X_test = df_test[X_columns]\n",
    "y_test = df_test[y_columns]"
   ]
  },
  {
   "cell_type": "code",
   "execution_count": 45,
   "metadata": {},
   "outputs": [
    {
     "data": {
      "text/plain": [
       "((13167, 52), (13167, 2), (5229, 52), (5229, 2))"
      ]
     },
     "execution_count": 45,
     "metadata": {},
     "output_type": "execute_result"
    }
   ],
   "source": [
    "X_train.shape, y_train.shape, X_test.shape, y_test.shape"
   ]
  },
  {
   "cell_type": "markdown",
   "metadata": {},
   "source": [
    "Масштабируем признаки для того, чтобы облегчить процесс обучения модели и помочь ей лучше предсказывать целевые признаки."
   ]
  },
  {
   "cell_type": "code",
   "execution_count": 46,
   "metadata": {},
   "outputs": [],
   "source": [
    "scaler = StandardScaler()\n",
    "scaler.fit(X_train)\n",
    "X_train_scaled = scaler.transform(X_train)\n",
    "X_test_scaled = scaler.transform(X_test)"
   ]
  },
  {
   "cell_type": "markdown",
   "metadata": {},
   "source": [
    "### Поиск лучшей модели "
   ]
  },
  {
   "cell_type": "markdown",
   "metadata": {},
   "source": [
    "#### Линейная регрессия"
   ]
  },
  {
   "cell_type": "code",
   "execution_count": 47,
   "metadata": {},
   "outputs": [
    {
     "data": {
      "text/plain": [
       "{'fit_intercept': True, 'normalize': True}"
      ]
     },
     "execution_count": 47,
     "metadata": {},
     "output_type": "execute_result"
    }
   ],
   "source": [
    "model_lr = LinearRegression()\n",
    "parameters_lr = {'normalize': [True, False],\n",
    "                'fit_intercept': [True, False]}\n",
    "\n",
    "grid_lr = GridSearchCV(model_lr, parameters_lr, cv=5, scoring=smape)\n",
    "grid_lr.fit(X_train_scaled, y_train)\n",
    "grid_lr.best_params_"
   ]
  },
  {
   "cell_type": "code",
   "execution_count": 48,
   "metadata": {},
   "outputs": [
    {
     "data": {
      "text/plain": [
       "8.83843814254485"
      ]
     },
     "execution_count": 48,
     "metadata": {},
     "output_type": "execute_result"
    }
   ],
   "source": [
    "model_lr_final = LinearRegression(fit_intercept=True, normalize=True)\n",
    "model_lr_final.fit(X_train_scaled, y_train)\n",
    "predicted_lr = model_lr_final.predict(X_test_scaled)\n",
    "smape_lr = sMAPE(y_test, predicted_lr)\n",
    "smape_lr"
   ]
  },
  {
   "cell_type": "markdown",
   "metadata": {},
   "source": [
    "Лучшая модель линейной регрессии имеет параметры **fit_intercept=True** и **normalize=True**.\n",
    "\n",
    "**sMAPE этой модели: 8.84**"
   ]
  },
  {
   "cell_type": "markdown",
   "metadata": {},
   "source": [
    "#### Регрессия LASSO"
   ]
  },
  {
   "cell_type": "code",
   "execution_count": 49,
   "metadata": {},
   "outputs": [
    {
     "name": "stdout",
     "output_type": "stream",
     "text": [
      "CPU times: user 47.5 s, sys: 333 ms, total: 47.8 s\n",
      "Wall time: 26.6 s\n"
     ]
    },
    {
     "data": {
      "text/plain": [
       "8.095286465666721"
      ]
     },
     "execution_count": 49,
     "metadata": {},
     "output_type": "execute_result"
    }
   ],
   "source": [
    "%%time\n",
    "\n",
    "model_lasso = MultiTaskLassoCV(cv=5)\n",
    "model_lasso.fit(X_train_scaled, y_train)\n",
    "predicted_lasso = model_lasso.predict(X_test_scaled)\n",
    "smape_lasso = sMAPE(y_test, predicted_lasso)\n",
    "smape_lasso"
   ]
  },
  {
   "cell_type": "code",
   "execution_count": 50,
   "metadata": {},
   "outputs": [
    {
     "data": {
      "text/plain": [
       "{'alphas': None,\n",
       " 'copy_X': True,\n",
       " 'cv': 5,\n",
       " 'eps': 0.001,\n",
       " 'fit_intercept': True,\n",
       " 'max_iter': 1000,\n",
       " 'n_alphas': 100,\n",
       " 'n_jobs': None,\n",
       " 'normalize': 'deprecated',\n",
       " 'random_state': None,\n",
       " 'selection': 'cyclic',\n",
       " 'tol': 0.0001,\n",
       " 'verbose': False}"
      ]
     },
     "execution_count": 50,
     "metadata": {},
     "output_type": "execute_result"
    }
   ],
   "source": [
    "model_lasso.get_params()"
   ]
  },
  {
   "cell_type": "markdown",
   "metadata": {},
   "source": [
    "Лучшая модель регрессии LASSO для нескольких целевых признаков имеет параметры **fit_intercept=True**, **normalize='deprecated'** и **selection='cyclic'**.\n",
    "\n",
    "**sMAPE этой модели: 8.1**"
   ]
  },
  {
   "cell_type": "markdown",
   "metadata": {},
   "source": [
    "#### Регрессия Ridge"
   ]
  },
  {
   "cell_type": "code",
   "execution_count": 51,
   "metadata": {},
   "outputs": [
    {
     "name": "stdout",
     "output_type": "stream",
     "text": [
      "CPU times: user 91.8 ms, sys: 17.9 ms, total: 110 ms\n",
      "Wall time: 79.4 ms\n"
     ]
    },
    {
     "data": {
      "text/plain": [
       "8.828445496764902"
      ]
     },
     "execution_count": 51,
     "metadata": {},
     "output_type": "execute_result"
    }
   ],
   "source": [
    "%%time\n",
    "\n",
    "model_ridge = RidgeCV()\n",
    "model_ridge.fit(X_train_scaled, y_train)\n",
    "predicted_ridge = model_ridge.predict(X_test_scaled)\n",
    "smape_ridge = sMAPE(y_test, predicted_ridge)\n",
    "smape_ridge"
   ]
  },
  {
   "cell_type": "code",
   "execution_count": 52,
   "metadata": {},
   "outputs": [
    {
     "data": {
      "text/plain": [
       "{'alpha_per_target': False,\n",
       " 'alphas': array([ 0.1,  1. , 10. ]),\n",
       " 'cv': None,\n",
       " 'fit_intercept': True,\n",
       " 'gcv_mode': None,\n",
       " 'normalize': 'deprecated',\n",
       " 'scoring': None,\n",
       " 'store_cv_values': False}"
      ]
     },
     "execution_count": 52,
     "metadata": {},
     "output_type": "execute_result"
    }
   ],
   "source": [
    "model_ridge.get_params()"
   ]
  },
  {
   "cell_type": "markdown",
   "metadata": {},
   "source": [
    "Лучшая модель регрессии Ridge имеет параметры **fit_intercept=True** и **normalize='deprecated'**.\n",
    "\n",
    "**sMAPE этой модели: 8.83**"
   ]
  },
  {
   "cell_type": "markdown",
   "metadata": {},
   "source": [
    "#### Дерево решений"
   ]
  },
  {
   "cell_type": "code",
   "execution_count": 53,
   "metadata": {},
   "outputs": [
    {
     "name": "stdout",
     "output_type": "stream",
     "text": [
      "CPU times: user 50.2 s, sys: 309 ms, total: 50.5 s\n",
      "Wall time: 51.7 s\n"
     ]
    },
    {
     "data": {
      "text/plain": [
       "{'max_depth': 2}"
      ]
     },
     "execution_count": 53,
     "metadata": {},
     "output_type": "execute_result"
    }
   ],
   "source": [
    "%%time\n",
    "\n",
    "model_dt = DecisionTreeRegressor()\n",
    "parameters_dt = {'max_depth': range (1, 20)}\n",
    "\n",
    "grid_dt = GridSearchCV(model_dt, parameters_dt, cv=5, scoring=smape)\n",
    "grid_dt.fit(X_train, y_train)\n",
    "grid_dt.best_params_"
   ]
  },
  {
   "cell_type": "code",
   "execution_count": 54,
   "metadata": {},
   "outputs": [
    {
     "data": {
      "text/plain": [
       "9.210521287679168"
      ]
     },
     "execution_count": 54,
     "metadata": {},
     "output_type": "execute_result"
    }
   ],
   "source": [
    "model_dt_final = DecisionTreeRegressor(max_depth=2)\n",
    "model_dt_final.fit(X_train, y_train)\n",
    "predicted_dt = model_dt_final.predict(X_test)\n",
    "smape_dt = sMAPE(y_test, predicted_dt)\n",
    "smape_dt"
   ]
  },
  {
   "cell_type": "markdown",
   "metadata": {},
   "source": [
    "Лучшая модель дерева решений имеет параметр **max_depth=2**.\n",
    "\n",
    "**sMAPE этой модели: 9.21**."
   ]
  },
  {
   "cell_type": "markdown",
   "metadata": {},
   "source": [
    "#### Случайный лес"
   ]
  },
  {
   "cell_type": "code",
   "execution_count": 55,
   "metadata": {},
   "outputs": [
    {
     "name": "stdout",
     "output_type": "stream",
     "text": [
      "CPU times: user 8min 27s, sys: 2.25 s, total: 8min 30s\n",
      "Wall time: 8min 40s\n"
     ]
    },
    {
     "data": {
      "text/plain": [
       "{'max_depth': 3, 'n_estimators': 30}"
      ]
     },
     "execution_count": 55,
     "metadata": {},
     "output_type": "execute_result"
    }
   ],
   "source": [
    "%%time\n",
    "\n",
    "model_rf = RandomForestRegressor()\n",
    "parameters_rf = {'n_estimators': range (10, 40, 10),\n",
    "                 'max_depth': range (1, 14, 2)}\n",
    "\n",
    "grid_rf = GridSearchCV(model_rf, parameters_rf, cv=5, scoring=smape)\n",
    "grid_rf.fit(X_train, y_train)\n",
    "grid_rf.best_params_"
   ]
  },
  {
   "cell_type": "code",
   "execution_count": 56,
   "metadata": {},
   "outputs": [
    {
     "data": {
      "text/plain": [
       "8.740200227097471"
      ]
     },
     "execution_count": 56,
     "metadata": {},
     "output_type": "execute_result"
    }
   ],
   "source": [
    "model_rf_final = RandomForestRegressor(n_estimators=30, max_depth=5)\n",
    "model_rf_final.fit(X_train, y_train)\n",
    "predicted_rf = model_rf_final.predict(X_test)\n",
    "smape_rf = sMAPE(y_test, predicted_rf)\n",
    "smape_rf"
   ]
  },
  {
   "cell_type": "markdown",
   "metadata": {},
   "source": [
    "Лучшая модель случайного леса имеет параметры **max_depth=5** и **n_estimators=30**.\n",
    "\n",
    "**sMAPE этой модели: 8.83**."
   ]
  },
  {
   "cell_type": "markdown",
   "metadata": {},
   "source": [
    "#### CatBoost"
   ]
  },
  {
   "cell_type": "code",
   "execution_count": 57,
   "metadata": {},
   "outputs": [],
   "source": [
    "y_train_rougher = y_train['rougher.output.recovery']\n",
    "y_train_final = y_train['final.output.recovery']\n",
    "y_test_rougher = y_test['rougher.output.recovery']\n",
    "y_test_final = y_test['final.output.recovery']\n",
    "\n",
    "model_cb = CatBoostRegressor()\n",
    "parameters_cb = {'n_estimators': range(1, 10),\n",
    "                'grow_policy': ['SymmetricTree', 'Depthwise', 'Lossguide'],\n",
    "                'depth': range(1,10)}"
   ]
  },
  {
   "cell_type": "code",
   "execution_count": 73,
   "metadata": {},
   "outputs": [
    {
     "name": "stderr",
     "output_type": "stream",
     "text": [
      "Custom logger is already specified. Specify more than one logger at same time is not thread safe."
     ]
    },
    {
     "name": "stdout",
     "output_type": "stream",
     "text": [
      "CPU times: user 8min, sys: 10.7 s, total: 8min 10s\n",
      "Wall time: 2min 42s\n"
     ]
    },
    {
     "data": {
      "text/plain": [
       "{'depth': 4, 'grow_policy': 'SymmetricTree', 'n_estimators': 6}"
      ]
     },
     "execution_count": 73,
     "metadata": {},
     "output_type": "execute_result"
    }
   ],
   "source": [
    "%%time\n",
    "\n",
    "grid_cb = GridSearchCV(model_cb, parameters_cb, cv=5, scoring=make_scorer(smape_ind, greater_is_better=False))\n",
    "grid_cb.fit(X_train, y_train_rougher, verbose=0)\n",
    "grid_cb.best_params_"
   ]
  },
  {
   "cell_type": "code",
   "execution_count": 74,
   "metadata": {},
   "outputs": [
    {
     "name": "stdout",
     "output_type": "stream",
     "text": [
      "Learning rate set to 0.5\n",
      "0:\tlearn: 6.3292852\ttotal: 9.87ms\tremaining: 49.4ms\n",
      "1:\tlearn: 5.5863422\ttotal: 20.7ms\tremaining: 41.4ms\n",
      "2:\tlearn: 5.2795698\ttotal: 30.9ms\tremaining: 30.9ms\n",
      "3:\tlearn: 5.0486332\ttotal: 40.9ms\tremaining: 20.5ms\n",
      "4:\tlearn: 4.9055675\ttotal: 50.5ms\tremaining: 10.1ms\n",
      "5:\tlearn: 4.7585276\ttotal: 60.4ms\tremaining: 0us\n"
     ]
    },
    {
     "data": {
      "text/plain": [
       "7.720920561071083"
      ]
     },
     "execution_count": 74,
     "metadata": {},
     "output_type": "execute_result"
    }
   ],
   "source": [
    "model_cb_rougher = CatBoostRegressor(depth=4, grow_policy='SymmetricTree', n_estimators=6)\n",
    "model_cb_rougher.fit(X_train, y_train_rougher)\n",
    "predicted_cb_rougher = model_cb_rougher.predict(X_test)\n",
    "smape_ind(y_test_rougher, predicted_cb_rougher)"
   ]
  },
  {
   "cell_type": "code",
   "execution_count": 75,
   "metadata": {},
   "outputs": [
    {
     "name": "stdout",
     "output_type": "stream",
     "text": [
      "CPU times: user 7min 47s, sys: 10.6 s, total: 7min 57s\n",
      "Wall time: 2min 39s\n"
     ]
    },
    {
     "data": {
      "text/plain": [
       "{'depth': 2, 'grow_policy': 'Lossguide', 'n_estimators': 5}"
      ]
     },
     "execution_count": 75,
     "metadata": {},
     "output_type": "execute_result"
    }
   ],
   "source": [
    "%%time\n",
    "\n",
    "grid_cb = GridSearchCV(model_cb, parameters_cb, cv=5, scoring=make_scorer(smape_ind, greater_is_better=False))\n",
    "grid_cb.fit(X_train, y_train_final, verbose=0)\n",
    "grid_cb.best_params_"
   ]
  },
  {
   "cell_type": "code",
   "execution_count": 76,
   "metadata": {},
   "outputs": [
    {
     "name": "stdout",
     "output_type": "stream",
     "text": [
      "Learning rate set to 0.5\n",
      "0:\tlearn: 7.9045048\ttotal: 4.15ms\tremaining: 16.6ms\n",
      "1:\tlearn: 7.5778449\ttotal: 12.2ms\tremaining: 18.3ms\n",
      "2:\tlearn: 7.3310308\ttotal: 16.7ms\tremaining: 11.2ms\n",
      "3:\tlearn: 7.1005030\ttotal: 20.4ms\tremaining: 5.11ms\n",
      "4:\tlearn: 6.9552047\ttotal: 23.6ms\tremaining: 0us\n"
     ]
    },
    {
     "data": {
      "text/plain": [
       "8.71856006920132"
      ]
     },
     "execution_count": 76,
     "metadata": {},
     "output_type": "execute_result"
    }
   ],
   "source": [
    "model_cb_final = CatBoostRegressor(depth=2, grow_policy='Lossguide', n_estimators=5)\n",
    "model_cb_final.fit(X_train, y_train_final)\n",
    "predicted_cb_final = model_cb_final.predict(X_test)\n",
    "smape_ind(y_test_final, predicted_cb_final)"
   ]
  },
  {
   "cell_type": "markdown",
   "metadata": {},
   "source": [
    "Посчитаем общее **sMAPE** для параметров, подобранных:\n",
    "* моделью **CatBoost** для предсказывания эффективности обогащения черногово концентрата (на этапе флотации)\n",
    "* моделью **CatBoost** для предсказывания обогащения финального концентрата (на выходе из второго этапа очистки)\n",
    "\n",
    "Мы помним, что итоговое **sMAPE** на 75% состоит из метрики для финального концентрата и только на 25% из чернового. "
   ]
  },
  {
   "cell_type": "code",
   "execution_count": 77,
   "metadata": {},
   "outputs": [
    {
     "name": "stdout",
     "output_type": "stream",
     "text": [
      "Learning rate set to 0.5\n",
      "0:\tlearn: 7.6925630\ttotal: 5.82ms\tremaining: 29.1ms\n",
      "1:\tlearn: 7.2794306\ttotal: 12.1ms\tremaining: 24.2ms\n",
      "2:\tlearn: 7.0242422\ttotal: 18.8ms\tremaining: 18.8ms\n",
      "3:\tlearn: 6.8573680\ttotal: 24.6ms\tremaining: 12.3ms\n",
      "4:\tlearn: 6.7578574\ttotal: 30.1ms\tremaining: 6.01ms\n",
      "5:\tlearn: 6.6766348\ttotal: 35.4ms\tremaining: 0us\n",
      "8.44944122152061\n"
     ]
    }
   ],
   "source": [
    "# best CatBoost model parameters for rougher \n",
    "\n",
    "model_cb_rougher.fit(X_train, y_train_final)\n",
    "predicted_cb_rougher_final = model_cb_rougher.predict(X_test)\n",
    "\n",
    "smape_1 = smape_ind(y_test_rougher, predicted_cb_rougher)\n",
    "smape_2 = smape_ind(y_test_final, predicted_cb_rougher_final)\n",
    "\n",
    "smape_total_rougher = smape_total(smape_1, smape_2)\n",
    "\n",
    "print(smape_total_rougher)"
   ]
  },
  {
   "cell_type": "code",
   "execution_count": 78,
   "metadata": {},
   "outputs": [
    {
     "name": "stdout",
     "output_type": "stream",
     "text": [
      "Learning rate set to 0.5\n",
      "0:\tlearn: 6.6769055\ttotal: 7.24ms\tremaining: 29ms\n",
      "1:\tlearn: 6.0397156\ttotal: 12.5ms\tremaining: 18.8ms\n",
      "2:\tlearn: 5.6669306\ttotal: 16.3ms\tremaining: 10.9ms\n",
      "3:\tlearn: 5.4593308\ttotal: 20.3ms\tremaining: 5.06ms\n",
      "4:\tlearn: 5.3175872\ttotal: 23.6ms\tremaining: 0us\n",
      "8.494396103845174\n"
     ]
    }
   ],
   "source": [
    "# best CatBoost model parameters for final \n",
    "\n",
    "model_cb_final.fit(X_train, y_train_rougher)\n",
    "predicted_cb_final_rougher = model_cb_final.predict(X_test)\n",
    "\n",
    "smape_1 = smape_ind(y_test_rougher, predicted_cb_final_rougher)\n",
    "smape_2 = smape_ind(y_test_final, predicted_cb_final)\n",
    "\n",
    "smape_total_rougher = smape_total(smape_1, smape_2)\n",
    "smape_cb = smape_total_rougher\n",
    "\n",
    "print(smape_total_rougher)"
   ]
  },
  {
   "cell_type": "markdown",
   "metadata": {},
   "source": [
    "Лучшая модель CatBoost имеет параметры **depth=4**, **grow_policy='SymmetricTree'** и **n_estimators=6**.\n",
    "\n",
    "**sMAPE этой модели: 8.49**."
   ]
  },
  {
   "cell_type": "markdown",
   "metadata": {},
   "source": [
    "#### Сравнение моделей"
   ]
  },
  {
   "cell_type": "markdown",
   "metadata": {},
   "source": [
    "Объединим все результаты в таблице. "
   ]
  },
  {
   "cell_type": "code",
   "execution_count": 79,
   "metadata": {},
   "outputs": [
    {
     "data": {
      "text/html": [
       "<div>\n",
       "<style scoped>\n",
       "    .dataframe tbody tr th:only-of-type {\n",
       "        vertical-align: middle;\n",
       "    }\n",
       "\n",
       "    .dataframe tbody tr th {\n",
       "        vertical-align: top;\n",
       "    }\n",
       "\n",
       "    .dataframe thead th {\n",
       "        text-align: right;\n",
       "    }\n",
       "</style>\n",
       "<table border=\"1\" class=\"dataframe\">\n",
       "  <thead>\n",
       "    <tr style=\"text-align: right;\">\n",
       "      <th></th>\n",
       "      <th>linear_regression</th>\n",
       "      <th>lasso_regression</th>\n",
       "      <th>ridge_regression</th>\n",
       "      <th>descision_tree</th>\n",
       "      <th>random_forest</th>\n",
       "      <th>catboost</th>\n",
       "    </tr>\n",
       "  </thead>\n",
       "  <tbody>\n",
       "    <tr>\n",
       "      <th>smape</th>\n",
       "      <td>8.84</td>\n",
       "      <td>8.1</td>\n",
       "      <td>8.83</td>\n",
       "      <td>9.21</td>\n",
       "      <td>8.74</td>\n",
       "      <td>8.49</td>\n",
       "    </tr>\n",
       "  </tbody>\n",
       "</table>\n",
       "</div>"
      ],
      "text/plain": [
       "       linear_regression  lasso_regression  ridge_regression  descision_tree  \\\n",
       "smape               8.84               8.1              8.83            9.21   \n",
       "\n",
       "       random_forest  catboost  \n",
       "smape           8.74      8.49  "
      ]
     },
     "execution_count": 79,
     "metadata": {},
     "output_type": "execute_result"
    }
   ],
   "source": [
    "model_smape_dict = {\n",
    "    'smape': [smape_lr, smape_lasso, smape_ridge, smape_dt, smape_rf, smape_cb]\n",
    "}\n",
    "model_smape_columns=['linear_regression', \n",
    "                    'lasso_regression', \n",
    "                    'ridge_regression', \n",
    "                    'descision_tree', \n",
    "                    'random_forest',\n",
    "                    'catboost']\n",
    "model_smape = pd.DataFrame(model_smape_dict).transpose().round(2)\n",
    "model_smape.columns = model_smape_columns\n",
    "\n",
    "model_smape"
   ]
  },
  {
   "cell_type": "markdown",
   "metadata": {},
   "source": [
    "Наилучшее значение метрики **sMAPE** показывает модель LASSO (8.1), а наихудшие - дерево решений (9.21). \n",
    "\n",
    "Проверим модель на адекватность при помощи DummyRegressor. "
   ]
  },
  {
   "cell_type": "markdown",
   "metadata": {},
   "source": [
    "### Оценка адекватности модели"
   ]
  },
  {
   "cell_type": "code",
   "execution_count": 80,
   "metadata": {},
   "outputs": [
    {
     "name": "stdout",
     "output_type": "stream",
     "text": [
      "Стратегия: mean\n",
      "Accuracy: 9.26746764615411\n",
      "\n",
      "Стратегия: median\n",
      "Accuracy: 8.972605277586712\n",
      "\n"
     ]
    }
   ],
   "source": [
    "for strategy in ['mean', 'median']:\n",
    "    dummy = DummyRegressor(strategy=strategy)\n",
    "    dummy.fit(X_train, y_train)\n",
    "    dummy_predictions = dummy.predict(X_test)\n",
    "    dummy_results = sMAPE(y_test, dummy_predictions)\n",
    "    \n",
    "    print('Стратегия:', strategy)\n",
    "    print('Accuracy:', dummy_results)\n",
    "    print()"
   ]
  },
  {
   "cell_type": "markdown",
   "metadata": {},
   "source": [
    "Самый умный Dummy показывает **sMAPE** в 8.97: это немного больше, чем у большинства моделей. Тем не менее, с уверенностью утверждать, что наша модель прошла проверку на адекватность, мы не можем: при значении метрики **sMAPE** от 0 до 100% разница между лучшей моделью (8.1) и лучшим результатом Dummy (8.97) не так значительна. \n",
    "\n",
    "Мы можем сказать, что наша лучшая модель предсказывает несколько лучше, чем примитивная, но не настолько хорошо, чтобы называть ее адекватной. "
   ]
  },
  {
   "cell_type": "markdown",
   "metadata": {},
   "source": [
    "### Промежуточные выводы"
   ]
  },
  {
   "cell_type": "markdown",
   "metadata": {},
   "source": [
    "Мы объявили функцию **sMAPE**, выделили признаки и целевые признаки, а также обучили шесть моделей:\n",
    "* линейная регрессия\n",
    "* регрессия LASSO\n",
    "* регрессия Ridge\n",
    "* дерево решений\n",
    "* случайный лес\n",
    "* CatBoost\n",
    "\n",
    "Лучшие показатели **sMAPE**, а именно **8.1**, показала модель **регрессии LASSO** при параметрах **fit_intercept=True**, **normalize='deprecated'** и **selection='cyclic'**.\n",
    "\n",
    "При проверке модели на адекватность при помощи **DummyRegressor** было получено значение **sMAPE**, равное 8.97. Это значение было получено при оценки модели, которая всегда предсказывает медианное значение. Несомненно, это показатель чуть выше показателя лучшей модели, но все же адекватной нашу модель назвать, к сожалению, не приходится. "
   ]
  },
  {
   "cell_type": "markdown",
   "metadata": {},
   "source": [
    "## Общие выводы"
   ]
  },
  {
   "cell_type": "markdown",
   "metadata": {},
   "source": [
    "**Задача состояла в том, чтобы подготовить прототип модели машинного обучения для предсказаний коэффициента восстановления золота из золотосодержащей руды.**\n",
    "\n",
    "**Модель должна максимально точно предсказываться два целевых признака:** `rougher.output.recovery` и `final.output.recovery`.\n",
    "\n",
    "**_На этапе подготовки данных_** мы изучили три базы данных - **`df_full`**, **`df_train`** и **`df_test`**. Было обнаружено, что в тестовой базе данных отсутствуют признаки категории **\"output\"**, и признаки рассчета флотации **\"rougher.calculation\"**. \n",
    "\n",
    "Мы поработали с пропусками в **`df_train`** и **`df_test`**. **Заполнили большую часть пропусков в обучающей выборке про помощи метода _ffill_**, так как данные в датафреймах индексируются по дате и времени получения информации и соседние значения похожи. Остальные пропуски мы позволили себе удалить - их было совсем не много. \n",
    "\n",
    "Мы также **удостоверились, что эффективность обогащения рассчитана правильно**: рассчитали ее по формуле **Recovery** на обучающей выборке для признака `rougher.output.recovery` и нашли MAE между нашими расчётами и значением признака. Значение MAE оказалось очень близко к нулю, а значит формула корректна. \n",
    "\n",
    "Далее мы провели **_анализ данных_**: рассмотрели, как меняется концентрация металлов по этапам очистки и как распределяются размеры гранул сырья в обучающей и тестовой выборках. Также изучили, как меняется суммарная концентрация всех веществ на различных этапах очистки. \n",
    "\n",
    "Выяснили, что **по ходу растет концентрация золота и снижается концентрация практически всех остальных металлов**. Однако, свинец ведет себя немного странно: его концентрация несколько растет на этапах флотации и первичной очистки, а на втором этапе очистки она значительно выше исходной. Возможно, дело в технологичестких нюансах и нюансах поведения металлов. Тем не менее, на втором этапе очистки золота, как и должно быть, значительно больше всего остального  \n",
    "\n",
    "Затем мы удостоверились, что **распределения размеров гранул сырья на обучающей и тестовой выборках похожи, значит, не стоит беспокоиться, что оценка модели будет некорректной (по этой причине).**\n",
    "\n",
    "При рассмотрении **суммарной концентрации металлов по этапам очистки**, мы заметили, что эта концентрация всех веществ изменяется и **на втором этапе сжимается к медиане и по своему распределению походит на распределение золота** - это объясняется тем, что на втором этапе очистки эта самая суммарная концентрация в большой мере из золота и состоит. \n",
    "Также при изучении суммарной концентрации **были обнаружены выбросы** - околонулевые значения; эти выбросы мы **удалили из обучающей выборки** для улучшения точности модели.\n",
    "\n",
    "Затем пришло время для машинного обучения! Сначала мы ввели скоринг - функцию для рассчета **sMAPE**. Затем выделили признаки и целевые признаки, а также **обучили шесть моделей:**\n",
    "* линейная регрессия\n",
    "* регрессия LASSO\n",
    "* регрессия Ridge\n",
    "* дерево решений\n",
    "* случайный лес\n",
    "* CatBoost\n",
    "\n",
    "Лучшие показатели **sMAPE**, **8.1**, показала модель **регрессии LASSO** при параметрах **fit_intercept=True**, **normalize='deprecated'** и **selection='cyclic'**.\n",
    "\n",
    "При проверке модели на адекватность при помощи **DummyRegressor** возникли сомнения: лучшее значение **sMAPE** у Dummy получилось 8.97, что несильно больше, чем результат нашей лучшей модели (8.1). Можно сделать вывод, что **наша модель предсказывает несколько лучше примитивной, но не настолько лучше, чтобы считать ее адекватной.** "
   ]
  }
 ],
 "metadata": {
  "ExecuteTimeLog": [
   {
    "duration": 2439,
    "start_time": "2022-03-31T15:37:31.383Z"
   },
   {
    "duration": 6,
    "start_time": "2022-03-31T15:54:07.209Z"
   },
   {
    "duration": 2122,
    "start_time": "2022-03-31T15:54:07.217Z"
   },
   {
    "duration": 868,
    "start_time": "2022-03-31T15:54:09.341Z"
   },
   {
    "duration": 29,
    "start_time": "2022-03-31T15:54:10.211Z"
   },
   {
    "duration": 52,
    "start_time": "2022-03-31T15:54:10.242Z"
   },
   {
    "duration": 14,
    "start_time": "2022-03-31T15:54:10.296Z"
   },
   {
    "duration": 25,
    "start_time": "2022-03-31T15:54:10.312Z"
   },
   {
    "duration": 59,
    "start_time": "2022-03-31T15:54:10.339Z"
   },
   {
    "duration": 14,
    "start_time": "2022-03-31T15:54:10.402Z"
   },
   {
    "duration": 10,
    "start_time": "2022-03-31T15:54:10.418Z"
   },
   {
    "duration": 57,
    "start_time": "2022-03-31T15:54:10.430Z"
   },
   {
    "duration": 30,
    "start_time": "2022-03-31T15:54:10.489Z"
   },
   {
    "duration": 24,
    "start_time": "2022-03-31T15:54:10.521Z"
   },
   {
    "duration": 8,
    "start_time": "2022-03-31T15:54:10.548Z"
   },
   {
    "duration": 26,
    "start_time": "2022-03-31T15:54:10.559Z"
   },
   {
    "duration": 14,
    "start_time": "2022-03-31T15:54:10.588Z"
   },
   {
    "duration": 187,
    "start_time": "2022-03-31T15:54:10.604Z"
   },
   {
    "duration": 0,
    "start_time": "2022-03-31T15:54:10.795Z"
   },
   {
    "duration": 0,
    "start_time": "2022-03-31T15:54:10.797Z"
   },
   {
    "duration": 0,
    "start_time": "2022-03-31T15:54:10.798Z"
   },
   {
    "duration": 0,
    "start_time": "2022-03-31T15:54:10.800Z"
   },
   {
    "duration": 0,
    "start_time": "2022-03-31T15:54:10.802Z"
   },
   {
    "duration": 0,
    "start_time": "2022-03-31T15:54:10.803Z"
   },
   {
    "duration": 0,
    "start_time": "2022-03-31T15:54:10.805Z"
   },
   {
    "duration": 0,
    "start_time": "2022-03-31T15:54:10.807Z"
   },
   {
    "duration": 0,
    "start_time": "2022-03-31T15:54:10.808Z"
   },
   {
    "duration": 0,
    "start_time": "2022-03-31T15:54:10.809Z"
   },
   {
    "duration": 0,
    "start_time": "2022-03-31T15:54:10.811Z"
   },
   {
    "duration": 0,
    "start_time": "2022-03-31T15:54:10.813Z"
   },
   {
    "duration": 0,
    "start_time": "2022-03-31T15:54:10.814Z"
   },
   {
    "duration": 0,
    "start_time": "2022-03-31T15:54:10.816Z"
   },
   {
    "duration": 0,
    "start_time": "2022-03-31T15:54:10.817Z"
   },
   {
    "duration": 0,
    "start_time": "2022-03-31T15:54:10.819Z"
   },
   {
    "duration": 0,
    "start_time": "2022-03-31T15:54:10.821Z"
   },
   {
    "duration": 0,
    "start_time": "2022-03-31T15:54:10.822Z"
   },
   {
    "duration": 0,
    "start_time": "2022-03-31T15:54:10.824Z"
   },
   {
    "duration": 0,
    "start_time": "2022-03-31T15:54:10.825Z"
   },
   {
    "duration": 0,
    "start_time": "2022-03-31T15:54:10.827Z"
   },
   {
    "duration": 0,
    "start_time": "2022-03-31T15:54:10.884Z"
   },
   {
    "duration": 0,
    "start_time": "2022-03-31T15:54:10.886Z"
   },
   {
    "duration": 0,
    "start_time": "2022-03-31T15:54:10.888Z"
   },
   {
    "duration": 0,
    "start_time": "2022-03-31T15:54:10.889Z"
   },
   {
    "duration": 0,
    "start_time": "2022-03-31T15:54:10.891Z"
   },
   {
    "duration": 0,
    "start_time": "2022-03-31T15:54:10.892Z"
   },
   {
    "duration": 0,
    "start_time": "2022-03-31T15:54:10.893Z"
   },
   {
    "duration": 0,
    "start_time": "2022-03-31T15:54:10.895Z"
   },
   {
    "duration": 0,
    "start_time": "2022-03-31T15:54:10.896Z"
   },
   {
    "duration": 0,
    "start_time": "2022-03-31T15:54:10.897Z"
   },
   {
    "duration": 0,
    "start_time": "2022-03-31T15:54:10.899Z"
   },
   {
    "duration": 0,
    "start_time": "2022-03-31T15:54:10.900Z"
   },
   {
    "duration": 0,
    "start_time": "2022-03-31T15:54:10.901Z"
   },
   {
    "duration": 0,
    "start_time": "2022-03-31T15:54:10.902Z"
   },
   {
    "duration": 0,
    "start_time": "2022-03-31T15:54:10.904Z"
   },
   {
    "duration": 0,
    "start_time": "2022-03-31T15:54:10.905Z"
   },
   {
    "duration": 1,
    "start_time": "2022-03-31T15:54:10.906Z"
   },
   {
    "duration": 0,
    "start_time": "2022-03-31T15:54:10.908Z"
   },
   {
    "duration": 0,
    "start_time": "2022-03-31T15:54:10.909Z"
   },
   {
    "duration": 0,
    "start_time": "2022-03-31T15:54:10.910Z"
   },
   {
    "duration": 0,
    "start_time": "2022-03-31T15:54:10.911Z"
   },
   {
    "duration": 23,
    "start_time": "2022-03-31T15:55:07.207Z"
   },
   {
    "duration": 172,
    "start_time": "2022-03-31T18:50:33.934Z"
   }
  ],
  "kernelspec": {
   "display_name": "Python 3 (ipykernel)",
   "language": "python",
   "name": "python3"
  },
  "language_info": {
   "codemirror_mode": {
    "name": "ipython",
    "version": 3
   },
   "file_extension": ".py",
   "mimetype": "text/x-python",
   "name": "python",
   "nbconvert_exporter": "python",
   "pygments_lexer": "ipython3",
   "version": "3.9.7"
  },
  "toc": {
   "base_numbering": 1,
   "nav_menu": {},
   "number_sections": true,
   "sideBar": true,
   "skip_h1_title": true,
   "title_cell": "Содержание",
   "title_sidebar": "Contents",
   "toc_cell": true,
   "toc_position": {
    "height": "calc(100% - 180px)",
    "left": "10px",
    "top": "150px",
    "width": "270.398px"
   },
   "toc_section_display": true,
   "toc_window_display": true
  }
 },
 "nbformat": 4,
 "nbformat_minor": 2
}
