{
 "cells": [
  {
   "cell_type": "markdown",
   "metadata": {},
   "source": [
    "# Определение перспективного тарифа для телеком-компании"
   ]
  },
  {
   "cell_type": "markdown",
   "metadata": {},
   "source": [
    "**Описание проекта**\n",
    "\n",
    "Вы аналитик компании «Мегалайн» — федерального оператора сотовой связи. Клиентам предлагают два тарифных плана: «Смарт» и «Ультра». Чтобы скорректировать рекламный бюджет, коммерческий департамент хочет понять, какой тариф приносит больше денег.\n",
    "Вам предстоит сделать предварительный анализ тарифов на небольшой выборке клиентов. В вашем распоряжении данные 500 пользователей «Мегалайна»: кто они, откуда, каким тарифом пользуются, сколько звонков и сообщений каждый отправил за 2018 год. Нужно проанализировать поведение клиентов и сделать вывод — какой тариф лучше."
   ]
  },
  {
   "cell_type": "markdown",
   "metadata": {},
   "source": [
    "## Обзор данных"
   ]
  },
  {
   "cell_type": "markdown",
   "metadata": {},
   "source": [
    "На этом этапе мы получим самую общую информацию о данных."
   ]
  },
  {
   "cell_type": "code",
   "execution_count": 1,
   "metadata": {},
   "outputs": [],
   "source": [
    "import pandas as pd\n",
    "import matplotlib.pyplot as plt\n",
    "from scipy import stats as st\n",
    "import numpy as np"
   ]
  },
  {
   "cell_type": "code",
   "execution_count": 2,
   "metadata": {},
   "outputs": [],
   "source": [
    "calls = pd.read_csv('/datasets/calls.csv')"
   ]
  },
  {
   "cell_type": "code",
   "execution_count": 3,
   "metadata": {},
   "outputs": [
    {
     "data": {
      "text/html": [
       "<div>\n",
       "<style scoped>\n",
       "    .dataframe tbody tr th:only-of-type {\n",
       "        vertical-align: middle;\n",
       "    }\n",
       "\n",
       "    .dataframe tbody tr th {\n",
       "        vertical-align: top;\n",
       "    }\n",
       "\n",
       "    .dataframe thead th {\n",
       "        text-align: right;\n",
       "    }\n",
       "</style>\n",
       "<table border=\"1\" class=\"dataframe\">\n",
       "  <thead>\n",
       "    <tr style=\"text-align: right;\">\n",
       "      <th></th>\n",
       "      <th>id</th>\n",
       "      <th>call_date</th>\n",
       "      <th>duration</th>\n",
       "      <th>user_id</th>\n",
       "    </tr>\n",
       "  </thead>\n",
       "  <tbody>\n",
       "    <tr>\n",
       "      <td>0</td>\n",
       "      <td>1000_0</td>\n",
       "      <td>2018-07-25</td>\n",
       "      <td>0.00</td>\n",
       "      <td>1000</td>\n",
       "    </tr>\n",
       "    <tr>\n",
       "      <td>1</td>\n",
       "      <td>1000_1</td>\n",
       "      <td>2018-08-17</td>\n",
       "      <td>0.00</td>\n",
       "      <td>1000</td>\n",
       "    </tr>\n",
       "    <tr>\n",
       "      <td>2</td>\n",
       "      <td>1000_2</td>\n",
       "      <td>2018-06-11</td>\n",
       "      <td>2.85</td>\n",
       "      <td>1000</td>\n",
       "    </tr>\n",
       "    <tr>\n",
       "      <td>3</td>\n",
       "      <td>1000_3</td>\n",
       "      <td>2018-09-21</td>\n",
       "      <td>13.80</td>\n",
       "      <td>1000</td>\n",
       "    </tr>\n",
       "    <tr>\n",
       "      <td>4</td>\n",
       "      <td>1000_4</td>\n",
       "      <td>2018-12-15</td>\n",
       "      <td>5.18</td>\n",
       "      <td>1000</td>\n",
       "    </tr>\n",
       "  </tbody>\n",
       "</table>\n",
       "</div>"
      ],
      "text/plain": [
       "       id   call_date  duration  user_id\n",
       "0  1000_0  2018-07-25      0.00     1000\n",
       "1  1000_1  2018-08-17      0.00     1000\n",
       "2  1000_2  2018-06-11      2.85     1000\n",
       "3  1000_3  2018-09-21     13.80     1000\n",
       "4  1000_4  2018-12-15      5.18     1000"
      ]
     },
     "execution_count": 3,
     "metadata": {},
     "output_type": "execute_result"
    }
   ],
   "source": [
    "calls.head()"
   ]
  },
  {
   "cell_type": "code",
   "execution_count": 4,
   "metadata": {},
   "outputs": [],
   "source": [
    "internet = pd.read_csv('/datasets/internet.csv', index_col=0)"
   ]
  },
  {
   "cell_type": "code",
   "execution_count": 5,
   "metadata": {},
   "outputs": [
    {
     "data": {
      "text/html": [
       "<div>\n",
       "<style scoped>\n",
       "    .dataframe tbody tr th:only-of-type {\n",
       "        vertical-align: middle;\n",
       "    }\n",
       "\n",
       "    .dataframe tbody tr th {\n",
       "        vertical-align: top;\n",
       "    }\n",
       "\n",
       "    .dataframe thead th {\n",
       "        text-align: right;\n",
       "    }\n",
       "</style>\n",
       "<table border=\"1\" class=\"dataframe\">\n",
       "  <thead>\n",
       "    <tr style=\"text-align: right;\">\n",
       "      <th></th>\n",
       "      <th>id</th>\n",
       "      <th>mb_used</th>\n",
       "      <th>session_date</th>\n",
       "      <th>user_id</th>\n",
       "    </tr>\n",
       "  </thead>\n",
       "  <tbody>\n",
       "    <tr>\n",
       "      <td>0</td>\n",
       "      <td>1000_0</td>\n",
       "      <td>112.95</td>\n",
       "      <td>2018-11-25</td>\n",
       "      <td>1000</td>\n",
       "    </tr>\n",
       "    <tr>\n",
       "      <td>1</td>\n",
       "      <td>1000_1</td>\n",
       "      <td>1052.81</td>\n",
       "      <td>2018-09-07</td>\n",
       "      <td>1000</td>\n",
       "    </tr>\n",
       "    <tr>\n",
       "      <td>2</td>\n",
       "      <td>1000_2</td>\n",
       "      <td>1197.26</td>\n",
       "      <td>2018-06-25</td>\n",
       "      <td>1000</td>\n",
       "    </tr>\n",
       "    <tr>\n",
       "      <td>3</td>\n",
       "      <td>1000_3</td>\n",
       "      <td>550.27</td>\n",
       "      <td>2018-08-22</td>\n",
       "      <td>1000</td>\n",
       "    </tr>\n",
       "    <tr>\n",
       "      <td>4</td>\n",
       "      <td>1000_4</td>\n",
       "      <td>302.56</td>\n",
       "      <td>2018-09-24</td>\n",
       "      <td>1000</td>\n",
       "    </tr>\n",
       "  </tbody>\n",
       "</table>\n",
       "</div>"
      ],
      "text/plain": [
       "       id  mb_used session_date  user_id\n",
       "0  1000_0   112.95   2018-11-25     1000\n",
       "1  1000_1  1052.81   2018-09-07     1000\n",
       "2  1000_2  1197.26   2018-06-25     1000\n",
       "3  1000_3   550.27   2018-08-22     1000\n",
       "4  1000_4   302.56   2018-09-24     1000"
      ]
     },
     "execution_count": 5,
     "metadata": {},
     "output_type": "execute_result"
    }
   ],
   "source": [
    "internet.head()"
   ]
  },
  {
   "cell_type": "code",
   "execution_count": 6,
   "metadata": {},
   "outputs": [],
   "source": [
    "messages = pd.read_csv('/datasets/messages.csv')"
   ]
  },
  {
   "cell_type": "code",
   "execution_count": 7,
   "metadata": {},
   "outputs": [
    {
     "data": {
      "text/html": [
       "<div>\n",
       "<style scoped>\n",
       "    .dataframe tbody tr th:only-of-type {\n",
       "        vertical-align: middle;\n",
       "    }\n",
       "\n",
       "    .dataframe tbody tr th {\n",
       "        vertical-align: top;\n",
       "    }\n",
       "\n",
       "    .dataframe thead th {\n",
       "        text-align: right;\n",
       "    }\n",
       "</style>\n",
       "<table border=\"1\" class=\"dataframe\">\n",
       "  <thead>\n",
       "    <tr style=\"text-align: right;\">\n",
       "      <th></th>\n",
       "      <th>id</th>\n",
       "      <th>message_date</th>\n",
       "      <th>user_id</th>\n",
       "    </tr>\n",
       "  </thead>\n",
       "  <tbody>\n",
       "    <tr>\n",
       "      <td>0</td>\n",
       "      <td>1000_0</td>\n",
       "      <td>2018-06-27</td>\n",
       "      <td>1000</td>\n",
       "    </tr>\n",
       "    <tr>\n",
       "      <td>1</td>\n",
       "      <td>1000_1</td>\n",
       "      <td>2018-10-08</td>\n",
       "      <td>1000</td>\n",
       "    </tr>\n",
       "    <tr>\n",
       "      <td>2</td>\n",
       "      <td>1000_2</td>\n",
       "      <td>2018-08-04</td>\n",
       "      <td>1000</td>\n",
       "    </tr>\n",
       "    <tr>\n",
       "      <td>3</td>\n",
       "      <td>1000_3</td>\n",
       "      <td>2018-06-16</td>\n",
       "      <td>1000</td>\n",
       "    </tr>\n",
       "    <tr>\n",
       "      <td>4</td>\n",
       "      <td>1000_4</td>\n",
       "      <td>2018-12-05</td>\n",
       "      <td>1000</td>\n",
       "    </tr>\n",
       "  </tbody>\n",
       "</table>\n",
       "</div>"
      ],
      "text/plain": [
       "       id message_date  user_id\n",
       "0  1000_0   2018-06-27     1000\n",
       "1  1000_1   2018-10-08     1000\n",
       "2  1000_2   2018-08-04     1000\n",
       "3  1000_3   2018-06-16     1000\n",
       "4  1000_4   2018-12-05     1000"
      ]
     },
     "execution_count": 7,
     "metadata": {},
     "output_type": "execute_result"
    }
   ],
   "source": [
    "messages.head()"
   ]
  },
  {
   "cell_type": "code",
   "execution_count": 8,
   "metadata": {},
   "outputs": [],
   "source": [
    "tariffs = pd.read_csv('/datasets/tariffs.csv')"
   ]
  },
  {
   "cell_type": "code",
   "execution_count": 9,
   "metadata": {},
   "outputs": [
    {
     "data": {
      "text/html": [
       "<div>\n",
       "<style scoped>\n",
       "    .dataframe tbody tr th:only-of-type {\n",
       "        vertical-align: middle;\n",
       "    }\n",
       "\n",
       "    .dataframe tbody tr th {\n",
       "        vertical-align: top;\n",
       "    }\n",
       "\n",
       "    .dataframe thead th {\n",
       "        text-align: right;\n",
       "    }\n",
       "</style>\n",
       "<table border=\"1\" class=\"dataframe\">\n",
       "  <thead>\n",
       "    <tr style=\"text-align: right;\">\n",
       "      <th></th>\n",
       "      <th>messages_included</th>\n",
       "      <th>mb_per_month_included</th>\n",
       "      <th>minutes_included</th>\n",
       "      <th>rub_monthly_fee</th>\n",
       "      <th>rub_per_gb</th>\n",
       "      <th>rub_per_message</th>\n",
       "      <th>rub_per_minute</th>\n",
       "      <th>tariff_name</th>\n",
       "    </tr>\n",
       "  </thead>\n",
       "  <tbody>\n",
       "    <tr>\n",
       "      <td>0</td>\n",
       "      <td>50</td>\n",
       "      <td>15360</td>\n",
       "      <td>500</td>\n",
       "      <td>550</td>\n",
       "      <td>200</td>\n",
       "      <td>3</td>\n",
       "      <td>3</td>\n",
       "      <td>smart</td>\n",
       "    </tr>\n",
       "    <tr>\n",
       "      <td>1</td>\n",
       "      <td>1000</td>\n",
       "      <td>30720</td>\n",
       "      <td>3000</td>\n",
       "      <td>1950</td>\n",
       "      <td>150</td>\n",
       "      <td>1</td>\n",
       "      <td>1</td>\n",
       "      <td>ultra</td>\n",
       "    </tr>\n",
       "  </tbody>\n",
       "</table>\n",
       "</div>"
      ],
      "text/plain": [
       "   messages_included  mb_per_month_included  minutes_included  \\\n",
       "0                 50                  15360               500   \n",
       "1               1000                  30720              3000   \n",
       "\n",
       "   rub_monthly_fee  rub_per_gb  rub_per_message  rub_per_minute tariff_name  \n",
       "0              550         200                3               3       smart  \n",
       "1             1950         150                1               1       ultra  "
      ]
     },
     "execution_count": 9,
     "metadata": {},
     "output_type": "execute_result"
    }
   ],
   "source": [
    "tariffs.head()"
   ]
  },
  {
   "cell_type": "code",
   "execution_count": 10,
   "metadata": {},
   "outputs": [],
   "source": [
    "users = pd.read_csv('/datasets/users.csv')"
   ]
  },
  {
   "cell_type": "code",
   "execution_count": 11,
   "metadata": {},
   "outputs": [
    {
     "data": {
      "text/html": [
       "<div>\n",
       "<style scoped>\n",
       "    .dataframe tbody tr th:only-of-type {\n",
       "        vertical-align: middle;\n",
       "    }\n",
       "\n",
       "    .dataframe tbody tr th {\n",
       "        vertical-align: top;\n",
       "    }\n",
       "\n",
       "    .dataframe thead th {\n",
       "        text-align: right;\n",
       "    }\n",
       "</style>\n",
       "<table border=\"1\" class=\"dataframe\">\n",
       "  <thead>\n",
       "    <tr style=\"text-align: right;\">\n",
       "      <th></th>\n",
       "      <th>user_id</th>\n",
       "      <th>age</th>\n",
       "      <th>churn_date</th>\n",
       "      <th>city</th>\n",
       "      <th>first_name</th>\n",
       "      <th>last_name</th>\n",
       "      <th>reg_date</th>\n",
       "      <th>tariff</th>\n",
       "    </tr>\n",
       "  </thead>\n",
       "  <tbody>\n",
       "    <tr>\n",
       "      <td>0</td>\n",
       "      <td>1000</td>\n",
       "      <td>52</td>\n",
       "      <td>NaN</td>\n",
       "      <td>Краснодар</td>\n",
       "      <td>Рафаил</td>\n",
       "      <td>Верещагин</td>\n",
       "      <td>2018-05-25</td>\n",
       "      <td>ultra</td>\n",
       "    </tr>\n",
       "    <tr>\n",
       "      <td>1</td>\n",
       "      <td>1001</td>\n",
       "      <td>41</td>\n",
       "      <td>NaN</td>\n",
       "      <td>Москва</td>\n",
       "      <td>Иван</td>\n",
       "      <td>Ежов</td>\n",
       "      <td>2018-11-01</td>\n",
       "      <td>smart</td>\n",
       "    </tr>\n",
       "    <tr>\n",
       "      <td>2</td>\n",
       "      <td>1002</td>\n",
       "      <td>59</td>\n",
       "      <td>NaN</td>\n",
       "      <td>Стерлитамак</td>\n",
       "      <td>Евгений</td>\n",
       "      <td>Абрамович</td>\n",
       "      <td>2018-06-17</td>\n",
       "      <td>smart</td>\n",
       "    </tr>\n",
       "    <tr>\n",
       "      <td>3</td>\n",
       "      <td>1003</td>\n",
       "      <td>23</td>\n",
       "      <td>NaN</td>\n",
       "      <td>Москва</td>\n",
       "      <td>Белла</td>\n",
       "      <td>Белякова</td>\n",
       "      <td>2018-08-17</td>\n",
       "      <td>ultra</td>\n",
       "    </tr>\n",
       "    <tr>\n",
       "      <td>4</td>\n",
       "      <td>1004</td>\n",
       "      <td>68</td>\n",
       "      <td>NaN</td>\n",
       "      <td>Новокузнецк</td>\n",
       "      <td>Татьяна</td>\n",
       "      <td>Авдеенко</td>\n",
       "      <td>2018-05-14</td>\n",
       "      <td>ultra</td>\n",
       "    </tr>\n",
       "  </tbody>\n",
       "</table>\n",
       "</div>"
      ],
      "text/plain": [
       "   user_id  age churn_date         city first_name  last_name    reg_date  \\\n",
       "0     1000   52        NaN    Краснодар     Рафаил  Верещагин  2018-05-25   \n",
       "1     1001   41        NaN       Москва       Иван       Ежов  2018-11-01   \n",
       "2     1002   59        NaN  Стерлитамак    Евгений  Абрамович  2018-06-17   \n",
       "3     1003   23        NaN       Москва      Белла   Белякова  2018-08-17   \n",
       "4     1004   68        NaN  Новокузнецк    Татьяна   Авдеенко  2018-05-14   \n",
       "\n",
       "  tariff  \n",
       "0  ultra  \n",
       "1  smart  \n",
       "2  smart  \n",
       "3  ultra  \n",
       "4  ultra  "
      ]
     },
     "execution_count": 11,
     "metadata": {},
     "output_type": "execute_result"
    }
   ],
   "source": [
    "users.head()"
   ]
  },
  {
   "cell_type": "code",
   "execution_count": 12,
   "metadata": {},
   "outputs": [
    {
     "name": "stdout",
     "output_type": "stream",
     "text": [
      "<class 'pandas.core.frame.DataFrame'>\n",
      "RangeIndex: 202607 entries, 0 to 202606\n",
      "Data columns (total 4 columns):\n",
      "id           202607 non-null object\n",
      "call_date    202607 non-null object\n",
      "duration     202607 non-null float64\n",
      "user_id      202607 non-null int64\n",
      "dtypes: float64(1), int64(1), object(2)\n",
      "memory usage: 6.2+ MB\n",
      "None\n",
      "\n",
      "<class 'pandas.core.frame.DataFrame'>\n",
      "Int64Index: 149396 entries, 0 to 149395\n",
      "Data columns (total 4 columns):\n",
      "id              149396 non-null object\n",
      "mb_used         149396 non-null float64\n",
      "session_date    149396 non-null object\n",
      "user_id         149396 non-null int64\n",
      "dtypes: float64(1), int64(1), object(2)\n",
      "memory usage: 5.7+ MB\n",
      "None\n",
      "\n",
      "<class 'pandas.core.frame.DataFrame'>\n",
      "RangeIndex: 123036 entries, 0 to 123035\n",
      "Data columns (total 3 columns):\n",
      "id              123036 non-null object\n",
      "message_date    123036 non-null object\n",
      "user_id         123036 non-null int64\n",
      "dtypes: int64(1), object(2)\n",
      "memory usage: 2.8+ MB\n",
      "None\n",
      "\n",
      "<class 'pandas.core.frame.DataFrame'>\n",
      "RangeIndex: 2 entries, 0 to 1\n",
      "Data columns (total 8 columns):\n",
      "messages_included        2 non-null int64\n",
      "mb_per_month_included    2 non-null int64\n",
      "minutes_included         2 non-null int64\n",
      "rub_monthly_fee          2 non-null int64\n",
      "rub_per_gb               2 non-null int64\n",
      "rub_per_message          2 non-null int64\n",
      "rub_per_minute           2 non-null int64\n",
      "tariff_name              2 non-null object\n",
      "dtypes: int64(7), object(1)\n",
      "memory usage: 256.0+ bytes\n",
      "None\n",
      "\n",
      "<class 'pandas.core.frame.DataFrame'>\n",
      "RangeIndex: 500 entries, 0 to 499\n",
      "Data columns (total 8 columns):\n",
      "user_id       500 non-null int64\n",
      "age           500 non-null int64\n",
      "churn_date    38 non-null object\n",
      "city          500 non-null object\n",
      "first_name    500 non-null object\n",
      "last_name     500 non-null object\n",
      "reg_date      500 non-null object\n",
      "tariff        500 non-null object\n",
      "dtypes: int64(2), object(6)\n",
      "memory usage: 31.4+ KB\n",
      "None\n",
      "\n"
     ]
    }
   ],
   "source": [
    "for i in [calls, internet, messages, tariffs, users]:\n",
    "    print (i.info(), end='\\n\\n')"
   ]
  },
  {
   "cell_type": "markdown",
   "metadata": {},
   "source": [
    "Все колонки, обозначающие дату, имеют тип _object_. Их нужно будет поменять на _datetime_. "
   ]
  },
  {
   "cell_type": "markdown",
   "metadata": {},
   "source": [
    "Пропуски имеются только в `churn_date` таблицы **`users`**. В этой колонке внесена дата прекращения пользования тарифом. Однако, нам известно, что пропущенные значения в этой колонке означают, что пользователь на момент выгрузки данных о тарифа не отказывался. "
   ]
  },
  {
   "cell_type": "markdown",
   "metadata": {},
   "source": [
    "После получения общей информации о данных, посмотрим на нее немного подробнее: изучим каждую таблицу по очереди и внесем необходимые изменения. "
   ]
  },
  {
   "cell_type": "markdown",
   "metadata": {},
   "source": [
    "## Подробное изучение всех таблиц и предобработка данных"
   ]
  },
  {
   "cell_type": "markdown",
   "metadata": {},
   "source": [
    "### Таблица `calls`"
   ]
  },
  {
   "cell_type": "code",
   "execution_count": 13,
   "metadata": {},
   "outputs": [
    {
     "data": {
      "text/html": [
       "<div>\n",
       "<style scoped>\n",
       "    .dataframe tbody tr th:only-of-type {\n",
       "        vertical-align: middle;\n",
       "    }\n",
       "\n",
       "    .dataframe tbody tr th {\n",
       "        vertical-align: top;\n",
       "    }\n",
       "\n",
       "    .dataframe thead th {\n",
       "        text-align: right;\n",
       "    }\n",
       "</style>\n",
       "<table border=\"1\" class=\"dataframe\">\n",
       "  <thead>\n",
       "    <tr style=\"text-align: right;\">\n",
       "      <th></th>\n",
       "      <th>id</th>\n",
       "      <th>call_date</th>\n",
       "      <th>duration</th>\n",
       "      <th>user_id</th>\n",
       "    </tr>\n",
       "  </thead>\n",
       "  <tbody>\n",
       "    <tr>\n",
       "      <td>0</td>\n",
       "      <td>1000_0</td>\n",
       "      <td>2018-07-25</td>\n",
       "      <td>0.00</td>\n",
       "      <td>1000</td>\n",
       "    </tr>\n",
       "    <tr>\n",
       "      <td>1</td>\n",
       "      <td>1000_1</td>\n",
       "      <td>2018-08-17</td>\n",
       "      <td>0.00</td>\n",
       "      <td>1000</td>\n",
       "    </tr>\n",
       "    <tr>\n",
       "      <td>2</td>\n",
       "      <td>1000_2</td>\n",
       "      <td>2018-06-11</td>\n",
       "      <td>2.85</td>\n",
       "      <td>1000</td>\n",
       "    </tr>\n",
       "    <tr>\n",
       "      <td>3</td>\n",
       "      <td>1000_3</td>\n",
       "      <td>2018-09-21</td>\n",
       "      <td>13.80</td>\n",
       "      <td>1000</td>\n",
       "    </tr>\n",
       "    <tr>\n",
       "      <td>4</td>\n",
       "      <td>1000_4</td>\n",
       "      <td>2018-12-15</td>\n",
       "      <td>5.18</td>\n",
       "      <td>1000</td>\n",
       "    </tr>\n",
       "  </tbody>\n",
       "</table>\n",
       "</div>"
      ],
      "text/plain": [
       "       id   call_date  duration  user_id\n",
       "0  1000_0  2018-07-25      0.00     1000\n",
       "1  1000_1  2018-08-17      0.00     1000\n",
       "2  1000_2  2018-06-11      2.85     1000\n",
       "3  1000_3  2018-09-21     13.80     1000\n",
       "4  1000_4  2018-12-15      5.18     1000"
      ]
     },
     "execution_count": 13,
     "metadata": {},
     "output_type": "execute_result"
    }
   ],
   "source": [
    "calls.head()"
   ]
  },
  {
   "cell_type": "markdown",
   "metadata": {},
   "source": [
    "Нам необходимо привести `call_date` к формату _datetime_. Также, как нам известно из описания базы данных, длительность звонков оператор округляет в большую сторону - то есть 1 секунда разговора считается как минута. При этом, \"нулевые\" звонки - не ошибки в базе, а индикатор того, что звонок не состоялся. Со звонками продолжительностью 0 секунд ничего делать не нужно. "
   ]
  },
  {
   "cell_type": "code",
   "execution_count": 14,
   "metadata": {},
   "outputs": [],
   "source": [
    "calls['call_date'] = pd.to_datetime(calls['call_date'], format = '%Y-%m-%d')"
   ]
  },
  {
   "cell_type": "code",
   "execution_count": 15,
   "metadata": {},
   "outputs": [
    {
     "data": {
      "text/plain": [
       "count    202607.0\n",
       "mean          6.8\n",
       "std           5.8\n",
       "min           0.0\n",
       "25%           1.3\n",
       "50%           6.0\n",
       "75%          10.7\n",
       "max          38.0\n",
       "Name: duration, dtype: float64"
      ]
     },
     "execution_count": 15,
     "metadata": {},
     "output_type": "execute_result"
    }
   ],
   "source": [
    "calls['duration'].describe().round(1)"
   ]
  },
  {
   "cell_type": "code",
   "execution_count": 16,
   "metadata": {},
   "outputs": [],
   "source": [
    "calls['duration'] = np.ceil(calls['duration'])"
   ]
  },
  {
   "cell_type": "code",
   "execution_count": 17,
   "metadata": {},
   "outputs": [
    {
     "data": {
      "text/plain": [
       "count    202607.0\n",
       "mean          7.2\n",
       "std           6.0\n",
       "min           0.0\n",
       "25%           2.0\n",
       "50%           6.0\n",
       "75%          11.0\n",
       "max          38.0\n",
       "Name: duration, dtype: float64"
      ]
     },
     "execution_count": 17,
     "metadata": {},
     "output_type": "execute_result"
    }
   ],
   "source": [
    "calls['duration'].describe().round(1)"
   ]
  },
  {
   "cell_type": "markdown",
   "metadata": {},
   "source": [
    "После того, как мы привели длительность звонков к работе формату, необходимому для рассчета в рамках тарифов, можно рассмотреть длительность звонков чуть более подробно: посмотреть, как она распределяется"
   ]
  },
  {
   "cell_type": "code",
   "execution_count": 18,
   "metadata": {},
   "outputs": [
    {
     "data": {
      "image/png": "[encoded data removed]",
      "text/plain": [
       "<Figure size 864x360 with 1 Axes>"
      ]
     },
     "metadata": {
      "needs_background": "light"
     },
     "output_type": "display_data"
    }
   ],
   "source": [
    "calls['duration'].hist(figsize=(12, 5), color='#ffc8dd', bins=30)\n",
    "plt.xlabel('Длительность звонка, мин.', size=14)\n",
    "plt.ylabel('Количество звонков', size=14)\n",
    "plt.show()"
   ]
  },
  {
   "cell_type": "code",
   "execution_count": 19,
   "metadata": {},
   "outputs": [],
   "source": [
    "cut_labels = ['звонок не состоялся', '1-3 минуты', '3-5 минут', '5-10 минут', '10-15 минут', '15-20 минут', 'более 20 минут']\n",
    "cut_bins = [0, 0.9, 3, 5, 10, 15, 20, 39]\n",
    "calls['duration_group'] = pd.cut(calls['duration'],\n",
    "                       bins=cut_bins,\n",
    "                       labels=cut_labels, include_lowest=True)"
   ]
  },
  {
   "cell_type": "code",
   "execution_count": 20,
   "metadata": {},
   "outputs": [
    {
     "data": {
      "text/html": [
       "<div>\n",
       "<style scoped>\n",
       "    .dataframe tbody tr th:only-of-type {\n",
       "        vertical-align: middle;\n",
       "    }\n",
       "\n",
       "    .dataframe tbody tr th {\n",
       "        vertical-align: top;\n",
       "    }\n",
       "\n",
       "    .dataframe thead th {\n",
       "        text-align: right;\n",
       "    }\n",
       "</style>\n",
       "<table border=\"1\" class=\"dataframe\">\n",
       "  <thead>\n",
       "    <tr style=\"text-align: right;\">\n",
       "      <th></th>\n",
       "      <th>id</th>\n",
       "      <th>call_date</th>\n",
       "      <th>duration</th>\n",
       "      <th>user_id</th>\n",
       "      <th>duration_group</th>\n",
       "    </tr>\n",
       "  </thead>\n",
       "  <tbody>\n",
       "    <tr>\n",
       "      <td>0</td>\n",
       "      <td>1000_0</td>\n",
       "      <td>2018-07-25</td>\n",
       "      <td>0.0</td>\n",
       "      <td>1000</td>\n",
       "      <td>звонок не состоялся</td>\n",
       "    </tr>\n",
       "    <tr>\n",
       "      <td>1</td>\n",
       "      <td>1000_1</td>\n",
       "      <td>2018-08-17</td>\n",
       "      <td>0.0</td>\n",
       "      <td>1000</td>\n",
       "      <td>звонок не состоялся</td>\n",
       "    </tr>\n",
       "    <tr>\n",
       "      <td>2</td>\n",
       "      <td>1000_2</td>\n",
       "      <td>2018-06-11</td>\n",
       "      <td>3.0</td>\n",
       "      <td>1000</td>\n",
       "      <td>1-3 минуты</td>\n",
       "    </tr>\n",
       "    <tr>\n",
       "      <td>3</td>\n",
       "      <td>1000_3</td>\n",
       "      <td>2018-09-21</td>\n",
       "      <td>14.0</td>\n",
       "      <td>1000</td>\n",
       "      <td>10-15 минут</td>\n",
       "    </tr>\n",
       "    <tr>\n",
       "      <td>4</td>\n",
       "      <td>1000_4</td>\n",
       "      <td>2018-12-15</td>\n",
       "      <td>6.0</td>\n",
       "      <td>1000</td>\n",
       "      <td>5-10 минут</td>\n",
       "    </tr>\n",
       "  </tbody>\n",
       "</table>\n",
       "</div>"
      ],
      "text/plain": [
       "       id  call_date  duration  user_id       duration_group\n",
       "0  1000_0 2018-07-25       0.0     1000  звонок не состоялся\n",
       "1  1000_1 2018-08-17       0.0     1000  звонок не состоялся\n",
       "2  1000_2 2018-06-11       3.0     1000           1-3 минуты\n",
       "3  1000_3 2018-09-21      14.0     1000          10-15 минут\n",
       "4  1000_4 2018-12-15       6.0     1000           5-10 минут"
      ]
     },
     "execution_count": 20,
     "metadata": {},
     "output_type": "execute_result"
    }
   ],
   "source": [
    "calls.head()"
   ]
  },
  {
   "cell_type": "code",
   "execution_count": 21,
   "metadata": {},
   "outputs": [
    {
     "data": {
      "text/html": [
       "<div>\n",
       "<style scoped>\n",
       "    .dataframe tbody tr th:only-of-type {\n",
       "        vertical-align: middle;\n",
       "    }\n",
       "\n",
       "    .dataframe tbody tr th {\n",
       "        vertical-align: top;\n",
       "    }\n",
       "\n",
       "    .dataframe thead tr th {\n",
       "        text-align: left;\n",
       "    }\n",
       "\n",
       "    .dataframe thead tr:last-of-type th {\n",
       "        text-align: right;\n",
       "    }\n",
       "</style>\n",
       "<table border=\"1\" class=\"dataframe\">\n",
       "  <thead>\n",
       "    <tr>\n",
       "      <th></th>\n",
       "      <th>mean</th>\n",
       "      <th>freq</th>\n",
       "    </tr>\n",
       "    <tr>\n",
       "      <th></th>\n",
       "      <th>duration</th>\n",
       "      <th>duration</th>\n",
       "    </tr>\n",
       "    <tr>\n",
       "      <th>duration_group</th>\n",
       "      <th></th>\n",
       "      <th></th>\n",
       "    </tr>\n",
       "  </thead>\n",
       "  <tbody>\n",
       "    <tr>\n",
       "      <td>звонок не состоялся</td>\n",
       "      <td>0.0</td>\n",
       "      <td>19.6%</td>\n",
       "    </tr>\n",
       "    <tr>\n",
       "      <td>1-3 минуты</td>\n",
       "      <td>2.1</td>\n",
       "      <td>13.8%</td>\n",
       "    </tr>\n",
       "    <tr>\n",
       "      <td>3-5 минут</td>\n",
       "      <td>4.5</td>\n",
       "      <td>11.0%</td>\n",
       "    </tr>\n",
       "    <tr>\n",
       "      <td>5-10 минут</td>\n",
       "      <td>7.9</td>\n",
       "      <td>27.3%</td>\n",
       "    </tr>\n",
       "    <tr>\n",
       "      <td>10-15 минут</td>\n",
       "      <td>12.7</td>\n",
       "      <td>18.4%</td>\n",
       "    </tr>\n",
       "    <tr>\n",
       "      <td>15-20 минут</td>\n",
       "      <td>17.6</td>\n",
       "      <td>7.6%</td>\n",
       "    </tr>\n",
       "    <tr>\n",
       "      <td>более 20 минут</td>\n",
       "      <td>23.2</td>\n",
       "      <td>2.2%</td>\n",
       "    </tr>\n",
       "  </tbody>\n",
       "</table>\n",
       "</div>"
      ],
      "text/plain": [
       "                        mean     freq\n",
       "                    duration duration\n",
       "duration_group                       \n",
       "звонок не состоялся      0.0   19.6% \n",
       "1-3 минуты               2.1   13.8% \n",
       "3-5 минут                4.5   11.0% \n",
       "5-10 минут               7.9   27.3% \n",
       "10-15 минут             12.7   18.4% \n",
       "15-20 минут             17.6    7.6% \n",
       "более 20 минут          23.2    2.2% "
      ]
     },
     "execution_count": 21,
     "metadata": {},
     "output_type": "execute_result"
    }
   ],
   "source": [
    "def freq(x): return '{:.1%} '.format(x.count()/len(calls))\n",
    "calls.pivot_table(index='duration_group', values='duration', aggfunc=['mean', freq]).round(1)"
   ]
  },
  {
   "cell_type": "code",
   "execution_count": 22,
   "metadata": {},
   "outputs": [
    {
     "name": "stderr",
     "output_type": "stream",
     "text": [
      "/opt/conda/lib/python3.7/site-packages/pandas/plotting/_matplotlib/core.py:203: UserWarning: 'colors' is being deprecated. Please use 'color'instead of 'colors'\n",
      "  \"'colors' is being deprecated. Please use 'color'\"\n"
     ]
    },
    {
     "data": {
      "image/png": "[encoded data removed]",
      "text/plain": [
       "<Figure size 864x504 with 1 Axes>"
      ]
     },
     "metadata": {
      "needs_background": "light"
     },
     "output_type": "display_data"
    }
   ],
   "source": [
    "colors = ['#cdb4db', '#ffc8dd', '#ffafcc', '#bde0fe', '#a2d2ff', '#fcf5c7', '#fff1e6']\n",
    "\n",
    "plot = calls['duration_group'].value_counts(normalize=True).mul(100).plot(\n",
    "    kind='bar', figsize=(12, 7), colors=colors, legend=False)\n",
    "for bar in plot.patches:\n",
    "    plot.annotate(format(bar.get_height(), '.1f'), (bar.get_x() + bar.get_width() / 2, bar.get_height()), \n",
    "                   ha = 'center', va = 'center', \n",
    "                   size=10, xytext = (0, 8), \n",
    "                   textcoords = 'offset points')\n",
    "plt.xlabel('Длительность звонка', size=14)\n",
    "plt.ylabel('Доля звонков, %', size=14)\n",
    "plt.show()"
   ]
  },
  {
   "cell_type": "markdown",
   "metadata": {},
   "source": [
    "Практически каждый пятый звонок не получает ответа, вот они реалии последних лет. Однако, интересно отметить, что чуть более четверти звонков (а именно 27.3%) длятся от 5 до 10 минут: абонентам есть, о чем поговорить. Звонков длительностью 10-15 минут 18.4% в базе данных - даже больше, чем коротких звонков на 1-3 минуты (их 13.8%). "
   ]
  },
  {
   "cell_type": "markdown",
   "metadata": {},
   "source": [
    "### Таблица `internet`"
   ]
  },
  {
   "cell_type": "code",
   "execution_count": 23,
   "metadata": {},
   "outputs": [
    {
     "data": {
      "text/html": [
       "<div>\n",
       "<style scoped>\n",
       "    .dataframe tbody tr th:only-of-type {\n",
       "        vertical-align: middle;\n",
       "    }\n",
       "\n",
       "    .dataframe tbody tr th {\n",
       "        vertical-align: top;\n",
       "    }\n",
       "\n",
       "    .dataframe thead th {\n",
       "        text-align: right;\n",
       "    }\n",
       "</style>\n",
       "<table border=\"1\" class=\"dataframe\">\n",
       "  <thead>\n",
       "    <tr style=\"text-align: right;\">\n",
       "      <th></th>\n",
       "      <th>id</th>\n",
       "      <th>mb_used</th>\n",
       "      <th>session_date</th>\n",
       "      <th>user_id</th>\n",
       "    </tr>\n",
       "  </thead>\n",
       "  <tbody>\n",
       "    <tr>\n",
       "      <td>0</td>\n",
       "      <td>1000_0</td>\n",
       "      <td>112.95</td>\n",
       "      <td>2018-11-25</td>\n",
       "      <td>1000</td>\n",
       "    </tr>\n",
       "    <tr>\n",
       "      <td>1</td>\n",
       "      <td>1000_1</td>\n",
       "      <td>1052.81</td>\n",
       "      <td>2018-09-07</td>\n",
       "      <td>1000</td>\n",
       "    </tr>\n",
       "    <tr>\n",
       "      <td>2</td>\n",
       "      <td>1000_2</td>\n",
       "      <td>1197.26</td>\n",
       "      <td>2018-06-25</td>\n",
       "      <td>1000</td>\n",
       "    </tr>\n",
       "    <tr>\n",
       "      <td>3</td>\n",
       "      <td>1000_3</td>\n",
       "      <td>550.27</td>\n",
       "      <td>2018-08-22</td>\n",
       "      <td>1000</td>\n",
       "    </tr>\n",
       "    <tr>\n",
       "      <td>4</td>\n",
       "      <td>1000_4</td>\n",
       "      <td>302.56</td>\n",
       "      <td>2018-09-24</td>\n",
       "      <td>1000</td>\n",
       "    </tr>\n",
       "  </tbody>\n",
       "</table>\n",
       "</div>"
      ],
      "text/plain": [
       "       id  mb_used session_date  user_id\n",
       "0  1000_0   112.95   2018-11-25     1000\n",
       "1  1000_1  1052.81   2018-09-07     1000\n",
       "2  1000_2  1197.26   2018-06-25     1000\n",
       "3  1000_3   550.27   2018-08-22     1000\n",
       "4  1000_4   302.56   2018-09-24     1000"
      ]
     },
     "execution_count": 23,
     "metadata": {},
     "output_type": "execute_result"
    }
   ],
   "source": [
    "internet.head()"
   ]
  },
  {
   "cell_type": "markdown",
   "metadata": {},
   "source": [
    "В этой таблице нам также необходимо поработать с форматом в колонке `session_date`. Округлять `mb_used` сейчас не нужно: их мы будем округлять по пользователю за месяц. "
   ]
  },
  {
   "cell_type": "code",
   "execution_count": 24,
   "metadata": {},
   "outputs": [],
   "source": [
    "internet['session_date'] = pd.to_datetime(internet['session_date'], format = '%Y-%m-%d')"
   ]
  },
  {
   "cell_type": "code",
   "execution_count": 25,
   "metadata": {},
   "outputs": [
    {
     "data": {
      "text/plain": [
       "count    149396.000000\n",
       "mean        370.192426\n",
       "std         278.300951\n",
       "min           0.000000\n",
       "25%         138.187500\n",
       "50%         348.015000\n",
       "75%         559.552500\n",
       "max        1724.830000\n",
       "Name: mb_used, dtype: float64"
      ]
     },
     "execution_count": 25,
     "metadata": {},
     "output_type": "execute_result"
    }
   ],
   "source": [
    "internet['mb_used'].describe()"
   ]
  },
  {
   "cell_type": "code",
   "execution_count": 26,
   "metadata": {},
   "outputs": [
    {
     "data": {
      "text/html": [
       "<div>\n",
       "<style scoped>\n",
       "    .dataframe tbody tr th:only-of-type {\n",
       "        vertical-align: middle;\n",
       "    }\n",
       "\n",
       "    .dataframe tbody tr th {\n",
       "        vertical-align: top;\n",
       "    }\n",
       "\n",
       "    .dataframe thead th {\n",
       "        text-align: right;\n",
       "    }\n",
       "</style>\n",
       "<table border=\"1\" class=\"dataframe\">\n",
       "  <thead>\n",
       "    <tr style=\"text-align: right;\">\n",
       "      <th></th>\n",
       "      <th>id</th>\n",
       "      <th>mb_used</th>\n",
       "      <th>session_date</th>\n",
       "      <th>user_id</th>\n",
       "    </tr>\n",
       "  </thead>\n",
       "  <tbody>\n",
       "    <tr>\n",
       "      <td>11</td>\n",
       "      <td>1000_11</td>\n",
       "      <td>0.0</td>\n",
       "      <td>2018-08-28</td>\n",
       "      <td>1000</td>\n",
       "    </tr>\n",
       "    <tr>\n",
       "      <td>38</td>\n",
       "      <td>1000_38</td>\n",
       "      <td>0.0</td>\n",
       "      <td>2018-11-27</td>\n",
       "      <td>1000</td>\n",
       "    </tr>\n",
       "    <tr>\n",
       "      <td>46</td>\n",
       "      <td>1000_46</td>\n",
       "      <td>0.0</td>\n",
       "      <td>2018-06-30</td>\n",
       "      <td>1000</td>\n",
       "    </tr>\n",
       "    <tr>\n",
       "      <td>67</td>\n",
       "      <td>1000_67</td>\n",
       "      <td>0.0</td>\n",
       "      <td>2018-06-16</td>\n",
       "      <td>1000</td>\n",
       "    </tr>\n",
       "    <tr>\n",
       "      <td>72</td>\n",
       "      <td>1000_72</td>\n",
       "      <td>0.0</td>\n",
       "      <td>2018-06-15</td>\n",
       "      <td>1000</td>\n",
       "    </tr>\n",
       "    <tr>\n",
       "      <td>...</td>\n",
       "      <td>...</td>\n",
       "      <td>...</td>\n",
       "      <td>...</td>\n",
       "      <td>...</td>\n",
       "    </tr>\n",
       "    <tr>\n",
       "      <td>149380</td>\n",
       "      <td>1499_141</td>\n",
       "      <td>0.0</td>\n",
       "      <td>2018-12-11</td>\n",
       "      <td>1499</td>\n",
       "    </tr>\n",
       "    <tr>\n",
       "      <td>149381</td>\n",
       "      <td>1499_142</td>\n",
       "      <td>0.0</td>\n",
       "      <td>2018-11-01</td>\n",
       "      <td>1499</td>\n",
       "    </tr>\n",
       "    <tr>\n",
       "      <td>149383</td>\n",
       "      <td>1499_144</td>\n",
       "      <td>0.0</td>\n",
       "      <td>2018-11-27</td>\n",
       "      <td>1499</td>\n",
       "    </tr>\n",
       "    <tr>\n",
       "      <td>149386</td>\n",
       "      <td>1499_147</td>\n",
       "      <td>0.0</td>\n",
       "      <td>2018-10-21</td>\n",
       "      <td>1499</td>\n",
       "    </tr>\n",
       "    <tr>\n",
       "      <td>149393</td>\n",
       "      <td>1499_154</td>\n",
       "      <td>0.0</td>\n",
       "      <td>2018-10-27</td>\n",
       "      <td>1499</td>\n",
       "    </tr>\n",
       "  </tbody>\n",
       "</table>\n",
       "<p>19598 rows × 4 columns</p>\n",
       "</div>"
      ],
      "text/plain": [
       "              id  mb_used session_date  user_id\n",
       "11       1000_11      0.0   2018-08-28     1000\n",
       "38       1000_38      0.0   2018-11-27     1000\n",
       "46       1000_46      0.0   2018-06-30     1000\n",
       "67       1000_67      0.0   2018-06-16     1000\n",
       "72       1000_72      0.0   2018-06-15     1000\n",
       "...          ...      ...          ...      ...\n",
       "149380  1499_141      0.0   2018-12-11     1499\n",
       "149381  1499_142      0.0   2018-11-01     1499\n",
       "149383  1499_144      0.0   2018-11-27     1499\n",
       "149386  1499_147      0.0   2018-10-21     1499\n",
       "149393  1499_154      0.0   2018-10-27     1499\n",
       "\n",
       "[19598 rows x 4 columns]"
      ]
     },
     "execution_count": 26,
     "metadata": {},
     "output_type": "execute_result"
    }
   ],
   "source": [
    "internet.query('mb_used == 0')"
   ]
  },
  {
   "cell_type": "code",
   "execution_count": 27,
   "metadata": {},
   "outputs": [
    {
     "name": "stdout",
     "output_type": "stream",
     "text": [
      "Количество интернет-сессий, в ходе которых было использовано 0MB интернет-трафика составляет 19598\n",
      "Это 13.1% от всех интернет сессий.\n"
     ]
    }
   ],
   "source": [
    "print (\n",
    "'Количество интернет-сессий, в ходе которых было использовано 0MB интернет-трафика составляет', len(internet.query('mb_used == 0')['mb_used'])\n",
    ")\n",
    "\n",
    "print (\n",
    "'Это {:.1%} от всех интернет сессий.'\n",
    ".format(len(internet.query('mb_used == 0')['mb_used']) / len(internet['mb_used']))\n",
    ")\n"
   ]
  },
  {
   "cell_type": "code",
   "execution_count": 28,
   "metadata": {},
   "outputs": [
    {
     "data": {
      "image/png": "[encoded data removed]",
      "text/plain": [
       "<Figure size 864x360 with 1 Axes>"
      ]
     },
     "metadata": {
      "needs_background": "light"
     },
     "output_type": "display_data"
    }
   ],
   "source": [
    "internet['mb_used'].hist(figsize=(12, 5), color='#ffc8dd', bins=30, range=(0, 1300))\n",
    "plt.xlabel('Использовано MB за сессию', size=14)\n",
    "plt.ylabel('Количество сессий', size=14)\n",
    "plt.show()"
   ]
  },
  {
   "cell_type": "code",
   "execution_count": 29,
   "metadata": {},
   "outputs": [
    {
     "name": "stdout",
     "output_type": "stream",
     "text": [
      "В таблице \"calls\" можно обнаружить большой выброс: целых 19598 интернет-сессий, в течение которых было использовано 0 MB.\n",
      "Эти сессии составляют 13.1% от всего количества сессий.\n"
     ]
    }
   ],
   "source": [
    "print(\n",
    "'В таблице \"calls\" можно обнаружить большой выброс: целых', internet.query('mb_used == 0')['mb_used'].count(), \n",
    "    'интернет-сессий, в течение которых было использовано 0 MB.'\n",
    ")\n",
    "print(\n",
    "'Эти сессии составляют {:.1%} от всего количества сессий.'\n",
    ".format(internet.query('mb_used == 0')['mb_used'].count()/len(internet['mb_used']))\n",
    ")\n"
   ]
  },
  {
   "cell_type": "markdown",
   "metadata": {},
   "source": [
    "Эти \"пустые\" сессии могут значить что угодно. Можно предположить, что подобная сессия идет через соц. сети, которые считаются вне трафика по тарифу. \n",
    "\n",
    "Так или иначе, в рамках данного проекта, сессии, за которые пользователь потратил 0 MB, совершенно ни к чему: они не изменят месячной суммы трафика и, соответственно, никак не скажется на том, что мы исследуем - плате за тариф. Так что от этих строк мы можем спокойно избавиться. "
   ]
  },
  {
   "cell_type": "code",
   "execution_count": 30,
   "metadata": {},
   "outputs": [],
   "source": [
    "internet.drop(internet[internet['mb_used'] == 0].index, inplace=True)"
   ]
  },
  {
   "cell_type": "code",
   "execution_count": 31,
   "metadata": {},
   "outputs": [
    {
     "data": {
      "text/html": [
       "<div>\n",
       "<style scoped>\n",
       "    .dataframe tbody tr th:only-of-type {\n",
       "        vertical-align: middle;\n",
       "    }\n",
       "\n",
       "    .dataframe tbody tr th {\n",
       "        vertical-align: top;\n",
       "    }\n",
       "\n",
       "    .dataframe thead th {\n",
       "        text-align: right;\n",
       "    }\n",
       "</style>\n",
       "<table border=\"1\" class=\"dataframe\">\n",
       "  <thead>\n",
       "    <tr style=\"text-align: right;\">\n",
       "      <th></th>\n",
       "      <th>mb_used</th>\n",
       "      <th>user_id</th>\n",
       "    </tr>\n",
       "  </thead>\n",
       "  <tbody>\n",
       "    <tr>\n",
       "      <td>count</td>\n",
       "      <td>129798.00</td>\n",
       "      <td>129798.00</td>\n",
       "    </tr>\n",
       "    <tr>\n",
       "      <td>mean</td>\n",
       "      <td>426.09</td>\n",
       "      <td>1253.05</td>\n",
       "    </tr>\n",
       "    <tr>\n",
       "      <td>std</td>\n",
       "      <td>255.60</td>\n",
       "      <td>143.78</td>\n",
       "    </tr>\n",
       "    <tr>\n",
       "      <td>min</td>\n",
       "      <td>0.03</td>\n",
       "      <td>1000.00</td>\n",
       "    </tr>\n",
       "    <tr>\n",
       "      <td>25%</td>\n",
       "      <td>227.46</td>\n",
       "      <td>1132.00</td>\n",
       "    </tr>\n",
       "    <tr>\n",
       "      <td>50%</td>\n",
       "      <td>400.54</td>\n",
       "      <td>1252.00</td>\n",
       "    </tr>\n",
       "    <tr>\n",
       "      <td>75%</td>\n",
       "      <td>592.95</td>\n",
       "      <td>1380.00</td>\n",
       "    </tr>\n",
       "    <tr>\n",
       "      <td>max</td>\n",
       "      <td>1724.83</td>\n",
       "      <td>1499.00</td>\n",
       "    </tr>\n",
       "  </tbody>\n",
       "</table>\n",
       "</div>"
      ],
      "text/plain": [
       "         mb_used    user_id\n",
       "count  129798.00  129798.00\n",
       "mean      426.09    1253.05\n",
       "std       255.60     143.78\n",
       "min         0.03    1000.00\n",
       "25%       227.46    1132.00\n",
       "50%       400.54    1252.00\n",
       "75%       592.95    1380.00\n",
       "max      1724.83    1499.00"
      ]
     },
     "execution_count": 31,
     "metadata": {},
     "output_type": "execute_result"
    }
   ],
   "source": [
    "internet.describe().round(2)"
   ]
  },
  {
   "cell_type": "code",
   "execution_count": 32,
   "metadata": {},
   "outputs": [
    {
     "data": {
      "image/png": "[encoded data removed]",
      "text/plain": [
       "<Figure size 864x360 with 1 Axes>"
      ]
     },
     "metadata": {
      "needs_background": "light"
     },
     "output_type": "display_data"
    }
   ],
   "source": [
    "internet['mb_used'].hist(figsize=(12, 5), color='#ffc8dd', bins=30, range=(0, 1300))\n",
    "plt.xlabel('Использовано MB за сессию', size=14)\n",
    "plt.ylabel('Количество сессий', size=14)\n",
    "plt.show()"
   ]
  },
  {
   "cell_type": "markdown",
   "metadata": {},
   "source": [
    "Теперь распределение больше напоминает \"купол\". "
   ]
  },
  {
   "cell_type": "markdown",
   "metadata": {},
   "source": [
    "### Таблица `messages`"
   ]
  },
  {
   "cell_type": "markdown",
   "metadata": {},
   "source": [
    "В этой таблице нам нужно только перевести `message_date` в формат _datetime_."
   ]
  },
  {
   "cell_type": "code",
   "execution_count": 33,
   "metadata": {},
   "outputs": [],
   "source": [
    "messages['message_date'] = pd.to_datetime(messages['message_date'], format='%Y-%m-%d')"
   ]
  },
  {
   "cell_type": "code",
   "execution_count": 34,
   "metadata": {},
   "outputs": [
    {
     "name": "stdout",
     "output_type": "stream",
     "text": [
      "<class 'pandas.core.frame.DataFrame'>\n",
      "RangeIndex: 123036 entries, 0 to 123035\n",
      "Data columns (total 3 columns):\n",
      "id              123036 non-null object\n",
      "message_date    123036 non-null datetime64[ns]\n",
      "user_id         123036 non-null int64\n",
      "dtypes: datetime64[ns](1), int64(1), object(1)\n",
      "memory usage: 2.8+ MB\n"
     ]
    }
   ],
   "source": [
    "messages.info()"
   ]
  },
  {
   "cell_type": "markdown",
   "metadata": {},
   "source": [
    "### Таблица `tariffs`"
   ]
  },
  {
   "cell_type": "markdown",
   "metadata": {},
   "source": [
    "Эта таблица содержит основную информацию по тарифам \"Мегалайна\". Мы можем себе позволить немного изменить эту таблицу для того, чтобы она была удобнее при произведении рассчетов. \n",
    "\n",
    "Согласно условиям \"Мегалайна\", ежемесячный трафик округсяется до GB. В тарифы **smart** и **ultra** включены 15GB и 30GB в месяц соответственно. В таблице **`tariffs`** эти данные указаны в MB. Там будет проще обращаться к этой таблице, если это будет в GB."
   ]
  },
  {
   "cell_type": "code",
   "execution_count": 35,
   "metadata": {},
   "outputs": [],
   "source": [
    "tariffs['mb_per_month_included'] = tariffs['mb_per_month_included']/1000\n",
    "tariffs['mb_per_month_included'] = np.floor(tariffs['mb_per_month_included'])"
   ]
  },
  {
   "cell_type": "code",
   "execution_count": 36,
   "metadata": {},
   "outputs": [],
   "source": [
    "tariffs.rename(columns={'mb_per_month_included':'gb_per_month_included'}, inplace=True)"
   ]
  },
  {
   "cell_type": "code",
   "execution_count": 37,
   "metadata": {},
   "outputs": [
    {
     "data": {
      "text/html": [
       "<div>\n",
       "<style scoped>\n",
       "    .dataframe tbody tr th:only-of-type {\n",
       "        vertical-align: middle;\n",
       "    }\n",
       "\n",
       "    .dataframe tbody tr th {\n",
       "        vertical-align: top;\n",
       "    }\n",
       "\n",
       "    .dataframe thead th {\n",
       "        text-align: right;\n",
       "    }\n",
       "</style>\n",
       "<table border=\"1\" class=\"dataframe\">\n",
       "  <thead>\n",
       "    <tr style=\"text-align: right;\">\n",
       "      <th></th>\n",
       "      <th>messages_included</th>\n",
       "      <th>gb_per_month_included</th>\n",
       "      <th>minutes_included</th>\n",
       "      <th>rub_monthly_fee</th>\n",
       "      <th>rub_per_gb</th>\n",
       "      <th>rub_per_message</th>\n",
       "      <th>rub_per_minute</th>\n",
       "      <th>tariff_name</th>\n",
       "    </tr>\n",
       "  </thead>\n",
       "  <tbody>\n",
       "    <tr>\n",
       "      <td>0</td>\n",
       "      <td>50</td>\n",
       "      <td>15.0</td>\n",
       "      <td>500</td>\n",
       "      <td>550</td>\n",
       "      <td>200</td>\n",
       "      <td>3</td>\n",
       "      <td>3</td>\n",
       "      <td>smart</td>\n",
       "    </tr>\n",
       "    <tr>\n",
       "      <td>1</td>\n",
       "      <td>1000</td>\n",
       "      <td>30.0</td>\n",
       "      <td>3000</td>\n",
       "      <td>1950</td>\n",
       "      <td>150</td>\n",
       "      <td>1</td>\n",
       "      <td>1</td>\n",
       "      <td>ultra</td>\n",
       "    </tr>\n",
       "  </tbody>\n",
       "</table>\n",
       "</div>"
      ],
      "text/plain": [
       "   messages_included  gb_per_month_included  minutes_included  \\\n",
       "0                 50                   15.0               500   \n",
       "1               1000                   30.0              3000   \n",
       "\n",
       "   rub_monthly_fee  rub_per_gb  rub_per_message  rub_per_minute tariff_name  \n",
       "0              550         200                3               3       smart  \n",
       "1             1950         150                1               1       ultra  "
      ]
     },
     "execution_count": 37,
     "metadata": {},
     "output_type": "execute_result"
    }
   ],
   "source": [
    "tariffs"
   ]
  },
  {
   "cell_type": "markdown",
   "metadata": {},
   "source": [
    "### Таблица `users`"
   ]
  },
  {
   "cell_type": "markdown",
   "metadata": {},
   "source": [
    "Здесь можно найти информацию о пользователях. Колонки `reg_date` и `churn_date` нужно перевести в формат _datetime_. Также следует посмотреть на значения в колонках `age` и `city`, чтобы проверить, нет ли странных или выбивающихся значений."
   ]
  },
  {
   "cell_type": "code",
   "execution_count": 38,
   "metadata": {},
   "outputs": [
    {
     "data": {
      "text/html": [
       "<div>\n",
       "<style scoped>\n",
       "    .dataframe tbody tr th:only-of-type {\n",
       "        vertical-align: middle;\n",
       "    }\n",
       "\n",
       "    .dataframe tbody tr th {\n",
       "        vertical-align: top;\n",
       "    }\n",
       "\n",
       "    .dataframe thead th {\n",
       "        text-align: right;\n",
       "    }\n",
       "</style>\n",
       "<table border=\"1\" class=\"dataframe\">\n",
       "  <thead>\n",
       "    <tr style=\"text-align: right;\">\n",
       "      <th></th>\n",
       "      <th>user_id</th>\n",
       "      <th>age</th>\n",
       "      <th>churn_date</th>\n",
       "      <th>city</th>\n",
       "      <th>first_name</th>\n",
       "      <th>last_name</th>\n",
       "      <th>reg_date</th>\n",
       "      <th>tariff</th>\n",
       "    </tr>\n",
       "  </thead>\n",
       "  <tbody>\n",
       "    <tr>\n",
       "      <td>0</td>\n",
       "      <td>1000</td>\n",
       "      <td>52</td>\n",
       "      <td>NaN</td>\n",
       "      <td>Краснодар</td>\n",
       "      <td>Рафаил</td>\n",
       "      <td>Верещагин</td>\n",
       "      <td>2018-05-25</td>\n",
       "      <td>ultra</td>\n",
       "    </tr>\n",
       "    <tr>\n",
       "      <td>1</td>\n",
       "      <td>1001</td>\n",
       "      <td>41</td>\n",
       "      <td>NaN</td>\n",
       "      <td>Москва</td>\n",
       "      <td>Иван</td>\n",
       "      <td>Ежов</td>\n",
       "      <td>2018-11-01</td>\n",
       "      <td>smart</td>\n",
       "    </tr>\n",
       "    <tr>\n",
       "      <td>2</td>\n",
       "      <td>1002</td>\n",
       "      <td>59</td>\n",
       "      <td>NaN</td>\n",
       "      <td>Стерлитамак</td>\n",
       "      <td>Евгений</td>\n",
       "      <td>Абрамович</td>\n",
       "      <td>2018-06-17</td>\n",
       "      <td>smart</td>\n",
       "    </tr>\n",
       "    <tr>\n",
       "      <td>3</td>\n",
       "      <td>1003</td>\n",
       "      <td>23</td>\n",
       "      <td>NaN</td>\n",
       "      <td>Москва</td>\n",
       "      <td>Белла</td>\n",
       "      <td>Белякова</td>\n",
       "      <td>2018-08-17</td>\n",
       "      <td>ultra</td>\n",
       "    </tr>\n",
       "    <tr>\n",
       "      <td>4</td>\n",
       "      <td>1004</td>\n",
       "      <td>68</td>\n",
       "      <td>NaN</td>\n",
       "      <td>Новокузнецк</td>\n",
       "      <td>Татьяна</td>\n",
       "      <td>Авдеенко</td>\n",
       "      <td>2018-05-14</td>\n",
       "      <td>ultra</td>\n",
       "    </tr>\n",
       "  </tbody>\n",
       "</table>\n",
       "</div>"
      ],
      "text/plain": [
       "   user_id  age churn_date         city first_name  last_name    reg_date  \\\n",
       "0     1000   52        NaN    Краснодар     Рафаил  Верещагин  2018-05-25   \n",
       "1     1001   41        NaN       Москва       Иван       Ежов  2018-11-01   \n",
       "2     1002   59        NaN  Стерлитамак    Евгений  Абрамович  2018-06-17   \n",
       "3     1003   23        NaN       Москва      Белла   Белякова  2018-08-17   \n",
       "4     1004   68        NaN  Новокузнецк    Татьяна   Авдеенко  2018-05-14   \n",
       "\n",
       "  tariff  \n",
       "0  ultra  \n",
       "1  smart  \n",
       "2  smart  \n",
       "3  ultra  \n",
       "4  ultra  "
      ]
     },
     "execution_count": 38,
     "metadata": {},
     "output_type": "execute_result"
    }
   ],
   "source": [
    "users.head()"
   ]
  },
  {
   "cell_type": "code",
   "execution_count": 39,
   "metadata": {},
   "outputs": [],
   "source": [
    "users['churn_date'] = pd.to_datetime(users['churn_date'], format = '%Y-%m-%d')\n",
    "users['reg_date'] = pd.to_datetime(users['reg_date'], format = '%Y-%m-%d')"
   ]
  },
  {
   "cell_type": "code",
   "execution_count": 40,
   "metadata": {},
   "outputs": [
    {
     "name": "stdout",
     "output_type": "stream",
     "text": [
      "<class 'pandas.core.frame.DataFrame'>\n",
      "RangeIndex: 500 entries, 0 to 499\n",
      "Data columns (total 8 columns):\n",
      "user_id       500 non-null int64\n",
      "age           500 non-null int64\n",
      "churn_date    38 non-null datetime64[ns]\n",
      "city          500 non-null object\n",
      "first_name    500 non-null object\n",
      "last_name     500 non-null object\n",
      "reg_date      500 non-null datetime64[ns]\n",
      "tariff        500 non-null object\n",
      "dtypes: datetime64[ns](2), int64(2), object(4)\n",
      "memory usage: 31.4+ KB\n"
     ]
    }
   ],
   "source": [
    "users.info()"
   ]
  },
  {
   "cell_type": "code",
   "execution_count": 41,
   "metadata": {},
   "outputs": [
    {
     "data": {
      "text/plain": [
       "count    500.0\n",
       "mean      47.0\n",
       "std       17.0\n",
       "min       18.0\n",
       "25%       32.0\n",
       "50%       46.0\n",
       "75%       62.0\n",
       "max       75.0\n",
       "Name: age, dtype: float64"
      ]
     },
     "execution_count": 41,
     "metadata": {},
     "output_type": "execute_result"
    }
   ],
   "source": [
    "users['age'].describe().round()"
   ]
  },
  {
   "cell_type": "code",
   "execution_count": 42,
   "metadata": {},
   "outputs": [
    {
     "data": {
      "image/png": "[encoded data removed]",
      "text/plain": [
       "<Figure size 864x360 with 1 Axes>"
      ]
     },
     "metadata": {
      "needs_background": "light"
     },
     "output_type": "display_data"
    }
   ],
   "source": [
    "users['age'].hist(figsize=(12, 5), color='#ffc8dd', bins=30)\n",
    "plt.show()"
   ]
  },
  {
   "cell_type": "markdown",
   "metadata": {},
   "source": [
    "Детей и тысячелетних пользователей не обнаружено! "
   ]
  },
  {
   "cell_type": "code",
   "execution_count": 43,
   "metadata": {},
   "outputs": [
    {
     "data": {
      "text/plain": [
       "['Архангельск',\n",
       " 'Астрахань',\n",
       " 'Балашиха',\n",
       " 'Барнаул',\n",
       " 'Белгород',\n",
       " 'Брянск',\n",
       " 'Владивосток',\n",
       " 'Владикавказ',\n",
       " 'Владимир',\n",
       " 'Волгоград',\n",
       " 'Волжский',\n",
       " 'Вологда',\n",
       " 'Воронеж',\n",
       " 'Грозный',\n",
       " 'Екатеринбург',\n",
       " 'Иваново',\n",
       " 'Ижевск',\n",
       " 'Иркутск',\n",
       " 'Казань',\n",
       " 'Калининград',\n",
       " 'Калуга',\n",
       " 'Кемерово',\n",
       " 'Киров',\n",
       " 'Кострома',\n",
       " 'Краснодар',\n",
       " 'Красноярск',\n",
       " 'Курган',\n",
       " 'Курск',\n",
       " 'Липецк',\n",
       " 'Магнитогорск',\n",
       " 'Махачкала',\n",
       " 'Москва',\n",
       " 'Мурманск',\n",
       " 'Набережные Челны',\n",
       " 'Нижневартовск',\n",
       " 'Нижний Новгород',\n",
       " 'Нижний Тагил',\n",
       " 'Новокузнецк',\n",
       " 'Новороссийск',\n",
       " 'Новосибирск',\n",
       " 'Омск',\n",
       " 'Оренбург',\n",
       " 'Орёл',\n",
       " 'Пенза',\n",
       " 'Пермь',\n",
       " 'Петрозаводск',\n",
       " 'Подольск',\n",
       " 'Ростов-на-Дону',\n",
       " 'Рязань',\n",
       " 'Самара',\n",
       " 'Санкт-Петербург',\n",
       " 'Саранск',\n",
       " 'Саратов',\n",
       " 'Севастополь',\n",
       " 'Смоленск',\n",
       " 'Сочи',\n",
       " 'Ставрополь',\n",
       " 'Стерлитамак',\n",
       " 'Сургут',\n",
       " 'Тамбов',\n",
       " 'Тверь',\n",
       " 'Тольятти',\n",
       " 'Томск',\n",
       " 'Тула',\n",
       " 'Тюмень',\n",
       " 'Улан-Удэ',\n",
       " 'Ульяновск',\n",
       " 'Уфа',\n",
       " 'Хабаровск',\n",
       " 'Химки',\n",
       " 'Чебоксары',\n",
       " 'Челябинск',\n",
       " 'Череповец',\n",
       " 'Чита',\n",
       " 'Якутск',\n",
       " 'Ярославль']"
      ]
     },
     "execution_count": 43,
     "metadata": {},
     "output_type": "execute_result"
    }
   ],
   "source": [
    "sorted(users['city'].unique())"
   ]
  },
  {
   "cell_type": "code",
   "execution_count": 44,
   "metadata": {},
   "outputs": [
    {
     "data": {
      "text/html": [
       "<div>\n",
       "<style scoped>\n",
       "    .dataframe tbody tr th:only-of-type {\n",
       "        vertical-align: middle;\n",
       "    }\n",
       "\n",
       "    .dataframe tbody tr th {\n",
       "        vertical-align: top;\n",
       "    }\n",
       "\n",
       "    .dataframe thead th {\n",
       "        text-align: right;\n",
       "    }\n",
       "</style>\n",
       "<table border=\"1\" class=\"dataframe\">\n",
       "  <thead>\n",
       "    <tr style=\"text-align: right;\">\n",
       "      <th></th>\n",
       "      <th>count</th>\n",
       "      <th>freq</th>\n",
       "    </tr>\n",
       "    <tr>\n",
       "      <th>city</th>\n",
       "      <th></th>\n",
       "      <th></th>\n",
       "    </tr>\n",
       "  </thead>\n",
       "  <tbody>\n",
       "    <tr>\n",
       "      <td>Москва</td>\n",
       "      <td>99</td>\n",
       "      <td>19.8%</td>\n",
       "    </tr>\n",
       "    <tr>\n",
       "      <td>Санкт-Петербург</td>\n",
       "      <td>39</td>\n",
       "      <td>7.8%</td>\n",
       "    </tr>\n",
       "    <tr>\n",
       "      <td>Новосибирск</td>\n",
       "      <td>16</td>\n",
       "      <td>3.2%</td>\n",
       "    </tr>\n",
       "    <tr>\n",
       "      <td>Казань</td>\n",
       "      <td>14</td>\n",
       "      <td>2.8%</td>\n",
       "    </tr>\n",
       "    <tr>\n",
       "      <td>Омск</td>\n",
       "      <td>14</td>\n",
       "      <td>2.8%</td>\n",
       "    </tr>\n",
       "    <tr>\n",
       "      <td>Уфа</td>\n",
       "      <td>12</td>\n",
       "      <td>2.4%</td>\n",
       "    </tr>\n",
       "    <tr>\n",
       "      <td>Набережные Челны</td>\n",
       "      <td>11</td>\n",
       "      <td>2.2%</td>\n",
       "    </tr>\n",
       "  </tbody>\n",
       "</table>\n",
       "</div>"
      ],
      "text/plain": [
       "                  count    freq\n",
       "city                           \n",
       "Москва               99  19.8% \n",
       "Санкт-Петербург      39   7.8% \n",
       "Новосибирск          16   3.2% \n",
       "Казань               14   2.8% \n",
       "Омск                 14   2.8% \n",
       "Уфа                  12   2.4% \n",
       "Набережные Челны     11   2.2% "
      ]
     },
     "execution_count": 44,
     "metadata": {},
     "output_type": "execute_result"
    }
   ],
   "source": [
    "def freq(x): return '{:.1%} '.format(x.count()/len(users))\n",
    "\n",
    "users.groupby('city')['age'].agg(['count', freq]).sort_values(by='count', ascending=False).head(7).round(2)"
   ]
  },
  {
   "cell_type": "markdown",
   "metadata": {},
   "source": [
    "Названия городов сомнений не вызывают, распределение пользователей по городам - тоже. На первом месте ожидаемо Москва, на втором - Питер. За ними следуют крупнейшие города других регионов. "
   ]
  },
  {
   "cell_type": "markdown",
   "metadata": {},
   "source": [
    "### Промежуточные выводы"
   ]
  },
  {
   "cell_type": "markdown",
   "metadata": {},
   "source": [
    "На этом этапе мы исправили тип данных в колонках, обозначающих время, с _object_ на _datetime_. Мы также отказались от строк с нулевым значением мегабайт в таблице **`internet`** - нам нечего делать с этмии данными в рамках проекта. \n",
    "Пропущенные значения имеются только в колонке `churn_date` таблицы **`users`**, однако с этими данными нам ничего не нужно делать, так как эта колонка обозначает дату прекращения пользования тарифом."
   ]
  },
  {
   "cell_type": "markdown",
   "metadata": {},
   "source": [
    "## Расчеты и объединение таблиц"
   ]
  },
  {
   "cell_type": "markdown",
   "metadata": {},
   "source": [
    "### Количество сделанных звонков и израсходованных минут в месяц по пользователям"
   ]
  },
  {
   "cell_type": "code",
   "execution_count": 45,
   "metadata": {},
   "outputs": [
    {
     "data": {
      "text/plain": [
       "368"
      ]
     },
     "execution_count": 45,
     "metadata": {},
     "output_type": "execute_result"
    }
   ],
   "source": [
    "calls.query('user_id == 1000')['duration'].count()"
   ]
  },
  {
   "cell_type": "code",
   "execution_count": 46,
   "metadata": {},
   "outputs": [],
   "source": [
    "calls['month_year'] = calls['call_date'].astype('datetime64[M]')"
   ]
  },
  {
   "cell_type": "code",
   "execution_count": 47,
   "metadata": {},
   "outputs": [],
   "source": [
    "df = calls.groupby(by=['user_id','month_year'])['duration'].agg(['count', 'sum']).reset_index()"
   ]
  },
  {
   "cell_type": "code",
   "execution_count": 48,
   "metadata": {},
   "outputs": [],
   "source": [
    "df.columns = ['user_id', 'month_year', 'calls_per_month_count', 'calls_per_month_duration']"
   ]
  },
  {
   "cell_type": "code",
   "execution_count": 49,
   "metadata": {},
   "outputs": [
    {
     "data": {
      "text/html": [
       "<div>\n",
       "<style scoped>\n",
       "    .dataframe tbody tr th:only-of-type {\n",
       "        vertical-align: middle;\n",
       "    }\n",
       "\n",
       "    .dataframe tbody tr th {\n",
       "        vertical-align: top;\n",
       "    }\n",
       "\n",
       "    .dataframe thead th {\n",
       "        text-align: right;\n",
       "    }\n",
       "</style>\n",
       "<table border=\"1\" class=\"dataframe\">\n",
       "  <thead>\n",
       "    <tr style=\"text-align: right;\">\n",
       "      <th></th>\n",
       "      <th>user_id</th>\n",
       "      <th>month_year</th>\n",
       "      <th>calls_per_month_count</th>\n",
       "      <th>calls_per_month_duration</th>\n",
       "    </tr>\n",
       "  </thead>\n",
       "  <tbody>\n",
       "    <tr>\n",
       "      <td>0</td>\n",
       "      <td>1000</td>\n",
       "      <td>2018-05-01</td>\n",
       "      <td>22</td>\n",
       "      <td>159.0</td>\n",
       "    </tr>\n",
       "    <tr>\n",
       "      <td>1</td>\n",
       "      <td>1000</td>\n",
       "      <td>2018-06-01</td>\n",
       "      <td>43</td>\n",
       "      <td>172.0</td>\n",
       "    </tr>\n",
       "    <tr>\n",
       "      <td>2</td>\n",
       "      <td>1000</td>\n",
       "      <td>2018-07-01</td>\n",
       "      <td>47</td>\n",
       "      <td>340.0</td>\n",
       "    </tr>\n",
       "    <tr>\n",
       "      <td>3</td>\n",
       "      <td>1000</td>\n",
       "      <td>2018-08-01</td>\n",
       "      <td>52</td>\n",
       "      <td>408.0</td>\n",
       "    </tr>\n",
       "    <tr>\n",
       "      <td>4</td>\n",
       "      <td>1000</td>\n",
       "      <td>2018-09-01</td>\n",
       "      <td>58</td>\n",
       "      <td>466.0</td>\n",
       "    </tr>\n",
       "  </tbody>\n",
       "</table>\n",
       "</div>"
      ],
      "text/plain": [
       "   user_id month_year  calls_per_month_count  calls_per_month_duration\n",
       "0     1000 2018-05-01                     22                     159.0\n",
       "1     1000 2018-06-01                     43                     172.0\n",
       "2     1000 2018-07-01                     47                     340.0\n",
       "3     1000 2018-08-01                     52                     408.0\n",
       "4     1000 2018-09-01                     58                     466.0"
      ]
     },
     "execution_count": 49,
     "metadata": {},
     "output_type": "execute_result"
    }
   ],
   "source": [
    "df.head()"
   ]
  },
  {
   "cell_type": "code",
   "execution_count": 50,
   "metadata": {},
   "outputs": [
    {
     "name": "stdout",
     "output_type": "stream",
     "text": [
      "<class 'pandas.core.frame.DataFrame'>\n",
      "RangeIndex: 3174 entries, 0 to 3173\n",
      "Data columns (total 4 columns):\n",
      "user_id                     3174 non-null int64\n",
      "month_year                  3174 non-null datetime64[ns]\n",
      "calls_per_month_count       3174 non-null int64\n",
      "calls_per_month_duration    3174 non-null float64\n",
      "dtypes: datetime64[ns](1), float64(1), int64(2)\n",
      "memory usage: 99.3 KB\n"
     ]
    }
   ],
   "source": [
    "df.info()"
   ]
  },
  {
   "cell_type": "markdown",
   "metadata": {},
   "source": [
    "Мы рассчитали количество звонков и минут разговора по месяцам для каждого пользователя. Таблицу с этмми данными мы назвали **`df`** для того, чтобы к ней в будущем присоединить колонки из аналогичных таблиц с подсчетами сообщений и интернет-трафика. "
   ]
  },
  {
   "cell_type": "markdown",
   "metadata": {},
   "source": [
    "### Количество отправленных сообщений по месяцам"
   ]
  },
  {
   "cell_type": "code",
   "execution_count": 51,
   "metadata": {},
   "outputs": [],
   "source": [
    "messages['month_year'] = messages['message_date'].astype('datetime64[M]')"
   ]
  },
  {
   "cell_type": "code",
   "execution_count": 52,
   "metadata": {},
   "outputs": [],
   "source": [
    "messages_per_month = messages.groupby(by=['user_id','month_year'])['user_id'].agg(['count']).reset_index()"
   ]
  },
  {
   "cell_type": "code",
   "execution_count": 53,
   "metadata": {},
   "outputs": [],
   "source": [
    "messages_per_month.columns = ['user_id', 'month_year', 'messages_per_month']"
   ]
  },
  {
   "cell_type": "code",
   "execution_count": 54,
   "metadata": {},
   "outputs": [
    {
     "data": {
      "text/html": [
       "<div>\n",
       "<style scoped>\n",
       "    .dataframe tbody tr th:only-of-type {\n",
       "        vertical-align: middle;\n",
       "    }\n",
       "\n",
       "    .dataframe tbody tr th {\n",
       "        vertical-align: top;\n",
       "    }\n",
       "\n",
       "    .dataframe thead th {\n",
       "        text-align: right;\n",
       "    }\n",
       "</style>\n",
       "<table border=\"1\" class=\"dataframe\">\n",
       "  <thead>\n",
       "    <tr style=\"text-align: right;\">\n",
       "      <th></th>\n",
       "      <th>user_id</th>\n",
       "      <th>month_year</th>\n",
       "      <th>messages_per_month</th>\n",
       "    </tr>\n",
       "  </thead>\n",
       "  <tbody>\n",
       "    <tr>\n",
       "      <td>0</td>\n",
       "      <td>1000</td>\n",
       "      <td>2018-05-01</td>\n",
       "      <td>22</td>\n",
       "    </tr>\n",
       "    <tr>\n",
       "      <td>1</td>\n",
       "      <td>1000</td>\n",
       "      <td>2018-06-01</td>\n",
       "      <td>60</td>\n",
       "    </tr>\n",
       "    <tr>\n",
       "      <td>2</td>\n",
       "      <td>1000</td>\n",
       "      <td>2018-07-01</td>\n",
       "      <td>75</td>\n",
       "    </tr>\n",
       "    <tr>\n",
       "      <td>3</td>\n",
       "      <td>1000</td>\n",
       "      <td>2018-08-01</td>\n",
       "      <td>81</td>\n",
       "    </tr>\n",
       "    <tr>\n",
       "      <td>4</td>\n",
       "      <td>1000</td>\n",
       "      <td>2018-09-01</td>\n",
       "      <td>57</td>\n",
       "    </tr>\n",
       "  </tbody>\n",
       "</table>\n",
       "</div>"
      ],
      "text/plain": [
       "   user_id month_year  messages_per_month\n",
       "0     1000 2018-05-01                  22\n",
       "1     1000 2018-06-01                  60\n",
       "2     1000 2018-07-01                  75\n",
       "3     1000 2018-08-01                  81\n",
       "4     1000 2018-09-01                  57"
      ]
     },
     "execution_count": 54,
     "metadata": {},
     "output_type": "execute_result"
    }
   ],
   "source": [
    "messages_per_month.head()"
   ]
  },
  {
   "cell_type": "markdown",
   "metadata": {},
   "source": [
    "### Объем израсходованного интернет-трафика по месяцам"
   ]
  },
  {
   "cell_type": "code",
   "execution_count": 55,
   "metadata": {},
   "outputs": [],
   "source": [
    "internet['month_year'] = internet['session_date'].astype('datetime64[M]')"
   ]
  },
  {
   "cell_type": "code",
   "execution_count": 56,
   "metadata": {},
   "outputs": [],
   "source": [
    "traffic_per_month = internet.groupby(by=['user_id','month_year'])['mb_used'].agg(['sum']).reset_index()"
   ]
  },
  {
   "cell_type": "markdown",
   "metadata": {},
   "source": [
    "Мегабайты лучше сразу перевести в гигабайты, поскольку все подсчеты дажее будут именно в них. "
   ]
  },
  {
   "cell_type": "code",
   "execution_count": 57,
   "metadata": {},
   "outputs": [],
   "source": [
    "traffic_per_month.columns = ['user_id', 'month_year', 'gbs_per_month']"
   ]
  },
  {
   "cell_type": "code",
   "execution_count": 58,
   "metadata": {},
   "outputs": [],
   "source": [
    "traffic_per_month['gbs_per_month'] = traffic_per_month['gbs_per_month']/1024"
   ]
  },
  {
   "cell_type": "markdown",
   "metadata": {},
   "source": [
    "Также, согласно условиям оператора, месячный трафик округляется в бо'льшую сторону. Проделаем это с колонкой `gbs_per_month`."
   ]
  },
  {
   "cell_type": "code",
   "execution_count": 59,
   "metadata": {},
   "outputs": [],
   "source": [
    "traffic_per_month['gbs_per_month'] = np.ceil(traffic_per_month['gbs_per_month'])"
   ]
  },
  {
   "cell_type": "code",
   "execution_count": 60,
   "metadata": {},
   "outputs": [
    {
     "data": {
      "text/html": [
       "<div>\n",
       "<style scoped>\n",
       "    .dataframe tbody tr th:only-of-type {\n",
       "        vertical-align: middle;\n",
       "    }\n",
       "\n",
       "    .dataframe tbody tr th {\n",
       "        vertical-align: top;\n",
       "    }\n",
       "\n",
       "    .dataframe thead th {\n",
       "        text-align: right;\n",
       "    }\n",
       "</style>\n",
       "<table border=\"1\" class=\"dataframe\">\n",
       "  <thead>\n",
       "    <tr style=\"text-align: right;\">\n",
       "      <th></th>\n",
       "      <th>user_id</th>\n",
       "      <th>month_year</th>\n",
       "      <th>gbs_per_month</th>\n",
       "    </tr>\n",
       "  </thead>\n",
       "  <tbody>\n",
       "    <tr>\n",
       "      <td>0</td>\n",
       "      <td>1000</td>\n",
       "      <td>2018-05-01</td>\n",
       "      <td>3.0</td>\n",
       "    </tr>\n",
       "    <tr>\n",
       "      <td>1</td>\n",
       "      <td>1000</td>\n",
       "      <td>2018-06-01</td>\n",
       "      <td>23.0</td>\n",
       "    </tr>\n",
       "    <tr>\n",
       "      <td>2</td>\n",
       "      <td>1000</td>\n",
       "      <td>2018-07-01</td>\n",
       "      <td>14.0</td>\n",
       "    </tr>\n",
       "    <tr>\n",
       "      <td>3</td>\n",
       "      <td>1000</td>\n",
       "      <td>2018-08-01</td>\n",
       "      <td>14.0</td>\n",
       "    </tr>\n",
       "    <tr>\n",
       "      <td>4</td>\n",
       "      <td>1000</td>\n",
       "      <td>2018-09-01</td>\n",
       "      <td>15.0</td>\n",
       "    </tr>\n",
       "  </tbody>\n",
       "</table>\n",
       "</div>"
      ],
      "text/plain": [
       "   user_id month_year  gbs_per_month\n",
       "0     1000 2018-05-01            3.0\n",
       "1     1000 2018-06-01           23.0\n",
       "2     1000 2018-07-01           14.0\n",
       "3     1000 2018-08-01           14.0\n",
       "4     1000 2018-09-01           15.0"
      ]
     },
     "execution_count": 60,
     "metadata": {},
     "output_type": "execute_result"
    }
   ],
   "source": [
    "traffic_per_month.head()"
   ]
  },
  {
   "cell_type": "markdown",
   "metadata": {},
   "source": [
    "### Объединение всей необходимой информации в таблицу `df`"
   ]
  },
  {
   "cell_type": "code",
   "execution_count": 61,
   "metadata": {},
   "outputs": [],
   "source": [
    "df = df.merge(messages_per_month, on=['user_id', 'month_year'], how='outer')\n",
    "df = df.merge(traffic_per_month, on=['user_id', 'month_year'], how='outer')\n",
    "df = df.merge(users, on='user_id', how='left')"
   ]
  },
  {
   "cell_type": "code",
   "execution_count": 62,
   "metadata": {},
   "outputs": [
    {
     "data": {
      "text/html": [
       "<div>\n",
       "<style scoped>\n",
       "    .dataframe tbody tr th:only-of-type {\n",
       "        vertical-align: middle;\n",
       "    }\n",
       "\n",
       "    .dataframe tbody tr th {\n",
       "        vertical-align: top;\n",
       "    }\n",
       "\n",
       "    .dataframe thead th {\n",
       "        text-align: right;\n",
       "    }\n",
       "</style>\n",
       "<table border=\"1\" class=\"dataframe\">\n",
       "  <thead>\n",
       "    <tr style=\"text-align: right;\">\n",
       "      <th></th>\n",
       "      <th>user_id</th>\n",
       "      <th>month_year</th>\n",
       "      <th>calls_per_month_count</th>\n",
       "      <th>calls_per_month_duration</th>\n",
       "      <th>messages_per_month</th>\n",
       "      <th>gbs_per_month</th>\n",
       "      <th>age</th>\n",
       "      <th>churn_date</th>\n",
       "      <th>city</th>\n",
       "      <th>first_name</th>\n",
       "      <th>last_name</th>\n",
       "      <th>reg_date</th>\n",
       "      <th>tariff</th>\n",
       "    </tr>\n",
       "  </thead>\n",
       "  <tbody>\n",
       "    <tr>\n",
       "      <td>0</td>\n",
       "      <td>1000</td>\n",
       "      <td>2018-05-01</td>\n",
       "      <td>22.0</td>\n",
       "      <td>159.0</td>\n",
       "      <td>22.0</td>\n",
       "      <td>3.0</td>\n",
       "      <td>52</td>\n",
       "      <td>NaT</td>\n",
       "      <td>Краснодар</td>\n",
       "      <td>Рафаил</td>\n",
       "      <td>Верещагин</td>\n",
       "      <td>2018-05-25</td>\n",
       "      <td>ultra</td>\n",
       "    </tr>\n",
       "    <tr>\n",
       "      <td>1</td>\n",
       "      <td>1000</td>\n",
       "      <td>2018-06-01</td>\n",
       "      <td>43.0</td>\n",
       "      <td>172.0</td>\n",
       "      <td>60.0</td>\n",
       "      <td>23.0</td>\n",
       "      <td>52</td>\n",
       "      <td>NaT</td>\n",
       "      <td>Краснодар</td>\n",
       "      <td>Рафаил</td>\n",
       "      <td>Верещагин</td>\n",
       "      <td>2018-05-25</td>\n",
       "      <td>ultra</td>\n",
       "    </tr>\n",
       "    <tr>\n",
       "      <td>2</td>\n",
       "      <td>1000</td>\n",
       "      <td>2018-07-01</td>\n",
       "      <td>47.0</td>\n",
       "      <td>340.0</td>\n",
       "      <td>75.0</td>\n",
       "      <td>14.0</td>\n",
       "      <td>52</td>\n",
       "      <td>NaT</td>\n",
       "      <td>Краснодар</td>\n",
       "      <td>Рафаил</td>\n",
       "      <td>Верещагин</td>\n",
       "      <td>2018-05-25</td>\n",
       "      <td>ultra</td>\n",
       "    </tr>\n",
       "    <tr>\n",
       "      <td>3</td>\n",
       "      <td>1000</td>\n",
       "      <td>2018-08-01</td>\n",
       "      <td>52.0</td>\n",
       "      <td>408.0</td>\n",
       "      <td>81.0</td>\n",
       "      <td>14.0</td>\n",
       "      <td>52</td>\n",
       "      <td>NaT</td>\n",
       "      <td>Краснодар</td>\n",
       "      <td>Рафаил</td>\n",
       "      <td>Верещагин</td>\n",
       "      <td>2018-05-25</td>\n",
       "      <td>ultra</td>\n",
       "    </tr>\n",
       "    <tr>\n",
       "      <td>4</td>\n",
       "      <td>1000</td>\n",
       "      <td>2018-09-01</td>\n",
       "      <td>58.0</td>\n",
       "      <td>466.0</td>\n",
       "      <td>57.0</td>\n",
       "      <td>15.0</td>\n",
       "      <td>52</td>\n",
       "      <td>NaT</td>\n",
       "      <td>Краснодар</td>\n",
       "      <td>Рафаил</td>\n",
       "      <td>Верещагин</td>\n",
       "      <td>2018-05-25</td>\n",
       "      <td>ultra</td>\n",
       "    </tr>\n",
       "  </tbody>\n",
       "</table>\n",
       "</div>"
      ],
      "text/plain": [
       "   user_id month_year  calls_per_month_count  calls_per_month_duration  \\\n",
       "0     1000 2018-05-01                   22.0                     159.0   \n",
       "1     1000 2018-06-01                   43.0                     172.0   \n",
       "2     1000 2018-07-01                   47.0                     340.0   \n",
       "3     1000 2018-08-01                   52.0                     408.0   \n",
       "4     1000 2018-09-01                   58.0                     466.0   \n",
       "\n",
       "   messages_per_month  gbs_per_month  age churn_date       city first_name  \\\n",
       "0                22.0            3.0   52        NaT  Краснодар     Рафаил   \n",
       "1                60.0           23.0   52        NaT  Краснодар     Рафаил   \n",
       "2                75.0           14.0   52        NaT  Краснодар     Рафаил   \n",
       "3                81.0           14.0   52        NaT  Краснодар     Рафаил   \n",
       "4                57.0           15.0   52        NaT  Краснодар     Рафаил   \n",
       "\n",
       "   last_name   reg_date tariff  \n",
       "0  Верещагин 2018-05-25  ultra  \n",
       "1  Верещагин 2018-05-25  ultra  \n",
       "2  Верещагин 2018-05-25  ultra  \n",
       "3  Верещагин 2018-05-25  ultra  \n",
       "4  Верещагин 2018-05-25  ultra  "
      ]
     },
     "execution_count": 62,
     "metadata": {},
     "output_type": "execute_result"
    }
   ],
   "source": [
    "df.head()"
   ]
  },
  {
   "cell_type": "code",
   "execution_count": 63,
   "metadata": {},
   "outputs": [
    {
     "name": "stdout",
     "output_type": "stream",
     "text": [
      "<class 'pandas.core.frame.DataFrame'>\n",
      "Int64Index: 3214 entries, 0 to 3213\n",
      "Data columns (total 13 columns):\n",
      "user_id                     3214 non-null int64\n",
      "month_year                  3214 non-null datetime64[ns]\n",
      "calls_per_month_count       3174 non-null float64\n",
      "calls_per_month_duration    3174 non-null float64\n",
      "messages_per_month          2717 non-null float64\n",
      "gbs_per_month               3201 non-null float64\n",
      "age                         3214 non-null int64\n",
      "churn_date                  187 non-null datetime64[ns]\n",
      "city                        3214 non-null object\n",
      "first_name                  3214 non-null object\n",
      "last_name                   3214 non-null object\n",
      "reg_date                    3214 non-null datetime64[ns]\n",
      "tariff                      3214 non-null object\n",
      "dtypes: datetime64[ns](3), float64(4), int64(2), object(4)\n",
      "memory usage: 351.5+ KB\n"
     ]
    }
   ],
   "source": [
    "df.info()"
   ]
  },
  {
   "cell_type": "code",
   "execution_count": 64,
   "metadata": {},
   "outputs": [
    {
     "data": {
      "text/html": [
       "<div>\n",
       "<style scoped>\n",
       "    .dataframe tbody tr th:only-of-type {\n",
       "        vertical-align: middle;\n",
       "    }\n",
       "\n",
       "    .dataframe tbody tr th {\n",
       "        vertical-align: top;\n",
       "    }\n",
       "\n",
       "    .dataframe thead th {\n",
       "        text-align: right;\n",
       "    }\n",
       "</style>\n",
       "<table border=\"1\" class=\"dataframe\">\n",
       "  <thead>\n",
       "    <tr style=\"text-align: right;\">\n",
       "      <th></th>\n",
       "      <th>user_id</th>\n",
       "      <th>month_year</th>\n",
       "      <th>calls_per_month_count</th>\n",
       "      <th>calls_per_month_duration</th>\n",
       "      <th>messages_per_month</th>\n",
       "      <th>gbs_per_month</th>\n",
       "      <th>age</th>\n",
       "      <th>churn_date</th>\n",
       "      <th>city</th>\n",
       "      <th>first_name</th>\n",
       "      <th>last_name</th>\n",
       "      <th>reg_date</th>\n",
       "      <th>tariff</th>\n",
       "    </tr>\n",
       "  </thead>\n",
       "  <tbody>\n",
       "    <tr>\n",
       "      <td>8</td>\n",
       "      <td>1001</td>\n",
       "      <td>2018-11-01</td>\n",
       "      <td>59.0</td>\n",
       "      <td>430.0</td>\n",
       "      <td>NaN</td>\n",
       "      <td>18.0</td>\n",
       "      <td>41</td>\n",
       "      <td>NaT</td>\n",
       "      <td>Москва</td>\n",
       "      <td>Иван</td>\n",
       "      <td>Ежов</td>\n",
       "      <td>2018-11-01</td>\n",
       "      <td>smart</td>\n",
       "    </tr>\n",
       "    <tr>\n",
       "      <td>9</td>\n",
       "      <td>1001</td>\n",
       "      <td>2018-12-01</td>\n",
       "      <td>63.0</td>\n",
       "      <td>414.0</td>\n",
       "      <td>NaN</td>\n",
       "      <td>14.0</td>\n",
       "      <td>41</td>\n",
       "      <td>NaT</td>\n",
       "      <td>Москва</td>\n",
       "      <td>Иван</td>\n",
       "      <td>Ежов</td>\n",
       "      <td>2018-11-01</td>\n",
       "      <td>smart</td>\n",
       "    </tr>\n",
       "    <tr>\n",
       "      <td>42</td>\n",
       "      <td>1006</td>\n",
       "      <td>2018-02-01</td>\n",
       "      <td>3.0</td>\n",
       "      <td>42.0</td>\n",
       "      <td>NaN</td>\n",
       "      <td>2.0</td>\n",
       "      <td>21</td>\n",
       "      <td>NaT</td>\n",
       "      <td>Ульяновск</td>\n",
       "      <td>Леонид</td>\n",
       "      <td>Ермолаев</td>\n",
       "      <td>2018-02-26</td>\n",
       "      <td>smart</td>\n",
       "    </tr>\n",
       "    <tr>\n",
       "      <td>43</td>\n",
       "      <td>1006</td>\n",
       "      <td>2018-03-01</td>\n",
       "      <td>46.0</td>\n",
       "      <td>286.0</td>\n",
       "      <td>NaN</td>\n",
       "      <td>17.0</td>\n",
       "      <td>21</td>\n",
       "      <td>NaT</td>\n",
       "      <td>Ульяновск</td>\n",
       "      <td>Леонид</td>\n",
       "      <td>Ермолаев</td>\n",
       "      <td>2018-02-26</td>\n",
       "      <td>smart</td>\n",
       "    </tr>\n",
       "    <tr>\n",
       "      <td>44</td>\n",
       "      <td>1006</td>\n",
       "      <td>2018-04-01</td>\n",
       "      <td>47.0</td>\n",
       "      <td>356.0</td>\n",
       "      <td>NaN</td>\n",
       "      <td>14.0</td>\n",
       "      <td>21</td>\n",
       "      <td>NaT</td>\n",
       "      <td>Ульяновск</td>\n",
       "      <td>Леонид</td>\n",
       "      <td>Ермолаев</td>\n",
       "      <td>2018-02-26</td>\n",
       "      <td>smart</td>\n",
       "    </tr>\n",
       "  </tbody>\n",
       "</table>\n",
       "</div>"
      ],
      "text/plain": [
       "    user_id month_year  calls_per_month_count  calls_per_month_duration  \\\n",
       "8      1001 2018-11-01                   59.0                     430.0   \n",
       "9      1001 2018-12-01                   63.0                     414.0   \n",
       "42     1006 2018-02-01                    3.0                      42.0   \n",
       "43     1006 2018-03-01                   46.0                     286.0   \n",
       "44     1006 2018-04-01                   47.0                     356.0   \n",
       "\n",
       "    messages_per_month  gbs_per_month  age churn_date       city first_name  \\\n",
       "8                  NaN           18.0   41        NaT     Москва       Иван   \n",
       "9                  NaN           14.0   41        NaT     Москва       Иван   \n",
       "42                 NaN            2.0   21        NaT  Ульяновск     Леонид   \n",
       "43                 NaN           17.0   21        NaT  Ульяновск     Леонид   \n",
       "44                 NaN           14.0   21        NaT  Ульяновск     Леонид   \n",
       "\n",
       "   last_name   reg_date tariff  \n",
       "8       Ежов 2018-11-01  smart  \n",
       "9       Ежов 2018-11-01  smart  \n",
       "42  Ермолаев 2018-02-26  smart  \n",
       "43  Ермолаев 2018-02-26  smart  \n",
       "44  Ермолаев 2018-02-26  smart  "
      ]
     },
     "execution_count": 64,
     "metadata": {},
     "output_type": "execute_result"
    }
   ],
   "source": [
    "df[df['messages_per_month'].isna()].head()"
   ]
  },
  {
   "cell_type": "markdown",
   "metadata": {},
   "source": [
    "Мы видим пропущенные значения в колонке `messages_per_month` у разных пользователей. Это может означать только одно: в такие месяца эти пользователи не отправляли смс-сообщения. Эти _NaN_ стоит заменить на нулевые значения. "
   ]
  },
  {
   "cell_type": "code",
   "execution_count": 65,
   "metadata": {},
   "outputs": [],
   "source": [
    "df['messages_per_month'] = df['messages_per_month'].fillna(0)"
   ]
  },
  {
   "cell_type": "markdown",
   "metadata": {},
   "source": [
    "Можно также заметить пропущенные значение в колонках `calls_per_month_count` и `calls_per_month_duration`."
   ]
  },
  {
   "cell_type": "code",
   "execution_count": 66,
   "metadata": {
    "scrolled": true
   },
   "outputs": [
    {
     "data": {
      "text/html": [
       "<div>\n",
       "<style scoped>\n",
       "    .dataframe tbody tr th:only-of-type {\n",
       "        vertical-align: middle;\n",
       "    }\n",
       "\n",
       "    .dataframe tbody tr th {\n",
       "        vertical-align: top;\n",
       "    }\n",
       "\n",
       "    .dataframe thead th {\n",
       "        text-align: right;\n",
       "    }\n",
       "</style>\n",
       "<table border=\"1\" class=\"dataframe\">\n",
       "  <thead>\n",
       "    <tr style=\"text-align: right;\">\n",
       "      <th></th>\n",
       "      <th>user_id</th>\n",
       "      <th>month_year</th>\n",
       "      <th>calls_per_month_count</th>\n",
       "      <th>calls_per_month_duration</th>\n",
       "      <th>messages_per_month</th>\n",
       "      <th>gbs_per_month</th>\n",
       "      <th>age</th>\n",
       "      <th>churn_date</th>\n",
       "      <th>city</th>\n",
       "      <th>first_name</th>\n",
       "      <th>last_name</th>\n",
       "      <th>reg_date</th>\n",
       "      <th>tariff</th>\n",
       "    </tr>\n",
       "  </thead>\n",
       "  <tbody>\n",
       "    <tr>\n",
       "      <td>3174</td>\n",
       "      <td>1091</td>\n",
       "      <td>2018-05-01</td>\n",
       "      <td>NaN</td>\n",
       "      <td>NaN</td>\n",
       "      <td>30.0</td>\n",
       "      <td>11.0</td>\n",
       "      <td>36</td>\n",
       "      <td>NaT</td>\n",
       "      <td>Набережные Челны</td>\n",
       "      <td>Вера</td>\n",
       "      <td>Суслова</td>\n",
       "      <td>2018-05-08</td>\n",
       "      <td>ultra</td>\n",
       "    </tr>\n",
       "    <tr>\n",
       "      <td>3175</td>\n",
       "      <td>1091</td>\n",
       "      <td>2018-06-01</td>\n",
       "      <td>NaN</td>\n",
       "      <td>NaN</td>\n",
       "      <td>30.0</td>\n",
       "      <td>10.0</td>\n",
       "      <td>36</td>\n",
       "      <td>NaT</td>\n",
       "      <td>Набережные Челны</td>\n",
       "      <td>Вера</td>\n",
       "      <td>Суслова</td>\n",
       "      <td>2018-05-08</td>\n",
       "      <td>ultra</td>\n",
       "    </tr>\n",
       "    <tr>\n",
       "      <td>3176</td>\n",
       "      <td>1091</td>\n",
       "      <td>2018-07-01</td>\n",
       "      <td>NaN</td>\n",
       "      <td>NaN</td>\n",
       "      <td>35.0</td>\n",
       "      <td>17.0</td>\n",
       "      <td>36</td>\n",
       "      <td>NaT</td>\n",
       "      <td>Набережные Челны</td>\n",
       "      <td>Вера</td>\n",
       "      <td>Суслова</td>\n",
       "      <td>2018-05-08</td>\n",
       "      <td>ultra</td>\n",
       "    </tr>\n",
       "    <tr>\n",
       "      <td>3177</td>\n",
       "      <td>1091</td>\n",
       "      <td>2018-08-01</td>\n",
       "      <td>NaN</td>\n",
       "      <td>NaN</td>\n",
       "      <td>31.0</td>\n",
       "      <td>13.0</td>\n",
       "      <td>36</td>\n",
       "      <td>NaT</td>\n",
       "      <td>Набережные Челны</td>\n",
       "      <td>Вера</td>\n",
       "      <td>Суслова</td>\n",
       "      <td>2018-05-08</td>\n",
       "      <td>ultra</td>\n",
       "    </tr>\n",
       "    <tr>\n",
       "      <td>3178</td>\n",
       "      <td>1091</td>\n",
       "      <td>2018-09-01</td>\n",
       "      <td>NaN</td>\n",
       "      <td>NaN</td>\n",
       "      <td>32.0</td>\n",
       "      <td>17.0</td>\n",
       "      <td>36</td>\n",
       "      <td>NaT</td>\n",
       "      <td>Набережные Челны</td>\n",
       "      <td>Вера</td>\n",
       "      <td>Суслова</td>\n",
       "      <td>2018-05-08</td>\n",
       "      <td>ultra</td>\n",
       "    </tr>\n",
       "  </tbody>\n",
       "</table>\n",
       "</div>"
      ],
      "text/plain": [
       "      user_id month_year  calls_per_month_count  calls_per_month_duration  \\\n",
       "3174     1091 2018-05-01                    NaN                       NaN   \n",
       "3175     1091 2018-06-01                    NaN                       NaN   \n",
       "3176     1091 2018-07-01                    NaN                       NaN   \n",
       "3177     1091 2018-08-01                    NaN                       NaN   \n",
       "3178     1091 2018-09-01                    NaN                       NaN   \n",
       "\n",
       "      messages_per_month  gbs_per_month  age churn_date              city  \\\n",
       "3174                30.0           11.0   36        NaT  Набережные Челны   \n",
       "3175                30.0           10.0   36        NaT  Набережные Челны   \n",
       "3176                35.0           17.0   36        NaT  Набережные Челны   \n",
       "3177                31.0           13.0   36        NaT  Набережные Челны   \n",
       "3178                32.0           17.0   36        NaT  Набережные Челны   \n",
       "\n",
       "     first_name last_name   reg_date tariff  \n",
       "3174       Вера   Суслова 2018-05-08  ultra  \n",
       "3175       Вера   Суслова 2018-05-08  ultra  \n",
       "3176       Вера   Суслова 2018-05-08  ultra  \n",
       "3177       Вера   Суслова 2018-05-08  ultra  \n",
       "3178       Вера   Суслова 2018-05-08  ultra  "
      ]
     },
     "execution_count": 66,
     "metadata": {},
     "output_type": "execute_result"
    }
   ],
   "source": [
    "df[df['calls_per_month_duration'].isna()].head()"
   ]
  },
  {
   "cell_type": "code",
   "execution_count": 67,
   "metadata": {},
   "outputs": [
    {
     "name": "stdout",
     "output_type": "stream",
     "text": [
      "Можно обнаружить, что в этих колонках пропуски пересекаются.\n",
      "Соответственно, можно предположить, что существуют пользователи, которые попросту не пользуются звонками:\n",
      "возможно, они звонят через мессенжеры или не пользуются жтим телефоном для звонков вовсе.\n",
      "Таких пользователей всего 8\n"
     ]
    }
   ],
   "source": [
    "print('Можно обнаружить, что в этих колонках пропуски пересекаются.')\n",
    "print('Соответственно, можно предположить, что существуют пользователи, которые попросту не пользуются звонками:')\n",
    "print('возможно, они звонят через мессенжеры или не пользуются жтим телефоном для звонков вовсе.')\n",
    "print('Таких пользователей всего', len(df[df['calls_per_month_duration'].isna()]['user_id'].unique()))"
   ]
  },
  {
   "cell_type": "markdown",
   "metadata": {},
   "source": [
    "В данном случае мы можем себе позволить заменить NaN на нулевые значения, как и в ситуации с смс-сообщениями. "
   ]
  },
  {
   "cell_type": "code",
   "execution_count": 68,
   "metadata": {},
   "outputs": [],
   "source": [
    "df['calls_per_month_count'] = df['calls_per_month_count'].fillna(0)\n",
    "df['calls_per_month_duration'] = df['calls_per_month_duration'].fillna(0)"
   ]
  },
  {
   "cell_type": "markdown",
   "metadata": {},
   "source": [
    "Пропуски остаются в `gbs_per_month`."
   ]
  },
  {
   "cell_type": "code",
   "execution_count": 69,
   "metadata": {},
   "outputs": [
    {
     "data": {
      "text/html": [
       "<div>\n",
       "<style scoped>\n",
       "    .dataframe tbody tr th:only-of-type {\n",
       "        vertical-align: middle;\n",
       "    }\n",
       "\n",
       "    .dataframe tbody tr th {\n",
       "        vertical-align: top;\n",
       "    }\n",
       "\n",
       "    .dataframe thead th {\n",
       "        text-align: right;\n",
       "    }\n",
       "</style>\n",
       "<table border=\"1\" class=\"dataframe\">\n",
       "  <thead>\n",
       "    <tr style=\"text-align: right;\">\n",
       "      <th></th>\n",
       "      <th>user_id</th>\n",
       "      <th>month_year</th>\n",
       "      <th>calls_per_month_count</th>\n",
       "      <th>calls_per_month_duration</th>\n",
       "      <th>messages_per_month</th>\n",
       "      <th>gbs_per_month</th>\n",
       "      <th>age</th>\n",
       "      <th>churn_date</th>\n",
       "      <th>city</th>\n",
       "      <th>first_name</th>\n",
       "      <th>last_name</th>\n",
       "      <th>reg_date</th>\n",
       "      <th>tariff</th>\n",
       "    </tr>\n",
       "  </thead>\n",
       "  <tbody>\n",
       "    <tr>\n",
       "      <td>584</td>\n",
       "      <td>1094</td>\n",
       "      <td>2018-05-01</td>\n",
       "      <td>16.0</td>\n",
       "      <td>107.0</td>\n",
       "      <td>3.0</td>\n",
       "      <td>NaN</td>\n",
       "      <td>37</td>\n",
       "      <td>NaT</td>\n",
       "      <td>Новосибирск</td>\n",
       "      <td>Даниэла</td>\n",
       "      <td>Пугачева</td>\n",
       "      <td>2018-05-28</td>\n",
       "      <td>ultra</td>\n",
       "    </tr>\n",
       "    <tr>\n",
       "      <td>1697</td>\n",
       "      <td>1273</td>\n",
       "      <td>2018-05-01</td>\n",
       "      <td>24.0</td>\n",
       "      <td>220.0</td>\n",
       "      <td>21.0</td>\n",
       "      <td>NaN</td>\n",
       "      <td>46</td>\n",
       "      <td>NaT</td>\n",
       "      <td>Курган</td>\n",
       "      <td>Рэм</td>\n",
       "      <td>Корнилов</td>\n",
       "      <td>2018-05-15</td>\n",
       "      <td>ultra</td>\n",
       "    </tr>\n",
       "    <tr>\n",
       "      <td>1698</td>\n",
       "      <td>1273</td>\n",
       "      <td>2018-06-01</td>\n",
       "      <td>40.0</td>\n",
       "      <td>230.0</td>\n",
       "      <td>38.0</td>\n",
       "      <td>NaN</td>\n",
       "      <td>46</td>\n",
       "      <td>NaT</td>\n",
       "      <td>Курган</td>\n",
       "      <td>Рэм</td>\n",
       "      <td>Корнилов</td>\n",
       "      <td>2018-05-15</td>\n",
       "      <td>ultra</td>\n",
       "    </tr>\n",
       "    <tr>\n",
       "      <td>1699</td>\n",
       "      <td>1273</td>\n",
       "      <td>2018-07-01</td>\n",
       "      <td>44.0</td>\n",
       "      <td>253.0</td>\n",
       "      <td>37.0</td>\n",
       "      <td>NaN</td>\n",
       "      <td>46</td>\n",
       "      <td>NaT</td>\n",
       "      <td>Курган</td>\n",
       "      <td>Рэм</td>\n",
       "      <td>Корнилов</td>\n",
       "      <td>2018-05-15</td>\n",
       "      <td>ultra</td>\n",
       "    </tr>\n",
       "    <tr>\n",
       "      <td>1700</td>\n",
       "      <td>1273</td>\n",
       "      <td>2018-08-01</td>\n",
       "      <td>53.0</td>\n",
       "      <td>253.0</td>\n",
       "      <td>41.0</td>\n",
       "      <td>NaN</td>\n",
       "      <td>46</td>\n",
       "      <td>NaT</td>\n",
       "      <td>Курган</td>\n",
       "      <td>Рэм</td>\n",
       "      <td>Корнилов</td>\n",
       "      <td>2018-05-15</td>\n",
       "      <td>ultra</td>\n",
       "    </tr>\n",
       "  </tbody>\n",
       "</table>\n",
       "</div>"
      ],
      "text/plain": [
       "      user_id month_year  calls_per_month_count  calls_per_month_duration  \\\n",
       "584      1094 2018-05-01                   16.0                     107.0   \n",
       "1697     1273 2018-05-01                   24.0                     220.0   \n",
       "1698     1273 2018-06-01                   40.0                     230.0   \n",
       "1699     1273 2018-07-01                   44.0                     253.0   \n",
       "1700     1273 2018-08-01                   53.0                     253.0   \n",
       "\n",
       "      messages_per_month  gbs_per_month  age churn_date         city  \\\n",
       "584                  3.0            NaN   37        NaT  Новосибирск   \n",
       "1697                21.0            NaN   46        NaT       Курган   \n",
       "1698                38.0            NaN   46        NaT       Курган   \n",
       "1699                37.0            NaN   46        NaT       Курган   \n",
       "1700                41.0            NaN   46        NaT       Курган   \n",
       "\n",
       "     first_name last_name   reg_date tariff  \n",
       "584     Даниэла  Пугачева 2018-05-28  ultra  \n",
       "1697        Рэм  Корнилов 2018-05-15  ultra  \n",
       "1698        Рэм  Корнилов 2018-05-15  ultra  \n",
       "1699        Рэм  Корнилов 2018-05-15  ultra  \n",
       "1700        Рэм  Корнилов 2018-05-15  ultra  "
      ]
     },
     "execution_count": 69,
     "metadata": {},
     "output_type": "execute_result"
    }
   ],
   "source": [
    "df[df['gbs_per_month'].isna()].head()"
   ]
  },
  {
   "cell_type": "code",
   "execution_count": 70,
   "metadata": {},
   "outputs": [
    {
     "name": "stdout",
     "output_type": "stream",
     "text": [
      "Таких пропусков всего 13\n",
      "При этом, остальные данные по данным пользователям за данный период у нас имеются.\n",
      "Можно также предположить, что эти пользователи не использовали мобильный интернет, а пользовались телефоном для звонков и сообщений.\n",
      "Этих пользователей всего 6\n"
     ]
    }
   ],
   "source": [
    "print ('Таких пропусков всего', len(df[df['gbs_per_month'].isna()]))\n",
    "print('При этом, остальные данные по данным пользователям за данный период у нас имеются.')\n",
    "print('Можно также предположить, что эти пользователи не использовали мобильный интернет, а пользовались телефоном для звонков и сообщений.')\n",
    "print ('Этих пользователей всего', len(df[df['gbs_per_month'].isna()]['user_id'].unique()))"
   ]
  },
  {
   "cell_type": "markdown",
   "metadata": {},
   "source": [
    "Заменяем пропуски на нулевые значения!"
   ]
  },
  {
   "cell_type": "code",
   "execution_count": 71,
   "metadata": {},
   "outputs": [],
   "source": [
    "df['gbs_per_month'] = df['gbs_per_month'].fillna(0)"
   ]
  },
  {
   "cell_type": "code",
   "execution_count": 72,
   "metadata": {},
   "outputs": [
    {
     "name": "stdout",
     "output_type": "stream",
     "text": [
      "<class 'pandas.core.frame.DataFrame'>\n",
      "Int64Index: 3214 entries, 0 to 3213\n",
      "Data columns (total 13 columns):\n",
      "user_id                     3214 non-null int64\n",
      "month_year                  3214 non-null datetime64[ns]\n",
      "calls_per_month_count       3214 non-null float64\n",
      "calls_per_month_duration    3214 non-null float64\n",
      "messages_per_month          3214 non-null float64\n",
      "gbs_per_month               3214 non-null float64\n",
      "age                         3214 non-null int64\n",
      "churn_date                  187 non-null datetime64[ns]\n",
      "city                        3214 non-null object\n",
      "first_name                  3214 non-null object\n",
      "last_name                   3214 non-null object\n",
      "reg_date                    3214 non-null datetime64[ns]\n",
      "tariff                      3214 non-null object\n",
      "dtypes: datetime64[ns](3), float64(4), int64(2), object(4)\n",
      "memory usage: 351.5+ KB\n"
     ]
    }
   ],
   "source": [
    "df.info()"
   ]
  },
  {
   "cell_type": "markdown",
   "metadata": {},
   "source": [
    "Пропущенные значения остаются только в `churn_date`, где указана дата прекращения пользования тарифов. Эти пропуски нам заполнять не нужно. "
   ]
  },
  {
   "cell_type": "markdown",
   "metadata": {},
   "source": [
    "**Теперь у нас есть база данных `df`, в которой нет пропущенных значенийи и собраны основные данные пользователей:**\n",
    "* идентификатор пользователя\n",
    "* количество звонков в месяц\n",
    "* суммарная длительность разговоров за месяц\n",
    "* количество смс за месяц\n",
    "* количество израсходованных мегайбайт интернета за месяц\n",
    "* имя, фамилия, возраст и город пользователя"
   ]
  },
  {
   "cell_type": "markdown",
   "metadata": {},
   "source": [
    "Далее мы можем провести необходимые расчеты, пользуясь этой базой данных."
   ]
  },
  {
   "cell_type": "markdown",
   "metadata": {},
   "source": [
    "### Расчет помесячной выручки с каждого пользователя"
   ]
  },
  {
   "cell_type": "markdown",
   "metadata": {},
   "source": [
    "Мы располагаем необходимой информацией по тарифам _**Smart**_ и _**Ultra**_:\n",
    "\n",
    "**Тариф Smart**:\n",
    "* Ежемесячная плата: 550 рублей\n",
    "* Включено 500 минут разговора, 50 сообщений и 15 Гб интернет-трафика\n",
    "* Стоимость услуг сверх тарифного пакета:\n",
    "** минута разговора: 3 рубля\n",
    "** сообщение: 3 рубля\n",
    "** 1 Гб интернет-трафика: 200 рублей\n",
    "\n",
    "**Тариф Ultra**:\n",
    "* Ежемесячная плата: 1950 рублей\n",
    "* Включено 3000 минут разговора, 1000 сообщений и 30 Гб интернет-трафика\n",
    "* Стоимость услуг сверх тарифного пакета:\n",
    "** минута разговора: 1 рубль\n",
    "** сообщение: 1 рубль\n",
    "** 1 Гб интернет-трафика: 150 рублей\n",
    "\n",
    "Эта же информация описана в таблице **`tariffs`**."
   ]
  },
  {
   "cell_type": "code",
   "execution_count": 73,
   "metadata": {},
   "outputs": [
    {
     "data": {
      "text/html": [
       "<div>\n",
       "<style scoped>\n",
       "    .dataframe tbody tr th:only-of-type {\n",
       "        vertical-align: middle;\n",
       "    }\n",
       "\n",
       "    .dataframe tbody tr th {\n",
       "        vertical-align: top;\n",
       "    }\n",
       "\n",
       "    .dataframe thead th {\n",
       "        text-align: right;\n",
       "    }\n",
       "</style>\n",
       "<table border=\"1\" class=\"dataframe\">\n",
       "  <thead>\n",
       "    <tr style=\"text-align: right;\">\n",
       "      <th></th>\n",
       "      <th>messages_included</th>\n",
       "      <th>gb_per_month_included</th>\n",
       "      <th>minutes_included</th>\n",
       "      <th>rub_monthly_fee</th>\n",
       "      <th>rub_per_gb</th>\n",
       "      <th>rub_per_message</th>\n",
       "      <th>rub_per_minute</th>\n",
       "      <th>tariff_name</th>\n",
       "    </tr>\n",
       "  </thead>\n",
       "  <tbody>\n",
       "    <tr>\n",
       "      <td>0</td>\n",
       "      <td>50</td>\n",
       "      <td>15.0</td>\n",
       "      <td>500</td>\n",
       "      <td>550</td>\n",
       "      <td>200</td>\n",
       "      <td>3</td>\n",
       "      <td>3</td>\n",
       "      <td>smart</td>\n",
       "    </tr>\n",
       "    <tr>\n",
       "      <td>1</td>\n",
       "      <td>1000</td>\n",
       "      <td>30.0</td>\n",
       "      <td>3000</td>\n",
       "      <td>1950</td>\n",
       "      <td>150</td>\n",
       "      <td>1</td>\n",
       "      <td>1</td>\n",
       "      <td>ultra</td>\n",
       "    </tr>\n",
       "  </tbody>\n",
       "</table>\n",
       "</div>"
      ],
      "text/plain": [
       "   messages_included  gb_per_month_included  minutes_included  \\\n",
       "0                 50                   15.0               500   \n",
       "1               1000                   30.0              3000   \n",
       "\n",
       "   rub_monthly_fee  rub_per_gb  rub_per_message  rub_per_minute tariff_name  \n",
       "0              550         200                3               3       smart  \n",
       "1             1950         150                1               1       ultra  "
      ]
     },
     "execution_count": 73,
     "metadata": {},
     "output_type": "execute_result"
    }
   ],
   "source": [
    "tariffs"
   ]
  },
  {
   "cell_type": "markdown",
   "metadata": {},
   "source": [
    "Имея в распоряжении эти данные, мы можем подсчитать, какую прибыль \"Мегалайн\" получила каждый месяц от каждого пользователя. "
   ]
  },
  {
   "cell_type": "code",
   "execution_count": 74,
   "metadata": {},
   "outputs": [],
   "source": [
    "def monthly_profit(row):\n",
    "    minutes=row['calls_per_month_duration']\n",
    "    messages=row['messages_per_month']\n",
    "    gbs=row['gbs_per_month']\n",
    "    tariff=row['tariff']\n",
    "    \n",
    "    if tariff=='smart':\n",
    "        monthly_profit=550\n",
    "        if minutes>500:\n",
    "            extra_minutes=minutes-500\n",
    "            monthly_profit+=extra_minutes*3\n",
    "        if messages>50:\n",
    "            extra_messages=messages-50\n",
    "            monthly_profit+=extra_messages*3\n",
    "        if gbs>15:\n",
    "            extra_traffic=gbs-15\n",
    "            monthly_profit+=extra_traffic*200\n",
    "    else:\n",
    "        monthly_profit=1950\n",
    "        if minutes>3000:\n",
    "            extra_minutes=minutes-3000\n",
    "            monthly_profit+=extra_minutes*1\n",
    "        if messages>1000:\n",
    "            extra_messages=messages-1000\n",
    "            monthly_profit+=extra_messages*1\n",
    "        if gbs>30:\n",
    "            extra_traffic=gbs-30\n",
    "            monthly_profit+=extra_traffic*150\n",
    "    return monthly_profit"
   ]
  },
  {
   "cell_type": "code",
   "execution_count": 75,
   "metadata": {},
   "outputs": [],
   "source": [
    "df['monthly_profit'] = df.apply(monthly_profit, axis=1)"
   ]
  },
  {
   "cell_type": "code",
   "execution_count": 76,
   "metadata": {
    "scrolled": true
   },
   "outputs": [
    {
     "data": {
      "text/html": [
       "<div>\n",
       "<style scoped>\n",
       "    .dataframe tbody tr th:only-of-type {\n",
       "        vertical-align: middle;\n",
       "    }\n",
       "\n",
       "    .dataframe tbody tr th {\n",
       "        vertical-align: top;\n",
       "    }\n",
       "\n",
       "    .dataframe thead th {\n",
       "        text-align: right;\n",
       "    }\n",
       "</style>\n",
       "<table border=\"1\" class=\"dataframe\">\n",
       "  <thead>\n",
       "    <tr style=\"text-align: right;\">\n",
       "      <th></th>\n",
       "      <th>user_id</th>\n",
       "      <th>month_year</th>\n",
       "      <th>calls_per_month_count</th>\n",
       "      <th>calls_per_month_duration</th>\n",
       "      <th>messages_per_month</th>\n",
       "      <th>gbs_per_month</th>\n",
       "      <th>age</th>\n",
       "      <th>churn_date</th>\n",
       "      <th>city</th>\n",
       "      <th>first_name</th>\n",
       "      <th>last_name</th>\n",
       "      <th>reg_date</th>\n",
       "      <th>tariff</th>\n",
       "      <th>monthly_profit</th>\n",
       "    </tr>\n",
       "  </thead>\n",
       "  <tbody>\n",
       "    <tr>\n",
       "      <td>0</td>\n",
       "      <td>1000</td>\n",
       "      <td>2018-05-01</td>\n",
       "      <td>22.0</td>\n",
       "      <td>159.0</td>\n",
       "      <td>22.0</td>\n",
       "      <td>3.0</td>\n",
       "      <td>52</td>\n",
       "      <td>NaT</td>\n",
       "      <td>Краснодар</td>\n",
       "      <td>Рафаил</td>\n",
       "      <td>Верещагин</td>\n",
       "      <td>2018-05-25</td>\n",
       "      <td>ultra</td>\n",
       "      <td>1950.0</td>\n",
       "    </tr>\n",
       "    <tr>\n",
       "      <td>1</td>\n",
       "      <td>1000</td>\n",
       "      <td>2018-06-01</td>\n",
       "      <td>43.0</td>\n",
       "      <td>172.0</td>\n",
       "      <td>60.0</td>\n",
       "      <td>23.0</td>\n",
       "      <td>52</td>\n",
       "      <td>NaT</td>\n",
       "      <td>Краснодар</td>\n",
       "      <td>Рафаил</td>\n",
       "      <td>Верещагин</td>\n",
       "      <td>2018-05-25</td>\n",
       "      <td>ultra</td>\n",
       "      <td>1950.0</td>\n",
       "    </tr>\n",
       "    <tr>\n",
       "      <td>2</td>\n",
       "      <td>1000</td>\n",
       "      <td>2018-07-01</td>\n",
       "      <td>47.0</td>\n",
       "      <td>340.0</td>\n",
       "      <td>75.0</td>\n",
       "      <td>14.0</td>\n",
       "      <td>52</td>\n",
       "      <td>NaT</td>\n",
       "      <td>Краснодар</td>\n",
       "      <td>Рафаил</td>\n",
       "      <td>Верещагин</td>\n",
       "      <td>2018-05-25</td>\n",
       "      <td>ultra</td>\n",
       "      <td>1950.0</td>\n",
       "    </tr>\n",
       "    <tr>\n",
       "      <td>3</td>\n",
       "      <td>1000</td>\n",
       "      <td>2018-08-01</td>\n",
       "      <td>52.0</td>\n",
       "      <td>408.0</td>\n",
       "      <td>81.0</td>\n",
       "      <td>14.0</td>\n",
       "      <td>52</td>\n",
       "      <td>NaT</td>\n",
       "      <td>Краснодар</td>\n",
       "      <td>Рафаил</td>\n",
       "      <td>Верещагин</td>\n",
       "      <td>2018-05-25</td>\n",
       "      <td>ultra</td>\n",
       "      <td>1950.0</td>\n",
       "    </tr>\n",
       "    <tr>\n",
       "      <td>4</td>\n",
       "      <td>1000</td>\n",
       "      <td>2018-09-01</td>\n",
       "      <td>58.0</td>\n",
       "      <td>466.0</td>\n",
       "      <td>57.0</td>\n",
       "      <td>15.0</td>\n",
       "      <td>52</td>\n",
       "      <td>NaT</td>\n",
       "      <td>Краснодар</td>\n",
       "      <td>Рафаил</td>\n",
       "      <td>Верещагин</td>\n",
       "      <td>2018-05-25</td>\n",
       "      <td>ultra</td>\n",
       "      <td>1950.0</td>\n",
       "    </tr>\n",
       "    <tr>\n",
       "      <td>5</td>\n",
       "      <td>1000</td>\n",
       "      <td>2018-10-01</td>\n",
       "      <td>57.0</td>\n",
       "      <td>350.0</td>\n",
       "      <td>73.0</td>\n",
       "      <td>15.0</td>\n",
       "      <td>52</td>\n",
       "      <td>NaT</td>\n",
       "      <td>Краснодар</td>\n",
       "      <td>Рафаил</td>\n",
       "      <td>Верещагин</td>\n",
       "      <td>2018-05-25</td>\n",
       "      <td>ultra</td>\n",
       "      <td>1950.0</td>\n",
       "    </tr>\n",
       "    <tr>\n",
       "      <td>6</td>\n",
       "      <td>1000</td>\n",
       "      <td>2018-11-01</td>\n",
       "      <td>43.0</td>\n",
       "      <td>338.0</td>\n",
       "      <td>58.0</td>\n",
       "      <td>15.0</td>\n",
       "      <td>52</td>\n",
       "      <td>NaT</td>\n",
       "      <td>Краснодар</td>\n",
       "      <td>Рафаил</td>\n",
       "      <td>Верещагин</td>\n",
       "      <td>2018-05-25</td>\n",
       "      <td>ultra</td>\n",
       "      <td>1950.0</td>\n",
       "    </tr>\n",
       "    <tr>\n",
       "      <td>7</td>\n",
       "      <td>1000</td>\n",
       "      <td>2018-12-01</td>\n",
       "      <td>46.0</td>\n",
       "      <td>333.0</td>\n",
       "      <td>70.0</td>\n",
       "      <td>10.0</td>\n",
       "      <td>52</td>\n",
       "      <td>NaT</td>\n",
       "      <td>Краснодар</td>\n",
       "      <td>Рафаил</td>\n",
       "      <td>Верещагин</td>\n",
       "      <td>2018-05-25</td>\n",
       "      <td>ultra</td>\n",
       "      <td>1950.0</td>\n",
       "    </tr>\n",
       "    <tr>\n",
       "      <td>8</td>\n",
       "      <td>1001</td>\n",
       "      <td>2018-11-01</td>\n",
       "      <td>59.0</td>\n",
       "      <td>430.0</td>\n",
       "      <td>0.0</td>\n",
       "      <td>18.0</td>\n",
       "      <td>41</td>\n",
       "      <td>NaT</td>\n",
       "      <td>Москва</td>\n",
       "      <td>Иван</td>\n",
       "      <td>Ежов</td>\n",
       "      <td>2018-11-01</td>\n",
       "      <td>smart</td>\n",
       "      <td>1150.0</td>\n",
       "    </tr>\n",
       "    <tr>\n",
       "      <td>9</td>\n",
       "      <td>1001</td>\n",
       "      <td>2018-12-01</td>\n",
       "      <td>63.0</td>\n",
       "      <td>414.0</td>\n",
       "      <td>0.0</td>\n",
       "      <td>14.0</td>\n",
       "      <td>41</td>\n",
       "      <td>NaT</td>\n",
       "      <td>Москва</td>\n",
       "      <td>Иван</td>\n",
       "      <td>Ежов</td>\n",
       "      <td>2018-11-01</td>\n",
       "      <td>smart</td>\n",
       "      <td>550.0</td>\n",
       "    </tr>\n",
       "  </tbody>\n",
       "</table>\n",
       "</div>"
      ],
      "text/plain": [
       "   user_id month_year  calls_per_month_count  calls_per_month_duration  \\\n",
       "0     1000 2018-05-01                   22.0                     159.0   \n",
       "1     1000 2018-06-01                   43.0                     172.0   \n",
       "2     1000 2018-07-01                   47.0                     340.0   \n",
       "3     1000 2018-08-01                   52.0                     408.0   \n",
       "4     1000 2018-09-01                   58.0                     466.0   \n",
       "5     1000 2018-10-01                   57.0                     350.0   \n",
       "6     1000 2018-11-01                   43.0                     338.0   \n",
       "7     1000 2018-12-01                   46.0                     333.0   \n",
       "8     1001 2018-11-01                   59.0                     430.0   \n",
       "9     1001 2018-12-01                   63.0                     414.0   \n",
       "\n",
       "   messages_per_month  gbs_per_month  age churn_date       city first_name  \\\n",
       "0                22.0            3.0   52        NaT  Краснодар     Рафаил   \n",
       "1                60.0           23.0   52        NaT  Краснодар     Рафаил   \n",
       "2                75.0           14.0   52        NaT  Краснодар     Рафаил   \n",
       "3                81.0           14.0   52        NaT  Краснодар     Рафаил   \n",
       "4                57.0           15.0   52        NaT  Краснодар     Рафаил   \n",
       "5                73.0           15.0   52        NaT  Краснодар     Рафаил   \n",
       "6                58.0           15.0   52        NaT  Краснодар     Рафаил   \n",
       "7                70.0           10.0   52        NaT  Краснодар     Рафаил   \n",
       "8                 0.0           18.0   41        NaT     Москва       Иван   \n",
       "9                 0.0           14.0   41        NaT     Москва       Иван   \n",
       "\n",
       "   last_name   reg_date tariff  monthly_profit  \n",
       "0  Верещагин 2018-05-25  ultra          1950.0  \n",
       "1  Верещагин 2018-05-25  ultra          1950.0  \n",
       "2  Верещагин 2018-05-25  ultra          1950.0  \n",
       "3  Верещагин 2018-05-25  ultra          1950.0  \n",
       "4  Верещагин 2018-05-25  ultra          1950.0  \n",
       "5  Верещагин 2018-05-25  ultra          1950.0  \n",
       "6  Верещагин 2018-05-25  ultra          1950.0  \n",
       "7  Верещагин 2018-05-25  ultra          1950.0  \n",
       "8       Ежов 2018-11-01  smart          1150.0  \n",
       "9       Ежов 2018-11-01  smart           550.0  "
      ]
     },
     "execution_count": 76,
     "metadata": {},
     "output_type": "execute_result"
    }
   ],
   "source": [
    "df.head(10)"
   ]
  },
  {
   "cell_type": "markdown",
   "metadata": {},
   "source": [
    "### Промежуточные выводы"
   ]
  },
  {
   "cell_type": "markdown",
   "metadata": {},
   "source": [
    "**В ходе данного этапа была рассчитана помесячная выручка с каждого пользователя из имеющейся выборки на основе условий тарифов оператора.**"
   ]
  },
  {
   "cell_type": "markdown",
   "metadata": {},
   "source": [
    "## Анализ данных"
   ]
  },
  {
   "cell_type": "markdown",
   "metadata": {},
   "source": [
    "На этапе анализа данных мы изучим показатели количества минут, сообщений и GB интернета для пользователей тарифов \"Смарт\" и \"Ультра\". Также рассмотрим ежемесячную выручку оператора \"Мегалайн\"."
   ]
  },
  {
   "cell_type": "code",
   "execution_count": 77,
   "metadata": {},
   "outputs": [
    {
     "data": {
      "text/html": [
       "<div>\n",
       "<style scoped>\n",
       "    .dataframe tbody tr th:only-of-type {\n",
       "        vertical-align: middle;\n",
       "    }\n",
       "\n",
       "    .dataframe tbody tr th {\n",
       "        vertical-align: top;\n",
       "    }\n",
       "\n",
       "    .dataframe thead tr th {\n",
       "        text-align: left;\n",
       "    }\n",
       "\n",
       "    .dataframe thead tr:last-of-type th {\n",
       "        text-align: right;\n",
       "    }\n",
       "</style>\n",
       "<table border=\"1\" class=\"dataframe\">\n",
       "  <thead>\n",
       "    <tr>\n",
       "      <th></th>\n",
       "      <th colspan=\"4\" halign=\"left\">calls_per_month_duration</th>\n",
       "      <th colspan=\"4\" halign=\"left\">gbs_per_month</th>\n",
       "      <th colspan=\"4\" halign=\"left\">messages_per_month</th>\n",
       "      <th colspan=\"4\" halign=\"left\">monthly_profit</th>\n",
       "    </tr>\n",
       "    <tr>\n",
       "      <th></th>\n",
       "      <th>mean</th>\n",
       "      <th>median</th>\n",
       "      <th>std</th>\n",
       "      <th>var</th>\n",
       "      <th>mean</th>\n",
       "      <th>median</th>\n",
       "      <th>std</th>\n",
       "      <th>var</th>\n",
       "      <th>mean</th>\n",
       "      <th>median</th>\n",
       "      <th>std</th>\n",
       "      <th>var</th>\n",
       "      <th>mean</th>\n",
       "      <th>median</th>\n",
       "      <th>std</th>\n",
       "      <th>var</th>\n",
       "    </tr>\n",
       "    <tr>\n",
       "      <th>tariff</th>\n",
       "      <th></th>\n",
       "      <th></th>\n",
       "      <th></th>\n",
       "      <th></th>\n",
       "      <th></th>\n",
       "      <th></th>\n",
       "      <th></th>\n",
       "      <th></th>\n",
       "      <th></th>\n",
       "      <th></th>\n",
       "      <th></th>\n",
       "      <th></th>\n",
       "      <th></th>\n",
       "      <th></th>\n",
       "      <th></th>\n",
       "      <th></th>\n",
       "    </tr>\n",
       "  </thead>\n",
       "  <tbody>\n",
       "    <tr>\n",
       "      <td>smart</td>\n",
       "      <td>417.93</td>\n",
       "      <td>422.0</td>\n",
       "      <td>190.31</td>\n",
       "      <td>36219.32</td>\n",
       "      <td>16.33</td>\n",
       "      <td>17.0</td>\n",
       "      <td>5.75</td>\n",
       "      <td>33.03</td>\n",
       "      <td>33.38</td>\n",
       "      <td>28.0</td>\n",
       "      <td>28.23</td>\n",
       "      <td>796.81</td>\n",
       "      <td>1289.97</td>\n",
       "      <td>1023.0</td>\n",
       "      <td>818.40</td>\n",
       "      <td>669785.71</td>\n",
       "    </tr>\n",
       "    <tr>\n",
       "      <td>ultra</td>\n",
       "      <td>526.62</td>\n",
       "      <td>518.0</td>\n",
       "      <td>317.61</td>\n",
       "      <td>100873.63</td>\n",
       "      <td>19.49</td>\n",
       "      <td>19.0</td>\n",
       "      <td>9.85</td>\n",
       "      <td>97.09</td>\n",
       "      <td>49.36</td>\n",
       "      <td>38.0</td>\n",
       "      <td>47.80</td>\n",
       "      <td>2285.27</td>\n",
       "      <td>2070.15</td>\n",
       "      <td>1950.0</td>\n",
       "      <td>376.19</td>\n",
       "      <td>141516.75</td>\n",
       "    </tr>\n",
       "  </tbody>\n",
       "</table>\n",
       "</div>"
      ],
      "text/plain": [
       "       calls_per_month_duration                           gbs_per_month  \\\n",
       "                           mean median     std        var          mean   \n",
       "tariff                                                                    \n",
       "smart                    417.93  422.0  190.31   36219.32         16.33   \n",
       "ultra                    526.62  518.0  317.61  100873.63         19.49   \n",
       "\n",
       "                           messages_per_month                         \\\n",
       "       median   std    var               mean median    std      var   \n",
       "tariff                                                                 \n",
       "smart    17.0  5.75  33.03              33.38   28.0  28.23   796.81   \n",
       "ultra    19.0  9.85  97.09              49.36   38.0  47.80  2285.27   \n",
       "\n",
       "       monthly_profit                             \n",
       "                 mean  median     std        var  \n",
       "tariff                                            \n",
       "smart         1289.97  1023.0  818.40  669785.71  \n",
       "ultra         2070.15  1950.0  376.19  141516.75  "
      ]
     },
     "execution_count": 77,
     "metadata": {},
     "output_type": "execute_result"
    }
   ],
   "source": [
    "df.pivot_table(\n",
    "    index=['tariff'], \n",
    "    values=['calls_per_month_duration', 'messages_per_month', 'gbs_per_month', 'monthly_profit'],\n",
    "    aggfunc= {'calls_per_month_duration': [np.mean, np.median, np.var, np.std],\n",
    "            'messages_per_month': [np.mean, np.median, np.var, np.std],\n",
    "            'gbs_per_month': [np.mean, np.median, np.var, np.std],\n",
    "             'monthly_profit': [np.mean, np.median, np.var, np.std]}\n",
    ").round(2)"
   ]
  },
  {
   "cell_type": "markdown",
   "metadata": {},
   "source": [
    "Мы видим, что в среднем и по медиане пользователи не выходят за лимиты минут в месяц - 500 минут для тарифа \"Смарт\" и 3000 минут для тарифа \"Ультра\". Однако, стоит отметить, что пользователи тарифа \"Ультра\" недобирают свои минуты: в среднем в месяц общаясь по 527 минут из доступных 3000, а по медиане и того меньше. Разумеется, есть пользователи, которые общаются выше среднего, и об этом говорят большие дисперсия и стандартное отклонение.\n",
    "\n",
    "В тарифы \"Смарт\" и \"Ультра\" входят 15 и 30GB интернет-трафика соотвественно. И в среднем (16.33GB), и по медиане (17GB) пользователи \"Смарта\" из этого пакета выходят. А средние и медианные пользователи тарифа \"Ультра\" опять недобирают: 19.49GB и 19GB при высоких значениям дисперсии и стандартного отклонения (кому-то все же удается пользоваться тарифом \"по полной\"). \n",
    "\n",
    "Из 50 для \"Смарта\" и 1000 для \"Ультра\" сообщений, включенных в пакет, пользователи первого тарифа в среднем используют 33, а второго - 49. Несмотря на высокие диперсию и стандартное отклонение, можно заявить, что пользователи тарифа \"Ультра\", входящие в данную выборку, не нуждаются в 1000 смс-сообщений в месяц. \n",
    "\n",
    "Что же касается ежемесячной платы по тарифу, при условии, что пользователь не выходит за пределы пакета, он платит 550 рублей за \"Смарт\" и 1950 рублей за \"Ультра\". Можно наблюдать, что пользователи \"Ультра\" редко выходят за пределы: 1950 рублей - медианное значение, среднее (2070 рублей) не так далеко от медианы. А вот пользователи \"Смарта\" в среднем платят в 2 раза больше стоимости тарифа - 1290 рублей, а по медиане - 1023 рубля. Это неудивительно, так как многие из них превышают лимит на интернет-трафик. "
   ]
  },
  {
   "cell_type": "code",
   "execution_count": 112,
   "metadata": {},
   "outputs": [
    {
     "data": {
      "image/png": "[encoded data removed]",
      "text/plain": [
       "<Figure size 1080x720 with 3 Axes>"
      ]
     },
     "metadata": {
      "needs_background": "light"
     },
     "output_type": "display_data"
    }
   ],
   "source": [
    "smart=df[(df['tariff'] == 'smart')]\n",
    "ultra=df[(df['tariff'] == 'ultra')]\n",
    "\n",
    "fig=plt.figure()\n",
    "\n",
    "ax_1=fig.add_subplot(2, 2, 1)\n",
    "plt.hist(smart['calls_per_month_duration'], bins=30, alpha=0.7, edgecolor='black', color='#2678D7')\n",
    "plt.hist(ultra['calls_per_month_duration'], bins=30, alpha=0.7, edgecolor='black', color='pink')\n",
    "plt.axvline(x=smart['calls_per_month_duration'].median(),linewidth=3, color='yellow', linestyle='--')\n",
    "plt.axvline(x=ultra['calls_per_month_duration'].median(),linewidth=3, color='orange', linestyle='--')\n",
    "plt.grid()\n",
    "plt.xlabel('Значение')\n",
    "plt.legend(['Медиана Смарт', 'Медиана Ультра','Тариф Смарт', 'Тариф Ультра'])\n",
    "plt.title('Количество использованных минут в месяц')\n",
    "\n",
    "ax_2=fig.add_subplot(2, 2, 2)\n",
    "plt.hist(smart['messages_per_month'], bins=30, alpha=0.7, edgecolor='black', color='#2678D7')\n",
    "plt.hist(ultra['messages_per_month'], bins=30, alpha=0.7, edgecolor='black', color='pink')\n",
    "plt.axvline(x=smart['messages_per_month'].median(),linewidth=3, color='yellow', linestyle='--')\n",
    "plt.axvline(x=ultra['messages_per_month'].median(),linewidth=3, color='orange', linestyle='--')\n",
    "plt.xlabel('Значение')\n",
    "plt.ylabel('Частота')\n",
    "plt.grid()\n",
    "plt.legend(['Медиана Смарт', 'Медиана Ультра','Тариф Смарт', 'Тариф Ультра'])\n",
    "plt.title('Количество использованных смс-сообщений в месяц')\n",
    "\n",
    "ax_3=fig.add_subplot(2, 2, 3)\n",
    "plt.hist(smart['gbs_per_month'], bins=30, alpha=0.7, edgecolor='black', color='#2678D7')\n",
    "plt.hist(ultra['gbs_per_month'], bins=30, alpha=0.7, edgecolor='black', color='pink')\n",
    "plt.axvline(x=smart['gbs_per_month'].median(),linewidth=3, color='yellow', linestyle='--')\n",
    "plt.axvline(x=ultra['gbs_per_month'].median(),linewidth=3, color='orange', linestyle='--')\n",
    "plt.xlabel('Значение')\n",
    "plt.ylabel('Частота')\n",
    "plt.grid()\n",
    "plt.legend(['Медиана Смарт', 'Медиана Ультра','Тариф Смарт', 'Тариф Ультра'])\n",
    "plt.title('Количество использованных GB в месяц')\n",
    "\n",
    "\n",
    "plt.gcf().set_size_inches(15, 10)\n",
    "plt.show()"
   ]
  },
  {
   "cell_type": "markdown",
   "metadata": {},
   "source": [
    "По гистограммам наглядно видно:\n",
    "* чуть меньше половинны пользователей \"Смарта\" выходят за лимит минут в рамках пакета\n",
    "* никто из пользователей \"Ультра\" в нашей выборке не \"наговаривает\" 3000 минут в месяц\n",
    "* многие пользователи обоих тарифов практически не пишут смс-сообщения, но в обоих тарифах есть те, кто выходит за пределы лимита\n",
    "* пользователи \"Смарта\" часто выходят за пределы пакета GB, причем могут выходить за эти пределы достаточно сильно - наблюдается пик около 23GB/месяц (из 15GB, включенных в тариф)\n",
    "* пользователи \"Ультра\" выходят за пределы включенных в тариф GB (у них 30GB) значительно реже"
   ]
  },
  {
   "cell_type": "code",
   "execution_count": 119,
   "metadata": {},
   "outputs": [
    {
     "data": {
      "image/png": "[encoded data removed]",
      "text/plain": [
       "<Figure size 1080x360 with 2 Axes>"
      ]
     },
     "metadata": {
      "needs_background": "light"
     },
     "output_type": "display_data"
    }
   ],
   "source": [
    "fig=plt.figure()\n",
    "\n",
    "ax_1=fig.add_subplot(1, 2, 1)\n",
    "plt.hist(smart['monthly_profit'], bins=15, alpha=0.7, edgecolor='black', color='#2678D7', range=(500,4000))\n",
    "plt.axvline(x=smart['monthly_profit'].median(),linewidth=3, color='yellow', linestyle='--')\n",
    "plt.xlabel('Значение')\n",
    "plt.ylabel('Частота')\n",
    "plt.grid()\n",
    "plt.legend(['Медиана'])\n",
    "plt.title('Плата за пользование услугами связи в месяц')\n",
    "\n",
    "ax_1=fig.add_subplot(1, 2, 2)\n",
    "plt.hist(ultra['monthly_profit'], bins=10, alpha=0.7, edgecolor='black', color='pink', range=(1950,4000))\n",
    "plt.axvline(x=ultra['monthly_profit'].median(),linewidth=3, color='orange', linestyle='--')\n",
    "plt.xlabel('Значение')\n",
    "plt.ylabel('Частота')\n",
    "plt.grid()\n",
    "plt.legend(['Медиана'])\n",
    "plt.title('Плата за пользование услугами связи в месяц')\n",
    "\n",
    "\n",
    "plt.gcf().set_size_inches(15, 5)\n",
    "plt.show()\n"
   ]
  },
  {
   "cell_type": "markdown",
   "metadata": {},
   "source": [
    "Гистограмма подтверждает, что большинство пользователей тарифа \"Ультра\" не выходит за пределы пакета и платит 1950 рублей в месяц. \n",
    "Что же касается тех, кто использует \"Смарт\", здесь значительная часть пользователей платит гораздо больше дефолтных 500 рублей. "
   ]
  },
  {
   "cell_type": "markdown",
   "metadata": {},
   "source": [
    "### Промежуточные выводы"
   ]
  },
  {
   "cell_type": "markdown",
   "metadata": {},
   "source": [
    "**Можно предположить, что средним пользователям обоих тарифов эти тарифы не очень подходят:**\n",
    "* пользователям тарифа \"Смарт\" хоть и в среднем достаточно минут для звонков, они нуждаются в большем количестве интернет-трафика; они переплачивают почти в 2 раза из-за того, что не укладываются в лимиты\n",
    "* а пользователи \"Ультра\" не нуждаются в таким количестве минут и смс, да и трафика для них в среднем многовато; они переплачивают из-за того, что такие количество услуг им попросту ненужно\n",
    "\n",
    "**Также можно высказать предположение, что данные тарифы можно несколько видоизменить под нужды их пользователей или предложить им перейти на другие существующие тарифы, так как пользователи могут найти более выгодное предложение у конкурентов.** "
   ]
  },
  {
   "cell_type": "markdown",
   "metadata": {},
   "source": [
    "## Проверка гипотез"
   ]
  },
  {
   "cell_type": "markdown",
   "metadata": {},
   "source": [
    "### Гипотеза \"Средняя выручка пользователей тарифов «Ультра» и «Смарт» различаются\""
   ]
  },
  {
   "cell_type": "markdown",
   "metadata": {},
   "source": [
    "Примем нулевую гипотезу H0 о равенстве средней выручки пользователей этих двух тарифов. \n",
    "Альтернативной гипотезой H1, соответственно, будет гипотеза о том, что средняя выручка пользователей двух тарифов не равна. \n",
    "\n",
    "Проверим гипотезу при помощи t-теста. \n",
    "\n",
    "Уровень статистической значимости _alpha_ установим 0.05. "
   ]
  },
  {
   "cell_type": "code",
   "execution_count": 80,
   "metadata": {},
   "outputs": [
    {
     "name": "stdout",
     "output_type": "stream",
     "text": [
      "p-значение: 1.4229814360764067e-160\n",
      "Отвергаем нулевую гипотезу\n"
     ]
    }
   ],
   "source": [
    "alpha=.05\n",
    "results=st.ttest_ind(smart['monthly_profit'], ultra['monthly_profit'])\n",
    "print('p-значение:', results.pvalue)\n",
    "\n",
    "if results.pvalue < alpha:\n",
    "    print(\"Отвергаем нулевую гипотезу\")\n",
    "else:\n",
    "    print(\"Не получилось отвергнуть нулевую гипотезу\")"
   ]
  },
  {
   "cell_type": "markdown",
   "metadata": {},
   "source": [
    "Полученное нами _p-value_ в разы ниже уровня статистической значимости _alpha_. Это говорит о том, что **гипотезу о равенстве средних мы в данном случае отвергаем и может предположить, что для имеющихся данных средняя выручка пользователей тарифов \"Смарт\" и \"Ультра\" различаются.**\n",
    "\n",
    "Этот результат подтверждают рассмотренные нами ранее средние значения и распределения значений `monthly_profit` для двух тарифов. Несмотря на то, что пользователи \"Смарта\" переплачивают и часто выходят за пределы пакета стоимостью 500 рублей, пользователи \"Ультра\" в большинстве случаев платят стоимость пакета (1950 рублей) без дополнительных услуг. "
   ]
  },
  {
   "cell_type": "markdown",
   "metadata": {},
   "source": [
    "### Гипотеза \"Средняя выручка пользователей из Москвы отличается от выручки пользователей из других регионов\""
   ]
  },
  {
   "cell_type": "markdown",
   "metadata": {},
   "source": [
    "Примем нулевую гипотезу H0 о равенстве средней выручки пользователей из Москвы и других регионов. Альтернативной гипотезой H1 будет гипотеза об отсутсвии этого равенства. Проверим гипотезу при помощи t-теста. \n",
    "\n",
    "Уровень статистической значимости _alpha_ установим 0.05. "
   ]
  },
  {
   "cell_type": "code",
   "execution_count": 81,
   "metadata": {},
   "outputs": [],
   "source": [
    "moscow = df[(df['city'] == 'Москва')]['monthly_profit']\n",
    "not_moscow = df[(df['city'] != 'Москва')]['monthly_profit']"
   ]
  },
  {
   "cell_type": "code",
   "execution_count": 82,
   "metadata": {},
   "outputs": [
    {
     "name": "stdout",
     "output_type": "stream",
     "text": [
      "p-значение: 0.5440152911670224\n",
      "Не получилось отвергнуть нулевую гипотезу\n"
     ]
    }
   ],
   "source": [
    "alpha=.05\n",
    "results=st.ttest_ind(moscow, not_moscow)\n",
    "print('p-значение:', results.pvalue)\n",
    "\n",
    "if results.pvalue < alpha:\n",
    "    print(\"Отвергаем нулевую гипотезу\")\n",
    "else:\n",
    "    print(\"Не получилось отвергнуть нулевую гипотезу\")"
   ]
  },
  {
   "cell_type": "code",
   "execution_count": 83,
   "metadata": {},
   "outputs": [
    {
     "data": {
      "text/plain": [
       "mean      1546.71\n",
       "median    1750.00\n",
       "std        752.09\n",
       "Name: monthly_profit, dtype: float64"
      ]
     },
     "execution_count": 83,
     "metadata": {},
     "output_type": "execute_result"
    }
   ],
   "source": [
    "moscow.agg([np.mean, np.median, np.std]).round(2)"
   ]
  },
  {
   "cell_type": "code",
   "execution_count": 84,
   "metadata": {},
   "outputs": [
    {
     "data": {
      "text/plain": [
       "mean      1524.94\n",
       "median    1583.00\n",
       "std        808.79\n",
       "Name: monthly_profit, dtype: float64"
      ]
     },
     "execution_count": 84,
     "metadata": {},
     "output_type": "execute_result"
    }
   ],
   "source": [
    "not_moscow.agg([np.mean, np.median, np.std]).round(2)"
   ]
  },
  {
   "cell_type": "markdown",
   "metadata": {},
   "source": [
    "В данном случае у нас не получилось отвергнуть нулевую гипотезу. \n",
    "\n",
    "**Соответственно, мы можем предположить, что средняя выручка пользователей из Москвы не отличается от средней выручки пользователей из других регионов.**"
   ]
  },
  {
   "cell_type": "markdown",
   "metadata": {},
   "source": [
    "### Промежуточные выводы"
   ]
  },
  {
   "cell_type": "markdown",
   "metadata": {},
   "source": [
    "В ходе данного этапа мы отвергли гипотезу о равенстве средней выручки пользователей двух тарифов: вероятнее всего, средняя выручка пользователей \"Смарта\" и \"Ультра\" различаются. \n",
    "Нам не удалось отвергнуть гипотезу о равенстве средней выручки пользователей из Москвы и других регионов: вероятнее всего, средняя выручка в Москве и за ее пределами не различается. "
   ]
  },
  {
   "cell_type": "markdown",
   "metadata": {},
   "source": [
    "## Общие выводы"
   ]
  },
  {
   "cell_type": "markdown",
   "metadata": {},
   "source": [
    "Был проведен анализ тарифов \"Смарт\" и \"Ультра\" компании \"Мегалайн\". \n",
    "\n",
    "В ходе этапа анализа и предобработки данных были изучены таблицы **`calls`, `internet`, `messages`, `tariffs`, `users`**. \n",
    "\n",
    "В таблицах не было пропущенных значений, кроме значения прекращения действия тарифа в **`users`**, которое является отметкой, что пользователь сменил тарифный план в определеннуб дату. Эти нулевые значения мы не удаляли и не заполняли. \n",
    "Нулевые значения были удалены из таблицы **`internet`**: для анализа в рамках данного проекта интернет-сессии, в которых не было использовано ни одного MB трафика, не являются необходимой информацией. Доля значений, которые были удалены из таблицы **`internet`** - 13.1%. Нулевые значения в других таблицах означали, что пользователь в определенный промежуток времени (мы рассчитывали по месяцам) не пользовался определенной услугой (это видно по смс-сообщениям). \n",
    "\n",
    "Из исходных таблиц была сформирована база данных **`df`** с необходимой для проведения рассчетов информацией. В эту таблицу была добавлена колонка `monthly_profit`, в которой мы указали стоимость услуг для каждого клиента в месяц в зависимости от особенностей тарифов. \n",
    "\n",
    "Проанализировав данные, мы пришли к выводу, что пользователи тарифа \"Смарт\" зачастую выходят за пределы пакета и, соотвественно, вынуждены платить сверх установленной для этого тарифы суммы (550 рублей в месяц). В среднем они платят 1290 рублей, используя 419 минут (из 500 минут в пакете), 16.3GB интернета (из 15GB в пакете) и 33.4 смс-сообщения (из 50 смс в пакете). Так, чаще всего пользователи \"Смарта\" оплачивают дополнительные GB интернета (200 рублей/GB) и, таким образом, в среднем выходит, что они платят в 2 раза больше дефолтной суммы тарифа. \n",
    "\n",
    "Что же касается пользователей тарифа \"Ультра\", они, напротив, \"недобирают\" входящие в тарифный пакет услуги: в среднем они используют 545 минут (из 3000 минут в пакете), 19.7GB (из 30GB в пакете) и 49 смс (из 1000 смс в пакете). В среднем, пользователи \"Ультра\" платят 2070 рублей при дефолтной плате в 1950 рублей, однако медианным значением здесь является именно 1950 рублей, что говорит о том, что большиство пользователей не выходят за лимиты, установленные тарифом. \n",
    "\n",
    "Проект включал проверку двух гипотез: \n",
    "* гипотеза о том, что средняя выручка пользователей тарифов \"Смарт\" и \"Ультра\" различается - **не можем отвергнуть**\n",
    "* гипотеза о том, что средняя выручка пользователей из Москвы и других регионов различается - **можем отвергнуть**\n",
    "\n",
    "По итогам исследования можно предположить, что для \"Мегалайна\" более выгоден тариф \"Ультра\" ввиду того, что он включает в себя большой пакет звонков, смс и интернет-трафика, которые большинство пользователей на 100% не использует. В отличии от \"Смарта\", пользователи которого с большой регулярностью выходят за лимиты. \n",
    "Тем не менее, если формулировать рекомендацию на базе проведенного исследования, можно предположить, что для \"Мегалайна\" стоит рассмотреть варианты изменений:\n",
    "* изменить пакеты существующих тарифов в соответствии с поведением пользователей\n",
    "* предложить пользователям другие существующие тарифы \"Мегалайна\", которые более соответствуют их поведению\n",
    "\n",
    "Это может быть полезным, так как нельзя отрицать такой ситуации, что пользователи могут предпочесть более подходящие им тарифы у операторов-конкурентов. Возможно, имеет смысл рассмотреть эти или другие варианты изменений и проанализировать их. "
   ]
  }
 ],
 "metadata": {
  "ExecuteTimeLog": [
   {
    "duration": 705,
    "start_time": "2022-02-17T12:42:15.919Z"
   },
   {
    "duration": 2,
    "start_time": "2022-02-17T12:42:25.148Z"
   },
   {
    "duration": 3,
    "start_time": "2022-02-17T12:42:37.153Z"
   },
   {
    "duration": 139,
    "start_time": "2022-02-17T12:43:24.058Z"
   },
   {
    "duration": 16,
    "start_time": "2022-02-17T12:43:32.423Z"
   },
   {
    "duration": 1981,
    "start_time": "2022-02-17T12:44:01.327Z"
   },
   {
    "duration": 134,
    "start_time": "2022-02-17T12:44:09.782Z"
   },
   {
    "duration": 9,
    "start_time": "2022-02-17T12:44:13.241Z"
   },
   {
    "duration": 128,
    "start_time": "2022-02-17T12:45:26.822Z"
   },
   {
    "duration": 9,
    "start_time": "2022-02-17T12:45:27.761Z"
   },
   {
    "duration": 90,
    "start_time": "2022-02-17T12:45:49.078Z"
   },
   {
    "duration": 8,
    "start_time": "2022-02-17T12:45:55.286Z"
   },
   {
    "duration": 11,
    "start_time": "2022-02-17T12:46:36.526Z"
   },
   {
    "duration": 8,
    "start_time": "2022-02-17T12:46:42.249Z"
   },
   {
    "duration": 21,
    "start_time": "2022-02-17T12:46:59.718Z"
   },
   {
    "duration": 10,
    "start_time": "2022-02-17T12:47:05.214Z"
   },
   {
    "duration": 54,
    "start_time": "2022-02-17T13:28:59.342Z"
   },
   {
    "duration": 16,
    "start_time": "2022-02-17T13:29:02.495Z"
   },
   {
    "duration": 547,
    "start_time": "2022-02-17T13:30:26.092Z"
   },
   {
    "duration": 2,
    "start_time": "2022-02-17T13:30:26.641Z"
   },
   {
    "duration": 7,
    "start_time": "2022-02-17T13:30:26.646Z"
   },
   {
    "duration": 165,
    "start_time": "2022-02-17T13:30:26.654Z"
   },
   {
    "duration": 14,
    "start_time": "2022-02-17T13:30:26.821Z"
   },
   {
    "duration": 139,
    "start_time": "2022-02-17T13:30:26.837Z"
   },
   {
    "duration": 8,
    "start_time": "2022-02-17T13:30:26.978Z"
   },
   {
    "duration": 111,
    "start_time": "2022-02-17T13:30:26.988Z"
   },
   {
    "duration": 6,
    "start_time": "2022-02-17T13:30:27.101Z"
   },
   {
    "duration": 22,
    "start_time": "2022-02-17T13:30:27.109Z"
   },
   {
    "duration": 21,
    "start_time": "2022-02-17T13:30:27.133Z"
   },
   {
    "duration": 27,
    "start_time": "2022-02-17T13:30:27.155Z"
   },
   {
    "duration": 16,
    "start_time": "2022-02-17T13:30:27.184Z"
   },
   {
    "duration": 57,
    "start_time": "2022-02-17T13:30:27.202Z"
   },
   {
    "duration": 212,
    "start_time": "2022-02-17T13:30:37.702Z"
   },
   {
    "duration": 176,
    "start_time": "2022-02-17T13:30:43.917Z"
   },
   {
    "duration": 607,
    "start_time": "2022-02-17T13:30:51.672Z"
   },
   {
    "duration": 3,
    "start_time": "2022-02-17T13:30:52.281Z"
   },
   {
    "duration": 6,
    "start_time": "2022-02-17T13:30:52.286Z"
   },
   {
    "duration": 168,
    "start_time": "2022-02-17T13:30:52.294Z"
   },
   {
    "duration": 16,
    "start_time": "2022-02-17T13:30:52.464Z"
   },
   {
    "duration": 150,
    "start_time": "2022-02-17T13:30:52.481Z"
   },
   {
    "duration": 8,
    "start_time": "2022-02-17T13:30:52.633Z"
   },
   {
    "duration": 101,
    "start_time": "2022-02-17T13:30:52.644Z"
   },
   {
    "duration": 7,
    "start_time": "2022-02-17T13:30:52.747Z"
   },
   {
    "duration": 13,
    "start_time": "2022-02-17T13:30:52.756Z"
   },
   {
    "duration": 12,
    "start_time": "2022-02-17T13:30:52.771Z"
   },
   {
    "duration": 28,
    "start_time": "2022-02-17T13:30:52.785Z"
   },
   {
    "duration": 16,
    "start_time": "2022-02-17T13:30:52.815Z"
   },
   {
    "duration": 62,
    "start_time": "2022-02-17T13:30:52.833Z"
   },
   {
    "duration": 209,
    "start_time": "2022-02-17T13:31:04.944Z"
   },
   {
    "duration": 231,
    "start_time": "2022-02-17T13:34:38.705Z"
   },
   {
    "duration": 603,
    "start_time": "2022-02-17T13:34:48.254Z"
   },
   {
    "duration": 3,
    "start_time": "2022-02-17T13:34:48.859Z"
   },
   {
    "duration": 8,
    "start_time": "2022-02-17T13:34:48.863Z"
   },
   {
    "duration": 156,
    "start_time": "2022-02-17T13:34:48.873Z"
   },
   {
    "duration": 15,
    "start_time": "2022-02-17T13:34:49.031Z"
   },
   {
    "duration": 133,
    "start_time": "2022-02-17T13:34:49.059Z"
   },
   {
    "duration": 10,
    "start_time": "2022-02-17T13:34:49.193Z"
   },
   {
    "duration": 91,
    "start_time": "2022-02-17T13:34:49.206Z"
   },
   {
    "duration": 8,
    "start_time": "2022-02-17T13:34:49.299Z"
   },
   {
    "duration": 12,
    "start_time": "2022-02-17T13:34:49.309Z"
   },
   {
    "duration": 12,
    "start_time": "2022-02-17T13:34:49.322Z"
   },
   {
    "duration": 18,
    "start_time": "2022-02-17T13:34:49.336Z"
   },
   {
    "duration": 10,
    "start_time": "2022-02-17T13:34:49.355Z"
   },
   {
    "duration": 54,
    "start_time": "2022-02-17T13:34:49.367Z"
   },
   {
    "duration": 15,
    "start_time": "2022-02-17T13:34:49.423Z"
   },
   {
    "duration": 558,
    "start_time": "2022-02-17T13:37:22.318Z"
   },
   {
    "duration": 3,
    "start_time": "2022-02-17T13:37:22.878Z"
   },
   {
    "duration": 4,
    "start_time": "2022-02-17T13:37:22.885Z"
   },
   {
    "duration": 162,
    "start_time": "2022-02-17T13:37:22.891Z"
   },
   {
    "duration": 15,
    "start_time": "2022-02-17T13:37:23.055Z"
   },
   {
    "duration": 146,
    "start_time": "2022-02-17T13:37:23.072Z"
   },
   {
    "duration": 8,
    "start_time": "2022-02-17T13:37:23.220Z"
   },
   {
    "duration": 92,
    "start_time": "2022-02-17T13:37:23.231Z"
   },
   {
    "duration": 7,
    "start_time": "2022-02-17T13:37:23.325Z"
   },
   {
    "duration": 18,
    "start_time": "2022-02-17T13:37:23.333Z"
   },
   {
    "duration": 16,
    "start_time": "2022-02-17T13:37:23.352Z"
   },
   {
    "duration": 29,
    "start_time": "2022-02-17T13:37:23.369Z"
   },
   {
    "duration": 16,
    "start_time": "2022-02-17T13:37:23.400Z"
   },
   {
    "duration": 57,
    "start_time": "2022-02-17T13:37:23.417Z"
   },
   {
    "duration": 245,
    "start_time": "2022-02-17T13:37:37.271Z"
   },
   {
    "duration": 182,
    "start_time": "2022-02-17T13:37:55.515Z"
   },
   {
    "duration": 202,
    "start_time": "2022-02-17T13:38:07.267Z"
   },
   {
    "duration": 1351,
    "start_time": "2022-02-17T16:48:23.736Z"
   },
   {
    "duration": 1510,
    "start_time": "2022-02-17T16:48:32.755Z"
   },
   {
    "duration": 224,
    "start_time": "2022-02-17T16:48:34.267Z"
   },
   {
    "duration": 24,
    "start_time": "2022-02-17T16:48:34.494Z"
   },
   {
    "duration": 198,
    "start_time": "2022-02-17T16:48:34.522Z"
   },
   {
    "duration": 13,
    "start_time": "2022-02-17T16:48:34.722Z"
   },
   {
    "duration": 134,
    "start_time": "2022-02-17T16:48:34.737Z"
   },
   {
    "duration": 10,
    "start_time": "2022-02-17T16:48:34.873Z"
   },
   {
    "duration": 24,
    "start_time": "2022-02-17T16:48:34.887Z"
   },
   {
    "duration": 13,
    "start_time": "2022-02-17T16:48:34.913Z"
   },
   {
    "duration": 40,
    "start_time": "2022-02-17T16:48:34.928Z"
   },
   {
    "duration": 13,
    "start_time": "2022-02-17T16:48:34.971Z"
   },
   {
    "duration": 134,
    "start_time": "2022-02-17T16:56:35.041Z"
   },
   {
    "duration": 75,
    "start_time": "2022-02-17T16:57:06.624Z"
   },
   {
    "duration": 72,
    "start_time": "2022-02-17T16:57:13.575Z"
   },
   {
    "duration": 67,
    "start_time": "2022-02-17T16:57:31.548Z"
   },
   {
    "duration": 174,
    "start_time": "2022-02-17T16:58:11.265Z"
   },
   {
    "duration": 128,
    "start_time": "2022-02-17T16:58:50.128Z"
   },
   {
    "duration": 131,
    "start_time": "2022-02-17T17:00:35.314Z"
   },
   {
    "duration": 985,
    "start_time": "2022-02-17T17:00:48.691Z"
   },
   {
    "duration": 134,
    "start_time": "2022-02-17T17:01:08.253Z"
   },
   {
    "duration": 40,
    "start_time": "2022-02-17T17:08:52.960Z"
   },
   {
    "duration": 45,
    "start_time": "2022-02-17T17:08:57.240Z"
   },
   {
    "duration": 315,
    "start_time": "2022-02-17T17:10:01.344Z"
   },
   {
    "duration": 416,
    "start_time": "2022-02-17T17:11:12.721Z"
   },
   {
    "duration": 520,
    "start_time": "2022-02-17T17:11:48.851Z"
   },
   {
    "duration": 419,
    "start_time": "2022-02-17T17:11:52.362Z"
   },
   {
    "duration": 704,
    "start_time": "2022-02-17T17:12:15.630Z"
   },
   {
    "duration": 429,
    "start_time": "2022-02-17T17:12:24.202Z"
   },
   {
    "duration": 416,
    "start_time": "2022-02-17T17:12:28.622Z"
   },
   {
    "duration": 527,
    "start_time": "2022-02-17T17:13:04.991Z"
   },
   {
    "duration": 520,
    "start_time": "2022-02-17T17:13:40.069Z"
   },
   {
    "duration": 413,
    "start_time": "2022-02-17T17:13:52.048Z"
   },
   {
    "duration": 525,
    "start_time": "2022-02-17T17:14:08.197Z"
   },
   {
    "duration": 12,
    "start_time": "2022-02-17T17:20:34.987Z"
   },
   {
    "duration": 41,
    "start_time": "2022-02-17T17:22:02.155Z"
   },
   {
    "duration": 12,
    "start_time": "2022-02-17T17:22:03.937Z"
   },
   {
    "duration": 13,
    "start_time": "2022-02-17T17:22:10.455Z"
   },
   {
    "duration": 90,
    "start_time": "2022-02-17T17:22:17.734Z"
   },
   {
    "duration": 6,
    "start_time": "2022-02-17T17:24:47.417Z"
   },
   {
    "duration": 5,
    "start_time": "2022-02-17T17:24:51.720Z"
   },
   {
    "duration": 7,
    "start_time": "2022-02-17T17:24:54.325Z"
   },
   {
    "duration": 6,
    "start_time": "2022-02-17T17:24:57.366Z"
   },
   {
    "duration": 5,
    "start_time": "2022-02-17T17:25:19.888Z"
   },
   {
    "duration": 44,
    "start_time": "2022-02-17T17:25:24.342Z"
   },
   {
    "duration": 10,
    "start_time": "2022-02-17T17:28:48.076Z"
   },
   {
    "duration": 24,
    "start_time": "2022-02-17T17:28:52.775Z"
   },
   {
    "duration": 21,
    "start_time": "2022-02-17T17:29:11.468Z"
   },
   {
    "duration": 1462,
    "start_time": "2022-02-17T17:29:17.318Z"
   },
   {
    "duration": 228,
    "start_time": "2022-02-17T17:29:18.783Z"
   },
   {
    "duration": 18,
    "start_time": "2022-02-17T17:29:19.014Z"
   },
   {
    "duration": 206,
    "start_time": "2022-02-17T17:29:19.036Z"
   },
   {
    "duration": 12,
    "start_time": "2022-02-17T17:29:19.245Z"
   },
   {
    "duration": 141,
    "start_time": "2022-02-17T17:29:19.259Z"
   },
   {
    "duration": 9,
    "start_time": "2022-02-17T17:29:19.403Z"
   },
   {
    "duration": 21,
    "start_time": "2022-02-17T17:29:19.415Z"
   },
   {
    "duration": 12,
    "start_time": "2022-02-17T17:29:19.440Z"
   },
   {
    "duration": 31,
    "start_time": "2022-02-17T17:29:19.454Z"
   },
   {
    "duration": 22,
    "start_time": "2022-02-17T17:29:19.488Z"
   },
   {
    "duration": 71,
    "start_time": "2022-02-17T17:29:19.512Z"
   },
   {
    "duration": 28,
    "start_time": "2022-02-17T17:29:19.585Z"
   },
   {
    "duration": 47,
    "start_time": "2022-02-17T17:29:19.615Z"
   },
   {
    "duration": 51,
    "start_time": "2022-02-17T17:29:19.664Z"
   },
   {
    "duration": 4,
    "start_time": "2022-02-17T17:29:19.717Z"
   },
   {
    "duration": 24,
    "start_time": "2022-02-17T17:29:19.724Z"
   },
   {
    "duration": 469,
    "start_time": "2022-02-17T17:29:19.750Z"
   },
   {
    "duration": 4,
    "start_time": "2022-02-17T17:29:20.222Z"
   },
   {
    "duration": 16,
    "start_time": "2022-02-17T17:32:29.548Z"
   },
   {
    "duration": 23,
    "start_time": "2022-02-17T17:32:32.186Z"
   },
   {
    "duration": 1247,
    "start_time": "2022-02-17T17:35:17.061Z"
   },
   {
    "duration": 15,
    "start_time": "2022-02-17T17:35:30.367Z"
   },
   {
    "duration": 24,
    "start_time": "2022-02-17T17:35:32.178Z"
   },
   {
    "duration": 16,
    "start_time": "2022-02-17T17:37:05.996Z"
   },
   {
    "duration": 24,
    "start_time": "2022-02-17T17:37:07.424Z"
   },
   {
    "duration": 17,
    "start_time": "2022-02-17T17:37:16.634Z"
   },
   {
    "duration": 24,
    "start_time": "2022-02-17T17:37:17.357Z"
   },
   {
    "duration": 17,
    "start_time": "2022-02-17T17:37:30.965Z"
   },
   {
    "duration": 22,
    "start_time": "2022-02-17T17:37:31.575Z"
   },
   {
    "duration": 492,
    "start_time": "2022-02-17T17:37:57.254Z"
   },
   {
    "duration": 24,
    "start_time": "2022-02-17T17:37:57.902Z"
   },
   {
    "duration": 15,
    "start_time": "2022-02-17T17:38:02.779Z"
   },
   {
    "duration": 15,
    "start_time": "2022-02-17T17:38:09.774Z"
   },
   {
    "duration": 22,
    "start_time": "2022-02-17T17:38:10.385Z"
   },
   {
    "duration": 15,
    "start_time": "2022-02-17T17:38:15.499Z"
   },
   {
    "duration": 22,
    "start_time": "2022-02-17T17:38:15.937Z"
   },
   {
    "duration": 17,
    "start_time": "2022-02-17T17:38:36.530Z"
   },
   {
    "duration": 21,
    "start_time": "2022-02-17T17:38:37.056Z"
   },
   {
    "duration": 18,
    "start_time": "2022-02-17T17:39:06.373Z"
   },
   {
    "duration": 500,
    "start_time": "2022-02-17T17:42:47.822Z"
   },
   {
    "duration": 11,
    "start_time": "2022-02-17T17:45:42.604Z"
   },
   {
    "duration": 381,
    "start_time": "2022-02-17T17:46:10.565Z"
   },
   {
    "duration": 392,
    "start_time": "2022-02-17T17:46:32.583Z"
   },
   {
    "duration": 447,
    "start_time": "2022-02-17T17:46:41.653Z"
   },
   {
    "duration": 395,
    "start_time": "2022-02-17T17:47:01.885Z"
   },
   {
    "duration": 373,
    "start_time": "2022-02-17T17:47:18.368Z"
   },
   {
    "duration": 122,
    "start_time": "2022-02-17T17:48:48.722Z"
   },
   {
    "duration": 383,
    "start_time": "2022-02-17T17:49:23.040Z"
   },
   {
    "duration": 738,
    "start_time": "2022-02-17T17:50:37.030Z"
   },
   {
    "duration": 422,
    "start_time": "2022-02-17T17:50:41.635Z"
   },
   {
    "duration": 191,
    "start_time": "2022-02-17T17:51:27.215Z"
   },
   {
    "duration": 188,
    "start_time": "2022-02-17T17:51:38.000Z"
   },
   {
    "duration": 139,
    "start_time": "2022-02-17T17:51:46.644Z"
   },
   {
    "duration": 177,
    "start_time": "2022-02-17T17:51:54.282Z"
   },
   {
    "duration": 154,
    "start_time": "2022-02-17T17:52:03.881Z"
   },
   {
    "duration": 120,
    "start_time": "2022-02-17T17:52:06.739Z"
   },
   {
    "duration": 123,
    "start_time": "2022-02-17T17:52:09.462Z"
   },
   {
    "duration": 195,
    "start_time": "2022-02-17T17:52:12.029Z"
   },
   {
    "duration": 195,
    "start_time": "2022-02-17T17:52:27.131Z"
   },
   {
    "duration": 183,
    "start_time": "2022-02-17T17:52:33.325Z"
   },
   {
    "duration": 18,
    "start_time": "2022-02-17T17:53:36.693Z"
   },
   {
    "duration": 20,
    "start_time": "2022-02-17T17:53:50.914Z"
   },
   {
    "duration": 17,
    "start_time": "2022-02-17T17:54:18.463Z"
   },
   {
    "duration": 19,
    "start_time": "2022-02-17T17:54:24.706Z"
   },
   {
    "duration": 101,
    "start_time": "2022-02-17T17:54:34.391Z"
   },
   {
    "duration": 30,
    "start_time": "2022-02-17T17:54:39.269Z"
   },
   {
    "duration": 28,
    "start_time": "2022-02-17T17:54:41.772Z"
   },
   {
    "duration": 13,
    "start_time": "2022-02-17T17:54:52.230Z"
   },
   {
    "duration": 206,
    "start_time": "2022-02-17T17:55:01.782Z"
   },
   {
    "duration": 209,
    "start_time": "2022-02-17T17:55:42.177Z"
   },
   {
    "duration": 379,
    "start_time": "2022-02-17T17:56:06.099Z"
   },
   {
    "duration": 701,
    "start_time": "2022-02-17T17:58:13.780Z"
   },
   {
    "duration": 301,
    "start_time": "2022-02-17T17:58:23.391Z"
   },
   {
    "duration": 370,
    "start_time": "2022-02-17T17:58:38.014Z"
   },
   {
    "duration": 399,
    "start_time": "2022-02-17T17:58:47.804Z"
   },
   {
    "duration": 360,
    "start_time": "2022-02-17T17:58:53.835Z"
   },
   {
    "duration": 804,
    "start_time": "2022-02-17T18:03:33.399Z"
   },
   {
    "duration": 373,
    "start_time": "2022-02-17T18:03:38.816Z"
   },
   {
    "duration": 830,
    "start_time": "2022-02-17T18:05:05.229Z"
   },
   {
    "duration": 479,
    "start_time": "2022-02-17T18:09:37.113Z"
   },
   {
    "duration": 401,
    "start_time": "2022-02-17T18:09:51.824Z"
   },
   {
    "duration": 769,
    "start_time": "2022-02-17T18:10:07.754Z"
   },
   {
    "duration": 776,
    "start_time": "2022-02-17T18:10:19.782Z"
   },
   {
    "duration": 394,
    "start_time": "2022-02-17T18:10:32.635Z"
   },
   {
    "duration": 748,
    "start_time": "2022-02-17T18:10:44.520Z"
   },
   {
    "duration": 382,
    "start_time": "2022-02-17T18:10:49.770Z"
   },
   {
    "duration": 11,
    "start_time": "2022-02-17T18:11:12.502Z"
   },
   {
    "duration": 11,
    "start_time": "2022-02-17T18:11:25.713Z"
   },
   {
    "duration": 13,
    "start_time": "2022-02-17T18:13:05.944Z"
   },
   {
    "duration": 415,
    "start_time": "2022-02-17T18:13:17.453Z"
   },
   {
    "duration": 480,
    "start_time": "2022-02-17T18:13:28.090Z"
   },
   {
    "duration": 408,
    "start_time": "2022-02-17T18:14:06.373Z"
   },
   {
    "duration": 405,
    "start_time": "2022-02-17T18:14:25.395Z"
   },
   {
    "duration": 503,
    "start_time": "2022-02-17T18:14:35.677Z"
   },
   {
    "duration": 429,
    "start_time": "2022-02-17T18:14:44.698Z"
   },
   {
    "duration": 405,
    "start_time": "2022-02-17T18:14:48.853Z"
   },
   {
    "duration": 384,
    "start_time": "2022-02-17T18:17:02.561Z"
   },
   {
    "duration": 426,
    "start_time": "2022-02-17T18:17:07.258Z"
   },
   {
    "duration": 425,
    "start_time": "2022-02-17T18:17:54.659Z"
   },
   {
    "duration": 383,
    "start_time": "2022-02-17T18:18:19.483Z"
   },
   {
    "duration": 392,
    "start_time": "2022-02-17T18:18:50.840Z"
   },
   {
    "duration": 397,
    "start_time": "2022-02-17T18:19:00.472Z"
   },
   {
    "duration": 5,
    "start_time": "2022-02-17T18:23:10.063Z"
   },
   {
    "duration": 445,
    "start_time": "2022-02-17T18:25:00.087Z"
   },
   {
    "duration": 390,
    "start_time": "2022-02-17T18:25:05.293Z"
   },
   {
    "duration": 4,
    "start_time": "2022-02-17T18:25:13.526Z"
   },
   {
    "duration": 375,
    "start_time": "2022-02-17T18:25:14.126Z"
   },
   {
    "duration": 8,
    "start_time": "2022-02-17T18:25:19.620Z"
   },
   {
    "duration": 432,
    "start_time": "2022-02-17T18:25:20.407Z"
   },
   {
    "duration": 4,
    "start_time": "2022-02-17T18:25:27.705Z"
   },
   {
    "duration": 383,
    "start_time": "2022-02-17T18:25:28.089Z"
   },
   {
    "duration": 4,
    "start_time": "2022-02-17T18:25:39.978Z"
   },
   {
    "duration": 427,
    "start_time": "2022-02-17T18:25:40.716Z"
   },
   {
    "duration": 389,
    "start_time": "2022-02-17T18:26:07.698Z"
   },
   {
    "duration": 58,
    "start_time": "2022-02-17T18:26:12.374Z"
   },
   {
    "duration": 64,
    "start_time": "2022-02-17T18:26:22.178Z"
   },
   {
    "duration": 67,
    "start_time": "2022-02-17T18:27:42.688Z"
   },
   {
    "duration": 593,
    "start_time": "2022-02-17T18:40:30.774Z"
   },
   {
    "duration": 383,
    "start_time": "2022-02-17T18:40:45.834Z"
   },
   {
    "duration": 884,
    "start_time": "2022-02-17T18:41:34.739Z"
   },
   {
    "duration": 859,
    "start_time": "2022-02-17T18:41:47.329Z"
   },
   {
    "duration": 784,
    "start_time": "2022-02-17T18:42:14.529Z"
   },
   {
    "duration": 418,
    "start_time": "2022-02-17T18:42:21.297Z"
   },
   {
    "duration": 409,
    "start_time": "2022-02-17T18:42:56.420Z"
   },
   {
    "duration": 517,
    "start_time": "2022-02-17T18:43:02.248Z"
   },
   {
    "duration": 125,
    "start_time": "2022-02-17T18:43:11.195Z"
   },
   {
    "duration": 391,
    "start_time": "2022-02-17T18:43:16.075Z"
   },
   {
    "duration": 13,
    "start_time": "2022-02-17T18:46:39.108Z"
   },
   {
    "duration": 29,
    "start_time": "2022-02-17T18:50:07.426Z"
   },
   {
    "duration": 372,
    "start_time": "2022-02-17T18:50:55.146Z"
   },
   {
    "duration": 462,
    "start_time": "2022-02-17T18:51:13.244Z"
   },
   {
    "duration": 458,
    "start_time": "2022-02-17T18:51:24.611Z"
   },
   {
    "duration": 425,
    "start_time": "2022-02-17T18:52:10.542Z"
   },
   {
    "duration": 517,
    "start_time": "2022-02-17T18:52:47.504Z"
   },
   {
    "duration": 22,
    "start_time": "2022-02-17T18:53:43.417Z"
   },
   {
    "duration": 24,
    "start_time": "2022-02-17T18:54:56.882Z"
   },
   {
    "duration": 16,
    "start_time": "2022-02-17T18:55:05.357Z"
   },
   {
    "duration": 12,
    "start_time": "2022-02-17T18:55:19.088Z"
   },
   {
    "duration": 8,
    "start_time": "2022-02-17T18:56:03.664Z"
   },
   {
    "duration": 14,
    "start_time": "2022-02-17T18:56:16.956Z"
   },
   {
    "duration": 8,
    "start_time": "2022-02-17T18:57:04.444Z"
   },
   {
    "duration": 12,
    "start_time": "2022-02-17T18:58:30.810Z"
   },
   {
    "duration": 12,
    "start_time": "2022-02-17T18:58:36.885Z"
   },
   {
    "duration": 26,
    "start_time": "2022-02-17T18:59:35.795Z"
   },
   {
    "duration": 22,
    "start_time": "2022-02-17T19:00:06.310Z"
   },
   {
    "duration": 18,
    "start_time": "2022-02-17T19:05:18.401Z"
   },
   {
    "duration": 31,
    "start_time": "2022-02-17T19:08:11.123Z"
   },
   {
    "duration": 17,
    "start_time": "2022-02-17T19:08:18.872Z"
   },
   {
    "duration": 142,
    "start_time": "2022-02-17T19:08:26.828Z"
   },
   {
    "duration": 31,
    "start_time": "2022-02-17T19:08:30.766Z"
   },
   {
    "duration": 32,
    "start_time": "2022-02-17T19:08:53.219Z"
   },
   {
    "duration": 448,
    "start_time": "2022-02-17T19:08:59.746Z"
   },
   {
    "duration": 13,
    "start_time": "2022-02-17T19:09:30.095Z"
   },
   {
    "duration": 442,
    "start_time": "2022-02-17T19:09:49.582Z"
   },
   {
    "duration": 35,
    "start_time": "2022-02-17T19:13:58.725Z"
   },
   {
    "duration": 21,
    "start_time": "2022-02-17T19:14:03.732Z"
   },
   {
    "duration": 195,
    "start_time": "2022-02-17T19:16:13.773Z"
   },
   {
    "duration": 556,
    "start_time": "2022-02-17T19:16:22.560Z"
   },
   {
    "duration": 11,
    "start_time": "2022-02-17T19:16:31.146Z"
   },
   {
    "duration": 29,
    "start_time": "2022-02-17T19:16:47.975Z"
   },
   {
    "duration": 26,
    "start_time": "2022-02-17T19:17:14.844Z"
   },
   {
    "duration": 16,
    "start_time": "2022-02-17T19:17:18.875Z"
   },
   {
    "duration": 16,
    "start_time": "2022-02-17T19:19:05.140Z"
   },
   {
    "duration": 24,
    "start_time": "2022-02-17T19:22:54.710Z"
   },
   {
    "duration": 11,
    "start_time": "2022-02-17T19:23:12.966Z"
   },
   {
    "duration": 10,
    "start_time": "2022-02-17T19:23:16.075Z"
   },
   {
    "duration": 11,
    "start_time": "2022-02-17T19:23:18.592Z"
   },
   {
    "duration": 301,
    "start_time": "2022-02-17T19:24:11.488Z"
   },
   {
    "duration": 406,
    "start_time": "2022-02-17T19:24:30.712Z"
   },
   {
    "duration": 7,
    "start_time": "2022-02-17T19:27:18.692Z"
   },
   {
    "duration": 9,
    "start_time": "2022-02-17T19:27:50.654Z"
   },
   {
    "duration": 9,
    "start_time": "2022-02-17T19:27:57.419Z"
   },
   {
    "duration": 54,
    "start_time": "2022-02-17T19:29:06.739Z"
   },
   {
    "duration": 390,
    "start_time": "2022-02-17T19:30:06.128Z"
   },
   {
    "duration": 27,
    "start_time": "2022-02-17T19:31:08.495Z"
   },
   {
    "duration": 26,
    "start_time": "2022-02-17T19:31:23.609Z"
   },
   {
    "duration": 31,
    "start_time": "2022-02-17T19:32:10.810Z"
   },
   {
    "duration": 27,
    "start_time": "2022-02-17T19:33:29.581Z"
   },
   {
    "duration": 5,
    "start_time": "2022-02-17T19:35:22.390Z"
   },
   {
    "duration": 2658,
    "start_time": "2022-02-17T19:35:28.060Z"
   },
   {
    "duration": 4,
    "start_time": "2022-02-17T19:35:35.066Z"
   },
   {
    "duration": 1671,
    "start_time": "2022-02-17T19:35:44.216Z"
   },
   {
    "duration": 15,
    "start_time": "2022-02-17T19:35:58.377Z"
   },
   {
    "duration": 9,
    "start_time": "2022-02-17T19:41:10.056Z"
   },
   {
    "duration": 10,
    "start_time": "2022-02-17T19:41:35.714Z"
   },
   {
    "duration": 226,
    "start_time": "2022-02-18T15:37:16.152Z"
   },
   {
    "duration": 1031,
    "start_time": "2022-02-18T15:37:22.054Z"
   },
   {
    "duration": 157,
    "start_time": "2022-02-18T15:37:23.087Z"
   },
   {
    "duration": 12,
    "start_time": "2022-02-18T15:37:23.247Z"
   },
   {
    "duration": 141,
    "start_time": "2022-02-18T15:37:23.261Z"
   },
   {
    "duration": 9,
    "start_time": "2022-02-18T15:37:23.404Z"
   },
   {
    "duration": 83,
    "start_time": "2022-02-18T15:37:23.419Z"
   },
   {
    "duration": 19,
    "start_time": "2022-02-18T15:37:23.504Z"
   },
   {
    "duration": 13,
    "start_time": "2022-02-18T15:37:23.526Z"
   },
   {
    "duration": 9,
    "start_time": "2022-02-18T15:37:23.542Z"
   },
   {
    "duration": 20,
    "start_time": "2022-02-18T15:37:23.552Z"
   },
   {
    "duration": 10,
    "start_time": "2022-02-18T15:37:23.573Z"
   },
   {
    "duration": 53,
    "start_time": "2022-02-18T15:37:23.584Z"
   },
   {
    "duration": 7,
    "start_time": "2022-02-18T15:37:23.639Z"
   },
   {
    "duration": 33,
    "start_time": "2022-02-18T15:37:23.648Z"
   },
   {
    "duration": 37,
    "start_time": "2022-02-18T15:37:23.682Z"
   },
   {
    "duration": 4,
    "start_time": "2022-02-18T15:37:23.721Z"
   },
   {
    "duration": 29,
    "start_time": "2022-02-18T15:37:23.726Z"
   },
   {
    "duration": 287,
    "start_time": "2022-02-18T15:37:23.756Z"
   },
   {
    "duration": 12,
    "start_time": "2022-02-18T15:37:24.044Z"
   },
   {
    "duration": 10,
    "start_time": "2022-02-18T15:37:24.058Z"
   },
   {
    "duration": 60,
    "start_time": "2022-02-18T15:37:24.070Z"
   },
   {
    "duration": 275,
    "start_time": "2022-02-18T15:37:24.132Z"
   },
   {
    "duration": 9,
    "start_time": "2022-02-18T15:37:24.418Z"
   },
   {
    "duration": 36,
    "start_time": "2022-02-18T15:37:24.428Z"
   },
   {
    "duration": 15,
    "start_time": "2022-02-18T15:37:24.465Z"
   },
   {
    "duration": 14,
    "start_time": "2022-02-18T15:37:24.481Z"
   },
   {
    "duration": 270,
    "start_time": "2022-02-18T15:37:24.497Z"
   },
   {
    "duration": 13,
    "start_time": "2022-02-18T15:37:24.769Z"
   },
   {
    "duration": 39,
    "start_time": "2022-02-18T15:37:24.784Z"
   },
   {
    "duration": 22,
    "start_time": "2022-02-18T15:37:24.824Z"
   },
   {
    "duration": 288,
    "start_time": "2022-02-18T15:37:24.848Z"
   },
   {
    "duration": 16,
    "start_time": "2022-02-18T15:37:25.138Z"
   },
   {
    "duration": 10,
    "start_time": "2022-02-18T15:37:25.156Z"
   },
   {
    "duration": 10,
    "start_time": "2022-02-18T15:37:25.167Z"
   },
   {
    "duration": 7,
    "start_time": "2022-02-18T15:37:25.178Z"
   },
   {
    "duration": 33,
    "start_time": "2022-02-18T15:37:25.187Z"
   },
   {
    "duration": 9,
    "start_time": "2022-02-18T15:37:25.222Z"
   },
   {
    "duration": 264,
    "start_time": "2022-02-18T15:37:25.232Z"
   },
   {
    "duration": 4,
    "start_time": "2022-02-18T15:37:25.498Z"
   },
   {
    "duration": 26,
    "start_time": "2022-02-18T15:37:25.504Z"
   },
   {
    "duration": 16,
    "start_time": "2022-02-18T15:37:25.532Z"
   },
   {
    "duration": 290,
    "start_time": "2022-02-18T15:38:20.419Z"
   },
   {
    "duration": 19,
    "start_time": "2022-02-18T15:38:24.329Z"
   },
   {
    "duration": 9,
    "start_time": "2022-02-18T15:40:43.207Z"
   },
   {
    "duration": 8,
    "start_time": "2022-02-18T15:40:50.696Z"
   },
   {
    "duration": 6,
    "start_time": "2022-02-18T15:41:01.120Z"
   },
   {
    "duration": 15,
    "start_time": "2022-02-18T15:45:54.501Z"
   },
   {
    "duration": 21,
    "start_time": "2022-02-18T15:47:51.941Z"
   },
   {
    "duration": 16,
    "start_time": "2022-02-18T15:47:54.376Z"
   },
   {
    "duration": 204,
    "start_time": "2022-02-18T15:49:26.167Z"
   },
   {
    "duration": 177,
    "start_time": "2022-02-18T15:49:33.754Z"
   },
   {
    "duration": 9,
    "start_time": "2022-02-18T15:49:42.668Z"
   },
   {
    "duration": 28,
    "start_time": "2022-02-18T15:51:04.995Z"
   },
   {
    "duration": 7,
    "start_time": "2022-02-18T15:53:42.007Z"
   },
   {
    "duration": 202,
    "start_time": "2022-02-18T15:54:25.879Z"
   },
   {
    "duration": 30,
    "start_time": "2022-02-18T15:55:09.488Z"
   },
   {
    "duration": 234,
    "start_time": "2022-02-18T15:55:23.665Z"
   },
   {
    "duration": 256,
    "start_time": "2022-02-18T15:56:06.580Z"
   },
   {
    "duration": 194,
    "start_time": "2022-02-18T15:59:22.708Z"
   },
   {
    "duration": 26,
    "start_time": "2022-02-18T15:59:37.316Z"
   },
   {
    "duration": 12,
    "start_time": "2022-02-18T15:59:46.770Z"
   },
   {
    "duration": 754,
    "start_time": "2022-02-18T16:00:51.256Z"
   },
   {
    "duration": 23,
    "start_time": "2022-02-18T16:01:21.667Z"
   },
   {
    "duration": 3,
    "start_time": "2022-02-18T16:01:22.643Z"
   },
   {
    "duration": 12,
    "start_time": "2022-02-18T16:01:32.109Z"
   },
   {
    "duration": 21,
    "start_time": "2022-02-18T16:07:19.848Z"
   },
   {
    "duration": 3,
    "start_time": "2022-02-18T16:07:20.292Z"
   },
   {
    "duration": 12,
    "start_time": "2022-02-18T16:07:23.896Z"
   },
   {
    "duration": 10,
    "start_time": "2022-02-18T16:09:51.666Z"
   },
   {
    "duration": 14,
    "start_time": "2022-02-18T16:10:23.538Z"
   },
   {
    "duration": 14,
    "start_time": "2022-02-18T16:10:26.672Z"
   },
   {
    "duration": 17,
    "start_time": "2022-02-18T16:10:54.972Z"
   },
   {
    "duration": 13,
    "start_time": "2022-02-18T16:11:06.237Z"
   },
   {
    "duration": 215,
    "start_time": "2022-02-18T16:11:24.675Z"
   },
   {
    "duration": 12,
    "start_time": "2022-02-18T16:11:25.142Z"
   },
   {
    "duration": 220,
    "start_time": "2022-02-18T16:11:34.285Z"
   },
   {
    "duration": 206,
    "start_time": "2022-02-18T16:11:43.559Z"
   },
   {
    "duration": 1008,
    "start_time": "2022-02-18T16:11:52.531Z"
   },
   {
    "duration": 145,
    "start_time": "2022-02-18T16:11:53.541Z"
   },
   {
    "duration": 10,
    "start_time": "2022-02-18T16:11:53.688Z"
   },
   {
    "duration": 145,
    "start_time": "2022-02-18T16:11:53.700Z"
   },
   {
    "duration": 8,
    "start_time": "2022-02-18T16:11:53.847Z"
   },
   {
    "duration": 93,
    "start_time": "2022-02-18T16:11:53.856Z"
   },
   {
    "duration": 7,
    "start_time": "2022-02-18T16:11:53.951Z"
   },
   {
    "duration": 13,
    "start_time": "2022-02-18T16:11:53.959Z"
   },
   {
    "duration": 9,
    "start_time": "2022-02-18T16:11:53.975Z"
   },
   {
    "duration": 29,
    "start_time": "2022-02-18T16:11:53.986Z"
   },
   {
    "duration": 21,
    "start_time": "2022-02-18T16:11:54.017Z"
   },
   {
    "duration": 51,
    "start_time": "2022-02-18T16:11:54.039Z"
   },
   {
    "duration": 7,
    "start_time": "2022-02-18T16:11:54.092Z"
   },
   {
    "duration": 45,
    "start_time": "2022-02-18T16:11:54.101Z"
   },
   {
    "duration": 16,
    "start_time": "2022-02-18T16:11:54.148Z"
   },
   {
    "duration": 4,
    "start_time": "2022-02-18T16:11:54.166Z"
   },
   {
    "duration": 16,
    "start_time": "2022-02-18T16:11:54.172Z"
   },
   {
    "duration": 297,
    "start_time": "2022-02-18T16:11:54.190Z"
   },
   {
    "duration": 13,
    "start_time": "2022-02-18T16:11:54.488Z"
   },
   {
    "duration": 21,
    "start_time": "2022-02-18T16:11:54.502Z"
   },
   {
    "duration": 42,
    "start_time": "2022-02-18T16:11:54.525Z"
   },
   {
    "duration": 293,
    "start_time": "2022-02-18T16:11:54.568Z"
   },
   {
    "duration": 8,
    "start_time": "2022-02-18T16:11:54.863Z"
   },
   {
    "duration": 25,
    "start_time": "2022-02-18T16:11:54.872Z"
   },
   {
    "duration": 30,
    "start_time": "2022-02-18T16:11:54.899Z"
   },
   {
    "duration": 15,
    "start_time": "2022-02-18T16:11:54.930Z"
   },
   {
    "duration": 277,
    "start_time": "2022-02-18T16:11:54.948Z"
   },
   {
    "duration": 13,
    "start_time": "2022-02-18T16:11:55.228Z"
   },
   {
    "duration": 23,
    "start_time": "2022-02-18T16:11:55.243Z"
   },
   {
    "duration": 23,
    "start_time": "2022-02-18T16:11:55.267Z"
   },
   {
    "duration": 299,
    "start_time": "2022-02-18T16:11:55.292Z"
   },
   {
    "duration": 30,
    "start_time": "2022-02-18T16:11:55.593Z"
   },
   {
    "duration": 11,
    "start_time": "2022-02-18T16:11:55.625Z"
   },
   {
    "duration": 11,
    "start_time": "2022-02-18T16:11:55.638Z"
   },
   {
    "duration": 7,
    "start_time": "2022-02-18T16:11:55.651Z"
   },
   {
    "duration": 8,
    "start_time": "2022-02-18T16:11:55.659Z"
   },
   {
    "duration": 9,
    "start_time": "2022-02-18T16:11:55.669Z"
   },
   {
    "duration": 298,
    "start_time": "2022-02-18T16:11:55.680Z"
   },
   {
    "duration": 5,
    "start_time": "2022-02-18T16:11:55.980Z"
   },
   {
    "duration": 15,
    "start_time": "2022-02-18T16:11:55.987Z"
   },
   {
    "duration": 22,
    "start_time": "2022-02-18T16:11:56.004Z"
   },
   {
    "duration": 21,
    "start_time": "2022-02-18T16:11:56.027Z"
   },
   {
    "duration": 32,
    "start_time": "2022-02-18T16:11:56.050Z"
   },
   {
    "duration": 3,
    "start_time": "2022-02-18T16:11:56.083Z"
   },
   {
    "duration": 40,
    "start_time": "2022-02-18T16:11:56.087Z"
   },
   {
    "duration": 14,
    "start_time": "2022-02-18T16:11:56.129Z"
   },
   {
    "duration": 298,
    "start_time": "2022-02-18T16:11:56.144Z"
   },
   {
    "duration": -27,
    "start_time": "2022-02-18T16:11:56.471Z"
   },
   {
    "duration": 232,
    "start_time": "2022-02-18T16:12:20.966Z"
   },
   {
    "duration": 14,
    "start_time": "2022-02-18T16:13:09.336Z"
   },
   {
    "duration": 12,
    "start_time": "2022-02-18T16:13:13.440Z"
   },
   {
    "duration": 3,
    "start_time": "2022-02-18T16:13:47.909Z"
   },
   {
    "duration": 11,
    "start_time": "2022-02-18T16:13:57.054Z"
   },
   {
    "duration": 8,
    "start_time": "2022-02-18T16:14:18.110Z"
   },
   {
    "duration": 197,
    "start_time": "2022-02-18T16:14:23.635Z"
   },
   {
    "duration": 8,
    "start_time": "2022-02-18T16:14:30.678Z"
   },
   {
    "duration": 14,
    "start_time": "2022-02-18T16:15:26.422Z"
   },
   {
    "duration": 15,
    "start_time": "2022-02-18T16:15:58.749Z"
   },
   {
    "duration": 17,
    "start_time": "2022-02-18T16:16:01.909Z"
   },
   {
    "duration": 27,
    "start_time": "2022-02-18T16:16:45.609Z"
   },
   {
    "duration": 9,
    "start_time": "2022-02-18T16:16:50.202Z"
   },
   {
    "duration": 15,
    "start_time": "2022-02-18T16:17:32.283Z"
   },
   {
    "duration": 11,
    "start_time": "2022-02-18T16:17:51.140Z"
   },
   {
    "duration": 8,
    "start_time": "2022-02-18T16:18:11.649Z"
   },
   {
    "duration": 16,
    "start_time": "2022-02-18T16:19:21.382Z"
   },
   {
    "duration": 4,
    "start_time": "2022-02-18T16:24:25.872Z"
   },
   {
    "duration": 7,
    "start_time": "2022-02-18T16:24:35.934Z"
   },
   {
    "duration": 18,
    "start_time": "2022-02-18T16:25:10.652Z"
   },
   {
    "duration": 8,
    "start_time": "2022-02-18T16:25:17.487Z"
   },
   {
    "duration": 17,
    "start_time": "2022-02-18T16:25:20.017Z"
   },
   {
    "duration": 194,
    "start_time": "2022-02-18T16:25:46.298Z"
   },
   {
    "duration": 11,
    "start_time": "2022-02-18T16:25:50.268Z"
   },
   {
    "duration": 20,
    "start_time": "2022-02-18T16:25:50.929Z"
   },
   {
    "duration": 993,
    "start_time": "2022-02-18T16:26:33.491Z"
   },
   {
    "duration": 136,
    "start_time": "2022-02-18T16:26:34.486Z"
   },
   {
    "duration": 13,
    "start_time": "2022-02-18T16:26:34.624Z"
   },
   {
    "duration": 137,
    "start_time": "2022-02-18T16:26:34.639Z"
   },
   {
    "duration": 8,
    "start_time": "2022-02-18T16:26:34.778Z"
   },
   {
    "duration": 87,
    "start_time": "2022-02-18T16:26:34.788Z"
   },
   {
    "duration": 6,
    "start_time": "2022-02-18T16:26:34.877Z"
   },
   {
    "duration": 11,
    "start_time": "2022-02-18T16:26:34.884Z"
   },
   {
    "duration": 20,
    "start_time": "2022-02-18T16:26:34.898Z"
   },
   {
    "duration": 24,
    "start_time": "2022-02-18T16:26:34.921Z"
   },
   {
    "duration": 9,
    "start_time": "2022-02-18T16:26:34.947Z"
   },
   {
    "duration": 49,
    "start_time": "2022-02-18T16:26:34.957Z"
   },
   {
    "duration": 12,
    "start_time": "2022-02-18T16:26:35.008Z"
   },
   {
    "duration": 39,
    "start_time": "2022-02-18T16:26:35.022Z"
   },
   {
    "duration": 18,
    "start_time": "2022-02-18T16:26:35.063Z"
   },
   {
    "duration": 4,
    "start_time": "2022-02-18T16:26:35.082Z"
   },
   {
    "duration": 37,
    "start_time": "2022-02-18T16:26:35.087Z"
   },
   {
    "duration": 279,
    "start_time": "2022-02-18T16:26:35.126Z"
   },
   {
    "duration": 17,
    "start_time": "2022-02-18T16:26:35.406Z"
   },
   {
    "duration": 14,
    "start_time": "2022-02-18T16:26:35.425Z"
   },
   {
    "duration": 37,
    "start_time": "2022-02-18T16:26:35.441Z"
   },
   {
    "duration": 296,
    "start_time": "2022-02-18T16:26:35.480Z"
   },
   {
    "duration": 8,
    "start_time": "2022-02-18T16:26:35.778Z"
   },
   {
    "duration": 44,
    "start_time": "2022-02-18T16:26:35.788Z"
   },
   {
    "duration": 18,
    "start_time": "2022-02-18T16:26:35.834Z"
   },
   {
    "duration": 15,
    "start_time": "2022-02-18T16:26:35.854Z"
   },
   {
    "duration": 290,
    "start_time": "2022-02-18T16:26:35.873Z"
   },
   {
    "duration": 12,
    "start_time": "2022-02-18T16:26:36.165Z"
   },
   {
    "duration": 21,
    "start_time": "2022-02-18T16:26:36.179Z"
   },
   {
    "duration": 43,
    "start_time": "2022-02-18T16:26:36.202Z"
   },
   {
    "duration": 301,
    "start_time": "2022-02-18T16:26:36.246Z"
   },
   {
    "duration": 18,
    "start_time": "2022-02-18T16:26:36.549Z"
   },
   {
    "duration": 10,
    "start_time": "2022-02-18T16:26:36.569Z"
   },
   {
    "duration": 9,
    "start_time": "2022-02-18T16:26:36.581Z"
   },
   {
    "duration": 8,
    "start_time": "2022-02-18T16:26:36.619Z"
   },
   {
    "duration": 11,
    "start_time": "2022-02-18T16:26:36.629Z"
   },
   {
    "duration": 8,
    "start_time": "2022-02-18T16:26:36.642Z"
   },
   {
    "duration": 258,
    "start_time": "2022-02-18T16:26:36.652Z"
   },
   {
    "duration": 9,
    "start_time": "2022-02-18T16:26:36.911Z"
   },
   {
    "duration": 17,
    "start_time": "2022-02-18T16:26:36.923Z"
   },
   {
    "duration": 7,
    "start_time": "2022-02-18T16:26:36.941Z"
   },
   {
    "duration": 19,
    "start_time": "2022-02-18T16:26:36.950Z"
   },
   {
    "duration": 62,
    "start_time": "2022-02-18T16:26:36.971Z"
   },
   {
    "duration": 3,
    "start_time": "2022-02-18T16:26:37.035Z"
   },
   {
    "duration": 8,
    "start_time": "2022-02-18T16:26:37.040Z"
   },
   {
    "duration": 15,
    "start_time": "2022-02-18T16:26:37.050Z"
   },
   {
    "duration": 18,
    "start_time": "2022-02-18T16:26:37.066Z"
   },
   {
    "duration": 3,
    "start_time": "2022-02-18T16:26:37.085Z"
   },
   {
    "duration": 37,
    "start_time": "2022-02-18T16:26:37.089Z"
   },
   {
    "duration": 22,
    "start_time": "2022-02-18T16:26:37.128Z"
   },
   {
    "duration": 23,
    "start_time": "2022-02-18T16:26:37.151Z"
   },
   {
    "duration": 7,
    "start_time": "2022-02-18T16:26:37.176Z"
   },
   {
    "duration": 36,
    "start_time": "2022-02-18T16:26:37.184Z"
   },
   {
    "duration": 4,
    "start_time": "2022-02-18T16:26:37.222Z"
   },
   {
    "duration": 13,
    "start_time": "2022-02-18T16:26:37.228Z"
   },
   {
    "duration": 14,
    "start_time": "2022-02-18T16:26:37.242Z"
   },
   {
    "duration": 3,
    "start_time": "2022-02-18T16:27:30.107Z"
   },
   {
    "duration": 7,
    "start_time": "2022-02-18T16:27:30.477Z"
   },
   {
    "duration": 1051,
    "start_time": "2022-02-18T16:27:35.538Z"
   },
   {
    "duration": 137,
    "start_time": "2022-02-18T16:27:36.590Z"
   },
   {
    "duration": 13,
    "start_time": "2022-02-18T16:27:36.730Z"
   },
   {
    "duration": 138,
    "start_time": "2022-02-18T16:27:36.745Z"
   },
   {
    "duration": 9,
    "start_time": "2022-02-18T16:27:36.884Z"
   },
   {
    "duration": 97,
    "start_time": "2022-02-18T16:27:36.894Z"
   },
   {
    "duration": 7,
    "start_time": "2022-02-18T16:27:36.993Z"
   },
   {
    "duration": 17,
    "start_time": "2022-02-18T16:27:37.002Z"
   },
   {
    "duration": 10,
    "start_time": "2022-02-18T16:27:37.022Z"
   },
   {
    "duration": 20,
    "start_time": "2022-02-18T16:27:37.034Z"
   },
   {
    "duration": 25,
    "start_time": "2022-02-18T16:27:37.055Z"
   },
   {
    "duration": 52,
    "start_time": "2022-02-18T16:27:37.081Z"
   },
   {
    "duration": 10,
    "start_time": "2022-02-18T16:27:37.135Z"
   },
   {
    "duration": 33,
    "start_time": "2022-02-18T16:27:37.147Z"
   },
   {
    "duration": 16,
    "start_time": "2022-02-18T16:27:37.181Z"
   },
   {
    "duration": 21,
    "start_time": "2022-02-18T16:27:37.198Z"
   },
   {
    "duration": 18,
    "start_time": "2022-02-18T16:27:37.221Z"
   },
   {
    "duration": 301,
    "start_time": "2022-02-18T16:27:37.241Z"
   },
   {
    "duration": 12,
    "start_time": "2022-02-18T16:27:37.543Z"
   },
   {
    "duration": 9,
    "start_time": "2022-02-18T16:27:37.557Z"
   },
   {
    "duration": 59,
    "start_time": "2022-02-18T16:27:37.567Z"
   },
   {
    "duration": 267,
    "start_time": "2022-02-18T16:27:37.629Z"
   },
   {
    "duration": 7,
    "start_time": "2022-02-18T16:27:37.900Z"
   },
   {
    "duration": 29,
    "start_time": "2022-02-18T16:27:37.920Z"
   },
   {
    "duration": 13,
    "start_time": "2022-02-18T16:27:37.950Z"
   },
   {
    "duration": 14,
    "start_time": "2022-02-18T16:27:37.965Z"
   },
   {
    "duration": 299,
    "start_time": "2022-02-18T16:27:37.980Z"
   },
   {
    "duration": 15,
    "start_time": "2022-02-18T16:27:38.281Z"
   },
   {
    "duration": 46,
    "start_time": "2022-02-18T16:27:38.297Z"
   },
   {
    "duration": 22,
    "start_time": "2022-02-18T16:27:38.345Z"
   },
   {
    "duration": 321,
    "start_time": "2022-02-18T16:27:38.368Z"
   },
   {
    "duration": 18,
    "start_time": "2022-02-18T16:27:38.690Z"
   },
   {
    "duration": 16,
    "start_time": "2022-02-18T16:27:38.710Z"
   },
   {
    "duration": 12,
    "start_time": "2022-02-18T16:27:38.728Z"
   },
   {
    "duration": 7,
    "start_time": "2022-02-18T16:27:38.742Z"
   },
   {
    "duration": 9,
    "start_time": "2022-02-18T16:27:38.751Z"
   },
   {
    "duration": 10,
    "start_time": "2022-02-18T16:27:38.761Z"
   },
   {
    "duration": 253,
    "start_time": "2022-02-18T16:27:38.773Z"
   },
   {
    "duration": 4,
    "start_time": "2022-02-18T16:27:39.028Z"
   },
   {
    "duration": 19,
    "start_time": "2022-02-18T16:27:39.034Z"
   },
   {
    "duration": 8,
    "start_time": "2022-02-18T16:27:39.054Z"
   },
   {
    "duration": 19,
    "start_time": "2022-02-18T16:27:39.064Z"
   },
   {
    "duration": 64,
    "start_time": "2022-02-18T16:27:39.085Z"
   },
   {
    "duration": 3,
    "start_time": "2022-02-18T16:27:39.151Z"
   },
   {
    "duration": 12,
    "start_time": "2022-02-18T16:27:39.155Z"
   },
   {
    "duration": 16,
    "start_time": "2022-02-18T16:27:39.168Z"
   },
   {
    "duration": 34,
    "start_time": "2022-02-18T16:27:39.185Z"
   },
   {
    "duration": 3,
    "start_time": "2022-02-18T16:27:39.220Z"
   },
   {
    "duration": 10,
    "start_time": "2022-02-18T16:27:39.224Z"
   },
   {
    "duration": 16,
    "start_time": "2022-02-18T16:27:39.236Z"
   },
   {
    "duration": 21,
    "start_time": "2022-02-18T16:27:39.253Z"
   },
   {
    "duration": 3,
    "start_time": "2022-02-18T16:27:39.275Z"
   },
   {
    "duration": 20,
    "start_time": "2022-02-18T16:27:39.319Z"
   },
   {
    "duration": 16,
    "start_time": "2022-02-18T16:27:39.341Z"
   },
   {
    "duration": 6,
    "start_time": "2022-02-18T16:27:39.358Z"
   },
   {
    "duration": 324,
    "start_time": "2022-02-18T16:27:39.366Z"
   },
   {
    "duration": -50,
    "start_time": "2022-02-18T16:27:39.741Z"
   },
   {
    "duration": 3,
    "start_time": "2022-02-18T16:27:52.114Z"
   },
   {
    "duration": 10,
    "start_time": "2022-02-18T16:27:54.036Z"
   },
   {
    "duration": 1011,
    "start_time": "2022-02-18T16:27:58.988Z"
   },
   {
    "duration": 156,
    "start_time": "2022-02-18T16:28:00.001Z"
   },
   {
    "duration": 11,
    "start_time": "2022-02-18T16:28:00.159Z"
   },
   {
    "duration": 140,
    "start_time": "2022-02-18T16:28:00.171Z"
   },
   {
    "duration": 11,
    "start_time": "2022-02-18T16:28:00.313Z"
   },
   {
    "duration": 99,
    "start_time": "2022-02-18T16:28:00.326Z"
   },
   {
    "duration": 8,
    "start_time": "2022-02-18T16:28:00.428Z"
   },
   {
    "duration": 11,
    "start_time": "2022-02-18T16:28:00.439Z"
   },
   {
    "duration": 20,
    "start_time": "2022-02-18T16:28:00.451Z"
   },
   {
    "duration": 23,
    "start_time": "2022-02-18T16:28:00.472Z"
   },
   {
    "duration": 11,
    "start_time": "2022-02-18T16:28:00.497Z"
   },
   {
    "duration": 69,
    "start_time": "2022-02-18T16:28:00.509Z"
   },
   {
    "duration": 7,
    "start_time": "2022-02-18T16:28:00.580Z"
   },
   {
    "duration": 43,
    "start_time": "2022-02-18T16:28:00.589Z"
   },
   {
    "duration": 17,
    "start_time": "2022-02-18T16:28:00.635Z"
   },
   {
    "duration": 5,
    "start_time": "2022-02-18T16:28:00.654Z"
   },
   {
    "duration": 20,
    "start_time": "2022-02-18T16:28:00.660Z"
   },
   {
    "duration": 318,
    "start_time": "2022-02-18T16:28:00.681Z"
   },
   {
    "duration": 21,
    "start_time": "2022-02-18T16:28:01.000Z"
   },
   {
    "duration": 11,
    "start_time": "2022-02-18T16:28:01.024Z"
   },
   {
    "duration": 43,
    "start_time": "2022-02-18T16:28:01.038Z"
   },
   {
    "duration": 307,
    "start_time": "2022-02-18T16:28:01.083Z"
   },
   {
    "duration": 8,
    "start_time": "2022-02-18T16:28:01.394Z"
   },
   {
    "duration": 37,
    "start_time": "2022-02-18T16:28:01.404Z"
   },
   {
    "duration": 12,
    "start_time": "2022-02-18T16:28:01.443Z"
   },
   {
    "duration": 13,
    "start_time": "2022-02-18T16:28:01.457Z"
   },
   {
    "duration": 308,
    "start_time": "2022-02-18T16:28:01.472Z"
   },
   {
    "duration": 14,
    "start_time": "2022-02-18T16:28:01.782Z"
   },
   {
    "duration": 45,
    "start_time": "2022-02-18T16:28:01.798Z"
   },
   {
    "duration": 21,
    "start_time": "2022-02-18T16:28:01.845Z"
   },
   {
    "duration": 294,
    "start_time": "2022-02-18T16:28:01.867Z"
   },
   {
    "duration": 16,
    "start_time": "2022-02-18T16:28:02.163Z"
   },
   {
    "duration": 10,
    "start_time": "2022-02-18T16:28:02.180Z"
   },
   {
    "duration": 28,
    "start_time": "2022-02-18T16:28:02.192Z"
   },
   {
    "duration": 8,
    "start_time": "2022-02-18T16:28:02.222Z"
   },
   {
    "duration": 11,
    "start_time": "2022-02-18T16:28:02.232Z"
   },
   {
    "duration": 9,
    "start_time": "2022-02-18T16:28:02.244Z"
   },
   {
    "duration": 275,
    "start_time": "2022-02-18T16:28:02.254Z"
   },
   {
    "duration": 6,
    "start_time": "2022-02-18T16:28:02.531Z"
   },
   {
    "duration": 16,
    "start_time": "2022-02-18T16:28:02.539Z"
   },
   {
    "duration": 10,
    "start_time": "2022-02-18T16:28:02.557Z"
   },
   {
    "duration": 50,
    "start_time": "2022-02-18T16:28:02.569Z"
   },
   {
    "duration": 36,
    "start_time": "2022-02-18T16:28:02.621Z"
   },
   {
    "duration": 3,
    "start_time": "2022-02-18T16:28:02.659Z"
   },
   {
    "duration": 9,
    "start_time": "2022-02-18T16:28:02.663Z"
   },
   {
    "duration": 18,
    "start_time": "2022-02-18T16:28:02.673Z"
   },
   {
    "duration": 45,
    "start_time": "2022-02-18T16:28:02.692Z"
   },
   {
    "duration": 4,
    "start_time": "2022-02-18T16:28:02.739Z"
   },
   {
    "duration": 11,
    "start_time": "2022-02-18T16:28:02.744Z"
   },
   {
    "duration": 16,
    "start_time": "2022-02-18T16:28:02.756Z"
   },
   {
    "duration": 21,
    "start_time": "2022-02-18T16:28:02.774Z"
   },
   {
    "duration": 3,
    "start_time": "2022-02-18T16:28:02.796Z"
   },
   {
    "duration": 22,
    "start_time": "2022-02-18T16:28:02.800Z"
   },
   {
    "duration": 21,
    "start_time": "2022-02-18T16:28:02.824Z"
   },
   {
    "duration": 5,
    "start_time": "2022-02-18T16:28:02.847Z"
   },
   {
    "duration": 12,
    "start_time": "2022-02-18T16:28:02.854Z"
   },
   {
    "duration": 14,
    "start_time": "2022-02-18T16:28:02.868Z"
   },
   {
    "duration": 289,
    "start_time": "2022-02-18T16:29:49.716Z"
   },
   {
    "duration": 197,
    "start_time": "2022-02-18T16:30:01.190Z"
   },
   {
    "duration": 200,
    "start_time": "2022-02-18T16:30:16.183Z"
   },
   {
    "duration": 8,
    "start_time": "2022-02-18T16:30:42.569Z"
   },
   {
    "duration": 23,
    "start_time": "2022-02-18T16:30:44.839Z"
   },
   {
    "duration": 989,
    "start_time": "2022-02-18T16:31:33.507Z"
   },
   {
    "duration": 145,
    "start_time": "2022-02-18T16:31:34.498Z"
   },
   {
    "duration": 11,
    "start_time": "2022-02-18T16:31:34.645Z"
   },
   {
    "duration": 128,
    "start_time": "2022-02-18T16:31:34.658Z"
   },
   {
    "duration": 8,
    "start_time": "2022-02-18T16:31:34.788Z"
   },
   {
    "duration": 87,
    "start_time": "2022-02-18T16:31:34.798Z"
   },
   {
    "duration": 7,
    "start_time": "2022-02-18T16:31:34.886Z"
   },
   {
    "duration": 11,
    "start_time": "2022-02-18T16:31:34.895Z"
   },
   {
    "duration": 12,
    "start_time": "2022-02-18T16:31:34.907Z"
   },
   {
    "duration": 19,
    "start_time": "2022-02-18T16:31:34.921Z"
   },
   {
    "duration": 8,
    "start_time": "2022-02-18T16:31:34.941Z"
   },
   {
    "duration": 49,
    "start_time": "2022-02-18T16:31:34.951Z"
   },
   {
    "duration": 17,
    "start_time": "2022-02-18T16:31:35.002Z"
   },
   {
    "duration": 30,
    "start_time": "2022-02-18T16:31:35.020Z"
   },
   {
    "duration": 17,
    "start_time": "2022-02-18T16:31:35.051Z"
   },
   {
    "duration": 4,
    "start_time": "2022-02-18T16:31:35.069Z"
   },
   {
    "duration": 14,
    "start_time": "2022-02-18T16:31:35.075Z"
   },
   {
    "duration": 297,
    "start_time": "2022-02-18T16:31:35.091Z"
   },
   {
    "duration": 14,
    "start_time": "2022-02-18T16:31:35.390Z"
   },
   {
    "duration": 22,
    "start_time": "2022-02-18T16:31:35.405Z"
   },
   {
    "duration": 40,
    "start_time": "2022-02-18T16:31:35.428Z"
   },
   {
    "duration": 275,
    "start_time": "2022-02-18T16:31:35.470Z"
   },
   {
    "duration": 9,
    "start_time": "2022-02-18T16:31:35.750Z"
   },
   {
    "duration": 34,
    "start_time": "2022-02-18T16:31:35.762Z"
   },
   {
    "duration": 26,
    "start_time": "2022-02-18T16:31:35.798Z"
   },
   {
    "duration": 16,
    "start_time": "2022-02-18T16:31:35.826Z"
   },
   {
    "duration": 277,
    "start_time": "2022-02-18T16:31:35.844Z"
   },
   {
    "duration": 13,
    "start_time": "2022-02-18T16:31:36.123Z"
   },
   {
    "duration": 22,
    "start_time": "2022-02-18T16:31:36.138Z"
   },
   {
    "duration": 22,
    "start_time": "2022-02-18T16:31:36.161Z"
   },
   {
    "duration": 290,
    "start_time": "2022-02-18T16:31:36.184Z"
   },
   {
    "duration": 15,
    "start_time": "2022-02-18T16:31:36.476Z"
   },
   {
    "duration": 26,
    "start_time": "2022-02-18T16:31:36.493Z"
   },
   {
    "duration": 9,
    "start_time": "2022-02-18T16:31:36.520Z"
   },
   {
    "duration": 6,
    "start_time": "2022-02-18T16:31:36.530Z"
   },
   {
    "duration": 9,
    "start_time": "2022-02-18T16:31:36.538Z"
   },
   {
    "duration": 6,
    "start_time": "2022-02-18T16:31:36.549Z"
   },
   {
    "duration": 262,
    "start_time": "2022-02-18T16:31:36.557Z"
   },
   {
    "duration": 5,
    "start_time": "2022-02-18T16:31:36.820Z"
   },
   {
    "duration": 15,
    "start_time": "2022-02-18T16:31:36.827Z"
   },
   {
    "duration": 11,
    "start_time": "2022-02-18T16:31:36.844Z"
   },
   {
    "duration": 20,
    "start_time": "2022-02-18T16:31:36.856Z"
   },
   {
    "duration": 59,
    "start_time": "2022-02-18T16:31:36.878Z"
   },
   {
    "duration": 3,
    "start_time": "2022-02-18T16:31:36.938Z"
   },
   {
    "duration": 12,
    "start_time": "2022-02-18T16:31:36.942Z"
   },
   {
    "duration": 14,
    "start_time": "2022-02-18T16:31:36.955Z"
   },
   {
    "duration": 17,
    "start_time": "2022-02-18T16:31:36.971Z"
   },
   {
    "duration": 2,
    "start_time": "2022-02-18T16:31:36.989Z"
   },
   {
    "duration": 29,
    "start_time": "2022-02-18T16:31:36.993Z"
   },
   {
    "duration": 16,
    "start_time": "2022-02-18T16:31:37.024Z"
   },
   {
    "duration": 22,
    "start_time": "2022-02-18T16:31:37.042Z"
   },
   {
    "duration": 2,
    "start_time": "2022-02-18T16:31:37.066Z"
   },
   {
    "duration": 12,
    "start_time": "2022-02-18T16:31:37.069Z"
   },
   {
    "duration": 16,
    "start_time": "2022-02-18T16:31:37.082Z"
   },
   {
    "duration": 4,
    "start_time": "2022-02-18T16:31:37.119Z"
   },
   {
    "duration": 15,
    "start_time": "2022-02-18T16:31:37.125Z"
   },
   {
    "duration": 22,
    "start_time": "2022-02-18T16:31:37.142Z"
   },
   {
    "duration": 9,
    "start_time": "2022-02-18T16:35:27.040Z"
   },
   {
    "duration": 6,
    "start_time": "2022-02-18T16:36:11.659Z"
   },
   {
    "duration": 21,
    "start_time": "2022-02-18T16:36:23.960Z"
   },
   {
    "duration": 23,
    "start_time": "2022-02-18T16:37:13.611Z"
   },
   {
    "duration": 14,
    "start_time": "2022-02-18T16:37:24.378Z"
   },
   {
    "duration": 8,
    "start_time": "2022-02-18T16:37:50.524Z"
   },
   {
    "duration": 6,
    "start_time": "2022-02-18T16:38:07.561Z"
   },
   {
    "duration": 16,
    "start_time": "2022-02-18T16:38:10.805Z"
   },
   {
    "duration": 66,
    "start_time": "2022-02-18T16:44:43.349Z"
   },
   {
    "duration": 3,
    "start_time": "2022-02-18T16:44:57.165Z"
   },
   {
    "duration": 10,
    "start_time": "2022-02-18T16:45:06.256Z"
   },
   {
    "duration": 15,
    "start_time": "2022-02-18T16:45:42.201Z"
   },
   {
    "duration": 31,
    "start_time": "2022-02-18T16:47:53.695Z"
   },
   {
    "duration": 35,
    "start_time": "2022-02-18T16:48:07.394Z"
   },
   {
    "duration": 1062,
    "start_time": "2022-02-18T16:48:24.938Z"
   },
   {
    "duration": 156,
    "start_time": "2022-02-18T16:48:26.002Z"
   },
   {
    "duration": 12,
    "start_time": "2022-02-18T16:48:26.160Z"
   },
   {
    "duration": 160,
    "start_time": "2022-02-18T16:48:26.174Z"
   },
   {
    "duration": 9,
    "start_time": "2022-02-18T16:48:26.335Z"
   },
   {
    "duration": 99,
    "start_time": "2022-02-18T16:48:26.346Z"
   },
   {
    "duration": 8,
    "start_time": "2022-02-18T16:48:26.447Z"
   },
   {
    "duration": 10,
    "start_time": "2022-02-18T16:48:26.458Z"
   },
   {
    "duration": 8,
    "start_time": "2022-02-18T16:48:26.471Z"
   },
   {
    "duration": 21,
    "start_time": "2022-02-18T16:48:26.481Z"
   },
   {
    "duration": 26,
    "start_time": "2022-02-18T16:48:26.504Z"
   },
   {
    "duration": 74,
    "start_time": "2022-02-18T16:48:26.532Z"
   },
   {
    "duration": 7,
    "start_time": "2022-02-18T16:48:26.608Z"
   },
   {
    "duration": 34,
    "start_time": "2022-02-18T16:48:26.617Z"
   },
   {
    "duration": 17,
    "start_time": "2022-02-18T16:48:26.652Z"
   },
   {
    "duration": 4,
    "start_time": "2022-02-18T16:48:26.671Z"
   },
   {
    "duration": 24,
    "start_time": "2022-02-18T16:48:26.677Z"
   },
   {
    "duration": 307,
    "start_time": "2022-02-18T16:48:26.702Z"
   },
   {
    "duration": 17,
    "start_time": "2022-02-18T16:48:27.011Z"
   },
   {
    "duration": 9,
    "start_time": "2022-02-18T16:48:27.030Z"
   },
   {
    "duration": 41,
    "start_time": "2022-02-18T16:48:27.041Z"
   },
   {
    "duration": 289,
    "start_time": "2022-02-18T16:48:27.084Z"
   },
   {
    "duration": 8,
    "start_time": "2022-02-18T16:48:27.377Z"
   },
   {
    "duration": 35,
    "start_time": "2022-02-18T16:48:27.387Z"
   },
   {
    "duration": 13,
    "start_time": "2022-02-18T16:48:27.424Z"
   },
   {
    "duration": 15,
    "start_time": "2022-02-18T16:48:27.439Z"
   },
   {
    "duration": 304,
    "start_time": "2022-02-18T16:48:27.456Z"
   },
   {
    "duration": 14,
    "start_time": "2022-02-18T16:48:27.762Z"
   },
   {
    "duration": 41,
    "start_time": "2022-02-18T16:48:27.778Z"
   },
   {
    "duration": 23,
    "start_time": "2022-02-18T16:48:27.820Z"
   },
   {
    "duration": 303,
    "start_time": "2022-02-18T16:48:27.845Z"
   },
   {
    "duration": 23,
    "start_time": "2022-02-18T16:48:28.151Z"
   },
   {
    "duration": 12,
    "start_time": "2022-02-18T16:48:28.175Z"
   },
   {
    "duration": 29,
    "start_time": "2022-02-18T16:48:28.189Z"
   },
   {
    "duration": 7,
    "start_time": "2022-02-18T16:48:28.220Z"
   },
   {
    "duration": 12,
    "start_time": "2022-02-18T16:48:28.229Z"
   },
   {
    "duration": 9,
    "start_time": "2022-02-18T16:48:28.243Z"
   },
   {
    "duration": 284,
    "start_time": "2022-02-18T16:48:28.254Z"
   },
   {
    "duration": 5,
    "start_time": "2022-02-18T16:48:28.540Z"
   },
   {
    "duration": 17,
    "start_time": "2022-02-18T16:48:28.547Z"
   },
   {
    "duration": 9,
    "start_time": "2022-02-18T16:48:28.565Z"
   },
   {
    "duration": 45,
    "start_time": "2022-02-18T16:48:28.576Z"
   },
   {
    "duration": 32,
    "start_time": "2022-02-18T16:48:28.623Z"
   },
   {
    "duration": 3,
    "start_time": "2022-02-18T16:48:28.657Z"
   },
   {
    "duration": 13,
    "start_time": "2022-02-18T16:48:28.662Z"
   },
   {
    "duration": 15,
    "start_time": "2022-02-18T16:48:28.676Z"
   },
   {
    "duration": 40,
    "start_time": "2022-02-18T16:48:28.693Z"
   },
   {
    "duration": 3,
    "start_time": "2022-02-18T16:48:28.735Z"
   },
   {
    "duration": 10,
    "start_time": "2022-02-18T16:48:28.739Z"
   },
   {
    "duration": 16,
    "start_time": "2022-02-18T16:48:28.750Z"
   },
   {
    "duration": 23,
    "start_time": "2022-02-18T16:48:28.767Z"
   },
   {
    "duration": 27,
    "start_time": "2022-02-18T16:48:28.792Z"
   },
   {
    "duration": 10,
    "start_time": "2022-02-18T16:48:28.821Z"
   },
   {
    "duration": 16,
    "start_time": "2022-02-18T16:48:28.832Z"
   },
   {
    "duration": 14,
    "start_time": "2022-02-18T16:48:28.850Z"
   },
   {
    "duration": 8,
    "start_time": "2022-02-18T16:48:28.865Z"
   },
   {
    "duration": 44,
    "start_time": "2022-02-18T16:48:28.875Z"
   },
   {
    "duration": 4,
    "start_time": "2022-02-18T16:48:28.920Z"
   },
   {
    "duration": 23,
    "start_time": "2022-02-18T16:49:11.851Z"
   },
   {
    "duration": 69,
    "start_time": "2022-02-18T16:50:22.371Z"
   },
   {
    "duration": 261,
    "start_time": "2022-02-18T16:54:51.762Z"
   },
   {
    "duration": 8,
    "start_time": "2022-02-18T16:54:54.016Z"
   },
   {
    "duration": 22,
    "start_time": "2022-02-18T16:57:40.263Z"
   },
   {
    "duration": 2,
    "start_time": "2022-02-18T17:14:50.061Z"
   },
   {
    "duration": 3,
    "start_time": "2022-02-18T17:14:53.892Z"
   },
   {
    "duration": 2,
    "start_time": "2022-02-18T17:15:11.372Z"
   },
   {
    "duration": 4,
    "start_time": "2022-02-18T17:15:12.708Z"
   },
   {
    "duration": 1087,
    "start_time": "2022-02-18T17:22:48.500Z"
   },
   {
    "duration": 146,
    "start_time": "2022-02-18T17:22:49.589Z"
   },
   {
    "duration": 12,
    "start_time": "2022-02-18T17:22:49.741Z"
   },
   {
    "duration": 155,
    "start_time": "2022-02-18T17:22:49.755Z"
   },
   {
    "duration": 10,
    "start_time": "2022-02-18T17:22:49.912Z"
   },
   {
    "duration": 98,
    "start_time": "2022-02-18T17:22:49.924Z"
   },
   {
    "duration": 7,
    "start_time": "2022-02-18T17:22:50.025Z"
   },
   {
    "duration": 14,
    "start_time": "2022-02-18T17:22:50.035Z"
   },
   {
    "duration": 10,
    "start_time": "2022-02-18T17:22:50.051Z"
   },
   {
    "duration": 17,
    "start_time": "2022-02-18T17:22:50.062Z"
   },
   {
    "duration": 10,
    "start_time": "2022-02-18T17:22:50.081Z"
   },
   {
    "duration": 69,
    "start_time": "2022-02-18T17:22:50.093Z"
   },
   {
    "duration": 8,
    "start_time": "2022-02-18T17:22:50.164Z"
   },
   {
    "duration": 48,
    "start_time": "2022-02-18T17:22:50.173Z"
   },
   {
    "duration": 16,
    "start_time": "2022-02-18T17:22:50.223Z"
   },
   {
    "duration": 4,
    "start_time": "2022-02-18T17:22:50.241Z"
   },
   {
    "duration": 17,
    "start_time": "2022-02-18T17:22:50.246Z"
   },
   {
    "duration": 293,
    "start_time": "2022-02-18T17:22:50.264Z"
   },
   {
    "duration": 12,
    "start_time": "2022-02-18T17:22:50.559Z"
   },
   {
    "duration": 11,
    "start_time": "2022-02-18T17:22:50.573Z"
   },
   {
    "duration": 66,
    "start_time": "2022-02-18T17:22:50.586Z"
   },
   {
    "duration": 277,
    "start_time": "2022-02-18T17:22:50.656Z"
   },
   {
    "duration": 8,
    "start_time": "2022-02-18T17:22:50.936Z"
   },
   {
    "duration": 30,
    "start_time": "2022-02-18T17:22:50.946Z"
   },
   {
    "duration": 13,
    "start_time": "2022-02-18T17:22:50.978Z"
   },
   {
    "duration": 40,
    "start_time": "2022-02-18T17:22:50.993Z"
   },
   {
    "duration": 272,
    "start_time": "2022-02-18T17:22:51.034Z"
   },
   {
    "duration": 19,
    "start_time": "2022-02-18T17:22:51.308Z"
   },
   {
    "duration": 24,
    "start_time": "2022-02-18T17:22:51.328Z"
   },
   {
    "duration": 23,
    "start_time": "2022-02-18T17:22:51.353Z"
   },
   {
    "duration": 291,
    "start_time": "2022-02-18T17:22:51.377Z"
   },
   {
    "duration": 17,
    "start_time": "2022-02-18T17:22:51.670Z"
   },
   {
    "duration": 10,
    "start_time": "2022-02-18T17:22:51.689Z"
   },
   {
    "duration": 26,
    "start_time": "2022-02-18T17:22:51.701Z"
   },
   {
    "duration": 6,
    "start_time": "2022-02-18T17:22:51.729Z"
   },
   {
    "duration": 8,
    "start_time": "2022-02-18T17:22:51.737Z"
   },
   {
    "duration": 8,
    "start_time": "2022-02-18T17:22:51.747Z"
   },
   {
    "duration": 278,
    "start_time": "2022-02-18T17:22:51.757Z"
   },
   {
    "duration": 7,
    "start_time": "2022-02-18T17:22:52.037Z"
   },
   {
    "duration": 20,
    "start_time": "2022-02-18T17:22:52.046Z"
   },
   {
    "duration": 9,
    "start_time": "2022-02-18T17:22:52.068Z"
   },
   {
    "duration": 49,
    "start_time": "2022-02-18T17:22:52.079Z"
   },
   {
    "duration": 31,
    "start_time": "2022-02-18T17:22:52.130Z"
   },
   {
    "duration": 2,
    "start_time": "2022-02-18T17:22:52.163Z"
   },
   {
    "duration": 11,
    "start_time": "2022-02-18T17:22:52.167Z"
   },
   {
    "duration": 14,
    "start_time": "2022-02-18T17:22:52.179Z"
   },
   {
    "duration": 43,
    "start_time": "2022-02-18T17:22:52.194Z"
   },
   {
    "duration": 3,
    "start_time": "2022-02-18T17:22:52.238Z"
   },
   {
    "duration": 14,
    "start_time": "2022-02-18T17:22:52.242Z"
   },
   {
    "duration": 17,
    "start_time": "2022-02-18T17:22:52.258Z"
   },
   {
    "duration": 23,
    "start_time": "2022-02-18T17:22:52.276Z"
   },
   {
    "duration": 2,
    "start_time": "2022-02-18T17:22:52.319Z"
   },
   {
    "duration": 7,
    "start_time": "2022-02-18T17:22:52.323Z"
   },
   {
    "duration": 73,
    "start_time": "2022-02-18T17:22:52.332Z"
   },
   {
    "duration": -18,
    "start_time": "2022-02-18T17:22:52.424Z"
   },
   {
    "duration": -20,
    "start_time": "2022-02-18T17:22:52.427Z"
   },
   {
    "duration": -35,
    "start_time": "2022-02-18T17:22:52.443Z"
   },
   {
    "duration": -38,
    "start_time": "2022-02-18T17:22:52.447Z"
   },
   {
    "duration": -39,
    "start_time": "2022-02-18T17:22:52.449Z"
   },
   {
    "duration": -41,
    "start_time": "2022-02-18T17:22:52.453Z"
   },
   {
    "duration": -43,
    "start_time": "2022-02-18T17:22:52.456Z"
   },
   {
    "duration": -45,
    "start_time": "2022-02-18T17:22:52.459Z"
   },
   {
    "duration": 4,
    "start_time": "2022-02-18T17:23:09.181Z"
   },
   {
    "duration": 9,
    "start_time": "2022-02-18T17:23:10.243Z"
   },
   {
    "duration": 1026,
    "start_time": "2022-02-18T17:23:17.878Z"
   },
   {
    "duration": 156,
    "start_time": "2022-02-18T17:23:18.906Z"
   },
   {
    "duration": 12,
    "start_time": "2022-02-18T17:23:19.064Z"
   },
   {
    "duration": 147,
    "start_time": "2022-02-18T17:23:19.078Z"
   },
   {
    "duration": 9,
    "start_time": "2022-02-18T17:23:19.227Z"
   },
   {
    "duration": 91,
    "start_time": "2022-02-18T17:23:19.238Z"
   },
   {
    "duration": 7,
    "start_time": "2022-02-18T17:23:19.331Z"
   },
   {
    "duration": 10,
    "start_time": "2022-02-18T17:23:19.341Z"
   },
   {
    "duration": 9,
    "start_time": "2022-02-18T17:23:19.354Z"
   },
   {
    "duration": 21,
    "start_time": "2022-02-18T17:23:19.364Z"
   },
   {
    "duration": 12,
    "start_time": "2022-02-18T17:23:19.386Z"
   },
   {
    "duration": 61,
    "start_time": "2022-02-18T17:23:19.400Z"
   },
   {
    "duration": 8,
    "start_time": "2022-02-18T17:23:19.462Z"
   },
   {
    "duration": 48,
    "start_time": "2022-02-18T17:23:19.471Z"
   },
   {
    "duration": 17,
    "start_time": "2022-02-18T17:23:19.521Z"
   },
   {
    "duration": 4,
    "start_time": "2022-02-18T17:23:19.539Z"
   },
   {
    "duration": 16,
    "start_time": "2022-02-18T17:23:19.545Z"
   },
   {
    "duration": 312,
    "start_time": "2022-02-18T17:23:19.563Z"
   },
   {
    "duration": 13,
    "start_time": "2022-02-18T17:23:19.877Z"
   },
   {
    "duration": 15,
    "start_time": "2022-02-18T17:23:19.892Z"
   },
   {
    "duration": 52,
    "start_time": "2022-02-18T17:23:19.909Z"
   },
   {
    "duration": 287,
    "start_time": "2022-02-18T17:23:19.963Z"
   },
   {
    "duration": 9,
    "start_time": "2022-02-18T17:23:20.255Z"
   },
   {
    "duration": 22,
    "start_time": "2022-02-18T17:23:20.267Z"
   },
   {
    "duration": 38,
    "start_time": "2022-02-18T17:23:20.291Z"
   },
   {
    "duration": 17,
    "start_time": "2022-02-18T17:23:20.331Z"
   },
   {
    "duration": 290,
    "start_time": "2022-02-18T17:23:20.350Z"
   },
   {
    "duration": 16,
    "start_time": "2022-02-18T17:23:20.642Z"
   },
   {
    "duration": 33,
    "start_time": "2022-02-18T17:23:20.659Z"
   },
   {
    "duration": 35,
    "start_time": "2022-02-18T17:23:20.694Z"
   },
   {
    "duration": 314,
    "start_time": "2022-02-18T17:23:20.731Z"
   },
   {
    "duration": 18,
    "start_time": "2022-02-18T17:23:21.047Z"
   },
   {
    "duration": 12,
    "start_time": "2022-02-18T17:23:21.067Z"
   },
   {
    "duration": 12,
    "start_time": "2022-02-18T17:23:21.081Z"
   },
   {
    "duration": 8,
    "start_time": "2022-02-18T17:23:21.119Z"
   },
   {
    "duration": 8,
    "start_time": "2022-02-18T17:23:21.129Z"
   },
   {
    "duration": 9,
    "start_time": "2022-02-18T17:23:21.139Z"
   },
   {
    "duration": 289,
    "start_time": "2022-02-18T17:23:21.150Z"
   },
   {
    "duration": 6,
    "start_time": "2022-02-18T17:23:21.441Z"
   },
   {
    "duration": 18,
    "start_time": "2022-02-18T17:23:21.449Z"
   },
   {
    "duration": 8,
    "start_time": "2022-02-18T17:23:21.468Z"
   },
   {
    "duration": 49,
    "start_time": "2022-02-18T17:23:21.478Z"
   },
   {
    "duration": 33,
    "start_time": "2022-02-18T17:23:21.529Z"
   },
   {
    "duration": 3,
    "start_time": "2022-02-18T17:23:21.564Z"
   },
   {
    "duration": 10,
    "start_time": "2022-02-18T17:23:21.569Z"
   },
   {
    "duration": 41,
    "start_time": "2022-02-18T17:23:21.581Z"
   },
   {
    "duration": 19,
    "start_time": "2022-02-18T17:23:21.624Z"
   },
   {
    "duration": 3,
    "start_time": "2022-02-18T17:23:21.645Z"
   },
   {
    "duration": 13,
    "start_time": "2022-02-18T17:23:21.649Z"
   },
   {
    "duration": 20,
    "start_time": "2022-02-18T17:23:21.663Z"
   },
   {
    "duration": 39,
    "start_time": "2022-02-18T17:23:21.685Z"
   },
   {
    "duration": 3,
    "start_time": "2022-02-18T17:23:21.726Z"
   },
   {
    "duration": 7,
    "start_time": "2022-02-18T17:23:21.731Z"
   },
   {
    "duration": 6,
    "start_time": "2022-02-18T17:23:21.740Z"
   },
   {
    "duration": 10,
    "start_time": "2022-02-18T17:23:21.748Z"
   },
   {
    "duration": 16,
    "start_time": "2022-02-18T17:23:21.760Z"
   },
   {
    "duration": 14,
    "start_time": "2022-02-18T17:23:21.778Z"
   },
   {
    "duration": 9,
    "start_time": "2022-02-18T17:23:21.819Z"
   },
   {
    "duration": 23,
    "start_time": "2022-02-18T17:23:21.830Z"
   },
   {
    "duration": 3,
    "start_time": "2022-02-18T17:23:21.854Z"
   },
   {
    "duration": 15,
    "start_time": "2022-02-18T17:23:21.859Z"
   },
   {
    "duration": 98,
    "start_time": "2022-02-18T17:23:21.876Z"
   },
   {
    "duration": 9,
    "start_time": "2022-02-18T17:35:35.583Z"
   },
   {
    "duration": 4,
    "start_time": "2022-02-18T17:37:53.749Z"
   },
   {
    "duration": 7,
    "start_time": "2022-02-18T17:37:53.755Z"
   },
   {
    "duration": 9,
    "start_time": "2022-02-18T17:37:53.764Z"
   },
   {
    "duration": 12,
    "start_time": "2022-02-18T17:41:57.473Z"
   },
   {
    "duration": 5,
    "start_time": "2022-02-18T17:48:22.496Z"
   },
   {
    "duration": 113,
    "start_time": "2022-02-18T17:49:11.528Z"
   },
   {
    "duration": 26,
    "start_time": "2022-02-18T17:49:13.039Z"
   },
   {
    "duration": 19,
    "start_time": "2022-02-18T17:49:38.175Z"
   },
   {
    "duration": 17,
    "start_time": "2022-02-18T17:51:17.182Z"
   },
   {
    "duration": 17,
    "start_time": "2022-02-18T17:56:30.012Z"
   },
   {
    "duration": 15,
    "start_time": "2022-02-18T17:56:36.387Z"
   },
   {
    "duration": 17,
    "start_time": "2022-02-18T17:57:35.722Z"
   },
   {
    "duration": 18,
    "start_time": "2022-02-18T18:22:16.027Z"
   },
   {
    "duration": 58,
    "start_time": "2022-02-18T18:22:26.531Z"
   },
   {
    "duration": 16,
    "start_time": "2022-02-18T18:22:30.268Z"
   },
   {
    "duration": 26,
    "start_time": "2022-02-18T18:25:09.757Z"
   },
   {
    "duration": 16,
    "start_time": "2022-02-18T18:25:37.454Z"
   },
   {
    "duration": 17,
    "start_time": "2022-02-18T18:25:57.505Z"
   },
   {
    "duration": 63,
    "start_time": "2022-02-18T18:26:41.453Z"
   },
   {
    "duration": 25,
    "start_time": "2022-02-18T18:26:51.467Z"
   },
   {
    "duration": 16,
    "start_time": "2022-02-18T18:26:57.922Z"
   },
   {
    "duration": 17,
    "start_time": "2022-02-18T18:27:50.791Z"
   },
   {
    "duration": 263,
    "start_time": "2022-02-18T18:31:40.746Z"
   },
   {
    "duration": 66,
    "start_time": "2022-02-18T18:32:28.060Z"
   },
   {
    "duration": 63,
    "start_time": "2022-02-18T18:32:32.112Z"
   },
   {
    "duration": 38,
    "start_time": "2022-02-18T18:32:38.887Z"
   },
   {
    "duration": 1376,
    "start_time": "2022-02-21T10:33:07.548Z"
   },
   {
    "duration": 207,
    "start_time": "2022-02-21T10:33:08.926Z"
   },
   {
    "duration": 16,
    "start_time": "2022-02-21T10:33:09.136Z"
   },
   {
    "duration": 184,
    "start_time": "2022-02-21T10:33:09.162Z"
   },
   {
    "duration": 16,
    "start_time": "2022-02-21T10:33:09.348Z"
   },
   {
    "duration": 126,
    "start_time": "2022-02-21T10:33:09.366Z"
   },
   {
    "duration": 11,
    "start_time": "2022-02-21T10:33:09.495Z"
   },
   {
    "duration": 16,
    "start_time": "2022-02-21T10:33:09.508Z"
   },
   {
    "duration": 12,
    "start_time": "2022-02-21T10:33:09.529Z"
   },
   {
    "duration": 23,
    "start_time": "2022-02-21T10:33:09.562Z"
   },
   {
    "duration": 13,
    "start_time": "2022-02-21T10:33:09.587Z"
   },
   {
    "duration": 82,
    "start_time": "2022-02-21T10:33:09.603Z"
   },
   {
    "duration": 11,
    "start_time": "2022-02-21T10:33:09.688Z"
   },
   {
    "duration": 62,
    "start_time": "2022-02-21T10:33:09.701Z"
   },
   {
    "duration": 21,
    "start_time": "2022-02-21T10:33:09.766Z"
   },
   {
    "duration": 5,
    "start_time": "2022-02-21T10:33:09.789Z"
   },
   {
    "duration": 22,
    "start_time": "2022-02-21T10:33:09.797Z"
   },
   {
    "duration": 468,
    "start_time": "2022-02-21T10:33:09.822Z"
   },
   {
    "duration": 17,
    "start_time": "2022-02-21T10:33:10.293Z"
   },
   {
    "duration": 14,
    "start_time": "2022-02-21T10:33:10.312Z"
   },
   {
    "duration": 93,
    "start_time": "2022-02-21T10:33:10.328Z"
   },
   {
    "duration": 428,
    "start_time": "2022-02-21T10:33:10.423Z"
   },
   {
    "duration": 16,
    "start_time": "2022-02-21T10:33:10.854Z"
   },
   {
    "duration": 33,
    "start_time": "2022-02-21T10:33:10.873Z"
   },
   {
    "duration": 18,
    "start_time": "2022-02-21T10:33:10.908Z"
   },
   {
    "duration": 53,
    "start_time": "2022-02-21T10:33:10.928Z"
   },
   {
    "duration": 447,
    "start_time": "2022-02-21T10:33:10.987Z"
   },
   {
    "duration": 35,
    "start_time": "2022-02-21T10:33:11.437Z"
   },
   {
    "duration": 33,
    "start_time": "2022-02-21T10:33:11.474Z"
   },
   {
    "duration": 53,
    "start_time": "2022-02-21T10:33:11.509Z"
   },
   {
    "duration": 457,
    "start_time": "2022-02-21T10:33:11.565Z"
   },
   {
    "duration": 40,
    "start_time": "2022-02-21T10:33:12.025Z"
   },
   {
    "duration": 15,
    "start_time": "2022-02-21T10:33:12.067Z"
   },
   {
    "duration": 5,
    "start_time": "2022-02-21T10:33:12.084Z"
   },
   {
    "duration": 14,
    "start_time": "2022-02-21T10:33:12.091Z"
   },
   {
    "duration": 24,
    "start_time": "2022-02-21T10:33:12.108Z"
   },
   {
    "duration": 35,
    "start_time": "2022-02-21T10:33:12.135Z"
   },
   {
    "duration": 9,
    "start_time": "2022-02-21T10:33:12.172Z"
   },
   {
    "duration": 12,
    "start_time": "2022-02-21T10:33:12.183Z"
   },
   {
    "duration": 17,
    "start_time": "2022-02-21T10:33:12.198Z"
   },
   {
    "duration": 451,
    "start_time": "2022-02-21T10:33:12.218Z"
   },
   {
    "duration": 7,
    "start_time": "2022-02-21T10:33:12.672Z"
   },
   {
    "duration": 29,
    "start_time": "2022-02-21T10:33:12.682Z"
   },
   {
    "duration": 12,
    "start_time": "2022-02-21T10:33:12.713Z"
   },
   {
    "duration": 29,
    "start_time": "2022-02-21T10:33:12.760Z"
   },
   {
    "duration": 39,
    "start_time": "2022-02-21T10:33:12.791Z"
   },
   {
    "duration": 4,
    "start_time": "2022-02-21T10:33:12.832Z"
   },
   {
    "duration": 33,
    "start_time": "2022-02-21T10:33:12.838Z"
   },
   {
    "duration": 21,
    "start_time": "2022-02-21T10:33:12.873Z"
   },
   {
    "duration": 24,
    "start_time": "2022-02-21T10:33:12.897Z"
   },
   {
    "duration": 4,
    "start_time": "2022-02-21T10:33:12.923Z"
   },
   {
    "duration": 11,
    "start_time": "2022-02-21T10:33:12.962Z"
   },
   {
    "duration": 26,
    "start_time": "2022-02-21T10:33:12.975Z"
   },
   {
    "duration": 61,
    "start_time": "2022-02-21T10:33:13.004Z"
   },
   {
    "duration": 4,
    "start_time": "2022-02-21T10:33:13.067Z"
   },
   {
    "duration": 7,
    "start_time": "2022-02-21T10:33:13.073Z"
   },
   {
    "duration": 6,
    "start_time": "2022-02-21T10:33:13.082Z"
   },
   {
    "duration": 11,
    "start_time": "2022-02-21T10:33:13.091Z"
   },
   {
    "duration": 65,
    "start_time": "2022-02-21T10:33:13.105Z"
   },
   {
    "duration": 26,
    "start_time": "2022-02-21T10:33:13.173Z"
   },
   {
    "duration": 14,
    "start_time": "2022-02-21T10:33:13.202Z"
   },
   {
    "duration": 58,
    "start_time": "2022-02-21T10:33:13.219Z"
   },
   {
    "duration": 5,
    "start_time": "2022-02-21T10:33:13.280Z"
   },
   {
    "duration": 12,
    "start_time": "2022-02-21T10:33:13.288Z"
   },
   {
    "duration": 8,
    "start_time": "2022-02-21T10:33:13.303Z"
   },
   {
    "duration": 238,
    "start_time": "2022-02-21T10:33:13.314Z"
   },
   {
    "duration": 31,
    "start_time": "2022-02-21T10:33:13.555Z"
   },
   {
    "duration": 74,
    "start_time": "2022-02-21T10:33:13.588Z"
   },
   {
    "duration": 433,
    "start_time": "2022-02-21T10:35:55.495Z"
   },
   {
    "duration": 426,
    "start_time": "2022-02-21T10:36:14.978Z"
   },
   {
    "duration": 409,
    "start_time": "2022-02-21T10:36:22.379Z"
   },
   {
    "duration": 7,
    "start_time": "2022-02-21T10:38:25.673Z"
   },
   {
    "duration": 44,
    "start_time": "2022-02-21T10:38:32.126Z"
   },
   {
    "duration": 10,
    "start_time": "2022-02-21T10:38:50.500Z"
   },
   {
    "duration": 39,
    "start_time": "2022-02-21T10:38:53.507Z"
   },
   {
    "duration": 1483,
    "start_time": "2022-02-21T10:39:48.515Z"
   },
   {
    "duration": 309,
    "start_time": "2022-02-21T10:40:08.140Z"
   },
   {
    "duration": 410,
    "start_time": "2022-02-21T10:40:18.231Z"
   },
   {
    "duration": 306,
    "start_time": "2022-02-21T10:40:26.550Z"
   },
   {
    "duration": 638,
    "start_time": "2022-02-21T10:40:44.432Z"
   },
   {
    "duration": 645,
    "start_time": "2022-02-21T10:41:29.666Z"
   },
   {
    "duration": 722,
    "start_time": "2022-02-21T10:45:08.621Z"
   },
   {
    "duration": 663,
    "start_time": "2022-02-21T10:45:23.308Z"
   },
   {
    "duration": 543,
    "start_time": "2022-02-21T10:45:58.502Z"
   },
   {
    "duration": 724,
    "start_time": "2022-02-21T10:45:59.210Z"
   },
   {
    "duration": 346,
    "start_time": "2022-02-21T10:46:43.617Z"
   },
   {
    "duration": 12,
    "start_time": "2022-02-21T10:46:56.139Z"
   },
   {
    "duration": 672,
    "start_time": "2022-02-21T10:46:57.434Z"
   },
   {
    "duration": 605,
    "start_time": "2022-02-21T10:47:50.536Z"
   },
   {
    "duration": 342,
    "start_time": "2022-02-21T10:48:03.242Z"
   },
   {
    "duration": 396,
    "start_time": "2022-02-21T10:48:23.694Z"
   },
   {
    "duration": 696,
    "start_time": "2022-02-21T10:49:19.987Z"
   },
   {
    "duration": 671,
    "start_time": "2022-02-21T10:49:36.101Z"
   },
   {
    "duration": 662,
    "start_time": "2022-02-21T10:49:49.313Z"
   },
   {
    "duration": 518,
    "start_time": "2022-02-21T10:50:04.626Z"
   },
   {
    "duration": 735,
    "start_time": "2022-02-21T10:50:37.957Z"
   },
   {
    "duration": 763,
    "start_time": "2022-02-21T10:50:51.231Z"
   },
   {
    "duration": 449,
    "start_time": "2022-02-21T10:50:57.591Z"
   },
   {
    "duration": 465,
    "start_time": "2022-02-21T10:52:36.511Z"
   },
   {
    "duration": 485,
    "start_time": "2022-02-21T10:52:51.755Z"
   },
   {
    "duration": 131,
    "start_time": "2022-02-21T10:53:26.360Z"
   },
   {
    "duration": 476,
    "start_time": "2022-02-21T10:53:30.472Z"
   },
   {
    "duration": 611,
    "start_time": "2022-02-21T10:53:40.679Z"
   },
   {
    "duration": 494,
    "start_time": "2022-02-21T10:53:49.293Z"
   },
   {
    "duration": 509,
    "start_time": "2022-02-21T10:54:51.425Z"
   },
   {
    "duration": 498,
    "start_time": "2022-02-21T10:55:01.754Z"
   },
   {
    "duration": 630,
    "start_time": "2022-02-21T10:56:34.345Z"
   },
   {
    "duration": 122,
    "start_time": "2022-02-21T10:57:20.900Z"
   },
   {
    "duration": 714,
    "start_time": "2022-02-21T10:57:24.049Z"
   },
   {
    "duration": 692,
    "start_time": "2022-02-21T10:57:30.182Z"
   },
   {
    "duration": 619,
    "start_time": "2022-02-21T10:58:48.172Z"
   },
   {
    "duration": 665,
    "start_time": "2022-02-21T10:59:16.821Z"
   },
   {
    "duration": 598,
    "start_time": "2022-02-21T10:59:28.388Z"
   },
   {
    "duration": 628,
    "start_time": "2022-02-21T10:59:32.187Z"
   },
   {
    "duration": 561,
    "start_time": "2022-02-21T10:59:47.727Z"
   },
   {
    "duration": 849,
    "start_time": "2022-02-21T11:00:18.858Z"
   },
   {
    "duration": 633,
    "start_time": "2022-02-21T11:00:53.767Z"
   },
   {
    "duration": 628,
    "start_time": "2022-02-21T11:01:18.369Z"
   },
   {
    "duration": 630,
    "start_time": "2022-02-21T11:01:45.662Z"
   },
   {
    "duration": 806,
    "start_time": "2022-02-21T11:02:36.877Z"
   },
   {
    "duration": 813,
    "start_time": "2022-02-21T11:02:56.754Z"
   },
   {
    "duration": 820,
    "start_time": "2022-02-21T11:03:27.464Z"
   },
   {
    "duration": 340,
    "start_time": "2022-02-21T11:03:41.691Z"
   },
   {
    "duration": 871,
    "start_time": "2022-02-21T11:03:51.273Z"
   },
   {
    "duration": 399,
    "start_time": "2022-02-21T11:04:00.766Z"
   },
   {
    "duration": 854,
    "start_time": "2022-02-21T11:04:03.869Z"
   },
   {
    "duration": 867,
    "start_time": "2022-02-21T11:04:15.315Z"
   },
   {
    "duration": 93,
    "start_time": "2022-02-21T11:17:45.522Z"
   },
   {
    "duration": 105,
    "start_time": "2022-02-21T11:17:51.867Z"
   },
   {
    "duration": 134,
    "start_time": "2022-02-21T11:18:14.749Z"
   },
   {
    "duration": 102,
    "start_time": "2022-02-21T11:18:56.093Z"
   },
   {
    "duration": 254,
    "start_time": "2022-02-21T11:19:04.816Z"
   },
   {
    "duration": 57,
    "start_time": "2022-02-21T11:19:19.292Z"
   },
   {
    "duration": 70,
    "start_time": "2022-02-21T11:19:43.151Z"
   },
   {
    "duration": 1596,
    "start_time": "2022-02-21T11:27:07.224Z"
   },
   {
    "duration": 1638,
    "start_time": "2022-02-21T11:27:31.637Z"
   },
   {
    "duration": 2773,
    "start_time": "2022-02-21T11:28:15.611Z"
   },
   {
    "duration": 3357,
    "start_time": "2022-02-21T11:29:21.334Z"
   },
   {
    "duration": 2284,
    "start_time": "2022-02-21T11:29:39.905Z"
   },
   {
    "duration": 783,
    "start_time": "2022-02-21T11:29:45.713Z"
   },
   {
    "duration": 2681,
    "start_time": "2022-02-21T11:31:38.083Z"
   },
   {
    "duration": 1368,
    "start_time": "2022-02-21T11:39:09.618Z"
   },
   {
    "duration": 1300,
    "start_time": "2022-02-21T11:39:38.396Z"
   },
   {
    "duration": 1297,
    "start_time": "2022-02-21T11:40:02.099Z"
   },
   {
    "duration": 1442,
    "start_time": "2022-02-21T11:40:20.504Z"
   },
   {
    "duration": 1281,
    "start_time": "2022-02-21T11:40:29.358Z"
   },
   {
    "duration": 1323,
    "start_time": "2022-02-21T11:40:55.566Z"
   },
   {
    "duration": 1205,
    "start_time": "2022-02-21T11:41:26.014Z"
   },
   {
    "duration": 1195,
    "start_time": "2022-02-21T11:42:19.436Z"
   },
   {
    "duration": 1250,
    "start_time": "2022-02-21T11:42:58.978Z"
   },
   {
    "duration": 1177,
    "start_time": "2022-02-21T11:43:24.602Z"
   },
   {
    "duration": 1183,
    "start_time": "2022-02-21T11:47:12.878Z"
   },
   {
    "duration": 1233,
    "start_time": "2022-02-21T11:47:21.006Z"
   },
   {
    "duration": 12591,
    "start_time": "2022-02-21T12:06:14.703Z"
   },
   {
    "duration": 9,
    "start_time": "2022-02-21T12:06:37.834Z"
   },
   {
    "duration": 7366,
    "start_time": "2022-02-21T12:16:17.769Z"
   },
   {
    "duration": 7068,
    "start_time": "2022-02-21T12:16:38.970Z"
   },
   {
    "duration": 40,
    "start_time": "2022-02-21T12:16:58.272Z"
   },
   {
    "duration": 7363,
    "start_time": "2022-02-21T12:17:31.012Z"
   },
   {
    "duration": 7668,
    "start_time": "2022-02-21T12:17:42.932Z"
   },
   {
    "duration": 9001,
    "start_time": "2022-02-21T12:17:52.253Z"
   },
   {
    "duration": 6890,
    "start_time": "2022-02-21T12:18:41.126Z"
   },
   {
    "duration": 6,
    "start_time": "2022-02-21T12:18:50.563Z"
   },
   {
    "duration": 9,
    "start_time": "2022-02-21T12:19:00.353Z"
   },
   {
    "duration": 10,
    "start_time": "2022-02-21T12:19:21.158Z"
   },
   {
    "duration": 8,
    "start_time": "2022-02-21T12:19:25.486Z"
   },
   {
    "duration": 7,
    "start_time": "2022-02-21T12:19:33.581Z"
   },
   {
    "duration": 6,
    "start_time": "2022-02-21T12:20:22.661Z"
   },
   {
    "duration": 6,
    "start_time": "2022-02-21T12:20:31.645Z"
   },
   {
    "duration": 5,
    "start_time": "2022-02-21T12:20:41.505Z"
   },
   {
    "duration": 6,
    "start_time": "2022-02-21T12:20:44.942Z"
   },
   {
    "duration": 10,
    "start_time": "2022-02-21T12:21:30.894Z"
   },
   {
    "duration": 11,
    "start_time": "2022-02-21T12:21:38.703Z"
   },
   {
    "duration": 10,
    "start_time": "2022-02-21T12:21:44.574Z"
   },
   {
    "duration": 10,
    "start_time": "2022-02-21T12:21:50.172Z"
   },
   {
    "duration": 10,
    "start_time": "2022-02-21T12:21:57.515Z"
   },
   {
    "duration": 11,
    "start_time": "2022-02-21T12:22:00.783Z"
   },
   {
    "duration": 102,
    "start_time": "2022-02-21T12:38:46.968Z"
   },
   {
    "duration": 288,
    "start_time": "2022-02-21T12:38:58.749Z"
   },
   {
    "duration": 1382,
    "start_time": "2022-02-21T12:39:08.339Z"
   },
   {
    "duration": 203,
    "start_time": "2022-02-21T12:39:09.723Z"
   },
   {
    "duration": 15,
    "start_time": "2022-02-21T12:39:09.929Z"
   },
   {
    "duration": 174,
    "start_time": "2022-02-21T12:39:09.962Z"
   },
   {
    "duration": 12,
    "start_time": "2022-02-21T12:39:10.138Z"
   },
   {
    "duration": 124,
    "start_time": "2022-02-21T12:39:10.161Z"
   },
   {
    "duration": 11,
    "start_time": "2022-02-21T12:39:10.288Z"
   },
   {
    "duration": 16,
    "start_time": "2022-02-21T12:39:10.304Z"
   },
   {
    "duration": 36,
    "start_time": "2022-02-21T12:39:10.325Z"
   },
   {
    "duration": 23,
    "start_time": "2022-02-21T12:39:10.363Z"
   },
   {
    "duration": 15,
    "start_time": "2022-02-21T12:39:10.388Z"
   },
   {
    "duration": 88,
    "start_time": "2022-02-21T12:39:10.405Z"
   },
   {
    "duration": 11,
    "start_time": "2022-02-21T12:39:10.495Z"
   },
   {
    "duration": 74,
    "start_time": "2022-02-21T12:39:10.509Z"
   },
   {
    "duration": 23,
    "start_time": "2022-02-21T12:39:10.586Z"
   },
   {
    "duration": 5,
    "start_time": "2022-02-21T12:39:10.611Z"
   },
   {
    "duration": 50,
    "start_time": "2022-02-21T12:39:10.618Z"
   },
   {
    "duration": 460,
    "start_time": "2022-02-21T12:39:10.670Z"
   },
   {
    "duration": 30,
    "start_time": "2022-02-21T12:39:11.132Z"
   },
   {
    "duration": 14,
    "start_time": "2022-02-21T12:39:11.165Z"
   },
   {
    "duration": 81,
    "start_time": "2022-02-21T12:39:11.182Z"
   },
   {
    "duration": 434,
    "start_time": "2022-02-21T12:39:11.266Z"
   },
   {
    "duration": 11,
    "start_time": "2022-02-21T12:39:11.707Z"
   },
   {
    "duration": 56,
    "start_time": "2022-02-21T12:39:11.722Z"
   },
   {
    "duration": 18,
    "start_time": "2022-02-21T12:39:11.780Z"
   },
   {
    "duration": 23,
    "start_time": "2022-02-21T12:39:11.801Z"
   },
   {
    "duration": 488,
    "start_time": "2022-02-21T12:39:11.827Z"
   },
   {
    "duration": -935,
    "start_time": "2022-02-21T12:39:13.254Z"
   },
   {
    "duration": -937,
    "start_time": "2022-02-21T12:39:13.258Z"
   },
   {
    "duration": -939,
    "start_time": "2022-02-21T12:39:13.261Z"
   },
   {
    "duration": -942,
    "start_time": "2022-02-21T12:39:13.265Z"
   },
   {
    "duration": -944,
    "start_time": "2022-02-21T12:39:13.269Z"
   },
   {
    "duration": -946,
    "start_time": "2022-02-21T12:39:13.273Z"
   },
   {
    "duration": -949,
    "start_time": "2022-02-21T12:39:13.277Z"
   },
   {
    "duration": -952,
    "start_time": "2022-02-21T12:39:13.281Z"
   },
   {
    "duration": -953,
    "start_time": "2022-02-21T12:39:13.284Z"
   },
   {
    "duration": -955,
    "start_time": "2022-02-21T12:39:13.287Z"
   },
   {
    "duration": -956,
    "start_time": "2022-02-21T12:39:13.291Z"
   },
   {
    "duration": -957,
    "start_time": "2022-02-21T12:39:13.294Z"
   },
   {
    "duration": -959,
    "start_time": "2022-02-21T12:39:13.297Z"
   },
   {
    "duration": -961,
    "start_time": "2022-02-21T12:39:13.300Z"
   },
   {
    "duration": -963,
    "start_time": "2022-02-21T12:39:13.304Z"
   },
   {
    "duration": -964,
    "start_time": "2022-02-21T12:39:13.307Z"
   },
   {
    "duration": -967,
    "start_time": "2022-02-21T12:39:13.311Z"
   },
   {
    "duration": -968,
    "start_time": "2022-02-21T12:39:13.314Z"
   },
   {
    "duration": -970,
    "start_time": "2022-02-21T12:39:13.317Z"
   },
   {
    "duration": -971,
    "start_time": "2022-02-21T12:39:13.320Z"
   },
   {
    "duration": -973,
    "start_time": "2022-02-21T12:39:13.324Z"
   },
   {
    "duration": -975,
    "start_time": "2022-02-21T12:39:13.327Z"
   },
   {
    "duration": -976,
    "start_time": "2022-02-21T12:39:13.330Z"
   },
   {
    "duration": -979,
    "start_time": "2022-02-21T12:39:13.334Z"
   },
   {
    "duration": -977,
    "start_time": "2022-02-21T12:39:13.337Z"
   },
   {
    "duration": -978,
    "start_time": "2022-02-21T12:39:13.340Z"
   },
   {
    "duration": -979,
    "start_time": "2022-02-21T12:39:13.343Z"
   },
   {
    "duration": -981,
    "start_time": "2022-02-21T12:39:13.346Z"
   },
   {
    "duration": -982,
    "start_time": "2022-02-21T12:39:13.349Z"
   },
   {
    "duration": -1008,
    "start_time": "2022-02-21T12:39:13.377Z"
   },
   {
    "duration": -1011,
    "start_time": "2022-02-21T12:39:13.381Z"
   },
   {
    "duration": -1012,
    "start_time": "2022-02-21T12:39:13.384Z"
   },
   {
    "duration": -1014,
    "start_time": "2022-02-21T12:39:13.387Z"
   },
   {
    "duration": -1016,
    "start_time": "2022-02-21T12:39:13.391Z"
   },
   {
    "duration": -1018,
    "start_time": "2022-02-21T12:39:13.395Z"
   },
   {
    "duration": -1020,
    "start_time": "2022-02-21T12:39:13.398Z"
   },
   {
    "duration": -1021,
    "start_time": "2022-02-21T12:39:13.401Z"
   },
   {
    "duration": -1022,
    "start_time": "2022-02-21T12:39:13.404Z"
   },
   {
    "duration": -1025,
    "start_time": "2022-02-21T12:39:13.408Z"
   },
   {
    "duration": -1026,
    "start_time": "2022-02-21T12:39:13.411Z"
   },
   {
    "duration": -1028,
    "start_time": "2022-02-21T12:39:13.414Z"
   },
   {
    "duration": -1029,
    "start_time": "2022-02-21T12:39:13.417Z"
   },
   {
    "duration": -1031,
    "start_time": "2022-02-21T12:39:13.420Z"
   },
   {
    "duration": -1033,
    "start_time": "2022-02-21T12:39:13.424Z"
   },
   {
    "duration": -1035,
    "start_time": "2022-02-21T12:39:13.427Z"
   },
   {
    "duration": -1037,
    "start_time": "2022-02-21T12:39:13.430Z"
   },
   {
    "duration": -1038,
    "start_time": "2022-02-21T12:39:13.433Z"
   },
   {
    "duration": -1041,
    "start_time": "2022-02-21T12:39:13.437Z"
   },
   {
    "duration": -1042,
    "start_time": "2022-02-21T12:39:13.440Z"
   },
   {
    "duration": 320,
    "start_time": "2022-02-21T12:40:00.447Z"
   },
   {
    "duration": 17,
    "start_time": "2022-02-21T12:40:09.759Z"
   },
   {
    "duration": 6,
    "start_time": "2022-02-21T12:40:44.846Z"
   },
   {
    "duration": 93,
    "start_time": "2022-02-21T12:40:57.747Z"
   },
   {
    "duration": 13,
    "start_time": "2022-02-21T12:41:00.643Z"
   },
   {
    "duration": 302,
    "start_time": "2022-02-21T12:41:08.303Z"
   },
   {
    "duration": 97,
    "start_time": "2022-02-21T12:41:19.003Z"
   },
   {
    "duration": 20,
    "start_time": "2022-02-21T12:41:30.578Z"
   },
   {
    "duration": 1338,
    "start_time": "2022-02-21T12:44:21.890Z"
   },
   {
    "duration": 207,
    "start_time": "2022-02-21T12:44:23.230Z"
   },
   {
    "duration": 23,
    "start_time": "2022-02-21T12:44:23.440Z"
   },
   {
    "duration": 189,
    "start_time": "2022-02-21T12:44:23.466Z"
   },
   {
    "duration": 12,
    "start_time": "2022-02-21T12:44:23.659Z"
   },
   {
    "duration": 133,
    "start_time": "2022-02-21T12:44:23.673Z"
   },
   {
    "duration": 11,
    "start_time": "2022-02-21T12:44:23.809Z"
   },
   {
    "duration": 35,
    "start_time": "2022-02-21T12:44:23.824Z"
   },
   {
    "duration": 28,
    "start_time": "2022-02-21T12:44:23.862Z"
   },
   {
    "duration": 27,
    "start_time": "2022-02-21T12:44:23.892Z"
   },
   {
    "duration": 15,
    "start_time": "2022-02-21T12:44:23.922Z"
   },
   {
    "duration": 74,
    "start_time": "2022-02-21T12:44:23.939Z"
   },
   {
    "duration": 12,
    "start_time": "2022-02-21T12:44:24.015Z"
   },
   {
    "duration": 63,
    "start_time": "2022-02-21T12:44:24.029Z"
   },
   {
    "duration": 22,
    "start_time": "2022-02-21T12:44:24.095Z"
   },
   {
    "duration": 4,
    "start_time": "2022-02-21T12:44:24.119Z"
   },
   {
    "duration": 51,
    "start_time": "2022-02-21T12:44:24.126Z"
   },
   {
    "duration": 451,
    "start_time": "2022-02-21T12:44:24.180Z"
   },
   {
    "duration": 29,
    "start_time": "2022-02-21T12:44:24.633Z"
   },
   {
    "duration": 14,
    "start_time": "2022-02-21T12:44:24.664Z"
   },
   {
    "duration": 82,
    "start_time": "2022-02-21T12:44:24.681Z"
   },
   {
    "duration": 436,
    "start_time": "2022-02-21T12:44:24.766Z"
   },
   {
    "duration": 12,
    "start_time": "2022-02-21T12:44:25.210Z"
   },
   {
    "duration": 57,
    "start_time": "2022-02-21T12:44:25.227Z"
   },
   {
    "duration": 20,
    "start_time": "2022-02-21T12:44:25.286Z"
   },
   {
    "duration": 22,
    "start_time": "2022-02-21T12:44:25.309Z"
   },
   {
    "duration": 38,
    "start_time": "2022-02-21T12:44:25.334Z"
   },
   {
    "duration": 415,
    "start_time": "2022-02-21T12:44:25.375Z"
   },
   {
    "duration": 18,
    "start_time": "2022-02-21T12:44:25.792Z"
   },
   {
    "duration": 49,
    "start_time": "2022-02-21T12:44:25.812Z"
   },
   {
    "duration": 30,
    "start_time": "2022-02-21T12:44:25.863Z"
   },
   {
    "duration": 441,
    "start_time": "2022-02-21T12:44:25.895Z"
   },
   {
    "duration": 32,
    "start_time": "2022-02-21T12:44:26.339Z"
   },
   {
    "duration": 13,
    "start_time": "2022-02-21T12:44:26.374Z"
   },
   {
    "duration": 5,
    "start_time": "2022-02-21T12:44:26.390Z"
   },
   {
    "duration": 9,
    "start_time": "2022-02-21T12:44:26.398Z"
   },
   {
    "duration": 14,
    "start_time": "2022-02-21T12:44:26.409Z"
   },
   {
    "duration": 48,
    "start_time": "2022-02-21T12:44:26.426Z"
   },
   {
    "duration": 8,
    "start_time": "2022-02-21T12:44:26.477Z"
   },
   {
    "duration": 10,
    "start_time": "2022-02-21T12:44:26.488Z"
   },
   {
    "duration": 11,
    "start_time": "2022-02-21T12:44:26.501Z"
   },
   {
    "duration": 407,
    "start_time": "2022-02-21T12:44:26.514Z"
   },
   {
    "duration": 8,
    "start_time": "2022-02-21T12:44:26.923Z"
   },
   {
    "duration": 45,
    "start_time": "2022-02-21T12:44:26.933Z"
   },
   {
    "duration": 10,
    "start_time": "2022-02-21T12:44:26.980Z"
   },
   {
    "duration": 28,
    "start_time": "2022-02-21T12:44:26.992Z"
   },
   {
    "duration": 69,
    "start_time": "2022-02-21T12:44:27.022Z"
   },
   {
    "duration": 4,
    "start_time": "2022-02-21T12:44:27.094Z"
   },
   {
    "duration": 15,
    "start_time": "2022-02-21T12:44:27.100Z"
   },
   {
    "duration": 21,
    "start_time": "2022-02-21T12:44:27.117Z"
   },
   {
    "duration": 23,
    "start_time": "2022-02-21T12:44:27.161Z"
   },
   {
    "duration": 4,
    "start_time": "2022-02-21T12:44:27.186Z"
   },
   {
    "duration": 13,
    "start_time": "2022-02-21T12:44:27.193Z"
   },
   {
    "duration": 52,
    "start_time": "2022-02-21T12:44:27.209Z"
   },
   {
    "duration": 31,
    "start_time": "2022-02-21T12:44:27.263Z"
   },
   {
    "duration": 3,
    "start_time": "2022-02-21T12:44:27.297Z"
   },
   {
    "duration": 8,
    "start_time": "2022-02-21T12:44:27.302Z"
   },
   {
    "duration": 7,
    "start_time": "2022-02-21T12:44:27.312Z"
   },
   {
    "duration": 14,
    "start_time": "2022-02-21T12:44:27.321Z"
   },
   {
    "duration": 23,
    "start_time": "2022-02-21T12:44:27.362Z"
   },
   {
    "duration": 21,
    "start_time": "2022-02-21T12:44:27.387Z"
   },
   {
    "duration": 12,
    "start_time": "2022-02-21T12:44:27.410Z"
   },
   {
    "duration": 56,
    "start_time": "2022-02-21T12:44:27.424Z"
   },
   {
    "duration": 7,
    "start_time": "2022-02-21T12:44:27.482Z"
   },
   {
    "duration": 13,
    "start_time": "2022-02-21T12:44:27.491Z"
   },
   {
    "duration": 7,
    "start_time": "2022-02-21T12:44:27.507Z"
   },
   {
    "duration": 229,
    "start_time": "2022-02-21T12:44:27.517Z"
   },
   {
    "duration": 30,
    "start_time": "2022-02-21T12:44:27.754Z"
   },
   {
    "duration": 81,
    "start_time": "2022-02-21T12:44:27.787Z"
   },
   {
    "duration": 2443,
    "start_time": "2022-02-21T12:44:27.870Z"
   },
   {
    "duration": 1297,
    "start_time": "2022-02-21T12:44:30.315Z"
   },
   {
    "duration": 7,
    "start_time": "2022-02-21T12:44:31.614Z"
   },
   {
    "duration": 15,
    "start_time": "2022-02-21T12:44:31.623Z"
   },
   {
    "duration": 21,
    "start_time": "2022-02-21T12:44:31.640Z"
   },
   {
    "duration": 13,
    "start_time": "2022-02-21T12:44:31.663Z"
   },
   {
    "duration": 11,
    "start_time": "2022-02-21T12:44:31.679Z"
   },
   {
    "duration": 507,
    "start_time": "2022-02-21T12:44:51.337Z"
   },
   {
    "duration": 274,
    "start_time": "2022-02-21T12:45:07.659Z"
   },
   {
    "duration": 288,
    "start_time": "2022-02-21T12:45:14.034Z"
   },
   {
    "duration": 10,
    "start_time": "2022-02-21T12:45:24.197Z"
   },
   {
    "duration": 1480,
    "start_time": "2022-03-03T17:27:58.762Z"
   },
   {
    "duration": 211,
    "start_time": "2022-03-03T17:28:00.245Z"
   },
   {
    "duration": 16,
    "start_time": "2022-03-03T17:28:00.459Z"
   },
   {
    "duration": 186,
    "start_time": "2022-03-03T17:28:00.487Z"
   },
   {
    "duration": 17,
    "start_time": "2022-03-03T17:28:00.675Z"
   },
   {
    "duration": 126,
    "start_time": "2022-03-03T17:28:00.695Z"
   },
   {
    "duration": 11,
    "start_time": "2022-03-03T17:28:00.824Z"
   },
   {
    "duration": 27,
    "start_time": "2022-03-03T17:28:00.837Z"
   },
   {
    "duration": 44,
    "start_time": "2022-03-03T17:28:00.867Z"
   },
   {
    "duration": 32,
    "start_time": "2022-03-03T17:28:00.913Z"
   },
   {
    "duration": 29,
    "start_time": "2022-03-03T17:28:00.947Z"
   },
   {
    "duration": 86,
    "start_time": "2022-03-03T17:28:00.978Z"
   },
   {
    "duration": 11,
    "start_time": "2022-03-03T17:28:01.067Z"
   },
   {
    "duration": 58,
    "start_time": "2022-03-03T17:28:01.081Z"
   },
   {
    "duration": 23,
    "start_time": "2022-03-03T17:28:01.142Z"
   },
   {
    "duration": 23,
    "start_time": "2022-03-03T17:28:01.168Z"
   },
   {
    "duration": 29,
    "start_time": "2022-03-03T17:28:01.194Z"
   },
   {
    "duration": 448,
    "start_time": "2022-03-03T17:28:01.226Z"
   },
   {
    "duration": 21,
    "start_time": "2022-03-03T17:28:01.677Z"
   },
   {
    "duration": 13,
    "start_time": "2022-03-03T17:28:01.700Z"
   },
   {
    "duration": 84,
    "start_time": "2022-03-03T17:28:01.716Z"
   },
   {
    "duration": 520,
    "start_time": "2022-03-03T17:28:01.803Z"
   },
   {
    "duration": 12,
    "start_time": "2022-03-03T17:28:02.325Z"
   },
   {
    "duration": 54,
    "start_time": "2022-03-03T17:28:02.339Z"
   },
   {
    "duration": 17,
    "start_time": "2022-03-03T17:28:02.396Z"
   },
   {
    "duration": 22,
    "start_time": "2022-03-03T17:28:02.416Z"
   },
   {
    "duration": 44,
    "start_time": "2022-03-03T17:28:02.445Z"
   },
   {
    "duration": 425,
    "start_time": "2022-03-03T17:28:02.493Z"
   },
   {
    "duration": 18,
    "start_time": "2022-03-03T17:28:02.921Z"
   },
   {
    "duration": 72,
    "start_time": "2022-03-03T17:28:02.942Z"
   },
   {
    "duration": 45,
    "start_time": "2022-03-03T17:28:03.017Z"
   },
   {
    "duration": 667,
    "start_time": "2022-03-03T17:28:03.065Z"
   },
   {
    "duration": 51,
    "start_time": "2022-03-03T17:28:03.735Z"
   },
   {
    "duration": 21,
    "start_time": "2022-03-03T17:28:03.790Z"
   },
   {
    "duration": 5,
    "start_time": "2022-03-03T17:28:03.814Z"
   },
   {
    "duration": 8,
    "start_time": "2022-03-03T17:28:03.822Z"
   },
   {
    "duration": 15,
    "start_time": "2022-03-03T17:28:03.832Z"
   },
   {
    "duration": 49,
    "start_time": "2022-03-03T17:28:03.849Z"
   },
   {
    "duration": 13,
    "start_time": "2022-03-03T17:28:03.901Z"
   },
   {
    "duration": 19,
    "start_time": "2022-03-03T17:28:03.916Z"
   },
   {
    "duration": 28,
    "start_time": "2022-03-03T17:28:03.937Z"
   },
   {
    "duration": 410,
    "start_time": "2022-03-03T17:28:03.987Z"
   },
   {
    "duration": 9,
    "start_time": "2022-03-03T17:28:04.401Z"
   },
   {
    "duration": 52,
    "start_time": "2022-03-03T17:28:04.413Z"
   },
   {
    "duration": 24,
    "start_time": "2022-03-03T17:28:04.468Z"
   },
   {
    "duration": 35,
    "start_time": "2022-03-03T17:28:04.495Z"
   },
   {
    "duration": 66,
    "start_time": "2022-03-03T17:28:04.533Z"
   },
   {
    "duration": 4,
    "start_time": "2022-03-03T17:28:04.602Z"
   },
   {
    "duration": 21,
    "start_time": "2022-03-03T17:28:04.609Z"
   },
   {
    "duration": 54,
    "start_time": "2022-03-03T17:28:04.633Z"
   },
   {
    "duration": 29,
    "start_time": "2022-03-03T17:28:04.690Z"
   },
   {
    "duration": 4,
    "start_time": "2022-03-03T17:28:04.721Z"
   },
   {
    "duration": 14,
    "start_time": "2022-03-03T17:28:04.729Z"
   },
   {
    "duration": 57,
    "start_time": "2022-03-03T17:28:04.746Z"
   },
   {
    "duration": 36,
    "start_time": "2022-03-03T17:28:04.805Z"
   },
   {
    "duration": 5,
    "start_time": "2022-03-03T17:28:04.844Z"
   },
   {
    "duration": 38,
    "start_time": "2022-03-03T17:28:04.853Z"
   },
   {
    "duration": 5,
    "start_time": "2022-03-03T17:28:04.894Z"
   },
   {
    "duration": 20,
    "start_time": "2022-03-03T17:28:04.902Z"
   },
   {
    "duration": 33,
    "start_time": "2022-03-03T17:28:04.925Z"
   },
   {
    "duration": 46,
    "start_time": "2022-03-03T17:28:04.961Z"
   },
   {
    "duration": 25,
    "start_time": "2022-03-03T17:28:05.010Z"
   },
   {
    "duration": 25,
    "start_time": "2022-03-03T17:28:05.038Z"
   },
   {
    "duration": 6,
    "start_time": "2022-03-03T17:28:05.086Z"
   },
   {
    "duration": 26,
    "start_time": "2022-03-03T17:28:05.094Z"
   },
   {
    "duration": 29,
    "start_time": "2022-03-03T17:28:05.123Z"
   },
   {
    "duration": 233,
    "start_time": "2022-03-03T17:28:05.154Z"
   },
   {
    "duration": 23,
    "start_time": "2022-03-03T17:28:05.389Z"
   },
   {
    "duration": 88,
    "start_time": "2022-03-03T17:28:05.414Z"
   },
   {
    "duration": 2414,
    "start_time": "2022-03-03T17:28:05.504Z"
   },
   {
    "duration": 1240,
    "start_time": "2022-03-03T17:28:07.920Z"
   },
   {
    "duration": 8,
    "start_time": "2022-03-03T17:28:09.163Z"
   },
   {
    "duration": 20,
    "start_time": "2022-03-03T17:28:09.174Z"
   },
   {
    "duration": 9,
    "start_time": "2022-03-03T17:28:09.197Z"
   },
   {
    "duration": 13,
    "start_time": "2022-03-03T17:28:09.208Z"
   },
   {
    "duration": 11,
    "start_time": "2022-03-03T17:28:09.224Z"
   },
   {
    "duration": 11,
    "start_time": "2022-03-03T17:32:38.736Z"
   },
   {
    "duration": 20,
    "start_time": "2022-03-03T17:33:18.163Z"
   },
   {
    "duration": 1344,
    "start_time": "2022-03-03T17:50:33.453Z"
   },
   {
    "duration": 206,
    "start_time": "2022-03-03T17:50:34.800Z"
   },
   {
    "duration": 15,
    "start_time": "2022-03-03T17:50:35.009Z"
   },
   {
    "duration": 188,
    "start_time": "2022-03-03T17:50:35.034Z"
   },
   {
    "duration": 14,
    "start_time": "2022-03-03T17:50:35.224Z"
   },
   {
    "duration": 129,
    "start_time": "2022-03-03T17:50:35.241Z"
   },
   {
    "duration": 12,
    "start_time": "2022-03-03T17:50:35.372Z"
   },
   {
    "duration": 19,
    "start_time": "2022-03-03T17:50:35.388Z"
   },
   {
    "duration": 29,
    "start_time": "2022-03-03T17:50:35.411Z"
   },
   {
    "duration": 44,
    "start_time": "2022-03-03T17:50:35.443Z"
   },
   {
    "duration": 15,
    "start_time": "2022-03-03T17:50:35.489Z"
   },
   {
    "duration": 71,
    "start_time": "2022-03-03T17:50:35.507Z"
   },
   {
    "duration": 12,
    "start_time": "2022-03-03T17:50:35.581Z"
   },
   {
    "duration": 57,
    "start_time": "2022-03-03T17:50:35.595Z"
   },
   {
    "duration": 22,
    "start_time": "2022-03-03T17:50:35.654Z"
   },
   {
    "duration": 6,
    "start_time": "2022-03-03T17:50:35.678Z"
   },
   {
    "duration": 51,
    "start_time": "2022-03-03T17:50:35.686Z"
   },
   {
    "duration": 440,
    "start_time": "2022-03-03T17:50:35.739Z"
   },
   {
    "duration": 16,
    "start_time": "2022-03-03T17:50:36.181Z"
   },
   {
    "duration": 32,
    "start_time": "2022-03-03T17:50:36.199Z"
   },
   {
    "duration": 62,
    "start_time": "2022-03-03T17:50:36.234Z"
   },
   {
    "duration": 422,
    "start_time": "2022-03-03T17:50:36.298Z"
   },
   {
    "duration": 16,
    "start_time": "2022-03-03T17:50:36.726Z"
   },
   {
    "duration": 31,
    "start_time": "2022-03-03T17:50:36.747Z"
   },
   {
    "duration": 17,
    "start_time": "2022-03-03T17:50:36.780Z"
   },
   {
    "duration": 56,
    "start_time": "2022-03-03T17:50:36.799Z"
   },
   {
    "duration": 16,
    "start_time": "2022-03-03T17:50:36.857Z"
   },
   {
    "duration": 434,
    "start_time": "2022-03-03T17:50:36.876Z"
   },
   {
    "duration": 32,
    "start_time": "2022-03-03T17:50:37.312Z"
   },
   {
    "duration": 35,
    "start_time": "2022-03-03T17:50:37.347Z"
   },
   {
    "duration": 57,
    "start_time": "2022-03-03T17:50:37.385Z"
   },
   {
    "duration": 516,
    "start_time": "2022-03-03T17:50:37.444Z"
   },
   {
    "duration": 27,
    "start_time": "2022-03-03T17:50:37.962Z"
   },
   {
    "duration": 41,
    "start_time": "2022-03-03T17:50:37.992Z"
   },
   {
    "duration": 5,
    "start_time": "2022-03-03T17:50:38.036Z"
   },
   {
    "duration": 13,
    "start_time": "2022-03-03T17:50:38.044Z"
   },
   {
    "duration": 16,
    "start_time": "2022-03-03T17:50:38.060Z"
   },
   {
    "duration": 18,
    "start_time": "2022-03-03T17:50:38.079Z"
   },
   {
    "duration": 35,
    "start_time": "2022-03-03T17:50:38.100Z"
   },
   {
    "duration": 12,
    "start_time": "2022-03-03T17:50:38.139Z"
   },
   {
    "duration": 10,
    "start_time": "2022-03-03T17:50:38.153Z"
   },
   {
    "duration": 419,
    "start_time": "2022-03-03T17:50:38.165Z"
   },
   {
    "duration": 10,
    "start_time": "2022-03-03T17:50:38.587Z"
   },
   {
    "duration": 50,
    "start_time": "2022-03-03T17:50:38.600Z"
   },
   {
    "duration": 12,
    "start_time": "2022-03-03T17:50:38.652Z"
   },
   {
    "duration": 29,
    "start_time": "2022-03-03T17:50:38.667Z"
   },
   {
    "duration": 69,
    "start_time": "2022-03-03T17:50:38.699Z"
   },
   {
    "duration": 4,
    "start_time": "2022-03-03T17:50:38.771Z"
   },
   {
    "duration": 18,
    "start_time": "2022-03-03T17:50:38.778Z"
   },
   {
    "duration": 49,
    "start_time": "2022-03-03T17:50:38.798Z"
   },
   {
    "duration": 26,
    "start_time": "2022-03-03T17:50:38.849Z"
   },
   {
    "duration": 4,
    "start_time": "2022-03-03T17:50:38.877Z"
   },
   {
    "duration": 12,
    "start_time": "2022-03-03T17:50:38.883Z"
   },
   {
    "duration": 47,
    "start_time": "2022-03-03T17:50:38.898Z"
   },
   {
    "duration": 33,
    "start_time": "2022-03-03T17:50:38.947Z"
   },
   {
    "duration": 3,
    "start_time": "2022-03-03T17:50:38.982Z"
   },
   {
    "duration": 7,
    "start_time": "2022-03-03T17:50:38.988Z"
   },
   {
    "duration": 35,
    "start_time": "2022-03-03T17:50:38.997Z"
   },
   {
    "duration": 13,
    "start_time": "2022-03-03T17:50:39.035Z"
   },
   {
    "duration": 26,
    "start_time": "2022-03-03T17:50:39.051Z"
   },
   {
    "duration": 21,
    "start_time": "2022-03-03T17:50:39.080Z"
   },
   {
    "duration": 13,
    "start_time": "2022-03-03T17:50:39.132Z"
   },
   {
    "duration": 23,
    "start_time": "2022-03-03T17:50:39.148Z"
   },
   {
    "duration": 6,
    "start_time": "2022-03-03T17:50:39.174Z"
   },
   {
    "duration": 57,
    "start_time": "2022-03-03T17:50:39.183Z"
   },
   {
    "duration": 7,
    "start_time": "2022-03-03T17:50:39.242Z"
   },
   {
    "duration": 212,
    "start_time": "2022-03-03T17:50:39.252Z"
   },
   {
    "duration": 26,
    "start_time": "2022-03-03T17:50:39.472Z"
   },
   {
    "duration": 93,
    "start_time": "2022-03-03T17:50:39.501Z"
   },
   {
    "duration": 2454,
    "start_time": "2022-03-03T17:50:39.597Z"
   },
   {
    "duration": 1136,
    "start_time": "2022-03-03T17:50:42.053Z"
   },
   {
    "duration": 8,
    "start_time": "2022-03-03T17:50:43.191Z"
   },
   {
    "duration": 11,
    "start_time": "2022-03-03T17:50:43.201Z"
   },
   {
    "duration": 27,
    "start_time": "2022-03-03T17:50:43.214Z"
   },
   {
    "duration": 9,
    "start_time": "2022-03-03T17:50:43.243Z"
   },
   {
    "duration": 9,
    "start_time": "2022-03-03T17:50:43.255Z"
   },
   {
    "duration": 11,
    "start_time": "2022-03-03T17:52:50.783Z"
   },
   {
    "duration": 1431,
    "start_time": "2022-03-03T17:53:57.013Z"
   },
   {
    "duration": 227,
    "start_time": "2022-03-03T17:53:58.448Z"
   },
   {
    "duration": 26,
    "start_time": "2022-03-03T17:53:58.680Z"
   },
   {
    "duration": 202,
    "start_time": "2022-03-03T17:53:58.710Z"
   },
   {
    "duration": 18,
    "start_time": "2022-03-03T17:53:58.914Z"
   },
   {
    "duration": 141,
    "start_time": "2022-03-03T17:53:58.935Z"
   },
   {
    "duration": 10,
    "start_time": "2022-03-03T17:53:59.078Z"
   },
   {
    "duration": 20,
    "start_time": "2022-03-03T17:53:59.090Z"
   },
   {
    "duration": 20,
    "start_time": "2022-03-03T17:53:59.114Z"
   },
   {
    "duration": 59,
    "start_time": "2022-03-03T17:53:59.138Z"
   },
   {
    "duration": 15,
    "start_time": "2022-03-03T17:53:59.199Z"
   },
   {
    "duration": 79,
    "start_time": "2022-03-03T17:53:59.216Z"
   },
   {
    "duration": 11,
    "start_time": "2022-03-03T17:53:59.297Z"
   },
   {
    "duration": 70,
    "start_time": "2022-03-03T17:53:59.310Z"
   },
   {
    "duration": 20,
    "start_time": "2022-03-03T17:53:59.382Z"
   },
   {
    "duration": 5,
    "start_time": "2022-03-03T17:53:59.404Z"
   },
   {
    "duration": 45,
    "start_time": "2022-03-03T17:53:59.411Z"
   },
   {
    "duration": 493,
    "start_time": "2022-03-03T17:53:59.458Z"
   },
   {
    "duration": 19,
    "start_time": "2022-03-03T17:53:59.954Z"
   },
   {
    "duration": 16,
    "start_time": "2022-03-03T17:53:59.976Z"
   },
   {
    "duration": 126,
    "start_time": "2022-03-03T17:53:59.995Z"
   },
   {
    "duration": 525,
    "start_time": "2022-03-03T17:54:00.132Z"
   },
   {
    "duration": 11,
    "start_time": "2022-03-03T17:54:00.660Z"
   },
   {
    "duration": 33,
    "start_time": "2022-03-03T17:54:00.674Z"
   },
   {
    "duration": 24,
    "start_time": "2022-03-03T17:54:00.735Z"
   },
   {
    "duration": 23,
    "start_time": "2022-03-03T17:54:00.763Z"
   },
   {
    "duration": 61,
    "start_time": "2022-03-03T17:54:00.793Z"
   },
   {
    "duration": 476,
    "start_time": "2022-03-03T17:54:00.858Z"
   },
   {
    "duration": 27,
    "start_time": "2022-03-03T17:54:01.337Z"
   },
   {
    "duration": 46,
    "start_time": "2022-03-03T17:54:01.366Z"
   },
   {
    "duration": 54,
    "start_time": "2022-03-03T17:54:01.414Z"
   },
   {
    "duration": 499,
    "start_time": "2022-03-03T17:54:01.470Z"
   },
   {
    "duration": 25,
    "start_time": "2022-03-03T17:54:01.971Z"
   },
   {
    "duration": 40,
    "start_time": "2022-03-03T17:54:01.999Z"
   },
   {
    "duration": 11,
    "start_time": "2022-03-03T17:54:02.042Z"
   },
   {
    "duration": 5,
    "start_time": "2022-03-03T17:54:02.057Z"
   },
   {
    "duration": 14,
    "start_time": "2022-03-03T17:54:02.064Z"
   },
   {
    "duration": 56,
    "start_time": "2022-03-03T17:54:02.081Z"
   },
   {
    "duration": 14,
    "start_time": "2022-03-03T17:54:02.140Z"
   },
   {
    "duration": 12,
    "start_time": "2022-03-03T17:54:02.157Z"
   },
   {
    "duration": 14,
    "start_time": "2022-03-03T17:54:02.172Z"
   },
   {
    "duration": 493,
    "start_time": "2022-03-03T17:54:02.188Z"
   },
   {
    "duration": 10,
    "start_time": "2022-03-03T17:54:02.685Z"
   },
   {
    "duration": 44,
    "start_time": "2022-03-03T17:54:02.698Z"
   },
   {
    "duration": 18,
    "start_time": "2022-03-03T17:54:02.744Z"
   },
   {
    "duration": 28,
    "start_time": "2022-03-03T17:54:02.765Z"
   },
   {
    "duration": 78,
    "start_time": "2022-03-03T17:54:02.795Z"
   },
   {
    "duration": 5,
    "start_time": "2022-03-03T17:54:02.876Z"
   },
   {
    "duration": 49,
    "start_time": "2022-03-03T17:54:02.884Z"
   },
   {
    "duration": 13,
    "start_time": "2022-03-03T17:54:02.936Z"
   },
   {
    "duration": 19,
    "start_time": "2022-03-03T17:55:05.667Z"
   },
   {
    "duration": 26,
    "start_time": "2022-03-03T17:55:05.689Z"
   },
   {
    "duration": 4,
    "start_time": "2022-03-03T17:55:05.719Z"
   },
   {
    "duration": 17,
    "start_time": "2022-03-03T17:55:05.726Z"
   },
   {
    "duration": 24,
    "start_time": "2022-03-03T17:55:05.746Z"
   },
   {
    "duration": 36,
    "start_time": "2022-03-03T17:55:05.773Z"
   },
   {
    "duration": 5,
    "start_time": "2022-03-03T17:55:05.834Z"
   },
   {
    "duration": 21,
    "start_time": "2022-03-03T17:55:05.842Z"
   },
   {
    "duration": 10,
    "start_time": "2022-03-03T17:55:05.867Z"
   },
   {
    "duration": 17,
    "start_time": "2022-03-03T17:55:05.881Z"
   },
   {
    "duration": 5,
    "start_time": "2022-03-03T18:03:14.041Z"
   },
   {
    "duration": 6,
    "start_time": "2022-03-03T18:03:24.146Z"
   },
   {
    "duration": 7,
    "start_time": "2022-03-03T18:03:33.831Z"
   },
   {
    "duration": 6,
    "start_time": "2022-03-03T18:03:41.945Z"
   },
   {
    "duration": 33,
    "start_time": "2022-03-03T18:04:08.022Z"
   },
   {
    "duration": 13,
    "start_time": "2022-03-03T18:04:16.240Z"
   },
   {
    "duration": 26,
    "start_time": "2022-03-03T18:06:33.600Z"
   },
   {
    "duration": 18,
    "start_time": "2022-03-03T18:06:35.745Z"
   },
   {
    "duration": 1494,
    "start_time": "2022-03-03T18:07:19.019Z"
   },
   {
    "duration": 311,
    "start_time": "2022-03-03T18:07:20.518Z"
   },
   {
    "duration": 23,
    "start_time": "2022-03-03T18:07:20.834Z"
   },
   {
    "duration": 290,
    "start_time": "2022-03-03T18:07:20.860Z"
   },
   {
    "duration": 16,
    "start_time": "2022-03-03T18:07:21.153Z"
   },
   {
    "duration": 182,
    "start_time": "2022-03-03T18:07:21.172Z"
   },
   {
    "duration": 13,
    "start_time": "2022-03-03T18:07:21.357Z"
   },
   {
    "duration": 22,
    "start_time": "2022-03-03T18:07:21.376Z"
   },
   {
    "duration": 34,
    "start_time": "2022-03-03T18:07:21.401Z"
   },
   {
    "duration": 36,
    "start_time": "2022-03-03T18:07:21.438Z"
   },
   {
    "duration": 21,
    "start_time": "2022-03-03T18:07:21.477Z"
   },
   {
    "duration": 81,
    "start_time": "2022-03-03T18:07:21.500Z"
   },
   {
    "duration": 15,
    "start_time": "2022-03-03T18:07:21.584Z"
   },
   {
    "duration": 83,
    "start_time": "2022-03-03T18:07:21.602Z"
   },
   {
    "duration": 24,
    "start_time": "2022-03-03T18:07:21.687Z"
   },
   {
    "duration": 6,
    "start_time": "2022-03-03T18:07:21.734Z"
   },
   {
    "duration": 27,
    "start_time": "2022-03-03T18:07:21.742Z"
   },
   {
    "duration": 447,
    "start_time": "2022-03-03T18:07:21.772Z"
   },
   {
    "duration": 26,
    "start_time": "2022-03-03T18:07:22.221Z"
   },
   {
    "duration": 15,
    "start_time": "2022-03-03T18:07:22.250Z"
   },
   {
    "duration": 95,
    "start_time": "2022-03-03T18:07:22.268Z"
   },
   {
    "duration": 428,
    "start_time": "2022-03-03T18:07:22.366Z"
   },
   {
    "duration": 13,
    "start_time": "2022-03-03T18:07:22.800Z"
   },
   {
    "duration": 50,
    "start_time": "2022-03-03T18:07:22.835Z"
   },
   {
    "duration": 46,
    "start_time": "2022-03-03T18:07:22.888Z"
   },
   {
    "duration": 26,
    "start_time": "2022-03-03T18:07:22.937Z"
   },
   {
    "duration": 18,
    "start_time": "2022-03-03T18:07:22.965Z"
   },
   {
    "duration": 468,
    "start_time": "2022-03-03T18:07:22.985Z"
   },
   {
    "duration": 18,
    "start_time": "2022-03-03T18:07:23.456Z"
   },
   {
    "duration": 61,
    "start_time": "2022-03-03T18:07:23.476Z"
   },
   {
    "duration": 31,
    "start_time": "2022-03-03T18:07:23.540Z"
   },
   {
    "duration": 465,
    "start_time": "2022-03-03T18:07:23.573Z"
   },
   {
    "duration": 26,
    "start_time": "2022-03-03T18:07:24.041Z"
   },
   {
    "duration": 21,
    "start_time": "2022-03-03T18:07:24.070Z"
   },
   {
    "duration": 6,
    "start_time": "2022-03-03T18:07:24.094Z"
   },
   {
    "duration": 6,
    "start_time": "2022-03-03T18:07:24.134Z"
   },
   {
    "duration": 13,
    "start_time": "2022-03-03T18:07:24.143Z"
   },
   {
    "duration": 23,
    "start_time": "2022-03-03T18:07:24.159Z"
   },
   {
    "duration": 12,
    "start_time": "2022-03-03T18:07:24.185Z"
   },
   {
    "duration": 13,
    "start_time": "2022-03-03T18:07:24.234Z"
   },
   {
    "duration": 13,
    "start_time": "2022-03-03T18:07:24.249Z"
   },
   {
    "duration": 640,
    "start_time": "2022-03-03T18:07:24.265Z"
   },
   {
    "duration": 7,
    "start_time": "2022-03-03T18:07:24.908Z"
   },
   {
    "duration": 25,
    "start_time": "2022-03-03T18:07:24.933Z"
   },
   {
    "duration": 15,
    "start_time": "2022-03-03T18:07:24.961Z"
   },
   {
    "duration": 71,
    "start_time": "2022-03-03T18:07:24.979Z"
   },
   {
    "duration": 58,
    "start_time": "2022-03-03T18:07:25.053Z"
   },
   {
    "duration": 4,
    "start_time": "2022-03-03T18:07:25.115Z"
   },
   {
    "duration": 13,
    "start_time": "2022-03-03T18:07:25.137Z"
   },
   {
    "duration": 12,
    "start_time": "2022-03-03T18:07:25.153Z"
   },
   {
    "duration": 20,
    "start_time": "2022-03-03T18:07:25.167Z"
   },
   {
    "duration": 58,
    "start_time": "2022-03-03T18:07:25.189Z"
   },
   {
    "duration": 4,
    "start_time": "2022-03-03T18:07:25.250Z"
   },
   {
    "duration": 15,
    "start_time": "2022-03-03T18:07:25.257Z"
   },
   {
    "duration": 20,
    "start_time": "2022-03-03T18:07:25.274Z"
   },
   {
    "duration": 34,
    "start_time": "2022-03-03T18:07:25.332Z"
   },
   {
    "duration": 4,
    "start_time": "2022-03-03T18:07:25.368Z"
   },
   {
    "duration": 11,
    "start_time": "2022-03-03T18:07:25.375Z"
   },
   {
    "duration": 7,
    "start_time": "2022-03-03T18:07:25.389Z"
   },
   {
    "duration": 39,
    "start_time": "2022-03-03T18:07:25.399Z"
   },
   {
    "duration": 37,
    "start_time": "2022-03-03T18:07:25.441Z"
   },
   {
    "duration": 31,
    "start_time": "2022-03-03T18:08:30.006Z"
   },
   {
    "duration": 15,
    "start_time": "2022-03-03T18:08:31.974Z"
   },
   {
    "duration": 25,
    "start_time": "2022-03-03T18:10:38.629Z"
   },
   {
    "duration": 5,
    "start_time": "2022-03-03T18:11:26.117Z"
   },
   {
    "duration": 23,
    "start_time": "2022-03-03T18:12:34.177Z"
   },
   {
    "duration": 24,
    "start_time": "2022-03-03T18:12:57.905Z"
   },
   {
    "duration": 52,
    "start_time": "2022-03-03T18:14:27.626Z"
   },
   {
    "duration": 8,
    "start_time": "2022-03-03T18:14:44.250Z"
   },
   {
    "duration": 16,
    "start_time": "2022-03-03T18:15:11.032Z"
   },
   {
    "duration": 21,
    "start_time": "2022-03-03T18:15:15.578Z"
   },
   {
    "duration": 8,
    "start_time": "2022-03-03T18:15:20.760Z"
   },
   {
    "duration": 7,
    "start_time": "2022-03-03T18:15:44.188Z"
   },
   {
    "duration": 108,
    "start_time": "2022-03-03T18:16:38.670Z"
   },
   {
    "duration": 9,
    "start_time": "2022-03-03T18:18:33.199Z"
   },
   {
    "duration": 12,
    "start_time": "2022-03-03T18:18:43.377Z"
   },
   {
    "duration": 10910,
    "start_time": "2022-03-03T18:19:55.888Z"
   },
   {
    "duration": 9148,
    "start_time": "2022-03-03T18:20:30.074Z"
   },
   {
    "duration": 6,
    "start_time": "2022-03-03T18:20:43.199Z"
   },
   {
    "duration": 11,
    "start_time": "2022-03-03T18:20:44.419Z"
   },
   {
    "duration": 8,
    "start_time": "2022-03-03T18:21:22.481Z"
   },
   {
    "duration": 9,
    "start_time": "2022-03-03T18:21:27.282Z"
   },
   {
    "duration": 25,
    "start_time": "2022-03-03T18:22:09.397Z"
   },
   {
    "duration": 8,
    "start_time": "2022-03-03T18:22:38.315Z"
   },
   {
    "duration": 9,
    "start_time": "2022-03-03T18:23:28.757Z"
   },
   {
    "duration": 103,
    "start_time": "2022-03-03T18:25:03.038Z"
   },
   {
    "duration": 122,
    "start_time": "2022-03-03T18:25:27.573Z"
   },
   {
    "duration": 129,
    "start_time": "2022-03-03T18:25:36.743Z"
   },
   {
    "duration": 101,
    "start_time": "2022-03-03T18:25:53.660Z"
   },
   {
    "duration": 108,
    "start_time": "2022-03-03T18:25:58.576Z"
   },
   {
    "duration": 10,
    "start_time": "2022-03-03T18:26:17.916Z"
   },
   {
    "duration": 10,
    "start_time": "2022-03-03T18:26:38.872Z"
   },
   {
    "duration": 4,
    "start_time": "2022-03-03T18:27:22.827Z"
   },
   {
    "duration": 14,
    "start_time": "2022-03-03T18:27:27.931Z"
   },
   {
    "duration": 1509,
    "start_time": "2022-03-03T18:40:56.926Z"
   },
   {
    "duration": 244,
    "start_time": "2022-03-03T18:40:58.437Z"
   },
   {
    "duration": 16,
    "start_time": "2022-03-03T18:40:58.685Z"
   },
   {
    "duration": 219,
    "start_time": "2022-03-03T18:40:58.704Z"
   },
   {
    "duration": 18,
    "start_time": "2022-03-03T18:40:58.925Z"
   },
   {
    "duration": 169,
    "start_time": "2022-03-03T18:40:58.946Z"
   },
   {
    "duration": 17,
    "start_time": "2022-03-03T18:40:59.118Z"
   },
   {
    "duration": 28,
    "start_time": "2022-03-03T18:40:59.140Z"
   },
   {
    "duration": 19,
    "start_time": "2022-03-03T18:40:59.173Z"
   },
   {
    "duration": 35,
    "start_time": "2022-03-03T18:40:59.195Z"
   },
   {
    "duration": 19,
    "start_time": "2022-03-03T18:40:59.233Z"
   },
   {
    "duration": 127,
    "start_time": "2022-03-03T18:40:59.255Z"
   },
   {
    "duration": 16,
    "start_time": "2022-03-03T18:40:59.385Z"
   },
   {
    "duration": 69,
    "start_time": "2022-03-03T18:40:59.404Z"
   },
   {
    "duration": 22,
    "start_time": "2022-03-03T18:40:59.475Z"
   },
   {
    "duration": 5,
    "start_time": "2022-03-03T18:40:59.499Z"
   },
   {
    "duration": 23,
    "start_time": "2022-03-03T18:40:59.535Z"
   },
   {
    "duration": 473,
    "start_time": "2022-03-03T18:40:59.561Z"
   },
   {
    "duration": 20,
    "start_time": "2022-03-03T18:41:00.036Z"
   },
   {
    "duration": 19,
    "start_time": "2022-03-03T18:41:00.059Z"
   },
   {
    "duration": 102,
    "start_time": "2022-03-03T18:41:00.080Z"
   },
   {
    "duration": 497,
    "start_time": "2022-03-03T18:41:00.186Z"
   },
   {
    "duration": 16,
    "start_time": "2022-03-03T18:41:00.691Z"
   },
   {
    "duration": 47,
    "start_time": "2022-03-03T18:41:00.736Z"
   },
   {
    "duration": 18,
    "start_time": "2022-03-03T18:41:00.786Z"
   },
   {
    "duration": 56,
    "start_time": "2022-03-03T18:41:00.806Z"
   },
   {
    "duration": 25,
    "start_time": "2022-03-03T18:41:00.866Z"
   },
   {
    "duration": 466,
    "start_time": "2022-03-03T18:41:00.894Z"
   },
   {
    "duration": 26,
    "start_time": "2022-03-03T18:41:01.364Z"
   },
   {
    "duration": 75,
    "start_time": "2022-03-03T18:41:01.393Z"
   },
   {
    "duration": 44,
    "start_time": "2022-03-03T18:41:01.472Z"
   },
   {
    "duration": 611,
    "start_time": "2022-03-03T18:41:01.537Z"
   },
   {
    "duration": 40,
    "start_time": "2022-03-03T18:41:02.153Z"
   },
   {
    "duration": 43,
    "start_time": "2022-03-03T18:41:02.196Z"
   },
   {
    "duration": 11,
    "start_time": "2022-03-03T18:41:02.243Z"
   },
   {
    "duration": 15,
    "start_time": "2022-03-03T18:41:02.259Z"
   },
   {
    "duration": 33,
    "start_time": "2022-03-03T18:41:02.277Z"
   },
   {
    "duration": 20,
    "start_time": "2022-03-03T18:41:02.312Z"
   },
   {
    "duration": 21,
    "start_time": "2022-03-03T18:41:02.337Z"
   },
   {
    "duration": 13,
    "start_time": "2022-03-03T18:41:02.361Z"
   },
   {
    "duration": 12,
    "start_time": "2022-03-03T18:41:02.377Z"
   },
   {
    "duration": 462,
    "start_time": "2022-03-03T18:41:02.391Z"
   },
   {
    "duration": 8,
    "start_time": "2022-03-03T18:41:02.857Z"
   },
   {
    "duration": 30,
    "start_time": "2022-03-03T18:41:02.867Z"
   },
   {
    "duration": 49,
    "start_time": "2022-03-03T18:41:02.899Z"
   },
   {
    "duration": 30,
    "start_time": "2022-03-03T18:41:02.950Z"
   },
   {
    "duration": 70,
    "start_time": "2022-03-03T18:41:02.983Z"
   },
   {
    "duration": 4,
    "start_time": "2022-03-03T18:41:03.055Z"
   },
   {
    "duration": 14,
    "start_time": "2022-03-03T18:41:03.062Z"
   },
   {
    "duration": 10,
    "start_time": "2022-03-03T18:41:03.078Z"
   },
   {
    "duration": 62,
    "start_time": "2022-03-03T18:41:03.091Z"
   },
   {
    "duration": 24,
    "start_time": "2022-03-03T18:41:03.156Z"
   },
   {
    "duration": 4,
    "start_time": "2022-03-03T18:41:03.182Z"
   },
   {
    "duration": 12,
    "start_time": "2022-03-03T18:41:03.188Z"
   },
   {
    "duration": 42,
    "start_time": "2022-03-03T18:41:03.202Z"
   },
   {
    "duration": 35,
    "start_time": "2022-03-03T18:41:03.247Z"
   },
   {
    "duration": 3,
    "start_time": "2022-03-03T18:41:03.285Z"
   },
   {
    "duration": 7,
    "start_time": "2022-03-03T18:41:03.291Z"
   },
   {
    "duration": 34,
    "start_time": "2022-03-03T18:41:03.300Z"
   },
   {
    "duration": 20,
    "start_time": "2022-03-03T18:41:03.339Z"
   },
   {
    "duration": 27,
    "start_time": "2022-03-03T18:41:03.361Z"
   },
   {
    "duration": 57,
    "start_time": "2022-03-03T18:41:03.391Z"
   },
   {
    "duration": 12,
    "start_time": "2022-03-03T18:41:03.451Z"
   },
   {
    "duration": 22,
    "start_time": "2022-03-03T18:41:03.465Z"
   },
   {
    "duration": 4,
    "start_time": "2022-03-03T18:41:03.490Z"
   },
   {
    "duration": 57,
    "start_time": "2022-03-03T18:41:03.497Z"
   },
   {
    "duration": 10,
    "start_time": "2022-03-03T18:41:03.557Z"
   },
   {
    "duration": 6,
    "start_time": "2022-03-03T18:41:03.575Z"
   },
   {
    "duration": 52,
    "start_time": "2022-03-03T18:41:03.584Z"
   },
   {
    "duration": 13,
    "start_time": "2022-03-03T18:41:03.638Z"
   },
   {
    "duration": 6,
    "start_time": "2022-03-03T18:41:03.653Z"
   },
   {
    "duration": 14,
    "start_time": "2022-03-03T18:41:03.662Z"
   },
   {
    "duration": 13,
    "start_time": "2022-03-03T18:41:03.679Z"
   },
   {
    "duration": 15,
    "start_time": "2022-03-03T18:41:03.733Z"
   },
   {
    "duration": 254,
    "start_time": "2022-03-03T18:41:03.751Z"
   },
   {
    "duration": 33,
    "start_time": "2022-03-03T18:41:04.008Z"
   },
   {
    "duration": 68,
    "start_time": "2022-03-03T18:41:04.044Z"
   },
   {
    "duration": 2897,
    "start_time": "2022-03-03T18:41:04.115Z"
   },
   {
    "duration": 1531,
    "start_time": "2022-03-03T18:41:07.015Z"
   },
   {
    "duration": 8,
    "start_time": "2022-03-03T18:41:08.548Z"
   },
   {
    "duration": 10,
    "start_time": "2022-03-03T18:41:08.559Z"
   },
   {
    "duration": 7,
    "start_time": "2022-03-03T18:41:08.571Z"
   },
   {
    "duration": 60,
    "start_time": "2022-03-03T18:41:08.580Z"
   },
   {
    "duration": 16,
    "start_time": "2022-03-03T18:41:08.643Z"
   },
   {
    "duration": 683,
    "start_time": "2022-03-03T19:10:44.499Z"
   },
   {
    "duration": 1047,
    "start_time": "2022-03-03T19:12:04.216Z"
   },
   {
    "duration": 880,
    "start_time": "2022-03-03T19:12:20.378Z"
   },
   {
    "duration": 937,
    "start_time": "2022-03-03T19:12:33.999Z"
   },
   {
    "duration": 1173,
    "start_time": "2022-03-03T19:12:44.036Z"
   },
   {
    "duration": 1187,
    "start_time": "2022-03-03T19:13:08.337Z"
   },
   {
    "duration": 1429,
    "start_time": "2022-03-03T19:13:17.220Z"
   },
   {
    "duration": 844,
    "start_time": "2022-03-03T19:13:22.673Z"
   },
   {
    "duration": 1009,
    "start_time": "2022-03-03T19:13:27.137Z"
   },
   {
    "duration": 98,
    "start_time": "2022-03-03T19:15:15.334Z"
   },
   {
    "duration": 985,
    "start_time": "2022-03-03T19:15:19.204Z"
   },
   {
    "duration": 953,
    "start_time": "2022-03-03T19:15:41.148Z"
   },
   {
    "duration": 1115,
    "start_time": "2022-03-03T19:15:52.057Z"
   },
   {
    "duration": 123,
    "start_time": "2022-03-03T19:16:35.388Z"
   },
   {
    "duration": 1446,
    "start_time": "2022-03-03T19:16:41.790Z"
   },
   {
    "duration": 1622,
    "start_time": "2022-03-03T19:17:09.478Z"
   },
   {
    "duration": 2174,
    "start_time": "2022-03-03T19:19:02.280Z"
   },
   {
    "duration": 2469,
    "start_time": "2022-03-03T19:19:06.186Z"
   },
   {
    "duration": 2005,
    "start_time": "2022-03-03T19:19:30.276Z"
   },
   {
    "duration": 1919,
    "start_time": "2022-03-03T19:19:55.966Z"
   },
   {
    "duration": 2065,
    "start_time": "2022-03-03T19:20:20.318Z"
   },
   {
    "duration": 2263,
    "start_time": "2022-03-03T19:20:27.643Z"
   },
   {
    "duration": 2211,
    "start_time": "2022-03-03T19:20:43.950Z"
   },
   {
    "duration": 2192,
    "start_time": "2022-03-03T19:20:50.880Z"
   },
   {
    "duration": 2404,
    "start_time": "2022-03-03T19:21:23.623Z"
   },
   {
    "duration": 2132,
    "start_time": "2022-03-03T19:21:36.805Z"
   },
   {
    "duration": 2147,
    "start_time": "2022-03-03T19:21:57.100Z"
   },
   {
    "duration": 2077,
    "start_time": "2022-03-03T19:22:05.841Z"
   },
   {
    "duration": 928,
    "start_time": "2022-03-03T19:23:31.509Z"
   },
   {
    "duration": 1307,
    "start_time": "2022-03-03T19:23:41.480Z"
   },
   {
    "duration": 1161,
    "start_time": "2022-03-03T19:23:51.612Z"
   },
   {
    "duration": 1235,
    "start_time": "2022-03-03T19:23:57.287Z"
   },
   {
    "duration": 1033,
    "start_time": "2022-03-03T19:24:03.438Z"
   },
   {
    "duration": 997,
    "start_time": "2022-03-03T19:24:11.093Z"
   },
   {
    "duration": 1031,
    "start_time": "2022-03-03T19:24:17.408Z"
   }
  ],
  "kernelspec": {
   "display_name": "Python 3 (ipykernel)",
   "language": "python",
   "name": "python3"
  },
  "language_info": {
   "codemirror_mode": {
    "name": "ipython",
    "version": 3
   },
   "file_extension": ".py",
   "mimetype": "text/x-python",
   "name": "python",
   "nbconvert_exporter": "python",
   "pygments_lexer": "ipython3",
   "version": "3.9.7"
  },
  "toc": {
   "base_numbering": 1,
   "nav_menu": {},
   "number_sections": false,
   "sideBar": true,
   "skip_h1_title": false,
   "title_cell": "Table of Contents",
   "title_sidebar": "Contents",
   "toc_cell": false,
   "toc_position": {
    "height": "calc(100% - 180px)",
    "left": "10px",
    "top": "150px",
    "width": "165px"
   },
   "toc_section_display": true,
   "toc_window_display": true
  }
 },
 "nbformat": 4,
 "nbformat_minor": 2
}
